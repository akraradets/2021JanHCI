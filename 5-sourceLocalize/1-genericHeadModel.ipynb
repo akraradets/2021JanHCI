{
 "cells": [
  {
   "cell_type": "code",
   "execution_count": 2,
   "metadata": {},
   "outputs": [
    {
     "name": "stdout",
     "output_type": "stream",
     "text": [
      "Using notebook 3d backend.\n",
      "\n"
     ]
    }
   ],
   "source": [
    "import pandas\n",
    "import numpy as np\n",
    "from utils import *\n",
    "import mne\n",
    "import matplotlib.pyplot as plt\n",
    "from os import walk\n",
    "# from sklearn.decomposition import FastICA\n",
    "# from sklearn.naive_bayes import GaussianNB, MultinomialNB\n",
    "# from sklearn.model_selection import cross_val_score\n",
    "from itertools import combinations\n",
    "# from sklearn.preprocessing import normalize\n",
    "# from sklearn.utils import shuffle\n",
    "import pickle\n",
    "\n",
    "from multiprocessing import Pool\n",
    "plt.style.use('seaborn-whitegrid')\n",
    "mne.viz.set_3d_backend(\"notebook\")"
   ]
  },
  {
   "cell_type": "markdown",
   "metadata": {},
   "source": [
    "# GroudTruth"
   ]
  },
  {
   "cell_type": "code",
   "execution_count": 3,
   "metadata": {},
   "outputs": [
    {
     "data": {
      "image/png": "[encoded data removed]",
      "text/plain": [
       "<Figure size 432x288 with 1 Axes>"
      ]
     },
     "metadata": {},
     "output_type": "display_data"
    }
   ],
   "source": [
    "gt = load_groudtruth('./HEXACO.csv')\n",
    "fig, ax = plt.subplots()\n",
    "ax.bar(['H','E','X','A','C','O'],[ sum(gt['lh']), sum(gt['le']), sum(gt['lx']), sum(gt['la']), sum(gt['lc']), sum(gt['lo'])  ])\n",
    "ax.set_title(\"Distribution of Labels\")\n",
    "ax.set_xlabel(\"Labels\")\n",
    "# ax.set_ylabel(\"Distribution of Labels\")\n",
    "plt.show()"
   ]
  },
  {
   "cell_type": "markdown",
   "metadata": {},
   "source": [
    "# Load DATA"
   ]
  },
  {
   "cell_type": "code",
   "execution_count": 4,
   "metadata": {},
   "outputs": [
    {
     "name": "stdout",
     "output_type": "stream",
     "text": [
      "Load data from cache\n"
     ]
    }
   ],
   "source": [
    "# clear_cache()\n",
    "try:\n",
    "    # Load from cache\n",
    "    EEG_audio = load('EEG_audio')\n",
    "    EEG_image = load('EEG_image')\n",
    "    print('Load data from cache')\n",
    "    if( set(EEG_audio.keys()) != set(EEG_image.keys()) ):\n",
    "        extra = None\n",
    "        if(len(EEG_audio.keys()) > len(EEG_image.keys())):\n",
    "            extra = set(EEG_audio.keys()).difference( set(EEG_image.keys()) )\n",
    "        else:\n",
    "            extra = set(EEG_image.keys()).difference( set(EEG_audio.keys()) )\n",
    "        raise ValueError(f\"In equal keys. audio has {len(EEG_audio.keys())} and image has {len(EEG_image.keys())}. The extra key is {extra}\")\n",
    "\n",
    "except FileNotFoundError as e:\n",
    "    EEG_audio, EEG_image = load_data(path='./data',exclude_list=[11,36])\n",
    "    # Save to cache\n",
    "    save(EEG_audio, 'EEG_audio')\n",
    "    save(EEG_image, 'EEG_image')\n"
   ]
  },
  {
   "cell_type": "markdown",
   "metadata": {},
   "source": [
    "# Generic Head Model"
   ]
  },
  {
   "cell_type": "code",
   "execution_count": 5,
   "metadata": {},
   "outputs": [],
   "source": [
    "def get_head_model():\n",
    "    import os.path as op\n",
    "    from mne.datasets import fetch_fsaverage\n",
    "\n",
    "    # Download fsaverage files\n",
    "    fs_dir = fetch_fsaverage('/home/akrarads/mne_data/MNE-fsaverage-data', verbose=True)\n",
    "    # fs_dir = fetch_fsaverage(verbose=True)\n",
    "    # subjects_dir = op.dirname(fs_dir)\n",
    "\n",
    "    # The files live in:\n",
    "    # subject = 'fsaverage'\n",
    "    trans = 'fsaverage'  # MNE has a built-in fsaverage transformation\n",
    "    src = op.join(fs_dir, 'bem', 'fsaverage-ico-5-src.fif')\n",
    "    bem = op.join(fs_dir, 'bem', 'fsaverage-5120-5120-5120-bem-sol.fif')\n",
    "    return trans, src, bem\n",
    "\n",
    "def get_forward(info):\n",
    "\n",
    "    # trans, src, bem = get_head_model()\n",
    "    # fwd = mne.make_forward_solution(info, trans=trans, src=src,\n",
    "    #                             bem=bem, eeg=True, mindist=5.0, n_jobs=1)\n",
    "    forward_path = os.path.join('../Localize-MI', 'derivatives', 'sourcemodelling', 'sub-07', 'fwd', '%s_fwd.fif' % 'sub-07')\n",
    "    # print(f\"forward_path = {forward_path}\")\n",
    "    fwd = mne.read_forward_solution(forward_path)\n",
    "\n",
    "    return fwd\n",
    "\n",
    "def get_raw(df,sfreq, name):\n",
    "    try:\n",
    "        # Load from cache\n",
    "        raw = load(name)\n",
    "        print('Load data from cache')\n",
    "    except FileNotFoundError as e:\n",
    "        raw = dataframe_to_raw(df, sfreq=sfreq)\n",
    "        #### Preprocess\n",
    "        # High-pass at 0.1 Hz with  FIR filter; zero phase; Hamming Window; Auto select length and Bandwidth\n",
    "        raw.filter(l_freq=0.1,h_freq=None,method='fir',phase='zero',fir_window='hamming') # Slow drift\n",
    "        # Notch Filter at 50,100,150,200 Hz with FIR filter; zero phase; Hamming Window, Bandwidth = 0.1; auto length selection\n",
    "        raw.notch_filter(freqs=[50,100],method='fir', phase='zero', fir_window='hamming',trans_bandwidth=0.1, filter_length='auto') # Line power\n",
    "    return raw"
   ]
  },
  {
   "cell_type": "code",
   "execution_count": 6,
   "metadata": {},
   "outputs": [
    {
     "name": "stdout",
     "output_type": "stream",
     "text": [
      "Load data from cache\n"
     ]
    }
   ],
   "source": [
    "try:\n",
    "    # Load from cache\n",
    "    fwd = load('fwd')\n",
    "    print('Load data from cache')\n",
    "except FileNotFoundError as e:\n",
    "    with get_raw(df=EEG_image[33],sfreq=250,name='image_33') as raw:\n",
    "        fwd = get_forward(raw.info)\n",
    "    # Save to cache\n",
    "    save(fwd, 'fwd')"
   ]
  },
  {
   "cell_type": "markdown",
   "metadata": {},
   "source": [
    "# Processing"
   ]
  },
  {
   "cell_type": "code",
   "execution_count": 7,
   "metadata": {},
   "outputs": [],
   "source": [
    "verbose = False"
   ]
  },
  {
   "cell_type": "code",
   "execution_count": 8,
   "metadata": {},
   "outputs": [],
   "source": [
    "# tmin, tmax, baseline = (0.0, 6.0, (0.0, 1.0))\n",
    "# raw = get_raw(df=EEG_image[33],sfreq=250,name='image_33')\n",
    "# events = mne.find_events(raw, stim_channel='Marker', initial_event=True, verbose=verbose, uint_cast=False)\n",
    "# # Convert 421 -> 4\n",
    "# for row in events:\n",
    "#     row[2] = int(str(row[2])[0])\n",
    "# epochs = mne.Epochs(raw, events, tmin=tmin, tmax=tmax, baseline=baseline, verbose=verbose, preload=True)\n",
    "# epochs.set_eeg_reference(ref_channels='average',projection=True,verbose=verbose)\n",
    "# cov = mne.compute_covariance(epochs, method='auto', verbose=verbose)\n",
    "# inv = mne.minimum_norm.make_inverse_operator(raw.info, fwd, cov, loose=1, depth=0.1, verbose=verbose)\n",
    "# snr = 1\n",
    "# lambda2 = 1. / snr ** 2\n",
    "# stc = mne.minimum_norm.apply_inverse(epochs.average(), inv, method='eLORETA', lambda2=lambda2, verbose=verbose)\n",
    "# power,freq = mne.time_frequency.psd_array_welch(stc.data,sfreq=250,n_fft=128, verbose=verbose)\n"
   ]
  },
  {
   "cell_type": "code",
   "execution_count": 9,
   "metadata": {},
   "outputs": [],
   "source": [
    "# stc.shape"
   ]
  },
  {
   "cell_type": "code",
   "execution_count": 10,
   "metadata": {},
   "outputs": [],
   "source": [
    "# stc = stc.data"
   ]
  },
  {
   "cell_type": "code",
   "execution_count": 11,
   "metadata": {},
   "outputs": [],
   "source": [
    "# scale = 2\n",
    "# reduc = np.expand_dims(stc[0:569*scale].mean(axis=0), axis=0)\n",
    "# for i in range(1,36//scale):\n",
    "#     temp = np.expand_dims(stc[i*569*scale : (i+1)*569*scale].mean(axis=0), axis=0)\n",
    "#     reduc = np.concatenate([reduc,temp], axis=0)\n",
    "\n",
    "# print(reduc.shape)"
   ]
  },
  {
   "cell_type": "code",
   "execution_count": 12,
   "metadata": {},
   "outputs": [],
   "source": [
    "def build_data(p_num, EEG, ids):\n",
    "    import warnings, sys, os, time\n",
    "    warnings.filterwarnings(\"ignore\")\n",
    "    X = None\n",
    "    Y = None\n",
    "    E = None\n",
    "    tmin, tmax, baseline = (0.0, 6.0, (0.0, 1.0))\n",
    "    t_start, t_stop = 0,0\n",
    "    for index, id in enumerate(ids):\n",
    "        print(f\"p_no={p_num}|index={index}|id={id}|duration={t_stop-t_start}\")\n",
    "        t_start = time.time()\n",
    "        raw = get_raw(df=EEG[id],sfreq=250,name=f\"image_{id}\")\n",
    "        events = mne.find_events(raw, stim_channel='Marker', initial_event=True, verbose=verbose, uint_cast=False)\n",
    "        # Convert 421 -> 4\n",
    "        for row in events:\n",
    "            row[2] = int(str(row[2])[0])\n",
    "        epochs = mne.Epochs(raw, events, tmin=tmin, tmax=tmax, baseline=baseline, verbose=verbose, preload=True)\n",
    "        epochs.set_eeg_reference(ref_channels='average',projection=True,verbose=verbose)\n",
    "        del(events)\n",
    "        try:\n",
    "            cov = load(f'cov_{id}')\n",
    "            inv = load(f'inv_{id}')\n",
    "        except FileNotFoundError as e:\n",
    "            cov = mne.compute_covariance(epochs, method='auto', verbose=verbose)\n",
    "            inv = mne.minimum_norm.make_inverse_operator(raw.info, fwd, cov, loose=1, depth=0.1, verbose=verbose)\n",
    "            save(cov,f'cov_{id}')\n",
    "            save(inv,f'inv_{id}')\n",
    "        snr = 1\n",
    "        lambda2 = 1. / snr ** 2\n",
    "        for inner_index, evoked in enumerate(epochs.iter_evoked()):\n",
    "            # stc.shape => channels, time\n",
    "            stc = mne.minimum_norm.apply_inverse(evoked, inv, method='eLORETA', lambda2=lambda2, verbose=verbose).data\n",
    "            # scale = 2\n",
    "            # reduc = np.expand_dims(stc[0:569*scale].mean(axis=0), axis=0)\n",
    "            # for i in range(1,36//scale):\n",
    "            #     temp = np.expand_dims(stc[i*569*scale : (i+1)*569*scale].mean(axis=0), axis=0)\n",
    "            #     reduc = np.concatenate([reduc,temp], axis=0)\n",
    "            # power,freq = mne.time_frequency.psd_array_welch(stc,sfreq=250,n_fft=128, verbose=verbose)\n",
    "            row = stc\n",
    "            row = np.expand_dims(row, axis=0)\n",
    "            # row = 10 * np.log10(row)\n",
    "            if(type(X) == type(None)): X = row\n",
    "            else: X = np.concatenate( [X, row ], axis=0 )\n",
    "\n",
    "            label = gt.loc[id][['lh','le','lx','la','lc','lo']].to_numpy()\n",
    "            label = np.expand_dims(label, axis=0)\n",
    "            if(type(Y) == type(None)): Y = label\n",
    "            else: Y = np.concatenate( [Y, label ], axis=0 )\n",
    "\n",
    "        if(type(E) == type(None)): E = events\n",
    "        else: E = np.concatenate( [E, events ], axis=0 )\n",
    "        t_stop = time.time()\n",
    "\n",
    "    print(f\"{p_num} done| {ids}\")\n",
    "    return np.array(X),np.array(Y),freq,E\n"
   ]
  },
  {
   "cell_type": "code",
   "execution_count": 13,
   "metadata": {},
   "outputs": [
    {
     "name": "stdout",
     "output_type": "stream",
     "text": [
      "p_no=1|index=0|id=10|duration=0\n",
      "========= close ========\n"
     ]
    },
    {
     "ename": "KeyboardInterrupt",
     "evalue": "",
     "output_type": "error",
     "traceback": [
      "\u001b[0;31m---------------------------------------------------------------------------\u001b[0m",
      "\u001b[0;31mKeyboardInterrupt\u001b[0m                         Traceback (most recent call last)",
      "\u001b[0;32m<ipython-input-13-dcfdde9b9281>\u001b[0m in \u001b[0;36m<module>\u001b[0;34m\u001b[0m\n\u001b[1;32m     10\u001b[0m     \u001b[0;31m# p5 = pool.apply_async(build_data, [5,EEG_image,ids[4::6]])\u001b[0m\u001b[0;34m\u001b[0m\u001b[0;34m\u001b[0m\u001b[0;34m\u001b[0m\u001b[0m\n\u001b[1;32m     11\u001b[0m     \u001b[0;31m# p6 = pool.apply_async(build_data, [6,EEG_image,ids[5::6]])\u001b[0m\u001b[0;34m\u001b[0m\u001b[0;34m\u001b[0m\u001b[0;34m\u001b[0m\u001b[0m\n\u001b[0;32m---> 12\u001b[0;31m     \u001b[0mans1\u001b[0m \u001b[0;34m=\u001b[0m \u001b[0mp1\u001b[0m\u001b[0;34m.\u001b[0m\u001b[0mget\u001b[0m\u001b[0;34m(\u001b[0m\u001b[0mtimeout\u001b[0m\u001b[0;34m=\u001b[0m\u001b[0mt_out\u001b[0m\u001b[0;34m)\u001b[0m\u001b[0;34m\u001b[0m\u001b[0;34m\u001b[0m\u001b[0m\n\u001b[0m\u001b[1;32m     13\u001b[0m     \u001b[0;31m# ans2 = p2.get(timeout=t_out)\u001b[0m\u001b[0;34m\u001b[0m\u001b[0;34m\u001b[0m\u001b[0;34m\u001b[0m\u001b[0m\n\u001b[1;32m     14\u001b[0m     \u001b[0;31m# ans3 = p3.get(timeout=t_out)\u001b[0m\u001b[0;34m\u001b[0m\u001b[0;34m\u001b[0m\u001b[0;34m\u001b[0m\u001b[0m\n",
      "\u001b[0;32m/usr/lib/python3.8/multiprocessing/pool.py\u001b[0m in \u001b[0;36mget\u001b[0;34m(self, timeout)\u001b[0m\n\u001b[1;32m    763\u001b[0m \u001b[0;34m\u001b[0m\u001b[0m\n\u001b[1;32m    764\u001b[0m     \u001b[0;32mdef\u001b[0m \u001b[0mget\u001b[0m\u001b[0;34m(\u001b[0m\u001b[0mself\u001b[0m\u001b[0;34m,\u001b[0m \u001b[0mtimeout\u001b[0m\u001b[0;34m=\u001b[0m\u001b[0;32mNone\u001b[0m\u001b[0;34m)\u001b[0m\u001b[0;34m:\u001b[0m\u001b[0;34m\u001b[0m\u001b[0;34m\u001b[0m\u001b[0m\n\u001b[0;32m--> 765\u001b[0;31m         \u001b[0mself\u001b[0m\u001b[0;34m.\u001b[0m\u001b[0mwait\u001b[0m\u001b[0;34m(\u001b[0m\u001b[0mtimeout\u001b[0m\u001b[0;34m)\u001b[0m\u001b[0;34m\u001b[0m\u001b[0;34m\u001b[0m\u001b[0m\n\u001b[0m\u001b[1;32m    766\u001b[0m         \u001b[0;32mif\u001b[0m \u001b[0;32mnot\u001b[0m \u001b[0mself\u001b[0m\u001b[0;34m.\u001b[0m\u001b[0mready\u001b[0m\u001b[0;34m(\u001b[0m\u001b[0;34m)\u001b[0m\u001b[0;34m:\u001b[0m\u001b[0;34m\u001b[0m\u001b[0;34m\u001b[0m\u001b[0m\n\u001b[1;32m    767\u001b[0m             \u001b[0;32mraise\u001b[0m \u001b[0mTimeoutError\u001b[0m\u001b[0;34m\u001b[0m\u001b[0;34m\u001b[0m\u001b[0m\n",
      "\u001b[0;32m/usr/lib/python3.8/multiprocessing/pool.py\u001b[0m in \u001b[0;36mwait\u001b[0;34m(self, timeout)\u001b[0m\n\u001b[1;32m    760\u001b[0m \u001b[0;34m\u001b[0m\u001b[0m\n\u001b[1;32m    761\u001b[0m     \u001b[0;32mdef\u001b[0m \u001b[0mwait\u001b[0m\u001b[0;34m(\u001b[0m\u001b[0mself\u001b[0m\u001b[0;34m,\u001b[0m \u001b[0mtimeout\u001b[0m\u001b[0;34m=\u001b[0m\u001b[0;32mNone\u001b[0m\u001b[0;34m)\u001b[0m\u001b[0;34m:\u001b[0m\u001b[0;34m\u001b[0m\u001b[0;34m\u001b[0m\u001b[0m\n\u001b[0;32m--> 762\u001b[0;31m         \u001b[0mself\u001b[0m\u001b[0;34m.\u001b[0m\u001b[0m_event\u001b[0m\u001b[0;34m.\u001b[0m\u001b[0mwait\u001b[0m\u001b[0;34m(\u001b[0m\u001b[0mtimeout\u001b[0m\u001b[0;34m)\u001b[0m\u001b[0;34m\u001b[0m\u001b[0;34m\u001b[0m\u001b[0m\n\u001b[0m\u001b[1;32m    763\u001b[0m \u001b[0;34m\u001b[0m\u001b[0m\n\u001b[1;32m    764\u001b[0m     \u001b[0;32mdef\u001b[0m \u001b[0mget\u001b[0m\u001b[0;34m(\u001b[0m\u001b[0mself\u001b[0m\u001b[0;34m,\u001b[0m \u001b[0mtimeout\u001b[0m\u001b[0;34m=\u001b[0m\u001b[0;32mNone\u001b[0m\u001b[0;34m)\u001b[0m\u001b[0;34m:\u001b[0m\u001b[0;34m\u001b[0m\u001b[0;34m\u001b[0m\u001b[0m\n",
      "\u001b[0;32m/usr/lib/python3.8/threading.py\u001b[0m in \u001b[0;36mwait\u001b[0;34m(self, timeout)\u001b[0m\n\u001b[1;32m    556\u001b[0m             \u001b[0msignaled\u001b[0m \u001b[0;34m=\u001b[0m \u001b[0mself\u001b[0m\u001b[0;34m.\u001b[0m\u001b[0m_flag\u001b[0m\u001b[0;34m\u001b[0m\u001b[0;34m\u001b[0m\u001b[0m\n\u001b[1;32m    557\u001b[0m             \u001b[0;32mif\u001b[0m \u001b[0;32mnot\u001b[0m \u001b[0msignaled\u001b[0m\u001b[0;34m:\u001b[0m\u001b[0;34m\u001b[0m\u001b[0;34m\u001b[0m\u001b[0m\n\u001b[0;32m--> 558\u001b[0;31m                 \u001b[0msignaled\u001b[0m \u001b[0;34m=\u001b[0m \u001b[0mself\u001b[0m\u001b[0;34m.\u001b[0m\u001b[0m_cond\u001b[0m\u001b[0;34m.\u001b[0m\u001b[0mwait\u001b[0m\u001b[0;34m(\u001b[0m\u001b[0mtimeout\u001b[0m\u001b[0;34m)\u001b[0m\u001b[0;34m\u001b[0m\u001b[0;34m\u001b[0m\u001b[0m\n\u001b[0m\u001b[1;32m    559\u001b[0m             \u001b[0;32mreturn\u001b[0m \u001b[0msignaled\u001b[0m\u001b[0;34m\u001b[0m\u001b[0;34m\u001b[0m\u001b[0m\n\u001b[1;32m    560\u001b[0m \u001b[0;34m\u001b[0m\u001b[0m\n",
      "\u001b[0;32m/usr/lib/python3.8/threading.py\u001b[0m in \u001b[0;36mwait\u001b[0;34m(self, timeout)\u001b[0m\n\u001b[1;32m    304\u001b[0m             \u001b[0;32melse\u001b[0m\u001b[0;34m:\u001b[0m\u001b[0;34m\u001b[0m\u001b[0;34m\u001b[0m\u001b[0m\n\u001b[1;32m    305\u001b[0m                 \u001b[0;32mif\u001b[0m \u001b[0mtimeout\u001b[0m \u001b[0;34m>\u001b[0m \u001b[0;36m0\u001b[0m\u001b[0;34m:\u001b[0m\u001b[0;34m\u001b[0m\u001b[0;34m\u001b[0m\u001b[0m\n\u001b[0;32m--> 306\u001b[0;31m                     \u001b[0mgotit\u001b[0m \u001b[0;34m=\u001b[0m \u001b[0mwaiter\u001b[0m\u001b[0;34m.\u001b[0m\u001b[0macquire\u001b[0m\u001b[0;34m(\u001b[0m\u001b[0;32mTrue\u001b[0m\u001b[0;34m,\u001b[0m \u001b[0mtimeout\u001b[0m\u001b[0;34m)\u001b[0m\u001b[0;34m\u001b[0m\u001b[0;34m\u001b[0m\u001b[0m\n\u001b[0m\u001b[1;32m    307\u001b[0m                 \u001b[0;32melse\u001b[0m\u001b[0;34m:\u001b[0m\u001b[0;34m\u001b[0m\u001b[0;34m\u001b[0m\u001b[0m\n\u001b[1;32m    308\u001b[0m                     \u001b[0mgotit\u001b[0m \u001b[0;34m=\u001b[0m \u001b[0mwaiter\u001b[0m\u001b[0;34m.\u001b[0m\u001b[0macquire\u001b[0m\u001b[0;34m(\u001b[0m\u001b[0;32mFalse\u001b[0m\u001b[0;34m)\u001b[0m\u001b[0;34m\u001b[0m\u001b[0;34m\u001b[0m\u001b[0m\n",
      "\u001b[0;31mKeyboardInterrupt\u001b[0m: "
     ]
    }
   ],
   "source": [
    "try:\n",
    "    # [33,2,10,12,16]\n",
    "    t_out = 6000\n",
    "    pool = Pool()\n",
    "    ids = np.array(list(EEG_image.keys()))\n",
    "    p1 = pool.apply_async(build_data, [1,EEG_image,ids[0::1]])\n",
    "    # p2 = pool.apply_async(build_data, [2,EEG_image,ids[1::2]])\n",
    "    # p3 = pool.apply_async(build_data, [3,EEG_image,ids[2::3]])\n",
    "    # p4 = pool.apply_async(build_data, [4,EEG_image,ids[3::6]])\n",
    "    # p5 = pool.apply_async(build_data, [5,EEG_image,ids[4::6]])\n",
    "    # p6 = pool.apply_async(build_data, [6,EEG_image,ids[5::6]])\n",
    "    ans1 = p1.get(timeout=t_out)\n",
    "    # ans2 = p2.get(timeout=t_out)\n",
    "    # ans3 = p3.get(timeout=t_out)\n",
    "    # ans4 = p4.get(timeout=t_out)\n",
    "    # ans5 = p5.get(timeout=t_out)\n",
    "    # ans6 = p6.get(timeout=t_out)\n",
    "    X = np.concatenate([ans1[0]])# , ans2[0]])#, ans3[0]])#, ans4[0] ,ans5[0], ans6[0]])\n",
    "    Y = np.concatenate([ans1[1]])# , ans2[1]])#, ans3[1]])#, ans4[1] ,ans5[1], ans6[1]])\n",
    "    E = ans1[3]\n",
    "    freq = ans1[2]\n",
    "    print(X.shape, Y.shape, E.shape)\n",
    "finally:\n",
    "    print(\"========= close ========\")\n",
    "    pool.close() \n",
    "    pool.terminate()"
   ]
  },
  {
   "cell_type": "code",
   "execution_count": null,
   "metadata": {},
   "outputs": [],
   "source": [
    "# save(X,'image_X_full')\n",
    "# save(Y,'image_Y_full')"
   ]
  },
  {
   "cell_type": "code",
   "execution_count": 19,
   "metadata": {},
   "outputs": [],
   "source": [
    "X = load('image_X')\n",
    "Y = load('image_Y')"
   ]
  },
  {
   "cell_type": "code",
   "execution_count": 15,
   "metadata": {},
   "outputs": [],
   "source": [
    "def get_accuracy(X,y):\n",
    "    from sklearn.naive_bayes import GaussianNB, MultinomialNB\n",
    "    from sklearn.model_selection import cross_val_score\n",
    "    result = []\n",
    "    traits = [\"h\",\"e\",\"x\",\"a\",\"c\",\"o\"]\n",
    "    for index,label in enumerate(traits):\n",
    "        y = Y[:,index]\n",
    "        X_copy = X.copy()\n",
    "        # norm\n",
    "        for index, row in enumerate(X_copy.T):\n",
    "            row = (row - row.min()) / (row.max() - row.min())\n",
    "            X_copy.T[index] = row\n",
    "\n",
    "        mnb = GaussianNB()\n",
    "        mnb.fit(X_copy, y)\n",
    "        acc = sum(mnb.predict(X_copy) == y) / len(y)\n",
    "        scores = cross_val_score(mnb, X_copy, y)\n",
    "        result.append([acc,scores.mean(),scores.std()])\n",
    "        print(label,\"| Accuracy: %0.2f Scores: %0.2f (+/- %0.2f)\" % (acc,scores.mean(), scores.std() * 2))\n",
    "    return result"
   ]
  },
  {
   "cell_type": "code",
   "execution_count": 16,
   "metadata": {},
   "outputs": [],
   "source": [
    "# get_accuracy((10 * np.log10(X)).mean(axis=2)  ,Y)"
   ]
  },
  {
   "cell_type": "code",
   "execution_count": 17,
   "metadata": {},
   "outputs": [
    {
     "ename": "NameError",
     "evalue": "name 'freq' is not defined",
     "output_type": "error",
     "traceback": [
      "\u001b[0;31m---------------------------------------------------------------------------\u001b[0m",
      "\u001b[0;31mNameError\u001b[0m                                 Traceback (most recent call last)",
      "\u001b[0;32m<ipython-input-17-96dac8d76414>\u001b[0m in \u001b[0;36m<module>\u001b[0;34m\u001b[0m\n\u001b[1;32m      4\u001b[0m \u001b[0mbands\u001b[0m \u001b[0;34m=\u001b[0m \u001b[0;34m[\u001b[0m\u001b[0;34m]\u001b[0m\u001b[0;34m\u001b[0m\u001b[0;34m\u001b[0m\u001b[0m\n\u001b[1;32m      5\u001b[0m \u001b[0;32mfor\u001b[0m \u001b[0mfilt\u001b[0m \u001b[0;32min\u001b[0m \u001b[0mfilter_list\u001b[0m\u001b[0;34m:\u001b[0m\u001b[0;34m\u001b[0m\u001b[0;34m\u001b[0m\u001b[0m\n\u001b[0;32m----> 6\u001b[0;31m     \u001b[0mpt\u001b[0m \u001b[0;34m=\u001b[0m \u001b[0mnp\u001b[0m\u001b[0;34m.\u001b[0m\u001b[0margwhere\u001b[0m\u001b[0;34m(\u001b[0m\u001b[0;34m(\u001b[0m\u001b[0mfreq\u001b[0m \u001b[0;34m>=\u001b[0m \u001b[0mfilt\u001b[0m\u001b[0;34m[\u001b[0m\u001b[0;36m0\u001b[0m\u001b[0;34m]\u001b[0m\u001b[0;34m)\u001b[0m \u001b[0;34m&\u001b[0m \u001b[0;34m(\u001b[0m\u001b[0mfreq\u001b[0m \u001b[0;34m<=\u001b[0m \u001b[0mfilt\u001b[0m\u001b[0;34m[\u001b[0m\u001b[0;36m1\u001b[0m\u001b[0;34m]\u001b[0m\u001b[0;34m)\u001b[0m\u001b[0;34m)\u001b[0m\u001b[0;34m.\u001b[0m\u001b[0mreshape\u001b[0m\u001b[0;34m(\u001b[0m\u001b[0;34m-\u001b[0m\u001b[0;36m1\u001b[0m\u001b[0;34m)\u001b[0m\u001b[0;34m\u001b[0m\u001b[0;34m\u001b[0m\u001b[0m\n\u001b[0m\u001b[1;32m      7\u001b[0m     \u001b[0mbands\u001b[0m\u001b[0;34m.\u001b[0m\u001b[0mappend\u001b[0m\u001b[0;34m(\u001b[0m\u001b[0mpt\u001b[0m\u001b[0;34m)\u001b[0m\u001b[0;34m\u001b[0m\u001b[0;34m\u001b[0m\u001b[0m\n\u001b[1;32m      8\u001b[0m \u001b[0mbands\u001b[0m \u001b[0;34m=\u001b[0m \u001b[0mnp\u001b[0m\u001b[0;34m.\u001b[0m\u001b[0marray\u001b[0m\u001b[0;34m(\u001b[0m\u001b[0mbands\u001b[0m\u001b[0;34m)\u001b[0m\u001b[0;34m\u001b[0m\u001b[0;34m\u001b[0m\u001b[0m\n",
      "\u001b[0;31mNameError\u001b[0m: name 'freq' is not defined"
     ]
    }
   ],
   "source": [
    "from itertools import combinations\n",
    "band_names = np.array(['Delta', 'Theta', 'Alpha', 'Beta', 'Gamma'])\n",
    "filter_list = [[0,4],[4,8],[8,13],[13,30],[30,125]]\n",
    "bands = []\n",
    "for filt in filter_list:\n",
    "    pt = np.argwhere((freq >= filt[0]) & (freq <= filt[1])).reshape(-1)\n",
    "    bands.append(pt)\n",
    "bands = np.array(bands)\n",
    "\n",
    "result_image = []\n",
    "best_image = 0\n",
    "best_image_idx = -1\n",
    "best_image_comb = None\n",
    "for r in [1,2,3,4,5]:\n",
    "    print(\"=\"*20,f\"Number {r}\",\"=\"*20)\n",
    "    for comb in combinations([0,1,2,3,4],r):\n",
    "        print(\" \",band_names[list(comb)])\n",
    "        selected_x = None\n",
    "        # print(bands[ list(comb) ])\n",
    "        for pt in bands[ list(comb) ]:\n",
    "            # print(pt)\n",
    "            if(type(selected_x) == type(None)): selected_x = X[:,:,pt].mean(axis=2)\n",
    "            else:\n",
    "                selected_x = np.concatenate([selected_x, X[:,:,pt].mean(axis=2)], axis=1)\n",
    "        print(selected_x.shape)\n",
    "        # pts = np.concatenate( bands[ list(comb) ] )\n",
    "        \n",
    "        # result = np.array(get_accuracy(selected_x ,Y))\n",
    "        result = np.array(get_accuracy(selected_x  ,Y))\n",
    "        print(\" Averag accuracy:\", result[:,0].mean(), \"Average Score:\", result[:,1].mean(), \"Average Variance:\", result[:,2].mean())\n",
    "        result_image.append(result)\n",
    "        if(result[:,1].mean() > best_image):\n",
    "            best_image = result[:,1].mean()\n",
    "            best_image_idx = len(result_image)-1\n",
    "            best_image_comb = band_names[ list(comb) ]\n",
    "\n",
    "print(f\"Best Score is {best_image} at index {best_image_idx} with combination {best_image_comb}\")"
   ]
  },
  {
   "cell_type": "code",
   "execution_count": 18,
   "metadata": {},
   "outputs": [
    {
     "ename": "NameError",
     "evalue": "name 'result_image' is not defined",
     "output_type": "error",
     "traceback": [
      "\u001b[0;31m---------------------------------------------------------------------------\u001b[0m",
      "\u001b[0;31mNameError\u001b[0m                                 Traceback (most recent call last)",
      "\u001b[0;32m<ipython-input-18-0623bba319af>\u001b[0m in \u001b[0;36m<module>\u001b[0;34m\u001b[0m\n\u001b[0;32m----> 1\u001b[0;31m \u001b[0mresult_image\u001b[0m \u001b[0;34m=\u001b[0m \u001b[0mnp\u001b[0m\u001b[0;34m.\u001b[0m\u001b[0marray\u001b[0m\u001b[0;34m(\u001b[0m\u001b[0mresult_image\u001b[0m\u001b[0;34m)\u001b[0m\u001b[0;34m\u001b[0m\u001b[0;34m\u001b[0m\u001b[0m\n\u001b[0m\u001b[1;32m      2\u001b[0m \u001b[0mtraits\u001b[0m \u001b[0;34m=\u001b[0m \u001b[0;34m[\u001b[0m\u001b[0;34m\"h\"\u001b[0m\u001b[0;34m,\u001b[0m\u001b[0;34m\"e\"\u001b[0m\u001b[0;34m,\u001b[0m\u001b[0;34m\"x\"\u001b[0m\u001b[0;34m,\u001b[0m\u001b[0;34m\"a\"\u001b[0m\u001b[0;34m,\u001b[0m\u001b[0;34m\"c\"\u001b[0m\u001b[0;34m,\u001b[0m\u001b[0;34m\"o\"\u001b[0m\u001b[0;34m]\u001b[0m\u001b[0;34m\u001b[0m\u001b[0;34m\u001b[0m\u001b[0m\n\u001b[1;32m      3\u001b[0m \u001b[0mwidth\u001b[0m \u001b[0;34m=\u001b[0m\u001b[0;36m.35\u001b[0m\u001b[0;34m\u001b[0m\u001b[0;34m\u001b[0m\u001b[0m\n\u001b[1;32m      4\u001b[0m \u001b[0;34m\u001b[0m\u001b[0m\n\u001b[1;32m      5\u001b[0m \u001b[0mfig\u001b[0m\u001b[0;34m,\u001b[0m \u001b[0max\u001b[0m \u001b[0;34m=\u001b[0m \u001b[0mplt\u001b[0m\u001b[0;34m.\u001b[0m\u001b[0msubplots\u001b[0m\u001b[0;34m(\u001b[0m\u001b[0mfigsize\u001b[0m\u001b[0;34m=\u001b[0m\u001b[0;34m(\u001b[0m\u001b[0;36m12\u001b[0m\u001b[0;34m,\u001b[0m\u001b[0;36m8\u001b[0m\u001b[0;34m)\u001b[0m\u001b[0;34m)\u001b[0m\u001b[0;34m\u001b[0m\u001b[0;34m\u001b[0m\u001b[0m\n",
      "\u001b[0;31mNameError\u001b[0m: name 'result_image' is not defined"
     ]
    }
   ],
   "source": [
    "result_image = np.array(result_image)\n",
    "traits = [\"h\",\"e\",\"x\",\"a\",\"c\",\"o\"]\n",
    "width =.35\n",
    "\n",
    "fig, ax = plt.subplots(figsize=(12,8))\n",
    "\n",
    "ax.bar(np.arange(6)      ,result_image[best_image_idx,:,0] * 100, yerr=result_image[best_image_idx,:,2] * 100, width=width, label='image', ecolor='black', capsize=10)\n",
    "# ax.bar(np.arange(6)+width,result_audio[best_audio_idx,:,0] * 100, yerr=result_image[best_audio_idx,:,2] * 100, width=width, label='audio', ecolor='black', capsize=10)\n",
    "\n",
    "ax.set_xlabel('Traits')\n",
    "ax.set_ylabel('Accuracy (%)')\n",
    "ax.set_title('Accuracy of each trait prediction')\n",
    "ax.set_xticks(np.arange(6) + width / 2)\n",
    "ax.set_xticklabels(traits)\n",
    "ax.legend()\n",
    "\n",
    "plt.show()"
   ]
  },
  {
   "cell_type": "code",
   "execution_count": null,
   "metadata": {},
   "outputs": [],
   "source": []
  },
  {
   "cell_type": "code",
   "execution_count": null,
   "metadata": {},
   "outputs": [],
   "source": []
  }
 ],
 "metadata": {
  "interpreter": {
   "hash": "8a30f4385b3f96ea1f19840f1ab5b961aed18d97e42a99090a74c3e6c2d4f9ce"
  },
  "kernelspec": {
   "display_name": "Python 3.6.13 64-bit ('py3': virtualenv)",
   "language": "python",
   "name": "python3"
  },
  "language_info": {
   "codemirror_mode": {
    "name": "ipython",
    "version": 3
   },
   "file_extension": ".py",
   "mimetype": "text/x-python",
   "name": "python",
   "nbconvert_exporter": "python",
   "pygments_lexer": "ipython3",
   "version": "3.8.10"
  },
  "orig_nbformat": 4
 },
 "nbformat": 4,
 "nbformat_minor": 2
}
