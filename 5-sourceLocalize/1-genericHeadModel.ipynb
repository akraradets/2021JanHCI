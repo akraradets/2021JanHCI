{
 "cells": [
  {
   "cell_type": "code",
   "execution_count": 1,
   "metadata": {},
   "outputs": [],
   "source": [
    "import pandas\n",
    "import numpy as np\n",
    "from utils import *\n",
    "import mne\n",
    "import matplotlib.pyplot as plt\n",
    "from os import walk\n",
    "# from sklearn.decomposition import FastICA\n",
    "# from sklearn.naive_bayes import GaussianNB, MultinomialNB\n",
    "# from sklearn.model_selection import cross_val_score\n",
    "# from itertools import combinations\n",
    "# from sklearn.preprocessing import normalize\n",
    "# from sklearn.utils import shuffle\n",
    "import pickle\n",
    "\n",
    "from multiprocessing import Pool\n",
    "plt.style.use('seaborn-whitegrid')"
   ]
  },
  {
   "cell_type": "markdown",
   "metadata": {},
   "source": [
    "# GroudTruth"
   ]
  },
  {
   "cell_type": "code",
   "execution_count": 2,
   "metadata": {},
   "outputs": [
    {
     "data": {
      "image/png": "[encoded data removed]",
      "text/plain": [
       "<Figure size 432x288 with 1 Axes>"
      ]
     },
     "metadata": {},
     "output_type": "display_data"
    }
   ],
   "source": [
    "gt = load_groudtruth('./HEXACO.csv')\n",
    "fig, ax = plt.subplots()\n",
    "ax.bar(['H','E','X','A','C','O'],[ sum(gt['lh']), sum(gt['le']), sum(gt['lx']), sum(gt['la']), sum(gt['lc']), sum(gt['lo'])  ])\n",
    "ax.set_title(\"Distribution of Labels\")\n",
    "ax.set_xlabel(\"Labels\")\n",
    "# ax.set_ylabel(\"Distribution of Labels\")\n",
    "plt.show()"
   ]
  },
  {
   "cell_type": "markdown",
   "metadata": {},
   "source": [
    "# Load DATA"
   ]
  },
  {
   "cell_type": "code",
   "execution_count": 3,
   "metadata": {},
   "outputs": [
    {
     "name": "stdout",
     "output_type": "stream",
     "text": [
      "Load data from cache\n"
     ]
    }
   ],
   "source": [
    "# clear_cache()\n",
    "try:\n",
    "    # Load from cache\n",
    "    EEG_audio = load('EEG_audio')\n",
    "    EEG_image = load('EEG_image')\n",
    "    print('Load data from cache')\n",
    "    if( set(EEG_audio.keys()) != set(EEG_image.keys()) ):\n",
    "        extra = None\n",
    "        if(len(EEG_audio.keys()) > len(EEG_image.keys())):\n",
    "            extra = set(EEG_audio.keys()).difference( set(EEG_image.keys()) )\n",
    "        else:\n",
    "            extra = set(EEG_image.keys()).difference( set(EEG_audio.keys()) )\n",
    "        raise ValueError(f\"In equal keys. audio has {len(EEG_audio.keys())} and image has {len(EEG_image.keys())}. The extra key is {extra}\")\n",
    "\n",
    "except FileNotFoundError as e:\n",
    "    EEG_audio, EEG_image = load_data(path='./data',exclude_list=[11,36])\n",
    "    # Save to cache\n",
    "    save(EEG_audio, 'EEG_audio')\n",
    "    save(EEG_image, 'EEG_image')\n"
   ]
  },
  {
   "cell_type": "markdown",
   "metadata": {},
   "source": [
    "# Generic Head Model"
   ]
  },
  {
   "cell_type": "code",
   "execution_count": 103,
   "metadata": {},
   "outputs": [],
   "source": [
    "def get_head_model():\n",
    "    import os.path as op\n",
    "    import numpy as np\n",
    "\n",
    "    import mne\n",
    "    from mne.datasets import eegbci\n",
    "    from mne.datasets import fetch_fsaverage\n",
    "\n",
    "    # Download fsaverage files\n",
    "    fs_dir = fetch_fsaverage(verbose=True)\n",
    "    subjects_dir = op.dirname(fs_dir)\n",
    "\n",
    "    # The files live in:\n",
    "    subject = 'fsaverage'\n",
    "    trans = 'fsaverage'  # MNE has a built-in fsaverage transformation\n",
    "    src = op.join(fs_dir, 'bem', 'fsaverage-ico-5-src.fif')\n",
    "    bem = op.join(fs_dir, 'bem', 'fsaverage-5120-5120-5120-bem-sol.fif')\n",
    "    return trans, src, bem\n",
    "\n",
    "def get_forward(info):\n",
    "\n",
    "    trans, src, bem = get_head_model()\n",
    "    fwd = mne.make_forward_solution(info, trans=trans, src=src,\n",
    "                                bem=bem, eeg=True, mindist=5.0, n_jobs=1)\n",
    "    return fwd\n",
    "\n",
    "def get_raw(df,sfreq):\n",
    "    raw = dataframe_to_raw(df, sfreq=sfreq)\n",
    "    #### Preprocess\n",
    "    # High-pass at 0.1 Hz with  FIR filter; zero phase; Hamming Window; Auto select length and Bandwidth\n",
    "    raw.filter(l_freq=0.1,h_freq=None,method='fir',phase='zero',fir_window='hamming') # Slow drift\n",
    "    # Notch Filter at 50,100,150,200 Hz with FIR filter; zero phase; Hamming Window, Bandwidth = 0.1; auto length selection\n",
    "    raw.notch_filter(freqs=[50],method='fir', phase='zero', fir_window='hamming',trans_bandwidth=0.1, filter_length='auto') # Line power\n",
    "    return raw"
   ]
  },
  {
   "cell_type": "code",
   "execution_count": 104,
   "metadata": {},
   "outputs": [
    {
     "name": "stdout",
     "output_type": "stream",
     "text": [
      "0 files missing from root.txt in /home/akrarads/mne_data/MNE-fsaverage-data\n",
      "0 files missing from bem.txt in /home/akrarads/mne_data/MNE-fsaverage-data/fsaverage\n",
      "Source space          : /home/akrarads/mne_data/MNE-fsaverage-data/fsaverage/bem/fsaverage-ico-5-src.fif\n",
      "MRI -> head transform : /home/akrarads/venv/hci/lib/python3.8/site-packages/mne/data/fsaverage/fsaverage-trans.fif\n",
      "Measurement data      : instance of Info\n",
      "Conductor model   : /home/akrarads/mne_data/MNE-fsaverage-data/fsaverage/bem/fsaverage-5120-5120-5120-bem-sol.fif\n",
      "Accurate field computations\n",
      "Do computations in head coordinates\n",
      "Free source orientations\n",
      "\n",
      "Reading /home/akrarads/mne_data/MNE-fsaverage-data/fsaverage/bem/fsaverage-ico-5-src.fif...\n",
      "Read 2 source spaces a total of 20484 active source locations\n",
      "\n",
      "Coordinate transformation: MRI (surface RAS) -> head\n",
      "     0.999994  0.003552  0.000202      -1.76 mm\n",
      "    -0.003558  0.998389  0.056626      31.09 mm\n",
      "    -0.000001 -0.056626  0.998395      39.60 mm\n",
      "     0.000000  0.000000  0.000000       1.00\n",
      "\n",
      "Read   8 EEG channels from info\n",
      "Head coordinate coil definitions created.\n",
      "Source spaces are now in head coordinates.\n",
      "\n",
      "Setting up the BEM model using /home/akrarads/mne_data/MNE-fsaverage-data/fsaverage/bem/fsaverage-5120-5120-5120-bem-sol.fif...\n",
      "\n",
      "Loading surfaces...\n",
      "\n",
      "Loading the solution matrix...\n",
      "\n",
      "Three-layer model surfaces loaded.\n",
      "Loaded linear_collocation BEM solution from /home/akrarads/mne_data/MNE-fsaverage-data/fsaverage/bem/fsaverage-5120-5120-5120-bem-sol.fif\n",
      "Employing the head->MRI coordinate transform with the BEM model.\n",
      "BEM model fsaverage-5120-5120-5120-bem-sol.fif is now set up\n",
      "\n",
      "Source spaces are in head coordinates.\n",
      "Checking that the sources are inside the surface and at least    5.0 mm away (will take a few...)\n",
      "    Skipping interior check for 2433 sources that fit inside a sphere of radius   47.7 mm\n",
      "    Skipping solid angle check for 0 points using Qhull\n",
      "    Skipping interior check for 2241 sources that fit inside a sphere of radius   47.7 mm\n",
      "    Skipping solid angle check for 0 points using Qhull\n",
      "\n",
      "Setting up for EEG...\n",
      "Computing EEG at 20484 source locations (free orientations)...\n",
      "\n",
      "Finished.\n"
     ]
    }
   ],
   "source": [
    "# mne.set_config('SUBJECTS_DIR','/home/akrarads/mne_data/MNE-fsaverage-data')\n",
    "# mne.get_config()\n",
    "\n",
    "#### Just get fwd ####\n",
    "with get_raw(df=EEG_image[33],sfreq=250) as raw:\n",
    "    fwd = get_forward(raw.info)"
   ]
  },
  {
   "cell_type": "markdown",
   "metadata": {},
   "source": [
    "# Processing"
   ]
  },
  {
   "cell_type": "code",
   "execution_count": 59,
   "metadata": {},
   "outputs": [],
   "source": [
    "verbose = False"
   ]
  },
  {
   "cell_type": "code",
   "execution_count": 109,
   "metadata": {},
   "outputs": [],
   "source": [
    "raw = dataframe_to_raw(EEG_image[33], sfreq=250)\n",
    "#### Preprocess\n",
    "# High-pass at 0.1 Hz with  FIR filter; zero phase; Hamming Window; Auto select length and Bandwidth\n",
    "raw.filter(l_freq=0.1,h_freq=None,method='fir',phase='zero',fir_window='hamming', verbose=verbose) # Slow drift\n",
    "# Notch Filter at 50,100,150,200 Hz with FIR filter; zero phase; Hamming Window, Bandwidth = 0.1; auto length selection\n",
    "raw.notch_filter(freqs=[50],method='fir', phase='zero', fir_window='hamming',trans_bandwidth=0.1, filter_length='auto', verbose=verbose) # Line power\n",
    "\n",
    "events = mne.find_events(raw, stim_channel='Marker', initial_event=True, verbose=verbose, uint_cast=False)\n",
    "events_dict = dict({\n",
    "    1: [],\n",
    "    2: [],\n",
    "    3: [],\n",
    "    4: [],\n",
    "    5: [],\n",
    "})\n",
    "for row in events:\n",
    "    row[2] = int(str(row[2])[0])\n",
    "    events_dict[row[2]].append(row)\n"
   ]
  },
  {
   "cell_type": "code",
   "execution_count": 110,
   "metadata": {},
   "outputs": [],
   "source": [
    "epochs_dict = dict()\n",
    "epochs_dict['all'] = mne.Epochs(raw, events, tmin=0, tmax=6, baseline=(0,1), verbose=verbose, preload=True)\n",
    "for cat in range(1,6): #1 -> 5\n",
    "    epochs_dict[cat] = mne.Epochs(raw, events_dict[cat], tmin=0, tmax=6, baseline=(0,1), verbose=verbose, preload=True)"
   ]
  },
  {
   "cell_type": "code",
   "execution_count": 119,
   "metadata": {},
   "outputs": [
    {
     "name": "stdout",
     "output_type": "stream",
     "text": [
      "Computing rank from data with rank=None\n",
      "    Using tolerance 2.8e-11 (2.2e-16 eps * 8 dim * 1.6e+04  max singular value)\n",
      "    Estimated rank (eeg): 8\n",
      "    EEG: rank 8 computed from 8 data channels with 0 projectors\n",
      "Reducing data rank from 8 -> 8\n",
      "Estimating covariance using SHRUNK\n",
      "Done.\n",
      "Estimating covariance using DIAGONAL_FIXED\n",
      "    EEG regularization : 0.1\n",
      "Done.\n",
      "Estimating covariance using EMPIRICAL\n",
      "Done.\n",
      "Using cross-validation to select the best estimator.\n",
      "    EEG regularization : 0.1\n",
      "    EEG regularization : 0.1\n",
      "    EEG regularization : 0.1\n",
      "Number of samples used : 88559\n",
      "log-likelihood on unseen data (descending order):\n",
      "   shrunk: -33.283\n",
      "   empirical: -33.359\n",
      "   diagonal_fixed: -33.396\n",
      "selecting best estimator: shrunk\n",
      "[done]\n",
      "====================\n",
      "Computing inverse operator with 8 channels.\n",
      "    8 out of 8 channels remain after picking\n",
      "Selected 8 channels\n",
      "Creating the depth weighting matrix...\n",
      "    8 EEG channels\n",
      "    limit = 20485/20484 = 3.432080\n",
      "    scale = 14529.9 exp = 0.1\n",
      "Whitening the forward solution.\n",
      "Computing rank from covariance with rank=None\n",
      "    Using tolerance 4.7e-14 (2.2e-16 eps * 8 dim * 26  max singular value)\n",
      "    Estimated rank (eeg): 8\n",
      "    EEG: rank 8 computed from 8 data channels with 0 projectors\n",
      "    Setting small EEG eigenvalues to zero (without PCA)\n",
      "Creating the source covariance matrix\n",
      "Adjusting source covariance matrix.\n",
      "Computing SVD of whitened and weighted lead field matrix.\n",
      "    largest singular value = 2.01289\n",
      "    scaling factor to adjust the trace = 5.40612e+18 (nchan = 8 nzero = 0)\n"
     ]
    },
    {
     "name": "stderr",
     "output_type": "stream",
     "text": [
      "<ipython-input-119-c0f9ffc9ab5c>:8: RuntimeWarning: No average EEG reference present in info[\"projs\"], covariance may be adversely affected. Consider recomputing covariance using with an average eeg reference projector added.\n",
      "  inv = mne.minimum_norm.make_inverse_operator(raw.info, fwd, cov, loose=1, depth=0.1)\n",
      "<ipython-input-119-c0f9ffc9ab5c>:8: RuntimeWarning: No average EEG reference present in info[\"projs\"], covariance may be adversely affected. Consider recomputing covariance using with an average eeg reference projector added.\n",
      "  inv = mne.minimum_norm.make_inverse_operator(raw.info, fwd, cov, loose=1, depth=0.1)\n"
     ]
    }
   ],
   "source": [
    "# f = epochs_1.average().plot()\n",
    "# f = epochs_2.average().plot()\n",
    "# f = epochs_3.average().plot()\n",
    "# f = epochs_4.average().plot()\n",
    "# f = epochs_5.average().plot()\n",
    "cov = mne.compute_covariance(epochs_dict['all'], method='auto')\n",
    "print('='*20)\n",
    "inv = mne.minimum_norm.make_inverse_operator(raw.info, fwd, cov, loose=1, depth=0.1)"
   ]
  },
  {
   "cell_type": "code",
   "execution_count": null,
   "metadata": {},
   "outputs": [],
   "source": []
  }
 ],
 "metadata": {
  "interpreter": {
   "hash": "8a30f4385b3f96ea1f19840f1ab5b961aed18d97e42a99090a74c3e6c2d4f9ce"
  },
  "kernelspec": {
   "display_name": "Python 3.6.13 64-bit ('py3': virtualenv)",
   "language": "python",
   "name": "python3"
  },
  "language_info": {
   "codemirror_mode": {
    "name": "ipython",
    "version": 3
   },
   "file_extension": ".py",
   "mimetype": "text/x-python",
   "name": "python",
   "nbconvert_exporter": "python",
   "pygments_lexer": "ipython3",
   "version": "3.8.10"
  },
  "orig_nbformat": 4
 },
 "nbformat": 4,
 "nbformat_minor": 2
}
