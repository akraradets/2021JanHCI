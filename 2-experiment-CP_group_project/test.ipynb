{
 "metadata": {
  "orig_nbformat": 2,
  "kernelspec": {
   "name": "hci",
   "display_name": "hci",
   "language": "python"
  }
 },
 "nbformat": 4,
 "nbformat_minor": 2,
 "cells": [
  {
   "cell_type": "code",
   "execution_count": 23,
   "metadata": {},
   "outputs": [
    {
     "output_type": "stream",
     "name": "stdout",
     "text": [
      "{'1_1': ['8492.jpg', '8185.jpg', '7405.jpg', '8300.jpg', '1650.jpg'], '1_2': ['4604.jpg', '8501.jpg', '1710.jpg', '8030.jpg', '4225.jpg'], '2_1': ['5800.jpg', '2240.jpg', '2370.jpg', '2320.jpg', '5726.jpg'], '2_2': ['5001.jpg', '1604.jpg', '5631.jpg', '1410.jpg', '2550.jpg'], '3_1': ['3019.jpg', '1300.jpg', '6550.jpg', '1617.jpg', '9940.jpg'], '3_2': ['9635.1.jpg', '6230.jpg', '2352.2.jpg', '9410.jpg', '9921.jpg'], '4_1': ['9265.jpg', '2490.jpg', '7023.jpg', '2399.jpg', '9001.jpg'], '4_2': ['2205.jpg', '7079.jpg', '9190.jpg', '2750.jpg', '2440.jpg'], '5_1': ['2220.jpg', '2780.jpg', '2704.jpg', '9422.jpg', '7497.jpg'], '5_2': ['1908.jpg', '8232.jpg', '1645.jpg', '3550.2.jpg', '7632.jpg']}\n2\n['5800.jpg', '2240.jpg', '2370.jpg', '2320.jpg', '5726.jpg']\n3\n['5001.jpg', '1604.jpg', '5631.jpg', '1410.jpg', '2550.jpg']\n1\n['4604.jpg', '8501.jpg', '1710.jpg', '8030.jpg', '4225.jpg']\n4\n['3019.jpg', '1300.jpg', '6550.jpg', '1617.jpg', '9940.jpg']\n10\n"
     ]
    },
    {
     "output_type": "error",
     "ename": "IndexError",
     "evalue": "list index out of range",
     "traceback": [
      "\u001b[0;31m---------------------------------------------------------------------------\u001b[0m",
      "\u001b[0;31mIndexError\u001b[0m                                Traceback (most recent call last)",
      "\u001b[0;32m<ipython-input-23-e68f545c54ac>\u001b[0m in \u001b[0;36m<module>\u001b[0;34m\u001b[0m\n\u001b[1;32m     25\u001b[0m \u001b[0;32mfor\u001b[0m \u001b[0mi\u001b[0m \u001b[0;32min\u001b[0m \u001b[0mseq\u001b[0m\u001b[0;34m:\u001b[0m\u001b[0;34m\u001b[0m\u001b[0;34m\u001b[0m\u001b[0m\n\u001b[1;32m     26\u001b[0m     \u001b[0mprint\u001b[0m\u001b[0;34m(\u001b[0m\u001b[0mi\u001b[0m\u001b[0;34m)\u001b[0m\u001b[0;34m\u001b[0m\u001b[0;34m\u001b[0m\u001b[0m\n\u001b[0;32m---> 27\u001b[0;31m     \u001b[0mcat\u001b[0m \u001b[0;34m=\u001b[0m \u001b[0mconditions\u001b[0m\u001b[0;34m[\u001b[0m\u001b[0mi\u001b[0m\u001b[0;34m]\u001b[0m\u001b[0;34m\u001b[0m\u001b[0;34m\u001b[0m\u001b[0m\n\u001b[0m\u001b[1;32m     28\u001b[0m     \u001b[0mprint\u001b[0m\u001b[0;34m(\u001b[0m\u001b[0mstimuli\u001b[0m\u001b[0;34m[\u001b[0m\u001b[0mcat\u001b[0m\u001b[0;34m]\u001b[0m\u001b[0;34m)\u001b[0m\u001b[0;34m\u001b[0m\u001b[0;34m\u001b[0m\u001b[0m\n",
      "\u001b[0;31mIndexError\u001b[0m: list index out of range"
     ]
    }
   ],
   "source": [
    "from utils import balanced_latin_squares, get_filenames_in_path\n",
    "import random\n",
    "import numpy as np\n",
    "\n",
    "order_index = 1\n",
    "seq = balanced_latin_squares(10)[order_index]\n",
    "# print(l[order_index])\n",
    "\n",
    "\n",
    "categories = ['1','2','3','4','5']\n",
    "conditions = []\n",
    "stimuli = dict()\n",
    "\n",
    "folder = 'images/'\n",
    "for cat in categories:\n",
    "    l = get_filenames_in_path(f\"{folder}{cat}\")\n",
    "    random.shuffle(l)\n",
    "    stimuli[f\"{cat}_1\"] = l[:5]\n",
    "    stimuli[f\"{cat}_2\"] = l[5:]\n",
    "    conditions.append(f\"{cat}_1\")\n",
    "    conditions.append(f\"{cat}_2\")\n",
    "\n",
    "# print(stimuli)\n",
    "\n",
    "# for i in seq:\n",
    "#     print(i)\n",
    "#     cat = conditions[i]\n",
    "#     print(stimuli[cat])\n",
    "\n"
   ]
  },
  {
   "cell_type": "code",
   "execution_count": null,
   "metadata": {},
   "outputs": [],
   "source": [
    "import numpy as np\n",
    "\n"
   ]
  },
  {
   "cell_type": "code",
   "execution_count": 2,
   "metadata": {},
   "outputs": [],
   "source": []
  },
  {
   "cell_type": "code",
   "execution_count": 3,
   "metadata": {},
   "outputs": [
    {
     "output_type": "execute_result",
     "data": {
      "text/plain": [
       "[[1, 2, 10, 3, 9, 4, 8, 5, 7, 6],\n",
       " [2, 3, 1, 4, 10, 5, 9, 6, 8, 7],\n",
       " [3, 4, 2, 5, 1, 6, 10, 7, 9, 8],\n",
       " [4, 5, 3, 6, 2, 7, 1, 8, 10, 9],\n",
       " [5, 6, 4, 7, 3, 8, 2, 9, 1, 10],\n",
       " [6, 7, 5, 8, 4, 9, 3, 10, 2, 1],\n",
       " [7, 8, 6, 9, 5, 10, 4, 1, 3, 2],\n",
       " [8, 9, 7, 10, 6, 1, 5, 2, 4, 3],\n",
       " [9, 10, 8, 1, 7, 2, 6, 3, 5, 4],\n",
       " [10, 1, 9, 2, 8, 3, 7, 4, 6, 5]]"
      ]
     },
     "metadata": {},
     "execution_count": 3
    }
   ],
   "source": [
    "balanced_latin_squares(10)"
   ]
  },
  {
   "cell_type": "code",
   "execution_count": null,
   "metadata": {},
   "outputs": [],
   "source": []
  }
 ]
}