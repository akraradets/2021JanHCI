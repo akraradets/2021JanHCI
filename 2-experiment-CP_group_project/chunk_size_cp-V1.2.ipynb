{
 "cells": [
  {
   "cell_type": "markdown",
   "metadata": {},
   "source": [
    "# CP experiment \n",
    "Use this jupyter to generate the image stimuli matrix\n",
    "\n",
    "Goal :\n",
    "    We need 1000 chunks of stimuli EEG data \n",
    "    So, we need to stimuli 0-9 for 500 times which means that\n",
    "    \n",
    "    0 - display 50 times\n",
    "    1 - display 50 times\n",
    "    .\n",
    "    .\n",
    "    9 - display 50 times\n",
    "\n",
    "Information:\n",
    "- EEG sampling = 125 Hz with 16 electrod nodes\n",
    "    \n",
    "    \n",
    "Requirements:\n",
    "\n",
    "1. Genterate represent number 0-9 with 500 number\n",
    "2. Divide it in to 25 blcok, 20 images per block\n",
    "3. Current trial should not same number with previous\n"
   ]
  },
  {
   "cell_type": "code",
   "execution_count": 1,
   "metadata": {},
   "outputs": [],
   "source": [
    "import random\n",
    "import pylsl\n",
    "import numpy as np\n",
    "import pandas as pd\n",
    "import time\n",
    "import itertools\n",
    "import math\n",
    "import psychopy \n",
    "from psychopy import visual, core, event\n",
    "from datetime import datetime\n",
    "from IPython.display import clear_output\n",
    "\n"
   ]
  },
  {
   "cell_type": "code",
   "execution_count": null,
   "metadata": {},
   "outputs": [],
   "source": []
  },
  {
   "cell_type": "code",
   "execution_count": 2,
   "metadata": {},
   "outputs": [
    {
     "name": "stdout",
     "output_type": "stream",
     "text": [
      "Total experiment time = 8.66 Minute\n"
     ]
    }
   ],
   "source": [
    "#==============================================\n",
    "# experiment parameters\n",
    "#==============================================\n",
    "total_image      = 500\n",
    "num_trial        = 20\n",
    "num_block        = int(total_image/num_trial)\n",
    "\n",
    "stim_time        = 0.5\n",
    "stim_blink_time  = 0.3\n",
    "fixation_time    = 5  # inter trial interval, i.e., how long the fixation will stay in second\n",
    "\n",
    "\n",
    "experiment_time  = (total_image * stim_time ) + ( (total_image-1)*stim_blink_time) + (num_block-1)*fixation_time\n",
    "print(f\"Total experiment time = {'{:.2f}'.format(experiment_time/60)} Minute\" )\n",
    "      \n",
    "    \n",
    "#==============================================\n",
    "# Configuration\n",
    "#==============================================\n",
    "image_folder='numerical_stimuli'\n",
    "\n",
    "\n",
    "#name, type, channel_count, sampling rate, channel format, source_id\n",
    "#info = StreamInfo('CytonMarkers', 'Markers', 1, 0.0, 'int32', 'CytonMarkerID')#make an outlet\n",
    "info = pylsl.StreamInfo('CytonMarkers', 'Markers', 1, 0.0, 'string', 'CytonMarkerID')#make an outlet\n",
    "outlet = pylsl.StreamOutlet(info)\n",
    "# %whos\n",
    "\n"
   ]
  },
  {
   "cell_type": "code",
   "execution_count": 3,
   "metadata": {},
   "outputs": [],
   "source": [
    "\n",
    "def genNumbers(num):\n",
    "    trial_sequence = []\n",
    "    for loop in range(int(num/10)):\n",
    "        sequence = np.arange(10)\n",
    "        trial_sequence.extend(sequence)\n",
    "    random.shuffle(trial_sequence)\n",
    "    return trial_sequence\n",
    "\n",
    "\n",
    "# find the 2 consecutive\n",
    "def findConsecutive(data):\n",
    "    for loop_i in range(len(data)):\n",
    "        if loop_i <= (len(data)-2) :\n",
    "            if data[loop_i] == data[loop_i+1] :\n",
    "                fixConsecutive(data, loop_i+1)\n",
    "\n",
    "# find the positon that can swap\n",
    "def fixConsecutive(data, position):\n",
    "    if position <= ( len(data) -2 ) :\n",
    "        counter = len(data) - position\n",
    "        for ii in range(counter) :\n",
    "            if data[position] != data[position+ii] :\n",
    "                # swap\n",
    "                swapPositions(data,position, position+ii )\n",
    "                return\n",
    "            \n",
    "# swap 2 value\n",
    "def swapPositions(list, pos1, pos2): \n",
    "    list[pos1], list[pos2] = list[pos2], list[pos1] \n",
    "#     print(f\"swap index {pos1} <-> {pos2}\")\n",
    "    return \n",
    "\n",
    "\n",
    "# check 2 consecutive value\n",
    "def checkConsecutive(data):\n",
    "    num_consecutive = 0\n",
    "    for loop_i in range(len(data)):\n",
    "        if loop_i <= (len(data)-2) :\n",
    "            if data[loop_i] == data[loop_i+1] :\n",
    "#                 print(f\"Consecutive found : {loop_i}<->{loop_i+1} , value {data[loop_i]} \" )\n",
    "                num_consecutive = num_consecutive+1\n",
    "    return num_consecutive\n"
   ]
  },
  {
   "cell_type": "code",
   "execution_count": 4,
   "metadata": {},
   "outputs": [
    {
     "name": "stdout",
     "output_type": "stream",
     "text": [
      "First consecutive check : There is some consecutive number in the list\n",
      "Second consecutive check : PASS\n",
      "Third consecutive check : PASS\n"
     ]
    }
   ],
   "source": [
    "# generate 0-9 for 1000 value\n",
    "trials = genNumbers(total_image)\n",
    "# print(trials)\n",
    "\n",
    "if checkConsecutive(trials) :\n",
    "    print(f\"First consecutive check : There is some consecutive number in the list\")\n",
    "    # find and fix consecutive number\n",
    "    findConsecutive(trials)\n",
    "\n",
    "if checkConsecutive(trials) :\n",
    "    print(f\"Second check : There is still two same consecutive number in the list\")\n",
    "    findConsecutive(trials)\n",
    "else :\n",
    "    print(f\"Second consecutive check : PASS\")\n",
    "\n",
    "if checkConsecutive(trials) :\n",
    "    print(f\"Third check : There is still two same consecutive number in the list\")\n",
    "    findConsecutive(trials)\n",
    "else :\n",
    "    print(f\"Third consecutive check : PASS\")\n",
    "\n",
    "blocks_imgs = np.reshape(trials, (-1,num_trial))\n",
    "# blocks_imgs\n",
    "    "
   ]
  },
  {
   "cell_type": "code",
   "execution_count": 5,
   "metadata": {},
   "outputs": [
    {
     "name": "stdout",
     "output_type": "stream",
     "text": [
      "[[4 1 5 3 5 4 6 3 6 2 0 2 8 4 8 7 9 7 3 1]\n",
      " [2 1 3 2 3 0 5 3 6 3 7 4 7 8 7 9 6 5 2 1]\n",
      " [2 6 4 6 4 3 8 3 1 3 9 6 4 6 3 9 1 3 6 7]\n",
      " [3 0 8 5 8 3 5 4 9 4 1 2 5 2 5 6 9 2 6 9]\n",
      " [4 3 6 3 6 3 9 5 2 6 5 9 7 9 6 9 2 6 7 6]\n",
      " [0 7 1 0 1 8 0 8 9 1 6 4 5 7 5 1 2 1 2 9]\n",
      " [7 3 7 8 7 8 7 6 1 2 6 0 1 3 8 9 2 5 2 9]\n",
      " [8 9 7 6 7 3 9 8 4 2 5 8 2 9 6 0 5 8 9 6]\n",
      " [2 0 9 0 2 9 3 9 0 9 7 8 2 0 3 5 0 5 1 5]\n",
      " [1 6 5 6 8 6 2 6 8 1 9 8 7 8 1 9 8 9 2 0]\n",
      " [9 4 1 2 5 1 9 6 0 8 0 4 2 3 2 9 2 3 6 4]\n",
      " [7 1 8 5 1 5 3 7 6 4 0 1 0 9 0 2 6 7 8 9]\n",
      " [7 2 7 8 7 8 1 3 7 0 7 9 1 2 0 2 3 6 7 1]\n",
      " [2 6 4 8 2 1 5 1 8 7 4 5 9 5 6 8 9 4 9 4]\n",
      " [5 9 2 9 6 9 6 9 1 0 6 0 8 0 8 5 4 1 0 5]\n",
      " [1 2 3 6 4 9 4 9 6 7 9 4 2 4 1 4 5 1 5 8]\n",
      " [7 4 3 1 7 5 2 3 7 4 6 1 8 7 4 7 8 5 0 3]\n",
      " [0 6 2 3 8 0 1 5 4 5 0 5 2 4 9 2 0 8 4 8]\n",
      " [7 4 3 4 7 1 7 0 8 0 7 4 1 5 1 4 8 2 4 8]\n",
      " [4 8 5 4 3 5 4 1 0 8 3 2 5 4 7 8 7 0 4 1]\n",
      " [4 0 4 7 0 1 6 5 0 5 0 5 3 7 8 2 7 9 1 0]\n",
      " [4 3 2 5 0 5 3 0 4 0 3 1 7 0 7 3 1 8 0 3]\n",
      " [2 8 0 4 3 8 6 3 6 4 6 4 6 7 3 7 6 7 6 2]\n",
      " [6 7 1 5 1 9 1 0 5 3 5 0 2 7 5 3 5 8 5 3]\n",
      " [9 3 4 0 1 9 8 1 3 8 9 2 0 2 0 2 9 6 9 3]]\n"
     ]
    }
   ],
   "source": [
    "np.count_nonzero(blocks_imgs==0)\n",
    "print(blocks_imgs)"
   ]
  },
  {
   "cell_type": "markdown",
   "metadata": {},
   "source": [
    "## Experiment section"
   ]
  },
  {
   "cell_type": "code",
   "execution_count": 6,
   "metadata": {},
   "outputs": [],
   "source": [
    "def drawTextOnScreen(massage) :\n",
    "    message = visual.TextStim( mywin, text=massage, languageStyle='LTR')\n",
    "    message.contrast =  0.3\n",
    "    message.height= 0.07\n",
    "    message.draw() # draw on screen\n",
    "    mywin.flip()   # refresh to show what we have draw\n",
    "\n",
    "def drawTrial( fileName, stimTime ) :\n",
    "    imgPath=image_folder+\"/\"+str(fileName)+\".png\"\n",
    "    drawTextOnScreen('') \n",
    "    core.wait(stim_blink_time)\n",
    "    img = visual.ImageStim( mywin,  image=imgPath )\n",
    "    img.size *= 1.5\n",
    "    img.draw()\n",
    "    mywin.flip()\n",
    "    eegMarking(fileName, \"img_stim\" )\n",
    "    core.wait(stimTime)\n",
    "    \n",
    "def drawFixation(fileName, fixationTime):\n",
    "    fixation = visual.ShapeStim(mywin,\n",
    "                                vertices=((0, -0.5), (0, 0.5), (0,0), (-0.5,0), (0.5, 0)),\n",
    "                                lineWidth=5,\n",
    "                                closeShape=False,\n",
    "                                lineColor=\"white\"\n",
    "            )\n",
    "    fixation.draw()\n",
    "    if not(isTrianing) :\n",
    "        text = f\"Block {block+1} / {len(blocks_imgs)}\"\n",
    "        message = visual.TextStim( mywin, text=text, languageStyle='LTR' )\n",
    "        message.contrast =  0.3\n",
    "        message.pos = (0, -0.6)\n",
    "        message.draw() # draw on screen\n",
    "        \n",
    "    mywin.flip()   # refresh to show what we have draw\n",
    "    eegMarking(fileName, \"fixation\" )\n",
    "    core.wait(fixationTime-0.5)\n",
    "    drawTextOnScreen('')\n",
    "    core.wait(0.5)\n",
    "     \n",
    "def eegMarking(img, stampType):   # use trial variable from main\n",
    "    if not isTrianing :\n",
    "        if stampType == \"img_stim\" :\n",
    "            markerString = str(block+1) + \",\" + str(trial) + \",\"  + str(img)\n",
    "        elif stampType == \"fixation\" :\n",
    "            markerString = str((block+1)*-1) + \",\" +str(\"Fixation\") + \",\" + str(\"Fixation\")\n",
    "    else:\n",
    "        markerString = 'Training'\n",
    "    markerString= str(markerString)                              \n",
    "    print(\"Marker string {}\".format(markerString))\n",
    "    outlet.push_sample([markerString])"
   ]
  },
  {
   "cell_type": "markdown",
   "metadata": {},
   "source": [
    "### Stimulies"
   ]
  },
  {
   "cell_type": "code",
   "execution_count": null,
   "metadata": {},
   "outputs": [
    {
     "name": "stdout",
     "output_type": "stream",
     "text": [
      "Marker string 24,20,3\n",
      "Marker string -24,Fixation,Fixation\n"
     ]
    }
   ],
   "source": [
    "mywin = visual.Window([1366, 768], color=\"black\", units='norm')     # set the screen and full screen mode\n",
    "# mywin = visual.Window([1920, 1080], color=\"black\", units='norm')    # set the screen and full screen mode\n",
    "\n",
    "##############\n",
    "####  Training session\n",
    "while True:\n",
    "    isTrianing = True\n",
    "    drawTextOnScreen('Training session, Press space bar to start')\n",
    "    keys = event.getKeys()\n",
    "    if 'space' in keys:      # If space has been pushed\n",
    "        start = time.time()\n",
    "        drawTextOnScreen('') \n",
    "        trial = 1\n",
    "        for img in blocks_imgs[4]:\n",
    "            drawTrial(img, stim_time)   # drawTrail(fileName, stimTime, thinkingTime, fixationTime)\n",
    "\n",
    "            if trial == 3 :\n",
    "                break\n",
    "            trial += 1\n",
    "\n",
    "        drawFixation(img, fixation_time)\n",
    "        drawTextOnScreen('End of training session')\n",
    "        core.wait(5)\n",
    "        isTrianing = False\n",
    "        break\n",
    "\n",
    "        \n",
    "################\n",
    "####### Experiment session\n",
    "        \n",
    "while True:\n",
    "    drawTextOnScreen('Experiment session : Press space bar to start')\n",
    "    keys = event.getKeys()\n",
    "    if 'space' in keys:      # If space has been pushed\n",
    "        start = time.time()\n",
    "        drawTextOnScreen('') \n",
    "        \n",
    "        for block in range(len(blocks_imgs)) :\n",
    "            trial = 1\n",
    "            for img in blocks_imgs[block]:\n",
    "                clear_output(wait=True)\n",
    "                drawTrial(img, stim_time)   # drawTrail(fileName, stimTime, thinkingTime, fixationTime)\n",
    "                trial += 1\n",
    "            if block != num_block:  # do not draw fixation on last block\n",
    "                drawFixation(img, fixation_time)\n",
    "        drawTextOnScreen('End of experiment, Thank you')\n",
    "        \n",
    "        stop  = time.time()\n",
    "        print(f\"Total experiment time = {(stop-start)/60} \")\n",
    "        core.wait(10)\n",
    "        break\n",
    "    \n",
    "mywin.close()"
   ]
  },
  {
   "cell_type": "code",
   "execution_count": null,
   "metadata": {},
   "outputs": [],
   "source": [
    "mywin.close()"
   ]
  },
  {
   "cell_type": "code",
   "execution_count": null,
   "metadata": {},
   "outputs": [],
   "source": []
  }
 ],
 "metadata": {
  "kernelspec": {
   "display_name": "pyenv",
   "language": "python",
   "name": "pyenv"
  },
  "language_info": {
   "codemirror_mode": {
    "name": "ipython",
    "version": 3
   },
   "file_extension": ".py",
   "mimetype": "text/x-python",
   "name": "python",
   "nbconvert_exporter": "python",
   "pygments_lexer": "ipython3",
   "version": "3.8.5"
  }
 },
 "nbformat": 4,
 "nbformat_minor": 4
}
