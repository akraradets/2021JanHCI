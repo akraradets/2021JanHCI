{
 "cells": [
  {
   "cell_type": "markdown",
   "metadata": {},
   "source": [
    "# Chunk size experiment \n",
    "Use this jupyter to generate the image stimuli matrix\n",
    "\n",
    "Goal :\n",
    "    We need 1000 chunks of stimuli EEG data \n",
    "    So, we need to stimuli 0-9 for 1000 times which means that\n",
    "    \n",
    "    0 - display 100 times\n",
    "    1 - display 100 times\n",
    "    .\n",
    "    .\n",
    "    9 - display 100 times\n",
    "\n",
    "Information:\n",
    "    Chunk size = 64 samples\n",
    "    EEG sampling = 128 Hz with 16 electrod nodes\n",
    "    \n",
    "    \n",
    "Requirements:\n",
    "1. Genterate represent number 0-9 with 1000 number\n",
    "2. Divide it in to 20 blcok, 50 images per block\n",
    "3. Current tail should not same number with previous\n"
   ]
  },
  {
   "cell_type": "code",
   "execution_count": 1,
   "metadata": {},
   "outputs": [],
   "source": [
    "import random\n",
    "import pylsl\n",
    "import numpy as np\n",
    "import pandas as pd\n",
    "import time\n",
    "import itertools\n",
    "import math\n",
    "import psychopy \n",
    "from psychopy import visual, core, event\n",
    "from datetime import datetime\n",
    "from IPython.display import clear_output\n"
   ]
  },
  {
   "cell_type": "code",
   "execution_count": 2,
   "metadata": {},
   "outputs": [],
   "source": [
    "#==============================================\n",
    "# experiment parameters\n",
    "#==============================================\n",
    "num_trail  = 10\n",
    "images_per_block = 5\n",
    "num_chunk  = 640\n",
    "num_block  = num_chunk/num_trail\n",
    "stim_time = 1\n",
    "stim_blink_time = 0.2\n",
    "\n",
    "fixation_time = 2  # inter trial interval, i.e., how long the fixation will stay in second\n",
    "\n",
    "\n",
    "#==============================================\n",
    "# Configuration\n",
    "#==============================================\n",
    "image_folder='numerical_stimuli'\n",
    "\n",
    "\n",
    "#name, type, channel_count, sampling rate, channel format, source_id\n",
    "#info = StreamInfo('CytonMarkers', 'Markers', 1, 0.0, 'int32', 'CytonMarkerID')#make an outlet\n",
    "info = pylsl.StreamInfo('CytonMarkers', 'Markers', 1, 0.0, 'string', 'CytonMarkerID')#make an outlet\n",
    "outlet = pylsl.StreamOutlet(info)\n"
   ]
  },
  {
   "cell_type": "markdown",
   "metadata": {},
   "source": [
    "### Generate 100 number"
   ]
  },
  {
   "cell_type": "code",
   "execution_count": 3,
   "metadata": {},
   "outputs": [],
   "source": [
    "\n",
    "def genNumbers(num):\n",
    "    trail_sequence = []\n",
    "    for loop in range(int(num/10)):\n",
    "        sequence = np.arange(10)\n",
    "        trail_sequence.extend(sequence)\n",
    "    random.shuffle(trail_sequence)\n",
    "    return trail_sequence\n",
    "\n",
    "\n",
    "# find the 2 consecutive\n",
    "def findConsecutive(data):\n",
    "    for loop_i in range(len(data)):\n",
    "        if loop_i <= (len(data)-2) :\n",
    "            if data[loop_i] == data[loop_i+1] :\n",
    "                fixConsecutive(data, loop_i+1)\n",
    "\n",
    "# find the positon that can swap\n",
    "def fixConsecutive(data, position):\n",
    "    if position <= ( len(data) -2 ) :\n",
    "        counter = len(data) - position\n",
    "        for ii in range(counter) :\n",
    "            if data[position] != data[position+ii] :\n",
    "                # swap \n",
    "                swapPositions(data,position, position+ii )\n",
    "                return\n",
    "            \n",
    "# swap 2 value\n",
    "def swapPositions(list, pos1, pos2): \n",
    "    list[pos1], list[pos2] = list[pos2], list[pos1] \n",
    "    #print(f\"swap index {pos1} <-> {pos2}\")\n",
    "    return \n",
    "\n",
    "\n",
    "# check 2 consecutive value\n",
    "def checkConsecutive(data):\n",
    "    num_consecutive = 0\n",
    "    for loop_i in range(len(data)):\n",
    "        if loop_i <= (len(data)-2) :\n",
    "            if data[loop_i] == data[loop_i+1] :\n",
    "                #print(f\"Consecutive found : {loop_i}<->{loop_i+1} , value {data[loop_i]} \" )\n",
    "                num_consecutive = num_consecutive+1\n",
    "    return num_consecutive\n"
   ]
  },
  {
   "cell_type": "code",
   "execution_count": 4,
   "metadata": {},
   "outputs": [
    {
     "name": "stdout",
     "output_type": "stream",
     "text": [
      "First consecutive check : There is some consecutive number in the list\n",
      "Second consecutive check : PASS\n"
     ]
    },
    {
     "data": {
      "text/plain": [
       "(5, 10)"
      ]
     },
     "execution_count": 4,
     "metadata": {},
     "output_type": "execute_result"
    }
   ],
   "source": [
    "# generate 0-9 for 1000 value\n",
    "trails = genNumbers(num_trail*images_per_block)\n",
    "\n",
    "\n",
    "if checkConsecutive(trails) :\n",
    "    print(f\"First consecutive check : There is some consecutive number in the list\")\n",
    "\n",
    "# find and fix consecutive number\n",
    "findConsecutive(trails)\n",
    "\n",
    "if checkConsecutive(trails) :\n",
    "    print(f\"Second check : There is still two same consecutive number in the list\")\n",
    "else :\n",
    "    print(f\"Second consecutive check : PASS\")\n",
    "    \n",
    "blocks_imgs = np.reshape(trails, (-1,num_trail))\n",
    "blocks_imgs.shape\n",
    "    "
   ]
  },
  {
   "cell_type": "code",
   "execution_count": 5,
   "metadata": {},
   "outputs": [
    {
     "data": {
      "text/plain": [
       "array([[3, 5, 4, 7, 2, 4, 1, 0, 2, 3],\n",
       "       [2, 4, 9, 2, 8, 0, 5, 3, 6, 7],\n",
       "       [8, 6, 4, 9, 8, 1, 8, 5, 0, 7],\n",
       "       [6, 0, 6, 1, 3, 9, 1, 7, 0, 7],\n",
       "       [9, 6, 3, 9, 1, 5, 4, 5, 8, 2]])"
      ]
     },
     "execution_count": 5,
     "metadata": {},
     "output_type": "execute_result"
    }
   ],
   "source": [
    "\n",
    "np.count_nonzero(blocks_imgs==0)\n",
    "blocks_imgs"
   ]
  },
  {
   "cell_type": "markdown",
   "metadata": {},
   "source": [
    "### Experiment section"
   ]
  },
  {
   "cell_type": "code",
   "execution_count": 6,
   "metadata": {},
   "outputs": [],
   "source": [
    "def drawTextOnScreen(massage) :\n",
    "    message = visual.TextStim( mywin, text=massage, languageStyle='LTR' )\n",
    "    message.contrast =  0.3\n",
    "    message.draw() # draw on screen\n",
    "    mywin.flip()   # refresh to show what we have draw\n",
    "\n",
    "    \n",
    "def drawTrial( fileName, stimTime ) :\n",
    "    imgPath=image_folder+\"/\"+str(fileName)+\".png\"\n",
    "    img = visual.ImageStim( mywin,  image=imgPath )\n",
    "    img.size *= 2\n",
    "    img.draw()\n",
    "    mywin.flip()\n",
    "    eegMarking(fileName, \"img_stim\" )\n",
    "    core.wait(stimTime)\n",
    "    drawTextOnScreen('') \n",
    "    core.wait(stim_blink_time)\n",
    "    \n",
    "\n",
    "    \n",
    "def drawFixation(fileName, fixationTime):\n",
    "    fixation = visual.ShapeStim(mywin,\n",
    "                                vertices=((0, -0.5), (0, 0.5), (0,0), (-0.5,0), (0.5, 0)),\n",
    "                                lineWidth=5,\n",
    "                                closeShape=False,\n",
    "                                lineColor=\"white\"\n",
    "            )\n",
    "    fixation.draw()\n",
    "    mywin.flip() #refresh\n",
    "    eegMarking(fileName, \"fixation\" )\n",
    "    core.wait(fixationTime-0.5)\n",
    "    drawTextOnScreen('')\n",
    "    core.wait(0.5)\n",
    "     \n",
    "\n",
    "def eegMarking(img, stampType):   # use trial variable from main\n",
    "    if not isTrianing :\n",
    "        if stampType == \"img_stim\" :\n",
    "            markerString = str(block+1) + \",\" + str(trial) + \",\"  + str(img)\n",
    "        elif stampType == \"fixation\" :\n",
    "            markerString = str((block+1)*-1) + \",\" +str(\"*\") + \",\" + str(\"*\")\n",
    "    else:\n",
    "        markerString = 'Training'\n",
    "    markerString= str(markerString)                              \n",
    "    print(\"Marker string {}\".format(markerString))\n",
    "    outlet.push_sample([markerString])\n",
    "  \n"
   ]
  },
  {
   "cell_type": "code",
   "execution_count": 7,
   "metadata": {},
   "outputs": [
    {
     "data": {
      "text/plain": [
       "2"
      ]
     },
     "execution_count": 7,
     "metadata": {},
     "output_type": "execute_result"
    }
   ],
   "source": [
    "random.randint(1, 10)"
   ]
  },
  {
   "cell_type": "code",
   "execution_count": 8,
   "metadata": {},
   "outputs": [
    {
     "name": "stdout",
     "output_type": "stream",
     "text": [
      "Marker string 1,4,7\n"
     ]
    },
    {
     "ename": "KeyboardInterrupt",
     "evalue": "",
     "output_type": "error",
     "traceback": [
      "\u001b[0;31m---------------------------------------------------------------------------\u001b[0m",
      "\u001b[0;31mKeyboardInterrupt\u001b[0m                         Traceback (most recent call last)",
      "\u001b[0;32m<ipython-input-8-caab1abed0f1>\u001b[0m in \u001b[0;36m<module>\u001b[0;34m\u001b[0m\n\u001b[1;32m     40\u001b[0m             \u001b[0;32mfor\u001b[0m \u001b[0mimg\u001b[0m \u001b[0;32min\u001b[0m \u001b[0mblocks_imgs\u001b[0m\u001b[0;34m[\u001b[0m\u001b[0mblock\u001b[0m\u001b[0;34m]\u001b[0m\u001b[0;34m:\u001b[0m\u001b[0;34m\u001b[0m\u001b[0;34m\u001b[0m\u001b[0m\n\u001b[1;32m     41\u001b[0m                 \u001b[0mclear_output\u001b[0m\u001b[0;34m(\u001b[0m\u001b[0mwait\u001b[0m\u001b[0;34m=\u001b[0m\u001b[0;32mTrue\u001b[0m\u001b[0;34m)\u001b[0m\u001b[0;34m\u001b[0m\u001b[0;34m\u001b[0m\u001b[0m\n\u001b[0;32m---> 42\u001b[0;31m                 \u001b[0mdrawTrial\u001b[0m\u001b[0;34m(\u001b[0m\u001b[0mimg\u001b[0m\u001b[0;34m,\u001b[0m \u001b[0mstim_time\u001b[0m\u001b[0;34m)\u001b[0m   \u001b[0;31m# drawTrail(fileName, stimTime, thinkingTime, fixationTime)\u001b[0m\u001b[0;34m\u001b[0m\u001b[0;34m\u001b[0m\u001b[0m\n\u001b[0m\u001b[1;32m     43\u001b[0m                 \u001b[0mtrial\u001b[0m \u001b[0;34m+=\u001b[0m \u001b[0;36m1\u001b[0m\u001b[0;34m\u001b[0m\u001b[0;34m\u001b[0m\u001b[0m\n\u001b[1;32m     44\u001b[0m \u001b[0;34m\u001b[0m\u001b[0m\n",
      "\u001b[0;32m<ipython-input-6-959f3869510c>\u001b[0m in \u001b[0;36mdrawTrial\u001b[0;34m(fileName, stimTime)\u001b[0m\n\u001b[1;32m     13\u001b[0m     \u001b[0mmywin\u001b[0m\u001b[0;34m.\u001b[0m\u001b[0mflip\u001b[0m\u001b[0;34m(\u001b[0m\u001b[0;34m)\u001b[0m\u001b[0;34m\u001b[0m\u001b[0;34m\u001b[0m\u001b[0m\n\u001b[1;32m     14\u001b[0m     \u001b[0meegMarking\u001b[0m\u001b[0;34m(\u001b[0m\u001b[0mfileName\u001b[0m\u001b[0;34m,\u001b[0m \u001b[0;34m\"img_stim\"\u001b[0m \u001b[0;34m)\u001b[0m\u001b[0;34m\u001b[0m\u001b[0;34m\u001b[0m\u001b[0m\n\u001b[0;32m---> 15\u001b[0;31m     \u001b[0mcore\u001b[0m\u001b[0;34m.\u001b[0m\u001b[0mwait\u001b[0m\u001b[0;34m(\u001b[0m\u001b[0mstimTime\u001b[0m\u001b[0;34m)\u001b[0m\u001b[0;34m\u001b[0m\u001b[0;34m\u001b[0m\u001b[0m\n\u001b[0m\u001b[1;32m     16\u001b[0m     \u001b[0mdrawTextOnScreen\u001b[0m\u001b[0;34m(\u001b[0m\u001b[0;34m''\u001b[0m\u001b[0;34m)\u001b[0m\u001b[0;34m\u001b[0m\u001b[0;34m\u001b[0m\u001b[0m\n\u001b[1;32m     17\u001b[0m     \u001b[0mcore\u001b[0m\u001b[0;34m.\u001b[0m\u001b[0mwait\u001b[0m\u001b[0;34m(\u001b[0m\u001b[0mstim_blink_time\u001b[0m\u001b[0;34m)\u001b[0m\u001b[0;34m\u001b[0m\u001b[0;34m\u001b[0m\u001b[0m\n",
      "\u001b[0;32m~/pyenv/lib/python3.8/site-packages/psychopy/clock.py\u001b[0m in \u001b[0;36mwait\u001b[0;34m(secs, hogCPUperiod)\u001b[0m\n\u001b[1;32m    317\u001b[0m     \u001b[0;31m# initial relaxed period, using sleep (better for system resources etc)\u001b[0m\u001b[0;34m\u001b[0m\u001b[0;34m\u001b[0m\u001b[0;34m\u001b[0m\u001b[0m\n\u001b[1;32m    318\u001b[0m     \u001b[0;32mif\u001b[0m \u001b[0msecs\u001b[0m \u001b[0;34m>\u001b[0m \u001b[0mhogCPUperiod\u001b[0m\u001b[0;34m:\u001b[0m\u001b[0;34m\u001b[0m\u001b[0;34m\u001b[0m\u001b[0m\n\u001b[0;32m--> 319\u001b[0;31m         \u001b[0mtime\u001b[0m\u001b[0;34m.\u001b[0m\u001b[0msleep\u001b[0m\u001b[0;34m(\u001b[0m\u001b[0msecs\u001b[0m \u001b[0;34m-\u001b[0m \u001b[0mhogCPUperiod\u001b[0m\u001b[0;34m)\u001b[0m\u001b[0;34m\u001b[0m\u001b[0;34m\u001b[0m\u001b[0m\n\u001b[0m\u001b[1;32m    320\u001b[0m         \u001b[0msecs\u001b[0m \u001b[0;34m=\u001b[0m \u001b[0mhogCPUperiod\u001b[0m  \u001b[0;31m# only this much is now left\u001b[0m\u001b[0;34m\u001b[0m\u001b[0;34m\u001b[0m\u001b[0m\n\u001b[1;32m    321\u001b[0m \u001b[0;34m\u001b[0m\u001b[0m\n",
      "\u001b[0;31mKeyboardInterrupt\u001b[0m: "
     ]
    }
   ],
   "source": [
    "# mywin = visual.Window([1366, 768], fullscr=True, color=\"black\", units='norm')    # set the screen and full screen mode\n",
    "mywin = visual.Window([1920, 1080], color=\"black\", units='norm')    # set the screen and full screen mode\n",
    "\n",
    "##############\n",
    "####  Training session\n",
    "while True:\n",
    "    isTrianing = True\n",
    "    drawTextOnScreen('Training session, Press space bar to start')\n",
    "    keys = event.getKeys()\n",
    "    if 'space' in keys:      # If space has been pushed\n",
    "        start = time.time()\n",
    "        drawTextOnScreen('') \n",
    "        trial = 1\n",
    "        for img in blocks_imgs[4]:\n",
    "            drawTrial(img, stim_time)   # drawTrail(fileName, stimTime, thinkingTime, fixationTime)\n",
    "\n",
    "            if trial == 3 :\n",
    "                break\n",
    "            trial += 1\n",
    "\n",
    "        drawFixation(img, fixation_time)\n",
    "        drawTextOnScreen('End of trainning session')\n",
    "        core.wait(5)\n",
    "        isTrianing = False\n",
    "        break\n",
    "\n",
    "        \n",
    "################\n",
    "####### Experiment session\n",
    "        \n",
    "while True:\n",
    "    drawTextOnScreen('Experiment session : Press space bar to start')\n",
    "    keys = event.getKeys()\n",
    "    if 'space' in keys:      # If space has been pushed\n",
    "        start = time.time()\n",
    "        drawTextOnScreen('') \n",
    "        \n",
    "        for block in range(len(blocks_imgs)) :\n",
    "            trial = 1\n",
    "            for img in blocks_imgs[block]:\n",
    "                clear_output(wait=True)\n",
    "                drawTrial(img, stim_time)   # drawTrail(fileName, stimTime, thinkingTime, fixationTime)\n",
    "                trial += 1\n",
    "    \n",
    "            drawFixation(img, fixation_time)\n",
    "        drawTextOnScreen('End of experiment, Thank you')\n",
    "        \n",
    "        stop  = time.time()\n",
    "        print(f\"Total experiment time = {stop-start} \")\n",
    "        core.wait(10)\n",
    "        break\n",
    "    \n",
    "mywin.close()"
   ]
  },
  {
   "cell_type": "code",
   "execution_count": 9,
   "metadata": {},
   "outputs": [
    {
     "name": "stdout",
     "output_type": "stream",
     "text": [
      "0.7845 \tWARNING \tMonitor specification not found. Creating a temporary one...\n"
     ]
    }
   ],
   "source": [
    "mywin.close() "
   ]
  },
  {
   "cell_type": "code",
   "execution_count": null,
   "metadata": {},
   "outputs": [],
   "source": []
  }
 ],
 "metadata": {
  "kernelspec": {
   "display_name": "pyenv",
   "language": "python",
   "name": "pyenv"
  },
  "language_info": {
   "codemirror_mode": {
    "name": "ipython",
    "version": 3
   },
   "file_extension": ".py",
   "mimetype": "text/x-python",
   "name": "python",
   "nbconvert_exporter": "python",
   "pygments_lexer": "ipython3",
   "version": "3.8.5"
  }
 },
 "nbformat": 4,
 "nbformat_minor": 4
}
