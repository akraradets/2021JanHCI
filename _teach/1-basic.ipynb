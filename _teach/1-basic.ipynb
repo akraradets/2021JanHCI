{
 "cells": [
  {
   "cell_type": "code",
   "execution_count": null,
   "source": [],
   "outputs": [],
   "metadata": {}
  },
  {
   "cell_type": "markdown",
   "source": [
    "Define Code\n",
    "- a = 10\n",
    "- def func_A():\n",
    "     pass\n",
    "- class obj_A():\n",
    "     pass\n",
    "- import lib_A\n",
    "Exceute Code"
   ],
   "metadata": {}
  },
  {
   "cell_type": "markdown",
   "source": [
    "# 1. Variables"
   ],
   "metadata": {}
  },
  {
   "cell_type": "code",
   "execution_count": 114,
   "source": [
    "# 1.1 DataType - primitive Type\n",
    "print(type('\\' \\\\  &*(()jksdnfnkxcaz\"'))\n",
    "print(type(10))\n",
    "print(type(10.0))\n",
    "print(type(True))\n",
    "print(type(list([1,2,3])))\n",
    "print(type(set([1,2,3])))\n",
    "print(type(dict({1:1,2:2,3:3})))\n",
    "print(type(tuple([1,2])))\n",
    "print(type((1,2)))\n",
    "# 1.2 DataType - non-primitive type\n",
    "import numpy as np\n",
    "print(type(np.array([1,2,3])))"
   ],
   "outputs": [
    {
     "output_type": "stream",
     "name": "stdout",
     "text": [
      "<class 'str'>\n",
      "<class 'int'>\n",
      "<class 'float'>\n",
      "<class 'bool'>\n",
      "<class 'list'>\n",
      "<class 'set'>\n",
      "<class 'dict'>\n",
      "<class 'tuple'>\n",
      "<class 'tuple'>\n",
      "<class 'numpy.ndarray'>\n"
     ]
    }
   ],
   "metadata": {}
  },
  {
   "cell_type": "code",
   "execution_count": 120,
   "source": [
    "# string\n",
    "a = 10 + 20\n",
    "print(\"abcdefg\"[1:4])\n",
    "\n",
    "row = \"45810.558,47107.867,42393.840,44078.691,36173.930,56129.320,53424.289,44967.977,47652.152,0\".split(',')\n",
    "print(row)"
   ],
   "outputs": [
    {
     "output_type": "stream",
     "name": "stdout",
     "text": [
      "bcd\n",
      "['45810.558', '47107.867', '42393.840', '44078.691', '36173.930', '56129.320', '53424.289', '44967.977', '47652.152', '0']\n"
     ]
    }
   ],
   "metadata": {}
  },
  {
   "cell_type": "code",
   "execution_count": 121,
   "source": [
    "# List or => FILO (stack)\n",
    "a = ['a','b','c','a']\n",
    "print(a)\n",
    "a.append('123')\n",
    "print(a)\n",
    "print(a.pop())\n",
    "print(a)\n",
    "# a.insert(2,[1,2,3])\n",
    "print(a)\n",
    "print(a.remove('a'))\n",
    "print(a)\n",
    "a.sort()\n",
    "print(a)"
   ],
   "outputs": [
    {
     "output_type": "stream",
     "name": "stdout",
     "text": [
      "['a', 'b', 'c', 'a']\n",
      "['a', 'b', 'c', 'a', '123']\n",
      "123\n",
      "['a', 'b', 'c', 'a']\n",
      "['a', 'b', 'c', 'a']\n",
      "None\n",
      "['b', 'c', 'a']\n",
      "['a', 'b', 'c']\n"
     ]
    }
   ],
   "metadata": {}
  },
  {
   "cell_type": "code",
   "execution_count": 122,
   "source": [
    "b = {0: '1111',\n",
    "    '0':'aaa',\n",
    "    1:'bb', \n",
    "    2:'cc',\n",
    "    'b':'dd',\n",
    "    'cc':'asd'}\n",
    "print(b.keys())\n",
    "print(b.values())\n",
    "for key,value in b.items():\n",
    "    print(key, value)"
   ],
   "outputs": [
    {
     "output_type": "stream",
     "name": "stdout",
     "text": [
      "dict_keys([0, '0', 1, 2, 'b', 'cc'])\n",
      "dict_values([1111, 'aaa', 'bb', 'cc', 'dd', 'asd'])\n",
      "0 1111\n",
      "0 aaa\n",
      "1 bb\n",
      "2 cc\n",
      "b dd\n",
      "cc asd\n"
     ]
    }
   ],
   "metadata": {}
  },
  {
   "cell_type": "code",
   "execution_count": 110,
   "source": [
    "b.items()"
   ],
   "outputs": [
    {
     "output_type": "execute_result",
     "data": {
      "text/plain": [
       "dict_items([(0, [1111]), ('0', 'aaa'), (1, 'bb'), (2, 'cc'), ('b', 'dd'), ('cc', 'asd')])"
      ]
     },
     "metadata": {},
     "execution_count": 110
    }
   ],
   "metadata": {}
  },
  {
   "cell_type": "code",
   "execution_count": 119,
   "source": [
    "# Tuple\n",
    "tu = ('a',1,3)\n",
    "tu.index('a')"
   ],
   "outputs": [
    {
     "output_type": "execute_result",
     "data": {
      "text/plain": [
       "0"
      ]
     },
     "metadata": {},
     "execution_count": 119
    }
   ],
   "metadata": {}
  },
  {
   "cell_type": "code",
   "execution_count": 131,
   "source": [
    "# SET\n",
    "c = set({1,0,2,3,4,5,3})\n",
    "d = set([1,2,2,2,2,2])\n",
    "c.intersection(d)"
   ],
   "outputs": [
    {
     "output_type": "execute_result",
     "data": {
      "text/plain": [
       "{1, 2}"
      ]
     },
     "metadata": {},
     "execution_count": 131
    }
   ],
   "metadata": {}
  },
  {
   "cell_type": "code",
   "execution_count": 137,
   "source": [
    "#                                     frame, vertical, horizontal, RGB\n",
    "# ms = np.array([1,2,3,4,5,6,7,8,9,10]).reshape(10,1080,1920,3)\n",
    "var_a = None\n",
    "var_a = 'a' + 'b'"
   ],
   "outputs": [
    {
     "output_type": "execute_result",
     "data": {
      "text/plain": [
       "NoneType"
      ]
     },
     "metadata": {},
     "execution_count": 137
    }
   ],
   "metadata": {}
  },
  {
   "cell_type": "code",
   "execution_count": 142,
   "source": [
    "num = 10\n",
    "f\"log data ja | data is {num}\""
   ],
   "outputs": [
    {
     "output_type": "execute_result",
     "data": {
      "text/plain": [
       "'log data ja| data is 10'"
      ]
     },
     "metadata": {},
     "execution_count": 142
    }
   ],
   "metadata": {}
  },
  {
   "cell_type": "markdown",
   "source": [
    "# Side syntax"
   ],
   "metadata": {}
  },
  {
   "cell_type": "code",
   "execution_count": 170,
   "source": [
    "if True and 1:\n",
    "    pass\n",
    "elif True:\n",
    "    pass\n",
    "else:\n",
    "    pass"
   ],
   "outputs": [],
   "metadata": {}
  },
  {
   "cell_type": "code",
   "execution_count": 175,
   "source": [
    "loop_count = 10\n",
    "count = 0\n",
    "while count < loop_count:\n",
    "    print(count)\n",
    "    count = count + 3"
   ],
   "outputs": [
    {
     "output_type": "stream",
     "name": "stdout",
     "text": [
      "0\n",
      "3\n",
      "6\n",
      "9\n"
     ]
    }
   ],
   "metadata": {}
  },
  {
   "cell_type": "code",
   "execution_count": 200,
   "source": [
    "for i in range(1,10,3):\n",
    "    print(i)"
   ],
   "outputs": [
    {
     "output_type": "stream",
     "name": "stdout",
     "text": [
      "1\n",
      "4\n",
      "7\n"
     ]
    }
   ],
   "metadata": {}
  },
  {
   "cell_type": "code",
   "execution_count": 201,
   "source": [
    "for i in np.arange(1,10,3):\n",
    "    print(i)"
   ],
   "outputs": [
    {
     "output_type": "stream",
     "name": "stdout",
     "text": [
      "1\n",
      "4\n",
      "7\n"
     ]
    }
   ],
   "metadata": {}
  },
  {
   "cell_type": "code",
   "execution_count": 192,
   "source": [
    "for value in enumerate(['a','b','c']):\n",
    "    print(value)\n"
   ],
   "outputs": [
    {
     "output_type": "stream",
     "name": "stdout",
     "text": [
      "(0, 'a')\n",
      "(1, 'b')\n",
      "(2, 'c')\n"
     ]
    }
   ],
   "metadata": {}
  },
  {
   "cell_type": "code",
   "execution_count": 187,
   "source": [
    "for index,value in dict({0:'a',1:'b',2:'c'}).items():\n",
    "    print(index,value)"
   ],
   "outputs": [
    {
     "output_type": "stream",
     "name": "stdout",
     "text": [
      "0 a\n",
      "1 b\n",
      "2 c\n"
     ]
    }
   ],
   "metadata": {}
  },
  {
   "cell_type": "code",
   "execution_count": 216,
   "source": [
    "firstname = ['fa','fb','fc','fd']\n",
    "lastname = ['la','lb','lc','ld']\n",
    "ids = ['i11','i12','i13','i14']\n",
    "\n",
    "for index,i in enumerate(ids):\n",
    "    print(index, i, ids[index], firstname[index], lastname[index])\n",
    "\n",
    "for i,fname,lname in zip(ids,firstname,lastname):\n",
    "    print(i,fname,lname)"
   ],
   "outputs": [
    {
     "output_type": "stream",
     "name": "stdout",
     "text": [
      "0 i11 i11 fa la\n",
      "1 i12 i12 fb lb\n",
      "2 i13 i13 fc lc\n",
      "3 i14 i14 fd ld\n",
      "i11 fa la\n",
      "i12 fb lb\n",
      "i13 fc lc\n",
      "i14 fd ld\n"
     ]
    }
   ],
   "metadata": {}
  },
  {
   "cell_type": "markdown",
   "source": [
    "# 2. function"
   ],
   "metadata": {}
  },
  {
   "cell_type": "code",
   "execution_count": 217,
   "source": [
    "def func_a(arg_1, arg_2, arg_3):\n",
    "    print(arg_1, arg_2, arg_3)"
   ],
   "outputs": [],
   "metadata": {}
  },
  {
   "cell_type": "code",
   "execution_count": 245,
   "source": [
    "def avg(n1,n2=100,n3=400):\n",
    "    su = n1 + n2\n",
    "    avg = su / 2\n",
    "    return avg\n",
    "def avg2(*n):\n",
    "    print(n)\n",
    "    temp1 = sum(n)\n",
    "    print(temp1)"
   ],
   "outputs": [],
   "metadata": {}
  },
  {
   "cell_type": "code",
   "execution_count": 5,
   "source": [
    "print(avg(n1=50,n3=10))\n",
    "avg2(1,2,3,4,5)"
   ],
   "outputs": [
    {
     "output_type": "error",
     "ename": "NameError",
     "evalue": "name 'avg' is not defined",
     "traceback": [
      "\u001b[0;31m---------------------------------------------------------------------------\u001b[0m",
      "\u001b[0;31mNameError\u001b[0m                                 Traceback (most recent call last)",
      "\u001b[0;32m<ipython-input-5-70423ed523a3>\u001b[0m in \u001b[0;36m<module>\u001b[0;34m\u001b[0m\n\u001b[0;32m----> 1\u001b[0;31m \u001b[0mprint\u001b[0m\u001b[0;34m(\u001b[0m\u001b[0mavg\u001b[0m\u001b[0;34m(\u001b[0m\u001b[0mn1\u001b[0m\u001b[0;34m=\u001b[0m\u001b[0;36m50\u001b[0m\u001b[0;34m,\u001b[0m\u001b[0mn3\u001b[0m\u001b[0;34m=\u001b[0m\u001b[0;36m10\u001b[0m\u001b[0;34m)\u001b[0m\u001b[0;34m)\u001b[0m\u001b[0;34m\u001b[0m\u001b[0;34m\u001b[0m\u001b[0m\n\u001b[0m\u001b[1;32m      2\u001b[0m \u001b[0mavg2\u001b[0m\u001b[0;34m(\u001b[0m\u001b[0;36m1\u001b[0m\u001b[0;34m,\u001b[0m\u001b[0;36m2\u001b[0m\u001b[0;34m,\u001b[0m\u001b[0;36m3\u001b[0m\u001b[0;34m,\u001b[0m\u001b[0;36m4\u001b[0m\u001b[0;34m,\u001b[0m\u001b[0;36m5\u001b[0m\u001b[0;34m)\u001b[0m\u001b[0;34m\u001b[0m\u001b[0;34m\u001b[0m\u001b[0m\n",
      "\u001b[0;31mNameError\u001b[0m: name 'avg' is not defined"
     ]
    }
   ],
   "metadata": {}
  },
  {
   "cell_type": "markdown",
   "source": [
    "# 4. import"
   ],
   "metadata": {}
  },
  {
   "cell_type": "code",
   "execution_count": 1,
   "source": [
    "import numpy\n",
    "import matplotlib.pyplot as plt"
   ],
   "outputs": [
    {
     "output_type": "error",
     "ename": "ModuleNotFoundError",
     "evalue": "No module named 'numpy.array'",
     "traceback": [
      "\u001b[0;31m---------------------------------------------------------------------------\u001b[0m",
      "\u001b[0;31mModuleNotFoundError\u001b[0m                       Traceback (most recent call last)",
      "\u001b[0;32m<ipython-input-1-2857e48793ec>\u001b[0m in \u001b[0;36m<module>\u001b[0;34m\u001b[0m\n\u001b[0;32m----> 1\u001b[0;31m \u001b[0;32mimport\u001b[0m \u001b[0mnumpy\u001b[0m\u001b[0;34m.\u001b[0m\u001b[0marray\u001b[0m\u001b[0;34m\u001b[0m\u001b[0;34m\u001b[0m\u001b[0m\n\u001b[0m",
      "\u001b[0;31mModuleNotFoundError\u001b[0m: No module named 'numpy.array'"
     ]
    }
   ],
   "metadata": {}
  },
  {
   "cell_type": "code",
   "execution_count": 3,
   "source": [
    "from utils import *"
   ],
   "outputs": [],
   "metadata": {}
  },
  {
   "cell_type": "code",
   "execution_count": 4,
   "source": [
    "a()"
   ],
   "outputs": [
    {
     "output_type": "stream",
     "name": "stdout",
     "text": [
      "a\n"
     ]
    }
   ],
   "metadata": {}
  },
  {
   "cell_type": "markdown",
   "source": [
    "# 3. class - OOP"
   ],
   "metadata": {}
  },
  {
   "cell_type": "code",
   "execution_count": 30,
   "source": [
    "class shirt:\n",
    "    size = 's'\n",
    "    \n",
    "    def __init__(self,c_input):\n",
    "        self.color = c_input\n",
    "\n",
    "    def "
   ],
   "outputs": [],
   "metadata": {}
  },
  {
   "cell_type": "code",
   "execution_count": 31,
   "source": [
    "amp_shirt = shirt('red')\n",
    "jo_shirt = shirt('black')"
   ],
   "outputs": [],
   "metadata": {}
  },
  {
   "cell_type": "code",
   "execution_count": 39,
   "source": [
    "print(amp_shirt.color, amp_shirt.size)\n",
    "print(jo_shirt.color, jo_shirt.size)"
   ],
   "outputs": [
    {
     "output_type": "stream",
     "name": "stdout",
     "text": [
      "red s\n",
      "black s <bound method shirt.__init__ of <__main__.shirt object at 0x7f1e7c47ad00>>\n"
     ]
    }
   ],
   "metadata": {}
  },
  {
   "cell_type": "code",
   "execution_count": 36,
   "source": [
    "a = [1,2,3]\n",
    "a.sort"
   ],
   "outputs": [
    {
     "output_type": "execute_result",
     "data": {
      "text/plain": [
       "<function list.sort(*, key=None, reverse=False)>"
      ]
     },
     "metadata": {},
     "execution_count": 36
    }
   ],
   "metadata": {}
  }
 ],
 "metadata": {
  "orig_nbformat": 4,
  "language_info": {
   "name": "python",
   "version": "3.8.10",
   "mimetype": "text/x-python",
   "codemirror_mode": {
    "name": "ipython",
    "version": 3
   },
   "pygments_lexer": "ipython3",
   "nbconvert_exporter": "python",
   "file_extension": ".py"
  },
  "kernelspec": {
   "name": "python3",
   "display_name": "Python 3.8.10 64-bit ('hci': venv)"
  },
  "interpreter": {
   "hash": "815efcf0c7342b169540b615ea1bef3fe0d02f9423b58bdf03d9ef3fd8d24248"
  }
 },
 "nbformat": 4,
 "nbformat_minor": 2
}