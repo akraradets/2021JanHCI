{
 "cells": [
  {
   "cell_type": "code",
   "execution_count": null,
   "source": [
    "coeff\n",
    "weight"
   ],
   "outputs": [],
   "metadata": {}
  },
  {
   "cell_type": "code",
   "execution_count": null,
   "source": [
    "y = a1x1 + a2x2 + b + l1 + l2"
   ],
   "outputs": [],
   "metadata": {}
  }
 ],
 "metadata": {
  "orig_nbformat": 4,
  "language_info": {
   "name": "python"
  }
 },
 "nbformat": 4,
 "nbformat_minor": 2
}