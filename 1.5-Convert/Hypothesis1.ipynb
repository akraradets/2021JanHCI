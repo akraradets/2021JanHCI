{
 "cells": [
  {
   "cell_type": "code",
   "execution_count": null,
   "source": [],
   "outputs": [],
   "metadata": {}
  },
  {
   "cell_type": "markdown",
   "source": [
    "# Hypothesis 1\n",
    "\n",
    "There is a relation between EEG signal and 3 levels of stress.\n",
    "\n",
    "For each pair of person and task, there are 3 distinct groups of EEG signals representing the 3 levels of stress."
   ],
   "metadata": {}
  }
 ],
 "metadata": {
  "orig_nbformat": 4,
  "language_info": {
   "name": "python"
  }
 },
 "nbformat": 4,
 "nbformat_minor": 2
}