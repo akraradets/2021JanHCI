{
 "cells": [
  {
   "cell_type": "markdown",
   "source": [
    "# Hypothesis 1\n",
    "\n",
    "There is a relation between EEG signal and 3 levels of stress.\n",
    "\n",
    "For each pair of person and task, there are 3 distinct groups of EEG signals representing the 3 levels of stress."
   ],
   "metadata": {}
  },
  {
   "cell_type": "code",
   "execution_count": 12,
   "source": [
    "from utils import *\n",
    "import pandas as pd\n",
    "import mne\n",
    "from glob import glob\n",
    "import numpy as np\n",
    "import matplotlib.pyplot as plt\n",
    "from tqdm.notebook import tqdm\n",
    "from sklearn.preprocessing import normalize, StandardScaler"
   ],
   "outputs": [],
   "metadata": {}
  },
  {
   "cell_type": "code",
   "execution_count": 2,
   "source": [
    "# start : begin of question\n",
    "# T: answer correct\n",
    "# F: answer incorrect\n",
    "# S: not answer in time\n",
    "# O: unexpected key press\n",
    "marker_names = [0,\n",
    "            'math,LowStress,start',\n",
    "            'math,LowStress,T',\n",
    "            'math,LowStress,F',\n",
    "            'math,LowStress,S',\n",
    "            'math,LowStress,O',\n",
    "            'math,MildStress,start',\n",
    "            'math,MildStress,T',\n",
    "            'math,MildStress,F',\n",
    "            'math,MildStress,S',\n",
    "            'math,MildStress,O',\n",
    "            'math,HigherStress,start',\n",
    "            'math,HigherStress,T',\n",
    "            'math,HigherStress,F',\n",
    "            'math,HigherStress,S',\n",
    "            'math,HigherStress,O',\n",
    "            'fixation,None,None']"
   ],
   "outputs": [],
   "metadata": {}
  },
  {
   "cell_type": "code",
   "execution_count": 3,
   "source": [
    "task = \"mathcontrol\" \n",
    "# task = \"mathstress\"\n",
    "\n",
    "files = glob(f\"data/*_{task}_*.csv\")\n",
    "names = []\n",
    "pd_raws = []\n",
    "raws = []\n",
    "with tqdm(files) as pbar:\n",
    "    for index, f in enumerate(pbar):\n",
    "        name, task, t_stamp = f.split('/')[1].split('_')\n",
    "        names.append(name)\n",
    "        pbar.set_description(f\"{index} {name}\")\n",
    "        pd_raw = pd.read_csv(f, dtype={'Marker':str})\n",
    "        pd_raw = marker_converter(pd_raw,marker_names)\n",
    "        pd_raws.append(pd_raw)\n",
    "\n",
    "print(f\"index\\tname\\tfile_name\")\n",
    "print(\"=\"*30)\n",
    "for index in range(len(names)):\n",
    "    print(f\"{index}\\t{names[index]}\\t{files[index]}\")"
   ],
   "outputs": [
    {
     "output_type": "display_data",
     "data": {
      "application/vnd.jupyter.widget-view+json": {
       "version_major": 2,
       "version_minor": 0,
       "model_id": "4c766cc3eb5a4e938bd57112e9f40a52"
      },
      "text/plain": [
       "  0%|          | 0/7 [00:00<?, ?it/s]"
      ]
     },
     "metadata": {}
    },
    {
     "output_type": "stream",
     "name": "stdout",
     "text": [
      "index\tname\tfile_name\n",
      "==============================\n",
      "0\tnuttasit\tdata/nuttasit_mathcontrol_2021-08-12-07.51.14.csv\n",
      "1\tnutcha\tdata/nutcha_mathcontrol_2021-08-10-12.00.36.csv\n",
      "2\tkrittithee\tdata/krittithee_mathcontrol_2021-08-13-04.23.39.csv\n",
      "3\tsurangrat\tdata/surangrat_mathcontrol_2021-08-12-04.52.16.csv\n",
      "4\tdusadee\tdata/dusadee_mathcontrol_2021-08-12-06.23.55.csv\n",
      "5\tprin\tdata/prin_mathcontrol_2021-08-13-06.18.47.csv\n",
      "6\tpumpath\tdata/pumpath_mathcontrol_2021-08-12-03.03.11.csv\n"
     ]
    }
   ],
   "metadata": {}
  },
  {
   "cell_type": "code",
   "execution_count": 4,
   "source": [
    "with tqdm(pd_raws) as pbar:\n",
    "    for index, pd_raw in enumerate(pbar):\n",
    "        pbar.set_description(f\"{index} {names[index]}\")\n",
    "        marker = pd_raw['Marker']\n",
    "        print(f\"Participant:'{names[index]}'\")\n",
    "        print(f\"Number of LowStress: {sum(marker == marker_names.index('math,LowStress,start'))}\")\n",
    "        print(f\"\\tcorrect: {sum(marker == marker_names.index('math,LowStress,T'))}\")\n",
    "        print(f\"\\tincorrect: {sum(marker == marker_names.index('math,LowStress,F'))}\")\n",
    "        print(f\"\\tslow: {sum(marker == marker_names.index('math,LowStress,S'))}\")\n",
    "        print(f\"\\tout of range: {sum(marker == marker_names.index('math,LowStress,O'))}\")\n",
    "\n",
    "        print(f\"Number of MildStress: {sum(marker == marker_names.index('math,MildStress,start'))}\")\n",
    "        print(f\"\\tcorrect: {sum(marker == marker_names.index('math,MildStress,T'))}\")\n",
    "        print(f\"\\tincorrect: {sum(marker == marker_names.index('math,MildStress,F'))}\")\n",
    "        print(f\"\\tslow: {sum(marker == marker_names.index('math,MildStress,S'))}\")\n",
    "        print(f\"\\tout of range: {sum(marker == marker_names.index('math,MildStress,O'))}\")\n",
    "        \n",
    "        print(f\"Number of HigherStress: {sum(marker == marker_names.index('math,HigherStress,start'))}\")\n",
    "        print(f\"\\tcorrect: {sum(marker == marker_names.index('math,HigherStress,T'))}\")\n",
    "        print(f\"\\tincorrect: {sum(marker == marker_names.index('math,HigherStress,F'))}\")\n",
    "        print(f\"\\tslow: {sum(marker == marker_names.index('math,HigherStress,S'))}\")\n",
    "        print(f\"\\tout of range: {sum(marker == marker_names.index('math,HigherStress,O'))}\")\n",
    "        print(f\"=\"*30)\n",
    "\n",
    "        marker[marker == marker_names.index('math,LowStress,T')] = 0\n",
    "        marker[marker == marker_names.index('math,LowStress,F')] = 0\n",
    "        marker[marker == marker_names.index('math,LowStress,S')] = 0\n",
    "        marker[marker == marker_names.index('math,LowStress,O')] = 0\n",
    "\n",
    "        marker[marker == marker_names.index('math,MildStress,T')] = 0\n",
    "        marker[marker == marker_names.index('math,MildStress,F')] = 0\n",
    "        marker[marker == marker_names.index('math,MildStress,S')] = 0\n",
    "        marker[marker == marker_names.index('math,MildStress,O')] = 0\n",
    "\n",
    "        marker[marker == marker_names.index('math,HigherStress,T')] = 0\n",
    "        marker[marker == marker_names.index('math,HigherStress,F')] = 0\n",
    "        marker[marker == marker_names.index('math,HigherStress,S')] = 0\n",
    "        marker[marker == marker_names.index('math,HigherStress,O')] = 0\n",
    "        # break"
   ],
   "outputs": [
    {
     "output_type": "display_data",
     "data": {
      "application/vnd.jupyter.widget-view+json": {
       "version_major": 2,
       "version_minor": 0,
       "model_id": "d3d5196a8cb44bec9658a482b8070458"
      },
      "text/plain": [
       "  0%|          | 0/7 [00:00<?, ?it/s]"
      ]
     },
     "metadata": {}
    },
    {
     "output_type": "stream",
     "name": "stdout",
     "text": [
      "Participant:'nuttasit'\n",
      "Number of LowStress: 79\n",
      "\tcorrect: 15\n",
      "\tincorrect: 1\n",
      "\tslow: 0\n",
      "\tout of range: 0\n",
      "Number of MildStress: 34\n",
      "\tcorrect: 7\n",
      "\tincorrect: 0\n",
      "\tslow: 0\n",
      "\tout of range: 0\n",
      "Number of HigherStress: 20\n",
      "\tcorrect: 3\n",
      "\tincorrect: 2\n",
      "\tslow: 0\n",
      "\tout of range: 0\n",
      "==============================\n",
      "Participant:'nutcha'\n",
      "Number of LowStress: 51\n",
      "\tcorrect: 17\n",
      "\tincorrect: 1\n",
      "\tslow: 0\n"
     ]
    },
    {
     "output_type": "stream",
     "name": "stderr",
     "text": [
      "<ipython-input-4-7c99ef2912c6>:25: SettingWithCopyWarning: \n",
      "A value is trying to be set on a copy of a slice from a DataFrame\n",
      "\n",
      "See the caveats in the documentation: https://pandas.pydata.org/pandas-docs/stable/user_guide/indexing.html#returning-a-view-versus-a-copy\n",
      "  marker[marker == marker_names.index('math,LowStress,T')] = 0\n",
      "<ipython-input-4-7c99ef2912c6>:26: SettingWithCopyWarning: \n",
      "A value is trying to be set on a copy of a slice from a DataFrame\n",
      "\n",
      "See the caveats in the documentation: https://pandas.pydata.org/pandas-docs/stable/user_guide/indexing.html#returning-a-view-versus-a-copy\n",
      "  marker[marker == marker_names.index('math,LowStress,F')] = 0\n",
      "<ipython-input-4-7c99ef2912c6>:27: SettingWithCopyWarning: \n",
      "A value is trying to be set on a copy of a slice from a DataFrame\n",
      "\n",
      "See the caveats in the documentation: https://pandas.pydata.org/pandas-docs/stable/user_guide/indexing.html#returning-a-view-versus-a-copy\n",
      "  marker[marker == marker_names.index('math,LowStress,S')] = 0\n",
      "<ipython-input-4-7c99ef2912c6>:28: SettingWithCopyWarning: \n",
      "A value is trying to be set on a copy of a slice from a DataFrame\n",
      "\n",
      "See the caveats in the documentation: https://pandas.pydata.org/pandas-docs/stable/user_guide/indexing.html#returning-a-view-versus-a-copy\n",
      "  marker[marker == marker_names.index('math,LowStress,O')] = 0\n",
      "<ipython-input-4-7c99ef2912c6>:30: SettingWithCopyWarning: \n",
      "A value is trying to be set on a copy of a slice from a DataFrame\n",
      "\n",
      "See the caveats in the documentation: https://pandas.pydata.org/pandas-docs/stable/user_guide/indexing.html#returning-a-view-versus-a-copy\n",
      "  marker[marker == marker_names.index('math,MildStress,T')] = 0\n",
      "<ipython-input-4-7c99ef2912c6>:31: SettingWithCopyWarning: \n",
      "A value is trying to be set on a copy of a slice from a DataFrame\n",
      "\n",
      "See the caveats in the documentation: https://pandas.pydata.org/pandas-docs/stable/user_guide/indexing.html#returning-a-view-versus-a-copy\n",
      "  marker[marker == marker_names.index('math,MildStress,F')] = 0\n",
      "<ipython-input-4-7c99ef2912c6>:32: SettingWithCopyWarning: \n",
      "A value is trying to be set on a copy of a slice from a DataFrame\n",
      "\n",
      "See the caveats in the documentation: https://pandas.pydata.org/pandas-docs/stable/user_guide/indexing.html#returning-a-view-versus-a-copy\n",
      "  marker[marker == marker_names.index('math,MildStress,S')] = 0\n",
      "<ipython-input-4-7c99ef2912c6>:33: SettingWithCopyWarning: \n",
      "A value is trying to be set on a copy of a slice from a DataFrame\n",
      "\n",
      "See the caveats in the documentation: https://pandas.pydata.org/pandas-docs/stable/user_guide/indexing.html#returning-a-view-versus-a-copy\n",
      "  marker[marker == marker_names.index('math,MildStress,O')] = 0\n",
      "<ipython-input-4-7c99ef2912c6>:35: SettingWithCopyWarning: \n",
      "A value is trying to be set on a copy of a slice from a DataFrame\n",
      "\n",
      "See the caveats in the documentation: https://pandas.pydata.org/pandas-docs/stable/user_guide/indexing.html#returning-a-view-versus-a-copy\n",
      "  marker[marker == marker_names.index('math,HigherStress,T')] = 0\n",
      "<ipython-input-4-7c99ef2912c6>:36: SettingWithCopyWarning: \n",
      "A value is trying to be set on a copy of a slice from a DataFrame\n",
      "\n",
      "See the caveats in the documentation: https://pandas.pydata.org/pandas-docs/stable/user_guide/indexing.html#returning-a-view-versus-a-copy\n",
      "  marker[marker == marker_names.index('math,HigherStress,F')] = 0\n",
      "<ipython-input-4-7c99ef2912c6>:37: SettingWithCopyWarning: \n",
      "A value is trying to be set on a copy of a slice from a DataFrame\n",
      "\n",
      "See the caveats in the documentation: https://pandas.pydata.org/pandas-docs/stable/user_guide/indexing.html#returning-a-view-versus-a-copy\n",
      "  marker[marker == marker_names.index('math,HigherStress,S')] = 0\n",
      "<ipython-input-4-7c99ef2912c6>:38: SettingWithCopyWarning: \n",
      "A value is trying to be set on a copy of a slice from a DataFrame\n",
      "\n",
      "See the caveats in the documentation: https://pandas.pydata.org/pandas-docs/stable/user_guide/indexing.html#returning-a-view-versus-a-copy\n",
      "  marker[marker == marker_names.index('math,HigherStress,O')] = 0\n"
     ]
    },
    {
     "output_type": "stream",
     "name": "stdout",
     "text": [
      "\tout of range: 0\n",
      "Number of MildStress: 25\n",
      "\tcorrect: 9\n",
      "\tincorrect: 2\n",
      "\tslow: 0\n",
      "\tout of range: 0\n",
      "Number of HigherStress: 9\n",
      "\tcorrect: 3\n",
      "\tincorrect: 0\n",
      "\tslow: 0\n",
      "\tout of range: 0\n",
      "==============================\n",
      "Participant:'krittithee'\n",
      "Number of LowStress: 47\n",
      "\tcorrect: 7\n",
      "\tincorrect: 3\n",
      "\tslow: 0\n",
      "\tout of range: 0\n",
      "Number of MildStress: 21\n",
      "\tcorrect: 0\n",
      "\tincorrect: 0\n"
     ]
    },
    {
     "output_type": "stream",
     "name": "stderr",
     "text": [
      "<ipython-input-4-7c99ef2912c6>:25: SettingWithCopyWarning: \n",
      "A value is trying to be set on a copy of a slice from a DataFrame\n",
      "\n",
      "See the caveats in the documentation: https://pandas.pydata.org/pandas-docs/stable/user_guide/indexing.html#returning-a-view-versus-a-copy\n",
      "  marker[marker == marker_names.index('math,LowStress,T')] = 0\n",
      "<ipython-input-4-7c99ef2912c6>:26: SettingWithCopyWarning: \n",
      "A value is trying to be set on a copy of a slice from a DataFrame\n",
      "\n",
      "See the caveats in the documentation: https://pandas.pydata.org/pandas-docs/stable/user_guide/indexing.html#returning-a-view-versus-a-copy\n",
      "  marker[marker == marker_names.index('math,LowStress,F')] = 0\n",
      "<ipython-input-4-7c99ef2912c6>:27: SettingWithCopyWarning: \n",
      "A value is trying to be set on a copy of a slice from a DataFrame\n",
      "\n",
      "See the caveats in the documentation: https://pandas.pydata.org/pandas-docs/stable/user_guide/indexing.html#returning-a-view-versus-a-copy\n",
      "  marker[marker == marker_names.index('math,LowStress,S')] = 0\n",
      "<ipython-input-4-7c99ef2912c6>:28: SettingWithCopyWarning: \n",
      "A value is trying to be set on a copy of a slice from a DataFrame\n",
      "\n",
      "See the caveats in the documentation: https://pandas.pydata.org/pandas-docs/stable/user_guide/indexing.html#returning-a-view-versus-a-copy\n",
      "  marker[marker == marker_names.index('math,LowStress,O')] = 0\n",
      "<ipython-input-4-7c99ef2912c6>:30: SettingWithCopyWarning: \n",
      "A value is trying to be set on a copy of a slice from a DataFrame\n",
      "\n",
      "See the caveats in the documentation: https://pandas.pydata.org/pandas-docs/stable/user_guide/indexing.html#returning-a-view-versus-a-copy\n",
      "  marker[marker == marker_names.index('math,MildStress,T')] = 0\n",
      "<ipython-input-4-7c99ef2912c6>:31: SettingWithCopyWarning: \n",
      "A value is trying to be set on a copy of a slice from a DataFrame\n",
      "\n",
      "See the caveats in the documentation: https://pandas.pydata.org/pandas-docs/stable/user_guide/indexing.html#returning-a-view-versus-a-copy\n",
      "  marker[marker == marker_names.index('math,MildStress,F')] = 0\n",
      "<ipython-input-4-7c99ef2912c6>:32: SettingWithCopyWarning: \n",
      "A value is trying to be set on a copy of a slice from a DataFrame\n",
      "\n",
      "See the caveats in the documentation: https://pandas.pydata.org/pandas-docs/stable/user_guide/indexing.html#returning-a-view-versus-a-copy\n",
      "  marker[marker == marker_names.index('math,MildStress,S')] = 0\n",
      "<ipython-input-4-7c99ef2912c6>:33: SettingWithCopyWarning: \n",
      "A value is trying to be set on a copy of a slice from a DataFrame\n",
      "\n",
      "See the caveats in the documentation: https://pandas.pydata.org/pandas-docs/stable/user_guide/indexing.html#returning-a-view-versus-a-copy\n",
      "  marker[marker == marker_names.index('math,MildStress,O')] = 0\n",
      "<ipython-input-4-7c99ef2912c6>:35: SettingWithCopyWarning: \n",
      "A value is trying to be set on a copy of a slice from a DataFrame\n",
      "\n",
      "See the caveats in the documentation: https://pandas.pydata.org/pandas-docs/stable/user_guide/indexing.html#returning-a-view-versus-a-copy\n",
      "  marker[marker == marker_names.index('math,HigherStress,T')] = 0\n",
      "<ipython-input-4-7c99ef2912c6>:36: SettingWithCopyWarning: \n",
      "A value is trying to be set on a copy of a slice from a DataFrame\n",
      "\n",
      "See the caveats in the documentation: https://pandas.pydata.org/pandas-docs/stable/user_guide/indexing.html#returning-a-view-versus-a-copy\n",
      "  marker[marker == marker_names.index('math,HigherStress,F')] = 0\n",
      "<ipython-input-4-7c99ef2912c6>:37: SettingWithCopyWarning: \n",
      "A value is trying to be set on a copy of a slice from a DataFrame\n",
      "\n",
      "See the caveats in the documentation: https://pandas.pydata.org/pandas-docs/stable/user_guide/indexing.html#returning-a-view-versus-a-copy\n",
      "  marker[marker == marker_names.index('math,HigherStress,S')] = 0\n",
      "<ipython-input-4-7c99ef2912c6>:38: SettingWithCopyWarning: \n",
      "A value is trying to be set on a copy of a slice from a DataFrame\n",
      "\n",
      "See the caveats in the documentation: https://pandas.pydata.org/pandas-docs/stable/user_guide/indexing.html#returning-a-view-versus-a-copy\n",
      "  marker[marker == marker_names.index('math,HigherStress,O')] = 0\n"
     ]
    },
    {
     "output_type": "stream",
     "name": "stdout",
     "text": [
      "\tslow: 0\n",
      "\tout of range: 0\n",
      "Number of HigherStress: 10\n",
      "\tcorrect: 1\n",
      "\tincorrect: 0\n",
      "\tslow: 0\n",
      "\tout of range: 0\n",
      "==============================\n",
      "Participant:'surangrat'\n",
      "Number of LowStress: 58\n",
      "\tcorrect: 12\n",
      "\tincorrect: 0\n",
      "\tslow: 0\n"
     ]
    },
    {
     "output_type": "stream",
     "name": "stderr",
     "text": [
      "<ipython-input-4-7c99ef2912c6>:25: SettingWithCopyWarning: \n",
      "A value is trying to be set on a copy of a slice from a DataFrame\n",
      "\n",
      "See the caveats in the documentation: https://pandas.pydata.org/pandas-docs/stable/user_guide/indexing.html#returning-a-view-versus-a-copy\n",
      "  marker[marker == marker_names.index('math,LowStress,T')] = 0\n",
      "<ipython-input-4-7c99ef2912c6>:26: SettingWithCopyWarning: \n",
      "A value is trying to be set on a copy of a slice from a DataFrame\n",
      "\n",
      "See the caveats in the documentation: https://pandas.pydata.org/pandas-docs/stable/user_guide/indexing.html#returning-a-view-versus-a-copy\n",
      "  marker[marker == marker_names.index('math,LowStress,F')] = 0\n",
      "<ipython-input-4-7c99ef2912c6>:27: SettingWithCopyWarning: \n",
      "A value is trying to be set on a copy of a slice from a DataFrame\n",
      "\n",
      "See the caveats in the documentation: https://pandas.pydata.org/pandas-docs/stable/user_guide/indexing.html#returning-a-view-versus-a-copy\n",
      "  marker[marker == marker_names.index('math,LowStress,S')] = 0\n",
      "<ipython-input-4-7c99ef2912c6>:28: SettingWithCopyWarning: \n",
      "A value is trying to be set on a copy of a slice from a DataFrame\n",
      "\n",
      "See the caveats in the documentation: https://pandas.pydata.org/pandas-docs/stable/user_guide/indexing.html#returning-a-view-versus-a-copy\n",
      "  marker[marker == marker_names.index('math,LowStress,O')] = 0\n",
      "<ipython-input-4-7c99ef2912c6>:30: SettingWithCopyWarning: \n",
      "A value is trying to be set on a copy of a slice from a DataFrame\n",
      "\n",
      "See the caveats in the documentation: https://pandas.pydata.org/pandas-docs/stable/user_guide/indexing.html#returning-a-view-versus-a-copy\n",
      "  marker[marker == marker_names.index('math,MildStress,T')] = 0\n",
      "<ipython-input-4-7c99ef2912c6>:31: SettingWithCopyWarning: \n",
      "A value is trying to be set on a copy of a slice from a DataFrame\n",
      "\n",
      "See the caveats in the documentation: https://pandas.pydata.org/pandas-docs/stable/user_guide/indexing.html#returning-a-view-versus-a-copy\n",
      "  marker[marker == marker_names.index('math,MildStress,F')] = 0\n",
      "<ipython-input-4-7c99ef2912c6>:32: SettingWithCopyWarning: \n",
      "A value is trying to be set on a copy of a slice from a DataFrame\n",
      "\n",
      "See the caveats in the documentation: https://pandas.pydata.org/pandas-docs/stable/user_guide/indexing.html#returning-a-view-versus-a-copy\n",
      "  marker[marker == marker_names.index('math,MildStress,S')] = 0\n",
      "<ipython-input-4-7c99ef2912c6>:33: SettingWithCopyWarning: \n",
      "A value is trying to be set on a copy of a slice from a DataFrame\n",
      "\n",
      "See the caveats in the documentation: https://pandas.pydata.org/pandas-docs/stable/user_guide/indexing.html#returning-a-view-versus-a-copy\n",
      "  marker[marker == marker_names.index('math,MildStress,O')] = 0\n",
      "<ipython-input-4-7c99ef2912c6>:35: SettingWithCopyWarning: \n",
      "A value is trying to be set on a copy of a slice from a DataFrame\n",
      "\n",
      "See the caveats in the documentation: https://pandas.pydata.org/pandas-docs/stable/user_guide/indexing.html#returning-a-view-versus-a-copy\n",
      "  marker[marker == marker_names.index('math,HigherStress,T')] = 0\n",
      "<ipython-input-4-7c99ef2912c6>:36: SettingWithCopyWarning: \n",
      "A value is trying to be set on a copy of a slice from a DataFrame\n",
      "\n",
      "See the caveats in the documentation: https://pandas.pydata.org/pandas-docs/stable/user_guide/indexing.html#returning-a-view-versus-a-copy\n",
      "  marker[marker == marker_names.index('math,HigherStress,F')] = 0\n",
      "<ipython-input-4-7c99ef2912c6>:37: SettingWithCopyWarning: \n",
      "A value is trying to be set on a copy of a slice from a DataFrame\n",
      "\n",
      "See the caveats in the documentation: https://pandas.pydata.org/pandas-docs/stable/user_guide/indexing.html#returning-a-view-versus-a-copy\n",
      "  marker[marker == marker_names.index('math,HigherStress,S')] = 0\n",
      "<ipython-input-4-7c99ef2912c6>:38: SettingWithCopyWarning: \n",
      "A value is trying to be set on a copy of a slice from a DataFrame\n",
      "\n",
      "See the caveats in the documentation: https://pandas.pydata.org/pandas-docs/stable/user_guide/indexing.html#returning-a-view-versus-a-copy\n",
      "  marker[marker == marker_names.index('math,HigherStress,O')] = 0\n"
     ]
    },
    {
     "output_type": "stream",
     "name": "stdout",
     "text": [
      "\tout of range: 0\n",
      "Number of MildStress: 38\n",
      "\tcorrect: 9\n",
      "\tincorrect: 2\n",
      "\tslow: 0\n",
      "\tout of range: 0\n",
      "Number of HigherStress: 17\n",
      "\tcorrect: 3\n",
      "\tincorrect: 0\n",
      "\tslow: 0\n",
      "\tout of range: 0\n",
      "==============================\n"
     ]
    },
    {
     "output_type": "stream",
     "name": "stderr",
     "text": [
      "<ipython-input-4-7c99ef2912c6>:25: SettingWithCopyWarning: \n",
      "A value is trying to be set on a copy of a slice from a DataFrame\n",
      "\n",
      "See the caveats in the documentation: https://pandas.pydata.org/pandas-docs/stable/user_guide/indexing.html#returning-a-view-versus-a-copy\n",
      "  marker[marker == marker_names.index('math,LowStress,T')] = 0\n",
      "<ipython-input-4-7c99ef2912c6>:26: SettingWithCopyWarning: \n",
      "A value is trying to be set on a copy of a slice from a DataFrame\n",
      "\n",
      "See the caveats in the documentation: https://pandas.pydata.org/pandas-docs/stable/user_guide/indexing.html#returning-a-view-versus-a-copy\n",
      "  marker[marker == marker_names.index('math,LowStress,F')] = 0\n",
      "<ipython-input-4-7c99ef2912c6>:27: SettingWithCopyWarning: \n",
      "A value is trying to be set on a copy of a slice from a DataFrame\n",
      "\n",
      "See the caveats in the documentation: https://pandas.pydata.org/pandas-docs/stable/user_guide/indexing.html#returning-a-view-versus-a-copy\n",
      "  marker[marker == marker_names.index('math,LowStress,S')] = 0\n",
      "<ipython-input-4-7c99ef2912c6>:28: SettingWithCopyWarning: \n",
      "A value is trying to be set on a copy of a slice from a DataFrame\n",
      "\n",
      "See the caveats in the documentation: https://pandas.pydata.org/pandas-docs/stable/user_guide/indexing.html#returning-a-view-versus-a-copy\n",
      "  marker[marker == marker_names.index('math,LowStress,O')] = 0\n",
      "<ipython-input-4-7c99ef2912c6>:30: SettingWithCopyWarning: \n",
      "A value is trying to be set on a copy of a slice from a DataFrame\n",
      "\n",
      "See the caveats in the documentation: https://pandas.pydata.org/pandas-docs/stable/user_guide/indexing.html#returning-a-view-versus-a-copy\n",
      "  marker[marker == marker_names.index('math,MildStress,T')] = 0\n",
      "<ipython-input-4-7c99ef2912c6>:31: SettingWithCopyWarning: \n",
      "A value is trying to be set on a copy of a slice from a DataFrame\n",
      "\n",
      "See the caveats in the documentation: https://pandas.pydata.org/pandas-docs/stable/user_guide/indexing.html#returning-a-view-versus-a-copy\n",
      "  marker[marker == marker_names.index('math,MildStress,F')] = 0\n",
      "<ipython-input-4-7c99ef2912c6>:32: SettingWithCopyWarning: \n",
      "A value is trying to be set on a copy of a slice from a DataFrame\n",
      "\n",
      "See the caveats in the documentation: https://pandas.pydata.org/pandas-docs/stable/user_guide/indexing.html#returning-a-view-versus-a-copy\n",
      "  marker[marker == marker_names.index('math,MildStress,S')] = 0\n",
      "<ipython-input-4-7c99ef2912c6>:33: SettingWithCopyWarning: \n",
      "A value is trying to be set on a copy of a slice from a DataFrame\n",
      "\n",
      "See the caveats in the documentation: https://pandas.pydata.org/pandas-docs/stable/user_guide/indexing.html#returning-a-view-versus-a-copy\n",
      "  marker[marker == marker_names.index('math,MildStress,O')] = 0\n",
      "<ipython-input-4-7c99ef2912c6>:35: SettingWithCopyWarning: \n",
      "A value is trying to be set on a copy of a slice from a DataFrame\n",
      "\n",
      "See the caveats in the documentation: https://pandas.pydata.org/pandas-docs/stable/user_guide/indexing.html#returning-a-view-versus-a-copy\n",
      "  marker[marker == marker_names.index('math,HigherStress,T')] = 0\n",
      "<ipython-input-4-7c99ef2912c6>:36: SettingWithCopyWarning: \n",
      "A value is trying to be set on a copy of a slice from a DataFrame\n",
      "\n",
      "See the caveats in the documentation: https://pandas.pydata.org/pandas-docs/stable/user_guide/indexing.html#returning-a-view-versus-a-copy\n",
      "  marker[marker == marker_names.index('math,HigherStress,F')] = 0\n",
      "<ipython-input-4-7c99ef2912c6>:37: SettingWithCopyWarning: \n",
      "A value is trying to be set on a copy of a slice from a DataFrame\n",
      "\n",
      "See the caveats in the documentation: https://pandas.pydata.org/pandas-docs/stable/user_guide/indexing.html#returning-a-view-versus-a-copy\n",
      "  marker[marker == marker_names.index('math,HigherStress,S')] = 0\n",
      "<ipython-input-4-7c99ef2912c6>:38: SettingWithCopyWarning: \n",
      "A value is trying to be set on a copy of a slice from a DataFrame\n",
      "\n",
      "See the caveats in the documentation: https://pandas.pydata.org/pandas-docs/stable/user_guide/indexing.html#returning-a-view-versus-a-copy\n",
      "  marker[marker == marker_names.index('math,HigherStress,O')] = 0\n"
     ]
    },
    {
     "output_type": "stream",
     "name": "stdout",
     "text": [
      "Participant:'dusadee'\n",
      "Number of LowStress: 28\n",
      "\tcorrect: 4\n",
      "\tincorrect: 0\n",
      "\tslow: 0\n",
      "\tout of range: 0\n",
      "Number of MildStress: 9\n",
      "\tcorrect: 1\n",
      "\tincorrect: 0\n",
      "\tslow: 0\n",
      "\tout of range: 0\n",
      "Number of HigherStress: 6\n",
      "\tcorrect: 1\n",
      "\tincorrect: 0\n",
      "\tslow: 0\n",
      "\tout of range: 0\n",
      "==============================\n",
      "Participant:'prin'\n",
      "Number of LowStress: 55\n",
      "\tcorrect: 8\n",
      "\tincorrect: 2\n"
     ]
    },
    {
     "output_type": "stream",
     "name": "stderr",
     "text": [
      "<ipython-input-4-7c99ef2912c6>:25: SettingWithCopyWarning: \n",
      "A value is trying to be set on a copy of a slice from a DataFrame\n",
      "\n",
      "See the caveats in the documentation: https://pandas.pydata.org/pandas-docs/stable/user_guide/indexing.html#returning-a-view-versus-a-copy\n",
      "  marker[marker == marker_names.index('math,LowStress,T')] = 0\n",
      "<ipython-input-4-7c99ef2912c6>:26: SettingWithCopyWarning: \n",
      "A value is trying to be set on a copy of a slice from a DataFrame\n",
      "\n",
      "See the caveats in the documentation: https://pandas.pydata.org/pandas-docs/stable/user_guide/indexing.html#returning-a-view-versus-a-copy\n",
      "  marker[marker == marker_names.index('math,LowStress,F')] = 0\n",
      "<ipython-input-4-7c99ef2912c6>:27: SettingWithCopyWarning: \n",
      "A value is trying to be set on a copy of a slice from a DataFrame\n",
      "\n",
      "See the caveats in the documentation: https://pandas.pydata.org/pandas-docs/stable/user_guide/indexing.html#returning-a-view-versus-a-copy\n",
      "  marker[marker == marker_names.index('math,LowStress,S')] = 0\n",
      "<ipython-input-4-7c99ef2912c6>:28: SettingWithCopyWarning: \n",
      "A value is trying to be set on a copy of a slice from a DataFrame\n",
      "\n",
      "See the caveats in the documentation: https://pandas.pydata.org/pandas-docs/stable/user_guide/indexing.html#returning-a-view-versus-a-copy\n",
      "  marker[marker == marker_names.index('math,LowStress,O')] = 0\n",
      "<ipython-input-4-7c99ef2912c6>:30: SettingWithCopyWarning: \n",
      "A value is trying to be set on a copy of a slice from a DataFrame\n",
      "\n",
      "See the caveats in the documentation: https://pandas.pydata.org/pandas-docs/stable/user_guide/indexing.html#returning-a-view-versus-a-copy\n",
      "  marker[marker == marker_names.index('math,MildStress,T')] = 0\n",
      "<ipython-input-4-7c99ef2912c6>:31: SettingWithCopyWarning: \n",
      "A value is trying to be set on a copy of a slice from a DataFrame\n",
      "\n",
      "See the caveats in the documentation: https://pandas.pydata.org/pandas-docs/stable/user_guide/indexing.html#returning-a-view-versus-a-copy\n",
      "  marker[marker == marker_names.index('math,MildStress,F')] = 0\n",
      "<ipython-input-4-7c99ef2912c6>:32: SettingWithCopyWarning: \n",
      "A value is trying to be set on a copy of a slice from a DataFrame\n",
      "\n",
      "See the caveats in the documentation: https://pandas.pydata.org/pandas-docs/stable/user_guide/indexing.html#returning-a-view-versus-a-copy\n",
      "  marker[marker == marker_names.index('math,MildStress,S')] = 0\n",
      "<ipython-input-4-7c99ef2912c6>:33: SettingWithCopyWarning: \n",
      "A value is trying to be set on a copy of a slice from a DataFrame\n",
      "\n",
      "See the caveats in the documentation: https://pandas.pydata.org/pandas-docs/stable/user_guide/indexing.html#returning-a-view-versus-a-copy\n",
      "  marker[marker == marker_names.index('math,MildStress,O')] = 0\n",
      "<ipython-input-4-7c99ef2912c6>:35: SettingWithCopyWarning: \n",
      "A value is trying to be set on a copy of a slice from a DataFrame\n",
      "\n",
      "See the caveats in the documentation: https://pandas.pydata.org/pandas-docs/stable/user_guide/indexing.html#returning-a-view-versus-a-copy\n",
      "  marker[marker == marker_names.index('math,HigherStress,T')] = 0\n",
      "<ipython-input-4-7c99ef2912c6>:36: SettingWithCopyWarning: \n",
      "A value is trying to be set on a copy of a slice from a DataFrame\n",
      "\n",
      "See the caveats in the documentation: https://pandas.pydata.org/pandas-docs/stable/user_guide/indexing.html#returning-a-view-versus-a-copy\n",
      "  marker[marker == marker_names.index('math,HigherStress,F')] = 0\n",
      "<ipython-input-4-7c99ef2912c6>:37: SettingWithCopyWarning: \n",
      "A value is trying to be set on a copy of a slice from a DataFrame\n",
      "\n",
      "See the caveats in the documentation: https://pandas.pydata.org/pandas-docs/stable/user_guide/indexing.html#returning-a-view-versus-a-copy\n",
      "  marker[marker == marker_names.index('math,HigherStress,S')] = 0\n",
      "<ipython-input-4-7c99ef2912c6>:38: SettingWithCopyWarning: \n",
      "A value is trying to be set on a copy of a slice from a DataFrame\n",
      "\n",
      "See the caveats in the documentation: https://pandas.pydata.org/pandas-docs/stable/user_guide/indexing.html#returning-a-view-versus-a-copy\n",
      "  marker[marker == marker_names.index('math,HigherStress,O')] = 0\n"
     ]
    },
    {
     "output_type": "stream",
     "name": "stdout",
     "text": [
      "\tslow: 0\n",
      "\tout of range: 0\n",
      "Number of MildStress: 37\n",
      "\tcorrect: 6\n",
      "\tincorrect: 2\n",
      "\tslow: 0\n",
      "\tout of range: 0\n",
      "Number of HigherStress: 18\n",
      "\tcorrect: 1\n",
      "\tincorrect: 1\n",
      "\tslow: 0\n",
      "\tout of range: 0\n",
      "==============================\n",
      "Participant:'pumpath'\n",
      "Number of LowStress: 40\n",
      "\tcorrect: 11\n",
      "\tincorrect: 1\n",
      "\tslow: 0\n",
      "\tout of range: 0\n",
      "Number of MildStress: 20\n",
      "\tcorrect: 5\n",
      "\tincorrect: 0\n",
      "\tslow: 0\n"
     ]
    },
    {
     "output_type": "stream",
     "name": "stderr",
     "text": [
      "<ipython-input-4-7c99ef2912c6>:25: SettingWithCopyWarning: \n",
      "A value is trying to be set on a copy of a slice from a DataFrame\n",
      "\n",
      "See the caveats in the documentation: https://pandas.pydata.org/pandas-docs/stable/user_guide/indexing.html#returning-a-view-versus-a-copy\n",
      "  marker[marker == marker_names.index('math,LowStress,T')] = 0\n",
      "<ipython-input-4-7c99ef2912c6>:26: SettingWithCopyWarning: \n",
      "A value is trying to be set on a copy of a slice from a DataFrame\n",
      "\n",
      "See the caveats in the documentation: https://pandas.pydata.org/pandas-docs/stable/user_guide/indexing.html#returning-a-view-versus-a-copy\n",
      "  marker[marker == marker_names.index('math,LowStress,F')] = 0\n",
      "<ipython-input-4-7c99ef2912c6>:27: SettingWithCopyWarning: \n",
      "A value is trying to be set on a copy of a slice from a DataFrame\n",
      "\n",
      "See the caveats in the documentation: https://pandas.pydata.org/pandas-docs/stable/user_guide/indexing.html#returning-a-view-versus-a-copy\n",
      "  marker[marker == marker_names.index('math,LowStress,S')] = 0\n",
      "<ipython-input-4-7c99ef2912c6>:28: SettingWithCopyWarning: \n",
      "A value is trying to be set on a copy of a slice from a DataFrame\n",
      "\n",
      "See the caveats in the documentation: https://pandas.pydata.org/pandas-docs/stable/user_guide/indexing.html#returning-a-view-versus-a-copy\n",
      "  marker[marker == marker_names.index('math,LowStress,O')] = 0\n",
      "<ipython-input-4-7c99ef2912c6>:30: SettingWithCopyWarning: \n",
      "A value is trying to be set on a copy of a slice from a DataFrame\n",
      "\n",
      "See the caveats in the documentation: https://pandas.pydata.org/pandas-docs/stable/user_guide/indexing.html#returning-a-view-versus-a-copy\n",
      "  marker[marker == marker_names.index('math,MildStress,T')] = 0\n",
      "<ipython-input-4-7c99ef2912c6>:31: SettingWithCopyWarning: \n",
      "A value is trying to be set on a copy of a slice from a DataFrame\n",
      "\n",
      "See the caveats in the documentation: https://pandas.pydata.org/pandas-docs/stable/user_guide/indexing.html#returning-a-view-versus-a-copy\n",
      "  marker[marker == marker_names.index('math,MildStress,F')] = 0\n",
      "<ipython-input-4-7c99ef2912c6>:32: SettingWithCopyWarning: \n",
      "A value is trying to be set on a copy of a slice from a DataFrame\n",
      "\n",
      "See the caveats in the documentation: https://pandas.pydata.org/pandas-docs/stable/user_guide/indexing.html#returning-a-view-versus-a-copy\n",
      "  marker[marker == marker_names.index('math,MildStress,S')] = 0\n",
      "<ipython-input-4-7c99ef2912c6>:33: SettingWithCopyWarning: \n",
      "A value is trying to be set on a copy of a slice from a DataFrame\n",
      "\n",
      "See the caveats in the documentation: https://pandas.pydata.org/pandas-docs/stable/user_guide/indexing.html#returning-a-view-versus-a-copy\n",
      "  marker[marker == marker_names.index('math,MildStress,O')] = 0\n",
      "<ipython-input-4-7c99ef2912c6>:35: SettingWithCopyWarning: \n",
      "A value is trying to be set on a copy of a slice from a DataFrame\n",
      "\n",
      "See the caveats in the documentation: https://pandas.pydata.org/pandas-docs/stable/user_guide/indexing.html#returning-a-view-versus-a-copy\n",
      "  marker[marker == marker_names.index('math,HigherStress,T')] = 0\n",
      "<ipython-input-4-7c99ef2912c6>:36: SettingWithCopyWarning: \n",
      "A value is trying to be set on a copy of a slice from a DataFrame\n",
      "\n",
      "See the caveats in the documentation: https://pandas.pydata.org/pandas-docs/stable/user_guide/indexing.html#returning-a-view-versus-a-copy\n",
      "  marker[marker == marker_names.index('math,HigherStress,F')] = 0\n",
      "<ipython-input-4-7c99ef2912c6>:37: SettingWithCopyWarning: \n",
      "A value is trying to be set on a copy of a slice from a DataFrame\n",
      "\n",
      "See the caveats in the documentation: https://pandas.pydata.org/pandas-docs/stable/user_guide/indexing.html#returning-a-view-versus-a-copy\n",
      "  marker[marker == marker_names.index('math,HigherStress,S')] = 0\n",
      "<ipython-input-4-7c99ef2912c6>:38: SettingWithCopyWarning: \n",
      "A value is trying to be set on a copy of a slice from a DataFrame\n",
      "\n",
      "See the caveats in the documentation: https://pandas.pydata.org/pandas-docs/stable/user_guide/indexing.html#returning-a-view-versus-a-copy\n",
      "  marker[marker == marker_names.index('math,HigherStress,O')] = 0\n"
     ]
    },
    {
     "output_type": "stream",
     "name": "stdout",
     "text": [
      "\tout of range: 0\n",
      "Number of HigherStress: 10\n",
      "\tcorrect: 2\n",
      "\tincorrect: 0\n",
      "\tslow: 0\n",
      "\tout of range: 0\n",
      "==============================\n"
     ]
    },
    {
     "output_type": "stream",
     "name": "stderr",
     "text": [
      "<ipython-input-4-7c99ef2912c6>:25: SettingWithCopyWarning: \n",
      "A value is trying to be set on a copy of a slice from a DataFrame\n",
      "\n",
      "See the caveats in the documentation: https://pandas.pydata.org/pandas-docs/stable/user_guide/indexing.html#returning-a-view-versus-a-copy\n",
      "  marker[marker == marker_names.index('math,LowStress,T')] = 0\n",
      "<ipython-input-4-7c99ef2912c6>:26: SettingWithCopyWarning: \n",
      "A value is trying to be set on a copy of a slice from a DataFrame\n",
      "\n",
      "See the caveats in the documentation: https://pandas.pydata.org/pandas-docs/stable/user_guide/indexing.html#returning-a-view-versus-a-copy\n",
      "  marker[marker == marker_names.index('math,LowStress,F')] = 0\n",
      "<ipython-input-4-7c99ef2912c6>:27: SettingWithCopyWarning: \n",
      "A value is trying to be set on a copy of a slice from a DataFrame\n",
      "\n",
      "See the caveats in the documentation: https://pandas.pydata.org/pandas-docs/stable/user_guide/indexing.html#returning-a-view-versus-a-copy\n",
      "  marker[marker == marker_names.index('math,LowStress,S')] = 0\n",
      "<ipython-input-4-7c99ef2912c6>:28: SettingWithCopyWarning: \n",
      "A value is trying to be set on a copy of a slice from a DataFrame\n",
      "\n",
      "See the caveats in the documentation: https://pandas.pydata.org/pandas-docs/stable/user_guide/indexing.html#returning-a-view-versus-a-copy\n",
      "  marker[marker == marker_names.index('math,LowStress,O')] = 0\n",
      "<ipython-input-4-7c99ef2912c6>:30: SettingWithCopyWarning: \n",
      "A value is trying to be set on a copy of a slice from a DataFrame\n",
      "\n",
      "See the caveats in the documentation: https://pandas.pydata.org/pandas-docs/stable/user_guide/indexing.html#returning-a-view-versus-a-copy\n",
      "  marker[marker == marker_names.index('math,MildStress,T')] = 0\n",
      "<ipython-input-4-7c99ef2912c6>:31: SettingWithCopyWarning: \n",
      "A value is trying to be set on a copy of a slice from a DataFrame\n",
      "\n",
      "See the caveats in the documentation: https://pandas.pydata.org/pandas-docs/stable/user_guide/indexing.html#returning-a-view-versus-a-copy\n",
      "  marker[marker == marker_names.index('math,MildStress,F')] = 0\n",
      "<ipython-input-4-7c99ef2912c6>:32: SettingWithCopyWarning: \n",
      "A value is trying to be set on a copy of a slice from a DataFrame\n",
      "\n",
      "See the caveats in the documentation: https://pandas.pydata.org/pandas-docs/stable/user_guide/indexing.html#returning-a-view-versus-a-copy\n",
      "  marker[marker == marker_names.index('math,MildStress,S')] = 0\n",
      "<ipython-input-4-7c99ef2912c6>:33: SettingWithCopyWarning: \n",
      "A value is trying to be set on a copy of a slice from a DataFrame\n",
      "\n",
      "See the caveats in the documentation: https://pandas.pydata.org/pandas-docs/stable/user_guide/indexing.html#returning-a-view-versus-a-copy\n",
      "  marker[marker == marker_names.index('math,MildStress,O')] = 0\n",
      "<ipython-input-4-7c99ef2912c6>:35: SettingWithCopyWarning: \n",
      "A value is trying to be set on a copy of a slice from a DataFrame\n",
      "\n",
      "See the caveats in the documentation: https://pandas.pydata.org/pandas-docs/stable/user_guide/indexing.html#returning-a-view-versus-a-copy\n",
      "  marker[marker == marker_names.index('math,HigherStress,T')] = 0\n",
      "<ipython-input-4-7c99ef2912c6>:36: SettingWithCopyWarning: \n",
      "A value is trying to be set on a copy of a slice from a DataFrame\n",
      "\n",
      "See the caveats in the documentation: https://pandas.pydata.org/pandas-docs/stable/user_guide/indexing.html#returning-a-view-versus-a-copy\n",
      "  marker[marker == marker_names.index('math,HigherStress,F')] = 0\n",
      "<ipython-input-4-7c99ef2912c6>:37: SettingWithCopyWarning: \n",
      "A value is trying to be set on a copy of a slice from a DataFrame\n",
      "\n",
      "See the caveats in the documentation: https://pandas.pydata.org/pandas-docs/stable/user_guide/indexing.html#returning-a-view-versus-a-copy\n",
      "  marker[marker == marker_names.index('math,HigherStress,S')] = 0\n",
      "<ipython-input-4-7c99ef2912c6>:38: SettingWithCopyWarning: \n",
      "A value is trying to be set on a copy of a slice from a DataFrame\n",
      "\n",
      "See the caveats in the documentation: https://pandas.pydata.org/pandas-docs/stable/user_guide/indexing.html#returning-a-view-versus-a-copy\n",
      "  marker[marker == marker_names.index('math,HigherStress,O')] = 0\n"
     ]
    }
   ],
   "metadata": {}
  },
  {
   "cell_type": "code",
   "execution_count": 5,
   "source": [
    "raws = []\n",
    "sampling_rate = 250 # Hz\n",
    "with tqdm(pd_raws) as pbar:\n",
    "    for index,pd_raw in enumerate(pbar):\n",
    "        pbar.set_description(f\"{index} {names[index]}\")\n",
    "        raw = dataframe_to_raw(pd_raw, sfreq=sampling_rate)\n",
    "        raws.append(raw)"
   ],
   "outputs": [
    {
     "output_type": "display_data",
     "data": {
      "application/vnd.jupyter.widget-view+json": {
       "version_major": 2,
       "version_minor": 0,
       "model_id": "d8e5faecb4ec410db70b01939900a849"
      },
      "text/plain": [
       "  0%|          | 0/7 [00:00<?, ?it/s]"
      ]
     },
     "metadata": {}
    }
   ],
   "metadata": {}
  },
  {
   "cell_type": "code",
   "execution_count": 6,
   "source": [
    "# Preprocess\n",
    "for raw in raws:\n",
    "    raw.notch_filter([50,100],filter_length='auto', phase='zero', verbose=False) # Line power\n",
    "    raw.filter(1, None, verbose=False) # Slow drift\n",
    "    # ica = mne.preprocessing.ICA(n_components=8, max_iter='auto')\n",
    "    # ica.fit(raw, verbose=False)\n",
    "    # raw = ica.apply(raw, verbose=False)\n",
    "    pass"
   ],
   "outputs": [],
   "metadata": {}
  },
  {
   "cell_type": "code",
   "execution_count": 7,
   "source": [
    "interested_marker_names = ['math,LowStress,start','math,MildStress,start','math,HigherStress,start','fixation,None,None']\n",
    "interested_markers = [ marker_names.index(name) for name in interested_marker_names ]\n",
    "events_list = []\n",
    "with tqdm(raws) as pbar:\n",
    "    for index,raw in enumerate(pbar):\n",
    "        pbar.set_description(f\"{index} {names[index]}\")\n",
    "        print(f\"Participant:'{names[index]}'\")\n",
    "        events = mne.find_events(raw, stim_channel='Marker', initial_event=True, verbose=False, uint_cast=False)\n",
    "        # marker_names[0] is 0, so skip\n",
    "        uninterested_markers = list(set(np.unique(events[::,2])).difference(set(interested_markers)))\n",
    "        for marker in uninterested_markers:\n",
    "            events = np.delete(events, np.argwhere(events[:,2] == marker), axis=0) \n",
    "        events_list.append(events)\n",
    "        # break"
   ],
   "outputs": [
    {
     "output_type": "display_data",
     "data": {
      "application/vnd.jupyter.widget-view+json": {
       "version_major": 2,
       "version_minor": 0,
       "model_id": "5e69640d20df4eec997b5769cfe18382"
      },
      "text/plain": [
       "  0%|          | 0/7 [00:00<?, ?it/s]"
      ]
     },
     "metadata": {}
    },
    {
     "output_type": "stream",
     "name": "stdout",
     "text": [
      "Participant:'nuttasit'\n",
      "Participant:'nutcha'\n",
      "Participant:'krittithee'\n",
      "Participant:'surangrat'\n",
      "Participant:'dusadee'\n",
      "Participant:'prin'\n",
      "Participant:'pumpath'\n"
     ]
    }
   ],
   "metadata": {}
  },
  {
   "cell_type": "code",
   "execution_count": 8,
   "source": [
    "# Here we only get the event that indicate the begining of the block and fixation.\n",
    "interested_events_list = []\n",
    "with tqdm(events_list) as pbar:\n",
    "    for index, events in enumerate(pbar):\n",
    "        pbar.set_description(f\"{index} {names[index]}\")\n",
    "        interested_events = []\n",
    "        prev_is_Low_start = False\n",
    "        prev_is_Mil_start = False\n",
    "        prev_is_Hig_start = False\n",
    "        Low_start = marker_names.index('math,LowStress,start')\n",
    "        Mil_start = marker_names.index('math,MildStress,start')\n",
    "        Hig_start = marker_names.index('math,HigherStress,start')\n",
    "\n",
    "        for event in events:\n",
    "            if(event[2] == Low_start and prev_is_Low_start == False):\n",
    "                interested_events.append(list(event))\n",
    "                prev_is_Low_start = True\n",
    "            elif(event[2] != Low_start):\n",
    "                prev_is_Low_start = False\n",
    "\n",
    "            if(event[2] == Mil_start and prev_is_Mil_start == False):\n",
    "                interested_events.append(list(event))\n",
    "                prev_is_Mil_start = True\n",
    "            elif(event[2] != Mil_start):\n",
    "                prev_is_Mil_start = False\n",
    "\n",
    "            if(event[2] == Hig_start and prev_is_Hig_start == False):\n",
    "                interested_events.append(list(event))\n",
    "                prev_is_Hig_start = True\n",
    "            elif(event[2] != Hig_start):\n",
    "                prev_is_Hig_start = False\n",
    "\n",
    "\n",
    "            if(event[2] == marker_names.index('fixation,None,None')):\n",
    "                interested_events.append(list(event))\n",
    "            # print(event)\n",
    "        interested_events = np.array(interested_events)\n",
    "        interested_events_list.append(interested_events)"
   ],
   "outputs": [
    {
     "output_type": "display_data",
     "data": {
      "application/vnd.jupyter.widget-view+json": {
       "version_major": 2,
       "version_minor": 0,
       "model_id": "70737047f26f45f6bde3687e57476921"
      },
      "text/plain": [
       "  0%|          | 0/7 [00:00<?, ?it/s]"
      ]
     },
     "metadata": {}
    }
   ],
   "metadata": {}
  },
  {
   "cell_type": "code",
   "execution_count": 9,
   "source": [
    "# Here we split the block into chuncks\n",
    "chunck_size = 5 # second\n",
    "chunck_events_list = []\n",
    "num_chunck = None\n",
    "with tqdm(interested_events_list) as pbar:\n",
    "    for index, interested_events in enumerate(pbar):\n",
    "        m_start = interested_events[0::2]\n",
    "        m_stop = interested_events[1::2]\n",
    "        chunck_events = []\n",
    "        for index, (start, stop) in enumerate(zip(m_start, m_stop)):\n",
    "            # [time_stamp, _, marker]\n",
    "            a = start[2] in interested_markers\n",
    "            b = stop[2] == marker_names.index('fixation,None,None')\n",
    "            if((a and b) == False):\n",
    "                raise ValueError(f\"at {index}, found unexpected marker order. start='{marker_names[start[2]]}' stop='{marker_names[stop[2]]}'\")\n",
    "            for i in range(start[0], start[0]+(30*250)+1, chunck_size*250):\n",
    "                if(i + chunck_size*250 >= stop[0]):\n",
    "                    raise ValueError(f\"start stop is incorrect.\")\n",
    "                chunck_events.append([i,0,start[2]])\n",
    "\n",
    "        chunck_events = np.array(chunck_events)\n",
    "        chunck_events_list.append(chunck_events)\n",
    "        num_low = sum(chunck_events[::,2] == marker_names.index('math,LowStress,start'))\n",
    "        num_mil = sum(chunck_events[::,2] == marker_names.index('math,MildStress,start'))\n",
    "        num_hig = sum(chunck_events[::,2] == marker_names.index('math,HigherStress,start'))\n",
    "        if(num_low != num_mil or num_mil != num_hig):\n",
    "            raise ValueError(f\"The number of chuncked events is not equal. LowStress={num_low} MildStress={num_mil} HigherStress={num_hig}\")\n",
    "        print(f\"Number of samples of each block: {num_low}\")\n",
    "        num_chunck = num_low\n"
   ],
   "outputs": [
    {
     "output_type": "display_data",
     "data": {
      "application/vnd.jupyter.widget-view+json": {
       "version_major": 2,
       "version_minor": 0,
       "model_id": "ebaf348306094fa7ad055b62b421dddd"
      },
      "text/plain": [
       "  0%|          | 0/7 [00:00<?, ?it/s]"
      ]
     },
     "metadata": {}
    },
    {
     "output_type": "stream",
     "name": "stdout",
     "text": [
      "Number of samples of each block: 28\n",
      "Number of samples of each block: 28\n",
      "Number of samples of each block: 28\n",
      "Number of samples of each block: 28\n",
      "Number of samples of each block: 28\n",
      "Number of samples of each block: 28\n",
      "Number of samples of each block: 28\n"
     ]
    }
   ],
   "metadata": {}
  },
  {
   "cell_type": "code",
   "execution_count": 10,
   "source": [
    "# 0,4 Delta\n",
    "# 4,8 Theta\n",
    "# 8,16 Alpha ***\n",
    "# 16,32 Beta \n",
    "# 32,64 Noisy Gamma\n",
    "# 64,128 Noisy Signal\n",
    "# frequencies = np.arange(8, 32+1, 8)\n",
    "\n",
    "frequencies = np.array([10,11,12,13,14])\n",
    "t_start, t_stop = 0.3, 4.8\n",
    "features_list = []\n",
    "labels_list = []\n",
    "with tqdm(raws) as pbar:\n",
    "    for index_1, raw in enumerate(pbar):\n",
    "        pbar.set_description(f\"{index_1} {names[index_1]}\")\n",
    "        raw, chunck_events = raws[index_1], chunck_events_list[index_1]\n",
    "        features = []\n",
    "        labels = []\n",
    "        epochs = mne.Epochs(raw, chunck_events, tmin=t_start, tmax=t_stop, baseline=(t_start,t_stop), verbose=False)\n",
    "\n",
    "        for index, evoked in enumerate(epochs.iter_evoked()):\n",
    "            event = evoked.comment\n",
    "            tfr_obj = mne.time_frequency.tfr_morlet(evoked, n_cycles=3, return_itc=False, freqs=frequencies, decim=3)\n",
    "            # (channel,freq,time-window)\n",
    "            coeff = tfr_obj.data \n",
    "            # (freq,time-window)\n",
    "            coeff = coeff.mean(axis=0)\n",
    "            # alpha mean\n",
    "            coeff = coeff.mean()\n",
    "            features.append(coeff)\n",
    "            labels.append(event)\n",
    "        features_list.append(features)\n",
    "        labels_list.append(labels)\n",
    "# features = np.array(features)\n",
    "# features.shape"
   ],
   "outputs": [
    {
     "output_type": "display_data",
     "data": {
      "application/vnd.jupyter.widget-view+json": {
       "version_major": 2,
       "version_minor": 0,
       "model_id": "0ee862bfd0d7448ab564d1ad4545d2c2"
      },
      "text/plain": [
       "  0%|          | 0/7 [00:00<?, ?it/s]"
      ]
     },
     "metadata": {}
    }
   ],
   "metadata": {}
  },
  {
   "cell_type": "code",
   "execution_count": 19,
   "source": [
    "for index, features in enumerate(features_list):\n",
    "    fig,ax = plt.subplots(1,1)\n",
    "    # f_norm = normalize(np.array(features).reshape(-1,1), axis=0, norm='max')\n",
    "    scaler = StandardScaler()\n",
    "    f_norm = scaler.fit_transform(np.array(features).reshape(-1,1))\n",
    "    # StandardScaler\n",
    "    # f_norm = np.array(features).reshape(-1,1)\n",
    "    ax.scatter(range(num_chunck*0,num_chunck*1),f_norm[num_chunck*0:num_chunck*1], label=\"L1\")\n",
    "    ax.scatter(range(num_chunck*1,num_chunck*2),f_norm[num_chunck*1:num_chunck*2], label=\"L2\")\n",
    "    ax.scatter(range(num_chunck*2,num_chunck*3),f_norm[num_chunck*2:num_chunck*3], label=\"L3\")\n",
    "    ax.set_title(f\"Paticipant_{index} for '{task}': '{names[index]}'\")\n",
    "    ax.set_xlabel(\"Labels Range\")\n",
    "    ax.set_ylabel(\"Alpha (Norm)\")\n",
    "    ax.legend()\n",
    "    ax.grid()\n",
    "    ax.set_ylim(-1,1)\n",
    "    plt.show()"
   ],
   "outputs": [
    {
     "output_type": "display_data",
     "data": {
      "image/png": "[encoded data removed]",
      "text/plain": [
       "<Figure size 432x288 with 1 Axes>"
      ]
     },
     "metadata": {
      "needs_background": "light"
     }
    },
    {
     "output_type": "display_data",
     "data": {
      "image/png": "[encoded data removed]",
      "text/plain": [
       "<Figure size 432x288 with 1 Axes>"
      ]
     },
     "metadata": {
      "needs_background": "light"
     }
    },
    {
     "output_type": "display_data",
     "data": {
      "image/png": "[encoded data removed]",
      "text/plain": [
       "<Figure size 432x288 with 1 Axes>"
      ]
     },
     "metadata": {
      "needs_background": "light"
     }
    },
    {
     "output_type": "display_data",
     "data": {
      "image/png": "[encoded data removed]",
      "text/plain": [
       "<Figure size 432x288 with 1 Axes>"
      ]
     },
     "metadata": {
      "needs_background": "light"
     }
    },
    {
     "output_type": "display_data",
     "data": {
      "image/png": "[encoded data removed]",
      "text/plain": [
       "<Figure size 432x288 with 1 Axes>"
      ]
     },
     "metadata": {
      "needs_background": "light"
     }
    },
    {
     "output_type": "display_data",
     "data": {
      "image/png": "[encoded data removed]",
      "text/plain": [
       "<Figure size 432x288 with 1 Axes>"
      ]
     },
     "metadata": {
      "needs_background": "light"
     }
    },
    {
     "output_type": "display_data",
     "data": {
      "image/png": "[encoded data removed]",
      "text/plain": [
       "<Figure size 432x288 with 1 Axes>"
      ]
     },
     "metadata": {
      "needs_background": "light"
     }
    }
   ],
   "metadata": {}
  },
  {
   "cell_type": "code",
   "execution_count": null,
   "source": [],
   "outputs": [],
   "metadata": {}
  },
  {
   "cell_type": "code",
   "execution_count": null,
   "source": [],
   "outputs": [],
   "metadata": {}
  }
 ],
 "metadata": {
  "orig_nbformat": 4,
  "language_info": {
   "name": "python",
   "version": "3.8.10",
   "mimetype": "text/x-python",
   "codemirror_mode": {
    "name": "ipython",
    "version": 3
   },
   "pygments_lexer": "ipython3",
   "nbconvert_exporter": "python",
   "file_extension": ".py"
  },
  "kernelspec": {
   "name": "python3",
   "display_name": "Python 3.8.10 64-bit ('hci': venv)"
  },
  "interpreter": {
   "hash": "815efcf0c7342b169540b615ea1bef3fe0d02f9423b58bdf03d9ef3fd8d24248"
  }
 },
 "nbformat": 4,
 "nbformat_minor": 2
}