{
 "cells": [
  {
   "cell_type": "markdown",
   "source": [
    "# Hypothesis 1\n",
    "\n",
    "There is a relation between EEG signal and 3 levels of stress.\n",
    "\n",
    "For each pair of person and task, there are 3 distinct groups of EEG signals representing the 3 levels of stress."
   ],
   "metadata": {}
  },
  {
   "cell_type": "code",
   "execution_count": 18,
   "source": [
    "from utils import *\n",
    "import pandas as pd\n",
    "import mne\n",
    "from glob import glob\n",
    "import numpy as np\n",
    "import matplotlib.pyplot as plt\n",
    "from tqdm.notebook import tqdm"
   ],
   "outputs": [],
   "metadata": {}
  },
  {
   "cell_type": "code",
   "execution_count": 28,
   "source": [
    "# start : begin of question\n",
    "# T: answer correct\n",
    "# F: answer incorrect\n",
    "# S: not answer in time\n",
    "# O: unexpected key press\n",
    "marker_names = [0,\n",
    "            'math,LowStress,start',\n",
    "            'math,LowStress,T',\n",
    "            'math,LowStress,F',\n",
    "            'math,LowStress,S',\n",
    "            'math,LowStress,O',\n",
    "            'math,MildStress,start',\n",
    "            'math,MildStress,T',\n",
    "            'math,MildStress,F',\n",
    "            'math,MildStress,S',\n",
    "            'math,MildStress,O',\n",
    "            'math,HigherStress,start',\n",
    "            'math,HigherStress,T',\n",
    "            'math,HigherStress,F',\n",
    "            'math,HigherStress,S',\n",
    "            'math,HigherStress,O',\n",
    "            'fixation,None,None']"
   ],
   "outputs": [],
   "metadata": {}
  },
  {
   "cell_type": "code",
   "execution_count": 32,
   "source": [
    "# task = \"mathcontrol\" \n",
    "task = \"mathstress\"\n",
    "\n",
    "files = glob(f\"data/*_{task}_*.csv\")\n",
    "names = []\n",
    "pd_raws = []\n",
    "raws = []\n",
    "with tqdm(files) as pbar:\n",
    "    for index, f in enumerate(pbar):\n",
    "        name, task, t_stamp = f.split('/')[1].split('_')\n",
    "        names.append(name)\n",
    "        pbar.set_description(f\"{index} {name}\")\n",
    "        pd_raw = pd.read_csv(f, dtype={'Marker':str})\n",
    "        pd_raw = marker_converter(pd_raw,marker_names)\n",
    "        pd_raws.append(pd_raw)\n",
    "\n",
    "print(f\"index\\tname\\tfile_name\")\n",
    "print(\"=\"*30)\n",
    "for index in range(len(names)):\n",
    "    print(f\"{index}\\t{names[index]}\\t{files[index]}\")"
   ],
   "outputs": [
    {
     "output_type": "display_data",
     "data": {
      "application/vnd.jupyter.widget-view+json": {
       "version_major": 2,
       "version_minor": 0,
       "model_id": "261addf8b4e44f00ac38f1e71d77da28"
      },
      "text/plain": [
       "  0%|          | 0/7 [00:00<?, ?it/s]"
      ]
     },
     "metadata": {}
    },
    {
     "output_type": "stream",
     "name": "stdout",
     "text": [
      "index\tname\tfile_name\n",
      "==============================\n",
      "0\tprin\tdata/prin_mathstress_2021-08-13-06.37.39.csv\n",
      "1\tpumpath\tdata/pumpath_mathstress_2021-08-12-03.22.27.csv\n",
      "2\tkrittithee\tdata/krittithee_mathstress_2021-08-13-04.47.53.csv\n",
      "3\tnuttasit\tdata/nuttasit_mathstress_2021-08-12-08.09.53.csv\n",
      "4\tnutcha\tdata/nutcha_mathstress_2021-08-10-12.18.33.csv\n",
      "5\tsurangrat\tdata/surangrat_mathstress_2021-08-12-05.08.24.csv\n",
      "6\tdusadee\tdata/dusadee_mathstress_2021-08-12-06.43.45.csv\n"
     ]
    }
   ],
   "metadata": {}
  },
  {
   "cell_type": "code",
   "execution_count": 44,
   "source": [
    "raws = []\n",
    "sampling_rate = 250 # Hz\n",
    "with tqdm(pd_raws) as pbar:\n",
    "    for index,pd_raw in enumerate(pbar):\n",
    "        pbar.set_description(f\"{index} {names[index]}\")\n",
    "        raw = dataframe_to_raw(pd_raw, sfreq=sampling_rate)\n",
    "        raws.append(raw)"
   ],
   "outputs": [
    {
     "output_type": "display_data",
     "data": {
      "application/vnd.jupyter.widget-view+json": {
       "version_major": 2,
       "version_minor": 0,
       "model_id": "1a70a4644f264ab780ea3f36384f69f9"
      },
      "text/plain": [
       "  0%|          | 0/7 [00:00<?, ?it/s]"
      ]
     },
     "metadata": {}
    }
   ],
   "metadata": {}
  },
  {
   "cell_type": "code",
   "execution_count": null,
   "source": [
    "\n",
    "# Preprocess\n",
    "raw.notch_filter([50,100],filter_length='auto', phase='zero', verbose=False) # Line power\n",
    "raw.filter(1, None, verbose=False) # Slow drift\n",
    "pass\n",
    "# ica = mne.preprocessing.ICA(n_components=8, max_iter='auto')\n",
    "# ica.fit(raw, verbose=False)\n",
    "# raw = ica.apply(raw, verbose=False)"
   ],
   "outputs": [],
   "metadata": {}
  },
  {
   "cell_type": "code",
   "execution_count": null,
   "source": [
    "events = mne.find_events(raw, stim_channel='Marker', initial_event=True, verbose=False, uint_cast=False)\n",
    "marker_names = ['math,LowStress,start',\n",
    "                'math,LowStress,T',\n",
    "                'math,LowStress,F',\n",
    "                'math,LowStress,S',\n",
    "                'math,MildStress,start',\n",
    "                'math,MildStress,T',\n",
    "                'math,MildStress,F',\n",
    "                'math,MildStress,S',\n",
    "                'math,HigherStress,start',\n",
    "                'math,HigherStress,T',\n",
    "                'math,HigherStress,F',\n",
    "                'math,HigherStress,S',\n",
    "                'fixation,None,None']\n",
    "interested_marker_names = ['math,LowStress,start','math,MildStress,start','math,HigherStress,start','fixation,None,None']\n",
    "\n",
    "interested_markers = [ marker_idx.index(name) for name in interested_marker_names ]\n",
    "\n",
    "for name in marker_names:\n",
    "    task, level, m = name.split(',')\n",
    "    if(name not in marker_idx): continue\n",
    "    number = sum(events[::,2] == marker_idx.index(name))\n",
    "    if(m == 'start'): print(f\"Number of {level} questions: {number}\")\n",
    "    if(m == 'T'): print(f\"  Correct: {number}\")\n",
    "    if(m == 'F'): print(f\"  Wrong: {number}\")\n",
    "    if(m == 'S'): print(f\"  Slow: {number}\")\n",
    "\n",
    "uninterested_markers = list(set(np.unique(events[::,2])).difference(set(interested_markers)))\n",
    "for marker in uninterested_markers:\n",
    "    events = np.delete(events, np.argwhere(events[:,2] == marker), axis=0) "
   ],
   "outputs": [],
   "metadata": {}
  },
  {
   "cell_type": "code",
   "execution_count": null,
   "source": [
    "# Here we only get the event that indicate the begining of the block and fixation.\n",
    "interested_events = []\n",
    "prev_is_Low_start = False\n",
    "prev_is_Mil_start = False\n",
    "prev_is_Hig_start = False\n",
    "Low_start = marker_idx.index('math,LowStress,start')\n",
    "Mil_start = marker_idx.index('math,MildStress,start')\n",
    "Hig_start = marker_idx.index('math,HigherStress,start')\n",
    "\n",
    "for event in events:\n",
    "    if(event[2] == Low_start and prev_is_Low_start == False):\n",
    "        interested_events.append(list(event))\n",
    "        prev_is_Low_start = True\n",
    "    elif(event[2] != Low_start):\n",
    "        prev_is_Low_start = False\n",
    "\n",
    "    if(event[2] == Mil_start and prev_is_Mil_start == False):\n",
    "        interested_events.append(list(event))\n",
    "        prev_is_Mil_start = True\n",
    "    elif(event[2] != Mil_start):\n",
    "        prev_is_Mil_start = False\n",
    "\n",
    "    if(event[2] == Hig_start and prev_is_Hig_start == False):\n",
    "        interested_events.append(list(event))\n",
    "        prev_is_Hig_start = True\n",
    "    elif(event[2] != Hig_start):\n",
    "        prev_is_Hig_start = False\n",
    "\n",
    "\n",
    "    if(event[2] == marker_idx.index('fixation,None,None')):\n",
    "        interested_events.append(list(event))\n",
    "    # print(event)\n",
    "interested_events = np.array(interested_events)\n",
    "interested_events"
   ],
   "outputs": [],
   "metadata": {}
  },
  {
   "cell_type": "code",
   "execution_count": null,
   "source": [
    "# Here we split the block into chuncks\n",
    "chunck_size = 5 # second\n",
    "\n",
    "m_start = interested_events[0::2]\n",
    "m_stop = interested_events[1::2]\n",
    "chunck_events = []\n",
    "for index, (start, stop) in enumerate(zip(m_start, m_stop)):\n",
    "    # [time_stamp, _, marker]\n",
    "    a = start[2] in interested_markers\n",
    "    b = stop[2] == marker_idx.index('fixation,None,None')\n",
    "    if((a and b) == False):\n",
    "        raise ValueError(f\"at {index}, found unexpected marker order. start='{marker_idx[start[2]]}' stop='{marker_idx[stop[2]]}'\")\n",
    "    for i in range(start[0], start[0]+(30*250)+1, chunck_size*250):\n",
    "        if(i + chunck_size*250 >= stop[0]):\n",
    "            raise ValueError(f\"start stop is incorrect.\")\n",
    "        chunck_events.append([i,0,start[2]])\n",
    "\n",
    "chunck_events = np.array(chunck_events)\n",
    "num_low = sum(chunck_events[::,2] == marker_idx.index('math,LowStress,start'))\n",
    "num_mil = sum(chunck_events[::,2] == marker_idx.index('math,MildStress,start'))\n",
    "num_hig = sum(chunck_events[::,2] == marker_idx.index('math,HigherStress,start'))\n",
    "if(num_low != num_mil or num_mil != num_hig):\n",
    "    raise ValueError(f\"The number of chuncked events is not equal. LowStress={num_low} MildStress={num_mil} HigherStress={num_hig}\")\n",
    "print(f\"Number of samples of each block: {num_low}\")\n",
    "num_chunck = num_low\n"
   ],
   "outputs": [],
   "metadata": {}
  },
  {
   "cell_type": "code",
   "execution_count": null,
   "source": [
    "t_start, t_stop = 0.3, 4.8\n",
    "epochs = mne.Epochs(raw, chunck_events, tmin=t_start, tmax=t_stop, baseline=(t_start,t_stop), verbose=False)"
   ],
   "outputs": [],
   "metadata": {}
  },
  {
   "cell_type": "code",
   "execution_count": null,
   "source": [
    "# 0,4 Delta\n",
    "# 4,8 Theta\n",
    "# 8,16 Alpha ***\n",
    "# 16,32 Beta \n",
    "# 32,64 Noisy Gamma\n",
    "# 64,128 Noisy Signal\n",
    "# frequencies = np.arange(8, 32+1, 8)\n",
    "frequencies = np.array([10,11,12,13,14])\n",
    "features = []\n",
    "labels = []\n",
    "for index, evoked in enumerate(epochs.iter_evoked()):\n",
    "    event = evoked.comment\n",
    "    tfr_obj = mne.time_frequency.tfr_morlet(evoked, n_cycles=3, return_itc=False, freqs=frequencies, decim=3)\n",
    "    # (channel,freq,time-window)\n",
    "    coeff = tfr_obj.data \n",
    "    # (freq,time-window)\n",
    "    coeff = coeff.mean(axis=0)\n",
    "    # alpha mean\n",
    "    coeff = coeff.mean()\n",
    "    features.append(coeff)\n",
    "    labels.append(event)\n",
    "# features = np.array(features)\n",
    "# features.shape"
   ],
   "outputs": [],
   "metadata": {}
  },
  {
   "cell_type": "code",
   "execution_count": null,
   "source": [
    "from sklearn.preprocessing import normalize\n",
    "f_norm = normalize(np.array(features).reshape(-1,1), axis=0, norm='max')\n",
    "# f_norm = np.array(features).reshape(-1,1)\n",
    "plt.scatter(range(num_chunck*0,num_chunck*1),f_norm[num_chunck*0:num_chunck*1])\n",
    "plt.scatter(range(num_chunck*1,num_chunck*2),f_norm[num_chunck*1:num_chunck*2])\n",
    "plt.scatter(range(num_chunck*2,num_chunck*3),f_norm[num_chunck*2:num_chunck*3])"
   ],
   "outputs": [],
   "metadata": {}
  },
  {
   "cell_type": "code",
   "execution_count": null,
   "source": [],
   "outputs": [],
   "metadata": {}
  },
  {
   "cell_type": "code",
   "execution_count": null,
   "source": [],
   "outputs": [],
   "metadata": {}
  }
 ],
 "metadata": {
  "orig_nbformat": 4,
  "language_info": {
   "name": "python",
   "version": "3.8.10",
   "mimetype": "text/x-python",
   "codemirror_mode": {
    "name": "ipython",
    "version": 3
   },
   "pygments_lexer": "ipython3",
   "nbconvert_exporter": "python",
   "file_extension": ".py"
  },
  "kernelspec": {
   "name": "python3",
   "display_name": "Python 3.8.10 64-bit ('hci': venv)"
  },
  "interpreter": {
   "hash": "815efcf0c7342b169540b615ea1bef3fe0d02f9423b58bdf03d9ef3fd8d24248"
  }
 },
 "nbformat": 4,
 "nbformat_minor": 2
}