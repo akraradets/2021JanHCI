{
 "cells": [
  {
   "cell_type": "markdown",
   "source": [
    "# Hypothesis 1\n",
    "\n",
    "There is a relation between EEG signal and 3 levels of stress.\n",
    "\n",
    "For each pair of person and task, there are 3 distinct groups of EEG signals representing the 3 levels of stress."
   ],
   "metadata": {}
  },
  {
   "cell_type": "code",
   "execution_count": 1,
   "source": [
    "from utils import *\n",
    "import pandas as pd\n",
    "import mne\n",
    "from glob import glob\n",
    "import numpy as np\n",
    "import matplotlib.pyplot as plt\n",
    "from tqdm.notebook import tqdm\n",
    "from sklearn.preprocessing import normalize"
   ],
   "outputs": [],
   "metadata": {}
  },
  {
   "cell_type": "code",
   "execution_count": 2,
   "source": [
    "# start : begin of question\n",
    "# T: answer correct\n",
    "# F: answer incorrect\n",
    "# S: not answer in time\n",
    "# O: unexpected key press\n",
    "marker_names = [0,\n",
    "            'math,LowStress,start',\n",
    "            'math,LowStress,T',\n",
    "            'math,LowStress,F',\n",
    "            'math,LowStress,S',\n",
    "            'math,LowStress,O',\n",
    "            'math,MildStress,start',\n",
    "            'math,MildStress,T',\n",
    "            'math,MildStress,F',\n",
    "            'math,MildStress,S',\n",
    "            'math,MildStress,O',\n",
    "            'math,HigherStress,start',\n",
    "            'math,HigherStress,T',\n",
    "            'math,HigherStress,F',\n",
    "            'math,HigherStress,S',\n",
    "            'math,HigherStress,O',\n",
    "            'fixation,None,None']"
   ],
   "outputs": [],
   "metadata": {}
  },
  {
   "cell_type": "code",
   "execution_count": 3,
   "source": [
    "# task = \"mathcontrol\" \n",
    "task = \"mathstress\"\n",
    "\n",
    "files = glob(f\"data/*_{task}_*.csv\")\n",
    "names = []\n",
    "pd_raws = []\n",
    "raws = []\n",
    "with tqdm(files) as pbar:\n",
    "    for index, f in enumerate(pbar):\n",
    "        name, task, t_stamp = f.split('/')[1].split('_')\n",
    "        names.append(name)\n",
    "        pbar.set_description(f\"{index} {name}\")\n",
    "        pd_raw = pd.read_csv(f, dtype={'Marker':str})\n",
    "        pd_raw = marker_converter(pd_raw,marker_names)\n",
    "        pd_raws.append(pd_raw)\n",
    "\n",
    "print(f\"index\\tname\\tfile_name\")\n",
    "print(\"=\"*30)\n",
    "for index in range(len(names)):\n",
    "    print(f\"{index}\\t{names[index]}\\t{files[index]}\")"
   ],
   "outputs": [
    {
     "output_type": "display_data",
     "data": {
      "application/vnd.jupyter.widget-view+json": {
       "version_major": 2,
       "version_minor": 0,
       "model_id": "9dfc4659e3014ff1a2212eba801dd042"
      },
      "text/plain": [
       "  0%|          | 0/7 [00:00<?, ?it/s]"
      ]
     },
     "metadata": {}
    },
    {
     "output_type": "stream",
     "name": "stdout",
     "text": [
      "index\tname\tfile_name\n",
      "==============================\n",
      "0\tprin\tdata/prin_mathstress_2021-08-13-06.37.39.csv\n",
      "1\tpumpath\tdata/pumpath_mathstress_2021-08-12-03.22.27.csv\n",
      "2\tkrittithee\tdata/krittithee_mathstress_2021-08-13-04.47.53.csv\n",
      "3\tnuttasit\tdata/nuttasit_mathstress_2021-08-12-08.09.53.csv\n",
      "4\tnutcha\tdata/nutcha_mathstress_2021-08-10-12.18.33.csv\n",
      "5\tsurangrat\tdata/surangrat_mathstress_2021-08-12-05.08.24.csv\n",
      "6\tdusadee\tdata/dusadee_mathstress_2021-08-12-06.43.45.csv\n"
     ]
    }
   ],
   "metadata": {}
  },
  {
   "cell_type": "code",
   "execution_count": 4,
   "source": [
    "raws = []\n",
    "sampling_rate = 250 # Hz\n",
    "with tqdm(pd_raws) as pbar:\n",
    "    for index,pd_raw in enumerate(pbar):\n",
    "        pbar.set_description(f\"{index} {names[index]}\")\n",
    "        raw = dataframe_to_raw(pd_raw, sfreq=sampling_rate)\n",
    "        raws.append(raw)"
   ],
   "outputs": [
    {
     "output_type": "display_data",
     "data": {
      "application/vnd.jupyter.widget-view+json": {
       "version_major": 2,
       "version_minor": 0,
       "model_id": "2db0af78e0834d8f8ff81512f7619478"
      },
      "text/plain": [
       "  0%|          | 0/7 [00:00<?, ?it/s]"
      ]
     },
     "metadata": {}
    }
   ],
   "metadata": {}
  },
  {
   "cell_type": "code",
   "execution_count": 5,
   "source": [
    "# Preprocess\n",
    "for raw in raws:\n",
    "    raw.notch_filter([50,100],filter_length='auto', phase='zero', verbose=False) # Line power\n",
    "    raw.filter(1, None, verbose=False) # Slow drift\n",
    "    # ica = mne.preprocessing.ICA(n_components=8, max_iter='auto')\n",
    "    # ica.fit(raw, verbose=False)\n",
    "    # raw = ica.apply(raw, verbose=False)\n",
    "    pass"
   ],
   "outputs": [],
   "metadata": {}
  },
  {
   "cell_type": "code",
   "execution_count": 6,
   "source": [
    "# for m in pd_raws[0]['Marker'].unique():\n",
    "#     print(marker_names[m])"
   ],
   "outputs": [
    {
     "output_type": "stream",
     "name": "stdout",
     "text": [
      "0\n",
      "math,LowStress,start\n",
      "math,LowStress,T\n",
      "math,LowStress,F\n",
      "math,LowStress,S\n",
      "fixation,None,None\n",
      "math,MildStress,start\n",
      "math,MildStress,T\n",
      "math,MildStress,S\n",
      "math,MildStress,F\n",
      "math,HigherStress,start\n",
      "math,HigherStress,F\n",
      "math,HigherStress,T\n",
      "math,HigherStress,O\n",
      "math,HigherStress,S\n"
     ]
    }
   ],
   "metadata": {}
  },
  {
   "cell_type": "code",
   "execution_count": 15,
   "source": [
    "interested_marker_names = ['math,LowStress,start','math,MildStress,start','math,HigherStress,start','fixation,None,None']\n",
    "interested_markers = [ marker_names.index(name) for name in interested_marker_names ]\n",
    "events_list = []\n",
    "with tqdm(raws) as pbar:\n",
    "    for index,raw in enumerate(pbar):\n",
    "        pbar.set_description(f\"{index} {names[index]}\")\n",
    "        print(f\"Participant:'{names[index]}'\")\n",
    "        events = mne.find_events(raw, stim_channel='Marker', initial_event=True, verbose=False, uint_cast=False)\n",
    "        # marker_names[0] is 0, so skip\n",
    "        for marker_name in marker_names[1:]:\n",
    "            task, level, m = marker_name.split(',')\n",
    "            # if(marker_name not in marker_names): continue\n",
    "            number = sum(events[::,2] == marker_names.index(marker_name))\n",
    "            if(m == 'start'): print(f\"\\tNumber of '{level}' questions: {number}\")\n",
    "            if(m == 'T'): print(f\"\\t\\tCorrect: {number}\")\n",
    "            if(m == 'F'): print(f\"\\t\\tWrong: {number}\")\n",
    "            if(m == 'S'): print(f\"\\t\\tSlow: {number}\")\n",
    "            if(m == 'O'): print(f\"\\t\\tOut of range: {number}\")\n",
    "        print(\"=\"*30)\n",
    "\n",
    "        uninterested_markers = list(set(np.unique(events[::,2])).difference(set(interested_markers)))\n",
    "        for marker in uninterested_markers:\n",
    "            events = np.delete(events, np.argwhere(events[:,2] == marker), axis=0) \n",
    "        events_list.append(events)\n",
    "        # break\n",
    "\n",
    "\n"
   ],
   "outputs": [
    {
     "output_type": "display_data",
     "data": {
      "application/vnd.jupyter.widget-view+json": {
       "version_major": 2,
       "version_minor": 0,
       "model_id": "176b25e85c024ab1afcc63d59feb0c20"
      },
      "text/plain": [
       "  0%|          | 0/7 [00:00<?, ?it/s]"
      ]
     },
     "metadata": {}
    },
    {
     "output_type": "stream",
     "name": "stdout",
     "text": [
      "Participant:'prin'\n",
      "\tNumber of 'LowStress' questions: 68\n",
      "\t\tCorrect: 53\n",
      "\t\tWrong: 9\n",
      "\t\tSlow: 6\n",
      "\t\tOut of range: 0\n",
      "\tNumber of 'MildStress' questions: 46\n",
      "\t\tCorrect: 19\n",
      "\t\tWrong: 13\n",
      "\t\tSlow: 14\n",
      "\t\tOut of range: 0\n",
      "\tNumber of 'HigherStress' questions: 28\n",
      "\t\tCorrect: 8\n",
      "\t\tWrong: 8\n",
      "\t\tSlow: 6\n",
      "\t\tOut of range: 6\n",
      "==============================\n",
      "Participant:'pumpath'\n",
      "\tNumber of 'LowStress' questions: 59\n",
      "\t\tCorrect: 45\n",
      "\t\tWrong: 3\n",
      "\t\tSlow: 11\n",
      "\t\tOut of range: 0\n",
      "\tNumber of 'MildStress' questions: 27\n",
      "\t\tCorrect: 12\n",
      "\t\tWrong: 13\n",
      "\t\tSlow: 2\n",
      "\t\tOut of range: 0\n",
      "\tNumber of 'HigherStress' questions: 20\n",
      "\t\tCorrect: 11\n",
      "\t\tWrong: 9\n",
      "\t\tSlow: 0\n",
      "\t\tOut of range: 0\n",
      "==============================\n",
      "Participant:'krittithee'\n",
      "\tNumber of 'LowStress' questions: 53\n",
      "\t\tCorrect: 32\n",
      "\t\tWrong: 10\n",
      "\t\tSlow: 11\n",
      "\t\tOut of range: 0\n",
      "\tNumber of 'MildStress' questions: 33\n",
      "\t\tCorrect: 18\n",
      "\t\tWrong: 11\n",
      "\t\tSlow: 4\n",
      "\t\tOut of range: 0\n",
      "\tNumber of 'HigherStress' questions: 15\n",
      "\t\tCorrect: 7\n",
      "\t\tWrong: 3\n",
      "\t\tSlow: 5\n",
      "\t\tOut of range: 0\n",
      "==============================\n",
      "Participant:'nuttasit'\n",
      "\tNumber of 'LowStress' questions: 79\n",
      "\t\tCorrect: 49\n",
      "\t\tWrong: 4\n",
      "\t\tSlow: 26\n",
      "\t\tOut of range: 0\n",
      "\tNumber of 'MildStress' questions: 47\n",
      "\t\tCorrect: 33\n",
      "\t\tWrong: 2\n",
      "\t\tSlow: 12\n",
      "\t\tOut of range: 0\n",
      "\tNumber of 'HigherStress' questions: 29\n",
      "\t\tCorrect: 19\n",
      "\t\tWrong: 2\n",
      "\t\tSlow: 8\n",
      "\t\tOut of range: 0\n",
      "==============================\n",
      "Participant:'nutcha'\n",
      "\tNumber of 'LowStress' questions: 65\n",
      "\t\tCorrect: 48\n",
      "\t\tWrong: 7\n",
      "\t\tSlow: 10\n",
      "\t\tOut of range: 0\n",
      "\tNumber of 'MildStress' questions: 38\n",
      "\t\tCorrect: 21\n",
      "\t\tWrong: 11\n",
      "\t\tSlow: 6\n",
      "\t\tOut of range: 0\n",
      "\tNumber of 'HigherStress' questions: 15\n",
      "\t\tCorrect: 8\n",
      "\t\tWrong: 6\n",
      "\t\tSlow: 1\n",
      "\t\tOut of range: 0\n",
      "==============================\n",
      "Participant:'surangrat'\n",
      "\tNumber of 'LowStress' questions: 67\n",
      "\t\tCorrect: 39\n",
      "\t\tWrong: 2\n",
      "\t\tSlow: 19\n",
      "\t\tOut of range: 7\n",
      "\tNumber of 'MildStress' questions: 43\n",
      "\t\tCorrect: 0\n",
      "\t\tWrong: 0\n",
      "\t\tSlow: 23\n",
      "\t\tOut of range: 20\n",
      "\tNumber of 'HigherStress' questions: 24\n",
      "\t\tCorrect: 0\n",
      "\t\tWrong: 0\n",
      "\t\tSlow: 6\n",
      "\t\tOut of range: 18\n",
      "==============================\n",
      "Participant:'dusadee'\n",
      "\tNumber of 'LowStress' questions: 44\n",
      "\t\tCorrect: 30\n",
      "\t\tWrong: 9\n",
      "\t\tSlow: 5\n",
      "\t\tOut of range: 0\n",
      "\tNumber of 'MildStress' questions: 29\n",
      "\t\tCorrect: 22\n",
      "\t\tWrong: 7\n",
      "\t\tSlow: 0\n",
      "\t\tOut of range: 0\n",
      "\tNumber of 'HigherStress' questions: 13\n",
      "\t\tCorrect: 6\n",
      "\t\tWrong: 5\n",
      "\t\tSlow: 2\n",
      "\t\tOut of range: 0\n",
      "==============================\n"
     ]
    }
   ],
   "metadata": {}
  },
  {
   "cell_type": "code",
   "execution_count": 19,
   "source": [
    "# Here we only get the event that indicate the begining of the block and fixation.\n",
    "interested_events_list = []\n",
    "with tqdm(events_list) as pbar:\n",
    "    for index, events in enumerate(pbar):\n",
    "        pbar.set_description(f\"{index} {names[index]}\")\n",
    "        interested_events = []\n",
    "        prev_is_Low_start = False\n",
    "        prev_is_Mil_start = False\n",
    "        prev_is_Hig_start = False\n",
    "        Low_start = marker_names.index('math,LowStress,start')\n",
    "        Mil_start = marker_names.index('math,MildStress,start')\n",
    "        Hig_start = marker_names.index('math,HigherStress,start')\n",
    "\n",
    "        for event in events:\n",
    "            if(event[2] == Low_start and prev_is_Low_start == False):\n",
    "                interested_events.append(list(event))\n",
    "                prev_is_Low_start = True\n",
    "            elif(event[2] != Low_start):\n",
    "                prev_is_Low_start = False\n",
    "\n",
    "            if(event[2] == Mil_start and prev_is_Mil_start == False):\n",
    "                interested_events.append(list(event))\n",
    "                prev_is_Mil_start = True\n",
    "            elif(event[2] != Mil_start):\n",
    "                prev_is_Mil_start = False\n",
    "\n",
    "            if(event[2] == Hig_start and prev_is_Hig_start == False):\n",
    "                interested_events.append(list(event))\n",
    "                prev_is_Hig_start = True\n",
    "            elif(event[2] != Hig_start):\n",
    "                prev_is_Hig_start = False\n",
    "\n",
    "\n",
    "            if(event[2] == marker_names.index('fixation,None,None')):\n",
    "                interested_events.append(list(event))\n",
    "            # print(event)\n",
    "        interested_events = np.array(interested_events)\n",
    "        interested_events_list.append(interested_events)"
   ],
   "outputs": [
    {
     "output_type": "display_data",
     "data": {
      "application/vnd.jupyter.widget-view+json": {
       "version_major": 2,
       "version_minor": 0,
       "model_id": "3f49973f7d8a42289f171a934ee8bacf"
      },
      "text/plain": [
       "  0%|          | 0/7 [00:00<?, ?it/s]"
      ]
     },
     "metadata": {}
    }
   ],
   "metadata": {}
  },
  {
   "cell_type": "code",
   "execution_count": 25,
   "source": [
    "# Here we split the block into chuncks\n",
    "chunck_size = 5 # second\n",
    "chunck_events_list = []\n",
    "num_chunck = None\n",
    "with tqdm(interested_events_list) as pbar:\n",
    "    for index, interested_events in enumerate(pbar):\n",
    "        m_start = interested_events[0::2]\n",
    "        m_stop = interested_events[1::2]\n",
    "        chunck_events = []\n",
    "        for index, (start, stop) in enumerate(zip(m_start, m_stop)):\n",
    "            # [time_stamp, _, marker]\n",
    "            a = start[2] in interested_markers\n",
    "            b = stop[2] == marker_names.index('fixation,None,None')\n",
    "            if((a and b) == False):\n",
    "                raise ValueError(f\"at {index}, found unexpected marker order. start='{marker_names[start[2]]}' stop='{marker_names[stop[2]]}'\")\n",
    "            for i in range(start[0], start[0]+(30*250)+1, chunck_size*250):\n",
    "                if(i + chunck_size*250 >= stop[0]):\n",
    "                    raise ValueError(f\"start stop is incorrect.\")\n",
    "                chunck_events.append([i,0,start[2]])\n",
    "\n",
    "        chunck_events = np.array(chunck_events)\n",
    "        chunck_events_list.append(chunck_events)\n",
    "        num_low = sum(chunck_events[::,2] == marker_names.index('math,LowStress,start'))\n",
    "        num_mil = sum(chunck_events[::,2] == marker_names.index('math,MildStress,start'))\n",
    "        num_hig = sum(chunck_events[::,2] == marker_names.index('math,HigherStress,start'))\n",
    "        if(num_low != num_mil or num_mil != num_hig):\n",
    "            raise ValueError(f\"The number of chuncked events is not equal. LowStress={num_low} MildStress={num_mil} HigherStress={num_hig}\")\n",
    "        print(f\"Number of samples of each block: {num_low}\")\n",
    "        num_chunck = num_low\n"
   ],
   "outputs": [
    {
     "output_type": "display_data",
     "data": {
      "application/vnd.jupyter.widget-view+json": {
       "version_major": 2,
       "version_minor": 0,
       "model_id": "f9456ffbc1324356aa20f650fd940a8f"
      },
      "text/plain": [
       "  0%|          | 0/7 [00:00<?, ?it/s]"
      ]
     },
     "metadata": {}
    },
    {
     "output_type": "stream",
     "name": "stdout",
     "text": [
      "Number of samples of each block: 28\n",
      "Number of samples of each block: 28\n",
      "Number of samples of each block: 28\n",
      "Number of samples of each block: 28\n",
      "Number of samples of each block: 28\n",
      "Number of samples of each block: 28\n",
      "Number of samples of each block: 28\n"
     ]
    }
   ],
   "metadata": {}
  },
  {
   "cell_type": "code",
   "execution_count": 26,
   "source": [
    "# 0,4 Delta\n",
    "# 4,8 Theta\n",
    "# 8,16 Alpha ***\n",
    "# 16,32 Beta \n",
    "# 32,64 Noisy Gamma\n",
    "# 64,128 Noisy Signal\n",
    "# frequencies = np.arange(8, 32+1, 8)\n",
    "\n",
    "frequencies = np.array([10,11,12,13,14])\n",
    "t_start, t_stop = 0.3, 4.8\n",
    "features_list = []\n",
    "labels_list = []\n",
    "with tqdm(raws) as pbar:\n",
    "    for index_1, raw in enumerate(pbar):\n",
    "        pbar.set_description(f\"{index_1} {names[index_1]}\")\n",
    "        raw, chunck_events = raws[index_1], chunck_events_list[index_1]\n",
    "        features = []\n",
    "        labels = []\n",
    "        epochs = mne.Epochs(raw, chunck_events, tmin=t_start, tmax=t_stop, baseline=(t_start,t_stop), verbose=False)\n",
    "\n",
    "        for index, evoked in enumerate(epochs.iter_evoked()):\n",
    "            event = evoked.comment\n",
    "            tfr_obj = mne.time_frequency.tfr_morlet(evoked, n_cycles=3, return_itc=False, freqs=frequencies, decim=3)\n",
    "            # (channel,freq,time-window)\n",
    "            coeff = tfr_obj.data \n",
    "            # (freq,time-window)\n",
    "            coeff = coeff.mean(axis=0)\n",
    "            # alpha mean\n",
    "            coeff = coeff.mean()\n",
    "            features.append(coeff)\n",
    "            labels.append(event)\n",
    "        features_list.append(features)\n",
    "        labels_list.append(labels)\n",
    "# features = np.array(features)\n",
    "# features.shape"
   ],
   "outputs": [
    {
     "output_type": "display_data",
     "data": {
      "application/vnd.jupyter.widget-view+json": {
       "version_major": 2,
       "version_minor": 0,
       "model_id": "5726c1ad352046468a4c2a2e4576481e"
      },
      "text/plain": [
       "  0%|          | 0/7 [00:00<?, ?it/s]"
      ]
     },
     "metadata": {}
    }
   ],
   "metadata": {}
  },
  {
   "cell_type": "code",
   "execution_count": 28,
   "source": [
    "for features in features_list:\n",
    "    f_norm = normalize(np.array(features).reshape(-1,1), axis=0, norm='max')\n",
    "    # f_norm = np.array(features).reshape(-1,1)\n",
    "    plt.scatter(range(num_chunck*0,num_chunck*1),f_norm[num_chunck*0:num_chunck*1])\n",
    "    plt.scatter(range(num_chunck*1,num_chunck*2),f_norm[num_chunck*1:num_chunck*2])\n",
    "    plt.scatter(range(num_chunck*2,num_chunck*3),f_norm[num_chunck*2:num_chunck*3])\n",
    "    plt.show()"
   ],
   "outputs": [
    {
     "output_type": "display_data",
     "data": {
      "image/png": "[encoded data removed]",
      "text/plain": [
       "<Figure size 432x288 with 1 Axes>"
      ]
     },
     "metadata": {
      "needs_background": "light"
     }
    },
    {
     "output_type": "display_data",
     "data": {
      "image/png": "[encoded data removed]",
      "text/plain": [
       "<Figure size 432x288 with 1 Axes>"
      ]
     },
     "metadata": {
      "needs_background": "light"
     }
    },
    {
     "output_type": "display_data",
     "data": {
      "image/png": "[encoded data removed]",
      "text/plain": [
       "<Figure size 432x288 with 1 Axes>"
      ]
     },
     "metadata": {
      "needs_background": "light"
     }
    },
    {
     "output_type": "display_data",
     "data": {
      "image/png": "[encoded data removed]",
      "text/plain": [
       "<Figure size 432x288 with 1 Axes>"
      ]
     },
     "metadata": {
      "needs_background": "light"
     }
    },
    {
     "output_type": "display_data",
     "data": {
      "image/png": "[encoded data removed]",
      "text/plain": [
       "<Figure size 432x288 with 1 Axes>"
      ]
     },
     "metadata": {
      "needs_background": "light"
     }
    },
    {
     "output_type": "display_data",
     "data": {
      "image/png": "[encoded data removed]",
      "text/plain": [
       "<Figure size 432x288 with 1 Axes>"
      ]
     },
     "metadata": {
      "needs_background": "light"
     }
    },
    {
     "output_type": "display_data",
     "data": {
      "image/png": "[encoded data removed]",
      "text/plain": [
       "<Figure size 432x288 with 1 Axes>"
      ]
     },
     "metadata": {
      "needs_background": "light"
     }
    }
   ],
   "metadata": {}
  },
  {
   "cell_type": "code",
   "execution_count": null,
   "source": [],
   "outputs": [],
   "metadata": {}
  },
  {
   "cell_type": "code",
   "execution_count": null,
   "source": [],
   "outputs": [],
   "metadata": {}
  }
 ],
 "metadata": {
  "orig_nbformat": 4,
  "language_info": {
   "name": "python",
   "version": "3.8.10",
   "mimetype": "text/x-python",
   "codemirror_mode": {
    "name": "ipython",
    "version": 3
   },
   "pygments_lexer": "ipython3",
   "nbconvert_exporter": "python",
   "file_extension": ".py"
  },
  "kernelspec": {
   "name": "python3",
   "display_name": "Python 3.8.10 64-bit ('hci': venv)"
  },
  "interpreter": {
   "hash": "815efcf0c7342b169540b615ea1bef3fe0d02f9423b58bdf03d9ef3fd8d24248"
  }
 },
 "nbformat": 4,
 "nbformat_minor": 2
}