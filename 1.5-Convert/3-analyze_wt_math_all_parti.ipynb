{
 "cells": [
  {
   "cell_type": "markdown",
   "source": [
    "# Hypothesis 1\n",
    "\n",
    "There is a relation between EEG signal and 3 levels of stress.\n",
    "\n",
    "For each pair of person and task, there are 3 distinct groups of EEG signals representing the 3 levels of stress."
   ],
   "metadata": {}
  },
  {
   "cell_type": "code",
   "execution_count": 1,
   "source": [
    "from utils import *\n",
    "import pandas as pd\n",
    "import mne\n",
    "from glob import glob\n",
    "import numpy as np\n",
    "import matplotlib.pyplot as plt"
   ],
   "outputs": [],
   "metadata": {}
  },
  {
   "cell_type": "code",
   "execution_count": null,
   "source": [
    "markers = ['math,LowStress,start',\n",
    "            'math,LowStress,T',\n",
    "            'math,LowStress,F',\n",
    "            'math,LowStress,S',\n",
    "            'math,MildStress,start',\n",
    "            'math,MildStress,T',\n",
    "            'math,MildStress,F',\n",
    "            'math,MildStress,S',\n",
    "            'math,HigherStress,start',\n",
    "            'math,HigherStress,T',\n",
    "            'math,HigherStress,F',\n",
    "            'math,HigherStress,S',\n",
    "            'fixation,None,None']"
   ],
   "outputs": [],
   "metadata": {}
  },
  {
   "cell_type": "code",
   "execution_count": 12,
   "source": [
    "task = \"mathcontrol\" \n",
    "# task = \"mathstress\"\n",
    "\n",
    "files = glob(f\"data/*_{task}_*.csv\")\n",
    "names = []\n",
    "pd_raws = []\n",
    "for f in files:\n",
    "    name, task, t_stamp = f.split('/')[1].split('_')\n",
    "    names.append(name)\n",
    "    pd_raw = pd.read_csv(f, dtype={'Marker':str})\n",
    "print(names)"
   ],
   "outputs": [
    {
     "output_type": "stream",
     "name": "stdout",
     "text": [
      "['nuttasit', 'nutcha', 'krittithee', 'surangrat', 'dusadee', 'prin', 'pumpath']\n",
      "['data/nuttasit_mathcontrol_2021-08-12-07.51.14.csv', 'data/nutcha_mathcontrol_2021-08-10-12.00.36.csv', 'data/krittithee_mathcontrol_2021-08-13-04.23.39.csv', 'data/surangrat_mathcontrol_2021-08-12-04.52.16.csv', 'data/dusadee_mathcontrol_2021-08-12-06.23.55.csv', 'data/prin_mathcontrol_2021-08-13-06.18.47.csv', 'data/pumpath_mathcontrol_2021-08-12-03.03.11.csv']\n"
     ]
    }
   ],
   "metadata": {}
  },
  {
   "cell_type": "code",
   "execution_count": 3,
   "source": [
    "participant_name = \"dusadee\"\n",
    "t\n",
    "files = glob(f\"data/{participant_name}_{task}_*.csv\")\n",
    "if(len(files) != 1):\n",
    "    raise ValueError(f\"glob found these files. {files}\")\n",
    "\n",
    "pandasRaw = pd.read_csv(files[0], dtype={'Marker':str})\n",
    "pandasRaw,marker_idx = marker_converter(pandasRaw)\n",
    "pandasRaw"
   ],
   "outputs": [
    {
     "output_type": "execute_result",
     "data": {
      "text/html": [
       "<div>\n",
       "<style scoped>\n",
       "    .dataframe tbody tr th:only-of-type {\n",
       "        vertical-align: middle;\n",
       "    }\n",
       "\n",
       "    .dataframe tbody tr th {\n",
       "        vertical-align: top;\n",
       "    }\n",
       "\n",
       "    .dataframe thead th {\n",
       "        text-align: right;\n",
       "    }\n",
       "</style>\n",
       "<table border=\"1\" class=\"dataframe\">\n",
       "  <thead>\n",
       "    <tr style=\"text-align: right;\">\n",
       "      <th></th>\n",
       "      <th>Fp1</th>\n",
       "      <th>Fp2</th>\n",
       "      <th>F3</th>\n",
       "      <th>F4</th>\n",
       "      <th>F7</th>\n",
       "      <th>F8</th>\n",
       "      <th>O1</th>\n",
       "      <th>O2</th>\n",
       "      <th>Marker</th>\n",
       "    </tr>\n",
       "  </thead>\n",
       "  <tbody>\n",
       "    <tr>\n",
       "      <th>0</th>\n",
       "      <td>26076.887</td>\n",
       "      <td>22321.859</td>\n",
       "      <td>17087.439</td>\n",
       "      <td>24908.494</td>\n",
       "      <td>11652.367</td>\n",
       "      <td>16145.648</td>\n",
       "      <td>21130.199</td>\n",
       "      <td>19627.045</td>\n",
       "      <td>0</td>\n",
       "    </tr>\n",
       "    <tr>\n",
       "      <th>1</th>\n",
       "      <td>26084.598</td>\n",
       "      <td>22319.111</td>\n",
       "      <td>17085.428</td>\n",
       "      <td>24914.104</td>\n",
       "      <td>11655.831</td>\n",
       "      <td>16152.689</td>\n",
       "      <td>21133.730</td>\n",
       "      <td>19627.246</td>\n",
       "      <td>0</td>\n",
       "    </tr>\n",
       "    <tr>\n",
       "      <th>2</th>\n",
       "      <td>26086.072</td>\n",
       "      <td>22314.619</td>\n",
       "      <td>17084.936</td>\n",
       "      <td>24920.922</td>\n",
       "      <td>11663.878</td>\n",
       "      <td>16156.757</td>\n",
       "      <td>21138.738</td>\n",
       "      <td>19626.709</td>\n",
       "      <td>0</td>\n",
       "    </tr>\n",
       "    <tr>\n",
       "      <th>3</th>\n",
       "      <td>26076.484</td>\n",
       "      <td>22311.936</td>\n",
       "      <td>17085.002</td>\n",
       "      <td>24925.303</td>\n",
       "      <td>11674.070</td>\n",
       "      <td>16151.460</td>\n",
       "      <td>21132.479</td>\n",
       "      <td>19626.129</td>\n",
       "      <td>0</td>\n",
       "    </tr>\n",
       "    <tr>\n",
       "      <th>4</th>\n",
       "      <td>26085.268</td>\n",
       "      <td>22315.758</td>\n",
       "      <td>17078.879</td>\n",
       "      <td>24924.297</td>\n",
       "      <td>11691.706</td>\n",
       "      <td>16146.229</td>\n",
       "      <td>21134.760</td>\n",
       "      <td>19628.945</td>\n",
       "      <td>0</td>\n",
       "    </tr>\n",
       "    <tr>\n",
       "      <th>...</th>\n",
       "      <td>...</td>\n",
       "      <td>...</td>\n",
       "      <td>...</td>\n",
       "      <td>...</td>\n",
       "      <td>...</td>\n",
       "      <td>...</td>\n",
       "      <td>...</td>\n",
       "      <td>...</td>\n",
       "      <td>...</td>\n",
       "    </tr>\n",
       "    <tr>\n",
       "      <th>252967</th>\n",
       "      <td>26027.020</td>\n",
       "      <td>21899.145</td>\n",
       "      <td>18082.404</td>\n",
       "      <td>25975.029</td>\n",
       "      <td>14338.019</td>\n",
       "      <td>16915.666</td>\n",
       "      <td>22777.971</td>\n",
       "      <td>21120.297</td>\n",
       "      <td>0</td>\n",
       "    </tr>\n",
       "    <tr>\n",
       "      <th>252968</th>\n",
       "      <td>26023.354</td>\n",
       "      <td>21894.764</td>\n",
       "      <td>18075.766</td>\n",
       "      <td>25974.627</td>\n",
       "      <td>14340.611</td>\n",
       "      <td>16906.748</td>\n",
       "      <td>22775.266</td>\n",
       "      <td>21116.252</td>\n",
       "      <td>0</td>\n",
       "    </tr>\n",
       "    <tr>\n",
       "      <th>252969</th>\n",
       "      <td>26023.801</td>\n",
       "      <td>21895.857</td>\n",
       "      <td>18079.701</td>\n",
       "      <td>25977.221</td>\n",
       "      <td>14334.822</td>\n",
       "      <td>16907.844</td>\n",
       "      <td>22771.377</td>\n",
       "      <td>21119.516</td>\n",
       "      <td>0</td>\n",
       "    </tr>\n",
       "    <tr>\n",
       "      <th>252970</th>\n",
       "      <td>26017.922</td>\n",
       "      <td>21897.424</td>\n",
       "      <td>18078.516</td>\n",
       "      <td>25968.994</td>\n",
       "      <td>14330.307</td>\n",
       "      <td>16920.695</td>\n",
       "      <td>22776.404</td>\n",
       "      <td>21127.607</td>\n",
       "      <td>0</td>\n",
       "    </tr>\n",
       "    <tr>\n",
       "      <th>252971</th>\n",
       "      <td>26023.756</td>\n",
       "      <td>21904.508</td>\n",
       "      <td>18067.475</td>\n",
       "      <td>25964.904</td>\n",
       "      <td>14350.669</td>\n",
       "      <td>16926.395</td>\n",
       "      <td>22775.668</td>\n",
       "      <td>21115.424</td>\n",
       "      <td>0</td>\n",
       "    </tr>\n",
       "  </tbody>\n",
       "</table>\n",
       "<p>252972 rows × 9 columns</p>\n",
       "</div>"
      ],
      "text/plain": [
       "              Fp1        Fp2         F3         F4         F7         F8  \\\n",
       "0       26076.887  22321.859  17087.439  24908.494  11652.367  16145.648   \n",
       "1       26084.598  22319.111  17085.428  24914.104  11655.831  16152.689   \n",
       "2       26086.072  22314.619  17084.936  24920.922  11663.878  16156.757   \n",
       "3       26076.484  22311.936  17085.002  24925.303  11674.070  16151.460   \n",
       "4       26085.268  22315.758  17078.879  24924.297  11691.706  16146.229   \n",
       "...           ...        ...        ...        ...        ...        ...   \n",
       "252967  26027.020  21899.145  18082.404  25975.029  14338.019  16915.666   \n",
       "252968  26023.354  21894.764  18075.766  25974.627  14340.611  16906.748   \n",
       "252969  26023.801  21895.857  18079.701  25977.221  14334.822  16907.844   \n",
       "252970  26017.922  21897.424  18078.516  25968.994  14330.307  16920.695   \n",
       "252971  26023.756  21904.508  18067.475  25964.904  14350.669  16926.395   \n",
       "\n",
       "               O1         O2  Marker  \n",
       "0       21130.199  19627.045       0  \n",
       "1       21133.730  19627.246       0  \n",
       "2       21138.738  19626.709       0  \n",
       "3       21132.479  19626.129       0  \n",
       "4       21134.760  19628.945       0  \n",
       "...           ...        ...     ...  \n",
       "252967  22777.971  21120.297       0  \n",
       "252968  22775.266  21116.252       0  \n",
       "252969  22771.377  21119.516       0  \n",
       "252970  22776.404  21127.607       0  \n",
       "252971  22775.668  21115.424       0  \n",
       "\n",
       "[252972 rows x 9 columns]"
      ]
     },
     "metadata": {},
     "execution_count": 3
    }
   ],
   "metadata": {}
  },
  {
   "cell_type": "code",
   "execution_count": 4,
   "source": [
    "for marker in pandasRaw['Marker'].unique():\n",
    "    print(marker, marker_idx[marker])"
   ],
   "outputs": [
    {
     "output_type": "stream",
     "name": "stdout",
     "text": [
      "0 0\n",
      "1 math,LowStress,start\n",
      "2 fixation,None,None\n",
      "3 math,LowStress,T\n",
      "4 math,MildStress,start\n",
      "5 math,MildStress,T\n",
      "6 math,HigherStress,start\n",
      "7 math,HigherStress,T\n"
     ]
    }
   ],
   "metadata": {}
  },
  {
   "cell_type": "code",
   "execution_count": 5,
   "source": [
    "raw = dataframe_to_raw(pandasRaw, sfreq=250)"
   ],
   "outputs": [],
   "metadata": {}
  },
  {
   "cell_type": "code",
   "execution_count": 6,
   "source": [
    "# Preprocess\n",
    "raw.notch_filter([50,100],filter_length='auto', phase='zero', verbose=False) # Line power\n",
    "raw.filter(1, None, verbose=False) # Slow drift\n",
    "pass\n",
    "# ica = mne.preprocessing.ICA(n_components=8, max_iter='auto')\n",
    "# ica.fit(raw, verbose=False)\n",
    "# raw = ica.apply(raw, verbose=False)"
   ],
   "outputs": [],
   "metadata": {}
  },
  {
   "cell_type": "code",
   "execution_count": 7,
   "source": [
    "events = mne.find_events(raw, stim_channel='Marker', initial_event=True, verbose=False, uint_cast=False)\n",
    "marker_names = ['math,LowStress,start',\n",
    "                'math,LowStress,T',\n",
    "                'math,LowStress,F',\n",
    "                'math,LowStress,S',\n",
    "                'math,MildStress,start',\n",
    "                'math,MildStress,T',\n",
    "                'math,MildStress,F',\n",
    "                'math,MildStress,S',\n",
    "                'math,HigherStress,start',\n",
    "                'math,HigherStress,T',\n",
    "                'math,HigherStress,F',\n",
    "                'math,HigherStress,S',\n",
    "                'fixation,None,None']\n",
    "interested_marker_names = ['math,LowStress,start','math,MildStress,start','math,HigherStress,start','fixation,None,None']\n",
    "\n",
    "interested_markers = [ marker_idx.index(name) for name in interested_marker_names ]\n",
    "\n",
    "for name in marker_names:\n",
    "    task, level, m = name.split(',')\n",
    "    if(name not in marker_idx): continue\n",
    "    number = sum(events[::,2] == marker_idx.index(name))\n",
    "    if(m == 'start'): print(f\"Number of {level} questions: {number}\")\n",
    "    if(m == 'T'): print(f\"  Correct: {number}\")\n",
    "    if(m == 'F'): print(f\"  Wrong: {number}\")\n",
    "    if(m == 'S'): print(f\"  Slow: {number}\")\n",
    "\n",
    "uninterested_markers = list(set(np.unique(events[::,2])).difference(set(interested_markers)))\n",
    "for marker in uninterested_markers:\n",
    "    events = np.delete(events, np.argwhere(events[:,2] == marker), axis=0) "
   ],
   "outputs": [
    {
     "output_type": "stream",
     "name": "stdout",
     "text": [
      "Number of LowStress questions: 25\n",
      "  Correct: 4\n",
      "Number of MildStress questions: 9\n",
      "  Correct: 1\n",
      "Number of HigherStress questions: 5\n",
      "  Correct: 1\n"
     ]
    }
   ],
   "metadata": {}
  },
  {
   "cell_type": "code",
   "execution_count": 8,
   "source": [
    "# Here we only get the event that indicate the begining of the block and fixation.\n",
    "interested_events = []\n",
    "prev_is_Low_start = False\n",
    "prev_is_Mil_start = False\n",
    "prev_is_Hig_start = False\n",
    "Low_start = marker_idx.index('math,LowStress,start')\n",
    "Mil_start = marker_idx.index('math,MildStress,start')\n",
    "Hig_start = marker_idx.index('math,HigherStress,start')\n",
    "\n",
    "for event in events:\n",
    "    if(event[2] == Low_start and prev_is_Low_start == False):\n",
    "        interested_events.append(list(event))\n",
    "        prev_is_Low_start = True\n",
    "    elif(event[2] != Low_start):\n",
    "        prev_is_Low_start = False\n",
    "\n",
    "    if(event[2] == Mil_start and prev_is_Mil_start == False):\n",
    "        interested_events.append(list(event))\n",
    "        prev_is_Mil_start = True\n",
    "    elif(event[2] != Mil_start):\n",
    "        prev_is_Mil_start = False\n",
    "\n",
    "    if(event[2] == Hig_start and prev_is_Hig_start == False):\n",
    "        interested_events.append(list(event))\n",
    "        prev_is_Hig_start = True\n",
    "    elif(event[2] != Hig_start):\n",
    "        prev_is_Hig_start = False\n",
    "\n",
    "\n",
    "    if(event[2] == marker_idx.index('fixation,None,None')):\n",
    "        interested_events.append(list(event))\n",
    "    # print(event)\n",
    "interested_events = np.array(interested_events)\n",
    "interested_events"
   ],
   "outputs": [
    {
     "output_type": "execute_result",
     "data": {
      "text/plain": [
       "array([[  1633,      0,      1],\n",
       "       [ 13546,      0,      2],\n",
       "       [ 16310,      0,      1],\n",
       "       [ 26514,      0,      2],\n",
       "       [ 29283,      0,      1],\n",
       "       [ 39439,      0,      2],\n",
       "       [ 42201,      0,      1],\n",
       "       [ 52657,      0,      2],\n",
       "       [ 78454,      0,      4],\n",
       "       [ 90207,      0,      2],\n",
       "       [ 92965,      0,      4],\n",
       "       [105636,      0,      2],\n",
       "       [108401,      0,      4],\n",
       "       [130458,      0,      2],\n",
       "       [133220,      0,      4],\n",
       "       [147902,      0,      2],\n",
       "       [166700,      0,      6],\n",
       "       [183699,      0,      2],\n",
       "       [186465,      0,      6],\n",
       "       [199885,      0,      2],\n",
       "       [202658,      0,      6],\n",
       "       [215364,      0,      2],\n",
       "       [218131,      0,      6],\n",
       "       [233559,      0,      2]])"
      ]
     },
     "metadata": {},
     "execution_count": 8
    }
   ],
   "metadata": {}
  },
  {
   "cell_type": "code",
   "execution_count": 9,
   "source": [
    "# Here we split the block into chuncks\n",
    "chunck_size = 5 # second\n",
    "\n",
    "m_start = interested_events[0::2]\n",
    "m_stop = interested_events[1::2]\n",
    "chunck_events = []\n",
    "for index, (start, stop) in enumerate(zip(m_start, m_stop)):\n",
    "    # [time_stamp, _, marker]\n",
    "    a = start[2] in interested_markers\n",
    "    b = stop[2] == marker_idx.index('fixation,None,None')\n",
    "    if((a and b) == False):\n",
    "        raise ValueError(f\"at {index}, found unexpected marker order. start='{marker_idx[start[2]]}' stop='{marker_idx[stop[2]]}'\")\n",
    "    for i in range(start[0], start[0]+(30*250)+1, chunck_size*250):\n",
    "        if(i + chunck_size*250 >= stop[0]):\n",
    "            raise ValueError(f\"start stop is incorrect.\")\n",
    "        chunck_events.append([i,0,start[2]])\n",
    "\n",
    "chunck_events = np.array(chunck_events)\n",
    "num_low = sum(chunck_events[::,2] == marker_idx.index('math,LowStress,start'))\n",
    "num_mil = sum(chunck_events[::,2] == marker_idx.index('math,MildStress,start'))\n",
    "num_hig = sum(chunck_events[::,2] == marker_idx.index('math,HigherStress,start'))\n",
    "if(num_low != num_mil or num_mil != num_hig):\n",
    "    raise ValueError(f\"The number of chuncked events is not equal. LowStress={num_low} MildStress={num_mil} HigherStress={num_hig}\")\n",
    "print(f\"Number of samples of each block: {num_low}\")\n",
    "num_chunck = num_low\n"
   ],
   "outputs": [
    {
     "output_type": "stream",
     "name": "stdout",
     "text": [
      "Number of samples of each block: 28\n"
     ]
    }
   ],
   "metadata": {}
  },
  {
   "cell_type": "code",
   "execution_count": 10,
   "source": [
    "t_start, t_stop = 0.3, 4.8\n",
    "epochs = mne.Epochs(raw, chunck_events, tmin=t_start, tmax=t_stop, baseline=(t_start,t_stop), verbose=False)"
   ],
   "outputs": [],
   "metadata": {}
  },
  {
   "cell_type": "code",
   "execution_count": 11,
   "source": [
    "# 0,4 Delta\n",
    "# 4,8 Theta\n",
    "# 8,16 Alpha ***\n",
    "# 16,32 Beta \n",
    "# 32,64 Noisy Gamma\n",
    "# 64,128 Noisy Signal\n",
    "# frequencies = np.arange(8, 32+1, 8)\n",
    "frequencies = np.array([10,11,12,13,14])\n",
    "features = []\n",
    "labels = []\n",
    "for index, evoked in enumerate(epochs.iter_evoked()):\n",
    "    event = evoked.comment\n",
    "    tfr_obj = mne.time_frequency.tfr_morlet(evoked, n_cycles=3, return_itc=False, freqs=frequencies, decim=3)\n",
    "    # (channel,freq,time-window)\n",
    "    coeff = tfr_obj.data \n",
    "    # (freq,time-window)\n",
    "    coeff = coeff.mean(axis=0)\n",
    "    # alpha mean\n",
    "    coeff = coeff.mean()\n",
    "    features.append(coeff)\n",
    "    labels.append(event)\n",
    "# features = np.array(features)\n",
    "# features.shape"
   ],
   "outputs": [],
   "metadata": {}
  },
  {
   "cell_type": "code",
   "execution_count": 12,
   "source": [
    "from sklearn.preprocessing import normalize\n",
    "f_norm = normalize(np.array(features).reshape(-1,1), axis=0, norm='max')\n",
    "# f_norm = np.array(features).reshape(-1,1)\n",
    "plt.scatter(range(num_chunck*0,num_chunck*1),f_norm[num_chunck*0:num_chunck*1])\n",
    "plt.scatter(range(num_chunck*1,num_chunck*2),f_norm[num_chunck*1:num_chunck*2])\n",
    "plt.scatter(range(num_chunck*2,num_chunck*3),f_norm[num_chunck*2:num_chunck*3])"
   ],
   "outputs": [
    {
     "output_type": "execute_result",
     "data": {
      "text/plain": [
       "<matplotlib.collections.PathCollection at 0x7fbdfedfbd30>"
      ]
     },
     "metadata": {},
     "execution_count": 12
    },
    {
     "output_type": "display_data",
     "data": {
      "image/png": "[encoded data removed]",
      "image/svg+xml": "<?xml version=\"1.0\" encoding=\"utf-8\" standalone=\"no\"?>\n<!DOCTYPE svg PUBLIC \"-//W3C//DTD SVG 1.1//EN\"\n  \"http://www.w3.org/Graphics/SVG/1.1/DTD/svg11.dtd\">\n<svg height=\"248.518125pt\" version=\"1.1\" viewBox=\"0 0 372.103125 248.518125\" width=\"372.103125pt\" xmlns=\"http://www.w3.org/2000/svg\" xmlns:xlink=\"http://www.w3.org/1999/xlink\">\n <metadata>\n  <rdf:RDF xmlns:cc=\"http://creativecommons.org/ns#\" xmlns:dc=\"http://purl.org/dc/elements/1.1/\" xmlns:rdf=\"http://www.w3.org/1999/02/22-rdf-syntax-ns#\">\n   <cc:Work>\n    <dc:type rdf:resource=\"http://purl.org/dc/dcmitype/StillImage\"/>\n    <dc:date>2021-09-07T22:32:05.467704</dc:date>\n    <dc:format>image/svg+xml</dc:format>\n    <dc:creator>\n     <cc:Agent>\n      <dc:title>Matplotlib v3.4.1, https://matplotlib.org/</dc:title>\n     </cc:Agent>\n    </dc:creator>\n   </cc:Work>\n  </rdf:RDF>\n </metadata>\n <defs>\n  <style type=\"text/css\">*{stroke-linecap:butt;stroke-linejoin:round;}</style>\n </defs>\n <g id=\"figure_1\">\n  <g id=\"patch_1\">\n   <path d=\"M 0 248.518125 \nL 372.103125 248.518125 \nL 372.103125 0 \nL 0 0 \nz\n\" style=\"fill:none;\"/>\n  </g>\n  <g id=\"axes_1\">\n   <g id=\"patch_2\">\n    <path d=\"M 30.103125 224.64 \nL 364.903125 224.64 \nL 364.903125 7.2 \nL 30.103125 7.2 \nz\n\" style=\"fill:#ffffff;\"/>\n   </g>\n   <g id=\"PathCollection_1\">\n    <defs>\n     <path d=\"M 0 3 \nC 0.795609 3 1.55874 2.683901 2.12132 2.12132 \nC 2.683901 1.55874 3 0.795609 3 0 \nC 3 -0.795609 2.683901 -1.55874 2.12132 -2.12132 \nC 1.55874 -2.683901 0.795609 -3 0 -3 \nC -0.795609 -3 -1.55874 -2.683901 -2.12132 -2.12132 \nC -2.683901 -1.55874 -3 -0.795609 -3 0 \nC -3 0.795609 -2.683901 1.55874 -2.12132 2.12132 \nC -1.55874 2.683901 -0.795609 3 0 3 \nz\n\" id=\"mffdd868163\" style=\"stroke:#1f77b4;\"/>\n    </defs>\n    <g clip-path=\"url(#p340b7ac620)\">\n     <use style=\"fill:#1f77b4;stroke:#1f77b4;\" x=\"45.321307\" xlink:href=\"#mffdd868163\" y=\"175.778124\"/>\n     <use style=\"fill:#1f77b4;stroke:#1f77b4;\" x=\"48.988339\" xlink:href=\"#mffdd868163\" y=\"106.016526\"/>\n     <use style=\"fill:#1f77b4;stroke:#1f77b4;\" x=\"52.65537\" xlink:href=\"#mffdd868163\" y=\"191.957653\"/>\n     <use style=\"fill:#1f77b4;stroke:#1f77b4;\" x=\"56.322402\" xlink:href=\"#mffdd868163\" y=\"201.387426\"/>\n     <use style=\"fill:#1f77b4;stroke:#1f77b4;\" x=\"59.989434\" xlink:href=\"#mffdd868163\" y=\"29.063776\"/>\n     <use style=\"fill:#1f77b4;stroke:#1f77b4;\" x=\"63.656466\" xlink:href=\"#mffdd868163\" y=\"61.336757\"/>\n     <use style=\"fill:#1f77b4;stroke:#1f77b4;\" x=\"67.323497\" xlink:href=\"#mffdd868163\" y=\"181.451334\"/>\n     <use style=\"fill:#1f77b4;stroke:#1f77b4;\" x=\"70.990529\" xlink:href=\"#mffdd868163\" y=\"200.816188\"/>\n     <use style=\"fill:#1f77b4;stroke:#1f77b4;\" x=\"74.657561\" xlink:href=\"#mffdd868163\" y=\"98.915904\"/>\n     <use style=\"fill:#1f77b4;stroke:#1f77b4;\" x=\"78.324593\" xlink:href=\"#mffdd868163\" y=\"142.273112\"/>\n     <use style=\"fill:#1f77b4;stroke:#1f77b4;\" x=\"81.991624\" xlink:href=\"#mffdd868163\" y=\"55.860832\"/>\n     <use style=\"fill:#1f77b4;stroke:#1f77b4;\" x=\"85.658656\" xlink:href=\"#mffdd868163\" y=\"81.255599\"/>\n     <use style=\"fill:#1f77b4;stroke:#1f77b4;\" x=\"89.325688\" xlink:href=\"#mffdd868163\" y=\"142.408922\"/>\n     <use style=\"fill:#1f77b4;stroke:#1f77b4;\" x=\"92.99272\" xlink:href=\"#mffdd868163\" y=\"119.83178\"/>\n     <use style=\"fill:#1f77b4;stroke:#1f77b4;\" x=\"96.659752\" xlink:href=\"#mffdd868163\" y=\"106.225679\"/>\n     <use style=\"fill:#1f77b4;stroke:#1f77b4;\" x=\"100.326783\" xlink:href=\"#mffdd868163\" y=\"89.722035\"/>\n     <use style=\"fill:#1f77b4;stroke:#1f77b4;\" x=\"103.993815\" xlink:href=\"#mffdd868163\" y=\"133.335625\"/>\n     <use style=\"fill:#1f77b4;stroke:#1f77b4;\" x=\"107.660847\" xlink:href=\"#mffdd868163\" y=\"128.59547\"/>\n     <use style=\"fill:#1f77b4;stroke:#1f77b4;\" x=\"111.327879\" xlink:href=\"#mffdd868163\" y=\"147.252951\"/>\n     <use style=\"fill:#1f77b4;stroke:#1f77b4;\" x=\"114.99491\" xlink:href=\"#mffdd868163\" y=\"17.083636\"/>\n     <use style=\"fill:#1f77b4;stroke:#1f77b4;\" x=\"118.661942\" xlink:href=\"#mffdd868163\" y=\"159.447286\"/>\n     <use style=\"fill:#1f77b4;stroke:#1f77b4;\" x=\"122.328974\" xlink:href=\"#mffdd868163\" y=\"90.991939\"/>\n     <use style=\"fill:#1f77b4;stroke:#1f77b4;\" x=\"125.996006\" xlink:href=\"#mffdd868163\" y=\"157.837154\"/>\n     <use style=\"fill:#1f77b4;stroke:#1f77b4;\" x=\"129.663037\" xlink:href=\"#mffdd868163\" y=\"102.13339\"/>\n     <use style=\"fill:#1f77b4;stroke:#1f77b4;\" x=\"133.330069\" xlink:href=\"#mffdd868163\" y=\"151.2247\"/>\n     <use style=\"fill:#1f77b4;stroke:#1f77b4;\" x=\"136.997101\" xlink:href=\"#mffdd868163\" y=\"151.026143\"/>\n     <use style=\"fill:#1f77b4;stroke:#1f77b4;\" x=\"140.664133\" xlink:href=\"#mffdd868163\" y=\"172.872547\"/>\n     <use style=\"fill:#1f77b4;stroke:#1f77b4;\" x=\"144.331164\" xlink:href=\"#mffdd868163\" y=\"147.603007\"/>\n    </g>\n   </g>\n   <g id=\"PathCollection_2\">\n    <defs>\n     <path d=\"M 0 3 \nC 0.795609 3 1.55874 2.683901 2.12132 2.12132 \nC 2.683901 1.55874 3 0.795609 3 0 \nC 3 -0.795609 2.683901 -1.55874 2.12132 -2.12132 \nC 1.55874 -2.683901 0.795609 -3 0 -3 \nC -0.795609 -3 -1.55874 -2.683901 -2.12132 -2.12132 \nC -2.683901 -1.55874 -3 -0.795609 -3 0 \nC -3 0.795609 -2.683901 1.55874 -2.12132 2.12132 \nC -1.55874 2.683901 -0.795609 3 0 3 \nz\n\" id=\"m2867d822d0\" style=\"stroke:#ff7f0e;\"/>\n    </defs>\n    <g clip-path=\"url(#p340b7ac620)\">\n     <use style=\"fill:#ff7f0e;stroke:#ff7f0e;\" x=\"147.998196\" xlink:href=\"#m2867d822d0\" y=\"165.330768\"/>\n     <use style=\"fill:#ff7f0e;stroke:#ff7f0e;\" x=\"151.665228\" xlink:href=\"#m2867d822d0\" y=\"166.733537\"/>\n     <use style=\"fill:#ff7f0e;stroke:#ff7f0e;\" x=\"155.33226\" xlink:href=\"#m2867d822d0\" y=\"149.617466\"/>\n     <use style=\"fill:#ff7f0e;stroke:#ff7f0e;\" x=\"158.999291\" xlink:href=\"#m2867d822d0\" y=\"204.943495\"/>\n     <use style=\"fill:#ff7f0e;stroke:#ff7f0e;\" x=\"162.666323\" xlink:href=\"#m2867d822d0\" y=\"183.819113\"/>\n     <use style=\"fill:#ff7f0e;stroke:#ff7f0e;\" x=\"166.333355\" xlink:href=\"#m2867d822d0\" y=\"166.169641\"/>\n     <use style=\"fill:#ff7f0e;stroke:#ff7f0e;\" x=\"170.000387\" xlink:href=\"#m2867d822d0\" y=\"144.09506\"/>\n     <use style=\"fill:#ff7f0e;stroke:#ff7f0e;\" x=\"173.667419\" xlink:href=\"#m2867d822d0\" y=\"189.19706\"/>\n     <use style=\"fill:#ff7f0e;stroke:#ff7f0e;\" x=\"177.33445\" xlink:href=\"#m2867d822d0\" y=\"173.167339\"/>\n     <use style=\"fill:#ff7f0e;stroke:#ff7f0e;\" x=\"181.001482\" xlink:href=\"#m2867d822d0\" y=\"181.501318\"/>\n     <use style=\"fill:#ff7f0e;stroke:#ff7f0e;\" x=\"184.668514\" xlink:href=\"#m2867d822d0\" y=\"188.474097\"/>\n     <use style=\"fill:#ff7f0e;stroke:#ff7f0e;\" x=\"188.335546\" xlink:href=\"#m2867d822d0\" y=\"167.808928\"/>\n     <use style=\"fill:#ff7f0e;stroke:#ff7f0e;\" x=\"192.002577\" xlink:href=\"#m2867d822d0\" y=\"202.057714\"/>\n     <use style=\"fill:#ff7f0e;stroke:#ff7f0e;\" x=\"195.669609\" xlink:href=\"#m2867d822d0\" y=\"191.277592\"/>\n     <use style=\"fill:#ff7f0e;stroke:#ff7f0e;\" x=\"199.336641\" xlink:href=\"#m2867d822d0\" y=\"203.66911\"/>\n     <use style=\"fill:#ff7f0e;stroke:#ff7f0e;\" x=\"203.003673\" xlink:href=\"#m2867d822d0\" y=\"178.664259\"/>\n     <use style=\"fill:#ff7f0e;stroke:#ff7f0e;\" x=\"206.670704\" xlink:href=\"#m2867d822d0\" y=\"206.699382\"/>\n     <use style=\"fill:#ff7f0e;stroke:#ff7f0e;\" x=\"210.337736\" xlink:href=\"#m2867d822d0\" y=\"181.803504\"/>\n     <use style=\"fill:#ff7f0e;stroke:#ff7f0e;\" x=\"214.004768\" xlink:href=\"#m2867d822d0\" y=\"173.772896\"/>\n     <use style=\"fill:#ff7f0e;stroke:#ff7f0e;\" x=\"217.6718\" xlink:href=\"#m2867d822d0\" y=\"75.28565\"/>\n     <use style=\"fill:#ff7f0e;stroke:#ff7f0e;\" x=\"221.338831\" xlink:href=\"#m2867d822d0\" y=\"174.545703\"/>\n     <use style=\"fill:#ff7f0e;stroke:#ff7f0e;\" x=\"225.005863\" xlink:href=\"#m2867d822d0\" y=\"146.158427\"/>\n     <use style=\"fill:#ff7f0e;stroke:#ff7f0e;\" x=\"228.672895\" xlink:href=\"#m2867d822d0\" y=\"172.963689\"/>\n     <use style=\"fill:#ff7f0e;stroke:#ff7f0e;\" x=\"232.339927\" xlink:href=\"#m2867d822d0\" y=\"153.192205\"/>\n     <use style=\"fill:#ff7f0e;stroke:#ff7f0e;\" x=\"236.006959\" xlink:href=\"#m2867d822d0\" y=\"185.875924\"/>\n     <use style=\"fill:#ff7f0e;stroke:#ff7f0e;\" x=\"239.67399\" xlink:href=\"#m2867d822d0\" y=\"127.815253\"/>\n     <use style=\"fill:#ff7f0e;stroke:#ff7f0e;\" x=\"243.341022\" xlink:href=\"#m2867d822d0\" y=\"182.536133\"/>\n     <use style=\"fill:#ff7f0e;stroke:#ff7f0e;\" x=\"247.008054\" xlink:href=\"#m2867d822d0\" y=\"158.222173\"/>\n    </g>\n   </g>\n   <g id=\"PathCollection_3\">\n    <defs>\n     <path d=\"M 0 3 \nC 0.795609 3 1.55874 2.683901 2.12132 2.12132 \nC 2.683901 1.55874 3 0.795609 3 0 \nC 3 -0.795609 2.683901 -1.55874 2.12132 -2.12132 \nC 1.55874 -2.683901 0.795609 -3 0 -3 \nC -0.795609 -3 -1.55874 -2.683901 -2.12132 -2.12132 \nC -2.683901 -1.55874 -3 -0.795609 -3 0 \nC -3 0.795609 -2.683901 1.55874 -2.12132 2.12132 \nC -1.55874 2.683901 -0.795609 3 0 3 \nz\n\" id=\"m05cae8f4ce\" style=\"stroke:#2ca02c;\"/>\n    </defs>\n    <g clip-path=\"url(#p340b7ac620)\">\n     <use style=\"fill:#2ca02c;stroke:#2ca02c;\" x=\"250.675086\" xlink:href=\"#m05cae8f4ce\" y=\"150.255303\"/>\n     <use style=\"fill:#2ca02c;stroke:#2ca02c;\" x=\"254.342117\" xlink:href=\"#m05cae8f4ce\" y=\"178.935416\"/>\n     <use style=\"fill:#2ca02c;stroke:#2ca02c;\" x=\"258.009149\" xlink:href=\"#m05cae8f4ce\" y=\"157.635169\"/>\n     <use style=\"fill:#2ca02c;stroke:#2ca02c;\" x=\"261.676181\" xlink:href=\"#m05cae8f4ce\" y=\"190.448812\"/>\n     <use style=\"fill:#2ca02c;stroke:#2ca02c;\" x=\"265.343213\" xlink:href=\"#m05cae8f4ce\" y=\"155.646605\"/>\n     <use style=\"fill:#2ca02c;stroke:#2ca02c;\" x=\"269.010244\" xlink:href=\"#m05cae8f4ce\" y=\"130.252079\"/>\n     <use style=\"fill:#2ca02c;stroke:#2ca02c;\" x=\"272.677276\" xlink:href=\"#m05cae8f4ce\" y=\"134.067935\"/>\n     <use style=\"fill:#2ca02c;stroke:#2ca02c;\" x=\"276.344308\" xlink:href=\"#m05cae8f4ce\" y=\"174.634213\"/>\n     <use style=\"fill:#2ca02c;stroke:#2ca02c;\" x=\"280.01134\" xlink:href=\"#m05cae8f4ce\" y=\"168.872348\"/>\n     <use style=\"fill:#2ca02c;stroke:#2ca02c;\" x=\"283.678371\" xlink:href=\"#m05cae8f4ce\" y=\"174.753945\"/>\n     <use style=\"fill:#2ca02c;stroke:#2ca02c;\" x=\"287.345403\" xlink:href=\"#m05cae8f4ce\" y=\"166.917699\"/>\n     <use style=\"fill:#2ca02c;stroke:#2ca02c;\" x=\"291.012435\" xlink:href=\"#m05cae8f4ce\" y=\"140.187721\"/>\n     <use style=\"fill:#2ca02c;stroke:#2ca02c;\" x=\"294.679467\" xlink:href=\"#m05cae8f4ce\" y=\"162.598114\"/>\n     <use style=\"fill:#2ca02c;stroke:#2ca02c;\" x=\"298.346498\" xlink:href=\"#m05cae8f4ce\" y=\"181.039517\"/>\n     <use style=\"fill:#2ca02c;stroke:#2ca02c;\" x=\"302.01353\" xlink:href=\"#m05cae8f4ce\" y=\"192.457313\"/>\n     <use style=\"fill:#2ca02c;stroke:#2ca02c;\" x=\"305.680562\" xlink:href=\"#m05cae8f4ce\" y=\"204.003422\"/>\n     <use style=\"fill:#2ca02c;stroke:#2ca02c;\" x=\"309.347594\" xlink:href=\"#m05cae8f4ce\" y=\"214.756364\"/>\n     <use style=\"fill:#2ca02c;stroke:#2ca02c;\" x=\"313.014626\" xlink:href=\"#m05cae8f4ce\" y=\"177.021601\"/>\n     <use style=\"fill:#2ca02c;stroke:#2ca02c;\" x=\"316.681657\" xlink:href=\"#m05cae8f4ce\" y=\"192.38134\"/>\n     <use style=\"fill:#2ca02c;stroke:#2ca02c;\" x=\"320.348689\" xlink:href=\"#m05cae8f4ce\" y=\"174.824732\"/>\n     <use style=\"fill:#2ca02c;stroke:#2ca02c;\" x=\"324.015721\" xlink:href=\"#m05cae8f4ce\" y=\"160.299004\"/>\n     <use style=\"fill:#2ca02c;stroke:#2ca02c;\" x=\"327.682753\" xlink:href=\"#m05cae8f4ce\" y=\"180.55738\"/>\n     <use style=\"fill:#2ca02c;stroke:#2ca02c;\" x=\"331.349784\" xlink:href=\"#m05cae8f4ce\" y=\"200.494163\"/>\n     <use style=\"fill:#2ca02c;stroke:#2ca02c;\" x=\"335.016816\" xlink:href=\"#m05cae8f4ce\" y=\"181.563652\"/>\n     <use style=\"fill:#2ca02c;stroke:#2ca02c;\" x=\"338.683848\" xlink:href=\"#m05cae8f4ce\" y=\"152.721658\"/>\n     <use style=\"fill:#2ca02c;stroke:#2ca02c;\" x=\"342.35088\" xlink:href=\"#m05cae8f4ce\" y=\"212.356555\"/>\n     <use style=\"fill:#2ca02c;stroke:#2ca02c;\" x=\"346.017911\" xlink:href=\"#m05cae8f4ce\" y=\"174.900593\"/>\n     <use style=\"fill:#2ca02c;stroke:#2ca02c;\" x=\"349.684943\" xlink:href=\"#m05cae8f4ce\" y=\"206.670043\"/>\n    </g>\n   </g>\n   <g id=\"matplotlib.axis_1\">\n    <g id=\"xtick_1\">\n     <g id=\"line2d_1\">\n      <defs>\n       <path d=\"M 0 0 \nL 0 3.5 \n\" id=\"m4deeb0c5f4\" style=\"stroke:#000000;stroke-width:0.8;\"/>\n      </defs>\n      <g>\n       <use style=\"stroke:#000000;stroke-width:0.8;\" x=\"45.321307\" xlink:href=\"#m4deeb0c5f4\" y=\"224.64\"/>\n      </g>\n     </g>\n     <g id=\"text_1\">\n      <!-- 0 -->\n      <g transform=\"translate(42.140057 239.238438)scale(0.1 -0.1)\">\n       <defs>\n        <path d=\"M 2034 4250 \nQ 1547 4250 1301 3770 \nQ 1056 3291 1056 2328 \nQ 1056 1369 1301 889 \nQ 1547 409 2034 409 \nQ 2525 409 2770 889 \nQ 3016 1369 3016 2328 \nQ 3016 3291 2770 3770 \nQ 2525 4250 2034 4250 \nz\nM 2034 4750 \nQ 2819 4750 3233 4129 \nQ 3647 3509 3647 2328 \nQ 3647 1150 3233 529 \nQ 2819 -91 2034 -91 \nQ 1250 -91 836 529 \nQ 422 1150 422 2328 \nQ 422 3509 836 4129 \nQ 1250 4750 2034 4750 \nz\n\" id=\"DejaVuSans-30\" transform=\"scale(0.015625)\"/>\n       </defs>\n       <use xlink:href=\"#DejaVuSans-30\"/>\n      </g>\n     </g>\n    </g>\n    <g id=\"xtick_2\">\n     <g id=\"line2d_2\">\n      <g>\n       <use style=\"stroke:#000000;stroke-width:0.8;\" x=\"118.661942\" xlink:href=\"#m4deeb0c5f4\" y=\"224.64\"/>\n      </g>\n     </g>\n     <g id=\"text_2\">\n      <!-- 20 -->\n      <g transform=\"translate(112.299442 239.238438)scale(0.1 -0.1)\">\n       <defs>\n        <path d=\"M 1228 531 \nL 3431 531 \nL 3431 0 \nL 469 0 \nL 469 531 \nQ 828 903 1448 1529 \nQ 2069 2156 2228 2338 \nQ 2531 2678 2651 2914 \nQ 2772 3150 2772 3378 \nQ 2772 3750 2511 3984 \nQ 2250 4219 1831 4219 \nQ 1534 4219 1204 4116 \nQ 875 4013 500 3803 \nL 500 4441 \nQ 881 4594 1212 4672 \nQ 1544 4750 1819 4750 \nQ 2544 4750 2975 4387 \nQ 3406 4025 3406 3419 \nQ 3406 3131 3298 2873 \nQ 3191 2616 2906 2266 \nQ 2828 2175 2409 1742 \nQ 1991 1309 1228 531 \nz\n\" id=\"DejaVuSans-32\" transform=\"scale(0.015625)\"/>\n       </defs>\n       <use xlink:href=\"#DejaVuSans-32\"/>\n       <use x=\"63.623047\" xlink:href=\"#DejaVuSans-30\"/>\n      </g>\n     </g>\n    </g>\n    <g id=\"xtick_3\">\n     <g id=\"line2d_3\">\n      <g>\n       <use style=\"stroke:#000000;stroke-width:0.8;\" x=\"192.002577\" xlink:href=\"#m4deeb0c5f4\" y=\"224.64\"/>\n      </g>\n     </g>\n     <g id=\"text_3\">\n      <!-- 40 -->\n      <g transform=\"translate(185.640077 239.238438)scale(0.1 -0.1)\">\n       <defs>\n        <path d=\"M 2419 4116 \nL 825 1625 \nL 2419 1625 \nL 2419 4116 \nz\nM 2253 4666 \nL 3047 4666 \nL 3047 1625 \nL 3713 1625 \nL 3713 1100 \nL 3047 1100 \nL 3047 0 \nL 2419 0 \nL 2419 1100 \nL 313 1100 \nL 313 1709 \nL 2253 4666 \nz\n\" id=\"DejaVuSans-34\" transform=\"scale(0.015625)\"/>\n       </defs>\n       <use xlink:href=\"#DejaVuSans-34\"/>\n       <use x=\"63.623047\" xlink:href=\"#DejaVuSans-30\"/>\n      </g>\n     </g>\n    </g>\n    <g id=\"xtick_4\">\n     <g id=\"line2d_4\">\n      <g>\n       <use style=\"stroke:#000000;stroke-width:0.8;\" x=\"265.343213\" xlink:href=\"#m4deeb0c5f4\" y=\"224.64\"/>\n      </g>\n     </g>\n     <g id=\"text_4\">\n      <!-- 60 -->\n      <g transform=\"translate(258.980713 239.238438)scale(0.1 -0.1)\">\n       <defs>\n        <path d=\"M 2113 2584 \nQ 1688 2584 1439 2293 \nQ 1191 2003 1191 1497 \nQ 1191 994 1439 701 \nQ 1688 409 2113 409 \nQ 2538 409 2786 701 \nQ 3034 994 3034 1497 \nQ 3034 2003 2786 2293 \nQ 2538 2584 2113 2584 \nz\nM 3366 4563 \nL 3366 3988 \nQ 3128 4100 2886 4159 \nQ 2644 4219 2406 4219 \nQ 1781 4219 1451 3797 \nQ 1122 3375 1075 2522 \nQ 1259 2794 1537 2939 \nQ 1816 3084 2150 3084 \nQ 2853 3084 3261 2657 \nQ 3669 2231 3669 1497 \nQ 3669 778 3244 343 \nQ 2819 -91 2113 -91 \nQ 1303 -91 875 529 \nQ 447 1150 447 2328 \nQ 447 3434 972 4092 \nQ 1497 4750 2381 4750 \nQ 2619 4750 2861 4703 \nQ 3103 4656 3366 4563 \nz\n\" id=\"DejaVuSans-36\" transform=\"scale(0.015625)\"/>\n       </defs>\n       <use xlink:href=\"#DejaVuSans-36\"/>\n       <use x=\"63.623047\" xlink:href=\"#DejaVuSans-30\"/>\n      </g>\n     </g>\n    </g>\n    <g id=\"xtick_5\">\n     <g id=\"line2d_5\">\n      <g>\n       <use style=\"stroke:#000000;stroke-width:0.8;\" x=\"338.683848\" xlink:href=\"#m4deeb0c5f4\" y=\"224.64\"/>\n      </g>\n     </g>\n     <g id=\"text_5\">\n      <!-- 80 -->\n      <g transform=\"translate(332.321348 239.238438)scale(0.1 -0.1)\">\n       <defs>\n        <path d=\"M 2034 2216 \nQ 1584 2216 1326 1975 \nQ 1069 1734 1069 1313 \nQ 1069 891 1326 650 \nQ 1584 409 2034 409 \nQ 2484 409 2743 651 \nQ 3003 894 3003 1313 \nQ 3003 1734 2745 1975 \nQ 2488 2216 2034 2216 \nz\nM 1403 2484 \nQ 997 2584 770 2862 \nQ 544 3141 544 3541 \nQ 544 4100 942 4425 \nQ 1341 4750 2034 4750 \nQ 2731 4750 3128 4425 \nQ 3525 4100 3525 3541 \nQ 3525 3141 3298 2862 \nQ 3072 2584 2669 2484 \nQ 3125 2378 3379 2068 \nQ 3634 1759 3634 1313 \nQ 3634 634 3220 271 \nQ 2806 -91 2034 -91 \nQ 1263 -91 848 271 \nQ 434 634 434 1313 \nQ 434 1759 690 2068 \nQ 947 2378 1403 2484 \nz\nM 1172 3481 \nQ 1172 3119 1398 2916 \nQ 1625 2713 2034 2713 \nQ 2441 2713 2670 2916 \nQ 2900 3119 2900 3481 \nQ 2900 3844 2670 4047 \nQ 2441 4250 2034 4250 \nQ 1625 4250 1398 4047 \nQ 1172 3844 1172 3481 \nz\n\" id=\"DejaVuSans-38\" transform=\"scale(0.015625)\"/>\n       </defs>\n       <use xlink:href=\"#DejaVuSans-38\"/>\n       <use x=\"63.623047\" xlink:href=\"#DejaVuSans-30\"/>\n      </g>\n     </g>\n    </g>\n   </g>\n   <g id=\"matplotlib.axis_2\">\n    <g id=\"ytick_1\">\n     <g id=\"line2d_6\">\n      <defs>\n       <path d=\"M 0 0 \nL -3.5 0 \n\" id=\"m2f36daef9f\" style=\"stroke:#000000;stroke-width:0.8;\"/>\n      </defs>\n      <g>\n       <use style=\"stroke:#000000;stroke-width:0.8;\" x=\"30.103125\" xlink:href=\"#m2f36daef9f\" y=\"203.617885\"/>\n      </g>\n     </g>\n     <g id=\"text_6\">\n      <!-- 0.3 -->\n      <g transform=\"translate(7.2 207.417104)scale(0.1 -0.1)\">\n       <defs>\n        <path d=\"M 684 794 \nL 1344 794 \nL 1344 0 \nL 684 0 \nL 684 794 \nz\n\" id=\"DejaVuSans-2e\" transform=\"scale(0.015625)\"/>\n        <path d=\"M 2597 2516 \nQ 3050 2419 3304 2112 \nQ 3559 1806 3559 1356 \nQ 3559 666 3084 287 \nQ 2609 -91 1734 -91 \nQ 1441 -91 1130 -33 \nQ 819 25 488 141 \nL 488 750 \nQ 750 597 1062 519 \nQ 1375 441 1716 441 \nQ 2309 441 2620 675 \nQ 2931 909 2931 1356 \nQ 2931 1769 2642 2001 \nQ 2353 2234 1838 2234 \nL 1294 2234 \nL 1294 2753 \nL 1863 2753 \nQ 2328 2753 2575 2939 \nQ 2822 3125 2822 3475 \nQ 2822 3834 2567 4026 \nQ 2313 4219 1838 4219 \nQ 1578 4219 1281 4162 \nQ 984 4106 628 3988 \nL 628 4550 \nQ 988 4650 1302 4700 \nQ 1616 4750 1894 4750 \nQ 2613 4750 3031 4423 \nQ 3450 4097 3450 3541 \nQ 3450 3153 3228 2886 \nQ 3006 2619 2597 2516 \nz\n\" id=\"DejaVuSans-33\" transform=\"scale(0.015625)\"/>\n       </defs>\n       <use xlink:href=\"#DejaVuSans-30\"/>\n       <use x=\"63.623047\" xlink:href=\"#DejaVuSans-2e\"/>\n       <use x=\"95.410156\" xlink:href=\"#DejaVuSans-33\"/>\n      </g>\n     </g>\n    </g>\n    <g id=\"ytick_2\">\n     <g id=\"line2d_7\">\n      <g>\n       <use style=\"stroke:#000000;stroke-width:0.8;\" x=\"30.103125\" xlink:href=\"#m2f36daef9f\" y=\"176.970136\"/>\n      </g>\n     </g>\n     <g id=\"text_7\">\n      <!-- 0.4 -->\n      <g transform=\"translate(7.2 180.769354)scale(0.1 -0.1)\">\n       <use xlink:href=\"#DejaVuSans-30\"/>\n       <use x=\"63.623047\" xlink:href=\"#DejaVuSans-2e\"/>\n       <use x=\"95.410156\" xlink:href=\"#DejaVuSans-34\"/>\n      </g>\n     </g>\n    </g>\n    <g id=\"ytick_3\">\n     <g id=\"line2d_8\">\n      <g>\n       <use style=\"stroke:#000000;stroke-width:0.8;\" x=\"30.103125\" xlink:href=\"#m2f36daef9f\" y=\"150.322386\"/>\n      </g>\n     </g>\n     <g id=\"text_8\">\n      <!-- 0.5 -->\n      <g transform=\"translate(7.2 154.121604)scale(0.1 -0.1)\">\n       <defs>\n        <path d=\"M 691 4666 \nL 3169 4666 \nL 3169 4134 \nL 1269 4134 \nL 1269 2991 \nQ 1406 3038 1543 3061 \nQ 1681 3084 1819 3084 \nQ 2600 3084 3056 2656 \nQ 3513 2228 3513 1497 \nQ 3513 744 3044 326 \nQ 2575 -91 1722 -91 \nQ 1428 -91 1123 -41 \nQ 819 9 494 109 \nL 494 744 \nQ 775 591 1075 516 \nQ 1375 441 1709 441 \nQ 2250 441 2565 725 \nQ 2881 1009 2881 1497 \nQ 2881 1984 2565 2268 \nQ 2250 2553 1709 2553 \nQ 1456 2553 1204 2497 \nQ 953 2441 691 2322 \nL 691 4666 \nz\n\" id=\"DejaVuSans-35\" transform=\"scale(0.015625)\"/>\n       </defs>\n       <use xlink:href=\"#DejaVuSans-30\"/>\n       <use x=\"63.623047\" xlink:href=\"#DejaVuSans-2e\"/>\n       <use x=\"95.410156\" xlink:href=\"#DejaVuSans-35\"/>\n      </g>\n     </g>\n    </g>\n    <g id=\"ytick_4\">\n     <g id=\"line2d_9\">\n      <g>\n       <use style=\"stroke:#000000;stroke-width:0.8;\" x=\"30.103125\" xlink:href=\"#m2f36daef9f\" y=\"123.674636\"/>\n      </g>\n     </g>\n     <g id=\"text_9\">\n      <!-- 0.6 -->\n      <g transform=\"translate(7.2 127.473855)scale(0.1 -0.1)\">\n       <use xlink:href=\"#DejaVuSans-30\"/>\n       <use x=\"63.623047\" xlink:href=\"#DejaVuSans-2e\"/>\n       <use x=\"95.410156\" xlink:href=\"#DejaVuSans-36\"/>\n      </g>\n     </g>\n    </g>\n    <g id=\"ytick_5\">\n     <g id=\"line2d_10\">\n      <g>\n       <use style=\"stroke:#000000;stroke-width:0.8;\" x=\"30.103125\" xlink:href=\"#m2f36daef9f\" y=\"97.026886\"/>\n      </g>\n     </g>\n     <g id=\"text_10\">\n      <!-- 0.7 -->\n      <g transform=\"translate(7.2 100.826105)scale(0.1 -0.1)\">\n       <defs>\n        <path d=\"M 525 4666 \nL 3525 4666 \nL 3525 4397 \nL 1831 0 \nL 1172 0 \nL 2766 4134 \nL 525 4134 \nL 525 4666 \nz\n\" id=\"DejaVuSans-37\" transform=\"scale(0.015625)\"/>\n       </defs>\n       <use xlink:href=\"#DejaVuSans-30\"/>\n       <use x=\"63.623047\" xlink:href=\"#DejaVuSans-2e\"/>\n       <use x=\"95.410156\" xlink:href=\"#DejaVuSans-37\"/>\n      </g>\n     </g>\n    </g>\n    <g id=\"ytick_6\">\n     <g id=\"line2d_11\">\n      <g>\n       <use style=\"stroke:#000000;stroke-width:0.8;\" x=\"30.103125\" xlink:href=\"#m2f36daef9f\" y=\"70.379136\"/>\n      </g>\n     </g>\n     <g id=\"text_11\">\n      <!-- 0.8 -->\n      <g transform=\"translate(7.2 74.178355)scale(0.1 -0.1)\">\n       <use xlink:href=\"#DejaVuSans-30\"/>\n       <use x=\"63.623047\" xlink:href=\"#DejaVuSans-2e\"/>\n       <use x=\"95.410156\" xlink:href=\"#DejaVuSans-38\"/>\n      </g>\n     </g>\n    </g>\n    <g id=\"ytick_7\">\n     <g id=\"line2d_12\">\n      <g>\n       <use style=\"stroke:#000000;stroke-width:0.8;\" x=\"30.103125\" xlink:href=\"#m2f36daef9f\" y=\"43.731386\"/>\n      </g>\n     </g>\n     <g id=\"text_12\">\n      <!-- 0.9 -->\n      <g transform=\"translate(7.2 47.530605)scale(0.1 -0.1)\">\n       <defs>\n        <path d=\"M 703 97 \nL 703 672 \nQ 941 559 1184 500 \nQ 1428 441 1663 441 \nQ 2288 441 2617 861 \nQ 2947 1281 2994 2138 \nQ 2813 1869 2534 1725 \nQ 2256 1581 1919 1581 \nQ 1219 1581 811 2004 \nQ 403 2428 403 3163 \nQ 403 3881 828 4315 \nQ 1253 4750 1959 4750 \nQ 2769 4750 3195 4129 \nQ 3622 3509 3622 2328 \nQ 3622 1225 3098 567 \nQ 2575 -91 1691 -91 \nQ 1453 -91 1209 -44 \nQ 966 3 703 97 \nz\nM 1959 2075 \nQ 2384 2075 2632 2365 \nQ 2881 2656 2881 3163 \nQ 2881 3666 2632 3958 \nQ 2384 4250 1959 4250 \nQ 1534 4250 1286 3958 \nQ 1038 3666 1038 3163 \nQ 1038 2656 1286 2365 \nQ 1534 2075 1959 2075 \nz\n\" id=\"DejaVuSans-39\" transform=\"scale(0.015625)\"/>\n       </defs>\n       <use xlink:href=\"#DejaVuSans-30\"/>\n       <use x=\"63.623047\" xlink:href=\"#DejaVuSans-2e\"/>\n       <use x=\"95.410156\" xlink:href=\"#DejaVuSans-39\"/>\n      </g>\n     </g>\n    </g>\n    <g id=\"ytick_8\">\n     <g id=\"line2d_13\">\n      <g>\n       <use style=\"stroke:#000000;stroke-width:0.8;\" x=\"30.103125\" xlink:href=\"#m2f36daef9f\" y=\"17.083636\"/>\n      </g>\n     </g>\n     <g id=\"text_13\">\n      <!-- 1.0 -->\n      <g transform=\"translate(7.2 20.882855)scale(0.1 -0.1)\">\n       <defs>\n        <path d=\"M 794 531 \nL 1825 531 \nL 1825 4091 \nL 703 3866 \nL 703 4441 \nL 1819 4666 \nL 2450 4666 \nL 2450 531 \nL 3481 531 \nL 3481 0 \nL 794 0 \nL 794 531 \nz\n\" id=\"DejaVuSans-31\" transform=\"scale(0.015625)\"/>\n       </defs>\n       <use xlink:href=\"#DejaVuSans-31\"/>\n       <use x=\"63.623047\" xlink:href=\"#DejaVuSans-2e\"/>\n       <use x=\"95.410156\" xlink:href=\"#DejaVuSans-30\"/>\n      </g>\n     </g>\n    </g>\n   </g>\n   <g id=\"patch_3\">\n    <path d=\"M 30.103125 224.64 \nL 30.103125 7.2 \n\" style=\"fill:none;stroke:#000000;stroke-linecap:square;stroke-linejoin:miter;stroke-width:0.8;\"/>\n   </g>\n   <g id=\"patch_4\">\n    <path d=\"M 364.903125 224.64 \nL 364.903125 7.2 \n\" style=\"fill:none;stroke:#000000;stroke-linecap:square;stroke-linejoin:miter;stroke-width:0.8;\"/>\n   </g>\n   <g id=\"patch_5\">\n    <path d=\"M 30.103125 224.64 \nL 364.903125 224.64 \n\" style=\"fill:none;stroke:#000000;stroke-linecap:square;stroke-linejoin:miter;stroke-width:0.8;\"/>\n   </g>\n   <g id=\"patch_6\">\n    <path d=\"M 30.103125 7.2 \nL 364.903125 7.2 \n\" style=\"fill:none;stroke:#000000;stroke-linecap:square;stroke-linejoin:miter;stroke-width:0.8;\"/>\n   </g>\n  </g>\n </g>\n <defs>\n  <clipPath id=\"p340b7ac620\">\n   <rect height=\"217.44\" width=\"334.8\" x=\"30.103125\" y=\"7.2\"/>\n  </clipPath>\n </defs>\n</svg>\n",
      "text/plain": [
       "<Figure size 432x288 with 1 Axes>"
      ]
     },
     "metadata": {
      "needs_background": "light"
     }
    }
   ],
   "metadata": {}
  },
  {
   "cell_type": "code",
   "execution_count": null,
   "source": [],
   "outputs": [],
   "metadata": {}
  },
  {
   "cell_type": "code",
   "execution_count": null,
   "source": [],
   "outputs": [],
   "metadata": {}
  }
 ],
 "metadata": {
  "orig_nbformat": 4,
  "language_info": {
   "name": "python",
   "version": "3.8.10",
   "mimetype": "text/x-python",
   "codemirror_mode": {
    "name": "ipython",
    "version": 3
   },
   "pygments_lexer": "ipython3",
   "nbconvert_exporter": "python",
   "file_extension": ".py"
  },
  "kernelspec": {
   "name": "python3",
   "display_name": "Python 3.8.10 64-bit ('hci': venv)"
  },
  "interpreter": {
   "hash": "815efcf0c7342b169540b615ea1bef3fe0d02f9423b58bdf03d9ef3fd8d24248"
  }
 },
 "nbformat": 4,
 "nbformat_minor": 2
}