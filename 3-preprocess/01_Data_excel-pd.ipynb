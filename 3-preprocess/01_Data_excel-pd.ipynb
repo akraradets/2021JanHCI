{
 "cells": [
  {
   "cell_type": "markdown",
   "id": "destroyed-warehouse",
   "metadata": {},
   "source": [
    "## 01 Data_Excel-pd"
   ]
  },
  {
   "cell_type": "code",
   "execution_count": 2,
   "id": "grateful-hypothetical",
   "metadata": {},
   "outputs": [],
   "source": [
    "import numpy as np\n",
    "import pandas as pd\n",
    "import matplotlib.pyplot as plt\n",
    "import random\n",
    "from IPython.display import clear_output"
   ]
  },
  {
   "cell_type": "markdown",
   "id": "decreased-mediterranean",
   "metadata": {},
   "source": [
    "### 1. Loading Data"
   ]
  },
  {
   "cell_type": "markdown",
   "id": "solar-underground",
   "metadata": {},
   "source": [
    "#### Load CSV"
   ]
  },
  {
   "cell_type": "code",
   "execution_count": 6,
   "id": "coordinated-petersburg",
   "metadata": {},
   "outputs": [],
   "source": [
    "par = \"par6\"\n",
    "file = \"2-benjamin_image_2021-04-05-01.47.36\"\n",
    "path = \"./data/{file}\".format(file = file)"
   ]
  },
  {
   "cell_type": "markdown",
   "id": "assigned-luxembourg",
   "metadata": {},
   "source": [
    "Load CSV and remove timestamps"
   ]
  },
  {
   "cell_type": "markdown",
   "id": "global-listening",
   "metadata": {},
   "source": [
    "#### 1.1 Visual"
   ]
  },
  {
   "cell_type": "code",
   "execution_count": 7,
   "id": "economic-charleston",
   "metadata": {},
   "outputs": [],
   "source": [
    "df_visual = pd.read_csv(path)\n",
    "df_visual = df_visual.drop([\"timestamps\"], axis=1)"
   ]
  },
  {
   "cell_type": "markdown",
   "id": "beautiful-aging",
   "metadata": {},
   "source": [
    "#### 1.2 Imagery"
   ]
  },
  {
   "cell_type": "code",
   "execution_count": 8,
   "id": "hydraulic-custom",
   "metadata": {},
   "outputs": [],
   "source": [
    "df_imagery = pd.read_csv(path)\n",
    "df_imagery = df_imagery.drop([\"timestamps\"], axis=1)\n",
    "# df_visual_1.head()"
   ]
  },
  {
   "cell_type": "markdown",
   "id": "toxic-restoration",
   "metadata": {},
   "source": [
    "### 2. Checking Markers"
   ]
  },
  {
   "cell_type": "markdown",
   "id": "american-helicopter",
   "metadata": {},
   "source": [
    "Let's look at how the marker was generated.  Here is the format:\n",
    "\n",
    "- [block, trial, index, task, type] <br>\n",
    "index = 1,2,3 <br>\n",
    "task = perception(visual), imagery <br>\n",
    "type = Fixation, img_stim (last index) <br>"
   ]
  },
  {
   "cell_type": "code",
   "execution_count": 9,
   "id": "democratic-adaptation",
   "metadata": {},
   "outputs": [
    {
     "output_type": "stream",
     "name": "stdout",
     "text": [
      "['0' '3_2_1' '3_2_2' '3_2_3' '3_2_4' '3_2_5' '-1' '4_1_1' '4_1_2' '4_1_3'\n '4_1_4' '4_1_5' '3_1_1' '3_1_2' '3_1_3' '3_1_4' '3_1_5' '4_2_1' '4_2_2'\n '4_2_3' '4_2_4' '4_2_5' '2_2_1' '2_2_2' '2_2_3' '2_2_4' '2_2_5' '5_1_1'\n '5_1_2' '5_1_3' '5_1_4' '5_1_5' '2_1_1' '2_1_2' '2_1_3' '2_1_4' '2_1_5'\n '5_2_1' '5_2_2' '5_2_3' '5_2_4' '5_2_5' '1_2_1' '1_2_2' '1_2_3' '1_2_4'\n '1_2_5' '1_1_1' '1_1_2' '1_1_3' '1_1_4' '1_1_5']\n"
     ]
    }
   ],
   "source": [
    "print(df_visual['Marker'].unique())"
   ]
  },
  {
   "cell_type": "markdown",
   "id": "accessible-tenant",
   "metadata": {},
   "source": [
    "Since we set our marker to have 4 info: #block, #trial, label, time.  We gonna split and get the class for the markers.   **Note that we shall reserve 0 for no event for raw mne, thus we shall represent class 0-9 using label 1-10.**"
   ]
  },
  {
   "cell_type": "markdown",
   "id": "secret-objective",
   "metadata": {},
   "source": [
    "#### 2.1 Visual"
   ]
  },
  {
   "cell_type": "code",
   "execution_count": 10,
   "id": "becoming-outside",
   "metadata": {},
   "outputs": [
    {
     "output_type": "stream",
     "name": "stdout",
     "text": [
      "['0']\n"
     ]
    }
   ],
   "source": [
    "#use numpy as another view of the pandas columns for faster operation\n",
    "marker_np_visual = df_visual['Marker'].values\n",
    "marker_np_visual = marker_np_visual.astype(str)\n",
    "\n",
    "for idx, marker in enumerate(marker_np_visual):\n",
    "    if marker != '0':\n",
    "        m = marker.split(\",\")\n",
    "        if \"Fixation\" in marker:\n",
    "            marker_np_visual[idx] = 0\n",
    "        elif \"imagery\" in marker: # remove black --> visual\n",
    "            marker_np_visual[idx] = 0\n",
    "        elif \",\" in marker:\n",
    "            marker_np_visual[idx] = m[2] # get classes\n",
    "        else:\n",
    "            marker_np_visual[idx] = 0\n",
    "\n",
    "print(np.unique(marker_np_visual))\n",
    "df_visual['Marker']= marker_np_visual.astype(int)"
   ]
  },
  {
   "cell_type": "code",
   "execution_count": 11,
   "id": "accomplished-minute",
   "metadata": {},
   "outputs": [
    {
     "output_type": "stream",
     "name": "stdout",
     "text": [
      "        Unnamed: 1  Unnamed: 2  Unnamed: 3  Unnamed: 4  Unnamed: 5  \\\nMarker                                                               \n0           106579      103725      105395      104084      106300   \n\n        Unnamed: 6  Unnamed: 7  Unnamed: 8  \nMarker                                      \n0           104929      105069      104967  \n"
     ]
    }
   ],
   "source": [
    "print(df_visual.groupby('Marker').nunique())"
   ]
  },
  {
   "cell_type": "markdown",
   "id": "handed-robin",
   "metadata": {},
   "source": [
    "#### 2.2 Imagery"
   ]
  },
  {
   "cell_type": "code",
   "execution_count": 12,
   "id": "opponent-leave",
   "metadata": {},
   "outputs": [
    {
     "output_type": "stream",
     "name": "stdout",
     "text": [
      "['0']\n"
     ]
    }
   ],
   "source": [
    "#use numpy as another view of the pandas columns for faster operation\n",
    "marker_np_imagery = df_imagery['Marker'].values\n",
    "marker_np_imagery = marker_np_imagery.astype(str)\n",
    "\n",
    "for idx, marker in enumerate(marker_np_imagery):\n",
    "    if marker != '0':\n",
    "        m = marker.split(\",\")\n",
    "        if \"Fixation\" in marker:\n",
    "            marker_np_imagery[idx] = 0\n",
    "        elif \"perception\" in marker: # remove black --> visual\n",
    "            marker_np_imagery[idx] = 0\n",
    "        elif \",\" in marker:\n",
    "            marker_np_imagery[idx] = m[2] # get classes\n",
    "        else:\n",
    "            marker_np_imagery[idx] = 0\n",
    "\n",
    "print(np.unique(marker_np_imagery))\n",
    "df_imagery['Marker']= marker_np_imagery.astype(int)"
   ]
  },
  {
   "cell_type": "code",
   "execution_count": 11,
   "id": "duplicate-celebration",
   "metadata": {},
   "outputs": [
    {
     "name": "stdout",
     "output_type": "stream",
     "text": [
      "            F3      F8      F7      F4      P3      P4      T4      T3  \\\n",
      "Marker                                                                   \n",
      "0       153196  158739  149037  152624  154807  151431  154088  146719   \n",
      "1           50      50      50      50      50      50      50      50   \n",
      "2           50      50      50      50      50      50      50      50   \n",
      "3           50      50      50      50      50      50      50      50   \n",
      "\n",
      "           Fp2     Fp1      C4      C3      T6      T5      O1      O2  \n",
      "Marker                                                                  \n",
      "0       138563  136429  166425  155021  149333  147095  144228  154921  \n",
      "1           50      50      50      50      50      50      50      50  \n",
      "2           50      50      50      50      50      50      50      50  \n",
      "3           50      50      50      50      50      50      50      50  \n"
     ]
    }
   ],
   "source": [
    "print(df_imagery.groupby('Marker').nunique())"
   ]
  },
  {
   "cell_type": "markdown",
   "id": "mysterious-steal",
   "metadata": {},
   "source": [
    "### 3. Save Data"
   ]
  },
  {
   "cell_type": "code",
   "execution_count": 12,
   "id": "expressed-wrong",
   "metadata": {},
   "outputs": [],
   "source": [
    "df_visual.to_pickle(\"../data/pd/round2/{par}/{file}_visual.pkl\".format(par=par, file=file))\n",
    "df_imagery.to_pickle(\"../data/pd/round2/{par}/{file}_imagery.pkl\".format(par=par, file=file))"
   ]
  },
  {
   "cell_type": "code",
   "execution_count": null,
   "id": "greenhouse-doctor",
   "metadata": {},
   "outputs": [],
   "source": []
  }
 ],
 "metadata": {
  "kernelspec": {
   "name": "hci",
   "display_name": "hci",
   "language": "python"
  }
 },
 "nbformat": 4,
 "nbformat_minor": 5
}