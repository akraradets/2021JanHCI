{
 "metadata": {
  "orig_nbformat": 2,
  "kernelspec": {
   "name": "hci",
   "display_name": "hci",
   "language": "python"
  }
 },
 "nbformat": 4,
 "nbformat_minor": 2,
 "cells": [
  {
   "source": [
    "## Groud Truth"
   ],
   "cell_type": "markdown",
   "metadata": {}
  },
  {
   "cell_type": "code",
   "execution_count": 33,
   "metadata": {},
   "outputs": [
    {
     "output_type": "execute_result",
     "data": {
      "text/plain": [
       "    id     h     e     x     a     c     o\n",
       "0    2  3.63  3.19  2.94  2.38  3.38  2.38\n",
       "1    3  3.38  3.44  3.50  3.50  4.50  3.81\n",
       "2    4  3.19  3.75  3.69  3.19  2.63  2.63\n",
       "3    5  3.25  3.63  2.13  3.56  3.63  2.31\n",
       "4    6  3.25  2.75  3.50  2.50  3.75  5.00\n",
       "5    7  4.06  3.06  3.38  2.88  2.50  4.19\n",
       "6    8  3.94  2.94  3.19  3.75  3.38  3.81\n",
       "7    9  4.44  4.00  3.38  3.75  3.69  3.31\n",
       "8   10  3.63  3.25  3.50  3.31  3.88  2.69\n",
       "9   11  3.31  4.00  2.25  3.19  2.81  3.19\n",
       "10  12  2.81  3.44  3.13  3.56  3.25  3.75\n",
       "11  13  3.06  3.06  3.00  2.69  3.31  3.44\n",
       "12  14  4.63  3.69  2.25  3.13  2.94  2.63\n",
       "13  15  3.75  2.94  2.94  3.50  4.19  3.19\n",
       "14  16  4.19  4.25  1.88  2.81  3.25  3.81\n",
       "15  17  4.25  3.00  4.00  2.50  3.25  3.25\n",
       "16  18  2.81  3.31  2.06  2.75  3.00  3.19\n",
       "17  20  3.25  3.31  4.31  3.44  2.00  4.25\n",
       "18  21  4.06  3.00  2.88  3.56  3.81  3.81\n",
       "19  22  3.50  3.88  1.88  2.63  3.94  3.69\n",
       "20  23  3.13  4.19  3.00  2.38  2.88  3.88\n",
       "21  25  3.25  3.44  3.75  3.50  3.88  3.44\n",
       "22  26  3.50  3.19  2.44  2.94  2.44  3.25\n",
       "23  27  2.63  3.88  3.81  3.88  3.31  3.88\n",
       "24  28  3.19  4.31  2.19  1.88  2.56  3.25\n",
       "25  29  3.56  4.38  2.06  2.94  3.44  4.56\n",
       "26  30  4.50  3.81  2.44  3.13  2.94  4.31\n",
       "27  31  4.06  3.56  2.63  3.31  3.75  4.06\n",
       "28  32  2.75  3.25  3.75  2.81  3.06  3.31\n",
       "29  33  4.00  3.56  2.38  3.63  3.63  3.19\n",
       "30  34  3.38  2.69  3.69  3.31  3.81  3.50\n",
       "31  35  3.69  3.44  3.56  4.00  3.38  4.38\n",
       "32  36  3.56  4.56  3.31  3.63  4.38  4.31"
      ],
      "text/html": "<div>\n<style scoped>\n    .dataframe tbody tr th:only-of-type {\n        vertical-align: middle;\n    }\n\n    .dataframe tbody tr th {\n        vertical-align: top;\n    }\n\n    .dataframe thead th {\n        text-align: right;\n    }\n</style>\n<table border=\"1\" class=\"dataframe\">\n  <thead>\n    <tr style=\"text-align: right;\">\n      <th></th>\n      <th>id</th>\n      <th>h</th>\n      <th>e</th>\n      <th>x</th>\n      <th>a</th>\n      <th>c</th>\n      <th>o</th>\n    </tr>\n  </thead>\n  <tbody>\n    <tr>\n      <th>0</th>\n      <td>2</td>\n      <td>3.63</td>\n      <td>3.19</td>\n      <td>2.94</td>\n      <td>2.38</td>\n      <td>3.38</td>\n      <td>2.38</td>\n    </tr>\n    <tr>\n      <th>1</th>\n      <td>3</td>\n      <td>3.38</td>\n      <td>3.44</td>\n      <td>3.50</td>\n      <td>3.50</td>\n      <td>4.50</td>\n      <td>3.81</td>\n    </tr>\n    <tr>\n      <th>2</th>\n      <td>4</td>\n      <td>3.19</td>\n      <td>3.75</td>\n      <td>3.69</td>\n      <td>3.19</td>\n      <td>2.63</td>\n      <td>2.63</td>\n    </tr>\n    <tr>\n      <th>3</th>\n      <td>5</td>\n      <td>3.25</td>\n      <td>3.63</td>\n      <td>2.13</td>\n      <td>3.56</td>\n      <td>3.63</td>\n      <td>2.31</td>\n    </tr>\n    <tr>\n      <th>4</th>\n      <td>6</td>\n      <td>3.25</td>\n      <td>2.75</td>\n      <td>3.50</td>\n      <td>2.50</td>\n      <td>3.75</td>\n      <td>5.00</td>\n    </tr>\n    <tr>\n      <th>5</th>\n      <td>7</td>\n      <td>4.06</td>\n      <td>3.06</td>\n      <td>3.38</td>\n      <td>2.88</td>\n      <td>2.50</td>\n      <td>4.19</td>\n    </tr>\n    <tr>\n      <th>6</th>\n      <td>8</td>\n      <td>3.94</td>\n      <td>2.94</td>\n      <td>3.19</td>\n      <td>3.75</td>\n      <td>3.38</td>\n      <td>3.81</td>\n    </tr>\n    <tr>\n      <th>7</th>\n      <td>9</td>\n      <td>4.44</td>\n      <td>4.00</td>\n      <td>3.38</td>\n      <td>3.75</td>\n      <td>3.69</td>\n      <td>3.31</td>\n    </tr>\n    <tr>\n      <th>8</th>\n      <td>10</td>\n      <td>3.63</td>\n      <td>3.25</td>\n      <td>3.50</td>\n      <td>3.31</td>\n      <td>3.88</td>\n      <td>2.69</td>\n    </tr>\n    <tr>\n      <th>9</th>\n      <td>11</td>\n      <td>3.31</td>\n      <td>4.00</td>\n      <td>2.25</td>\n      <td>3.19</td>\n      <td>2.81</td>\n      <td>3.19</td>\n    </tr>\n    <tr>\n      <th>10</th>\n      <td>12</td>\n      <td>2.81</td>\n      <td>3.44</td>\n      <td>3.13</td>\n      <td>3.56</td>\n      <td>3.25</td>\n      <td>3.75</td>\n    </tr>\n    <tr>\n      <th>11</th>\n      <td>13</td>\n      <td>3.06</td>\n      <td>3.06</td>\n      <td>3.00</td>\n      <td>2.69</td>\n      <td>3.31</td>\n      <td>3.44</td>\n    </tr>\n    <tr>\n      <th>12</th>\n      <td>14</td>\n      <td>4.63</td>\n      <td>3.69</td>\n      <td>2.25</td>\n      <td>3.13</td>\n      <td>2.94</td>\n      <td>2.63</td>\n    </tr>\n    <tr>\n      <th>13</th>\n      <td>15</td>\n      <td>3.75</td>\n      <td>2.94</td>\n      <td>2.94</td>\n      <td>3.50</td>\n      <td>4.19</td>\n      <td>3.19</td>\n    </tr>\n    <tr>\n      <th>14</th>\n      <td>16</td>\n      <td>4.19</td>\n      <td>4.25</td>\n      <td>1.88</td>\n      <td>2.81</td>\n      <td>3.25</td>\n      <td>3.81</td>\n    </tr>\n    <tr>\n      <th>15</th>\n      <td>17</td>\n      <td>4.25</td>\n      <td>3.00</td>\n      <td>4.00</td>\n      <td>2.50</td>\n      <td>3.25</td>\n      <td>3.25</td>\n    </tr>\n    <tr>\n      <th>16</th>\n      <td>18</td>\n      <td>2.81</td>\n      <td>3.31</td>\n      <td>2.06</td>\n      <td>2.75</td>\n      <td>3.00</td>\n      <td>3.19</td>\n    </tr>\n    <tr>\n      <th>17</th>\n      <td>20</td>\n      <td>3.25</td>\n      <td>3.31</td>\n      <td>4.31</td>\n      <td>3.44</td>\n      <td>2.00</td>\n      <td>4.25</td>\n    </tr>\n    <tr>\n      <th>18</th>\n      <td>21</td>\n      <td>4.06</td>\n      <td>3.00</td>\n      <td>2.88</td>\n      <td>3.56</td>\n      <td>3.81</td>\n      <td>3.81</td>\n    </tr>\n    <tr>\n      <th>19</th>\n      <td>22</td>\n      <td>3.50</td>\n      <td>3.88</td>\n      <td>1.88</td>\n      <td>2.63</td>\n      <td>3.94</td>\n      <td>3.69</td>\n    </tr>\n    <tr>\n      <th>20</th>\n      <td>23</td>\n      <td>3.13</td>\n      <td>4.19</td>\n      <td>3.00</td>\n      <td>2.38</td>\n      <td>2.88</td>\n      <td>3.88</td>\n    </tr>\n    <tr>\n      <th>21</th>\n      <td>25</td>\n      <td>3.25</td>\n      <td>3.44</td>\n      <td>3.75</td>\n      <td>3.50</td>\n      <td>3.88</td>\n      <td>3.44</td>\n    </tr>\n    <tr>\n      <th>22</th>\n      <td>26</td>\n      <td>3.50</td>\n      <td>3.19</td>\n      <td>2.44</td>\n      <td>2.94</td>\n      <td>2.44</td>\n      <td>3.25</td>\n    </tr>\n    <tr>\n      <th>23</th>\n      <td>27</td>\n      <td>2.63</td>\n      <td>3.88</td>\n      <td>3.81</td>\n      <td>3.88</td>\n      <td>3.31</td>\n      <td>3.88</td>\n    </tr>\n    <tr>\n      <th>24</th>\n      <td>28</td>\n      <td>3.19</td>\n      <td>4.31</td>\n      <td>2.19</td>\n      <td>1.88</td>\n      <td>2.56</td>\n      <td>3.25</td>\n    </tr>\n    <tr>\n      <th>25</th>\n      <td>29</td>\n      <td>3.56</td>\n      <td>4.38</td>\n      <td>2.06</td>\n      <td>2.94</td>\n      <td>3.44</td>\n      <td>4.56</td>\n    </tr>\n    <tr>\n      <th>26</th>\n      <td>30</td>\n      <td>4.50</td>\n      <td>3.81</td>\n      <td>2.44</td>\n      <td>3.13</td>\n      <td>2.94</td>\n      <td>4.31</td>\n    </tr>\n    <tr>\n      <th>27</th>\n      <td>31</td>\n      <td>4.06</td>\n      <td>3.56</td>\n      <td>2.63</td>\n      <td>3.31</td>\n      <td>3.75</td>\n      <td>4.06</td>\n    </tr>\n    <tr>\n      <th>28</th>\n      <td>32</td>\n      <td>2.75</td>\n      <td>3.25</td>\n      <td>3.75</td>\n      <td>2.81</td>\n      <td>3.06</td>\n      <td>3.31</td>\n    </tr>\n    <tr>\n      <th>29</th>\n      <td>33</td>\n      <td>4.00</td>\n      <td>3.56</td>\n      <td>2.38</td>\n      <td>3.63</td>\n      <td>3.63</td>\n      <td>3.19</td>\n    </tr>\n    <tr>\n      <th>30</th>\n      <td>34</td>\n      <td>3.38</td>\n      <td>2.69</td>\n      <td>3.69</td>\n      <td>3.31</td>\n      <td>3.81</td>\n      <td>3.50</td>\n    </tr>\n    <tr>\n      <th>31</th>\n      <td>35</td>\n      <td>3.69</td>\n      <td>3.44</td>\n      <td>3.56</td>\n      <td>4.00</td>\n      <td>3.38</td>\n      <td>4.38</td>\n    </tr>\n    <tr>\n      <th>32</th>\n      <td>36</td>\n      <td>3.56</td>\n      <td>4.56</td>\n      <td>3.31</td>\n      <td>3.63</td>\n      <td>4.38</td>\n      <td>4.31</td>\n    </tr>\n  </tbody>\n</table>\n</div>"
     },
     "metadata": {},
     "execution_count": 33
    }
   ],
   "source": [
    "import pandas\n",
    "import numpy as np\n",
    "from utils import *\n",
    "df = pandas.read_csv('./HEXACO.csv')\n",
    "# Honesty-Humility\tEmotionality\teXtraversion\tAgreeableness\tConscientiousness\tOpenness to Experience\n",
    "gt = df[['id','Honesty-Humility','Emotionality','eXtraversion','Agreeableness','Conscientiousness','Openness to Experience']].rename(columns={'Honesty-Humility':'h',\n",
    "                                  'Emotionality':'e',\n",
    "                                  'eXtraversion':'x',\n",
    "                                 'Agreeableness':'a',\n",
    "                             'Conscientiousness':'c',\n",
    "                        'Openness to Experience':'o'})\n",
    "gt"
   ]
  },
  {
   "source": [
    "## EEG Data"
   ],
   "cell_type": "markdown",
   "metadata": {}
  },
  {
   "cell_type": "code",
   "execution_count": 34,
   "metadata": {},
   "outputs": [
    {
     "output_type": "stream",
     "name": "stdout",
     "text": [
      "['29-audio.csv', '5-audio.csv', '10-audio.csv', '17-audio.csv', '10-image.csv', '14-audio.csv', '33-audio.csv', '31-audio.csv', '20-audio.csv', '13-image.csv', '25-image.csv', '5-image.csv', '9-aduio.csv', '14-image.csv', '22-image.csv', '7-image.csv', '23-audio.csv', '28-image.csv', '15-audio.csv', '25-audio.csv', '32-audio.csv', '21-image.csv', '23-image.csv', '2-audio.csv', '36-audio.csv', '26-audio.csv', '12-audio.csv', '3-image.csv', '2-image.csv', '35-image.csv', '12-image.csv', '30-image.csv', '36-image.csv', '27-audio.csv', '15-image.csv', '32-image.csv', '26-image.csv', '8-audio.csv', '34-image.csv', '6-aduio.csv', '8-image.csv', '20-image.csv', '9-image.csv', '3-audio.csv', '35-audio.csv', '16-audio.csv', '22-audio.csv', '17-image.csv', '7-audio.csv', '11-audio.csv', '18-image.csv', '27-image.csv', '29-image.csv', '13-audio.csv', '6-image.csv', '30-audio.csv', '21-audio.csv', '31-image.csv', '33-image.csv', '34-audio.csv', '28-audio.csv', '11-image.csv', '16-image.csv', '18-audio.csv']\n"
     ]
    }
   ],
   "source": [
    "from os import walk\n",
    "path, folders, filenames = next(walk('./data'))\n",
    "print(filenames)"
   ]
  },
  {
   "cell_type": "code",
   "execution_count": 35,
   "metadata": {},
   "outputs": [
    {
     "output_type": "execute_result",
     "data": {
      "text/plain": [
       "            Fp1        Fp2         F3         F4         F7         F8  \\\n",
       "0     26255.164  22283.572  24385.775  17412.523  35770.191  34261.043   \n",
       "1     26217.680  22244.367  24375.158  17377.029  35728.996  34222.801   \n",
       "2     26243.541  22266.986  24317.066  17395.871  35762.031  34255.680   \n",
       "3     26294.369  22315.959  24282.107  17439.859  35817.195  34312.141   \n",
       "4     26291.352  22316.271  24309.959  17441.490  35808.121  34308.723   \n",
       "...         ...        ...        ...        ...        ...        ...   \n",
       "6347  25768.477  21914.143  23800.496  17014.885  35318.035  33879.523   \n",
       "6348  25811.035  21949.436  23738.670  17045.910  35367.836  33926.797   \n",
       "6349  25844.250  21980.236  23731.539  17074.967  35400.602  33961.621   \n",
       "6350  25822.701  21963.070  23790.795  17061.803  35371.234  33935.602   \n",
       "6351  25768.611  21916.355  23825.082  17016.852  35314.035  33878.293   \n",
       "\n",
       "             P7         P8 Marker  \n",
       "0     25481.928  28286.133  1_1_1  \n",
       "1     25443.863  28254.260      0  \n",
       "2     25481.904  28279.314      0  \n",
       "3     25539.908  28325.986      0  \n",
       "4     25529.402  28322.633      0  \n",
       "...         ...        ...    ...  \n",
       "6347  25103.379  27880.895      0  \n",
       "6348  25157.850  27919.072      0  \n",
       "6349  25190.080  27947.393      0  \n",
       "6350  25157.783  27929.131      0  \n",
       "6351  25098.281  27881.254      0  \n",
       "\n",
       "[6352 rows x 9 columns]"
      ],
      "text/html": "<div>\n<style scoped>\n    .dataframe tbody tr th:only-of-type {\n        vertical-align: middle;\n    }\n\n    .dataframe tbody tr th {\n        vertical-align: top;\n    }\n\n    .dataframe thead th {\n        text-align: right;\n    }\n</style>\n<table border=\"1\" class=\"dataframe\">\n  <thead>\n    <tr style=\"text-align: right;\">\n      <th></th>\n      <th>Fp1</th>\n      <th>Fp2</th>\n      <th>F3</th>\n      <th>F4</th>\n      <th>F7</th>\n      <th>F8</th>\n      <th>P7</th>\n      <th>P8</th>\n      <th>Marker</th>\n    </tr>\n  </thead>\n  <tbody>\n    <tr>\n      <th>0</th>\n      <td>26255.164</td>\n      <td>22283.572</td>\n      <td>24385.775</td>\n      <td>17412.523</td>\n      <td>35770.191</td>\n      <td>34261.043</td>\n      <td>25481.928</td>\n      <td>28286.133</td>\n      <td>1_1_1</td>\n    </tr>\n    <tr>\n      <th>1</th>\n      <td>26217.680</td>\n      <td>22244.367</td>\n      <td>24375.158</td>\n      <td>17377.029</td>\n      <td>35728.996</td>\n      <td>34222.801</td>\n      <td>25443.863</td>\n      <td>28254.260</td>\n      <td>0</td>\n    </tr>\n    <tr>\n      <th>2</th>\n      <td>26243.541</td>\n      <td>22266.986</td>\n      <td>24317.066</td>\n      <td>17395.871</td>\n      <td>35762.031</td>\n      <td>34255.680</td>\n      <td>25481.904</td>\n      <td>28279.314</td>\n      <td>0</td>\n    </tr>\n    <tr>\n      <th>3</th>\n      <td>26294.369</td>\n      <td>22315.959</td>\n      <td>24282.107</td>\n      <td>17439.859</td>\n      <td>35817.195</td>\n      <td>34312.141</td>\n      <td>25539.908</td>\n      <td>28325.986</td>\n      <td>0</td>\n    </tr>\n    <tr>\n      <th>4</th>\n      <td>26291.352</td>\n      <td>22316.271</td>\n      <td>24309.959</td>\n      <td>17441.490</td>\n      <td>35808.121</td>\n      <td>34308.723</td>\n      <td>25529.402</td>\n      <td>28322.633</td>\n      <td>0</td>\n    </tr>\n    <tr>\n      <th>...</th>\n      <td>...</td>\n      <td>...</td>\n      <td>...</td>\n      <td>...</td>\n      <td>...</td>\n      <td>...</td>\n      <td>...</td>\n      <td>...</td>\n      <td>...</td>\n    </tr>\n    <tr>\n      <th>6347</th>\n      <td>25768.477</td>\n      <td>21914.143</td>\n      <td>23800.496</td>\n      <td>17014.885</td>\n      <td>35318.035</td>\n      <td>33879.523</td>\n      <td>25103.379</td>\n      <td>27880.895</td>\n      <td>0</td>\n    </tr>\n    <tr>\n      <th>6348</th>\n      <td>25811.035</td>\n      <td>21949.436</td>\n      <td>23738.670</td>\n      <td>17045.910</td>\n      <td>35367.836</td>\n      <td>33926.797</td>\n      <td>25157.850</td>\n      <td>27919.072</td>\n      <td>0</td>\n    </tr>\n    <tr>\n      <th>6349</th>\n      <td>25844.250</td>\n      <td>21980.236</td>\n      <td>23731.539</td>\n      <td>17074.967</td>\n      <td>35400.602</td>\n      <td>33961.621</td>\n      <td>25190.080</td>\n      <td>27947.393</td>\n      <td>0</td>\n    </tr>\n    <tr>\n      <th>6350</th>\n      <td>25822.701</td>\n      <td>21963.070</td>\n      <td>23790.795</td>\n      <td>17061.803</td>\n      <td>35371.234</td>\n      <td>33935.602</td>\n      <td>25157.783</td>\n      <td>27929.131</td>\n      <td>0</td>\n    </tr>\n    <tr>\n      <th>6351</th>\n      <td>25768.611</td>\n      <td>21916.355</td>\n      <td>23825.082</td>\n      <td>17016.852</td>\n      <td>35314.035</td>\n      <td>33878.293</td>\n      <td>25098.281</td>\n      <td>27881.254</td>\n      <td>0</td>\n    </tr>\n  </tbody>\n</table>\n<p>6352 rows × 9 columns</p>\n</div>"
     },
     "metadata": {},
     "execution_count": 35
    }
   ],
   "source": [
    "path = './data'\n",
    "filename = '2-image.csv'\n",
    "data = pandas.read_csv(f'{path}/{filename}').rename(columns={'Unnamed: 1':'Fp1',\n",
    "                                                    'Unnamed: 2':'Fp2',\n",
    "                                                    'Unnamed: 3':'F3',\n",
    "                                                    'Unnamed: 4':'F4',\n",
    "                                                    'Unnamed: 5':'F7',\n",
    "                                                    'Unnamed: 6':'F8',\n",
    "                                                    'Unnamed: 7':'P7',\n",
    "                                                    'Unnamed: 8':'P8'}).drop(columns='timestamps')\n",
    "\n",
    "get_section_from_catblock(data, category=1,block=1)"
   ]
  },
  {
   "cell_type": "code",
   "execution_count": 32,
   "metadata": {},
   "outputs": [
    {
     "output_type": "execute_result",
     "data": {
      "text/plain": [
       "array([[26829.492, 24516.086, 20050.811, ..., 19449.795, 23746.627, '0'],\n",
       "       [26809.398, 24493.801, 20035.701, ..., 19428.182, 23723.939, '0'],\n",
       "       [26832.666, 24519.283, 20056.689, ..., 19453.236, 23745.801, '0'],\n",
       "       ...,\n",
       "       [27240.451, 23181.084, 21133.439, ..., 20746.643, 24988.938, '0'],\n",
       "       [27234.885, 23180.346, 21134.893, ..., 20740.162, 24985.652, '0'],\n",
       "       [27235.623, 23181.576, 21140.637, ..., 20744.252, 24986.301, '0']],\n",
       "      dtype=object)"
      ]
     },
     "metadata": {},
     "execution_count": 32
    }
   ],
   "source": [
    "data"
   ]
  }
 ]
}