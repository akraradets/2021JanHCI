{
 "metadata": {
  "orig_nbformat": 2,
  "kernelspec": {
   "name": "hci",
   "display_name": "hci",
   "language": "python"
  }
 },
 "nbformat": 4,
 "nbformat_minor": 2,
 "cells": [
  {
   "cell_type": "code",
   "execution_count": 1,
   "metadata": {},
   "outputs": [],
   "source": [
    "import pandas\n",
    "import numpy as np\n",
    "from utils import *\n",
    "import mne\n",
    "import matplotlib.pyplot as plt\n",
    "from os import walk\n",
    "from sklearn.naive_bayes import GaussianNB\n",
    "from sklearn.preprocessing import normalize\n",
    "from itertools import combinations\n",
    "\n",
    "def get_psd(raw, filter=None, returnMean=False):\n",
    "    raw_copy = raw.copy()\n",
    "    if(filter != None):\n",
    "        raw_copy.filter(filter[0],filter[1], verbose=False)\n",
    "    psd, freq = mne.time_frequency.psd_welch(raw_copy,n_fft = 1024, verbose=False)\n",
    "    psd = 10 * np.log10(psd)\n",
    "    if(returnMean):\n",
    "        psd = psd.mean(axis=1)\n",
    "        if(np.any(np.isnan(psd))):\n",
    "            raise ValueError(f\"value NaN: {psd}\")\n",
    "        if(np.all(np.isfinite(psd)) == False):\n",
    "            raise ValueError(f\"value inifinit: {psd}\")\n",
    "    mean = psd.mean(0)\n",
    "    std = psd.std(0)\n",
    "    return psd, freq, mean, std\n",
    "\n",
    "def get_epoch(raw, verbose=False):\n",
    "    raw_copy = raw.copy()\n",
    "    events = mne.find_events(raw_copy, stim_channel='Marker', initial_event=True, verbose=verbose)\n",
    "    if(len(events) != 5):\n",
    "        raise ValueError(f\"The event is missing. Number of event not equal to 5 ({len(events)}).\\n {events}\")\n",
    "    epochs = mne.Epochs(raw_copy, events, tmin=0.3, tmax=5.5, baseline=(0.3,0.3), verbose=verbose)\n",
    "    if(epochs.get_data().shape[0] != 5):\n",
    "        raise ValueError(f\"There might be a bad data. epochs.get_data().shape = {epochs.get_data().shape}\")\n",
    "    return epochs\n",
    "\n",
    "def plot_psd(raw):\n",
    "    psd, freq, mean, std = get_psd(raw)\n",
    "    fig, ax = plt.subplots(figsize=(10,5))\n",
    "    for i in range(8):\n",
    "        ax.plot(freq,psd[i] ,label=raw.info['ch_names'][i], lw=1, alpha=0.6)\n",
    "    ax.fill_between(250//2, mean - std, mean + std, color='k', alpha=.5)\n",
    "    ax.set_xlabel('Frequency (Hz)')\n",
    "    ax.set_ylabel('Amplitube (dBV)')\n",
    "    ax.set_title('EEG of ')\n",
    "    ax.legend()\n",
    "    plt.show()"
   ]
  },
  {
   "source": [
    "## Groud Truth"
   ],
   "cell_type": "markdown",
   "metadata": {}
  },
  {
   "cell_type": "code",
   "execution_count": 2,
   "metadata": {},
   "outputs": [
    {
     "output_type": "execute_result",
     "data": {
      "text/plain": [
       "       h     e     x     a     c     o  label\n",
       "id                                           \n",
       "2   3.63  3.19  2.94  2.38  3.38  2.38      0\n",
       "3   3.38  3.44  3.50  3.50  4.50  3.81      4\n",
       "4   3.19  3.75  3.69  3.19  2.63  2.63      1\n",
       "5   3.25  3.63  2.13  3.56  3.63  2.31      1\n",
       "6   3.25  2.75  3.50  2.50  3.75  5.00      5\n",
       "7   4.06  3.06  3.38  2.88  2.50  4.19      5\n",
       "8   3.94  2.94  3.19  3.75  3.38  3.81      0\n",
       "9   4.44  4.00  3.38  3.75  3.69  3.31      0\n",
       "10  3.63  3.25  3.50  3.31  3.88  2.69      4\n",
       "11  3.31  4.00  2.25  3.19  2.81  3.19      1\n",
       "12  2.81  3.44  3.13  3.56  3.25  3.75      5\n",
       "13  3.06  3.06  3.00  2.69  3.31  3.44      5\n",
       "14  4.63  3.69  2.25  3.13  2.94  2.63      0\n",
       "15  3.75  2.94  2.94  3.50  4.19  3.19      4\n",
       "16  4.19  4.25  1.88  2.81  3.25  3.81      1\n",
       "17  4.25  3.00  4.00  2.50  3.25  3.25      0\n",
       "18  2.81  3.31  2.06  2.75  3.00  3.19      1\n",
       "20  3.25  3.31  4.31  3.44  2.00  4.25      2\n",
       "21  4.06  3.00  2.88  3.56  3.81  3.81      0\n",
       "22  3.50  3.88  1.88  2.63  3.94  3.69      4\n",
       "23  3.13  4.19  3.00  2.38  2.88  3.88      1\n",
       "25  3.25  3.44  3.75  3.50  3.88  3.44      4\n",
       "26  3.50  3.19  2.44  2.94  2.44  3.25      0\n",
       "27  2.63  3.88  3.81  3.88  3.31  3.88      1\n",
       "28  3.19  4.31  2.19  1.88  2.56  3.25      1\n",
       "29  3.56  4.38  2.06  2.94  3.44  4.56      5\n",
       "30  4.50  3.81  2.44  3.13  2.94  4.31      0\n",
       "31  4.06  3.56  2.63  3.31  3.75  4.06      0\n",
       "32  2.75  3.25  3.75  2.81  3.06  3.31      2\n",
       "33  4.00  3.56  2.38  3.63  3.63  3.19      0\n",
       "34  3.38  2.69  3.69  3.31  3.81  3.50      4\n",
       "35  3.69  3.44  3.56  4.00  3.38  4.38      5\n",
       "36  3.56  4.56  3.31  3.63  4.38  4.31      1"
      ],
      "text/html": "<div>\n<style scoped>\n    .dataframe tbody tr th:only-of-type {\n        vertical-align: middle;\n    }\n\n    .dataframe tbody tr th {\n        vertical-align: top;\n    }\n\n    .dataframe thead th {\n        text-align: right;\n    }\n</style>\n<table border=\"1\" class=\"dataframe\">\n  <thead>\n    <tr style=\"text-align: right;\">\n      <th></th>\n      <th>h</th>\n      <th>e</th>\n      <th>x</th>\n      <th>a</th>\n      <th>c</th>\n      <th>o</th>\n      <th>label</th>\n    </tr>\n    <tr>\n      <th>id</th>\n      <th></th>\n      <th></th>\n      <th></th>\n      <th></th>\n      <th></th>\n      <th></th>\n      <th></th>\n    </tr>\n  </thead>\n  <tbody>\n    <tr>\n      <th>2</th>\n      <td>3.63</td>\n      <td>3.19</td>\n      <td>2.94</td>\n      <td>2.38</td>\n      <td>3.38</td>\n      <td>2.38</td>\n      <td>0</td>\n    </tr>\n    <tr>\n      <th>3</th>\n      <td>3.38</td>\n      <td>3.44</td>\n      <td>3.50</td>\n      <td>3.50</td>\n      <td>4.50</td>\n      <td>3.81</td>\n      <td>4</td>\n    </tr>\n    <tr>\n      <th>4</th>\n      <td>3.19</td>\n      <td>3.75</td>\n      <td>3.69</td>\n      <td>3.19</td>\n      <td>2.63</td>\n      <td>2.63</td>\n      <td>1</td>\n    </tr>\n    <tr>\n      <th>5</th>\n      <td>3.25</td>\n      <td>3.63</td>\n      <td>2.13</td>\n      <td>3.56</td>\n      <td>3.63</td>\n      <td>2.31</td>\n      <td>1</td>\n    </tr>\n    <tr>\n      <th>6</th>\n      <td>3.25</td>\n      <td>2.75</td>\n      <td>3.50</td>\n      <td>2.50</td>\n      <td>3.75</td>\n      <td>5.00</td>\n      <td>5</td>\n    </tr>\n    <tr>\n      <th>7</th>\n      <td>4.06</td>\n      <td>3.06</td>\n      <td>3.38</td>\n      <td>2.88</td>\n      <td>2.50</td>\n      <td>4.19</td>\n      <td>5</td>\n    </tr>\n    <tr>\n      <th>8</th>\n      <td>3.94</td>\n      <td>2.94</td>\n      <td>3.19</td>\n      <td>3.75</td>\n      <td>3.38</td>\n      <td>3.81</td>\n      <td>0</td>\n    </tr>\n    <tr>\n      <th>9</th>\n      <td>4.44</td>\n      <td>4.00</td>\n      <td>3.38</td>\n      <td>3.75</td>\n      <td>3.69</td>\n      <td>3.31</td>\n      <td>0</td>\n    </tr>\n    <tr>\n      <th>10</th>\n      <td>3.63</td>\n      <td>3.25</td>\n      <td>3.50</td>\n      <td>3.31</td>\n      <td>3.88</td>\n      <td>2.69</td>\n      <td>4</td>\n    </tr>\n    <tr>\n      <th>11</th>\n      <td>3.31</td>\n      <td>4.00</td>\n      <td>2.25</td>\n      <td>3.19</td>\n      <td>2.81</td>\n      <td>3.19</td>\n      <td>1</td>\n    </tr>\n    <tr>\n      <th>12</th>\n      <td>2.81</td>\n      <td>3.44</td>\n      <td>3.13</td>\n      <td>3.56</td>\n      <td>3.25</td>\n      <td>3.75</td>\n      <td>5</td>\n    </tr>\n    <tr>\n      <th>13</th>\n      <td>3.06</td>\n      <td>3.06</td>\n      <td>3.00</td>\n      <td>2.69</td>\n      <td>3.31</td>\n      <td>3.44</td>\n      <td>5</td>\n    </tr>\n    <tr>\n      <th>14</th>\n      <td>4.63</td>\n      <td>3.69</td>\n      <td>2.25</td>\n      <td>3.13</td>\n      <td>2.94</td>\n      <td>2.63</td>\n      <td>0</td>\n    </tr>\n    <tr>\n      <th>15</th>\n      <td>3.75</td>\n      <td>2.94</td>\n      <td>2.94</td>\n      <td>3.50</td>\n      <td>4.19</td>\n      <td>3.19</td>\n      <td>4</td>\n    </tr>\n    <tr>\n      <th>16</th>\n      <td>4.19</td>\n      <td>4.25</td>\n      <td>1.88</td>\n      <td>2.81</td>\n      <td>3.25</td>\n      <td>3.81</td>\n      <td>1</td>\n    </tr>\n    <tr>\n      <th>17</th>\n      <td>4.25</td>\n      <td>3.00</td>\n      <td>4.00</td>\n      <td>2.50</td>\n      <td>3.25</td>\n      <td>3.25</td>\n      <td>0</td>\n    </tr>\n    <tr>\n      <th>18</th>\n      <td>2.81</td>\n      <td>3.31</td>\n      <td>2.06</td>\n      <td>2.75</td>\n      <td>3.00</td>\n      <td>3.19</td>\n      <td>1</td>\n    </tr>\n    <tr>\n      <th>20</th>\n      <td>3.25</td>\n      <td>3.31</td>\n      <td>4.31</td>\n      <td>3.44</td>\n      <td>2.00</td>\n      <td>4.25</td>\n      <td>2</td>\n    </tr>\n    <tr>\n      <th>21</th>\n      <td>4.06</td>\n      <td>3.00</td>\n      <td>2.88</td>\n      <td>3.56</td>\n      <td>3.81</td>\n      <td>3.81</td>\n      <td>0</td>\n    </tr>\n    <tr>\n      <th>22</th>\n      <td>3.50</td>\n      <td>3.88</td>\n      <td>1.88</td>\n      <td>2.63</td>\n      <td>3.94</td>\n      <td>3.69</td>\n      <td>4</td>\n    </tr>\n    <tr>\n      <th>23</th>\n      <td>3.13</td>\n      <td>4.19</td>\n      <td>3.00</td>\n      <td>2.38</td>\n      <td>2.88</td>\n      <td>3.88</td>\n      <td>1</td>\n    </tr>\n    <tr>\n      <th>25</th>\n      <td>3.25</td>\n      <td>3.44</td>\n      <td>3.75</td>\n      <td>3.50</td>\n      <td>3.88</td>\n      <td>3.44</td>\n      <td>4</td>\n    </tr>\n    <tr>\n      <th>26</th>\n      <td>3.50</td>\n      <td>3.19</td>\n      <td>2.44</td>\n      <td>2.94</td>\n      <td>2.44</td>\n      <td>3.25</td>\n      <td>0</td>\n    </tr>\n    <tr>\n      <th>27</th>\n      <td>2.63</td>\n      <td>3.88</td>\n      <td>3.81</td>\n      <td>3.88</td>\n      <td>3.31</td>\n      <td>3.88</td>\n      <td>1</td>\n    </tr>\n    <tr>\n      <th>28</th>\n      <td>3.19</td>\n      <td>4.31</td>\n      <td>2.19</td>\n      <td>1.88</td>\n      <td>2.56</td>\n      <td>3.25</td>\n      <td>1</td>\n    </tr>\n    <tr>\n      <th>29</th>\n      <td>3.56</td>\n      <td>4.38</td>\n      <td>2.06</td>\n      <td>2.94</td>\n      <td>3.44</td>\n      <td>4.56</td>\n      <td>5</td>\n    </tr>\n    <tr>\n      <th>30</th>\n      <td>4.50</td>\n      <td>3.81</td>\n      <td>2.44</td>\n      <td>3.13</td>\n      <td>2.94</td>\n      <td>4.31</td>\n      <td>0</td>\n    </tr>\n    <tr>\n      <th>31</th>\n      <td>4.06</td>\n      <td>3.56</td>\n      <td>2.63</td>\n      <td>3.31</td>\n      <td>3.75</td>\n      <td>4.06</td>\n      <td>0</td>\n    </tr>\n    <tr>\n      <th>32</th>\n      <td>2.75</td>\n      <td>3.25</td>\n      <td>3.75</td>\n      <td>2.81</td>\n      <td>3.06</td>\n      <td>3.31</td>\n      <td>2</td>\n    </tr>\n    <tr>\n      <th>33</th>\n      <td>4.00</td>\n      <td>3.56</td>\n      <td>2.38</td>\n      <td>3.63</td>\n      <td>3.63</td>\n      <td>3.19</td>\n      <td>0</td>\n    </tr>\n    <tr>\n      <th>34</th>\n      <td>3.38</td>\n      <td>2.69</td>\n      <td>3.69</td>\n      <td>3.31</td>\n      <td>3.81</td>\n      <td>3.50</td>\n      <td>4</td>\n    </tr>\n    <tr>\n      <th>35</th>\n      <td>3.69</td>\n      <td>3.44</td>\n      <td>3.56</td>\n      <td>4.00</td>\n      <td>3.38</td>\n      <td>4.38</td>\n      <td>5</td>\n    </tr>\n    <tr>\n      <th>36</th>\n      <td>3.56</td>\n      <td>4.56</td>\n      <td>3.31</td>\n      <td>3.63</td>\n      <td>4.38</td>\n      <td>4.31</td>\n      <td>1</td>\n    </tr>\n  </tbody>\n</table>\n</div>"
     },
     "metadata": {},
     "execution_count": 2
    }
   ],
   "source": [
    "plt.style.use('seaborn-whitegrid')\n",
    "\n",
    "df = pandas.read_csv('./HEXACO.csv')\n",
    "# Honesty-Humility\tEmotionality\teXtraversion\tAgreeableness\tConscientiousness\tOpenness to Experience\n",
    "gt = df[['id','Honesty-Humility','Emotionality','eXtraversion','Agreeableness','Conscientiousness','Openness to Experience']].rename(columns={'Honesty-Humility':'h',\n",
    "                                  'Emotionality':'e',\n",
    "                                  'eXtraversion':'x',\n",
    "                                 'Agreeableness':'a',\n",
    "                             'Conscientiousness':'c',\n",
    "                        'Openness to Experience':'o'}).set_index('id')\n",
    "labels = []\n",
    "for i in gt.index:\n",
    "    # print(gt.loc[i], np.argmax(gt[['h','e','x','a','c','o']].loc[i]))\n",
    "    labels.append(np.argmax(gt[['h','e','x','a','c','o']].loc[i]))\n",
    "gt['label'] = labels\n",
    "gt"
   ]
  },
  {
   "source": [
    "## EEG Data"
   ],
   "cell_type": "markdown",
   "metadata": {}
  },
  {
   "cell_type": "code",
   "execution_count": 3,
   "metadata": {},
   "outputs": [
    {
     "output_type": "stream",
     "name": "stdout",
     "text": [
      "['29-audio.csv', '5-audio.csv', '10-audio.csv', '17-audio.csv', '10-image.csv', '14-audio.csv', '33-audio.csv', '31-audio.csv', '9-audio.csv', '20-audio.csv', '6-audio.csv', '13-image.csv', '25-image.csv', '5-image.csv', '14-image.csv', '22-image.csv', '7-image.csv', '23-audio.csv', '28-image.csv', '15-audio.csv', '25-audio.csv', '32-audio.csv', '21-image.csv', '23-image.csv', '2-audio.csv', '36-audio.csv', '26-audio.csv', '12-audio.csv', '3-image.csv', '2-image.csv', '35-image.csv', '12-image.csv', '30-image.csv', '36-image.csv', '27-audio.csv', '15-image.csv', '32-image.csv', '26-image.csv', '8-audio.csv', '34-image.csv', '8-image.csv', '20-image.csv', '9-image.csv', '3-audio.csv', '35-audio.csv', '16-audio.csv', '22-audio.csv', '17-image.csv', '7-audio.csv', '11-audio.csv', '18-image.csv', '27-image.csv', '29-image.csv', '13-audio.csv', '6-image.csv', '30-audio.csv', '21-audio.csv', '31-image.csv', '33-image.csv', '34-audio.csv', '28-audio.csv', '11-image.csv', '16-image.csv', '18-audio.csv']\n"
     ]
    }
   ],
   "source": [
    "path, folders, filenames = next(walk('./data'))\n",
    "print(filenames)"
   ]
  },
  {
   "cell_type": "code",
   "execution_count": 4,
   "metadata": {},
   "outputs": [],
   "source": [
    "gt.drop([11,4,36],inplace=True)\n",
    "\n",
    "filenames.remove('11-audio.csv')\n",
    "filenames.remove('11-image.csv')\n",
    "\n",
    "filenames.remove('36-audio.csv')\n",
    "filenames.remove('36-image.csv')"
   ]
  },
  {
   "cell_type": "code",
   "execution_count": 5,
   "metadata": {
    "tags": []
   },
   "outputs": [
    {
     "output_type": "stream",
     "name": "stdout",
     "text": [
      "29 audio\n",
      "5 audio\n",
      "10 audio\n",
      "17 audio\n",
      "10 image\n",
      "14 audio\n",
      "33 audio\n",
      "31 audio\n",
      "9 audio\n"
     ]
    },
    {
     "output_type": "error",
     "ename": "KeyboardInterrupt",
     "evalue": "",
     "traceback": [
      "\u001b[0;31m---------------------------------------------------------------------------\u001b[0m",
      "\u001b[0;31mKeyboardInterrupt\u001b[0m                         Traceback (most recent call last)",
      "\u001b[0;32m<ipython-input-5-d57f8d4348c1>\u001b[0m in \u001b[0;36m<module>\u001b[0;34m\u001b[0m\n\u001b[1;32m     16\u001b[0m     \u001b[0mparticipant_id\u001b[0m\u001b[0;34m,\u001b[0m \u001b[0mstimuli\u001b[0m \u001b[0;34m=\u001b[0m \u001b[0mfilename\u001b[0m\u001b[0;34m.\u001b[0m\u001b[0msplit\u001b[0m\u001b[0;34m(\u001b[0m\u001b[0;34m'-'\u001b[0m\u001b[0;34m)\u001b[0m\u001b[0;34m\u001b[0m\u001b[0;34m\u001b[0m\u001b[0m\n\u001b[1;32m     17\u001b[0m     \u001b[0mstimuli\u001b[0m \u001b[0;34m=\u001b[0m \u001b[0mstimuli\u001b[0m\u001b[0;34m.\u001b[0m\u001b[0mrstrip\u001b[0m\u001b[0;34m(\u001b[0m\u001b[0;34m'.csv'\u001b[0m\u001b[0;34m)\u001b[0m\u001b[0;34m\u001b[0m\u001b[0;34m\u001b[0m\u001b[0m\n\u001b[0;32m---> 18\u001b[0;31m     \u001b[0mdata\u001b[0m \u001b[0;34m=\u001b[0m \u001b[0mpandas\u001b[0m\u001b[0;34m.\u001b[0m\u001b[0mread_csv\u001b[0m\u001b[0;34m(\u001b[0m\u001b[0;34mf'{path}/{filename}'\u001b[0m\u001b[0;34m,\u001b[0m \u001b[0mdtype\u001b[0m\u001b[0;34m=\u001b[0m\u001b[0;34m{\u001b[0m\u001b[0;34m'Marker'\u001b[0m\u001b[0;34m:\u001b[0m \u001b[0mstr\u001b[0m\u001b[0;34m}\u001b[0m\u001b[0;34m)\u001b[0m\u001b[0;34m.\u001b[0m\u001b[0mrename\u001b[0m\u001b[0;34m(\u001b[0m\u001b[0mcolumns\u001b[0m\u001b[0;34m=\u001b[0m\u001b[0mcolumns\u001b[0m\u001b[0;34m)\u001b[0m\u001b[0;34m.\u001b[0m\u001b[0mdrop\u001b[0m\u001b[0;34m(\u001b[0m\u001b[0mcolumns\u001b[0m\u001b[0;34m=\u001b[0m\u001b[0;34m'timestamps'\u001b[0m\u001b[0;34m)\u001b[0m\u001b[0;34m\u001b[0m\u001b[0;34m\u001b[0m\u001b[0m\n\u001b[0m\u001b[1;32m     19\u001b[0m     \u001b[0mprint\u001b[0m\u001b[0;34m(\u001b[0m\u001b[0mparticipant_id\u001b[0m\u001b[0;34m,\u001b[0m \u001b[0mstimuli\u001b[0m\u001b[0;34m)\u001b[0m\u001b[0;34m\u001b[0m\u001b[0;34m\u001b[0m\u001b[0m\n\u001b[1;32m     20\u001b[0m     \u001b[0;31m# experiment = dict()\u001b[0m\u001b[0;34m\u001b[0m\u001b[0;34m\u001b[0m\u001b[0;34m\u001b[0m\u001b[0m\n",
      "\u001b[0;32m~/venv/hci/lib/python3.8/site-packages/pandas/io/parsers.py\u001b[0m in \u001b[0;36mread_csv\u001b[0;34m(filepath_or_buffer, sep, delimiter, header, names, index_col, usecols, squeeze, prefix, mangle_dupe_cols, dtype, engine, converters, true_values, false_values, skipinitialspace, skiprows, skipfooter, nrows, na_values, keep_default_na, na_filter, verbose, skip_blank_lines, parse_dates, infer_datetime_format, keep_date_col, date_parser, dayfirst, cache_dates, iterator, chunksize, compression, thousands, decimal, lineterminator, quotechar, quoting, doublequote, escapechar, comment, encoding, dialect, error_bad_lines, warn_bad_lines, delim_whitespace, low_memory, memory_map, float_precision, storage_options)\u001b[0m\n\u001b[1;32m    608\u001b[0m     \u001b[0mkwds\u001b[0m\u001b[0;34m.\u001b[0m\u001b[0mupdate\u001b[0m\u001b[0;34m(\u001b[0m\u001b[0mkwds_defaults\u001b[0m\u001b[0;34m)\u001b[0m\u001b[0;34m\u001b[0m\u001b[0;34m\u001b[0m\u001b[0m\n\u001b[1;32m    609\u001b[0m \u001b[0;34m\u001b[0m\u001b[0m\n\u001b[0;32m--> 610\u001b[0;31m     \u001b[0;32mreturn\u001b[0m \u001b[0m_read\u001b[0m\u001b[0;34m(\u001b[0m\u001b[0mfilepath_or_buffer\u001b[0m\u001b[0;34m,\u001b[0m \u001b[0mkwds\u001b[0m\u001b[0;34m)\u001b[0m\u001b[0;34m\u001b[0m\u001b[0;34m\u001b[0m\u001b[0m\n\u001b[0m\u001b[1;32m    611\u001b[0m \u001b[0;34m\u001b[0m\u001b[0m\n\u001b[1;32m    612\u001b[0m \u001b[0;34m\u001b[0m\u001b[0m\n",
      "\u001b[0;32m~/venv/hci/lib/python3.8/site-packages/pandas/io/parsers.py\u001b[0m in \u001b[0;36m_read\u001b[0;34m(filepath_or_buffer, kwds)\u001b[0m\n\u001b[1;32m    466\u001b[0m \u001b[0;34m\u001b[0m\u001b[0m\n\u001b[1;32m    467\u001b[0m     \u001b[0;32mwith\u001b[0m \u001b[0mparser\u001b[0m\u001b[0;34m:\u001b[0m\u001b[0;34m\u001b[0m\u001b[0;34m\u001b[0m\u001b[0m\n\u001b[0;32m--> 468\u001b[0;31m         \u001b[0;32mreturn\u001b[0m \u001b[0mparser\u001b[0m\u001b[0;34m.\u001b[0m\u001b[0mread\u001b[0m\u001b[0;34m(\u001b[0m\u001b[0mnrows\u001b[0m\u001b[0;34m)\u001b[0m\u001b[0;34m\u001b[0m\u001b[0;34m\u001b[0m\u001b[0m\n\u001b[0m\u001b[1;32m    469\u001b[0m \u001b[0;34m\u001b[0m\u001b[0m\n\u001b[1;32m    470\u001b[0m \u001b[0;34m\u001b[0m\u001b[0m\n",
      "\u001b[0;32m~/venv/hci/lib/python3.8/site-packages/pandas/io/parsers.py\u001b[0m in \u001b[0;36mread\u001b[0;34m(self, nrows)\u001b[0m\n\u001b[1;32m   1055\u001b[0m     \u001b[0;32mdef\u001b[0m \u001b[0mread\u001b[0m\u001b[0;34m(\u001b[0m\u001b[0mself\u001b[0m\u001b[0;34m,\u001b[0m \u001b[0mnrows\u001b[0m\u001b[0;34m=\u001b[0m\u001b[0;32mNone\u001b[0m\u001b[0;34m)\u001b[0m\u001b[0;34m:\u001b[0m\u001b[0;34m\u001b[0m\u001b[0;34m\u001b[0m\u001b[0m\n\u001b[1;32m   1056\u001b[0m         \u001b[0mnrows\u001b[0m \u001b[0;34m=\u001b[0m \u001b[0mvalidate_integer\u001b[0m\u001b[0;34m(\u001b[0m\u001b[0;34m\"nrows\"\u001b[0m\u001b[0;34m,\u001b[0m \u001b[0mnrows\u001b[0m\u001b[0;34m)\u001b[0m\u001b[0;34m\u001b[0m\u001b[0;34m\u001b[0m\u001b[0m\n\u001b[0;32m-> 1057\u001b[0;31m         \u001b[0mindex\u001b[0m\u001b[0;34m,\u001b[0m \u001b[0mcolumns\u001b[0m\u001b[0;34m,\u001b[0m \u001b[0mcol_dict\u001b[0m \u001b[0;34m=\u001b[0m \u001b[0mself\u001b[0m\u001b[0;34m.\u001b[0m\u001b[0m_engine\u001b[0m\u001b[0;34m.\u001b[0m\u001b[0mread\u001b[0m\u001b[0;34m(\u001b[0m\u001b[0mnrows\u001b[0m\u001b[0;34m)\u001b[0m\u001b[0;34m\u001b[0m\u001b[0;34m\u001b[0m\u001b[0m\n\u001b[0m\u001b[1;32m   1058\u001b[0m \u001b[0;34m\u001b[0m\u001b[0m\n\u001b[1;32m   1059\u001b[0m         \u001b[0;32mif\u001b[0m \u001b[0mindex\u001b[0m \u001b[0;32mis\u001b[0m \u001b[0;32mNone\u001b[0m\u001b[0;34m:\u001b[0m\u001b[0;34m\u001b[0m\u001b[0;34m\u001b[0m\u001b[0m\n",
      "\u001b[0;32m~/venv/hci/lib/python3.8/site-packages/pandas/io/parsers.py\u001b[0m in \u001b[0;36mread\u001b[0;34m(self, nrows)\u001b[0m\n\u001b[1;32m   2059\u001b[0m     \u001b[0;32mdef\u001b[0m \u001b[0mread\u001b[0m\u001b[0;34m(\u001b[0m\u001b[0mself\u001b[0m\u001b[0;34m,\u001b[0m \u001b[0mnrows\u001b[0m\u001b[0;34m=\u001b[0m\u001b[0;32mNone\u001b[0m\u001b[0;34m)\u001b[0m\u001b[0;34m:\u001b[0m\u001b[0;34m\u001b[0m\u001b[0;34m\u001b[0m\u001b[0m\n\u001b[1;32m   2060\u001b[0m         \u001b[0;32mtry\u001b[0m\u001b[0;34m:\u001b[0m\u001b[0;34m\u001b[0m\u001b[0;34m\u001b[0m\u001b[0m\n\u001b[0;32m-> 2061\u001b[0;31m             \u001b[0mdata\u001b[0m \u001b[0;34m=\u001b[0m \u001b[0mself\u001b[0m\u001b[0;34m.\u001b[0m\u001b[0m_reader\u001b[0m\u001b[0;34m.\u001b[0m\u001b[0mread\u001b[0m\u001b[0;34m(\u001b[0m\u001b[0mnrows\u001b[0m\u001b[0;34m)\u001b[0m\u001b[0;34m\u001b[0m\u001b[0;34m\u001b[0m\u001b[0m\n\u001b[0m\u001b[1;32m   2062\u001b[0m         \u001b[0;32mexcept\u001b[0m \u001b[0mStopIteration\u001b[0m\u001b[0;34m:\u001b[0m\u001b[0;34m\u001b[0m\u001b[0;34m\u001b[0m\u001b[0m\n\u001b[1;32m   2063\u001b[0m             \u001b[0;32mif\u001b[0m \u001b[0mself\u001b[0m\u001b[0;34m.\u001b[0m\u001b[0m_first_chunk\u001b[0m\u001b[0;34m:\u001b[0m\u001b[0;34m\u001b[0m\u001b[0;34m\u001b[0m\u001b[0m\n",
      "\u001b[0;32mpandas/_libs/parsers.pyx\u001b[0m in \u001b[0;36mpandas._libs.parsers.TextReader.read\u001b[0;34m()\u001b[0m\n",
      "\u001b[0;32mpandas/_libs/parsers.pyx\u001b[0m in \u001b[0;36mpandas._libs.parsers.TextReader._read_low_memory\u001b[0;34m()\u001b[0m\n",
      "\u001b[0;32mpandas/_libs/parsers.pyx\u001b[0m in \u001b[0;36mpandas._libs.parsers.TextReader._read_rows\u001b[0;34m()\u001b[0m\n",
      "\u001b[0;32mpandas/_libs/parsers.pyx\u001b[0m in \u001b[0;36mpandas._libs.parsers.TextReader._convert_column_data\u001b[0;34m()\u001b[0m\n",
      "\u001b[0;32mpandas/_libs/parsers.pyx\u001b[0m in \u001b[0;36mpandas._libs.parsers.TextReader._convert_tokens\u001b[0;34m()\u001b[0m\n",
      "\u001b[0;32mpandas/_libs/parsers.pyx\u001b[0m in \u001b[0;36mpandas._libs.parsers.TextReader._convert_with_dtype\u001b[0;34m()\u001b[0m\n",
      "\u001b[0;32m~/venv/hci/lib/python3.8/site-packages/pandas/core/dtypes/common.py\u001b[0m in \u001b[0;36mis_categorical_dtype\u001b[0;34m(arr_or_dtype)\u001b[0m\n\u001b[1;32m    535\u001b[0m \u001b[0;34m\u001b[0m\u001b[0m\n\u001b[1;32m    536\u001b[0m \u001b[0;34m\u001b[0m\u001b[0m\n\u001b[0;32m--> 537\u001b[0;31m \u001b[0;32mdef\u001b[0m \u001b[0mis_categorical_dtype\u001b[0m\u001b[0;34m(\u001b[0m\u001b[0marr_or_dtype\u001b[0m\u001b[0;34m)\u001b[0m \u001b[0;34m->\u001b[0m \u001b[0mbool\u001b[0m\u001b[0;34m:\u001b[0m\u001b[0;34m\u001b[0m\u001b[0;34m\u001b[0m\u001b[0m\n\u001b[0m\u001b[1;32m    538\u001b[0m     \"\"\"\n\u001b[1;32m    539\u001b[0m     \u001b[0mCheck\u001b[0m \u001b[0mwhether\u001b[0m \u001b[0man\u001b[0m \u001b[0marray\u001b[0m\u001b[0;34m-\u001b[0m\u001b[0mlike\u001b[0m \u001b[0;32mor\u001b[0m \u001b[0mdtype\u001b[0m \u001b[0;32mis\u001b[0m \u001b[0mof\u001b[0m \u001b[0mthe\u001b[0m \u001b[0mCategorical\u001b[0m \u001b[0mdtype\u001b[0m\u001b[0;34m.\u001b[0m\u001b[0;34m\u001b[0m\u001b[0;34m\u001b[0m\u001b[0m\n",
      "\u001b[0;31mKeyboardInterrupt\u001b[0m: "
     ]
    }
   ],
   "source": [
    "path = './data'\n",
    "columns = {'Unnamed: 1':'Fp1',\n",
    "        'Unnamed: 2':'Fp2',\n",
    "        'Unnamed: 3':'F3',\n",
    "        'Unnamed: 4':'F4',\n",
    "        'Unnamed: 5':'F7',\n",
    "        'Unnamed: 6':'F8',\n",
    "        'Unnamed: 7':'P7',\n",
    "        'Unnamed: 8':'P8'}\n",
    "\n",
    "EEG_audio, EEG_image = dict(), dict()\n",
    "from itertools import product\n",
    "categories = [1,2,3,4,5]\n",
    "blocks = [1,2]\n",
    "for filename in filenames:\n",
    "    participant_id, stimuli = filename.split('-')\n",
    "    stimuli = stimuli.rstrip('.csv')\n",
    "    data = pandas.read_csv(f'{path}/{filename}', dtype={'Marker': str}).rename(columns=columns).drop(columns='timestamps')\n",
    "    print(participant_id, stimuli)\n",
    "    # experiment = dict()\n",
    "    # for (category, block) in product(categories,blocks):\n",
    "        # print(\"   \", category, block)\n",
    "        # section = get_section_from_catblock(data, category=category,block=block)\n",
    "        # experiment[f\"{category}_{block}\"] = section\n",
    "    if(stimuli == 'audio'):\n",
    "        EEG_audio[int(participant_id)] = data\n",
    "    elif(stimuli == 'image'):\n",
    "        EEG_image[int(participant_id)] = data\n",
    "    else:\n",
    "        raise ValueError(f\"Stimuli:{stimuli} is unexpected.\")"
   ]
  },
  {
   "cell_type": "code",
   "execution_count": null,
   "metadata": {
    "tags": []
   },
   "outputs": [],
   "source": [
    "def get_data(eeg_type = 'image', bands = [0,1,2,3,4]):\n",
    "    X = []\n",
    "    y = []\n",
    "    # Gamma BETA ALPHA THETA DELTA\n",
    "    filter_list = [[30,None],[13,30],[8,12],[4,8],[None,4]]\n",
    "    # ids = [33,2,10,12,16]\n",
    "    ids = gt.index.tolist()\n",
    "    for id in ids:\n",
    "        # print('\\n',\"=\"*20,id)\n",
    "        if(eeg_type == 'image'):\n",
    "            raw = dataframe_to_raw(EEG_image[id], sfreq=250)\n",
    "        else:\n",
    "            raw = dataframe_to_raw(EEG_audio[id], sfreq=250)\n",
    "        raw.notch_filter([50,100], verbose=False)\n",
    "        events = mne.find_events(raw, stim_channel='Marker', initial_event=True, verbose=False)\n",
    "        events = np.delete(events,np.argwhere(events[:,2] == 1), axis=0)\n",
    "        if(events.shape[0] != 50):\n",
    "            raise ValueError(f\"Event missing: {events[:,2]}. len(events.shape[0])={events.shape[0]}\")\n",
    "        epochs = mne.Epochs(raw, events, tmin=0.3, tmax=5.8, baseline=(0.3,0.3), verbose=False)\n",
    "        if(epochs.get_data().shape[0] != 50):\n",
    "            raise ValueError(f\"There might be a bad data. epochs.get_data().shape = {epochs.get_data().shape}\")\n",
    "        \n",
    "        for epoch in epochs.iter_evoked():\n",
    "            features = []\n",
    "            for band in bands:\n",
    "                psd,_,_,_ = get_psd(epoch, filter=filter_list[band], returnMean=True)\n",
    "                features.append(psd)\n",
    "                # print(psd,filter_list[band])\n",
    "            # # Gamma (> 30 Hz) \n",
    "            # gamma_psd,_,_,_ = get_psd(epoch, filter=[30,None], returnMean=True)\n",
    "            # # BETA (13-30 Hz)\n",
    "            # beta_psd,_,_,_ = get_psd(epoch, filter=[13,30], returnMean=True)\n",
    "            # # ALPHA (8-12 Hz)\n",
    "            # alpha_psd,_,_,_ = get_psd(epoch, filter=[8,12], returnMean=True)\n",
    "            # # THETA (4-8 Hz)\n",
    "            # thata_psd,_,_,_ = get_psd(epoch, filter=[4,8], returnMean=True)\n",
    "            # # DELTA (< 4 Hz).\n",
    "            # delta_psd,_,_,_ = get_psd(epoch, filter=[None,4], returnMean=True)\n",
    "            # print(gamma_psd.shape,beta_psd.shape,alpha_psd.shape,thata_psd.shape,delta_psd.shape)\n",
    "            # bands = np.array([gamma_psd,beta_psd,alpha_psd,thata_psd,delta_psd]).reshape(-1)\n",
    "            X.append(np.array(features).reshape(-1))\n",
    "            y.append(gt.loc[id]['label'])\n",
    "        # break\n",
    "    X = np.array(X)#.reshape(len(ids),-1)\n",
    "    y = np.array(y)\n",
    "    return X,y\n",
    "# X,y = get_data()\n",
    "\n",
    "def get_acc(X,y):\n",
    "    X_norm = normalize(X)\n",
    "    gnb = GaussianNB()\n",
    "    gnb.fit(X_norm, y)\n",
    "    pred = gnb.predict(X_norm)\n",
    "    acc = sum(y == pred)/len(y)\n",
    "    return acc"
   ]
  },
  {
   "source": [
    "## Grid Search"
   ],
   "cell_type": "markdown",
   "metadata": {}
  },
  {
   "cell_type": "code",
   "execution_count": null,
   "metadata": {},
   "outputs": [],
   "source": [
    "import warnings\n",
    "warnings.filterwarnings(\"ignore\")\n",
    "band_name = np.array(['Gamma','BETA','ALPHA','THETA','DELTA'])"
   ]
  },
  {
   "cell_type": "code",
   "execution_count": null,
   "metadata": {
    "tags": []
   },
   "outputs": [],
   "source": [
    "for eeg_type in ['image','audio']:\n",
    "    for index, comb in enumerate( list(combinations([0,1,2,3,4],1)) ):\n",
    "        print(f\"==== {eeg_type} ====\")\n",
    "        X,y = get_data('audio',comb)\n",
    "        acc = get_acc(X,y)\n",
    "        print(f\"{list(band_name[list(comb)])}:{acc}\")"
   ]
  },
  {
   "cell_type": "code",
   "execution_count": null,
   "metadata": {},
   "outputs": [],
   "source": [
    "for eeg_type in ['image','audio']:\n",
    "    for index, comb in enumerate( list(combinations([0,1,2,3,4],2)) ):\n",
    "        print(f\"==== {eeg_type} ====\")\n",
    "        X,y = get_data('audio',comb)\n",
    "        acc = get_acc(X,y)\n",
    "        print(f\"{list(band_name[list(comb)])}:{acc}\")"
   ]
  },
  {
   "cell_type": "code",
   "execution_count": null,
   "metadata": {},
   "outputs": [],
   "source": [
    "for eeg_type in ['image','audio']:\n",
    "    for index, comb in enumerate( list(combinations([0,1,2,3,4],3)) ):\n",
    "        print(f\"==== {eeg_type} ====\")\n",
    "        X,y = get_data('audio',comb)\n",
    "        acc = get_acc(X,y)\n",
    "        print(f\"{list(band_name[list(comb)])}:{acc}\")"
   ]
  },
  {
   "cell_type": "code",
   "execution_count": null,
   "metadata": {},
   "outputs": [],
   "source": [
    "for eeg_type in ['image','audio']:\n",
    "    for index, comb in enumerate( list(combinations([0,1,2,3,4],4)) ):\n",
    "        print(f\"==== {eeg_type} ====\")\n",
    "        X,y = get_data('audio',comb)\n",
    "        acc = get_acc(X,y)\n",
    "        print(f\"{list(band_name[list(comb)])}:{acc}\")"
   ]
  },
  {
   "cell_type": "code",
   "execution_count": null,
   "metadata": {},
   "outputs": [],
   "source": [
    "for eeg_type in ['image','audio']:\n",
    "    for index, comb in enumerate( list(combinations([0,1,2,3,4],5)) ):\n",
    "        print(f\"==== {eeg_type} ====\")\n",
    "        X,y = get_data('audio',comb)\n",
    "        acc = get_acc(X,y)\n",
    "        print(f\"{list(band_name[list(comb)])}:{acc}\")"
   ]
  },
  {
   "source": [
    "# Plotting"
   ],
   "cell_type": "markdown",
   "metadata": {}
  },
  {
   "cell_type": "code",
   "execution_count": null,
   "metadata": {},
   "outputs": [],
   "source": [
    "# raw = dataframe_to_raw(EEG_image[33], sfreq=250)\n",
    "# raw.notch_filter([50,100])"
   ]
  },
  {
   "cell_type": "code",
   "execution_count": null,
   "metadata": {},
   "outputs": [],
   "source": [
    "# raw.plot_psd()"
   ]
  },
  {
   "cell_type": "code",
   "execution_count": null,
   "metadata": {},
   "outputs": [],
   "source": [
    "# from sklearn import preprocessing\n",
    "# fig, ax = plt.subplots(2, figsize=(30,9))\n",
    "\n",
    "# df = raw.to_data_frame()\n",
    "# time = np.arange(0,len(df)/250, 1/250)\n",
    "\n",
    "# for i,col in enumerate(['Fp1', 'Fp2', 'F3', 'F4', 'F7', 'F8', 'P7', 'P8']):\n",
    "#     ax[0].plot(time,df[col], label=col)\n",
    "# ax[0].set_xlabel('time (second)')\n",
    "# ax[0].set_ylabel('Voltage (uV)')\n",
    "# ax[0].set_title('Original EEG')\n",
    "# ax[0].legend()\n",
    "\n",
    "# x = df.values #returns a numpy array\n",
    "# min_max_scaler = preprocessing.MinMaxScaler()\n",
    "# x_scaled = min_max_scaler.fit_transform(x)\n",
    "# df = pd.DataFrame(x_scaled)\n",
    "\n",
    "# for i,col in enumerate(['Fp1', 'Fp2', 'F3', 'F4', 'F7', 'F8', 'P7', 'P8']):\n",
    "#     # ax.plot(time,df[col], label=col)\n",
    "#     ax[1].plot(time,df[i+1], label=col)\n",
    "# ax[1].set_xlabel('time (second)')\n",
    "# ax[1].set_ylabel('Normalized Voltage')\n",
    "# ax[1].set_title('Normalized EEG')\n",
    "# ax[1].legend()"
   ]
  },
  {
   "cell_type": "code",
   "execution_count": null,
   "metadata": {},
   "outputs": [],
   "source": []
  },
  {
   "cell_type": "code",
   "execution_count": null,
   "metadata": {},
   "outputs": [],
   "source": []
  }
 ]
}