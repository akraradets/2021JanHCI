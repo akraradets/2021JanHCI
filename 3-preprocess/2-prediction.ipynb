{
 "metadata": {
  "orig_nbformat": 2,
  "kernelspec": {
   "name": "hci",
   "display_name": "hci",
   "language": "python"
  }
 },
 "nbformat": 4,
 "nbformat_minor": 2,
 "cells": [
  {
   "cell_type": "code",
   "execution_count": 29,
   "metadata": {},
   "outputs": [],
   "source": [
    "import pandas\n",
    "import numpy as np\n",
    "from utils import *\n",
    "import mne\n",
    "import matplotlib.pyplot as plt\n",
    "from os import walk\n",
    "from sklearn.naive_bayes import GaussianNB\n",
    "from sklearn.preprocessing import normalize\n",
    "from itertools import combinations\n",
    "\n",
    "def get_psd(raw, filter=None, returnMean=False):\n",
    "    raw_copy = raw.copy()\n",
    "    if(filter != None):\n",
    "        raw_copy.filter(filter[0],filter[1], verbose=False)\n",
    "    psd, freq = mne.time_frequency.psd_welch(raw_copy,n_fft = raw_copy.data.shape[1], verbose=False)\n",
    "    psd = 10 * np.log10(psd)\n",
    "    if(returnMean):\n",
    "        psd = psd.mean(axis=1)\n",
    "        if(np.any(np.isnan(psd))):\n",
    "            raise ValueError(f\"value NaN: {psd}\")\n",
    "        if(np.all(np.isfinite(psd)) == False):\n",
    "            raise ValueError(f\"value inifinit: {psd}\")\n",
    "    mean = psd.mean(0)\n",
    "    std = psd.std(0)\n",
    "    return psd, freq, mean, std\n",
    "\n",
    "def get_epoch(raw, verbose=False):\n",
    "    raw_copy = raw.copy()\n",
    "    events = mne.find_events(raw_copy, stim_channel='Marker', initial_event=True, verbose=verbose)\n",
    "    if(len(events) != 5):\n",
    "        raise ValueError(f\"The event is missing. Number of event not equal to 5 ({len(events)}).\\n {events}\")\n",
    "    epochs = mne.Epochs(raw_copy, events, tmin=0.3, tmax=5.5, baseline=(0.3,0.3), verbose=verbose)\n",
    "    if(epochs.get_data().shape[0] != 5):\n",
    "        raise ValueError(f\"There might be a bad data. epochs.get_data().shape = {epochs.get_data().shape}\")\n",
    "    return epochs\n",
    "\n",
    "def plot_psd(raw):\n",
    "    psd, freq, mean, std = get_psd(raw)\n",
    "    fig, ax = plt.subplots(figsize=(10,5))\n",
    "    for i in range(8):\n",
    "        ax.plot(freq,psd[i] ,label=raw.info['ch_names'][i], lw=1, alpha=0.6)\n",
    "    ax.fill_between(250//2, mean - std, mean + std, color='k', alpha=.5)\n",
    "    ax.set_xlabel('Frequency (Hz)')\n",
    "    ax.set_ylabel('Amplitube (dBV)')\n",
    "    ax.set_title('EEG of ')\n",
    "    ax.legend()\n",
    "    plt.show()"
   ]
  },
  {
   "source": [
    "## Groud Truth"
   ],
   "cell_type": "markdown",
   "metadata": {}
  },
  {
   "cell_type": "code",
   "execution_count": 2,
   "metadata": {},
   "outputs": [
    {
     "output_type": "execute_result",
     "data": {
      "text/plain": [
       "       h     e     x     a     c     o  label\n",
       "id                                           \n",
       "2   3.63  3.19  2.94  2.38  3.38  2.38      0\n",
       "3   3.38  3.44  3.50  3.50  4.50  3.81      4\n",
       "4   3.19  3.75  3.69  3.19  2.63  2.63      1\n",
       "5   3.25  3.63  2.13  3.56  3.63  2.31      1\n",
       "6   3.25  2.75  3.50  2.50  3.75  5.00      5\n",
       "7   4.06  3.06  3.38  2.88  2.50  4.19      5\n",
       "8   3.94  2.94  3.19  3.75  3.38  3.81      0\n",
       "9   4.44  4.00  3.38  3.75  3.69  3.31      0\n",
       "10  3.63  3.25  3.50  3.31  3.88  2.69      4\n",
       "11  3.31  4.00  2.25  3.19  2.81  3.19      1\n",
       "12  2.81  3.44  3.13  3.56  3.25  3.75      5\n",
       "13  3.06  3.06  3.00  2.69  3.31  3.44      5\n",
       "14  4.63  3.69  2.25  3.13  2.94  2.63      0\n",
       "15  3.75  2.94  2.94  3.50  4.19  3.19      4\n",
       "16  4.19  4.25  1.88  2.81  3.25  3.81      1\n",
       "17  4.25  3.00  4.00  2.50  3.25  3.25      0\n",
       "18  2.81  3.31  2.06  2.75  3.00  3.19      1\n",
       "20  3.25  3.31  4.31  3.44  2.00  4.25      2\n",
       "21  4.06  3.00  2.88  3.56  3.81  3.81      0\n",
       "22  3.50  3.88  1.88  2.63  3.94  3.69      4\n",
       "23  3.13  4.19  3.00  2.38  2.88  3.88      1\n",
       "25  3.25  3.44  3.75  3.50  3.88  3.44      4\n",
       "26  3.50  3.19  2.44  2.94  2.44  3.25      0\n",
       "27  2.63  3.88  3.81  3.88  3.31  3.88      1\n",
       "28  3.19  4.31  2.19  1.88  2.56  3.25      1\n",
       "29  3.56  4.38  2.06  2.94  3.44  4.56      5\n",
       "30  4.50  3.81  2.44  3.13  2.94  4.31      0\n",
       "31  4.06  3.56  2.63  3.31  3.75  4.06      0\n",
       "32  2.75  3.25  3.75  2.81  3.06  3.31      2\n",
       "33  4.00  3.56  2.38  3.63  3.63  3.19      0\n",
       "34  3.38  2.69  3.69  3.31  3.81  3.50      4\n",
       "35  3.69  3.44  3.56  4.00  3.38  4.38      5\n",
       "36  3.56  4.56  3.31  3.63  4.38  4.31      1"
      ],
      "text/html": "<div>\n<style scoped>\n    .dataframe tbody tr th:only-of-type {\n        vertical-align: middle;\n    }\n\n    .dataframe tbody tr th {\n        vertical-align: top;\n    }\n\n    .dataframe thead th {\n        text-align: right;\n    }\n</style>\n<table border=\"1\" class=\"dataframe\">\n  <thead>\n    <tr style=\"text-align: right;\">\n      <th></th>\n      <th>h</th>\n      <th>e</th>\n      <th>x</th>\n      <th>a</th>\n      <th>c</th>\n      <th>o</th>\n      <th>label</th>\n    </tr>\n    <tr>\n      <th>id</th>\n      <th></th>\n      <th></th>\n      <th></th>\n      <th></th>\n      <th></th>\n      <th></th>\n      <th></th>\n    </tr>\n  </thead>\n  <tbody>\n    <tr>\n      <th>2</th>\n      <td>3.63</td>\n      <td>3.19</td>\n      <td>2.94</td>\n      <td>2.38</td>\n      <td>3.38</td>\n      <td>2.38</td>\n      <td>0</td>\n    </tr>\n    <tr>\n      <th>3</th>\n      <td>3.38</td>\n      <td>3.44</td>\n      <td>3.50</td>\n      <td>3.50</td>\n      <td>4.50</td>\n      <td>3.81</td>\n      <td>4</td>\n    </tr>\n    <tr>\n      <th>4</th>\n      <td>3.19</td>\n      <td>3.75</td>\n      <td>3.69</td>\n      <td>3.19</td>\n      <td>2.63</td>\n      <td>2.63</td>\n      <td>1</td>\n    </tr>\n    <tr>\n      <th>5</th>\n      <td>3.25</td>\n      <td>3.63</td>\n      <td>2.13</td>\n      <td>3.56</td>\n      <td>3.63</td>\n      <td>2.31</td>\n      <td>1</td>\n    </tr>\n    <tr>\n      <th>6</th>\n      <td>3.25</td>\n      <td>2.75</td>\n      <td>3.50</td>\n      <td>2.50</td>\n      <td>3.75</td>\n      <td>5.00</td>\n      <td>5</td>\n    </tr>\n    <tr>\n      <th>7</th>\n      <td>4.06</td>\n      <td>3.06</td>\n      <td>3.38</td>\n      <td>2.88</td>\n      <td>2.50</td>\n      <td>4.19</td>\n      <td>5</td>\n    </tr>\n    <tr>\n      <th>8</th>\n      <td>3.94</td>\n      <td>2.94</td>\n      <td>3.19</td>\n      <td>3.75</td>\n      <td>3.38</td>\n      <td>3.81</td>\n      <td>0</td>\n    </tr>\n    <tr>\n      <th>9</th>\n      <td>4.44</td>\n      <td>4.00</td>\n      <td>3.38</td>\n      <td>3.75</td>\n      <td>3.69</td>\n      <td>3.31</td>\n      <td>0</td>\n    </tr>\n    <tr>\n      <th>10</th>\n      <td>3.63</td>\n      <td>3.25</td>\n      <td>3.50</td>\n      <td>3.31</td>\n      <td>3.88</td>\n      <td>2.69</td>\n      <td>4</td>\n    </tr>\n    <tr>\n      <th>11</th>\n      <td>3.31</td>\n      <td>4.00</td>\n      <td>2.25</td>\n      <td>3.19</td>\n      <td>2.81</td>\n      <td>3.19</td>\n      <td>1</td>\n    </tr>\n    <tr>\n      <th>12</th>\n      <td>2.81</td>\n      <td>3.44</td>\n      <td>3.13</td>\n      <td>3.56</td>\n      <td>3.25</td>\n      <td>3.75</td>\n      <td>5</td>\n    </tr>\n    <tr>\n      <th>13</th>\n      <td>3.06</td>\n      <td>3.06</td>\n      <td>3.00</td>\n      <td>2.69</td>\n      <td>3.31</td>\n      <td>3.44</td>\n      <td>5</td>\n    </tr>\n    <tr>\n      <th>14</th>\n      <td>4.63</td>\n      <td>3.69</td>\n      <td>2.25</td>\n      <td>3.13</td>\n      <td>2.94</td>\n      <td>2.63</td>\n      <td>0</td>\n    </tr>\n    <tr>\n      <th>15</th>\n      <td>3.75</td>\n      <td>2.94</td>\n      <td>2.94</td>\n      <td>3.50</td>\n      <td>4.19</td>\n      <td>3.19</td>\n      <td>4</td>\n    </tr>\n    <tr>\n      <th>16</th>\n      <td>4.19</td>\n      <td>4.25</td>\n      <td>1.88</td>\n      <td>2.81</td>\n      <td>3.25</td>\n      <td>3.81</td>\n      <td>1</td>\n    </tr>\n    <tr>\n      <th>17</th>\n      <td>4.25</td>\n      <td>3.00</td>\n      <td>4.00</td>\n      <td>2.50</td>\n      <td>3.25</td>\n      <td>3.25</td>\n      <td>0</td>\n    </tr>\n    <tr>\n      <th>18</th>\n      <td>2.81</td>\n      <td>3.31</td>\n      <td>2.06</td>\n      <td>2.75</td>\n      <td>3.00</td>\n      <td>3.19</td>\n      <td>1</td>\n    </tr>\n    <tr>\n      <th>20</th>\n      <td>3.25</td>\n      <td>3.31</td>\n      <td>4.31</td>\n      <td>3.44</td>\n      <td>2.00</td>\n      <td>4.25</td>\n      <td>2</td>\n    </tr>\n    <tr>\n      <th>21</th>\n      <td>4.06</td>\n      <td>3.00</td>\n      <td>2.88</td>\n      <td>3.56</td>\n      <td>3.81</td>\n      <td>3.81</td>\n      <td>0</td>\n    </tr>\n    <tr>\n      <th>22</th>\n      <td>3.50</td>\n      <td>3.88</td>\n      <td>1.88</td>\n      <td>2.63</td>\n      <td>3.94</td>\n      <td>3.69</td>\n      <td>4</td>\n    </tr>\n    <tr>\n      <th>23</th>\n      <td>3.13</td>\n      <td>4.19</td>\n      <td>3.00</td>\n      <td>2.38</td>\n      <td>2.88</td>\n      <td>3.88</td>\n      <td>1</td>\n    </tr>\n    <tr>\n      <th>25</th>\n      <td>3.25</td>\n      <td>3.44</td>\n      <td>3.75</td>\n      <td>3.50</td>\n      <td>3.88</td>\n      <td>3.44</td>\n      <td>4</td>\n    </tr>\n    <tr>\n      <th>26</th>\n      <td>3.50</td>\n      <td>3.19</td>\n      <td>2.44</td>\n      <td>2.94</td>\n      <td>2.44</td>\n      <td>3.25</td>\n      <td>0</td>\n    </tr>\n    <tr>\n      <th>27</th>\n      <td>2.63</td>\n      <td>3.88</td>\n      <td>3.81</td>\n      <td>3.88</td>\n      <td>3.31</td>\n      <td>3.88</td>\n      <td>1</td>\n    </tr>\n    <tr>\n      <th>28</th>\n      <td>3.19</td>\n      <td>4.31</td>\n      <td>2.19</td>\n      <td>1.88</td>\n      <td>2.56</td>\n      <td>3.25</td>\n      <td>1</td>\n    </tr>\n    <tr>\n      <th>29</th>\n      <td>3.56</td>\n      <td>4.38</td>\n      <td>2.06</td>\n      <td>2.94</td>\n      <td>3.44</td>\n      <td>4.56</td>\n      <td>5</td>\n    </tr>\n    <tr>\n      <th>30</th>\n      <td>4.50</td>\n      <td>3.81</td>\n      <td>2.44</td>\n      <td>3.13</td>\n      <td>2.94</td>\n      <td>4.31</td>\n      <td>0</td>\n    </tr>\n    <tr>\n      <th>31</th>\n      <td>4.06</td>\n      <td>3.56</td>\n      <td>2.63</td>\n      <td>3.31</td>\n      <td>3.75</td>\n      <td>4.06</td>\n      <td>0</td>\n    </tr>\n    <tr>\n      <th>32</th>\n      <td>2.75</td>\n      <td>3.25</td>\n      <td>3.75</td>\n      <td>2.81</td>\n      <td>3.06</td>\n      <td>3.31</td>\n      <td>2</td>\n    </tr>\n    <tr>\n      <th>33</th>\n      <td>4.00</td>\n      <td>3.56</td>\n      <td>2.38</td>\n      <td>3.63</td>\n      <td>3.63</td>\n      <td>3.19</td>\n      <td>0</td>\n    </tr>\n    <tr>\n      <th>34</th>\n      <td>3.38</td>\n      <td>2.69</td>\n      <td>3.69</td>\n      <td>3.31</td>\n      <td>3.81</td>\n      <td>3.50</td>\n      <td>4</td>\n    </tr>\n    <tr>\n      <th>35</th>\n      <td>3.69</td>\n      <td>3.44</td>\n      <td>3.56</td>\n      <td>4.00</td>\n      <td>3.38</td>\n      <td>4.38</td>\n      <td>5</td>\n    </tr>\n    <tr>\n      <th>36</th>\n      <td>3.56</td>\n      <td>4.56</td>\n      <td>3.31</td>\n      <td>3.63</td>\n      <td>4.38</td>\n      <td>4.31</td>\n      <td>1</td>\n    </tr>\n  </tbody>\n</table>\n</div>"
     },
     "metadata": {},
     "execution_count": 2
    }
   ],
   "source": [
    "plt.style.use('seaborn-whitegrid')\n",
    "\n",
    "df = pandas.read_csv('./HEXACO.csv')\n",
    "# Honesty-Humility\tEmotionality\teXtraversion\tAgreeableness\tConscientiousness\tOpenness to Experience\n",
    "gt = df[['id','Honesty-Humility','Emotionality','eXtraversion','Agreeableness','Conscientiousness','Openness to Experience']].rename(columns={'Honesty-Humility':'h',\n",
    "                                  'Emotionality':'e',\n",
    "                                  'eXtraversion':'x',\n",
    "                                 'Agreeableness':'a',\n",
    "                             'Conscientiousness':'c',\n",
    "                        'Openness to Experience':'o'}).set_index('id')\n",
    "labels = []\n",
    "for i in gt.index:\n",
    "    # print(gt.loc[i], np.argmax(gt[['h','e','x','a','c','o']].loc[i]))\n",
    "    labels.append(np.argmax(gt[['h','e','x','a','c','o']].loc[i]))\n",
    "gt['label'] = labels\n",
    "gt"
   ]
  },
  {
   "source": [
    "## EEG Data"
   ],
   "cell_type": "markdown",
   "metadata": {}
  },
  {
   "cell_type": "code",
   "execution_count": 3,
   "metadata": {},
   "outputs": [
    {
     "output_type": "stream",
     "name": "stdout",
     "text": [
      "['29-audio.csv', '5-audio.csv', '10-audio.csv', '17-audio.csv', '10-image.csv', '14-audio.csv', '33-audio.csv', '31-audio.csv', '9-audio.csv', '20-audio.csv', '6-audio.csv', '13-image.csv', '25-image.csv', '5-image.csv', '14-image.csv', '22-image.csv', '7-image.csv', '23-audio.csv', '28-image.csv', '15-audio.csv', '25-audio.csv', '32-audio.csv', '21-image.csv', '23-image.csv', '2-audio.csv', '36-audio.csv', '26-audio.csv', '12-audio.csv', '3-image.csv', '2-image.csv', '35-image.csv', '12-image.csv', '30-image.csv', '36-image.csv', '27-audio.csv', '15-image.csv', '32-image.csv', '26-image.csv', '8-audio.csv', '34-image.csv', '8-image.csv', '20-image.csv', '9-image.csv', '3-audio.csv', '35-audio.csv', '16-audio.csv', '22-audio.csv', '17-image.csv', '7-audio.csv', '11-audio.csv', '18-image.csv', '27-image.csv', '29-image.csv', '13-audio.csv', '6-image.csv', '30-audio.csv', '21-audio.csv', '31-image.csv', '33-image.csv', '34-audio.csv', '28-audio.csv', '11-image.csv', '16-image.csv', '18-audio.csv']\n"
     ]
    }
   ],
   "source": [
    "path, folders, filenames = next(walk('./data'))\n",
    "print(filenames)"
   ]
  },
  {
   "cell_type": "code",
   "execution_count": 4,
   "metadata": {},
   "outputs": [],
   "source": [
    "gt.drop([11,4,36],inplace=True)\n",
    "\n",
    "filenames.remove('11-audio.csv')\n",
    "filenames.remove('11-image.csv')\n",
    "\n",
    "filenames.remove('36-audio.csv')\n",
    "filenames.remove('36-image.csv')"
   ]
  },
  {
   "cell_type": "code",
   "execution_count": 5,
   "metadata": {
    "tags": []
   },
   "outputs": [
    {
     "output_type": "stream",
     "name": "stdout",
     "text": [
      "29 audio\n",
      "5 audio\n",
      "10 audio\n",
      "17 audio\n",
      "10 image\n",
      "14 audio\n",
      "33 audio\n",
      "31 audio\n",
      "9 audio\n",
      "20 audio\n",
      "6 audio\n",
      "13 image\n",
      "25 image\n",
      "5 image\n",
      "14 image\n",
      "22 image\n",
      "7 image\n",
      "23 audio\n",
      "28 image\n",
      "15 audio\n",
      "25 audio\n",
      "32 audio\n",
      "21 image\n",
      "23 image\n",
      "2 audio\n",
      "26 audio\n",
      "12 audio\n",
      "3 image\n",
      "2 image\n",
      "35 image\n",
      "12 image\n",
      "30 image\n",
      "27 audio\n",
      "15 image\n",
      "32 image\n",
      "26 image\n",
      "8 audio\n",
      "34 image\n",
      "8 image\n",
      "20 image\n",
      "9 image\n",
      "3 audio\n",
      "35 audio\n",
      "16 audio\n",
      "22 audio\n",
      "17 image\n",
      "7 audio\n",
      "18 image\n",
      "27 image\n",
      "29 image\n",
      "13 audio\n",
      "6 image\n",
      "30 audio\n",
      "21 audio\n",
      "31 image\n",
      "33 image\n",
      "34 audio\n",
      "28 audio\n",
      "16 image\n",
      "18 audio\n"
     ]
    }
   ],
   "source": [
    "path = './data'\n",
    "columns = {'Unnamed: 1':'Fp1',\n",
    "        'Unnamed: 2':'Fp2',\n",
    "        'Unnamed: 3':'F3',\n",
    "        'Unnamed: 4':'F4',\n",
    "        'Unnamed: 5':'F7',\n",
    "        'Unnamed: 6':'F8',\n",
    "        'Unnamed: 7':'P7',\n",
    "        'Unnamed: 8':'P8'}\n",
    "\n",
    "EEG_audio, EEG_image = dict(), dict()\n",
    "from itertools import product\n",
    "categories = [1,2,3,4,5]\n",
    "blocks = [1,2]\n",
    "for filename in filenames:\n",
    "    participant_id, stimuli = filename.split('-')\n",
    "    stimuli = stimuli.rstrip('.csv')\n",
    "    data = pandas.read_csv(f'{path}/{filename}', dtype={'Marker': str}).rename(columns=columns).drop(columns='timestamps')\n",
    "    print(participant_id, stimuli)\n",
    "    # experiment = dict()\n",
    "    # for (category, block) in product(categories,blocks):\n",
    "        # print(\"   \", category, block)\n",
    "        # section = get_section_from_catblock(data, category=category,block=block)\n",
    "        # experiment[f\"{category}_{block}\"] = section\n",
    "    if(stimuli == 'audio'):\n",
    "        EEG_audio[int(participant_id)] = data\n",
    "    elif(stimuli == 'image'):\n",
    "        EEG_image[int(participant_id)] = data\n",
    "    else:\n",
    "        raise ValueError(f\"Stimuli:{stimuli} is unexpected.\")"
   ]
  },
  {
   "cell_type": "code",
   "execution_count": 30,
   "metadata": {
    "tags": []
   },
   "outputs": [],
   "source": [
    "def get_data(eeg_type = 'image', bands = [0,1,2,3,4]):\n",
    "    X = []\n",
    "    y = []\n",
    "    # Gamma BETA ALPHA THETA DELTA\n",
    "    filter_list = [[30,None],[13,30],[8,12],[4,8],[None,4]]\n",
    "    # ids = [33,2,10,12,16]\n",
    "    ids = gt.index.tolist()\n",
    "    for id in ids:\n",
    "        # print('\\n',\"=\"*20,id)\n",
    "        if(eeg_type == 'image'):\n",
    "            raw = dataframe_to_raw(EEG_image[id], sfreq=250)\n",
    "        else:\n",
    "            raw = dataframe_to_raw(EEG_audio[id], sfreq=250)\n",
    "        raw.notch_filter([50,100],filter_length='auto', phase='zero', verbose=False) # Line power\n",
    "        raw.filter(1., None, fir_design='firwin', verbose=False) # Slow drift\n",
    "        events = mne.find_events(raw, stim_channel='Marker', initial_event=True, verbose=False)\n",
    "        events = np.delete(events,np.argwhere(events[:,2] == 1), axis=0)\n",
    "        if(events.shape[0] != 50):\n",
    "            raise ValueError(f\"Event missing: {events[:,2]}. len(events.shape[0])={events.shape[0]}\")\n",
    "        epochs = mne.Epochs(raw, events, tmin=0.3, tmax=5.8, baseline=(0.3,0.3), verbose=False)\n",
    "        if(epochs.get_data().shape[0] != 50):\n",
    "            raise ValueError(f\"There might be a bad data. epochs.get_data().shape = {epochs.get_data().shape}\")\n",
    "        \n",
    "        for epoch in epochs.iter_evoked():\n",
    "            features = []\n",
    "            for band in bands:\n",
    "                # print(epoch.data.shape)\n",
    "                psd,_,_,_ = get_psd(epoch, filter=filter_list[band], returnMean=True)\n",
    "                features.append(psd)\n",
    "                # print(psd,filter_list[band])\n",
    "            # # Gamma (> 30 Hz) \n",
    "            # gamma_psd,_,_,_ = get_psd(epoch, filter=[30,None], returnMean=True)\n",
    "            # # BETA (13-30 Hz)\n",
    "            # beta_psd,_,_,_ = get_psd(epoch, filter=[13,30], returnMean=True)\n",
    "            # # ALPHA (8-12 Hz)\n",
    "            # alpha_psd,_,_,_ = get_psd(epoch, filter=[8,12], returnMean=True)\n",
    "            # # THETA (4-8 Hz)\n",
    "            # thata_psd,_,_,_ = get_psd(epoch, filter=[4,8], returnMean=True)\n",
    "            # # DELTA (< 4 Hz).\n",
    "            # delta_psd,_,_,_ = get_psd(epoch, filter=[None,4], returnMean=True)\n",
    "            # print(gamma_psd.shape,beta_psd.shape,alpha_psd.shape,thata_psd.shape,delta_psd.shape)\n",
    "            # bands = np.array([gamma_psd,beta_psd,alpha_psd,thata_psd,delta_psd]).reshape(-1)\n",
    "            X.append(np.array(features).reshape(-1))\n",
    "            y.append(gt.loc[id]['label'])\n",
    "        # break\n",
    "    X = np.array(X)#.reshape(len(ids),-1)\n",
    "    y = np.array(y)\n",
    "    return X,y\n",
    "# X,y = get_data()\n",
    "\n",
    "def get_acc(X,y):\n",
    "    X_norm = normalize(X)\n",
    "    gnb = GaussianNB()\n",
    "    gnb.fit(X_norm, y)  \n",
    "    pred = gnb.predict(X_norm)\n",
    "    acc = sum(y == pred)/len(y)\n",
    "    return acc"
   ]
  },
  {
   "cell_type": "code",
   "execution_count": 18,
   "metadata": {},
   "outputs": [
    {
     "output_type": "stream",
     "name": "stdout",
     "text": [
      "==== image ====\n",
      "['Gamma', 'BETA', 'ALPHA', 'THETA', 'DELTA']:0.454\n",
      "==== audio ====\n",
      "['Gamma', 'BETA', 'ALPHA', 'THETA', 'DELTA']:0.45866666666666667\n"
     ]
    }
   ],
   "source": [
    "# remove slow drift + psd_welch(n_fft=1024)\n",
    "for eeg_type in ['image','audio']:\n",
    "    print(f\"==== {eeg_type} ====\")\n",
    "    X,y = get_data(eeg_type)\n",
    "    acc = get_acc(X,y)\n",
    "    print(f\"{list(band_name[list(comb)])}:{acc}\")"
   ]
  },
  {
   "cell_type": "code",
   "execution_count": 20,
   "metadata": {},
   "outputs": [
    {
     "output_type": "stream",
     "name": "stdout",
     "text": [
      "==== image ====\n",
      "['Gamma', 'BETA', 'ALPHA', 'THETA', 'DELTA']:0.5073333333333333\n",
      "==== audio ====\n",
      "['Gamma', 'BETA', 'ALPHA', 'THETA', 'DELTA']:0.4633333333333333\n"
     ]
    }
   ],
   "source": [
    "# remove slow drift + psd_welch(n_fft=256)\n",
    "for eeg_type in ['image','audio']:\n",
    "    print(f\"==== {eeg_type} ====\")\n",
    "    X,y = get_data(eeg_type)\n",
    "    acc = get_acc(X,y)\n",
    "    print(f\"{list(band_name[list(comb)])}:{acc}\")"
   ]
  },
  {
   "cell_type": "code",
   "execution_count": 22,
   "metadata": {},
   "outputs": [
    {
     "output_type": "stream",
     "name": "stdout",
     "text": [
      "==== image ====\n",
      "['Gamma', 'BETA', 'ALPHA', 'THETA', 'DELTA']:0.5213333333333333\n",
      "==== audio ====\n",
      "['Gamma', 'BETA', 'ALPHA', 'THETA', 'DELTA']:0.4866666666666667\n"
     ]
    }
   ],
   "source": [
    "# remove slow drift + psd_welch(n_fft=128)\n",
    "for eeg_type in ['image','audio']:\n",
    "    print(f\"==== {eeg_type} ====\")\n",
    "    X,y = get_data(eeg_type)\n",
    "    acc = get_acc(X,y)\n",
    "    print(f\"{list(band_name[list(comb)])}:{acc}\")"
   ]
  },
  {
   "cell_type": "code",
   "execution_count": 31,
   "metadata": {},
   "outputs": [
    {
     "output_type": "stream",
     "name": "stdout",
     "text": [
      "==== image ====\n",
      "['Gamma', 'BETA', 'ALPHA', 'THETA', 'DELTA']:0.4513333333333333\n",
      "==== audio ====\n",
      "['Gamma', 'BETA', 'ALPHA', 'THETA', 'DELTA']:0.4633333333333333\n"
     ]
    }
   ],
   "source": [
    "# raw_copy.data.shape[1]\n",
    "for eeg_type in ['image','audio']:\n",
    "    print(f\"==== {eeg_type} ====\")\n",
    "    X,y = get_data(eeg_type)\n",
    "    acc = get_acc(X,y)\n",
    "    print(f\"{list(band_name[list(comb)])}:{acc}\")"
   ]
  },
  {
   "source": [
    "## Grid Search"
   ],
   "cell_type": "markdown",
   "metadata": {}
  },
  {
   "cell_type": "code",
   "execution_count": 7,
   "metadata": {},
   "outputs": [],
   "source": [
    "import warnings\n",
    "warnings.filterwarnings(\"ignore\")\n",
    "band_name = np.array(['Gamma','BETA','ALPHA','THETA','DELTA'])"
   ]
  },
  {
   "cell_type": "code",
   "execution_count": 8,
   "metadata": {
    "tags": []
   },
   "outputs": [
    {
     "output_type": "stream",
     "name": "stdout",
     "text": [
      "==== image ====\n",
      "['Gamma']:0.544\n",
      "['BETA']:0.364\n",
      "['ALPHA']:0.35\n",
      "['THETA']:0.35733333333333334\n",
      "['DELTA']:0.3506666666666667\n",
      "==== audio ====\n",
      "['Gamma']:0.516\n",
      "['BETA']:0.36866666666666664\n",
      "['ALPHA']:0.33666666666666667\n",
      "['THETA']:0.3426666666666667\n",
      "['DELTA']:0.3626666666666667\n"
     ]
    }
   ],
   "source": [
    "for eeg_type in ['image','audio']:\n",
    "    print(f\"==== {eeg_type} ====\")\n",
    "    for index, comb in enumerate( list(combinations([0,1,2,3,4],1)) ):\n",
    "        X,y = get_data(eeg_type,comb)\n",
    "        acc = get_acc(X,y)\n",
    "        print(f\"{list(band_name[list(comb)])}:{acc}\")"
   ]
  },
  {
   "cell_type": "code",
   "execution_count": 9,
   "metadata": {},
   "outputs": [
    {
     "output_type": "stream",
     "name": "stdout",
     "text": [
      "==== image ====\n",
      "['Gamma', 'BETA']:0.514\n",
      "['Gamma', 'ALPHA']:0.4493333333333333\n",
      "['Gamma', 'THETA']:0.42933333333333334\n",
      "['Gamma', 'DELTA']:0.364\n",
      "['BETA', 'ALPHA']:0.37933333333333336\n",
      "['BETA', 'THETA']:0.372\n",
      "['BETA', 'DELTA']:0.3333333333333333\n",
      "['ALPHA', 'THETA']:0.3586666666666667\n",
      "['ALPHA', 'DELTA']:0.32266666666666666\n",
      "['THETA', 'DELTA']:0.3273333333333333\n",
      "==== audio ====\n",
      "['Gamma', 'BETA']:0.52\n",
      "['Gamma', 'ALPHA']:0.4633333333333333\n",
      "['Gamma', 'THETA']:0.43466666666666665\n",
      "['Gamma', 'DELTA']:0.41333333333333333\n",
      "['BETA', 'ALPHA']:0.364\n",
      "['BETA', 'THETA']:0.3446666666666667\n",
      "['BETA', 'DELTA']:0.356\n",
      "['ALPHA', 'THETA']:0.33066666666666666\n",
      "['ALPHA', 'DELTA']:0.36933333333333335\n",
      "['THETA', 'DELTA']:0.3606666666666667\n"
     ]
    }
   ],
   "source": [
    "for eeg_type in ['image','audio']:\n",
    "    print(f\"==== {eeg_type} ====\")\n",
    "    for index, comb in enumerate( list(combinations([0,1,2,3,4],2)) ):\n",
    "        X,y = get_data(eeg_type,comb)\n",
    "        acc = get_acc(X,y)\n",
    "        print(f\"{list(band_name[list(comb)])}:{acc}\")"
   ]
  },
  {
   "cell_type": "code",
   "execution_count": 10,
   "metadata": {},
   "outputs": [
    {
     "output_type": "stream",
     "name": "stdout",
     "text": [
      "==== image ====\n",
      "['Gamma', 'BETA', 'ALPHA']:0.4846666666666667\n",
      "['Gamma', 'BETA', 'THETA']:0.4633333333333333\n",
      "['Gamma', 'BETA', 'DELTA']:0.4166666666666667\n",
      "['Gamma', 'ALPHA', 'THETA']:0.438\n",
      "['Gamma', 'ALPHA', 'DELTA']:0.41733333333333333\n",
      "['Gamma', 'THETA', 'DELTA']:0.4106666666666667\n",
      "['BETA', 'ALPHA', 'THETA']:0.37866666666666665\n",
      "['BETA', 'ALPHA', 'DELTA']:0.34933333333333333\n",
      "['BETA', 'THETA', 'DELTA']:0.33666666666666667\n",
      "['ALPHA', 'THETA', 'DELTA']:0.3393333333333333\n",
      "==== audio ====\n",
      "['Gamma', 'BETA', 'ALPHA']:0.49333333333333335\n",
      "['Gamma', 'BETA', 'THETA']:0.472\n",
      "['Gamma', 'BETA', 'DELTA']:0.462\n",
      "['Gamma', 'ALPHA', 'THETA']:0.43066666666666664\n",
      "['Gamma', 'ALPHA', 'DELTA']:0.4553333333333333\n",
      "['Gamma', 'THETA', 'DELTA']:0.4493333333333333\n",
      "['BETA', 'ALPHA', 'THETA']:0.3506666666666667\n",
      "['BETA', 'ALPHA', 'DELTA']:0.38533333333333336\n",
      "['BETA', 'THETA', 'DELTA']:0.372\n",
      "['ALPHA', 'THETA', 'DELTA']:0.37333333333333335\n"
     ]
    }
   ],
   "source": [
    "for eeg_type in ['image','audio']:\n",
    "    print(f\"==== {eeg_type} ====\")\n",
    "    for index, comb in enumerate( list(combinations([0,1,2,3,4],3)) ):\n",
    "        X,y = get_data(eeg_type,comb)\n",
    "        acc = get_acc(X,y)\n",
    "        print(f\"{list(band_name[list(comb)])}:{acc}\")"
   ]
  },
  {
   "cell_type": "code",
   "execution_count": 11,
   "metadata": {},
   "outputs": [
    {
     "output_type": "stream",
     "name": "stdout",
     "text": [
      "==== image ====\n",
      "['Gamma', 'BETA', 'ALPHA', 'THETA']:0.4573333333333333\n",
      "['Gamma', 'BETA', 'ALPHA', 'DELTA']:0.446\n",
      "['Gamma', 'BETA', 'THETA', 'DELTA']:0.44333333333333336\n",
      "['Gamma', 'ALPHA', 'THETA', 'DELTA']:0.438\n",
      "['BETA', 'ALPHA', 'THETA', 'DELTA']:0.36333333333333334\n",
      "==== audio ====\n",
      "['Gamma', 'BETA', 'ALPHA', 'THETA']:0.468\n",
      "['Gamma', 'BETA', 'ALPHA', 'DELTA']:0.484\n",
      "['Gamma', 'BETA', 'THETA', 'DELTA']:0.47733333333333333\n",
      "['Gamma', 'ALPHA', 'THETA', 'DELTA']:0.45666666666666667\n",
      "['BETA', 'ALPHA', 'THETA', 'DELTA']:0.39666666666666667\n"
     ]
    }
   ],
   "source": [
    "for eeg_type in ['image','audio']:\n",
    "    print(f\"==== {eeg_type} ====\")\n",
    "    for index, comb in enumerate( list(combinations([0,1,2,3,4],4)) ):\n",
    "        X,y = get_data(eeg_type,comb)\n",
    "        acc = get_acc(X,y)\n",
    "        print(f\"{list(band_name[list(comb)])}:{acc}\")"
   ]
  },
  {
   "cell_type": "code",
   "execution_count": 12,
   "metadata": {},
   "outputs": [
    {
     "output_type": "stream",
     "name": "stdout",
     "text": [
      "==== image ====\n",
      "['Gamma', 'BETA', 'ALPHA', 'THETA', 'DELTA']:0.4673333333333333\n",
      "==== audio ====\n",
      "['Gamma', 'BETA', 'ALPHA', 'THETA', 'DELTA']:0.48333333333333334\n"
     ]
    }
   ],
   "source": [
    "for eeg_type in ['image','audio']:\n",
    "    print(f\"==== {eeg_type} ====\")\n",
    "    for index, comb in enumerate( list(combinations([0,1,2,3,4],5)) ):\n",
    "        X,y = get_data(eeg_type,comb)\n",
    "        acc = get_acc(X,y)\n",
    "        print(f\"{list(band_name[list(comb)])}:{acc}\")"
   ]
  },
  {
   "source": [
    "# Plotting"
   ],
   "cell_type": "markdown",
   "metadata": {}
  },
  {
   "cell_type": "code",
   "execution_count": 13,
   "metadata": {},
   "outputs": [],
   "source": [
    "# raw = dataframe_to_raw(EEG_image[33], sfreq=250)\n",
    "# raw.notch_filter([50,100])"
   ]
  },
  {
   "cell_type": "code",
   "execution_count": 14,
   "metadata": {},
   "outputs": [],
   "source": [
    "# raw.plot_psd()"
   ]
  },
  {
   "cell_type": "code",
   "execution_count": 15,
   "metadata": {},
   "outputs": [],
   "source": [
    "# from sklearn import preprocessing\n",
    "# fig, ax = plt.subplots(2, figsize=(30,9))\n",
    "\n",
    "# df = raw.to_data_frame()\n",
    "# time = np.arange(0,len(df)/250, 1/250)\n",
    "\n",
    "# for i,col in enumerate(['Fp1', 'Fp2', 'F3', 'F4', 'F7', 'F8', 'P7', 'P8']):\n",
    "#     ax[0].plot(time,df[col], label=col)\n",
    "# ax[0].set_xlabel('time (second)')\n",
    "# ax[0].set_ylabel('Voltage (uV)')\n",
    "# ax[0].set_title('Original EEG')\n",
    "# ax[0].legend()\n",
    "\n",
    "# x = df.values #returns a numpy array\n",
    "# min_max_scaler = preprocessing.MinMaxScaler()\n",
    "# x_scaled = min_max_scaler.fit_transform(x)\n",
    "# df = pd.DataFrame(x_scaled)\n",
    "\n",
    "# for i,col in enumerate(['Fp1', 'Fp2', 'F3', 'F4', 'F7', 'F8', 'P7', 'P8']):\n",
    "#     # ax.plot(time,df[col], label=col)\n",
    "#     ax[1].plot(time,df[i+1], label=col)\n",
    "# ax[1].set_xlabel('time (second)')\n",
    "# ax[1].set_ylabel('Normalized Voltage')\n",
    "# ax[1].set_title('Normalized EEG')\n",
    "# ax[1].legend()"
   ]
  },
  {
   "cell_type": "code",
   "execution_count": null,
   "metadata": {},
   "outputs": [],
   "source": []
  },
  {
   "cell_type": "code",
   "execution_count": null,
   "metadata": {},
   "outputs": [],
   "source": []
  }
 ]
}