{
 "metadata": {
  "orig_nbformat": 2,
  "kernelspec": {
   "name": "hci",
   "display_name": "hci",
   "language": "python"
  }
 },
 "nbformat": 4,
 "nbformat_minor": 2,
 "cells": [
  {
   "cell_type": "code",
   "execution_count": 1,
   "metadata": {},
   "outputs": [],
   "source": [
    "import pandas\n",
    "import numpy as np\n",
    "from utils import *\n",
    "import mne\n",
    "import matplotlib.pyplot as plt\n",
    "from os import walk\n",
    "from tqdm.notebook import tqdm\n",
    "\n",
    "from sklearn.naive_bayes import GaussianNB\n",
    "from itertools import combinations\n",
    "from mne.time_frequency import tfr_morlet\n",
    "\n",
    "plt.style.use('seaborn-whitegrid')\n",
    "\n",
    "df = pandas.read_csv('./HEXACO.csv')\n",
    "# Honesty-Humility\tEmotionality\teXtraversion\tAgreeableness\tConscientiousness\tOpenness to Experience\n",
    "gt = df[['id','Honesty-Humility','Emotionality','eXtraversion','Agreeableness','Conscientiousness','Openness to Experience']].rename(columns={'Honesty-Humility':'h',\n",
    "                                  'Emotionality':'e',\n",
    "                                  'eXtraversion':'x',\n",
    "                                 'Agreeableness':'a',\n",
    "                             'Conscientiousness':'c',\n",
    "                        'Openness to Experience':'o'}).set_index('id')\n",
    "thold = 3.5\n",
    "gt['lh'] = (gt[['h']] > thold) * 1\n",
    "gt['le'] = (gt[['e']] > thold) * 1\n",
    "gt['lx'] = (gt[['x']] > thold) * 1\n",
    "gt['la'] = (gt[['a']] > thold) * 1\n",
    "gt['lc'] = (gt[['c']] > thold) * 1\n",
    "gt['lo'] = (gt[['o']] > thold) * 1"
   ]
  },
  {
   "cell_type": "code",
   "execution_count": 2,
   "metadata": {},
   "outputs": [],
   "source": [
    "path, folders, filenames = next(walk('./data'))\n",
    "# Exclude these data because of incomplete data\n",
    "gt.drop([11,4,36],inplace=True)\n",
    "\n",
    "filenames.remove('11-audio.csv')\n",
    "filenames.remove('11-image.csv')\n",
    "\n",
    "filenames.remove('36-audio.csv')\n",
    "filenames.remove('36-image.csv')"
   ]
  },
  {
   "cell_type": "code",
   "execution_count": 3,
   "metadata": {},
   "outputs": [
    {
     "output_type": "display_data",
     "data": {
      "text/plain": "  0%|          | 0/60 [00:00<?, ?it/s]",
      "application/vnd.jupyter.widget-view+json": {
       "version_major": 2,
       "version_minor": 0,
       "model_id": "6cd946f54d404d15b4fbb8a36a8d276d"
      }
     },
     "metadata": {}
    }
   ],
   "source": [
    "path = './data'\n",
    "columns = {'Unnamed: 1':'Fp1',\n",
    "        'Unnamed: 2':'Fp2',\n",
    "        'Unnamed: 3':'F3',\n",
    "        'Unnamed: 4':'F4',\n",
    "        'Unnamed: 5':'F7',\n",
    "        'Unnamed: 6':'F8',\n",
    "        'Unnamed: 7':'P7',\n",
    "        'Unnamed: 8':'P8'}\n",
    "\n",
    "EEG_audio, EEG_image = dict(), dict()\n",
    "from itertools import product\n",
    "categories = [1,2,3,4,5]\n",
    "blocks = [1,2]\n",
    "for filename in tqdm(filenames):\n",
    "    participant_id, stimuli = filename.split('-')\n",
    "    stimuli = stimuli.rstrip('.csv')\n",
    "    data = pandas.read_csv(f'{path}/{filename}', dtype={'Marker': str}).rename(columns=columns).drop(columns='timestamps')\n",
    "    # print(participant_id, stimuli)\n",
    "    # experiment = dict()\n",
    "    # for (category, block) in product(categories,blocks):\n",
    "        # print(\"   \", category, block)\n",
    "        # section = get_section_from_catblock(data, category=category,block=block)\n",
    "        # experiment[f\"{category}_{block}\"] = section\n",
    "    if(stimuli == 'audio'):\n",
    "        EEG_audio[int(participant_id)] = data\n",
    "    elif(stimuli == 'image'):\n",
    "        EEG_image[int(participant_id)] = data\n",
    "    else:\n",
    "        raise ValueError(f\"Stimuli:{stimuli} is unexpected.\")"
   ]
  },
  {
   "cell_type": "code",
   "execution_count": 21,
   "metadata": {},
   "outputs": [],
   "source": [
    "# Preprocess data + feature extraction using wavelet 'morlet'\n",
    "def get_data_wt(eeg_type = 'image'):\n",
    "    X = None\n",
    "    # y = []\n",
    "    Y = None\n",
    "    participant_id = []\n",
    "    categories = []\n",
    "    # 'DELTA' 'THETA' 'ALPHA' 'BETA' 'Gamma'\n",
    "    # https://reader.elsevier.com/reader/sd/pii/S0957417410005695?token=99F7CC487CECF9C17E36713347D0F8372A289AC2C6331A2B6C4F272CD34921FD8B418EB417C0F9C3796CEA271FB4455D&originRegion=eu-west-1&originCreation=20210510142445\n",
    "    filter_list = np.array([4,8,13,30,125])\n",
    "    # ids = [33,2,10,12,16]\n",
    "    ids = gt.index.tolist()\n",
    "    for id in tqdm(ids):\n",
    "        # print('\\n',\"=\"*20,id)\n",
    "        if(eeg_type == 'image'):\n",
    "            raw = dataframe_to_raw(EEG_image[id], sfreq=250)\n",
    "        else:\n",
    "            raw = dataframe_to_raw(EEG_audio[id], sfreq=250)\n",
    "\n",
    "        raw.notch_filter([50,100],filter_length='auto', phase='zero', verbose=False) # Line power\n",
    "        raw.filter(1., None, fir_design='firwin', verbose=False) # Slow drift\n",
    "\n",
    "        events = mne.find_events(raw, stim_channel='Marker', initial_event=True, verbose=False)\n",
    "        events = np.delete(events,np.argwhere(events[:,2] == 1), axis=0)\n",
    "        if(events.shape[0] != 50):\n",
    "            raise ValueError(f\"Event missing: {events[:,2]}. len(events.shape[0])={events.shape[0]}\")\n",
    "        epochs = mne.Epochs(raw, events, tmin=0, tmax=5.8, baseline=(0.3,0.3), verbose=False)\n",
    "        if(epochs.get_data().shape[0] != 50):\n",
    "            raise ValueError(f\"There might be a bad data. epochs.get_data().shape = {epochs.get_data().shape}\")\n",
    "\n",
    "        powers = tfr_morlet(epochs, freqs=filter_list, n_cycles=filter_list / 2., return_itc=False, average=False, verbose=False)\n",
    "        # features = np.mean(powers.data, axis=3)\n",
    "        features = powers.data\n",
    "        # print(features.shape) #(50,8,5,)\n",
    "        for e in range(features.shape[0]):\n",
    "            row = np.expand_dims(features[e], axis=0)\n",
    "            row = 10 * np.log10(row)\n",
    "            if(type(X) == type(None)): X = row\n",
    "            else: X = np.concatenate( [X, row ], axis=0 )\n",
    "            # y.append(gt.loc[id]['label'])\n",
    "\n",
    "            label = gt.loc[id][['lh','le','lx','la','lc','lo']].to_numpy()\n",
    "            label = np.expand_dims(label, axis=0)\n",
    "            if(type(Y) == type(None)): Y = label\n",
    "            else: Y = np.concatenate( [Y, label ], axis=0 )\n",
    "            participant_id.append(id)\n",
    "        for e in events[:,2]:\n",
    "            categories.append(str(e)[0])\n",
    "        print(X.shape)\n",
    "            # print(Y.shape)\n",
    "    # y = np.array(y)\n",
    "    return X,Y,np.array(participant_id),np.array(categories)"
   ]
  },
  {
   "cell_type": "code",
   "execution_count": 22,
   "metadata": {},
   "outputs": [
    {
     "output_type": "stream",
     "name": "stdout",
     "text": [
      "{0: 'Fp1-DELTA', 1: 'Fp1-THETA', 2: 'Fp1-ALPHA', 3: 'Fp1-BETA', 4: 'Fp1-Gamma', 5: 'Fp2-DELTA', 6: 'Fp2-THETA', 7: 'Fp2-ALPHA', 8: 'Fp2-BETA', 9: 'Fp2-Gamma', 10: 'F3-DELTA', 11: 'F3-THETA', 12: 'F3-ALPHA', 13: 'F3-BETA', 14: 'F3-Gamma', 15: 'F4-DELTA', 16: 'F4-THETA', 17: 'F4-ALPHA', 18: 'F4-BETA', 19: 'F4-Gamma', 20: 'F7-DELTA', 21: 'F7-THETA', 22: 'F7-ALPHA', 23: 'F7-BETA', 24: 'F7-Gamma', 25: 'F8-DELTA', 26: 'F8-THETA', 27: 'F8-ALPHA', 28: 'F8-BETA', 29: 'F8-Gamma', 30: 'P7-DELTA', 31: 'P7-THETA', 32: 'P7-ALPHA', 33: 'P7-BETA', 34: 'P7-Gamma', 35: 'P8-DELTA', 36: 'P8-THETA', 37: 'P8-ALPHA', 38: 'P8-BETA', 39: 'P8-Gamma'}\n"
     ]
    }
   ],
   "source": [
    "import warnings\n",
    "warnings.filterwarnings(\"ignore\")\n",
    "\n",
    "channels = list(columns.values())\n",
    "band_name = np.array(['DELTA','THETA','ALPHA','BETA','Gamma'])\n",
    "X_head = dict()\n",
    "count = 0\n",
    "for channel in channels:\n",
    "    for band in band_name:\n",
    "        X_head[count] = (f\"{channel}-{band}\")\n",
    "        count += 1\n",
    "print(X_head)"
   ]
  },
  {
   "cell_type": "code",
   "execution_count": 23,
   "metadata": {},
   "outputs": [
    {
     "output_type": "display_data",
     "data": {
      "text/plain": "  0%|          | 0/30 [00:00<?, ?it/s]",
      "application/vnd.jupyter.widget-view+json": {
       "version_major": 2,
       "version_minor": 0,
       "model_id": "1d5200d2efdb433f93bf16d02a985509"
      }
     },
     "metadata": {}
    },
    {
     "output_type": "stream",
     "name": "stdout",
     "text": [
      "(50, 8, 5, 1451)\n",
      "(100, 8, 5, 1451)\n",
      "(150, 8, 5, 1451)\n",
      "(200, 8, 5, 1451)\n",
      "(250, 8, 5, 1451)\n",
      "(300, 8, 5, 1451)\n",
      "(350, 8, 5, 1451)\n",
      "(400, 8, 5, 1451)\n",
      "(450, 8, 5, 1451)\n",
      "(500, 8, 5, 1451)\n",
      "(550, 8, 5, 1451)\n",
      "(600, 8, 5, 1451)\n",
      "(650, 8, 5, 1451)\n",
      "(700, 8, 5, 1451)\n",
      "(750, 8, 5, 1451)\n",
      "(800, 8, 5, 1451)\n",
      "(850, 8, 5, 1451)\n",
      "(900, 8, 5, 1451)\n",
      "(950, 8, 5, 1451)\n",
      "(1000, 8, 5, 1451)\n",
      "(1050, 8, 5, 1451)\n",
      "(1100, 8, 5, 1451)\n",
      "(1150, 8, 5, 1451)\n",
      "(1200, 8, 5, 1451)\n",
      "(1250, 8, 5, 1451)\n",
      "(1300, 8, 5, 1451)\n",
      "(1350, 8, 5, 1451)\n",
      "(1400, 8, 5, 1451)\n",
      "(1450, 8, 5, 1451)\n",
      "(1500, 8, 5, 1451)\n",
      "(1500, 8, 5, 1451) (1500, 6) (1500,) (1500,)\n"
     ]
    },
    {
     "output_type": "display_data",
     "data": {
      "text/plain": "  0%|          | 0/30 [00:00<?, ?it/s]",
      "application/vnd.jupyter.widget-view+json": {
       "version_major": 2,
       "version_minor": 0,
       "model_id": "d57c2f9ed32841febcccdaf3d32d6f67"
      }
     },
     "metadata": {}
    },
    {
     "output_type": "stream",
     "name": "stdout",
     "text": [
      "(50, 8, 5, 1451)\n",
      "(100, 8, 5, 1451)\n",
      "(150, 8, 5, 1451)\n",
      "(200, 8, 5, 1451)\n",
      "(250, 8, 5, 1451)\n",
      "(300, 8, 5, 1451)\n",
      "(350, 8, 5, 1451)\n",
      "(400, 8, 5, 1451)\n",
      "(450, 8, 5, 1451)\n",
      "(500, 8, 5, 1451)\n",
      "(550, 8, 5, 1451)\n",
      "(600, 8, 5, 1451)\n",
      "(650, 8, 5, 1451)\n",
      "(700, 8, 5, 1451)\n",
      "(750, 8, 5, 1451)\n",
      "(800, 8, 5, 1451)\n",
      "(850, 8, 5, 1451)\n",
      "(900, 8, 5, 1451)\n",
      "(950, 8, 5, 1451)\n",
      "(1000, 8, 5, 1451)\n",
      "(1050, 8, 5, 1451)\n",
      "(1100, 8, 5, 1451)\n",
      "(1150, 8, 5, 1451)\n",
      "(1200, 8, 5, 1451)\n",
      "(1250, 8, 5, 1451)\n",
      "(1300, 8, 5, 1451)\n",
      "(1350, 8, 5, 1451)\n",
      "(1400, 8, 5, 1451)\n",
      "(1450, 8, 5, 1451)\n",
      "(1500, 8, 5, 1451)\n",
      "(1500, 8, 5, 1451) (1500, 6) (1500,) (1500,)\n"
     ]
    }
   ],
   "source": [
    "import pickle\n",
    "for eeg_type in ['image','audio']:\n",
    "    X,Y,participant_id,categories = get_data_wt(eeg_type)\n",
    "    data = {\"Y\":Y, \"part_id\":participant_id, \"cat\":categories}\n",
    "    print(X.shape,Y.shape,participant_id.shape,categories.shape)\n",
    "    with open(f'data_extract_raw/{eeg_type}_X.pickle', 'wb') as handle:\n",
    "        pickle.dump(X, handle, protocol=pickle.HIGHEST_PROTOCOL)\n",
    "    with open(f'data_extract_raw/{eeg_type}_data.pickle', 'wb') as handle:\n",
    "        pickle.dump(data, handle, protocol=pickle.HIGHEST_PROTOCOL)"
   ]
  },
  {
   "cell_type": "code",
   "execution_count": 9,
   "metadata": {},
   "outputs": [
    {
     "output_type": "execute_result",
     "data": {
      "text/plain": [
       "          0          1          2          3          4          5      \\\n",
       "0    -77.376939 -76.827312 -76.295049 -75.781008 -75.285939 -74.810491   \n",
       "1    -93.707040 -93.459220 -93.224377 -93.001355 -92.789036 -92.586364   \n",
       "2    -76.857225 -76.857637 -76.882954 -76.932623 -77.005993 -77.102299   \n",
       "3    -86.382559 -86.349949 -86.343750 -86.363837 -86.410073 -86.482310   \n",
       "4    -93.430395 -93.262254 -93.098473 -92.939260 -92.785156 -92.637008   \n",
       "...         ...        ...        ...        ...        ...        ...   \n",
       "1495 -91.486104 -91.118980 -90.775145 -90.454684 -90.157690 -89.884256   \n",
       "1496 -80.837250 -80.758952 -80.707933 -80.684114 -80.687410 -80.717718   \n",
       "1497 -84.479651 -84.410646 -84.357065 -84.317655 -84.291071 -84.275883   \n",
       "1498 -82.087909 -82.127718 -82.193493 -82.284590 -82.400239 -82.539523   \n",
       "1499 -80.592384 -80.622002 -80.674534 -80.748572 -80.842498 -80.954458   \n",
       "\n",
       "          6          7          8          9      ...       58030       58031  \\\n",
       "0    -74.355215 -73.920577 -73.506956 -73.114660  ... -119.493397 -119.753710   \n",
       "1    -92.392376 -92.206233 -92.027242 -91.854884  ... -125.561423 -123.845042   \n",
       "2    -77.220647 -77.359983 -77.519080 -77.696500  ... -114.859311 -114.285641   \n",
       "3    -86.580380 -86.704094 -86.853243 -87.027586  ... -112.640844 -112.489836   \n",
       "4    -92.495938 -92.363294 -92.240595 -92.129483  ... -118.571094 -118.441801   \n",
       "...         ...        ...        ...        ...  ...         ...         ...   \n",
       "1495 -89.634474 -89.408432 -89.206206 -89.027857  ... -124.238968 -122.535521   \n",
       "1496 -80.774924 -80.858896 -80.969484 -81.106520  ... -109.277858 -108.878650   \n",
       "1497 -84.270574 -84.273544 -84.283120 -84.297569  ... -108.798060 -108.757893   \n",
       "1498 -82.701360 -82.884472 -83.087362 -83.308279  ... -135.739766 -137.165012   \n",
       "1499 -81.082352 -81.223816 -81.376212 -81.536639  ... -157.708824 -162.072516   \n",
       "\n",
       "           58032       58033       58034       58035       58036       58037  \\\n",
       "0    -120.041524 -120.357253 -120.701013 -121.073340 -121.474437 -121.904974   \n",
       "1    -122.472105 -121.344799 -120.401526 -119.604238 -118.925068 -118.345582   \n",
       "2    -113.766125 -113.297300 -112.875326 -112.497765 -112.161876 -111.865937   \n",
       "3    -112.362132 -112.257866 -112.176761 -112.118891 -112.083972 -112.072102   \n",
       "4    -118.318086 -118.202412 -118.096235 -118.001579 -117.919724 -117.852277   \n",
       "...          ...         ...         ...         ...         ...         ...   \n",
       "1495 -121.179291 -120.071085 -119.150010 -118.377138 -117.724898 -117.174292   \n",
       "1496 -108.510407 -108.172726 -107.864874 -107.586600 -107.337243 -107.116654   \n",
       "1497 -108.741912 -108.749466 -108.779730 -108.832191 -108.906188 -109.001347   \n",
       "1498 -139.068459 -141.731890 -145.925862 -155.054359 -155.654213 -145.767023   \n",
       "1499 -149.837785 -144.520910 -141.006739 -138.380329 -136.287057 -134.564658   \n",
       "\n",
       "           58038       58039  \n",
       "0    -122.365095 -122.855713  \n",
       "1    -117.850855 -117.430721  \n",
       "2    -111.607858 -111.386413  \n",
       "3    -112.082986 -112.116696  \n",
       "4    -117.800276 -117.765079  \n",
       "...          ...         ...  \n",
       "1495 -116.710606 -116.323049  \n",
       "1496 -106.924255 -106.759967  \n",
       "1497 -109.117052 -109.253135  \n",
       "1498 -141.206829 -138.223097  \n",
       "1499 -133.112120 -131.873061  \n",
       "\n",
       "[1500 rows x 58040 columns]"
      ],
      "text/html": "<div>\n<style scoped>\n    .dataframe tbody tr th:only-of-type {\n        vertical-align: middle;\n    }\n\n    .dataframe tbody tr th {\n        vertical-align: top;\n    }\n\n    .dataframe thead th {\n        text-align: right;\n    }\n</style>\n<table border=\"1\" class=\"dataframe\">\n  <thead>\n    <tr style=\"text-align: right;\">\n      <th></th>\n      <th>0</th>\n      <th>1</th>\n      <th>2</th>\n      <th>3</th>\n      <th>4</th>\n      <th>5</th>\n      <th>6</th>\n      <th>7</th>\n      <th>8</th>\n      <th>9</th>\n      <th>...</th>\n      <th>58030</th>\n      <th>58031</th>\n      <th>58032</th>\n      <th>58033</th>\n      <th>58034</th>\n      <th>58035</th>\n      <th>58036</th>\n      <th>58037</th>\n      <th>58038</th>\n      <th>58039</th>\n    </tr>\n  </thead>\n  <tbody>\n    <tr>\n      <th>0</th>\n      <td>-77.376939</td>\n      <td>-76.827312</td>\n      <td>-76.295049</td>\n      <td>-75.781008</td>\n      <td>-75.285939</td>\n      <td>-74.810491</td>\n      <td>-74.355215</td>\n      <td>-73.920577</td>\n      <td>-73.506956</td>\n      <td>-73.114660</td>\n      <td>...</td>\n      <td>-119.493397</td>\n      <td>-119.753710</td>\n      <td>-120.041524</td>\n      <td>-120.357253</td>\n      <td>-120.701013</td>\n      <td>-121.073340</td>\n      <td>-121.474437</td>\n      <td>-121.904974</td>\n      <td>-122.365095</td>\n      <td>-122.855713</td>\n    </tr>\n    <tr>\n      <th>1</th>\n      <td>-93.707040</td>\n      <td>-93.459220</td>\n      <td>-93.224377</td>\n      <td>-93.001355</td>\n      <td>-92.789036</td>\n      <td>-92.586364</td>\n      <td>-92.392376</td>\n      <td>-92.206233</td>\n      <td>-92.027242</td>\n      <td>-91.854884</td>\n      <td>...</td>\n      <td>-125.561423</td>\n      <td>-123.845042</td>\n      <td>-122.472105</td>\n      <td>-121.344799</td>\n      <td>-120.401526</td>\n      <td>-119.604238</td>\n      <td>-118.925068</td>\n      <td>-118.345582</td>\n      <td>-117.850855</td>\n      <td>-117.430721</td>\n    </tr>\n    <tr>\n      <th>2</th>\n      <td>-76.857225</td>\n      <td>-76.857637</td>\n      <td>-76.882954</td>\n      <td>-76.932623</td>\n      <td>-77.005993</td>\n      <td>-77.102299</td>\n      <td>-77.220647</td>\n      <td>-77.359983</td>\n      <td>-77.519080</td>\n      <td>-77.696500</td>\n      <td>...</td>\n      <td>-114.859311</td>\n      <td>-114.285641</td>\n      <td>-113.766125</td>\n      <td>-113.297300</td>\n      <td>-112.875326</td>\n      <td>-112.497765</td>\n      <td>-112.161876</td>\n      <td>-111.865937</td>\n      <td>-111.607858</td>\n      <td>-111.386413</td>\n    </tr>\n    <tr>\n      <th>3</th>\n      <td>-86.382559</td>\n      <td>-86.349949</td>\n      <td>-86.343750</td>\n      <td>-86.363837</td>\n      <td>-86.410073</td>\n      <td>-86.482310</td>\n      <td>-86.580380</td>\n      <td>-86.704094</td>\n      <td>-86.853243</td>\n      <td>-87.027586</td>\n      <td>...</td>\n      <td>-112.640844</td>\n      <td>-112.489836</td>\n      <td>-112.362132</td>\n      <td>-112.257866</td>\n      <td>-112.176761</td>\n      <td>-112.118891</td>\n      <td>-112.083972</td>\n      <td>-112.072102</td>\n      <td>-112.082986</td>\n      <td>-112.116696</td>\n    </tr>\n    <tr>\n      <th>4</th>\n      <td>-93.430395</td>\n      <td>-93.262254</td>\n      <td>-93.098473</td>\n      <td>-92.939260</td>\n      <td>-92.785156</td>\n      <td>-92.637008</td>\n      <td>-92.495938</td>\n      <td>-92.363294</td>\n      <td>-92.240595</td>\n      <td>-92.129483</td>\n      <td>...</td>\n      <td>-118.571094</td>\n      <td>-118.441801</td>\n      <td>-118.318086</td>\n      <td>-118.202412</td>\n      <td>-118.096235</td>\n      <td>-118.001579</td>\n      <td>-117.919724</td>\n      <td>-117.852277</td>\n      <td>-117.800276</td>\n      <td>-117.765079</td>\n    </tr>\n    <tr>\n      <th>...</th>\n      <td>...</td>\n      <td>...</td>\n      <td>...</td>\n      <td>...</td>\n      <td>...</td>\n      <td>...</td>\n      <td>...</td>\n      <td>...</td>\n      <td>...</td>\n      <td>...</td>\n      <td>...</td>\n      <td>...</td>\n      <td>...</td>\n      <td>...</td>\n      <td>...</td>\n      <td>...</td>\n      <td>...</td>\n      <td>...</td>\n      <td>...</td>\n      <td>...</td>\n      <td>...</td>\n    </tr>\n    <tr>\n      <th>1495</th>\n      <td>-91.486104</td>\n      <td>-91.118980</td>\n      <td>-90.775145</td>\n      <td>-90.454684</td>\n      <td>-90.157690</td>\n      <td>-89.884256</td>\n      <td>-89.634474</td>\n      <td>-89.408432</td>\n      <td>-89.206206</td>\n      <td>-89.027857</td>\n      <td>...</td>\n      <td>-124.238968</td>\n      <td>-122.535521</td>\n      <td>-121.179291</td>\n      <td>-120.071085</td>\n      <td>-119.150010</td>\n      <td>-118.377138</td>\n      <td>-117.724898</td>\n      <td>-117.174292</td>\n      <td>-116.710606</td>\n      <td>-116.323049</td>\n    </tr>\n    <tr>\n      <th>1496</th>\n      <td>-80.837250</td>\n      <td>-80.758952</td>\n      <td>-80.707933</td>\n      <td>-80.684114</td>\n      <td>-80.687410</td>\n      <td>-80.717718</td>\n      <td>-80.774924</td>\n      <td>-80.858896</td>\n      <td>-80.969484</td>\n      <td>-81.106520</td>\n      <td>...</td>\n      <td>-109.277858</td>\n      <td>-108.878650</td>\n      <td>-108.510407</td>\n      <td>-108.172726</td>\n      <td>-107.864874</td>\n      <td>-107.586600</td>\n      <td>-107.337243</td>\n      <td>-107.116654</td>\n      <td>-106.924255</td>\n      <td>-106.759967</td>\n    </tr>\n    <tr>\n      <th>1497</th>\n      <td>-84.479651</td>\n      <td>-84.410646</td>\n      <td>-84.357065</td>\n      <td>-84.317655</td>\n      <td>-84.291071</td>\n      <td>-84.275883</td>\n      <td>-84.270574</td>\n      <td>-84.273544</td>\n      <td>-84.283120</td>\n      <td>-84.297569</td>\n      <td>...</td>\n      <td>-108.798060</td>\n      <td>-108.757893</td>\n      <td>-108.741912</td>\n      <td>-108.749466</td>\n      <td>-108.779730</td>\n      <td>-108.832191</td>\n      <td>-108.906188</td>\n      <td>-109.001347</td>\n      <td>-109.117052</td>\n      <td>-109.253135</td>\n    </tr>\n    <tr>\n      <th>1498</th>\n      <td>-82.087909</td>\n      <td>-82.127718</td>\n      <td>-82.193493</td>\n      <td>-82.284590</td>\n      <td>-82.400239</td>\n      <td>-82.539523</td>\n      <td>-82.701360</td>\n      <td>-82.884472</td>\n      <td>-83.087362</td>\n      <td>-83.308279</td>\n      <td>...</td>\n      <td>-135.739766</td>\n      <td>-137.165012</td>\n      <td>-139.068459</td>\n      <td>-141.731890</td>\n      <td>-145.925862</td>\n      <td>-155.054359</td>\n      <td>-155.654213</td>\n      <td>-145.767023</td>\n      <td>-141.206829</td>\n      <td>-138.223097</td>\n    </tr>\n    <tr>\n      <th>1499</th>\n      <td>-80.592384</td>\n      <td>-80.622002</td>\n      <td>-80.674534</td>\n      <td>-80.748572</td>\n      <td>-80.842498</td>\n      <td>-80.954458</td>\n      <td>-81.082352</td>\n      <td>-81.223816</td>\n      <td>-81.376212</td>\n      <td>-81.536639</td>\n      <td>...</td>\n      <td>-157.708824</td>\n      <td>-162.072516</td>\n      <td>-149.837785</td>\n      <td>-144.520910</td>\n      <td>-141.006739</td>\n      <td>-138.380329</td>\n      <td>-136.287057</td>\n      <td>-134.564658</td>\n      <td>-133.112120</td>\n      <td>-131.873061</td>\n    </tr>\n  </tbody>\n</table>\n<p>1500 rows × 58040 columns</p>\n</div>"
     },
     "metadata": {},
     "execution_count": 9
    }
   ],
   "source": []
  }
 ]
}