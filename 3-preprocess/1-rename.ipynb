{
 "metadata": {
  "language_info": {
   "codemirror_mode": {
    "name": "ipython",
    "version": 3
   },
   "file_extension": ".py",
   "mimetype": "text/x-python",
   "name": "python",
   "nbconvert_exporter": "python",
   "pygments_lexer": "ipython3",
   "version": "3.8.5"
  },
  "orig_nbformat": 2,
  "kernelspec": {
   "name": "hci",
   "display_name": "hci",
   "language": "python"
  }
 },
 "nbformat": 4,
 "nbformat_minor": 2,
 "cells": [
  {
   "cell_type": "code",
   "execution_count": 22,
   "metadata": {},
   "outputs": [
    {
     "output_type": "stream",
     "name": "stdout",
     "text": [
      "./data\n"
     ]
    },
    {
     "output_type": "execute_result",
     "data": {
      "text/plain": [
       "32.0"
      ]
     },
     "metadata": {},
     "execution_count": 22
    }
   ],
   "source": [
    "from os import walk\n",
    "path, folders, filenames = next(walk('./data'))\n",
    "print(path)\n",
    "len(filenames)/2"
   ]
  },
  {
   "cell_type": "code",
   "execution_count": 23,
   "metadata": {},
   "outputs": [],
   "source": [
    "import shutil\n",
    "for f in filenames:\n",
    "    curr_name = f\"{path}/{f}\"\n",
    "    # print(curr_name)\n",
    "    \n",
    "    no, name, _, _, _ = f.split('-')\n",
    "    dtype = name.split('_')[1]\n",
    "    if(dtype == 'sound'):\n",
    "        dtype = 'audio'\n",
    "    new_name = f\"./rename_data/{no}-{dtype}.csv\"\n",
    "    # print(new_name)\n",
    "    # os.rename(curr_name, new_name)\n",
    "    shutil.copyfile(curr_name, new_name)"
   ]
  },
  {
   "cell_type": "code",
   "execution_count": 24,
   "metadata": {},
   "outputs": [
    {
     "output_type": "execute_result",
     "data": {
      "text/plain": [
       "32.0"
      ]
     },
     "metadata": {},
     "execution_count": 24
    }
   ],
   "source": [
    "from os import walk\n",
    "path, folders, filenames = next(walk('./rename_data'))\n",
    "# print(path)\n",
    "len(filenames)/2"
   ]
  }
 ]
}