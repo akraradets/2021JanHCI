{
 "metadata": {
  "orig_nbformat": 2,
  "kernelspec": {
   "name": "hci",
   "display_name": "hci",
   "language": "python"
  }
 },
 "nbformat": 4,
 "nbformat_minor": 2,
 "cells": [
  {
   "source": [
    "# Predicting personality (HEXACO) using emotional EEG"
   ],
   "cell_type": "markdown",
   "metadata": {}
  },
  {
   "cell_type": "code",
   "execution_count": 16,
   "metadata": {},
   "outputs": [],
   "source": [
    "import pandas\n",
    "import numpy as np\n",
    "from utils import *\n",
    "import mne\n",
    "import matplotlib.pyplot as plt\n",
    "from os import walk\n",
    "from tqdm.notebook import tqdm\n",
    "\n",
    "from sklearn.naive_bayes import GaussianNB\n",
    "from itertools import combinations\n",
    "from mne.time_frequency import tfr_morlet\n",
    "\n",
    "plt.style.use('seaborn-whitegrid')"
   ]
  },
  {
   "source": [
    "# Load Hexaco result. Our Groud Truth"
   ],
   "cell_type": "markdown",
   "metadata": {}
  },
  {
   "cell_type": "code",
   "execution_count": 17,
   "metadata": {},
   "outputs": [
    {
     "output_type": "execute_result",
     "data": {
      "text/plain": [
       "       h     e     x     a     c     o  lh  le  lx  la  lc  lo\n",
       "id                                                            \n",
       "2   3.63  3.19  2.94  2.38  3.38  2.38   1   0   0   0   0   0\n",
       "3   3.38  3.44  3.50  3.50  4.50  3.81   0   0   0   0   1   1\n",
       "4   3.19  3.75  3.69  3.19  2.63  2.63   0   1   1   0   0   0\n",
       "5   3.25  3.63  2.13  3.56  3.63  2.31   0   1   0   1   1   0\n",
       "6   3.25  2.75  3.50  2.50  3.75  5.00   0   0   0   0   1   1\n",
       "7   4.06  3.06  3.38  2.88  2.50  4.19   1   0   0   0   0   1\n",
       "8   3.94  2.94  3.19  3.75  3.38  3.81   1   0   0   1   0   1\n",
       "9   4.44  4.00  3.38  3.75  3.69  3.31   1   1   0   1   1   0\n",
       "10  3.63  3.25  3.50  3.31  3.88  2.69   1   0   0   0   1   0\n",
       "11  3.31  4.00  2.25  3.19  2.81  3.19   0   1   0   0   0   0\n",
       "12  2.81  3.44  3.13  3.56  3.25  3.75   0   0   0   1   0   1\n",
       "13  3.06  3.06  3.00  2.69  3.31  3.44   0   0   0   0   0   0\n",
       "14  4.63  3.69  2.25  3.13  2.94  2.63   1   1   0   0   0   0\n",
       "15  3.75  2.94  2.94  3.50  4.19  3.19   1   0   0   0   1   0\n",
       "16  4.19  4.25  1.88  2.81  3.25  3.81   1   1   0   0   0   1\n",
       "17  4.25  3.00  4.00  2.50  3.25  3.25   1   0   1   0   0   0\n",
       "18  2.81  3.31  2.06  2.75  3.00  3.19   0   0   0   0   0   0\n",
       "20  3.25  3.31  4.31  3.44  2.00  4.25   0   0   1   0   0   1\n",
       "21  4.06  3.00  2.88  3.56  3.81  3.81   1   0   0   1   1   1\n",
       "22  3.50  3.88  1.88  2.63  3.94  3.69   0   1   0   0   1   1\n",
       "23  3.13  4.19  3.00  2.38  2.88  3.88   0   1   0   0   0   1\n",
       "25  3.25  3.44  3.75  3.50  3.88  3.44   0   0   1   0   1   0\n",
       "26  3.50  3.19  2.44  2.94  2.44  3.25   0   0   0   0   0   0\n",
       "27  2.63  3.88  3.81  3.88  3.31  3.88   0   1   1   1   0   1\n",
       "28  3.19  4.31  2.19  1.88  2.56  3.25   0   1   0   0   0   0\n",
       "29  3.56  4.38  2.06  2.94  3.44  4.56   1   1   0   0   0   1\n",
       "30  4.50  3.81  2.44  3.13  2.94  4.31   1   1   0   0   0   1\n",
       "31  4.06  3.56  2.63  3.31  3.75  4.06   1   1   0   0   1   1\n",
       "32  2.75  3.25  3.75  2.81  3.06  3.31   0   0   1   0   0   0\n",
       "33  4.00  3.56  2.38  3.63  3.63  3.19   1   1   0   1   1   0\n",
       "34  3.38  2.69  3.69  3.31  3.81  3.50   0   0   1   0   1   0\n",
       "35  3.69  3.44  3.56  4.00  3.38  4.38   1   0   1   1   0   1\n",
       "36  3.56  4.56  3.31  3.63  4.38  4.31   1   1   0   1   1   1"
      ],
      "text/html": "<div>\n<style scoped>\n    .dataframe tbody tr th:only-of-type {\n        vertical-align: middle;\n    }\n\n    .dataframe tbody tr th {\n        vertical-align: top;\n    }\n\n    .dataframe thead th {\n        text-align: right;\n    }\n</style>\n<table border=\"1\" class=\"dataframe\">\n  <thead>\n    <tr style=\"text-align: right;\">\n      <th></th>\n      <th>h</th>\n      <th>e</th>\n      <th>x</th>\n      <th>a</th>\n      <th>c</th>\n      <th>o</th>\n      <th>lh</th>\n      <th>le</th>\n      <th>lx</th>\n      <th>la</th>\n      <th>lc</th>\n      <th>lo</th>\n    </tr>\n    <tr>\n      <th>id</th>\n      <th></th>\n      <th></th>\n      <th></th>\n      <th></th>\n      <th></th>\n      <th></th>\n      <th></th>\n      <th></th>\n      <th></th>\n      <th></th>\n      <th></th>\n      <th></th>\n    </tr>\n  </thead>\n  <tbody>\n    <tr>\n      <th>2</th>\n      <td>3.63</td>\n      <td>3.19</td>\n      <td>2.94</td>\n      <td>2.38</td>\n      <td>3.38</td>\n      <td>2.38</td>\n      <td>1</td>\n      <td>0</td>\n      <td>0</td>\n      <td>0</td>\n      <td>0</td>\n      <td>0</td>\n    </tr>\n    <tr>\n      <th>3</th>\n      <td>3.38</td>\n      <td>3.44</td>\n      <td>3.50</td>\n      <td>3.50</td>\n      <td>4.50</td>\n      <td>3.81</td>\n      <td>0</td>\n      <td>0</td>\n      <td>0</td>\n      <td>0</td>\n      <td>1</td>\n      <td>1</td>\n    </tr>\n    <tr>\n      <th>4</th>\n      <td>3.19</td>\n      <td>3.75</td>\n      <td>3.69</td>\n      <td>3.19</td>\n      <td>2.63</td>\n      <td>2.63</td>\n      <td>0</td>\n      <td>1</td>\n      <td>1</td>\n      <td>0</td>\n      <td>0</td>\n      <td>0</td>\n    </tr>\n    <tr>\n      <th>5</th>\n      <td>3.25</td>\n      <td>3.63</td>\n      <td>2.13</td>\n      <td>3.56</td>\n      <td>3.63</td>\n      <td>2.31</td>\n      <td>0</td>\n      <td>1</td>\n      <td>0</td>\n      <td>1</td>\n      <td>1</td>\n      <td>0</td>\n    </tr>\n    <tr>\n      <th>6</th>\n      <td>3.25</td>\n      <td>2.75</td>\n      <td>3.50</td>\n      <td>2.50</td>\n      <td>3.75</td>\n      <td>5.00</td>\n      <td>0</td>\n      <td>0</td>\n      <td>0</td>\n      <td>0</td>\n      <td>1</td>\n      <td>1</td>\n    </tr>\n    <tr>\n      <th>7</th>\n      <td>4.06</td>\n      <td>3.06</td>\n      <td>3.38</td>\n      <td>2.88</td>\n      <td>2.50</td>\n      <td>4.19</td>\n      <td>1</td>\n      <td>0</td>\n      <td>0</td>\n      <td>0</td>\n      <td>0</td>\n      <td>1</td>\n    </tr>\n    <tr>\n      <th>8</th>\n      <td>3.94</td>\n      <td>2.94</td>\n      <td>3.19</td>\n      <td>3.75</td>\n      <td>3.38</td>\n      <td>3.81</td>\n      <td>1</td>\n      <td>0</td>\n      <td>0</td>\n      <td>1</td>\n      <td>0</td>\n      <td>1</td>\n    </tr>\n    <tr>\n      <th>9</th>\n      <td>4.44</td>\n      <td>4.00</td>\n      <td>3.38</td>\n      <td>3.75</td>\n      <td>3.69</td>\n      <td>3.31</td>\n      <td>1</td>\n      <td>1</td>\n      <td>0</td>\n      <td>1</td>\n      <td>1</td>\n      <td>0</td>\n    </tr>\n    <tr>\n      <th>10</th>\n      <td>3.63</td>\n      <td>3.25</td>\n      <td>3.50</td>\n      <td>3.31</td>\n      <td>3.88</td>\n      <td>2.69</td>\n      <td>1</td>\n      <td>0</td>\n      <td>0</td>\n      <td>0</td>\n      <td>1</td>\n      <td>0</td>\n    </tr>\n    <tr>\n      <th>11</th>\n      <td>3.31</td>\n      <td>4.00</td>\n      <td>2.25</td>\n      <td>3.19</td>\n      <td>2.81</td>\n      <td>3.19</td>\n      <td>0</td>\n      <td>1</td>\n      <td>0</td>\n      <td>0</td>\n      <td>0</td>\n      <td>0</td>\n    </tr>\n    <tr>\n      <th>12</th>\n      <td>2.81</td>\n      <td>3.44</td>\n      <td>3.13</td>\n      <td>3.56</td>\n      <td>3.25</td>\n      <td>3.75</td>\n      <td>0</td>\n      <td>0</td>\n      <td>0</td>\n      <td>1</td>\n      <td>0</td>\n      <td>1</td>\n    </tr>\n    <tr>\n      <th>13</th>\n      <td>3.06</td>\n      <td>3.06</td>\n      <td>3.00</td>\n      <td>2.69</td>\n      <td>3.31</td>\n      <td>3.44</td>\n      <td>0</td>\n      <td>0</td>\n      <td>0</td>\n      <td>0</td>\n      <td>0</td>\n      <td>0</td>\n    </tr>\n    <tr>\n      <th>14</th>\n      <td>4.63</td>\n      <td>3.69</td>\n      <td>2.25</td>\n      <td>3.13</td>\n      <td>2.94</td>\n      <td>2.63</td>\n      <td>1</td>\n      <td>1</td>\n      <td>0</td>\n      <td>0</td>\n      <td>0</td>\n      <td>0</td>\n    </tr>\n    <tr>\n      <th>15</th>\n      <td>3.75</td>\n      <td>2.94</td>\n      <td>2.94</td>\n      <td>3.50</td>\n      <td>4.19</td>\n      <td>3.19</td>\n      <td>1</td>\n      <td>0</td>\n      <td>0</td>\n      <td>0</td>\n      <td>1</td>\n      <td>0</td>\n    </tr>\n    <tr>\n      <th>16</th>\n      <td>4.19</td>\n      <td>4.25</td>\n      <td>1.88</td>\n      <td>2.81</td>\n      <td>3.25</td>\n      <td>3.81</td>\n      <td>1</td>\n      <td>1</td>\n      <td>0</td>\n      <td>0</td>\n      <td>0</td>\n      <td>1</td>\n    </tr>\n    <tr>\n      <th>17</th>\n      <td>4.25</td>\n      <td>3.00</td>\n      <td>4.00</td>\n      <td>2.50</td>\n      <td>3.25</td>\n      <td>3.25</td>\n      <td>1</td>\n      <td>0</td>\n      <td>1</td>\n      <td>0</td>\n      <td>0</td>\n      <td>0</td>\n    </tr>\n    <tr>\n      <th>18</th>\n      <td>2.81</td>\n      <td>3.31</td>\n      <td>2.06</td>\n      <td>2.75</td>\n      <td>3.00</td>\n      <td>3.19</td>\n      <td>0</td>\n      <td>0</td>\n      <td>0</td>\n      <td>0</td>\n      <td>0</td>\n      <td>0</td>\n    </tr>\n    <tr>\n      <th>20</th>\n      <td>3.25</td>\n      <td>3.31</td>\n      <td>4.31</td>\n      <td>3.44</td>\n      <td>2.00</td>\n      <td>4.25</td>\n      <td>0</td>\n      <td>0</td>\n      <td>1</td>\n      <td>0</td>\n      <td>0</td>\n      <td>1</td>\n    </tr>\n    <tr>\n      <th>21</th>\n      <td>4.06</td>\n      <td>3.00</td>\n      <td>2.88</td>\n      <td>3.56</td>\n      <td>3.81</td>\n      <td>3.81</td>\n      <td>1</td>\n      <td>0</td>\n      <td>0</td>\n      <td>1</td>\n      <td>1</td>\n      <td>1</td>\n    </tr>\n    <tr>\n      <th>22</th>\n      <td>3.50</td>\n      <td>3.88</td>\n      <td>1.88</td>\n      <td>2.63</td>\n      <td>3.94</td>\n      <td>3.69</td>\n      <td>0</td>\n      <td>1</td>\n      <td>0</td>\n      <td>0</td>\n      <td>1</td>\n      <td>1</td>\n    </tr>\n    <tr>\n      <th>23</th>\n      <td>3.13</td>\n      <td>4.19</td>\n      <td>3.00</td>\n      <td>2.38</td>\n      <td>2.88</td>\n      <td>3.88</td>\n      <td>0</td>\n      <td>1</td>\n      <td>0</td>\n      <td>0</td>\n      <td>0</td>\n      <td>1</td>\n    </tr>\n    <tr>\n      <th>25</th>\n      <td>3.25</td>\n      <td>3.44</td>\n      <td>3.75</td>\n      <td>3.50</td>\n      <td>3.88</td>\n      <td>3.44</td>\n      <td>0</td>\n      <td>0</td>\n      <td>1</td>\n      <td>0</td>\n      <td>1</td>\n      <td>0</td>\n    </tr>\n    <tr>\n      <th>26</th>\n      <td>3.50</td>\n      <td>3.19</td>\n      <td>2.44</td>\n      <td>2.94</td>\n      <td>2.44</td>\n      <td>3.25</td>\n      <td>0</td>\n      <td>0</td>\n      <td>0</td>\n      <td>0</td>\n      <td>0</td>\n      <td>0</td>\n    </tr>\n    <tr>\n      <th>27</th>\n      <td>2.63</td>\n      <td>3.88</td>\n      <td>3.81</td>\n      <td>3.88</td>\n      <td>3.31</td>\n      <td>3.88</td>\n      <td>0</td>\n      <td>1</td>\n      <td>1</td>\n      <td>1</td>\n      <td>0</td>\n      <td>1</td>\n    </tr>\n    <tr>\n      <th>28</th>\n      <td>3.19</td>\n      <td>4.31</td>\n      <td>2.19</td>\n      <td>1.88</td>\n      <td>2.56</td>\n      <td>3.25</td>\n      <td>0</td>\n      <td>1</td>\n      <td>0</td>\n      <td>0</td>\n      <td>0</td>\n      <td>0</td>\n    </tr>\n    <tr>\n      <th>29</th>\n      <td>3.56</td>\n      <td>4.38</td>\n      <td>2.06</td>\n      <td>2.94</td>\n      <td>3.44</td>\n      <td>4.56</td>\n      <td>1</td>\n      <td>1</td>\n      <td>0</td>\n      <td>0</td>\n      <td>0</td>\n      <td>1</td>\n    </tr>\n    <tr>\n      <th>30</th>\n      <td>4.50</td>\n      <td>3.81</td>\n      <td>2.44</td>\n      <td>3.13</td>\n      <td>2.94</td>\n      <td>4.31</td>\n      <td>1</td>\n      <td>1</td>\n      <td>0</td>\n      <td>0</td>\n      <td>0</td>\n      <td>1</td>\n    </tr>\n    <tr>\n      <th>31</th>\n      <td>4.06</td>\n      <td>3.56</td>\n      <td>2.63</td>\n      <td>3.31</td>\n      <td>3.75</td>\n      <td>4.06</td>\n      <td>1</td>\n      <td>1</td>\n      <td>0</td>\n      <td>0</td>\n      <td>1</td>\n      <td>1</td>\n    </tr>\n    <tr>\n      <th>32</th>\n      <td>2.75</td>\n      <td>3.25</td>\n      <td>3.75</td>\n      <td>2.81</td>\n      <td>3.06</td>\n      <td>3.31</td>\n      <td>0</td>\n      <td>0</td>\n      <td>1</td>\n      <td>0</td>\n      <td>0</td>\n      <td>0</td>\n    </tr>\n    <tr>\n      <th>33</th>\n      <td>4.00</td>\n      <td>3.56</td>\n      <td>2.38</td>\n      <td>3.63</td>\n      <td>3.63</td>\n      <td>3.19</td>\n      <td>1</td>\n      <td>1</td>\n      <td>0</td>\n      <td>1</td>\n      <td>1</td>\n      <td>0</td>\n    </tr>\n    <tr>\n      <th>34</th>\n      <td>3.38</td>\n      <td>2.69</td>\n      <td>3.69</td>\n      <td>3.31</td>\n      <td>3.81</td>\n      <td>3.50</td>\n      <td>0</td>\n      <td>0</td>\n      <td>1</td>\n      <td>0</td>\n      <td>1</td>\n      <td>0</td>\n    </tr>\n    <tr>\n      <th>35</th>\n      <td>3.69</td>\n      <td>3.44</td>\n      <td>3.56</td>\n      <td>4.00</td>\n      <td>3.38</td>\n      <td>4.38</td>\n      <td>1</td>\n      <td>0</td>\n      <td>1</td>\n      <td>1</td>\n      <td>0</td>\n      <td>1</td>\n    </tr>\n    <tr>\n      <th>36</th>\n      <td>3.56</td>\n      <td>4.56</td>\n      <td>3.31</td>\n      <td>3.63</td>\n      <td>4.38</td>\n      <td>4.31</td>\n      <td>1</td>\n      <td>1</td>\n      <td>0</td>\n      <td>1</td>\n      <td>1</td>\n      <td>1</td>\n    </tr>\n  </tbody>\n</table>\n</div>"
     },
     "metadata": {},
     "execution_count": 17
    }
   ],
   "source": [
    "df = pandas.read_csv('./HEXACO.csv')\n",
    "# Honesty-Humility\tEmotionality\teXtraversion\tAgreeableness\tConscientiousness\tOpenness to Experience\n",
    "gt = df[['id','Honesty-Humility','Emotionality','eXtraversion','Agreeableness','Conscientiousness','Openness to Experience']].rename(columns={'Honesty-Humility':'h',\n",
    "                                  'Emotionality':'e',\n",
    "                                  'eXtraversion':'x',\n",
    "                                 'Agreeableness':'a',\n",
    "                             'Conscientiousness':'c',\n",
    "                        'Openness to Experience':'o'}).set_index('id')\n",
    "# labels = []\n",
    "# for i in gt.index:\n",
    "#     labels.append(np.argmax(gt[['h','e','x','a','c','o']].loc[i]))\n",
    "# gt['label'] = labels\n",
    "thold = 3.5\n",
    "gt['lh'] = (gt[['h']] > thold) * 1\n",
    "gt['le'] = (gt[['e']] > thold) * 1\n",
    "gt['lx'] = (gt[['x']] > thold) * 1\n",
    "gt['la'] = (gt[['a']] > thold) * 1\n",
    "gt['lc'] = (gt[['c']] > thold) * 1\n",
    "gt['lo'] = (gt[['o']] > thold) * 1\n",
    "gt"
   ]
  },
  {
   "cell_type": "code",
   "execution_count": 18,
   "metadata": {},
   "outputs": [
    {
     "output_type": "display_data",
     "data": {
      "text/plain": "<Figure size 1152x648 with 1 Axes>",
      "image/svg+xml": "<?xml version=\"1.0\" encoding=\"utf-8\" standalone=\"no\"?>\n<!DOCTYPE svg PUBLIC \"-//W3C//DTD SVG 1.1//EN\"\n  \"http://www.w3.org/Graphics/SVG/1.1/DTD/svg11.dtd\">\n<svg height=\"544.48pt\" version=\"1.1\" viewBox=\"0 0 921.821875 544.48\" width=\"921.821875pt\" xmlns=\"http://www.w3.org/2000/svg\" xmlns:xlink=\"http://www.w3.org/1999/xlink\">\n <metadata>\n  <rdf:RDF xmlns:cc=\"http://creativecommons.org/ns#\" xmlns:dc=\"http://purl.org/dc/elements/1.1/\" xmlns:rdf=\"http://www.w3.org/1999/02/22-rdf-syntax-ns#\">\n   <cc:Work>\n    <dc:type rdf:resource=\"http://purl.org/dc/dcmitype/StillImage\"/>\n    <dc:date>2021-05-11T15:58:46.829967</dc:date>\n    <dc:format>image/svg+xml</dc:format>\n    <dc:creator>\n     <cc:Agent>\n      <dc:title>Matplotlib v3.4.1, https://matplotlib.org/</dc:title>\n     </cc:Agent>\n    </dc:creator>\n   </cc:Work>\n  </rdf:RDF>\n </metadata>\n <defs>\n  <style type=\"text/css\">*{stroke-linecap:butt;stroke-linejoin:round;}</style>\n </defs>\n <g id=\"figure_1\">\n  <g id=\"patch_1\">\n   <path d=\"M 0 544.48 \nL 921.821875 544.48 \nL 921.821875 0 \nL 0 0 \nz\n\" style=\"fill:#ffffff;\"/>\n  </g>\n  <g id=\"axes_1\">\n   <g id=\"patch_2\">\n    <path d=\"M 21.821875 511.13625 \nL 914.621875 511.13625 \nL 914.621875 21.89625 \nL 21.821875 21.89625 \nz\n\" style=\"fill:#ffffff;\"/>\n   </g>\n   <g id=\"matplotlib.axis_1\">\n    <g id=\"xtick_1\">\n     <g id=\"line2d_1\">\n      <path clip-path=\"url(#p83ef3f18a8)\" d=\"M 118.378615 511.13625 \nL 118.378615 21.89625 \n\" style=\"fill:none;stroke:#cccccc;stroke-linecap:round;stroke-width:0.8;\"/>\n     </g>\n     <g id=\"line2d_2\"/>\n     <g id=\"text_1\">\n      <!-- H -->\n      <g style=\"fill:#262626;\" transform=\"translate(114.767677 521.883125)scale(0.1 -0.1)\">\n       <defs>\n        <path d=\"M 3503 0 \nL 3503 2041 \nL 1122 2041 \nL 1122 0 \nL 525 0 \nL 525 4403 \nL 1122 4403 \nL 1122 2541 \nL 3503 2541 \nL 3503 4403 \nL 4100 4403 \nL 4100 0 \nL 3503 0 \nz\n\" id=\"LiberationSans-48\" transform=\"scale(0.015625)\"/>\n       </defs>\n       <use xlink:href=\"#LiberationSans-48\"/>\n      </g>\n     </g>\n    </g>\n    <g id=\"xtick_2\">\n     <g id=\"line2d_3\">\n      <path clip-path=\"url(#p83ef3f18a8)\" d=\"M 258.315919 511.13625 \nL 258.315919 21.89625 \n\" style=\"fill:none;stroke:#cccccc;stroke-linecap:round;stroke-width:0.8;\"/>\n     </g>\n     <g id=\"line2d_4\"/>\n     <g id=\"text_2\">\n      <!-- E -->\n      <g style=\"fill:#262626;\" transform=\"translate(254.980763 521.883125)scale(0.1 -0.1)\">\n       <defs>\n        <path d=\"M 525 0 \nL 525 4403 \nL 3866 4403 \nL 3866 3916 \nL 1122 3916 \nL 1122 2503 \nL 3678 2503 \nL 3678 2022 \nL 1122 2022 \nL 1122 488 \nL 3994 488 \nL 3994 0 \nL 525 0 \nz\n\" id=\"LiberationSans-45\" transform=\"scale(0.015625)\"/>\n       </defs>\n       <use xlink:href=\"#LiberationSans-45\"/>\n      </g>\n     </g>\n    </g>\n    <g id=\"xtick_3\">\n     <g id=\"line2d_5\">\n      <path clip-path=\"url(#p83ef3f18a8)\" d=\"M 398.253223 511.13625 \nL 398.253223 21.89625 \n\" style=\"fill:none;stroke:#cccccc;stroke-linecap:round;stroke-width:0.8;\"/>\n     </g>\n     <g id=\"line2d_6\"/>\n     <g id=\"text_3\">\n      <!-- X -->\n      <g style=\"fill:#262626;\" transform=\"translate(394.918067 521.883125)scale(0.1 -0.1)\">\n       <defs>\n        <path d=\"M 3475 0 \nL 2153 1925 \nL 803 0 \nL 144 0 \nL 1819 2288 \nL 272 4403 \nL 931 4403 \nL 2156 2675 \nL 3347 4403 \nL 4006 4403 \nL 2500 2309 \nL 4134 0 \nL 3475 0 \nz\n\" id=\"LiberationSans-58\" transform=\"scale(0.015625)\"/>\n       </defs>\n       <use xlink:href=\"#LiberationSans-58\"/>\n      </g>\n     </g>\n    </g>\n    <g id=\"xtick_4\">\n     <g id=\"line2d_7\">\n      <path clip-path=\"url(#p83ef3f18a8)\" d=\"M 538.190527 511.13625 \nL 538.190527 21.89625 \n\" style=\"fill:none;stroke:#cccccc;stroke-linecap:round;stroke-width:0.8;\"/>\n     </g>\n     <g id=\"line2d_8\"/>\n     <g id=\"text_4\">\n      <!-- A -->\n      <g style=\"fill:#262626;\" transform=\"translate(534.855371 521.883125)scale(0.1 -0.1)\">\n       <defs>\n        <path d=\"M 3647 0 \nL 3144 1288 \nL 1138 1288 \nL 631 0 \nL 13 0 \nL 1809 4403 \nL 2488 4403 \nL 4256 0 \nL 3647 0 \nz\nM 2141 3953 \nL 2113 3866 \nQ 2034 3606 1881 3200 \nL 1319 1753 \nL 2966 1753 \nL 2400 3206 \nQ 2313 3422 2225 3694 \nL 2141 3953 \nz\n\" id=\"LiberationSans-41\" transform=\"scale(0.015625)\"/>\n       </defs>\n       <use xlink:href=\"#LiberationSans-41\"/>\n      </g>\n     </g>\n    </g>\n    <g id=\"xtick_5\">\n     <g id=\"line2d_9\">\n      <path clip-path=\"url(#p83ef3f18a8)\" d=\"M 678.127831 511.13625 \nL 678.127831 21.89625 \n\" style=\"fill:none;stroke:#cccccc;stroke-linecap:round;stroke-width:0.8;\"/>\n     </g>\n     <g id=\"line2d_10\"/>\n     <g id=\"text_5\">\n      <!-- C -->\n      <g style=\"fill:#262626;\" transform=\"translate(674.516894 521.883125)scale(0.1 -0.1)\">\n       <defs>\n        <path d=\"M 2475 3981 \nQ 1744 3981 1337 3511 \nQ 931 3041 931 2222 \nQ 931 1413 1354 920 \nQ 1778 428 2500 428 \nQ 3425 428 3891 1344 \nL 4378 1100 \nQ 4106 531 3614 234 \nQ 3122 -63 2472 -63 \nQ 1806 -63 1320 214 \nQ 834 491 579 1005 \nQ 325 1519 325 2222 \nQ 325 3275 894 3872 \nQ 1463 4469 2469 4469 \nQ 3172 4469 3644 4194 \nQ 4116 3919 4338 3378 \nL 3772 3191 \nQ 3619 3575 3280 3778 \nQ 2941 3981 2475 3981 \nz\n\" id=\"LiberationSans-43\" transform=\"scale(0.015625)\"/>\n       </defs>\n       <use xlink:href=\"#LiberationSans-43\"/>\n      </g>\n     </g>\n    </g>\n    <g id=\"xtick_6\">\n     <g id=\"line2d_11\">\n      <path clip-path=\"url(#p83ef3f18a8)\" d=\"M 818.065135 511.13625 \nL 818.065135 21.89625 \n\" style=\"fill:none;stroke:#cccccc;stroke-linecap:round;stroke-width:0.8;\"/>\n     </g>\n     <g id=\"line2d_12\"/>\n     <g id=\"text_6\">\n      <!-- O -->\n      <g style=\"fill:#262626;\" transform=\"translate(814.176073 521.883125)scale(0.1 -0.1)\">\n       <defs>\n        <path d=\"M 4672 2222 \nQ 4672 1531 4408 1012 \nQ 4144 494 3650 215 \nQ 3156 -63 2484 -63 \nQ 1806 -63 1314 212 \nQ 822 488 562 1008 \nQ 303 1528 303 2222 \nQ 303 3278 881 3873 \nQ 1459 4469 2491 4469 \nQ 3163 4469 3656 4201 \nQ 4150 3934 4411 3425 \nQ 4672 2916 4672 2222 \nz\nM 4063 2222 \nQ 4063 3044 3652 3512 \nQ 3241 3981 2491 3981 \nQ 1734 3981 1321 3518 \nQ 909 3056 909 2222 \nQ 909 1394 1326 908 \nQ 1744 422 2484 422 \nQ 3247 422 3655 892 \nQ 4063 1363 4063 2222 \nz\n\" id=\"LiberationSans-4f\" transform=\"scale(0.015625)\"/>\n       </defs>\n       <use xlink:href=\"#LiberationSans-4f\"/>\n      </g>\n     </g>\n    </g>\n    <g id=\"text_7\">\n     <!-- Labels -->\n     <g style=\"fill:#262626;\" transform=\"translate(453.489062 535.205)scale(0.1 -0.1)\">\n      <defs>\n       <path d=\"M 525 0 \nL 525 4403 \nL 1122 4403 \nL 1122 488 \nL 3347 488 \nL 3347 0 \nL 525 0 \nz\n\" id=\"LiberationSans-4c\" transform=\"scale(0.015625)\"/>\n       <path d=\"M 1294 -63 \nQ 784 -63 528 206 \nQ 272 475 272 944 \nQ 272 1469 617 1750 \nQ 963 2031 1731 2050 \nL 2491 2063 \nL 2491 2247 \nQ 2491 2659 2316 2837 \nQ 2141 3016 1766 3016 \nQ 1388 3016 1216 2887 \nQ 1044 2759 1009 2478 \nL 422 2531 \nQ 566 3444 1778 3444 \nQ 2416 3444 2737 3151 \nQ 3059 2859 3059 2306 \nL 3059 850 \nQ 3059 600 3125 473 \nQ 3191 347 3375 347 \nQ 3456 347 3559 369 \nL 3559 19 \nQ 3347 -31 3125 -31 \nQ 2813 -31 2670 133 \nQ 2528 297 2509 647 \nL 2491 647 \nQ 2275 259 1989 98 \nQ 1703 -63 1294 -63 \nz\nM 1422 359 \nQ 1731 359 1972 500 \nQ 2213 641 2352 886 \nQ 2491 1131 2491 1391 \nL 2491 1669 \nL 1875 1656 \nQ 1478 1650 1273 1575 \nQ 1069 1500 959 1344 \nQ 850 1188 850 934 \nQ 850 659 998 509 \nQ 1147 359 1422 359 \nz\n\" id=\"LiberationSans-61\" transform=\"scale(0.015625)\"/>\n       <path d=\"M 3291 1706 \nQ 3291 -63 2047 -63 \nQ 1663 -63 1408 76 \nQ 1153 216 994 525 \nL 988 525 \nQ 988 428 975 229 \nQ 963 31 956 0 \nL 413 0 \nQ 431 169 431 697 \nL 431 4638 \nL 994 4638 \nL 994 3316 \nQ 994 3113 981 2838 \nL 994 2838 \nQ 1150 3163 1408 3303 \nQ 1666 3444 2047 3444 \nQ 2688 3444 2989 3012 \nQ 3291 2581 3291 1706 \nz\nM 2700 1688 \nQ 2700 2397 2512 2703 \nQ 2325 3009 1903 3009 \nQ 1428 3009 1211 2684 \nQ 994 2359 994 1653 \nQ 994 988 1206 670 \nQ 1419 353 1897 353 \nQ 2322 353 2511 667 \nQ 2700 981 2700 1688 \nz\n\" id=\"LiberationSans-62\" transform=\"scale(0.015625)\"/>\n       <path d=\"M 863 1572 \nQ 863 991 1103 675 \nQ 1344 359 1806 359 \nQ 2172 359 2392 506 \nQ 2613 653 2691 878 \nL 3184 738 \nQ 2881 -63 1806 -63 \nQ 1056 -63 664 384 \nQ 272 831 272 1713 \nQ 272 2550 664 2997 \nQ 1056 3444 1784 3444 \nQ 3275 3444 3275 1647 \nL 3275 1572 \nL 863 1572 \nz\nM 2694 2003 \nQ 2647 2538 2422 2783 \nQ 2197 3028 1775 3028 \nQ 1366 3028 1127 2754 \nQ 888 2481 869 2003 \nL 2694 2003 \nz\n\" id=\"LiberationSans-65\" transform=\"scale(0.015625)\"/>\n       <path d=\"M 431 0 \nL 431 4638 \nL 994 4638 \nL 994 0 \nL 431 0 \nz\n\" id=\"LiberationSans-6c\" transform=\"scale(0.015625)\"/>\n       <path d=\"M 2969 934 \nQ 2969 456 2608 196 \nQ 2247 -63 1597 -63 \nQ 966 -63 623 145 \nQ 281 353 178 794 \nL 675 891 \nQ 747 619 972 492 \nQ 1197 366 1597 366 \nQ 2025 366 2223 497 \nQ 2422 628 2422 891 \nQ 2422 1091 2284 1216 \nQ 2147 1341 1841 1422 \nL 1438 1528 \nQ 953 1653 748 1773 \nQ 544 1894 428 2066 \nQ 313 2238 313 2488 \nQ 313 2950 642 3192 \nQ 972 3434 1603 3434 \nQ 2163 3434 2492 3237 \nQ 2822 3041 2909 2606 \nL 2403 2544 \nQ 2356 2769 2151 2889 \nQ 1947 3009 1603 3009 \nQ 1222 3009 1040 2893 \nQ 859 2778 859 2544 \nQ 859 2400 934 2306 \nQ 1009 2213 1156 2147 \nQ 1303 2081 1775 1966 \nQ 2222 1853 2419 1758 \nQ 2616 1663 2730 1547 \nQ 2844 1431 2906 1279 \nQ 2969 1128 2969 934 \nz\n\" id=\"LiberationSans-73\" transform=\"scale(0.015625)\"/>\n      </defs>\n      <use xlink:href=\"#LiberationSans-4c\"/>\n      <use x=\"55.615234\" xlink:href=\"#LiberationSans-61\"/>\n      <use x=\"111.230469\" xlink:href=\"#LiberationSans-62\"/>\n      <use x=\"166.845703\" xlink:href=\"#LiberationSans-65\"/>\n      <use x=\"222.460938\" xlink:href=\"#LiberationSans-6c\"/>\n      <use x=\"244.677734\" xlink:href=\"#LiberationSans-73\"/>\n     </g>\n    </g>\n   </g>\n   <g id=\"matplotlib.axis_2\">\n    <g id=\"ytick_1\">\n     <g id=\"line2d_13\">\n      <path clip-path=\"url(#p83ef3f18a8)\" d=\"M 21.821875 511.13625 \nL 914.621875 511.13625 \n\" style=\"fill:none;stroke:#cccccc;stroke-linecap:round;stroke-width:0.8;\"/>\n     </g>\n     <g id=\"line2d_14\"/>\n     <g id=\"text_8\">\n      <!-- 0 -->\n      <g style=\"fill:#262626;\" transform=\"translate(12.760938 514.759687)scale(0.1 -0.1)\">\n       <defs>\n        <path d=\"M 3309 2203 \nQ 3309 1100 2920 518 \nQ 2531 -63 1772 -63 \nQ 1013 -63 631 515 \nQ 250 1094 250 2203 \nQ 250 3338 620 3903 \nQ 991 4469 1791 4469 \nQ 2569 4469 2939 3897 \nQ 3309 3325 3309 2203 \nz\nM 2738 2203 \nQ 2738 3156 2517 3584 \nQ 2297 4013 1791 4013 \nQ 1272 4013 1045 3591 \nQ 819 3169 819 2203 \nQ 819 1266 1048 831 \nQ 1278 397 1778 397 \nQ 2275 397 2506 840 \nQ 2738 1284 2738 2203 \nz\n\" id=\"LiberationSans-30\" transform=\"scale(0.015625)\"/>\n       </defs>\n       <use xlink:href=\"#LiberationSans-30\"/>\n      </g>\n     </g>\n    </g>\n    <g id=\"ytick_2\">\n     <g id=\"line2d_15\">\n      <path clip-path=\"url(#p83ef3f18a8)\" d=\"M 21.821875 452.893393 \nL 914.621875 452.893393 \n\" style=\"fill:none;stroke:#cccccc;stroke-linecap:round;stroke-width:0.8;\"/>\n     </g>\n     <g id=\"line2d_16\"/>\n     <g id=\"text_9\">\n      <!-- 2 -->\n      <g style=\"fill:#262626;\" transform=\"translate(12.760938 456.51683)scale(0.1 -0.1)\">\n       <defs>\n        <path d=\"M 322 0 \nL 322 397 \nQ 481 763 711 1042 \nQ 941 1322 1194 1548 \nQ 1447 1775 1695 1969 \nQ 1944 2163 2144 2356 \nQ 2344 2550 2467 2762 \nQ 2591 2975 2591 3244 \nQ 2591 3606 2378 3806 \nQ 2166 4006 1788 4006 \nQ 1428 4006 1195 3811 \nQ 963 3616 922 3263 \nL 347 3316 \nQ 409 3844 795 4156 \nQ 1181 4469 1788 4469 \nQ 2453 4469 2811 4155 \nQ 3169 3841 3169 3263 \nQ 3169 3006 3051 2753 \nQ 2934 2500 2703 2247 \nQ 2472 1994 1819 1463 \nQ 1459 1169 1246 933 \nQ 1034 697 941 478 \nL 3238 478 \nL 3238 0 \nL 322 0 \nz\n\" id=\"LiberationSans-32\" transform=\"scale(0.015625)\"/>\n       </defs>\n       <use xlink:href=\"#LiberationSans-32\"/>\n      </g>\n     </g>\n    </g>\n    <g id=\"ytick_3\">\n     <g id=\"line2d_17\">\n      <path clip-path=\"url(#p83ef3f18a8)\" d=\"M 21.821875 394.650536 \nL 914.621875 394.650536 \n\" style=\"fill:none;stroke:#cccccc;stroke-linecap:round;stroke-width:0.8;\"/>\n     </g>\n     <g id=\"line2d_18\"/>\n     <g id=\"text_10\">\n      <!-- 4 -->\n      <g style=\"fill:#262626;\" transform=\"translate(12.760938 398.273973)scale(0.1 -0.1)\">\n       <defs>\n        <path d=\"M 2753 997 \nL 2753 0 \nL 2222 0 \nL 2222 997 \nL 147 997 \nL 147 1434 \nL 2163 4403 \nL 2753 4403 \nL 2753 1441 \nL 3372 1441 \nL 3372 997 \nL 2753 997 \nz\nM 2222 3769 \nQ 2216 3750 2134 3603 \nQ 2053 3456 2013 3397 \nL 884 1734 \nL 716 1503 \nL 666 1441 \nL 2222 1441 \nL 2222 3769 \nz\n\" id=\"LiberationSans-34\" transform=\"scale(0.015625)\"/>\n       </defs>\n       <use xlink:href=\"#LiberationSans-34\"/>\n      </g>\n     </g>\n    </g>\n    <g id=\"ytick_4\">\n     <g id=\"line2d_19\">\n      <path clip-path=\"url(#p83ef3f18a8)\" d=\"M 21.821875 336.407679 \nL 914.621875 336.407679 \n\" style=\"fill:none;stroke:#cccccc;stroke-linecap:round;stroke-width:0.8;\"/>\n     </g>\n     <g id=\"line2d_20\"/>\n     <g id=\"text_11\">\n      <!-- 6 -->\n      <g style=\"fill:#262626;\" transform=\"translate(12.760938 340.031116)scale(0.1 -0.1)\">\n       <defs>\n        <path d=\"M 3278 1441 \nQ 3278 744 2900 340 \nQ 2522 -63 1856 -63 \nQ 1113 -63 719 490 \nQ 325 1044 325 2100 \nQ 325 3244 734 3856 \nQ 1144 4469 1900 4469 \nQ 2897 4469 3156 3572 \nL 2619 3475 \nQ 2453 4013 1894 4013 \nQ 1413 4013 1148 3564 \nQ 884 3116 884 2266 \nQ 1038 2550 1316 2698 \nQ 1594 2847 1953 2847 \nQ 2563 2847 2920 2465 \nQ 3278 2084 3278 1441 \nz\nM 2706 1416 \nQ 2706 1894 2472 2153 \nQ 2238 2413 1819 2413 \nQ 1425 2413 1183 2183 \nQ 941 1953 941 1550 \nQ 941 1041 1192 716 \nQ 1444 391 1838 391 \nQ 2244 391 2475 664 \nQ 2706 938 2706 1416 \nz\n\" id=\"LiberationSans-36\" transform=\"scale(0.015625)\"/>\n       </defs>\n       <use xlink:href=\"#LiberationSans-36\"/>\n      </g>\n     </g>\n    </g>\n    <g id=\"ytick_5\">\n     <g id=\"line2d_21\">\n      <path clip-path=\"url(#p83ef3f18a8)\" d=\"M 21.821875 278.164821 \nL 914.621875 278.164821 \n\" style=\"fill:none;stroke:#cccccc;stroke-linecap:round;stroke-width:0.8;\"/>\n     </g>\n     <g id=\"line2d_22\"/>\n     <g id=\"text_12\">\n      <!-- 8 -->\n      <g style=\"fill:#262626;\" transform=\"translate(12.760938 281.788259)scale(0.1 -0.1)\">\n       <defs>\n        <path d=\"M 3281 1228 \nQ 3281 619 2893 278 \nQ 2506 -63 1781 -63 \nQ 1075 -63 676 271 \nQ 278 606 278 1222 \nQ 278 1653 525 1947 \nQ 772 2241 1156 2303 \nL 1156 2316 \nQ 797 2400 589 2681 \nQ 381 2963 381 3341 \nQ 381 3844 757 4156 \nQ 1134 4469 1769 4469 \nQ 2419 4469 2795 4162 \nQ 3172 3856 3172 3334 \nQ 3172 2956 2962 2675 \nQ 2753 2394 2391 2322 \nL 2391 2309 \nQ 2813 2241 3047 1952 \nQ 3281 1663 3281 1228 \nz\nM 2588 3303 \nQ 2588 4050 1769 4050 \nQ 1372 4050 1164 3862 \nQ 956 3675 956 3303 \nQ 956 2925 1170 2726 \nQ 1384 2528 1775 2528 \nQ 2172 2528 2380 2711 \nQ 2588 2894 2588 3303 \nz\nM 2697 1281 \nQ 2697 1691 2453 1898 \nQ 2209 2106 1769 2106 \nQ 1341 2106 1100 1882 \nQ 859 1659 859 1269 \nQ 859 359 1788 359 \nQ 2247 359 2472 579 \nQ 2697 800 2697 1281 \nz\n\" id=\"LiberationSans-38\" transform=\"scale(0.015625)\"/>\n       </defs>\n       <use xlink:href=\"#LiberationSans-38\"/>\n      </g>\n     </g>\n    </g>\n    <g id=\"ytick_6\">\n     <g id=\"line2d_23\">\n      <path clip-path=\"url(#p83ef3f18a8)\" d=\"M 21.821875 219.921964 \nL 914.621875 219.921964 \n\" style=\"fill:none;stroke:#cccccc;stroke-linecap:round;stroke-width:0.8;\"/>\n     </g>\n     <g id=\"line2d_24\"/>\n     <g id=\"text_13\">\n      <!-- 10 -->\n      <g style=\"fill:#262626;\" transform=\"translate(7.2 223.545402)scale(0.1 -0.1)\">\n       <defs>\n        <path d=\"M 488 0 \nL 488 478 \nL 1609 478 \nL 1609 3866 \nL 616 3156 \nL 616 3688 \nL 1656 4403 \nL 2175 4403 \nL 2175 478 \nL 3247 478 \nL 3247 0 \nL 488 0 \nz\n\" id=\"LiberationSans-31\" transform=\"scale(0.015625)\"/>\n       </defs>\n       <use xlink:href=\"#LiberationSans-31\"/>\n       <use x=\"55.615234\" xlink:href=\"#LiberationSans-30\"/>\n      </g>\n     </g>\n    </g>\n    <g id=\"ytick_7\">\n     <g id=\"line2d_25\">\n      <path clip-path=\"url(#p83ef3f18a8)\" d=\"M 21.821875 161.679107 \nL 914.621875 161.679107 \n\" style=\"fill:none;stroke:#cccccc;stroke-linecap:round;stroke-width:0.8;\"/>\n     </g>\n     <g id=\"line2d_26\"/>\n     <g id=\"text_14\">\n      <!-- 12 -->\n      <g style=\"fill:#262626;\" transform=\"translate(7.2 165.302545)scale(0.1 -0.1)\">\n       <use xlink:href=\"#LiberationSans-31\"/>\n       <use x=\"55.615234\" xlink:href=\"#LiberationSans-32\"/>\n      </g>\n     </g>\n    </g>\n    <g id=\"ytick_8\">\n     <g id=\"line2d_27\">\n      <path clip-path=\"url(#p83ef3f18a8)\" d=\"M 21.821875 103.43625 \nL 914.621875 103.43625 \n\" style=\"fill:none;stroke:#cccccc;stroke-linecap:round;stroke-width:0.8;\"/>\n     </g>\n     <g id=\"line2d_28\"/>\n     <g id=\"text_15\">\n      <!-- 14 -->\n      <g style=\"fill:#262626;\" transform=\"translate(7.2 107.059687)scale(0.1 -0.1)\">\n       <use xlink:href=\"#LiberationSans-31\"/>\n       <use x=\"55.615234\" xlink:href=\"#LiberationSans-34\"/>\n      </g>\n     </g>\n    </g>\n    <g id=\"ytick_9\">\n     <g id=\"line2d_29\">\n      <path clip-path=\"url(#p83ef3f18a8)\" d=\"M 21.821875 45.193393 \nL 914.621875 45.193393 \n\" style=\"fill:none;stroke:#cccccc;stroke-linecap:round;stroke-width:0.8;\"/>\n     </g>\n     <g id=\"line2d_30\"/>\n     <g id=\"text_16\">\n      <!-- 16 -->\n      <g style=\"fill:#262626;\" transform=\"translate(7.2 48.81683)scale(0.1 -0.1)\">\n       <use xlink:href=\"#LiberationSans-31\"/>\n       <use x=\"55.615234\" xlink:href=\"#LiberationSans-36\"/>\n      </g>\n     </g>\n    </g>\n   </g>\n   <g id=\"patch_3\">\n    <path clip-path=\"url(#p83ef3f18a8)\" d=\"M 62.403693 511.13625 \nL 174.353536 511.13625 \nL 174.353536 45.193393 \nL 62.403693 45.193393 \nz\n\" style=\"fill:#1f77b4;\"/>\n   </g>\n   <g id=\"patch_4\">\n    <path clip-path=\"url(#p83ef3f18a8)\" d=\"M 202.340997 511.13625 \nL 314.290841 511.13625 \nL 314.290841 74.314821 \nL 202.340997 74.314821 \nz\n\" style=\"fill:#1f77b4;\"/>\n   </g>\n   <g id=\"patch_5\">\n    <path clip-path=\"url(#p83ef3f18a8)\" d=\"M 342.278301 511.13625 \nL 454.228145 511.13625 \nL 454.228145 278.164821 \nL 342.278301 278.164821 \nz\n\" style=\"fill:#1f77b4;\"/>\n   </g>\n   <g id=\"patch_6\">\n    <path clip-path=\"url(#p83ef3f18a8)\" d=\"M 482.215605 511.13625 \nL 594.165449 511.13625 \nL 594.165449 249.043393 \nL 482.215605 249.043393 \nz\n\" style=\"fill:#1f77b4;\"/>\n   </g>\n   <g id=\"patch_7\">\n    <path clip-path=\"url(#p83ef3f18a8)\" d=\"M 622.152909 511.13625 \nL 734.102753 511.13625 \nL 734.102753 132.557679 \nL 622.152909 132.557679 \nz\n\" style=\"fill:#1f77b4;\"/>\n   </g>\n   <g id=\"patch_8\">\n    <path clip-path=\"url(#p83ef3f18a8)\" d=\"M 762.090214 511.13625 \nL 874.040057 511.13625 \nL 874.040057 45.193393 \nL 762.090214 45.193393 \nz\n\" style=\"fill:#1f77b4;\"/>\n   </g>\n   <g id=\"patch_9\">\n    <path d=\"M 21.821875 511.13625 \nL 21.821875 21.89625 \n\" style=\"fill:none;stroke:#cccccc;stroke-linecap:square;stroke-linejoin:miter;\"/>\n   </g>\n   <g id=\"patch_10\">\n    <path d=\"M 914.621875 511.13625 \nL 914.621875 21.89625 \n\" style=\"fill:none;stroke:#cccccc;stroke-linecap:square;stroke-linejoin:miter;\"/>\n   </g>\n   <g id=\"patch_11\">\n    <path d=\"M 21.821875 511.13625 \nL 914.621875 511.13625 \n\" style=\"fill:none;stroke:#cccccc;stroke-linecap:square;stroke-linejoin:miter;\"/>\n   </g>\n   <g id=\"patch_12\">\n    <path d=\"M 21.821875 21.89625 \nL 914.621875 21.89625 \n\" style=\"fill:none;stroke:#cccccc;stroke-linecap:square;stroke-linejoin:miter;\"/>\n   </g>\n   <g id=\"text_17\">\n    <!-- Distribution of Labels -->\n    <g style=\"fill:#262626;\" transform=\"translate(412.195 15.89625)scale(0.12 -0.12)\">\n     <defs>\n      <path d=\"M 4316 2247 \nQ 4316 1566 4050 1055 \nQ 3784 544 3296 272 \nQ 2809 0 2172 0 \nL 525 0 \nL 525 4403 \nL 1981 4403 \nQ 3100 4403 3708 3842 \nQ 4316 3281 4316 2247 \nz\nM 3716 2247 \nQ 3716 3066 3267 3495 \nQ 2819 3925 1969 3925 \nL 1122 3925 \nL 1122 478 \nL 2103 478 \nQ 2588 478 2955 690 \nQ 3322 903 3519 1303 \nQ 3716 1703 3716 2247 \nz\n\" id=\"LiberationSans-44\" transform=\"scale(0.015625)\"/>\n      <path d=\"M 428 4100 \nL 428 4638 \nL 991 4638 \nL 991 4100 \nL 428 4100 \nz\nM 428 0 \nL 428 3381 \nL 991 3381 \nL 991 0 \nL 428 0 \nz\n\" id=\"LiberationSans-69\" transform=\"scale(0.015625)\"/>\n      <path d=\"M 1731 25 \nQ 1453 -50 1163 -50 \nQ 488 -50 488 716 \nL 488 2972 \nL 97 2972 \nL 97 3381 \nL 509 3381 \nL 675 4138 \nL 1050 4138 \nL 1050 3381 \nL 1675 3381 \nL 1675 2972 \nL 1050 2972 \nL 1050 838 \nQ 1050 594 1129 495 \nQ 1209 397 1406 397 \nQ 1519 397 1731 441 \nL 1731 25 \nz\n\" id=\"LiberationSans-74\" transform=\"scale(0.015625)\"/>\n      <path d=\"M 444 0 \nL 444 2594 \nQ 444 2950 425 3381 \nL 956 3381 \nQ 981 2806 981 2691 \nL 994 2691 \nQ 1128 3125 1303 3284 \nQ 1478 3444 1797 3444 \nQ 1909 3444 2025 3413 \nL 2025 2897 \nQ 1913 2928 1725 2928 \nQ 1375 2928 1190 2626 \nQ 1006 2325 1006 1763 \nL 1006 0 \nL 444 0 \nz\n\" id=\"LiberationSans-72\" transform=\"scale(0.015625)\"/>\n      <path d=\"M 981 3381 \nL 981 1238 \nQ 981 903 1047 718 \nQ 1113 534 1256 453 \nQ 1400 372 1678 372 \nQ 2084 372 2318 650 \nQ 2553 928 2553 1422 \nL 2553 3381 \nL 3116 3381 \nL 3116 722 \nQ 3116 131 3134 0 \nL 2603 0 \nQ 2600 16 2597 84 \nQ 2594 153 2589 242 \nQ 2584 331 2578 578 \nL 2569 578 \nQ 2375 228 2120 82 \nQ 1866 -63 1488 -63 \nQ 931 -63 673 214 \nQ 416 491 416 1128 \nL 416 3381 \nL 981 3381 \nz\n\" id=\"LiberationSans-75\" transform=\"scale(0.015625)\"/>\n      <path d=\"M 3291 1694 \nQ 3291 806 2900 371 \nQ 2509 -63 1766 -63 \nQ 1025 -63 647 389 \nQ 269 841 269 1694 \nQ 269 3444 1784 3444 \nQ 2559 3444 2925 3017 \nQ 3291 2591 3291 1694 \nz\nM 2700 1694 \nQ 2700 2394 2492 2711 \nQ 2284 3028 1794 3028 \nQ 1300 3028 1079 2704 \nQ 859 2381 859 1694 \nQ 859 1025 1076 689 \nQ 1294 353 1759 353 \nQ 2266 353 2483 678 \nQ 2700 1003 2700 1694 \nz\n\" id=\"LiberationSans-6f\" transform=\"scale(0.015625)\"/>\n      <path d=\"M 2578 0 \nL 2578 2144 \nQ 2578 2478 2512 2662 \nQ 2447 2847 2303 2928 \nQ 2159 3009 1881 3009 \nQ 1475 3009 1240 2731 \nQ 1006 2453 1006 1959 \nL 1006 0 \nL 444 0 \nL 444 2659 \nQ 444 3250 425 3381 \nL 956 3381 \nQ 959 3366 962 3297 \nQ 966 3228 970 3139 \nQ 975 3050 981 2803 \nL 991 2803 \nQ 1184 3153 1439 3298 \nQ 1694 3444 2072 3444 \nQ 2628 3444 2886 3167 \nQ 3144 2891 3144 2253 \nL 3144 0 \nL 2578 0 \nz\n\" id=\"LiberationSans-6e\" transform=\"scale(0.015625)\"/>\n      <path id=\"LiberationSans-20\" transform=\"scale(0.015625)\"/>\n      <path d=\"M 1128 2972 \nL 1128 0 \nL 566 0 \nL 566 2972 \nL 91 2972 \nL 91 3381 \nL 566 3381 \nL 566 3763 \nQ 566 4225 769 4428 \nQ 972 4631 1391 4631 \nQ 1625 4631 1788 4594 \nL 1788 4166 \nQ 1647 4191 1538 4191 \nQ 1322 4191 1225 4081 \nQ 1128 3972 1128 3684 \nL 1128 3381 \nL 1788 3381 \nL 1788 2972 \nL 1128 2972 \nz\n\" id=\"LiberationSans-66\" transform=\"scale(0.015625)\"/>\n     </defs>\n     <use xlink:href=\"#LiberationSans-44\"/>\n     <use x=\"72.216797\" xlink:href=\"#LiberationSans-69\"/>\n     <use x=\"94.433594\" xlink:href=\"#LiberationSans-73\"/>\n     <use x=\"144.433594\" xlink:href=\"#LiberationSans-74\"/>\n     <use x=\"172.216797\" xlink:href=\"#LiberationSans-72\"/>\n     <use x=\"205.517578\" xlink:href=\"#LiberationSans-69\"/>\n     <use x=\"227.734375\" xlink:href=\"#LiberationSans-62\"/>\n     <use x=\"283.349609\" xlink:href=\"#LiberationSans-75\"/>\n     <use x=\"338.964844\" xlink:href=\"#LiberationSans-74\"/>\n     <use x=\"366.748047\" xlink:href=\"#LiberationSans-69\"/>\n     <use x=\"388.964844\" xlink:href=\"#LiberationSans-6f\"/>\n     <use x=\"444.580078\" xlink:href=\"#LiberationSans-6e\"/>\n     <use x=\"500.195312\" xlink:href=\"#LiberationSans-20\"/>\n     <use x=\"527.978516\" xlink:href=\"#LiberationSans-6f\"/>\n     <use x=\"583.59375\" xlink:href=\"#LiberationSans-66\"/>\n     <use x=\"611.376953\" xlink:href=\"#LiberationSans-20\"/>\n     <use x=\"639.160156\" xlink:href=\"#LiberationSans-4c\"/>\n     <use x=\"694.775391\" xlink:href=\"#LiberationSans-61\"/>\n     <use x=\"750.390625\" xlink:href=\"#LiberationSans-62\"/>\n     <use x=\"806.005859\" xlink:href=\"#LiberationSans-65\"/>\n     <use x=\"861.621094\" xlink:href=\"#LiberationSans-6c\"/>\n     <use x=\"883.837891\" xlink:href=\"#LiberationSans-73\"/>\n    </g>\n   </g>\n  </g>\n </g>\n <defs>\n  <clipPath id=\"p83ef3f18a8\">\n   <rect height=\"489.24\" width=\"892.8\" x=\"21.821875\" y=\"21.89625\"/>\n  </clipPath>\n </defs>\n</svg>\n",
      "image/png": "[encoded data removed]"
     },
     "metadata": {}
    }
   ],
   "source": [
    "fig, ax = plt.subplots(figsize=(16,9))\n",
    "ax.bar(['H','E','X','A','C','O'],[ sum(gt['lh']), sum(gt['le']), sum(gt['lx']), sum(gt['la']), sum(gt['lc']), sum(gt['lo'])  ])\n",
    "ax.set_title(\"Distribution of Labels\")\n",
    "ax.set_xlabel(\"Labels\")\n",
    "# ax.set_ylabel(\"Distribution of Labels\")\n",
    "plt.show()"
   ]
  },
  {
   "cell_type": "code",
   "execution_count": 5,
   "metadata": {},
   "outputs": [
    {
     "output_type": "error",
     "ename": "KeyError",
     "evalue": "'label'",
     "traceback": [
      "\u001b[0;31m---------------------------------------------------------------------------\u001b[0m",
      "\u001b[0;31mKeyError\u001b[0m                                  Traceback (most recent call last)",
      "\u001b[0;32m~/venv/hci/lib/python3.8/site-packages/pandas/core/indexes/base.py\u001b[0m in \u001b[0;36mget_loc\u001b[0;34m(self, key, method, tolerance)\u001b[0m\n\u001b[1;32m   3079\u001b[0m             \u001b[0;32mtry\u001b[0m\u001b[0;34m:\u001b[0m\u001b[0;34m\u001b[0m\u001b[0;34m\u001b[0m\u001b[0m\n\u001b[0;32m-> 3080\u001b[0;31m                 \u001b[0;32mreturn\u001b[0m \u001b[0mself\u001b[0m\u001b[0;34m.\u001b[0m\u001b[0m_engine\u001b[0m\u001b[0;34m.\u001b[0m\u001b[0mget_loc\u001b[0m\u001b[0;34m(\u001b[0m\u001b[0mcasted_key\u001b[0m\u001b[0;34m)\u001b[0m\u001b[0;34m\u001b[0m\u001b[0;34m\u001b[0m\u001b[0m\n\u001b[0m\u001b[1;32m   3081\u001b[0m             \u001b[0;32mexcept\u001b[0m \u001b[0mKeyError\u001b[0m \u001b[0;32mas\u001b[0m \u001b[0merr\u001b[0m\u001b[0;34m:\u001b[0m\u001b[0;34m\u001b[0m\u001b[0;34m\u001b[0m\u001b[0m\n",
      "\u001b[0;32mpandas/_libs/index.pyx\u001b[0m in \u001b[0;36mpandas._libs.index.IndexEngine.get_loc\u001b[0;34m()\u001b[0m\n",
      "\u001b[0;32mpandas/_libs/index.pyx\u001b[0m in \u001b[0;36mpandas._libs.index.IndexEngine.get_loc\u001b[0;34m()\u001b[0m\n",
      "\u001b[0;32mpandas/_libs/hashtable_class_helper.pxi\u001b[0m in \u001b[0;36mpandas._libs.hashtable.PyObjectHashTable.get_item\u001b[0;34m()\u001b[0m\n",
      "\u001b[0;32mpandas/_libs/hashtable_class_helper.pxi\u001b[0m in \u001b[0;36mpandas._libs.hashtable.PyObjectHashTable.get_item\u001b[0;34m()\u001b[0m\n",
      "\u001b[0;31mKeyError\u001b[0m: 'label'",
      "\nThe above exception was the direct cause of the following exception:\n",
      "\u001b[0;31mKeyError\u001b[0m                                  Traceback (most recent call last)",
      "\u001b[0;32m<ipython-input-5-5a636e0fc03b>\u001b[0m in \u001b[0;36m<module>\u001b[0;34m\u001b[0m\n\u001b[0;32m----> 1\u001b[0;31m \u001b[0mcount\u001b[0m\u001b[0;34m,\u001b[0m \u001b[0m_\u001b[0m \u001b[0;34m=\u001b[0m \u001b[0mnp\u001b[0m\u001b[0;34m.\u001b[0m\u001b[0mhistogram\u001b[0m\u001b[0;34m(\u001b[0m\u001b[0mgt\u001b[0m\u001b[0;34m[\u001b[0m\u001b[0;34m'label'\u001b[0m\u001b[0;34m]\u001b[0m\u001b[0;34m,\u001b[0m \u001b[0mbins\u001b[0m \u001b[0;34m=\u001b[0m \u001b[0;36m6\u001b[0m\u001b[0;34m)\u001b[0m\u001b[0;34m\u001b[0m\u001b[0;34m\u001b[0m\u001b[0m\n\u001b[0m\u001b[1;32m      2\u001b[0m \u001b[0;34m\u001b[0m\u001b[0m\n\u001b[1;32m      3\u001b[0m \u001b[0mfig\u001b[0m\u001b[0;34m,\u001b[0m \u001b[0max\u001b[0m \u001b[0;34m=\u001b[0m \u001b[0mplt\u001b[0m\u001b[0;34m.\u001b[0m\u001b[0msubplots\u001b[0m\u001b[0;34m(\u001b[0m\u001b[0mfigsize\u001b[0m\u001b[0;34m=\u001b[0m\u001b[0;34m(\u001b[0m\u001b[0;36m16\u001b[0m\u001b[0;34m,\u001b[0m\u001b[0;36m9\u001b[0m\u001b[0;34m)\u001b[0m\u001b[0;34m)\u001b[0m\u001b[0;34m\u001b[0m\u001b[0;34m\u001b[0m\u001b[0m\n\u001b[1;32m      4\u001b[0m \u001b[0max\u001b[0m\u001b[0;34m.\u001b[0m\u001b[0mbar\u001b[0m\u001b[0;34m(\u001b[0m\u001b[0;34m[\u001b[0m\u001b[0;34m'H'\u001b[0m\u001b[0;34m,\u001b[0m\u001b[0;34m'E'\u001b[0m\u001b[0;34m,\u001b[0m\u001b[0;34m'X'\u001b[0m\u001b[0;34m,\u001b[0m\u001b[0;34m'A'\u001b[0m\u001b[0;34m,\u001b[0m\u001b[0;34m'C'\u001b[0m\u001b[0;34m,\u001b[0m\u001b[0;34m'O'\u001b[0m\u001b[0;34m]\u001b[0m\u001b[0;34m,\u001b[0m\u001b[0mcount\u001b[0m\u001b[0;34m)\u001b[0m\u001b[0;34m\u001b[0m\u001b[0;34m\u001b[0m\u001b[0m\n\u001b[1;32m      5\u001b[0m \u001b[0max\u001b[0m\u001b[0;34m.\u001b[0m\u001b[0mset_title\u001b[0m\u001b[0;34m(\u001b[0m\u001b[0;34m\"Distribution of Labels\"\u001b[0m\u001b[0;34m)\u001b[0m\u001b[0;34m\u001b[0m\u001b[0;34m\u001b[0m\u001b[0m\n",
      "\u001b[0;32m~/venv/hci/lib/python3.8/site-packages/pandas/core/frame.py\u001b[0m in \u001b[0;36m__getitem__\u001b[0;34m(self, key)\u001b[0m\n\u001b[1;32m   3022\u001b[0m             \u001b[0;32mif\u001b[0m \u001b[0mself\u001b[0m\u001b[0;34m.\u001b[0m\u001b[0mcolumns\u001b[0m\u001b[0;34m.\u001b[0m\u001b[0mnlevels\u001b[0m \u001b[0;34m>\u001b[0m \u001b[0;36m1\u001b[0m\u001b[0;34m:\u001b[0m\u001b[0;34m\u001b[0m\u001b[0;34m\u001b[0m\u001b[0m\n\u001b[1;32m   3023\u001b[0m                 \u001b[0;32mreturn\u001b[0m \u001b[0mself\u001b[0m\u001b[0;34m.\u001b[0m\u001b[0m_getitem_multilevel\u001b[0m\u001b[0;34m(\u001b[0m\u001b[0mkey\u001b[0m\u001b[0;34m)\u001b[0m\u001b[0;34m\u001b[0m\u001b[0;34m\u001b[0m\u001b[0m\n\u001b[0;32m-> 3024\u001b[0;31m             \u001b[0mindexer\u001b[0m \u001b[0;34m=\u001b[0m \u001b[0mself\u001b[0m\u001b[0;34m.\u001b[0m\u001b[0mcolumns\u001b[0m\u001b[0;34m.\u001b[0m\u001b[0mget_loc\u001b[0m\u001b[0;34m(\u001b[0m\u001b[0mkey\u001b[0m\u001b[0;34m)\u001b[0m\u001b[0;34m\u001b[0m\u001b[0;34m\u001b[0m\u001b[0m\n\u001b[0m\u001b[1;32m   3025\u001b[0m             \u001b[0;32mif\u001b[0m \u001b[0mis_integer\u001b[0m\u001b[0;34m(\u001b[0m\u001b[0mindexer\u001b[0m\u001b[0;34m)\u001b[0m\u001b[0;34m:\u001b[0m\u001b[0;34m\u001b[0m\u001b[0;34m\u001b[0m\u001b[0m\n\u001b[1;32m   3026\u001b[0m                 \u001b[0mindexer\u001b[0m \u001b[0;34m=\u001b[0m \u001b[0;34m[\u001b[0m\u001b[0mindexer\u001b[0m\u001b[0;34m]\u001b[0m\u001b[0;34m\u001b[0m\u001b[0;34m\u001b[0m\u001b[0m\n",
      "\u001b[0;32m~/venv/hci/lib/python3.8/site-packages/pandas/core/indexes/base.py\u001b[0m in \u001b[0;36mget_loc\u001b[0;34m(self, key, method, tolerance)\u001b[0m\n\u001b[1;32m   3080\u001b[0m                 \u001b[0;32mreturn\u001b[0m \u001b[0mself\u001b[0m\u001b[0;34m.\u001b[0m\u001b[0m_engine\u001b[0m\u001b[0;34m.\u001b[0m\u001b[0mget_loc\u001b[0m\u001b[0;34m(\u001b[0m\u001b[0mcasted_key\u001b[0m\u001b[0;34m)\u001b[0m\u001b[0;34m\u001b[0m\u001b[0;34m\u001b[0m\u001b[0m\n\u001b[1;32m   3081\u001b[0m             \u001b[0;32mexcept\u001b[0m \u001b[0mKeyError\u001b[0m \u001b[0;32mas\u001b[0m \u001b[0merr\u001b[0m\u001b[0;34m:\u001b[0m\u001b[0;34m\u001b[0m\u001b[0;34m\u001b[0m\u001b[0m\n\u001b[0;32m-> 3082\u001b[0;31m                 \u001b[0;32mraise\u001b[0m \u001b[0mKeyError\u001b[0m\u001b[0;34m(\u001b[0m\u001b[0mkey\u001b[0m\u001b[0;34m)\u001b[0m \u001b[0;32mfrom\u001b[0m \u001b[0merr\u001b[0m\u001b[0;34m\u001b[0m\u001b[0;34m\u001b[0m\u001b[0m\n\u001b[0m\u001b[1;32m   3083\u001b[0m \u001b[0;34m\u001b[0m\u001b[0m\n\u001b[1;32m   3084\u001b[0m         \u001b[0;32mif\u001b[0m \u001b[0mtolerance\u001b[0m \u001b[0;32mis\u001b[0m \u001b[0;32mnot\u001b[0m \u001b[0;32mNone\u001b[0m\u001b[0;34m:\u001b[0m\u001b[0;34m\u001b[0m\u001b[0;34m\u001b[0m\u001b[0m\n",
      "\u001b[0;31mKeyError\u001b[0m: 'label'"
     ]
    }
   ],
   "source": [
    "# count, _ = np.histogram(gt['label'], bins = 6)\n",
    "\n",
    "# fig, ax = plt.subplots(figsize=(16,9))\n",
    "# ax.bar(['H','E','X','A','C','O'],count)\n",
    "# ax.set_title(\"Distribution of Labels\")\n",
    "# ax.set_xlabel(\"Labels\")\n",
    "# # ax.set_ylabel(\"Distribution of Labels\")\n",
    "# plt.show()"
   ]
  },
  {
   "source": [
    "# Get Experiment DATA"
   ],
   "cell_type": "markdown",
   "metadata": {}
  },
  {
   "cell_type": "code",
   "execution_count": 19,
   "metadata": {},
   "outputs": [],
   "source": [
    "path, folders, filenames = next(walk('./data'))\n",
    "# Exclude these data because of incomplete data\n",
    "gt.drop([11,4,36],inplace=True)\n",
    "\n",
    "filenames.remove('11-audio.csv')\n",
    "filenames.remove('11-image.csv')\n",
    "\n",
    "filenames.remove('36-audio.csv')\n",
    "filenames.remove('36-image.csv')"
   ]
  },
  {
   "cell_type": "code",
   "execution_count": 20,
   "metadata": {},
   "outputs": [
    {
     "output_type": "display_data",
     "data": {
      "text/plain": "  0%|          | 0/60 [00:00<?, ?it/s]",
      "application/vnd.jupyter.widget-view+json": {
       "version_major": 2,
       "version_minor": 0,
       "model_id": "2428d69c9ac4499d8ed2d2905a91c0e5"
      }
     },
     "metadata": {}
    }
   ],
   "source": [
    "path = './data'\n",
    "columns = {'Unnamed: 1':'Fp1',\n",
    "        'Unnamed: 2':'Fp2',\n",
    "        'Unnamed: 3':'F3',\n",
    "        'Unnamed: 4':'F4',\n",
    "        'Unnamed: 5':'F7',\n",
    "        'Unnamed: 6':'F8',\n",
    "        'Unnamed: 7':'P7',\n",
    "        'Unnamed: 8':'P8'}\n",
    "\n",
    "EEG_audio, EEG_image = dict(), dict()\n",
    "from itertools import product\n",
    "categories = [1,2,3,4,5]\n",
    "blocks = [1,2]\n",
    "for filename in tqdm(filenames):\n",
    "    participant_id, stimuli = filename.split('-')\n",
    "    stimuli = stimuli.rstrip('.csv')\n",
    "    data = pandas.read_csv(f'{path}/{filename}', dtype={'Marker': str}).rename(columns=columns).drop(columns='timestamps')\n",
    "    # print(participant_id, stimuli)\n",
    "    # experiment = dict()\n",
    "    # for (category, block) in product(categories,blocks):\n",
    "        # print(\"   \", category, block)\n",
    "        # section = get_section_from_catblock(data, category=category,block=block)\n",
    "        # experiment[f\"{category}_{block}\"] = section\n",
    "    if(stimuli == 'audio'):\n",
    "        EEG_audio[int(participant_id)] = data\n",
    "    elif(stimuli == 'image'):\n",
    "        EEG_image[int(participant_id)] = data\n",
    "    else:\n",
    "        raise ValueError(f\"Stimuli:{stimuli} is unexpected.\")"
   ]
  },
  {
   "source": [
    "# New Ground Truth"
   ],
   "cell_type": "markdown",
   "metadata": {}
  },
  {
   "cell_type": "code",
   "execution_count": 21,
   "metadata": {},
   "outputs": [
    {
     "output_type": "execute_result",
     "data": {
      "text/plain": [
       "       h     e     x     a     c     o  lh  le  lx  la  lc  lo\n",
       "id                                                            \n",
       "2   3.63  3.19  2.94  2.38  3.38  2.38   1   0   0   0   0   0\n",
       "3   3.38  3.44  3.50  3.50  4.50  3.81   0   0   0   0   1   1\n",
       "5   3.25  3.63  2.13  3.56  3.63  2.31   0   1   0   1   1   0\n",
       "6   3.25  2.75  3.50  2.50  3.75  5.00   0   0   0   0   1   1\n",
       "7   4.06  3.06  3.38  2.88  2.50  4.19   1   0   0   0   0   1\n",
       "8   3.94  2.94  3.19  3.75  3.38  3.81   1   0   0   1   0   1\n",
       "9   4.44  4.00  3.38  3.75  3.69  3.31   1   1   0   1   1   0\n",
       "10  3.63  3.25  3.50  3.31  3.88  2.69   1   0   0   0   1   0\n",
       "12  2.81  3.44  3.13  3.56  3.25  3.75   0   0   0   1   0   1\n",
       "13  3.06  3.06  3.00  2.69  3.31  3.44   0   0   0   0   0   0\n",
       "14  4.63  3.69  2.25  3.13  2.94  2.63   1   1   0   0   0   0\n",
       "15  3.75  2.94  2.94  3.50  4.19  3.19   1   0   0   0   1   0\n",
       "16  4.19  4.25  1.88  2.81  3.25  3.81   1   1   0   0   0   1\n",
       "17  4.25  3.00  4.00  2.50  3.25  3.25   1   0   1   0   0   0\n",
       "18  2.81  3.31  2.06  2.75  3.00  3.19   0   0   0   0   0   0\n",
       "20  3.25  3.31  4.31  3.44  2.00  4.25   0   0   1   0   0   1\n",
       "21  4.06  3.00  2.88  3.56  3.81  3.81   1   0   0   1   1   1\n",
       "22  3.50  3.88  1.88  2.63  3.94  3.69   0   1   0   0   1   1\n",
       "23  3.13  4.19  3.00  2.38  2.88  3.88   0   1   0   0   0   1\n",
       "25  3.25  3.44  3.75  3.50  3.88  3.44   0   0   1   0   1   0\n",
       "26  3.50  3.19  2.44  2.94  2.44  3.25   0   0   0   0   0   0\n",
       "27  2.63  3.88  3.81  3.88  3.31  3.88   0   1   1   1   0   1\n",
       "28  3.19  4.31  2.19  1.88  2.56  3.25   0   1   0   0   0   0\n",
       "29  3.56  4.38  2.06  2.94  3.44  4.56   1   1   0   0   0   1\n",
       "30  4.50  3.81  2.44  3.13  2.94  4.31   1   1   0   0   0   1\n",
       "31  4.06  3.56  2.63  3.31  3.75  4.06   1   1   0   0   1   1\n",
       "32  2.75  3.25  3.75  2.81  3.06  3.31   0   0   1   0   0   0\n",
       "33  4.00  3.56  2.38  3.63  3.63  3.19   1   1   0   1   1   0\n",
       "34  3.38  2.69  3.69  3.31  3.81  3.50   0   0   1   0   1   0\n",
       "35  3.69  3.44  3.56  4.00  3.38  4.38   1   0   1   1   0   1"
      ],
      "text/html": "<div>\n<style scoped>\n    .dataframe tbody tr th:only-of-type {\n        vertical-align: middle;\n    }\n\n    .dataframe tbody tr th {\n        vertical-align: top;\n    }\n\n    .dataframe thead th {\n        text-align: right;\n    }\n</style>\n<table border=\"1\" class=\"dataframe\">\n  <thead>\n    <tr style=\"text-align: right;\">\n      <th></th>\n      <th>h</th>\n      <th>e</th>\n      <th>x</th>\n      <th>a</th>\n      <th>c</th>\n      <th>o</th>\n      <th>lh</th>\n      <th>le</th>\n      <th>lx</th>\n      <th>la</th>\n      <th>lc</th>\n      <th>lo</th>\n    </tr>\n    <tr>\n      <th>id</th>\n      <th></th>\n      <th></th>\n      <th></th>\n      <th></th>\n      <th></th>\n      <th></th>\n      <th></th>\n      <th></th>\n      <th></th>\n      <th></th>\n      <th></th>\n      <th></th>\n    </tr>\n  </thead>\n  <tbody>\n    <tr>\n      <th>2</th>\n      <td>3.63</td>\n      <td>3.19</td>\n      <td>2.94</td>\n      <td>2.38</td>\n      <td>3.38</td>\n      <td>2.38</td>\n      <td>1</td>\n      <td>0</td>\n      <td>0</td>\n      <td>0</td>\n      <td>0</td>\n      <td>0</td>\n    </tr>\n    <tr>\n      <th>3</th>\n      <td>3.38</td>\n      <td>3.44</td>\n      <td>3.50</td>\n      <td>3.50</td>\n      <td>4.50</td>\n      <td>3.81</td>\n      <td>0</td>\n      <td>0</td>\n      <td>0</td>\n      <td>0</td>\n      <td>1</td>\n      <td>1</td>\n    </tr>\n    <tr>\n      <th>5</th>\n      <td>3.25</td>\n      <td>3.63</td>\n      <td>2.13</td>\n      <td>3.56</td>\n      <td>3.63</td>\n      <td>2.31</td>\n      <td>0</td>\n      <td>1</td>\n      <td>0</td>\n      <td>1</td>\n      <td>1</td>\n      <td>0</td>\n    </tr>\n    <tr>\n      <th>6</th>\n      <td>3.25</td>\n      <td>2.75</td>\n      <td>3.50</td>\n      <td>2.50</td>\n      <td>3.75</td>\n      <td>5.00</td>\n      <td>0</td>\n      <td>0</td>\n      <td>0</td>\n      <td>0</td>\n      <td>1</td>\n      <td>1</td>\n    </tr>\n    <tr>\n      <th>7</th>\n      <td>4.06</td>\n      <td>3.06</td>\n      <td>3.38</td>\n      <td>2.88</td>\n      <td>2.50</td>\n      <td>4.19</td>\n      <td>1</td>\n      <td>0</td>\n      <td>0</td>\n      <td>0</td>\n      <td>0</td>\n      <td>1</td>\n    </tr>\n    <tr>\n      <th>8</th>\n      <td>3.94</td>\n      <td>2.94</td>\n      <td>3.19</td>\n      <td>3.75</td>\n      <td>3.38</td>\n      <td>3.81</td>\n      <td>1</td>\n      <td>0</td>\n      <td>0</td>\n      <td>1</td>\n      <td>0</td>\n      <td>1</td>\n    </tr>\n    <tr>\n      <th>9</th>\n      <td>4.44</td>\n      <td>4.00</td>\n      <td>3.38</td>\n      <td>3.75</td>\n      <td>3.69</td>\n      <td>3.31</td>\n      <td>1</td>\n      <td>1</td>\n      <td>0</td>\n      <td>1</td>\n      <td>1</td>\n      <td>0</td>\n    </tr>\n    <tr>\n      <th>10</th>\n      <td>3.63</td>\n      <td>3.25</td>\n      <td>3.50</td>\n      <td>3.31</td>\n      <td>3.88</td>\n      <td>2.69</td>\n      <td>1</td>\n      <td>0</td>\n      <td>0</td>\n      <td>0</td>\n      <td>1</td>\n      <td>0</td>\n    </tr>\n    <tr>\n      <th>12</th>\n      <td>2.81</td>\n      <td>3.44</td>\n      <td>3.13</td>\n      <td>3.56</td>\n      <td>3.25</td>\n      <td>3.75</td>\n      <td>0</td>\n      <td>0</td>\n      <td>0</td>\n      <td>1</td>\n      <td>0</td>\n      <td>1</td>\n    </tr>\n    <tr>\n      <th>13</th>\n      <td>3.06</td>\n      <td>3.06</td>\n      <td>3.00</td>\n      <td>2.69</td>\n      <td>3.31</td>\n      <td>3.44</td>\n      <td>0</td>\n      <td>0</td>\n      <td>0</td>\n      <td>0</td>\n      <td>0</td>\n      <td>0</td>\n    </tr>\n    <tr>\n      <th>14</th>\n      <td>4.63</td>\n      <td>3.69</td>\n      <td>2.25</td>\n      <td>3.13</td>\n      <td>2.94</td>\n      <td>2.63</td>\n      <td>1</td>\n      <td>1</td>\n      <td>0</td>\n      <td>0</td>\n      <td>0</td>\n      <td>0</td>\n    </tr>\n    <tr>\n      <th>15</th>\n      <td>3.75</td>\n      <td>2.94</td>\n      <td>2.94</td>\n      <td>3.50</td>\n      <td>4.19</td>\n      <td>3.19</td>\n      <td>1</td>\n      <td>0</td>\n      <td>0</td>\n      <td>0</td>\n      <td>1</td>\n      <td>0</td>\n    </tr>\n    <tr>\n      <th>16</th>\n      <td>4.19</td>\n      <td>4.25</td>\n      <td>1.88</td>\n      <td>2.81</td>\n      <td>3.25</td>\n      <td>3.81</td>\n      <td>1</td>\n      <td>1</td>\n      <td>0</td>\n      <td>0</td>\n      <td>0</td>\n      <td>1</td>\n    </tr>\n    <tr>\n      <th>17</th>\n      <td>4.25</td>\n      <td>3.00</td>\n      <td>4.00</td>\n      <td>2.50</td>\n      <td>3.25</td>\n      <td>3.25</td>\n      <td>1</td>\n      <td>0</td>\n      <td>1</td>\n      <td>0</td>\n      <td>0</td>\n      <td>0</td>\n    </tr>\n    <tr>\n      <th>18</th>\n      <td>2.81</td>\n      <td>3.31</td>\n      <td>2.06</td>\n      <td>2.75</td>\n      <td>3.00</td>\n      <td>3.19</td>\n      <td>0</td>\n      <td>0</td>\n      <td>0</td>\n      <td>0</td>\n      <td>0</td>\n      <td>0</td>\n    </tr>\n    <tr>\n      <th>20</th>\n      <td>3.25</td>\n      <td>3.31</td>\n      <td>4.31</td>\n      <td>3.44</td>\n      <td>2.00</td>\n      <td>4.25</td>\n      <td>0</td>\n      <td>0</td>\n      <td>1</td>\n      <td>0</td>\n      <td>0</td>\n      <td>1</td>\n    </tr>\n    <tr>\n      <th>21</th>\n      <td>4.06</td>\n      <td>3.00</td>\n      <td>2.88</td>\n      <td>3.56</td>\n      <td>3.81</td>\n      <td>3.81</td>\n      <td>1</td>\n      <td>0</td>\n      <td>0</td>\n      <td>1</td>\n      <td>1</td>\n      <td>1</td>\n    </tr>\n    <tr>\n      <th>22</th>\n      <td>3.50</td>\n      <td>3.88</td>\n      <td>1.88</td>\n      <td>2.63</td>\n      <td>3.94</td>\n      <td>3.69</td>\n      <td>0</td>\n      <td>1</td>\n      <td>0</td>\n      <td>0</td>\n      <td>1</td>\n      <td>1</td>\n    </tr>\n    <tr>\n      <th>23</th>\n      <td>3.13</td>\n      <td>4.19</td>\n      <td>3.00</td>\n      <td>2.38</td>\n      <td>2.88</td>\n      <td>3.88</td>\n      <td>0</td>\n      <td>1</td>\n      <td>0</td>\n      <td>0</td>\n      <td>0</td>\n      <td>1</td>\n    </tr>\n    <tr>\n      <th>25</th>\n      <td>3.25</td>\n      <td>3.44</td>\n      <td>3.75</td>\n      <td>3.50</td>\n      <td>3.88</td>\n      <td>3.44</td>\n      <td>0</td>\n      <td>0</td>\n      <td>1</td>\n      <td>0</td>\n      <td>1</td>\n      <td>0</td>\n    </tr>\n    <tr>\n      <th>26</th>\n      <td>3.50</td>\n      <td>3.19</td>\n      <td>2.44</td>\n      <td>2.94</td>\n      <td>2.44</td>\n      <td>3.25</td>\n      <td>0</td>\n      <td>0</td>\n      <td>0</td>\n      <td>0</td>\n      <td>0</td>\n      <td>0</td>\n    </tr>\n    <tr>\n      <th>27</th>\n      <td>2.63</td>\n      <td>3.88</td>\n      <td>3.81</td>\n      <td>3.88</td>\n      <td>3.31</td>\n      <td>3.88</td>\n      <td>0</td>\n      <td>1</td>\n      <td>1</td>\n      <td>1</td>\n      <td>0</td>\n      <td>1</td>\n    </tr>\n    <tr>\n      <th>28</th>\n      <td>3.19</td>\n      <td>4.31</td>\n      <td>2.19</td>\n      <td>1.88</td>\n      <td>2.56</td>\n      <td>3.25</td>\n      <td>0</td>\n      <td>1</td>\n      <td>0</td>\n      <td>0</td>\n      <td>0</td>\n      <td>0</td>\n    </tr>\n    <tr>\n      <th>29</th>\n      <td>3.56</td>\n      <td>4.38</td>\n      <td>2.06</td>\n      <td>2.94</td>\n      <td>3.44</td>\n      <td>4.56</td>\n      <td>1</td>\n      <td>1</td>\n      <td>0</td>\n      <td>0</td>\n      <td>0</td>\n      <td>1</td>\n    </tr>\n    <tr>\n      <th>30</th>\n      <td>4.50</td>\n      <td>3.81</td>\n      <td>2.44</td>\n      <td>3.13</td>\n      <td>2.94</td>\n      <td>4.31</td>\n      <td>1</td>\n      <td>1</td>\n      <td>0</td>\n      <td>0</td>\n      <td>0</td>\n      <td>1</td>\n    </tr>\n    <tr>\n      <th>31</th>\n      <td>4.06</td>\n      <td>3.56</td>\n      <td>2.63</td>\n      <td>3.31</td>\n      <td>3.75</td>\n      <td>4.06</td>\n      <td>1</td>\n      <td>1</td>\n      <td>0</td>\n      <td>0</td>\n      <td>1</td>\n      <td>1</td>\n    </tr>\n    <tr>\n      <th>32</th>\n      <td>2.75</td>\n      <td>3.25</td>\n      <td>3.75</td>\n      <td>2.81</td>\n      <td>3.06</td>\n      <td>3.31</td>\n      <td>0</td>\n      <td>0</td>\n      <td>1</td>\n      <td>0</td>\n      <td>0</td>\n      <td>0</td>\n    </tr>\n    <tr>\n      <th>33</th>\n      <td>4.00</td>\n      <td>3.56</td>\n      <td>2.38</td>\n      <td>3.63</td>\n      <td>3.63</td>\n      <td>3.19</td>\n      <td>1</td>\n      <td>1</td>\n      <td>0</td>\n      <td>1</td>\n      <td>1</td>\n      <td>0</td>\n    </tr>\n    <tr>\n      <th>34</th>\n      <td>3.38</td>\n      <td>2.69</td>\n      <td>3.69</td>\n      <td>3.31</td>\n      <td>3.81</td>\n      <td>3.50</td>\n      <td>0</td>\n      <td>0</td>\n      <td>1</td>\n      <td>0</td>\n      <td>1</td>\n      <td>0</td>\n    </tr>\n    <tr>\n      <th>35</th>\n      <td>3.69</td>\n      <td>3.44</td>\n      <td>3.56</td>\n      <td>4.00</td>\n      <td>3.38</td>\n      <td>4.38</td>\n      <td>1</td>\n      <td>0</td>\n      <td>1</td>\n      <td>1</td>\n      <td>0</td>\n      <td>1</td>\n    </tr>\n  </tbody>\n</table>\n</div>"
     },
     "metadata": {},
     "execution_count": 21
    }
   ],
   "source": [
    "gt"
   ]
  },
  {
   "cell_type": "code",
   "execution_count": 22,
   "metadata": {},
   "outputs": [
    {
     "output_type": "display_data",
     "data": {
      "text/plain": "<Figure size 1152x648 with 1 Axes>",
      "image/svg+xml": "<?xml version=\"1.0\" encoding=\"utf-8\" standalone=\"no\"?>\n<!DOCTYPE svg PUBLIC \"-//W3C//DTD SVG 1.1//EN\"\n  \"http://www.w3.org/Graphics/SVG/1.1/DTD/svg11.dtd\">\n<svg height=\"544.48pt\" version=\"1.1\" viewBox=\"0 0 921.821875 544.48\" width=\"921.821875pt\" xmlns=\"http://www.w3.org/2000/svg\" xmlns:xlink=\"http://www.w3.org/1999/xlink\">\n <metadata>\n  <rdf:RDF xmlns:cc=\"http://creativecommons.org/ns#\" xmlns:dc=\"http://purl.org/dc/elements/1.1/\" xmlns:rdf=\"http://www.w3.org/1999/02/22-rdf-syntax-ns#\">\n   <cc:Work>\n    <dc:type rdf:resource=\"http://purl.org/dc/dcmitype/StillImage\"/>\n    <dc:date>2021-05-11T15:59:10.060693</dc:date>\n    <dc:format>image/svg+xml</dc:format>\n    <dc:creator>\n     <cc:Agent>\n      <dc:title>Matplotlib v3.4.1, https://matplotlib.org/</dc:title>\n     </cc:Agent>\n    </dc:creator>\n   </cc:Work>\n  </rdf:RDF>\n </metadata>\n <defs>\n  <style type=\"text/css\">*{stroke-linecap:butt;stroke-linejoin:round;}</style>\n </defs>\n <g id=\"figure_1\">\n  <g id=\"patch_1\">\n   <path d=\"M 0 544.48 \nL 921.821875 544.48 \nL 921.821875 0 \nL 0 0 \nz\n\" style=\"fill:#ffffff;\"/>\n  </g>\n  <g id=\"axes_1\">\n   <g id=\"patch_2\">\n    <path d=\"M 21.821875 511.13625 \nL 914.621875 511.13625 \nL 914.621875 21.89625 \nL 21.821875 21.89625 \nz\n\" style=\"fill:#ffffff;\"/>\n   </g>\n   <g id=\"matplotlib.axis_1\">\n    <g id=\"xtick_1\">\n     <g id=\"line2d_1\">\n      <path clip-path=\"url(#pd1ea4c5a5b)\" d=\"M 118.378615 511.13625 \nL 118.378615 21.89625 \n\" style=\"fill:none;stroke:#cccccc;stroke-linecap:round;stroke-width:0.8;\"/>\n     </g>\n     <g id=\"line2d_2\"/>\n     <g id=\"text_1\">\n      <!-- H -->\n      <g style=\"fill:#262626;\" transform=\"translate(114.767677 521.883125)scale(0.1 -0.1)\">\n       <defs>\n        <path d=\"M 3503 0 \nL 3503 2041 \nL 1122 2041 \nL 1122 0 \nL 525 0 \nL 525 4403 \nL 1122 4403 \nL 1122 2541 \nL 3503 2541 \nL 3503 4403 \nL 4100 4403 \nL 4100 0 \nL 3503 0 \nz\n\" id=\"LiberationSans-48\" transform=\"scale(0.015625)\"/>\n       </defs>\n       <use xlink:href=\"#LiberationSans-48\"/>\n      </g>\n     </g>\n    </g>\n    <g id=\"xtick_2\">\n     <g id=\"line2d_3\">\n      <path clip-path=\"url(#pd1ea4c5a5b)\" d=\"M 258.315919 511.13625 \nL 258.315919 21.89625 \n\" style=\"fill:none;stroke:#cccccc;stroke-linecap:round;stroke-width:0.8;\"/>\n     </g>\n     <g id=\"line2d_4\"/>\n     <g id=\"text_2\">\n      <!-- E -->\n      <g style=\"fill:#262626;\" transform=\"translate(254.980763 521.883125)scale(0.1 -0.1)\">\n       <defs>\n        <path d=\"M 525 0 \nL 525 4403 \nL 3866 4403 \nL 3866 3916 \nL 1122 3916 \nL 1122 2503 \nL 3678 2503 \nL 3678 2022 \nL 1122 2022 \nL 1122 488 \nL 3994 488 \nL 3994 0 \nL 525 0 \nz\n\" id=\"LiberationSans-45\" transform=\"scale(0.015625)\"/>\n       </defs>\n       <use xlink:href=\"#LiberationSans-45\"/>\n      </g>\n     </g>\n    </g>\n    <g id=\"xtick_3\">\n     <g id=\"line2d_5\">\n      <path clip-path=\"url(#pd1ea4c5a5b)\" d=\"M 398.253223 511.13625 \nL 398.253223 21.89625 \n\" style=\"fill:none;stroke:#cccccc;stroke-linecap:round;stroke-width:0.8;\"/>\n     </g>\n     <g id=\"line2d_6\"/>\n     <g id=\"text_3\">\n      <!-- X -->\n      <g style=\"fill:#262626;\" transform=\"translate(394.918067 521.883125)scale(0.1 -0.1)\">\n       <defs>\n        <path d=\"M 3475 0 \nL 2153 1925 \nL 803 0 \nL 144 0 \nL 1819 2288 \nL 272 4403 \nL 931 4403 \nL 2156 2675 \nL 3347 4403 \nL 4006 4403 \nL 2500 2309 \nL 4134 0 \nL 3475 0 \nz\n\" id=\"LiberationSans-58\" transform=\"scale(0.015625)\"/>\n       </defs>\n       <use xlink:href=\"#LiberationSans-58\"/>\n      </g>\n     </g>\n    </g>\n    <g id=\"xtick_4\">\n     <g id=\"line2d_7\">\n      <path clip-path=\"url(#pd1ea4c5a5b)\" d=\"M 538.190527 511.13625 \nL 538.190527 21.89625 \n\" style=\"fill:none;stroke:#cccccc;stroke-linecap:round;stroke-width:0.8;\"/>\n     </g>\n     <g id=\"line2d_8\"/>\n     <g id=\"text_4\">\n      <!-- A -->\n      <g style=\"fill:#262626;\" transform=\"translate(534.855371 521.883125)scale(0.1 -0.1)\">\n       <defs>\n        <path d=\"M 3647 0 \nL 3144 1288 \nL 1138 1288 \nL 631 0 \nL 13 0 \nL 1809 4403 \nL 2488 4403 \nL 4256 0 \nL 3647 0 \nz\nM 2141 3953 \nL 2113 3866 \nQ 2034 3606 1881 3200 \nL 1319 1753 \nL 2966 1753 \nL 2400 3206 \nQ 2313 3422 2225 3694 \nL 2141 3953 \nz\n\" id=\"LiberationSans-41\" transform=\"scale(0.015625)\"/>\n       </defs>\n       <use xlink:href=\"#LiberationSans-41\"/>\n      </g>\n     </g>\n    </g>\n    <g id=\"xtick_5\">\n     <g id=\"line2d_9\">\n      <path clip-path=\"url(#pd1ea4c5a5b)\" d=\"M 678.127831 511.13625 \nL 678.127831 21.89625 \n\" style=\"fill:none;stroke:#cccccc;stroke-linecap:round;stroke-width:0.8;\"/>\n     </g>\n     <g id=\"line2d_10\"/>\n     <g id=\"text_5\">\n      <!-- C -->\n      <g style=\"fill:#262626;\" transform=\"translate(674.516894 521.883125)scale(0.1 -0.1)\">\n       <defs>\n        <path d=\"M 2475 3981 \nQ 1744 3981 1337 3511 \nQ 931 3041 931 2222 \nQ 931 1413 1354 920 \nQ 1778 428 2500 428 \nQ 3425 428 3891 1344 \nL 4378 1100 \nQ 4106 531 3614 234 \nQ 3122 -63 2472 -63 \nQ 1806 -63 1320 214 \nQ 834 491 579 1005 \nQ 325 1519 325 2222 \nQ 325 3275 894 3872 \nQ 1463 4469 2469 4469 \nQ 3172 4469 3644 4194 \nQ 4116 3919 4338 3378 \nL 3772 3191 \nQ 3619 3575 3280 3778 \nQ 2941 3981 2475 3981 \nz\n\" id=\"LiberationSans-43\" transform=\"scale(0.015625)\"/>\n       </defs>\n       <use xlink:href=\"#LiberationSans-43\"/>\n      </g>\n     </g>\n    </g>\n    <g id=\"xtick_6\">\n     <g id=\"line2d_11\">\n      <path clip-path=\"url(#pd1ea4c5a5b)\" d=\"M 818.065135 511.13625 \nL 818.065135 21.89625 \n\" style=\"fill:none;stroke:#cccccc;stroke-linecap:round;stroke-width:0.8;\"/>\n     </g>\n     <g id=\"line2d_12\"/>\n     <g id=\"text_6\">\n      <!-- O -->\n      <g style=\"fill:#262626;\" transform=\"translate(814.176073 521.883125)scale(0.1 -0.1)\">\n       <defs>\n        <path d=\"M 4672 2222 \nQ 4672 1531 4408 1012 \nQ 4144 494 3650 215 \nQ 3156 -63 2484 -63 \nQ 1806 -63 1314 212 \nQ 822 488 562 1008 \nQ 303 1528 303 2222 \nQ 303 3278 881 3873 \nQ 1459 4469 2491 4469 \nQ 3163 4469 3656 4201 \nQ 4150 3934 4411 3425 \nQ 4672 2916 4672 2222 \nz\nM 4063 2222 \nQ 4063 3044 3652 3512 \nQ 3241 3981 2491 3981 \nQ 1734 3981 1321 3518 \nQ 909 3056 909 2222 \nQ 909 1394 1326 908 \nQ 1744 422 2484 422 \nQ 3247 422 3655 892 \nQ 4063 1363 4063 2222 \nz\n\" id=\"LiberationSans-4f\" transform=\"scale(0.015625)\"/>\n       </defs>\n       <use xlink:href=\"#LiberationSans-4f\"/>\n      </g>\n     </g>\n    </g>\n    <g id=\"text_7\">\n     <!-- Labels -->\n     <g style=\"fill:#262626;\" transform=\"translate(453.489062 535.205)scale(0.1 -0.1)\">\n      <defs>\n       <path d=\"M 525 0 \nL 525 4403 \nL 1122 4403 \nL 1122 488 \nL 3347 488 \nL 3347 0 \nL 525 0 \nz\n\" id=\"LiberationSans-4c\" transform=\"scale(0.015625)\"/>\n       <path d=\"M 1294 -63 \nQ 784 -63 528 206 \nQ 272 475 272 944 \nQ 272 1469 617 1750 \nQ 963 2031 1731 2050 \nL 2491 2063 \nL 2491 2247 \nQ 2491 2659 2316 2837 \nQ 2141 3016 1766 3016 \nQ 1388 3016 1216 2887 \nQ 1044 2759 1009 2478 \nL 422 2531 \nQ 566 3444 1778 3444 \nQ 2416 3444 2737 3151 \nQ 3059 2859 3059 2306 \nL 3059 850 \nQ 3059 600 3125 473 \nQ 3191 347 3375 347 \nQ 3456 347 3559 369 \nL 3559 19 \nQ 3347 -31 3125 -31 \nQ 2813 -31 2670 133 \nQ 2528 297 2509 647 \nL 2491 647 \nQ 2275 259 1989 98 \nQ 1703 -63 1294 -63 \nz\nM 1422 359 \nQ 1731 359 1972 500 \nQ 2213 641 2352 886 \nQ 2491 1131 2491 1391 \nL 2491 1669 \nL 1875 1656 \nQ 1478 1650 1273 1575 \nQ 1069 1500 959 1344 \nQ 850 1188 850 934 \nQ 850 659 998 509 \nQ 1147 359 1422 359 \nz\n\" id=\"LiberationSans-61\" transform=\"scale(0.015625)\"/>\n       <path d=\"M 3291 1706 \nQ 3291 -63 2047 -63 \nQ 1663 -63 1408 76 \nQ 1153 216 994 525 \nL 988 525 \nQ 988 428 975 229 \nQ 963 31 956 0 \nL 413 0 \nQ 431 169 431 697 \nL 431 4638 \nL 994 4638 \nL 994 3316 \nQ 994 3113 981 2838 \nL 994 2838 \nQ 1150 3163 1408 3303 \nQ 1666 3444 2047 3444 \nQ 2688 3444 2989 3012 \nQ 3291 2581 3291 1706 \nz\nM 2700 1688 \nQ 2700 2397 2512 2703 \nQ 2325 3009 1903 3009 \nQ 1428 3009 1211 2684 \nQ 994 2359 994 1653 \nQ 994 988 1206 670 \nQ 1419 353 1897 353 \nQ 2322 353 2511 667 \nQ 2700 981 2700 1688 \nz\n\" id=\"LiberationSans-62\" transform=\"scale(0.015625)\"/>\n       <path d=\"M 863 1572 \nQ 863 991 1103 675 \nQ 1344 359 1806 359 \nQ 2172 359 2392 506 \nQ 2613 653 2691 878 \nL 3184 738 \nQ 2881 -63 1806 -63 \nQ 1056 -63 664 384 \nQ 272 831 272 1713 \nQ 272 2550 664 2997 \nQ 1056 3444 1784 3444 \nQ 3275 3444 3275 1647 \nL 3275 1572 \nL 863 1572 \nz\nM 2694 2003 \nQ 2647 2538 2422 2783 \nQ 2197 3028 1775 3028 \nQ 1366 3028 1127 2754 \nQ 888 2481 869 2003 \nL 2694 2003 \nz\n\" id=\"LiberationSans-65\" transform=\"scale(0.015625)\"/>\n       <path d=\"M 431 0 \nL 431 4638 \nL 994 4638 \nL 994 0 \nL 431 0 \nz\n\" id=\"LiberationSans-6c\" transform=\"scale(0.015625)\"/>\n       <path d=\"M 2969 934 \nQ 2969 456 2608 196 \nQ 2247 -63 1597 -63 \nQ 966 -63 623 145 \nQ 281 353 178 794 \nL 675 891 \nQ 747 619 972 492 \nQ 1197 366 1597 366 \nQ 2025 366 2223 497 \nQ 2422 628 2422 891 \nQ 2422 1091 2284 1216 \nQ 2147 1341 1841 1422 \nL 1438 1528 \nQ 953 1653 748 1773 \nQ 544 1894 428 2066 \nQ 313 2238 313 2488 \nQ 313 2950 642 3192 \nQ 972 3434 1603 3434 \nQ 2163 3434 2492 3237 \nQ 2822 3041 2909 2606 \nL 2403 2544 \nQ 2356 2769 2151 2889 \nQ 1947 3009 1603 3009 \nQ 1222 3009 1040 2893 \nQ 859 2778 859 2544 \nQ 859 2400 934 2306 \nQ 1009 2213 1156 2147 \nQ 1303 2081 1775 1966 \nQ 2222 1853 2419 1758 \nQ 2616 1663 2730 1547 \nQ 2844 1431 2906 1279 \nQ 2969 1128 2969 934 \nz\n\" id=\"LiberationSans-73\" transform=\"scale(0.015625)\"/>\n      </defs>\n      <use xlink:href=\"#LiberationSans-4c\"/>\n      <use x=\"55.615234\" xlink:href=\"#LiberationSans-61\"/>\n      <use x=\"111.230469\" xlink:href=\"#LiberationSans-62\"/>\n      <use x=\"166.845703\" xlink:href=\"#LiberationSans-65\"/>\n      <use x=\"222.460938\" xlink:href=\"#LiberationSans-6c\"/>\n      <use x=\"244.677734\" xlink:href=\"#LiberationSans-73\"/>\n     </g>\n    </g>\n   </g>\n   <g id=\"matplotlib.axis_2\">\n    <g id=\"ytick_1\">\n     <g id=\"line2d_13\">\n      <path clip-path=\"url(#pd1ea4c5a5b)\" d=\"M 21.821875 511.13625 \nL 914.621875 511.13625 \n\" style=\"fill:none;stroke:#cccccc;stroke-linecap:round;stroke-width:0.8;\"/>\n     </g>\n     <g id=\"line2d_14\"/>\n     <g id=\"text_8\">\n      <!-- 0 -->\n      <g style=\"fill:#262626;\" transform=\"translate(12.760938 514.759687)scale(0.1 -0.1)\">\n       <defs>\n        <path d=\"M 3309 2203 \nQ 3309 1100 2920 518 \nQ 2531 -63 1772 -63 \nQ 1013 -63 631 515 \nQ 250 1094 250 2203 \nQ 250 3338 620 3903 \nQ 991 4469 1791 4469 \nQ 2569 4469 2939 3897 \nQ 3309 3325 3309 2203 \nz\nM 2738 2203 \nQ 2738 3156 2517 3584 \nQ 2297 4013 1791 4013 \nQ 1272 4013 1045 3591 \nQ 819 3169 819 2203 \nQ 819 1266 1048 831 \nQ 1278 397 1778 397 \nQ 2275 397 2506 840 \nQ 2738 1284 2738 2203 \nz\n\" id=\"LiberationSans-30\" transform=\"scale(0.015625)\"/>\n       </defs>\n       <use xlink:href=\"#LiberationSans-30\"/>\n      </g>\n     </g>\n    </g>\n    <g id=\"ytick_2\">\n     <g id=\"line2d_15\">\n      <path clip-path=\"url(#pd1ea4c5a5b)\" d=\"M 21.821875 449.010536 \nL 914.621875 449.010536 \n\" style=\"fill:none;stroke:#cccccc;stroke-linecap:round;stroke-width:0.8;\"/>\n     </g>\n     <g id=\"line2d_16\"/>\n     <g id=\"text_9\">\n      <!-- 2 -->\n      <g style=\"fill:#262626;\" transform=\"translate(12.760938 452.633973)scale(0.1 -0.1)\">\n       <defs>\n        <path d=\"M 322 0 \nL 322 397 \nQ 481 763 711 1042 \nQ 941 1322 1194 1548 \nQ 1447 1775 1695 1969 \nQ 1944 2163 2144 2356 \nQ 2344 2550 2467 2762 \nQ 2591 2975 2591 3244 \nQ 2591 3606 2378 3806 \nQ 2166 4006 1788 4006 \nQ 1428 4006 1195 3811 \nQ 963 3616 922 3263 \nL 347 3316 \nQ 409 3844 795 4156 \nQ 1181 4469 1788 4469 \nQ 2453 4469 2811 4155 \nQ 3169 3841 3169 3263 \nQ 3169 3006 3051 2753 \nQ 2934 2500 2703 2247 \nQ 2472 1994 1819 1463 \nQ 1459 1169 1246 933 \nQ 1034 697 941 478 \nL 3238 478 \nL 3238 0 \nL 322 0 \nz\n\" id=\"LiberationSans-32\" transform=\"scale(0.015625)\"/>\n       </defs>\n       <use xlink:href=\"#LiberationSans-32\"/>\n      </g>\n     </g>\n    </g>\n    <g id=\"ytick_3\">\n     <g id=\"line2d_17\">\n      <path clip-path=\"url(#pd1ea4c5a5b)\" d=\"M 21.821875 386.884821 \nL 914.621875 386.884821 \n\" style=\"fill:none;stroke:#cccccc;stroke-linecap:round;stroke-width:0.8;\"/>\n     </g>\n     <g id=\"line2d_18\"/>\n     <g id=\"text_10\">\n      <!-- 4 -->\n      <g style=\"fill:#262626;\" transform=\"translate(12.760938 390.508259)scale(0.1 -0.1)\">\n       <defs>\n        <path d=\"M 2753 997 \nL 2753 0 \nL 2222 0 \nL 2222 997 \nL 147 997 \nL 147 1434 \nL 2163 4403 \nL 2753 4403 \nL 2753 1441 \nL 3372 1441 \nL 3372 997 \nL 2753 997 \nz\nM 2222 3769 \nQ 2216 3750 2134 3603 \nQ 2053 3456 2013 3397 \nL 884 1734 \nL 716 1503 \nL 666 1441 \nL 2222 1441 \nL 2222 3769 \nz\n\" id=\"LiberationSans-34\" transform=\"scale(0.015625)\"/>\n       </defs>\n       <use xlink:href=\"#LiberationSans-34\"/>\n      </g>\n     </g>\n    </g>\n    <g id=\"ytick_4\">\n     <g id=\"line2d_19\">\n      <path clip-path=\"url(#pd1ea4c5a5b)\" d=\"M 21.821875 324.759107 \nL 914.621875 324.759107 \n\" style=\"fill:none;stroke:#cccccc;stroke-linecap:round;stroke-width:0.8;\"/>\n     </g>\n     <g id=\"line2d_20\"/>\n     <g id=\"text_11\">\n      <!-- 6 -->\n      <g style=\"fill:#262626;\" transform=\"translate(12.760938 328.382545)scale(0.1 -0.1)\">\n       <defs>\n        <path d=\"M 3278 1441 \nQ 3278 744 2900 340 \nQ 2522 -63 1856 -63 \nQ 1113 -63 719 490 \nQ 325 1044 325 2100 \nQ 325 3244 734 3856 \nQ 1144 4469 1900 4469 \nQ 2897 4469 3156 3572 \nL 2619 3475 \nQ 2453 4013 1894 4013 \nQ 1413 4013 1148 3564 \nQ 884 3116 884 2266 \nQ 1038 2550 1316 2698 \nQ 1594 2847 1953 2847 \nQ 2563 2847 2920 2465 \nQ 3278 2084 3278 1441 \nz\nM 2706 1416 \nQ 2706 1894 2472 2153 \nQ 2238 2413 1819 2413 \nQ 1425 2413 1183 2183 \nQ 941 1953 941 1550 \nQ 941 1041 1192 716 \nQ 1444 391 1838 391 \nQ 2244 391 2475 664 \nQ 2706 938 2706 1416 \nz\n\" id=\"LiberationSans-36\" transform=\"scale(0.015625)\"/>\n       </defs>\n       <use xlink:href=\"#LiberationSans-36\"/>\n      </g>\n     </g>\n    </g>\n    <g id=\"ytick_5\">\n     <g id=\"line2d_21\">\n      <path clip-path=\"url(#pd1ea4c5a5b)\" d=\"M 21.821875 262.633393 \nL 914.621875 262.633393 \n\" style=\"fill:none;stroke:#cccccc;stroke-linecap:round;stroke-width:0.8;\"/>\n     </g>\n     <g id=\"line2d_22\"/>\n     <g id=\"text_12\">\n      <!-- 8 -->\n      <g style=\"fill:#262626;\" transform=\"translate(12.760938 266.25683)scale(0.1 -0.1)\">\n       <defs>\n        <path d=\"M 3281 1228 \nQ 3281 619 2893 278 \nQ 2506 -63 1781 -63 \nQ 1075 -63 676 271 \nQ 278 606 278 1222 \nQ 278 1653 525 1947 \nQ 772 2241 1156 2303 \nL 1156 2316 \nQ 797 2400 589 2681 \nQ 381 2963 381 3341 \nQ 381 3844 757 4156 \nQ 1134 4469 1769 4469 \nQ 2419 4469 2795 4162 \nQ 3172 3856 3172 3334 \nQ 3172 2956 2962 2675 \nQ 2753 2394 2391 2322 \nL 2391 2309 \nQ 2813 2241 3047 1952 \nQ 3281 1663 3281 1228 \nz\nM 2588 3303 \nQ 2588 4050 1769 4050 \nQ 1372 4050 1164 3862 \nQ 956 3675 956 3303 \nQ 956 2925 1170 2726 \nQ 1384 2528 1775 2528 \nQ 2172 2528 2380 2711 \nQ 2588 2894 2588 3303 \nz\nM 2697 1281 \nQ 2697 1691 2453 1898 \nQ 2209 2106 1769 2106 \nQ 1341 2106 1100 1882 \nQ 859 1659 859 1269 \nQ 859 359 1788 359 \nQ 2247 359 2472 579 \nQ 2697 800 2697 1281 \nz\n\" id=\"LiberationSans-38\" transform=\"scale(0.015625)\"/>\n       </defs>\n       <use xlink:href=\"#LiberationSans-38\"/>\n      </g>\n     </g>\n    </g>\n    <g id=\"ytick_6\">\n     <g id=\"line2d_23\">\n      <path clip-path=\"url(#pd1ea4c5a5b)\" d=\"M 21.821875 200.507679 \nL 914.621875 200.507679 \n\" style=\"fill:none;stroke:#cccccc;stroke-linecap:round;stroke-width:0.8;\"/>\n     </g>\n     <g id=\"line2d_24\"/>\n     <g id=\"text_13\">\n      <!-- 10 -->\n      <g style=\"fill:#262626;\" transform=\"translate(7.2 204.131116)scale(0.1 -0.1)\">\n       <defs>\n        <path d=\"M 488 0 \nL 488 478 \nL 1609 478 \nL 1609 3866 \nL 616 3156 \nL 616 3688 \nL 1656 4403 \nL 2175 4403 \nL 2175 478 \nL 3247 478 \nL 3247 0 \nL 488 0 \nz\n\" id=\"LiberationSans-31\" transform=\"scale(0.015625)\"/>\n       </defs>\n       <use xlink:href=\"#LiberationSans-31\"/>\n       <use x=\"55.615234\" xlink:href=\"#LiberationSans-30\"/>\n      </g>\n     </g>\n    </g>\n    <g id=\"ytick_7\">\n     <g id=\"line2d_25\">\n      <path clip-path=\"url(#pd1ea4c5a5b)\" d=\"M 21.821875 138.381964 \nL 914.621875 138.381964 \n\" style=\"fill:none;stroke:#cccccc;stroke-linecap:round;stroke-width:0.8;\"/>\n     </g>\n     <g id=\"line2d_26\"/>\n     <g id=\"text_14\">\n      <!-- 12 -->\n      <g style=\"fill:#262626;\" transform=\"translate(7.2 142.005402)scale(0.1 -0.1)\">\n       <use xlink:href=\"#LiberationSans-31\"/>\n       <use x=\"55.615234\" xlink:href=\"#LiberationSans-32\"/>\n      </g>\n     </g>\n    </g>\n    <g id=\"ytick_8\">\n     <g id=\"line2d_27\">\n      <path clip-path=\"url(#pd1ea4c5a5b)\" d=\"M 21.821875 76.25625 \nL 914.621875 76.25625 \n\" style=\"fill:none;stroke:#cccccc;stroke-linecap:round;stroke-width:0.8;\"/>\n     </g>\n     <g id=\"line2d_28\"/>\n     <g id=\"text_15\">\n      <!-- 14 -->\n      <g style=\"fill:#262626;\" transform=\"translate(7.2 79.879687)scale(0.1 -0.1)\">\n       <use xlink:href=\"#LiberationSans-31\"/>\n       <use x=\"55.615234\" xlink:href=\"#LiberationSans-34\"/>\n      </g>\n     </g>\n    </g>\n   </g>\n   <g id=\"patch_3\">\n    <path clip-path=\"url(#pd1ea4c5a5b)\" d=\"M 62.403693 511.13625 \nL 174.353536 511.13625 \nL 174.353536 45.193393 \nL 62.403693 45.193393 \nz\n\" style=\"fill:#1f77b4;\"/>\n   </g>\n   <g id=\"patch_4\">\n    <path clip-path=\"url(#pd1ea4c5a5b)\" d=\"M 202.340997 511.13625 \nL 314.290841 511.13625 \nL 314.290841 138.381964 \nL 202.340997 138.381964 \nz\n\" style=\"fill:#1f77b4;\"/>\n   </g>\n   <g id=\"patch_5\">\n    <path clip-path=\"url(#pd1ea4c5a5b)\" d=\"M 342.278301 511.13625 \nL 454.228145 511.13625 \nL 454.228145 293.69625 \nL 342.278301 293.69625 \nz\n\" style=\"fill:#1f77b4;\"/>\n   </g>\n   <g id=\"patch_6\">\n    <path clip-path=\"url(#pd1ea4c5a5b)\" d=\"M 482.215605 511.13625 \nL 594.165449 511.13625 \nL 594.165449 262.633393 \nL 482.215605 262.633393 \nz\n\" style=\"fill:#1f77b4;\"/>\n   </g>\n   <g id=\"patch_7\">\n    <path clip-path=\"url(#pd1ea4c5a5b)\" d=\"M 622.152909 511.13625 \nL 734.102753 511.13625 \nL 734.102753 138.381964 \nL 622.152909 138.381964 \nz\n\" style=\"fill:#1f77b4;\"/>\n   </g>\n   <g id=\"patch_8\">\n    <path clip-path=\"url(#pd1ea4c5a5b)\" d=\"M 762.090214 511.13625 \nL 874.040057 511.13625 \nL 874.040057 45.193393 \nL 762.090214 45.193393 \nz\n\" style=\"fill:#1f77b4;\"/>\n   </g>\n   <g id=\"patch_9\">\n    <path d=\"M 21.821875 511.13625 \nL 21.821875 21.89625 \n\" style=\"fill:none;stroke:#cccccc;stroke-linecap:square;stroke-linejoin:miter;\"/>\n   </g>\n   <g id=\"patch_10\">\n    <path d=\"M 914.621875 511.13625 \nL 914.621875 21.89625 \n\" style=\"fill:none;stroke:#cccccc;stroke-linecap:square;stroke-linejoin:miter;\"/>\n   </g>\n   <g id=\"patch_11\">\n    <path d=\"M 21.821875 511.13625 \nL 914.621875 511.13625 \n\" style=\"fill:none;stroke:#cccccc;stroke-linecap:square;stroke-linejoin:miter;\"/>\n   </g>\n   <g id=\"patch_12\">\n    <path d=\"M 21.821875 21.89625 \nL 914.621875 21.89625 \n\" style=\"fill:none;stroke:#cccccc;stroke-linecap:square;stroke-linejoin:miter;\"/>\n   </g>\n   <g id=\"text_16\">\n    <!-- Distribution of Labels -->\n    <g style=\"fill:#262626;\" transform=\"translate(412.195 15.89625)scale(0.12 -0.12)\">\n     <defs>\n      <path d=\"M 4316 2247 \nQ 4316 1566 4050 1055 \nQ 3784 544 3296 272 \nQ 2809 0 2172 0 \nL 525 0 \nL 525 4403 \nL 1981 4403 \nQ 3100 4403 3708 3842 \nQ 4316 3281 4316 2247 \nz\nM 3716 2247 \nQ 3716 3066 3267 3495 \nQ 2819 3925 1969 3925 \nL 1122 3925 \nL 1122 478 \nL 2103 478 \nQ 2588 478 2955 690 \nQ 3322 903 3519 1303 \nQ 3716 1703 3716 2247 \nz\n\" id=\"LiberationSans-44\" transform=\"scale(0.015625)\"/>\n      <path d=\"M 428 4100 \nL 428 4638 \nL 991 4638 \nL 991 4100 \nL 428 4100 \nz\nM 428 0 \nL 428 3381 \nL 991 3381 \nL 991 0 \nL 428 0 \nz\n\" id=\"LiberationSans-69\" transform=\"scale(0.015625)\"/>\n      <path d=\"M 1731 25 \nQ 1453 -50 1163 -50 \nQ 488 -50 488 716 \nL 488 2972 \nL 97 2972 \nL 97 3381 \nL 509 3381 \nL 675 4138 \nL 1050 4138 \nL 1050 3381 \nL 1675 3381 \nL 1675 2972 \nL 1050 2972 \nL 1050 838 \nQ 1050 594 1129 495 \nQ 1209 397 1406 397 \nQ 1519 397 1731 441 \nL 1731 25 \nz\n\" id=\"LiberationSans-74\" transform=\"scale(0.015625)\"/>\n      <path d=\"M 444 0 \nL 444 2594 \nQ 444 2950 425 3381 \nL 956 3381 \nQ 981 2806 981 2691 \nL 994 2691 \nQ 1128 3125 1303 3284 \nQ 1478 3444 1797 3444 \nQ 1909 3444 2025 3413 \nL 2025 2897 \nQ 1913 2928 1725 2928 \nQ 1375 2928 1190 2626 \nQ 1006 2325 1006 1763 \nL 1006 0 \nL 444 0 \nz\n\" id=\"LiberationSans-72\" transform=\"scale(0.015625)\"/>\n      <path d=\"M 981 3381 \nL 981 1238 \nQ 981 903 1047 718 \nQ 1113 534 1256 453 \nQ 1400 372 1678 372 \nQ 2084 372 2318 650 \nQ 2553 928 2553 1422 \nL 2553 3381 \nL 3116 3381 \nL 3116 722 \nQ 3116 131 3134 0 \nL 2603 0 \nQ 2600 16 2597 84 \nQ 2594 153 2589 242 \nQ 2584 331 2578 578 \nL 2569 578 \nQ 2375 228 2120 82 \nQ 1866 -63 1488 -63 \nQ 931 -63 673 214 \nQ 416 491 416 1128 \nL 416 3381 \nL 981 3381 \nz\n\" id=\"LiberationSans-75\" transform=\"scale(0.015625)\"/>\n      <path d=\"M 3291 1694 \nQ 3291 806 2900 371 \nQ 2509 -63 1766 -63 \nQ 1025 -63 647 389 \nQ 269 841 269 1694 \nQ 269 3444 1784 3444 \nQ 2559 3444 2925 3017 \nQ 3291 2591 3291 1694 \nz\nM 2700 1694 \nQ 2700 2394 2492 2711 \nQ 2284 3028 1794 3028 \nQ 1300 3028 1079 2704 \nQ 859 2381 859 1694 \nQ 859 1025 1076 689 \nQ 1294 353 1759 353 \nQ 2266 353 2483 678 \nQ 2700 1003 2700 1694 \nz\n\" id=\"LiberationSans-6f\" transform=\"scale(0.015625)\"/>\n      <path d=\"M 2578 0 \nL 2578 2144 \nQ 2578 2478 2512 2662 \nQ 2447 2847 2303 2928 \nQ 2159 3009 1881 3009 \nQ 1475 3009 1240 2731 \nQ 1006 2453 1006 1959 \nL 1006 0 \nL 444 0 \nL 444 2659 \nQ 444 3250 425 3381 \nL 956 3381 \nQ 959 3366 962 3297 \nQ 966 3228 970 3139 \nQ 975 3050 981 2803 \nL 991 2803 \nQ 1184 3153 1439 3298 \nQ 1694 3444 2072 3444 \nQ 2628 3444 2886 3167 \nQ 3144 2891 3144 2253 \nL 3144 0 \nL 2578 0 \nz\n\" id=\"LiberationSans-6e\" transform=\"scale(0.015625)\"/>\n      <path id=\"LiberationSans-20\" transform=\"scale(0.015625)\"/>\n      <path d=\"M 1128 2972 \nL 1128 0 \nL 566 0 \nL 566 2972 \nL 91 2972 \nL 91 3381 \nL 566 3381 \nL 566 3763 \nQ 566 4225 769 4428 \nQ 972 4631 1391 4631 \nQ 1625 4631 1788 4594 \nL 1788 4166 \nQ 1647 4191 1538 4191 \nQ 1322 4191 1225 4081 \nQ 1128 3972 1128 3684 \nL 1128 3381 \nL 1788 3381 \nL 1788 2972 \nL 1128 2972 \nz\n\" id=\"LiberationSans-66\" transform=\"scale(0.015625)\"/>\n     </defs>\n     <use xlink:href=\"#LiberationSans-44\"/>\n     <use x=\"72.216797\" xlink:href=\"#LiberationSans-69\"/>\n     <use x=\"94.433594\" xlink:href=\"#LiberationSans-73\"/>\n     <use x=\"144.433594\" xlink:href=\"#LiberationSans-74\"/>\n     <use x=\"172.216797\" xlink:href=\"#LiberationSans-72\"/>\n     <use x=\"205.517578\" xlink:href=\"#LiberationSans-69\"/>\n     <use x=\"227.734375\" xlink:href=\"#LiberationSans-62\"/>\n     <use x=\"283.349609\" xlink:href=\"#LiberationSans-75\"/>\n     <use x=\"338.964844\" xlink:href=\"#LiberationSans-74\"/>\n     <use x=\"366.748047\" xlink:href=\"#LiberationSans-69\"/>\n     <use x=\"388.964844\" xlink:href=\"#LiberationSans-6f\"/>\n     <use x=\"444.580078\" xlink:href=\"#LiberationSans-6e\"/>\n     <use x=\"500.195312\" xlink:href=\"#LiberationSans-20\"/>\n     <use x=\"527.978516\" xlink:href=\"#LiberationSans-6f\"/>\n     <use x=\"583.59375\" xlink:href=\"#LiberationSans-66\"/>\n     <use x=\"611.376953\" xlink:href=\"#LiberationSans-20\"/>\n     <use x=\"639.160156\" xlink:href=\"#LiberationSans-4c\"/>\n     <use x=\"694.775391\" xlink:href=\"#LiberationSans-61\"/>\n     <use x=\"750.390625\" xlink:href=\"#LiberationSans-62\"/>\n     <use x=\"806.005859\" xlink:href=\"#LiberationSans-65\"/>\n     <use x=\"861.621094\" xlink:href=\"#LiberationSans-6c\"/>\n     <use x=\"883.837891\" xlink:href=\"#LiberationSans-73\"/>\n    </g>\n   </g>\n  </g>\n </g>\n <defs>\n  <clipPath id=\"pd1ea4c5a5b\">\n   <rect height=\"489.24\" width=\"892.8\" x=\"21.821875\" y=\"21.89625\"/>\n  </clipPath>\n </defs>\n</svg>\n",
      "image/png": "[encoded data removed]"
     },
     "metadata": {}
    }
   ],
   "source": [
    "fig, ax = plt.subplots(figsize=(16,9))\n",
    "ax.bar(['H','E','X','A','C','O'],[ sum(gt['lh']), sum(gt['le']), sum(gt['lx']), sum(gt['la']), sum(gt['lc']), sum(gt['lo'])  ])\n",
    "ax.set_title(\"Distribution of Labels\")\n",
    "ax.set_xlabel(\"Labels\")\n",
    "# ax.set_ylabel(\"Distribution of Labels\")\n",
    "plt.show()"
   ]
  },
  {
   "source": [
    "Extract for every image samples.\n",
    "\n",
    "There are "
   ],
   "cell_type": "markdown",
   "metadata": {}
  },
  {
   "cell_type": "code",
   "execution_count": 71,
   "metadata": {},
   "outputs": [
    {
     "output_type": "execute_result",
     "data": {
      "text/plain": [
       "lh    1.0\n",
       "le    1.0\n",
       "lx    0.0\n",
       "la    1.0\n",
       "lc    1.0\n",
       "lo    0.0\n",
       "Name: 33, dtype: float64"
      ]
     },
     "metadata": {},
     "execution_count": 71
    }
   ],
   "source": [
    "gt.loc[33][['lh','le','lx','la','lc','lo']]"
   ]
  },
  {
   "cell_type": "code",
   "execution_count": 104,
   "metadata": {},
   "outputs": [],
   "source": [
    "# Preprocess data + feature extraction using wavelet 'morlet'\n",
    "def get_data_wt(eeg_type = 'image'):\n",
    "    X = None\n",
    "    # y = []\n",
    "    Y = None\n",
    "    participant_id = []\n",
    "    categories = []\n",
    "    # 'DELTA' 'THETA' 'ALPHA' 'BETA' 'Gamma'\n",
    "    # https://reader.elsevier.com/reader/sd/pii/S0957417410005695?token=99F7CC487CECF9C17E36713347D0F8372A289AC2C6331A2B6C4F272CD34921FD8B418EB417C0F9C3796CEA271FB4455D&originRegion=eu-west-1&originCreation=20210510142445\n",
    "    filter_list = np.array([4,8,13,30,125])\n",
    "    # ids = [33,2,10,12,16]\n",
    "    ids = gt.index.tolist()\n",
    "    for id in tqdm(ids):\n",
    "        # print('\\n',\"=\"*20,id)\n",
    "        if(eeg_type == 'image'):\n",
    "            raw = dataframe_to_raw(EEG_image[id], sfreq=250)\n",
    "        else:\n",
    "            raw = dataframe_to_raw(EEG_audio[id], sfreq=250)\n",
    "\n",
    "        raw.notch_filter([50,100],filter_length='auto', phase='zero', verbose=False) # Line power\n",
    "        raw.filter(1., None, fir_design='firwin', verbose=False) # Slow drift\n",
    "\n",
    "        events = mne.find_events(raw, stim_channel='Marker', initial_event=True, verbose=False)\n",
    "        events = np.delete(events,np.argwhere(events[:,2] == 1), axis=0)\n",
    "        if(events.shape[0] != 50):\n",
    "            raise ValueError(f\"Event missing: {events[:,2]}. len(events.shape[0])={events.shape[0]}\")\n",
    "        epochs = mne.Epochs(raw, events, tmin=0.3, tmax=5.8, baseline=(0.3,0.3), verbose=False)\n",
    "        if(epochs.get_data().shape[0] != 50):\n",
    "            raise ValueError(f\"There might be a bad data. epochs.get_data().shape = {epochs.get_data().shape}\")\n",
    "\n",
    "        powers = tfr_morlet(epochs, freqs=filter_list, n_cycles=filter_list / 2., return_itc=False, average=False, verbose=False)\n",
    "        features = np.mean(powers.data, axis=3)\n",
    "        # print(features.shape) #(50,8,5)\n",
    "        for e in range(features.shape[0]):\n",
    "            row = np.expand_dims(features[e].reshape(-1), axis=0)\n",
    "            row = 10 * np.log10(row)\n",
    "            if(type(X) == type(None)): X = row\n",
    "            else: X = np.concatenate( [X, row ], axis=0 )\n",
    "            # y.append(gt.loc[id]['label'])\n",
    "\n",
    "            label = gt.loc[id][['lh','le','lx','la','lc','lo']].to_numpy()\n",
    "            label = np.expand_dims(label, axis=0)\n",
    "            if(type(Y) == type(None)): Y = label\n",
    "            else: Y = np.concatenate( [Y, label ], axis=0 )\n",
    "            participant_id.append(id)\n",
    "        for e in events[:,2]:\n",
    "            categories.append(str(e)[0])\n",
    "            # print(Y.shape)\n",
    "    # y = np.array(y)\n",
    "    return X,Y,np.array(participant_id),np.array(categories)"
   ]
  },
  {
   "source": [
    "# Save everything into CSV file"
   ],
   "cell_type": "markdown",
   "metadata": {}
  },
  {
   "cell_type": "code",
   "execution_count": 105,
   "metadata": {},
   "outputs": [
    {
     "output_type": "stream",
     "name": "stdout",
     "text": [
      "{0: 'Fp1-DELTA', 1: 'Fp1-THETA', 2: 'Fp1-ALPHA', 3: 'Fp1-BETA', 4: 'Fp1-Gamma', 5: 'Fp2-DELTA', 6: 'Fp2-THETA', 7: 'Fp2-ALPHA', 8: 'Fp2-BETA', 9: 'Fp2-Gamma', 10: 'F3-DELTA', 11: 'F3-THETA', 12: 'F3-ALPHA', 13: 'F3-BETA', 14: 'F3-Gamma', 15: 'F4-DELTA', 16: 'F4-THETA', 17: 'F4-ALPHA', 18: 'F4-BETA', 19: 'F4-Gamma', 20: 'F7-DELTA', 21: 'F7-THETA', 22: 'F7-ALPHA', 23: 'F7-BETA', 24: 'F7-Gamma', 25: 'F8-DELTA', 26: 'F8-THETA', 27: 'F8-ALPHA', 28: 'F8-BETA', 29: 'F8-Gamma', 30: 'P7-DELTA', 31: 'P7-THETA', 32: 'P7-ALPHA', 33: 'P7-BETA', 34: 'P7-Gamma', 35: 'P8-DELTA', 36: 'P8-THETA', 37: 'P8-ALPHA', 38: 'P8-BETA', 39: 'P8-Gamma'}\n"
     ]
    }
   ],
   "source": [
    "import warnings\n",
    "warnings.filterwarnings(\"ignore\")\n",
    "\n",
    "channels = list(columns.values())\n",
    "band_name = np.array(['DELTA','THETA','ALPHA','BETA','Gamma'])\n",
    "X_head = dict()\n",
    "count = 0\n",
    "for channel in channels:\n",
    "    for band in band_name:\n",
    "        X_head[count] = (f\"{channel}-{band}\")\n",
    "        count += 1\n",
    "print(X_head)"
   ]
  },
  {
   "cell_type": "code",
   "execution_count": 106,
   "metadata": {},
   "outputs": [
    {
     "output_type": "display_data",
     "data": {
      "text/plain": "  0%|          | 0/30 [00:00<?, ?it/s]",
      "application/vnd.jupyter.widget-view+json": {
       "version_major": 2,
       "version_minor": 0,
       "model_id": "e0d7805017aa418fa04f3040265ca799"
      }
     },
     "metadata": {}
    },
    {
     "output_type": "display_data",
     "data": {
      "text/plain": "  0%|          | 0/30 [00:00<?, ?it/s]",
      "application/vnd.jupyter.widget-view+json": {
       "version_major": 2,
       "version_minor": 0,
       "model_id": "cc69e700e8b142f7b2109a3446ae93d1"
      }
     },
     "metadata": {}
    }
   ],
   "source": [
    "for eeg_type in ['image','audio']:\n",
    "    X,Y,participant_id,categories = get_data_wt(eeg_type)\n",
    "    df = pd.DataFrame(X).rename(columns=X_head)\n",
    "    df['id'] = participant_id\n",
    "    df['category'] = categories\n",
    "    df['label_h'] = Y[:,0]\n",
    "    df['label_e'] = Y[:,1]\n",
    "    df['label_x'] = Y[:,2]\n",
    "    df['label_a'] = Y[:,3]\n",
    "    df['label_c'] = Y[:,4]\n",
    "    df['label_o'] = Y[:,5]\n",
    "    df.to_csv(f'./data_process/{eeg_type}.csv')"
   ]
  },
  {
   "source": [
    "# load data from the prepared file"
   ],
   "cell_type": "markdown",
   "metadata": {}
  },
  {
   "cell_type": "code",
   "execution_count": 1,
   "metadata": {},
   "outputs": [],
   "source": [
    "import pandas\n",
    "image_df = pandas.read_csv('./data_process_wt/image.csv').rename(columns={'Unnamed: 0':'sample'}).set_index('sample')\n",
    "audio_df = pandas.read_csv('./data_process_wt/audio.csv').rename(columns={'Unnamed: 0':'sample'}).set_index('sample')"
   ]
  },
  {
   "cell_type": "code",
   "execution_count": 2,
   "metadata": {},
   "outputs": [
    {
     "output_type": "execute_result",
     "data": {
      "text/plain": [
       "        Fp1-DELTA  Fp1-THETA  Fp1-ALPHA    Fp1-BETA   Fp1-Gamma  Fp2-DELTA  \\\n",
       "sample                                                                       \n",
       "0      -85.891826 -91.047487 -95.653502 -101.947011 -116.121450 -85.517711   \n",
       "1      -71.314941 -86.290477 -97.064894 -101.975869 -115.996640 -70.779193   \n",
       "2      -81.833357 -89.067981 -93.367385  -99.836433 -116.864162 -83.202379   \n",
       "3      -77.955412 -87.433110 -94.570667 -101.809428 -117.477577 -76.622928   \n",
       "4      -79.834620 -89.757235 -96.566699 -100.341410 -116.289318 -78.845457   \n",
       "...           ...        ...        ...         ...         ...        ...   \n",
       "1495   -80.135240 -87.981819 -91.725794  -97.528959 -112.186684 -81.215697   \n",
       "1496   -80.886613 -88.068374 -90.530288  -99.212831 -109.182121 -81.649877   \n",
       "1497   -79.909576 -88.417450 -89.959118  -99.633077 -110.497021 -81.112093   \n",
       "1498   -81.956719 -86.543119 -90.373801  -98.079891 -109.796625 -83.028217   \n",
       "1499   -83.309382 -91.510423 -93.855217  -99.027409 -111.148007 -84.068443   \n",
       "\n",
       "        Fp2-THETA  Fp2-ALPHA    Fp2-BETA   Fp2-Gamma  ...     P8-BETA  \\\n",
       "sample                                                ...               \n",
       "0      -90.903300 -96.054843 -104.037273 -116.897175  ... -102.902723   \n",
       "1      -85.975520 -97.353817 -101.025682 -115.126521  ... -103.723203   \n",
       "2      -90.072051 -93.890308 -100.337242 -116.596184  ... -103.592066   \n",
       "3      -87.049639 -95.019470 -103.752182 -117.594181  ... -102.495543   \n",
       "4      -88.976123 -96.630474 -101.173557 -116.774309  ... -102.498649   \n",
       "...           ...        ...         ...         ...  ...         ...   \n",
       "1495   -89.558893 -91.460350 -104.308271 -117.867852  ... -101.369868   \n",
       "1496   -88.253124 -90.209006 -102.572319 -111.968517  ... -100.695221   \n",
       "1497   -88.294101 -90.795258 -104.817580 -114.066408  ... -100.324670   \n",
       "1498   -87.114535 -91.120574 -103.230473 -114.656298  ... -101.946832   \n",
       "1499   -91.323483 -95.081166 -102.467115 -114.645497  ... -101.652697   \n",
       "\n",
       "          P8-Gamma  id  category  label_h  label_e  label_x  label_a  label_c  \\\n",
       "sample                                                                          \n",
       "0      -116.464358   2         3      1.0      0.0      0.0      0.0      0.0   \n",
       "1      -115.543537   2         3      1.0      0.0      0.0      0.0      0.0   \n",
       "2      -115.044039   2         3      1.0      0.0      0.0      0.0      0.0   \n",
       "3      -118.340041   2         3      1.0      0.0      0.0      0.0      0.0   \n",
       "4      -117.918371   2         3      1.0      0.0      0.0      0.0      0.0   \n",
       "...            ...  ..       ...      ...      ...      ...      ...      ...   \n",
       "1495   -115.562186  35         2      1.0      0.0      1.0      1.0      0.0   \n",
       "1496   -111.514913  35         2      1.0      0.0      1.0      1.0      0.0   \n",
       "1497   -112.377828  35         2      1.0      0.0      1.0      1.0      0.0   \n",
       "1498   -113.575373  35         2      1.0      0.0      1.0      1.0      0.0   \n",
       "1499   -114.764114  35         2      1.0      0.0      1.0      1.0      0.0   \n",
       "\n",
       "        label_o  \n",
       "sample           \n",
       "0           0.0  \n",
       "1           0.0  \n",
       "2           0.0  \n",
       "3           0.0  \n",
       "4           0.0  \n",
       "...         ...  \n",
       "1495        1.0  \n",
       "1496        1.0  \n",
       "1497        1.0  \n",
       "1498        1.0  \n",
       "1499        1.0  \n",
       "\n",
       "[1500 rows x 48 columns]"
      ],
      "text/html": "<div>\n<style scoped>\n    .dataframe tbody tr th:only-of-type {\n        vertical-align: middle;\n    }\n\n    .dataframe tbody tr th {\n        vertical-align: top;\n    }\n\n    .dataframe thead th {\n        text-align: right;\n    }\n</style>\n<table border=\"1\" class=\"dataframe\">\n  <thead>\n    <tr style=\"text-align: right;\">\n      <th></th>\n      <th>Fp1-DELTA</th>\n      <th>Fp1-THETA</th>\n      <th>Fp1-ALPHA</th>\n      <th>Fp1-BETA</th>\n      <th>Fp1-Gamma</th>\n      <th>Fp2-DELTA</th>\n      <th>Fp2-THETA</th>\n      <th>Fp2-ALPHA</th>\n      <th>Fp2-BETA</th>\n      <th>Fp2-Gamma</th>\n      <th>...</th>\n      <th>P8-BETA</th>\n      <th>P8-Gamma</th>\n      <th>id</th>\n      <th>category</th>\n      <th>label_h</th>\n      <th>label_e</th>\n      <th>label_x</th>\n      <th>label_a</th>\n      <th>label_c</th>\n      <th>label_o</th>\n    </tr>\n    <tr>\n      <th>sample</th>\n      <th></th>\n      <th></th>\n      <th></th>\n      <th></th>\n      <th></th>\n      <th></th>\n      <th></th>\n      <th></th>\n      <th></th>\n      <th></th>\n      <th></th>\n      <th></th>\n      <th></th>\n      <th></th>\n      <th></th>\n      <th></th>\n      <th></th>\n      <th></th>\n      <th></th>\n      <th></th>\n      <th></th>\n    </tr>\n  </thead>\n  <tbody>\n    <tr>\n      <th>0</th>\n      <td>-85.891826</td>\n      <td>-91.047487</td>\n      <td>-95.653502</td>\n      <td>-101.947011</td>\n      <td>-116.121450</td>\n      <td>-85.517711</td>\n      <td>-90.903300</td>\n      <td>-96.054843</td>\n      <td>-104.037273</td>\n      <td>-116.897175</td>\n      <td>...</td>\n      <td>-102.902723</td>\n      <td>-116.464358</td>\n      <td>2</td>\n      <td>3</td>\n      <td>1.0</td>\n      <td>0.0</td>\n      <td>0.0</td>\n      <td>0.0</td>\n      <td>0.0</td>\n      <td>0.0</td>\n    </tr>\n    <tr>\n      <th>1</th>\n      <td>-71.314941</td>\n      <td>-86.290477</td>\n      <td>-97.064894</td>\n      <td>-101.975869</td>\n      <td>-115.996640</td>\n      <td>-70.779193</td>\n      <td>-85.975520</td>\n      <td>-97.353817</td>\n      <td>-101.025682</td>\n      <td>-115.126521</td>\n      <td>...</td>\n      <td>-103.723203</td>\n      <td>-115.543537</td>\n      <td>2</td>\n      <td>3</td>\n      <td>1.0</td>\n      <td>0.0</td>\n      <td>0.0</td>\n      <td>0.0</td>\n      <td>0.0</td>\n      <td>0.0</td>\n    </tr>\n    <tr>\n      <th>2</th>\n      <td>-81.833357</td>\n      <td>-89.067981</td>\n      <td>-93.367385</td>\n      <td>-99.836433</td>\n      <td>-116.864162</td>\n      <td>-83.202379</td>\n      <td>-90.072051</td>\n      <td>-93.890308</td>\n      <td>-100.337242</td>\n      <td>-116.596184</td>\n      <td>...</td>\n      <td>-103.592066</td>\n      <td>-115.044039</td>\n      <td>2</td>\n      <td>3</td>\n      <td>1.0</td>\n      <td>0.0</td>\n      <td>0.0</td>\n      <td>0.0</td>\n      <td>0.0</td>\n      <td>0.0</td>\n    </tr>\n    <tr>\n      <th>3</th>\n      <td>-77.955412</td>\n      <td>-87.433110</td>\n      <td>-94.570667</td>\n      <td>-101.809428</td>\n      <td>-117.477577</td>\n      <td>-76.622928</td>\n      <td>-87.049639</td>\n      <td>-95.019470</td>\n      <td>-103.752182</td>\n      <td>-117.594181</td>\n      <td>...</td>\n      <td>-102.495543</td>\n      <td>-118.340041</td>\n      <td>2</td>\n      <td>3</td>\n      <td>1.0</td>\n      <td>0.0</td>\n      <td>0.0</td>\n      <td>0.0</td>\n      <td>0.0</td>\n      <td>0.0</td>\n    </tr>\n    <tr>\n      <th>4</th>\n      <td>-79.834620</td>\n      <td>-89.757235</td>\n      <td>-96.566699</td>\n      <td>-100.341410</td>\n      <td>-116.289318</td>\n      <td>-78.845457</td>\n      <td>-88.976123</td>\n      <td>-96.630474</td>\n      <td>-101.173557</td>\n      <td>-116.774309</td>\n      <td>...</td>\n      <td>-102.498649</td>\n      <td>-117.918371</td>\n      <td>2</td>\n      <td>3</td>\n      <td>1.0</td>\n      <td>0.0</td>\n      <td>0.0</td>\n      <td>0.0</td>\n      <td>0.0</td>\n      <td>0.0</td>\n    </tr>\n    <tr>\n      <th>...</th>\n      <td>...</td>\n      <td>...</td>\n      <td>...</td>\n      <td>...</td>\n      <td>...</td>\n      <td>...</td>\n      <td>...</td>\n      <td>...</td>\n      <td>...</td>\n      <td>...</td>\n      <td>...</td>\n      <td>...</td>\n      <td>...</td>\n      <td>...</td>\n      <td>...</td>\n      <td>...</td>\n      <td>...</td>\n      <td>...</td>\n      <td>...</td>\n      <td>...</td>\n      <td>...</td>\n    </tr>\n    <tr>\n      <th>1495</th>\n      <td>-80.135240</td>\n      <td>-87.981819</td>\n      <td>-91.725794</td>\n      <td>-97.528959</td>\n      <td>-112.186684</td>\n      <td>-81.215697</td>\n      <td>-89.558893</td>\n      <td>-91.460350</td>\n      <td>-104.308271</td>\n      <td>-117.867852</td>\n      <td>...</td>\n      <td>-101.369868</td>\n      <td>-115.562186</td>\n      <td>35</td>\n      <td>2</td>\n      <td>1.0</td>\n      <td>0.0</td>\n      <td>1.0</td>\n      <td>1.0</td>\n      <td>0.0</td>\n      <td>1.0</td>\n    </tr>\n    <tr>\n      <th>1496</th>\n      <td>-80.886613</td>\n      <td>-88.068374</td>\n      <td>-90.530288</td>\n      <td>-99.212831</td>\n      <td>-109.182121</td>\n      <td>-81.649877</td>\n      <td>-88.253124</td>\n      <td>-90.209006</td>\n      <td>-102.572319</td>\n      <td>-111.968517</td>\n      <td>...</td>\n      <td>-100.695221</td>\n      <td>-111.514913</td>\n      <td>35</td>\n      <td>2</td>\n      <td>1.0</td>\n      <td>0.0</td>\n      <td>1.0</td>\n      <td>1.0</td>\n      <td>0.0</td>\n      <td>1.0</td>\n    </tr>\n    <tr>\n      <th>1497</th>\n      <td>-79.909576</td>\n      <td>-88.417450</td>\n      <td>-89.959118</td>\n      <td>-99.633077</td>\n      <td>-110.497021</td>\n      <td>-81.112093</td>\n      <td>-88.294101</td>\n      <td>-90.795258</td>\n      <td>-104.817580</td>\n      <td>-114.066408</td>\n      <td>...</td>\n      <td>-100.324670</td>\n      <td>-112.377828</td>\n      <td>35</td>\n      <td>2</td>\n      <td>1.0</td>\n      <td>0.0</td>\n      <td>1.0</td>\n      <td>1.0</td>\n      <td>0.0</td>\n      <td>1.0</td>\n    </tr>\n    <tr>\n      <th>1498</th>\n      <td>-81.956719</td>\n      <td>-86.543119</td>\n      <td>-90.373801</td>\n      <td>-98.079891</td>\n      <td>-109.796625</td>\n      <td>-83.028217</td>\n      <td>-87.114535</td>\n      <td>-91.120574</td>\n      <td>-103.230473</td>\n      <td>-114.656298</td>\n      <td>...</td>\n      <td>-101.946832</td>\n      <td>-113.575373</td>\n      <td>35</td>\n      <td>2</td>\n      <td>1.0</td>\n      <td>0.0</td>\n      <td>1.0</td>\n      <td>1.0</td>\n      <td>0.0</td>\n      <td>1.0</td>\n    </tr>\n    <tr>\n      <th>1499</th>\n      <td>-83.309382</td>\n      <td>-91.510423</td>\n      <td>-93.855217</td>\n      <td>-99.027409</td>\n      <td>-111.148007</td>\n      <td>-84.068443</td>\n      <td>-91.323483</td>\n      <td>-95.081166</td>\n      <td>-102.467115</td>\n      <td>-114.645497</td>\n      <td>...</td>\n      <td>-101.652697</td>\n      <td>-114.764114</td>\n      <td>35</td>\n      <td>2</td>\n      <td>1.0</td>\n      <td>0.0</td>\n      <td>1.0</td>\n      <td>1.0</td>\n      <td>0.0</td>\n      <td>1.0</td>\n    </tr>\n  </tbody>\n</table>\n<p>1500 rows × 48 columns</p>\n</div>"
     },
     "metadata": {},
     "execution_count": 2
    }
   ],
   "source": [
    "image_df"
   ]
  },
  {
   "cell_type": "code",
   "execution_count": 3,
   "metadata": {},
   "outputs": [
    {
     "output_type": "execute_result",
     "data": {
      "text/plain": [
       "        Fp1-DELTA  Fp1-THETA  Fp1-ALPHA    Fp1-BETA   Fp1-Gamma  Fp2-DELTA  \\\n",
       "sample                                                                       \n",
       "0      -68.235167 -82.122621 -96.597092 -102.013609 -114.813873 -68.128066   \n",
       "1      -71.657584 -85.963182 -96.308071 -100.526182 -115.194507 -71.470229   \n",
       "2      -70.767382 -85.627485 -97.259239 -101.253665 -118.083340 -70.638663   \n",
       "3      -69.539953 -83.989113 -88.981993  -96.061448 -107.226573 -69.427370   \n",
       "4      -71.377770 -86.423616 -95.472494 -100.316545 -114.043521 -71.081387   \n",
       "...           ...        ...        ...         ...         ...        ...   \n",
       "1495   -85.924100 -81.833483 -88.748889 -100.963264 -115.665023 -85.030621   \n",
       "1496   -81.590355 -83.579534 -88.205236  -98.843433 -111.839547 -82.707204   \n",
       "1497   -83.631729 -83.904275 -88.595344  -99.079324 -111.238276 -84.083720   \n",
       "1498   -88.915631 -85.396741 -91.095830  -99.033610 -112.227130 -88.003635   \n",
       "1499   -80.384149 -80.824154 -90.093166  -97.587279 -109.727223 -81.551986   \n",
       "\n",
       "        Fp2-THETA  Fp2-ALPHA    Fp2-BETA   Fp2-Gamma  ...     P8-BETA  \\\n",
       "sample                                                ...               \n",
       "0      -82.290346 -96.870818 -102.378628 -115.951858  ... -103.044246   \n",
       "1      -86.124459 -96.716043  -99.435186 -114.375143  ... -102.681549   \n",
       "2      -85.660762 -97.589809 -101.477298 -117.996739  ... -102.504333   \n",
       "3      -83.559591 -89.051818  -96.688703 -106.708663  ... -102.866476   \n",
       "4      -86.316232 -96.910931 -102.661582 -114.383537  ... -104.046597   \n",
       "...           ...        ...         ...         ...  ...         ...   \n",
       "1495   -81.107454 -88.327544 -104.627055 -117.806662  ...  -99.853901   \n",
       "1496   -84.044878 -88.472483 -104.332866 -117.676812  ...  -99.604320   \n",
       "1497   -84.317510 -89.046140 -103.452220 -114.680554  ... -100.286299   \n",
       "1498   -85.022060 -90.691090 -103.118528 -115.496111  ... -100.590740   \n",
       "1499   -80.297155 -90.209079 -101.817987 -117.392737  ... -100.002023   \n",
       "\n",
       "          P8-Gamma  id  category  label_h  label_e  label_x  label_a  label_c  \\\n",
       "sample                                                                          \n",
       "0      -116.386129   2         3      1.0      0.0      0.0      0.0      0.0   \n",
       "1      -114.843413   2         3      1.0      0.0      0.0      0.0      0.0   \n",
       "2      -118.155557   2         3      1.0      0.0      0.0      0.0      0.0   \n",
       "3      -117.463050   2         3      1.0      0.0      0.0      0.0      0.0   \n",
       "4      -114.925184   2         3      1.0      0.0      0.0      0.0      0.0   \n",
       "...            ...  ..       ...      ...      ...      ...      ...      ...   \n",
       "1495   -115.788257  35         2      1.0      0.0      1.0      1.0      0.0   \n",
       "1496   -112.257754  35         2      1.0      0.0      1.0      1.0      0.0   \n",
       "1497   -113.506551  35         2      1.0      0.0      1.0      1.0      0.0   \n",
       "1498   -112.913645  35         2      1.0      0.0      1.0      1.0      0.0   \n",
       "1499   -111.014892  35         2      1.0      0.0      1.0      1.0      0.0   \n",
       "\n",
       "        label_o  \n",
       "sample           \n",
       "0           0.0  \n",
       "1           0.0  \n",
       "2           0.0  \n",
       "3           0.0  \n",
       "4           0.0  \n",
       "...         ...  \n",
       "1495        1.0  \n",
       "1496        1.0  \n",
       "1497        1.0  \n",
       "1498        1.0  \n",
       "1499        1.0  \n",
       "\n",
       "[1500 rows x 48 columns]"
      ],
      "text/html": "<div>\n<style scoped>\n    .dataframe tbody tr th:only-of-type {\n        vertical-align: middle;\n    }\n\n    .dataframe tbody tr th {\n        vertical-align: top;\n    }\n\n    .dataframe thead th {\n        text-align: right;\n    }\n</style>\n<table border=\"1\" class=\"dataframe\">\n  <thead>\n    <tr style=\"text-align: right;\">\n      <th></th>\n      <th>Fp1-DELTA</th>\n      <th>Fp1-THETA</th>\n      <th>Fp1-ALPHA</th>\n      <th>Fp1-BETA</th>\n      <th>Fp1-Gamma</th>\n      <th>Fp2-DELTA</th>\n      <th>Fp2-THETA</th>\n      <th>Fp2-ALPHA</th>\n      <th>Fp2-BETA</th>\n      <th>Fp2-Gamma</th>\n      <th>...</th>\n      <th>P8-BETA</th>\n      <th>P8-Gamma</th>\n      <th>id</th>\n      <th>category</th>\n      <th>label_h</th>\n      <th>label_e</th>\n      <th>label_x</th>\n      <th>label_a</th>\n      <th>label_c</th>\n      <th>label_o</th>\n    </tr>\n    <tr>\n      <th>sample</th>\n      <th></th>\n      <th></th>\n      <th></th>\n      <th></th>\n      <th></th>\n      <th></th>\n      <th></th>\n      <th></th>\n      <th></th>\n      <th></th>\n      <th></th>\n      <th></th>\n      <th></th>\n      <th></th>\n      <th></th>\n      <th></th>\n      <th></th>\n      <th></th>\n      <th></th>\n      <th></th>\n      <th></th>\n    </tr>\n  </thead>\n  <tbody>\n    <tr>\n      <th>0</th>\n      <td>-68.235167</td>\n      <td>-82.122621</td>\n      <td>-96.597092</td>\n      <td>-102.013609</td>\n      <td>-114.813873</td>\n      <td>-68.128066</td>\n      <td>-82.290346</td>\n      <td>-96.870818</td>\n      <td>-102.378628</td>\n      <td>-115.951858</td>\n      <td>...</td>\n      <td>-103.044246</td>\n      <td>-116.386129</td>\n      <td>2</td>\n      <td>3</td>\n      <td>1.0</td>\n      <td>0.0</td>\n      <td>0.0</td>\n      <td>0.0</td>\n      <td>0.0</td>\n      <td>0.0</td>\n    </tr>\n    <tr>\n      <th>1</th>\n      <td>-71.657584</td>\n      <td>-85.963182</td>\n      <td>-96.308071</td>\n      <td>-100.526182</td>\n      <td>-115.194507</td>\n      <td>-71.470229</td>\n      <td>-86.124459</td>\n      <td>-96.716043</td>\n      <td>-99.435186</td>\n      <td>-114.375143</td>\n      <td>...</td>\n      <td>-102.681549</td>\n      <td>-114.843413</td>\n      <td>2</td>\n      <td>3</td>\n      <td>1.0</td>\n      <td>0.0</td>\n      <td>0.0</td>\n      <td>0.0</td>\n      <td>0.0</td>\n      <td>0.0</td>\n    </tr>\n    <tr>\n      <th>2</th>\n      <td>-70.767382</td>\n      <td>-85.627485</td>\n      <td>-97.259239</td>\n      <td>-101.253665</td>\n      <td>-118.083340</td>\n      <td>-70.638663</td>\n      <td>-85.660762</td>\n      <td>-97.589809</td>\n      <td>-101.477298</td>\n      <td>-117.996739</td>\n      <td>...</td>\n      <td>-102.504333</td>\n      <td>-118.155557</td>\n      <td>2</td>\n      <td>3</td>\n      <td>1.0</td>\n      <td>0.0</td>\n      <td>0.0</td>\n      <td>0.0</td>\n      <td>0.0</td>\n      <td>0.0</td>\n    </tr>\n    <tr>\n      <th>3</th>\n      <td>-69.539953</td>\n      <td>-83.989113</td>\n      <td>-88.981993</td>\n      <td>-96.061448</td>\n      <td>-107.226573</td>\n      <td>-69.427370</td>\n      <td>-83.559591</td>\n      <td>-89.051818</td>\n      <td>-96.688703</td>\n      <td>-106.708663</td>\n      <td>...</td>\n      <td>-102.866476</td>\n      <td>-117.463050</td>\n      <td>2</td>\n      <td>3</td>\n      <td>1.0</td>\n      <td>0.0</td>\n      <td>0.0</td>\n      <td>0.0</td>\n      <td>0.0</td>\n      <td>0.0</td>\n    </tr>\n    <tr>\n      <th>4</th>\n      <td>-71.377770</td>\n      <td>-86.423616</td>\n      <td>-95.472494</td>\n      <td>-100.316545</td>\n      <td>-114.043521</td>\n      <td>-71.081387</td>\n      <td>-86.316232</td>\n      <td>-96.910931</td>\n      <td>-102.661582</td>\n      <td>-114.383537</td>\n      <td>...</td>\n      <td>-104.046597</td>\n      <td>-114.925184</td>\n      <td>2</td>\n      <td>3</td>\n      <td>1.0</td>\n      <td>0.0</td>\n      <td>0.0</td>\n      <td>0.0</td>\n      <td>0.0</td>\n      <td>0.0</td>\n    </tr>\n    <tr>\n      <th>...</th>\n      <td>...</td>\n      <td>...</td>\n      <td>...</td>\n      <td>...</td>\n      <td>...</td>\n      <td>...</td>\n      <td>...</td>\n      <td>...</td>\n      <td>...</td>\n      <td>...</td>\n      <td>...</td>\n      <td>...</td>\n      <td>...</td>\n      <td>...</td>\n      <td>...</td>\n      <td>...</td>\n      <td>...</td>\n      <td>...</td>\n      <td>...</td>\n      <td>...</td>\n      <td>...</td>\n    </tr>\n    <tr>\n      <th>1495</th>\n      <td>-85.924100</td>\n      <td>-81.833483</td>\n      <td>-88.748889</td>\n      <td>-100.963264</td>\n      <td>-115.665023</td>\n      <td>-85.030621</td>\n      <td>-81.107454</td>\n      <td>-88.327544</td>\n      <td>-104.627055</td>\n      <td>-117.806662</td>\n      <td>...</td>\n      <td>-99.853901</td>\n      <td>-115.788257</td>\n      <td>35</td>\n      <td>2</td>\n      <td>1.0</td>\n      <td>0.0</td>\n      <td>1.0</td>\n      <td>1.0</td>\n      <td>0.0</td>\n      <td>1.0</td>\n    </tr>\n    <tr>\n      <th>1496</th>\n      <td>-81.590355</td>\n      <td>-83.579534</td>\n      <td>-88.205236</td>\n      <td>-98.843433</td>\n      <td>-111.839547</td>\n      <td>-82.707204</td>\n      <td>-84.044878</td>\n      <td>-88.472483</td>\n      <td>-104.332866</td>\n      <td>-117.676812</td>\n      <td>...</td>\n      <td>-99.604320</td>\n      <td>-112.257754</td>\n      <td>35</td>\n      <td>2</td>\n      <td>1.0</td>\n      <td>0.0</td>\n      <td>1.0</td>\n      <td>1.0</td>\n      <td>0.0</td>\n      <td>1.0</td>\n    </tr>\n    <tr>\n      <th>1497</th>\n      <td>-83.631729</td>\n      <td>-83.904275</td>\n      <td>-88.595344</td>\n      <td>-99.079324</td>\n      <td>-111.238276</td>\n      <td>-84.083720</td>\n      <td>-84.317510</td>\n      <td>-89.046140</td>\n      <td>-103.452220</td>\n      <td>-114.680554</td>\n      <td>...</td>\n      <td>-100.286299</td>\n      <td>-113.506551</td>\n      <td>35</td>\n      <td>2</td>\n      <td>1.0</td>\n      <td>0.0</td>\n      <td>1.0</td>\n      <td>1.0</td>\n      <td>0.0</td>\n      <td>1.0</td>\n    </tr>\n    <tr>\n      <th>1498</th>\n      <td>-88.915631</td>\n      <td>-85.396741</td>\n      <td>-91.095830</td>\n      <td>-99.033610</td>\n      <td>-112.227130</td>\n      <td>-88.003635</td>\n      <td>-85.022060</td>\n      <td>-90.691090</td>\n      <td>-103.118528</td>\n      <td>-115.496111</td>\n      <td>...</td>\n      <td>-100.590740</td>\n      <td>-112.913645</td>\n      <td>35</td>\n      <td>2</td>\n      <td>1.0</td>\n      <td>0.0</td>\n      <td>1.0</td>\n      <td>1.0</td>\n      <td>0.0</td>\n      <td>1.0</td>\n    </tr>\n    <tr>\n      <th>1499</th>\n      <td>-80.384149</td>\n      <td>-80.824154</td>\n      <td>-90.093166</td>\n      <td>-97.587279</td>\n      <td>-109.727223</td>\n      <td>-81.551986</td>\n      <td>-80.297155</td>\n      <td>-90.209079</td>\n      <td>-101.817987</td>\n      <td>-117.392737</td>\n      <td>...</td>\n      <td>-100.002023</td>\n      <td>-111.014892</td>\n      <td>35</td>\n      <td>2</td>\n      <td>1.0</td>\n      <td>0.0</td>\n      <td>1.0</td>\n      <td>1.0</td>\n      <td>0.0</td>\n      <td>1.0</td>\n    </tr>\n  </tbody>\n</table>\n<p>1500 rows × 48 columns</p>\n</div>"
     },
     "metadata": {},
     "execution_count": 3
    }
   ],
   "source": [
    "audio_df"
   ]
  },
  {
   "source": [
    "# Build image - H predictor"
   ],
   "cell_type": "markdown",
   "metadata": {}
  },
  {
   "cell_type": "code",
   "execution_count": 4,
   "metadata": {},
   "outputs": [
    {
     "output_type": "execute_result",
     "data": {
      "text/plain": [
       "' For experiment '"
      ]
     },
     "metadata": {},
     "execution_count": 4
    }
   ],
   "source": [
    "''' For experiment '''\n",
    "# from sklearn.naive_bayes import MultinomialNB as model\n",
    "# from sklearn.model_selection import cross_val_score\n",
    "# # from sklearn.naive_bayes import GaussianNB as model\n",
    "# from sklearn.preprocessing import normalize, StandardScaler\n",
    "# X_copy = X.copy()\n",
    "# # X_norm = normalize(X_copy, axis=1)*-1\n",
    "# # X_norm = StandardScaler().fit_transform(X_norm) + 100\n",
    "# X_norm = X_copy*-1\n",
    "# clf = model()\n",
    "# clf.fit(X_norm, y)\n",
    "# print(sum(clf.predict(X_norm) == y) / len(y))\n",
    "# scores = cross_val_score(clf, X_norm, y, cv = 5)\n",
    "# print(\"Multinomial NB Accuracy: %0.2f (+/- %0.2f)\" % (scores.mean(), scores.std() * 2))\n",
    "\n",
    "# with open('filename.pickle', 'wb') as handle:\n",
    "#     pickle.dump(a, handle, protocol=pickle.HIGHEST_PROTOCOL)\n",
    "\n",
    "# with open('filename.pickle', 'rb') as handle:\n",
    "#     b = pickle.load(handle)"
   ]
  },
  {
   "cell_type": "code",
   "execution_count": 5,
   "metadata": {},
   "outputs": [],
   "source": [
    "from sklearn.naive_bayes import MultinomialNB as model\n",
    "# from sklearn.naive_bayes import GaussianNB as model\n",
    "from sklearn.model_selection import cross_val_score\n",
    "import pickle\n",
    "X_head = {0: 'Fp1-DELTA', 1: 'Fp1-THETA', 2: 'Fp1-ALPHA', 3: 'Fp1-BETA', 4: 'Fp1-Gamma', 5: 'Fp2-DELTA', 6: 'Fp2-THETA', 7: 'Fp2-ALPHA', 8: 'Fp2-BETA', 9: 'Fp2-Gamma', 10: 'F3-DELTA', 11: 'F3-THETA', 12: 'F3-ALPHA', 13: 'F3-BETA', 14: 'F3-Gamma', 15: 'F4-DELTA', 16: 'F4-THETA', 17: 'F4-ALPHA', 18: 'F4-BETA', 19: 'F4-Gamma', 20: 'F7-DELTA', 21: 'F7-THETA', 22: 'F7-ALPHA', 23: 'F7-BETA', 24: 'F7-Gamma', 25: 'F8-DELTA', 26: 'F8-THETA', 27: 'F8-ALPHA', 28: 'F8-BETA', 29: 'F8-Gamma', 30: 'P7-DELTA', 31: 'P7-THETA', 32: 'P7-ALPHA', 33: 'P7-BETA', 34: 'P7-Gamma', 35: 'P8-DELTA', 36: 'P8-THETA', 37: 'P8-ALPHA', 38: 'P8-BETA', 39: 'P8-Gamma'}"
   ]
  },
  {
   "cell_type": "code",
   "execution_count": 16,
   "metadata": {},
   "outputs": [
    {
     "output_type": "stream",
     "name": "stdout",
     "text": [
      "label_h | Accuracy: 0.69 Scores: 0.33 (+/- 0.17)\n",
      "label_e | Accuracy: 0.64 Scores: 0.59 (+/- 0.03)\n",
      "label_x | Accuracy: 0.77 Scores: 0.77 (+/- 0.00)\n",
      "label_a | Accuracy: 0.73 Scores: 0.72 (+/- 0.05)\n",
      "label_c | Accuracy: 0.68 Scores: 0.63 (+/- 0.11)\n",
      "label_o | Accuracy: 0.68 Scores: 0.32 (+/- 0.19)\n"
     ]
    }
   ],
   "source": [
    "image_predictor = dict()\n",
    "image_pred = dict()\n",
    "for label in ['label_h','label_e','label_x','label_a','label_c','label_o']:\n",
    "    X = image_df[list(X_head.values())]\n",
    "    y = image_df[label]\n",
    "    X_copy = X.copy() * -1\n",
    "    clf = model()\n",
    "    clf.fit(X_copy, y)\n",
    "    acc = sum(clf.predict(X_copy) == y) / len(y)\n",
    "    # clf.predict_proba(X_copy)[0]\n",
    "    image_pred[label] = clf.predict_proba(X_copy)[:,0]\n",
    "    scores_image = cross_val_score(clf, X_copy, y)\n",
    "    image_predictor[label] = clf\n",
    "    print(label,\"| Accuracy: %0.2f Scores: %0.2f (+/- %0.2f)\" % (acc,scores_image.mean(), scores_image.std() * 2))\n",
    "\n",
    "with open('models/image_predictor.pickle', 'wb') as handle:\n",
    "    pickle.dump(image_predictor, handle, protocol=pickle.HIGHEST_PROTOCOL)"
   ]
  },
  {
   "cell_type": "code",
   "execution_count": 8,
   "metadata": {},
   "outputs": [
    {
     "output_type": "stream",
     "name": "stdout",
     "text": [
      "label_h | Accuracy: 0.64 Scores: 0.35 (+/- 0.29)\n",
      "label_e | Accuracy: 0.63 Scores: 0.56 (+/- 0.10)\n",
      "label_x | Accuracy: 0.77 Scores: 0.76 (+/- 0.02)\n",
      "label_a | Accuracy: 0.74 Scores: 0.67 (+/- 0.18)\n",
      "label_c | Accuracy: 0.69 Scores: 0.63 (+/- 0.16)\n",
      "label_o | Accuracy: 0.63 Scores: 0.59 (+/- 0.08)\n"
     ]
    }
   ],
   "source": [
    "audio_predictor = dict()\n",
    "for label in ['label_h','label_e','label_x','label_a','label_c','label_o']:\n",
    "    X = audio_df[list(X_head.values())]\n",
    "    y = audio_df[label]\n",
    "    X_copy = X.copy() * -1\n",
    "    clf = model()\n",
    "    clf.fit(X_copy, y)\n",
    "    acc = sum(clf.predict(X_copy) == y) / len(y)\n",
    "    scores_audio = cross_val_score(clf, X_copy, y)\n",
    "    audio_predictor[label] = clf\n",
    "    print(label,\"| Accuracy: %0.2f Scores: %0.2f (+/- %0.2f)\" % (acc,scores_audio.mean(), scores_audio.std() * 2))\n",
    "\n",
    "with open('models/audio_predictor.pickle', 'wb') as handle:\n",
    "    pickle.dump(audio_predictor, handle, protocol=pickle.HIGHEST_PROTOCOL)"
   ]
  },
  {
   "cell_type": "code",
   "execution_count": null,
   "metadata": {},
   "outputs": [],
   "source": []
  }
 ]
}