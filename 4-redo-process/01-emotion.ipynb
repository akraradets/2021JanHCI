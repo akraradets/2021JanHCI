{
 "metadata": {
  "language_info": {
   "codemirror_mode": {
    "name": "ipython",
    "version": 3
   },
   "file_extension": ".py",
   "mimetype": "text/x-python",
   "name": "python",
   "nbconvert_exporter": "python",
   "pygments_lexer": "ipython3",
   "version": "3.8.5"
  },
  "orig_nbformat": 2,
  "kernelspec": {
   "name": "python3",
   "display_name": "Python 3",
   "language": "python"
  }
 },
 "nbformat": 4,
 "nbformat_minor": 2,
 "cells": [
  {
   "cell_type": "code",
   "execution_count": 4,
   "metadata": {},
   "outputs": [],
   "source": [
    "import pandas\n",
    "import numpy as np\n",
    "from utils import *\n",
    "import mne\n",
    "import matplotlib.pyplot as plt\n",
    "from os import walk\n",
    "from sklearn.naive_bayes import GaussianNB\n",
    "from sklearn.preprocessing import normalize, StandardScaler\n",
    "from itertools import combinations\n",
    "from tqdm.notebook import tqdm\n",
    "import pickle\n",
    "plt.style.use('seaborn-whitegrid')"
   ]
  },
  {
   "source": [
    "# EEG data"
   ],
   "cell_type": "markdown",
   "metadata": {}
  },
  {
   "cell_type": "code",
   "execution_count": 37,
   "metadata": {},
   "outputs": [],
   "source": [
    "def load_data():\n",
    "    path, folders, filenames = next(walk('./data'))\n",
    "\n",
    "    filenames.remove('11-audio.csv')\n",
    "    filenames.remove('11-image.csv')\n",
    "\n",
    "    filenames.remove('36-audio.csv')\n",
    "    filenames.remove('36-image.csv')\n",
    "\n",
    "    path = './data'\n",
    "    columns = {'Unnamed: 1':'Fp1',\n",
    "            'Unnamed: 2':'Fp2',\n",
    "            'Unnamed: 3':'F3',\n",
    "            'Unnamed: 4':'F4',\n",
    "            'Unnamed: 5':'F7',\n",
    "            'Unnamed: 6':'F8',\n",
    "            'Unnamed: 7':'P7',\n",
    "            'Unnamed: 8':'P8'}\n",
    "\n",
    "    EEG_audio, EEG_image = dict(), dict()\n",
    "    from itertools import product\n",
    "    categories = [1,2,3,4,5]\n",
    "    blocks = [1,2]\n",
    "    with tqdm(filenames) as t:\n",
    "        for filename in t:\n",
    "            t.set_description(f\"{filename}\")\n",
    "            participant_id, stimuli = filename.split('-')\n",
    "            stimuli = stimuli.rstrip('.csv')\n",
    "            data = pandas.read_csv(f'{path}/{filename}', dtype={'Marker': str}).rename(columns=columns).drop(columns='timestamps')\n",
    "            # Aviod warning on stim has negative value\n",
    "            marker = np.array(data['Marker'])\n",
    "            marker[marker == '-1'] = '1'\n",
    "            data['Marker'] = marker\n",
    "\n",
    "            if(stimuli == 'audio'):\n",
    "                EEG_audio[int(participant_id)] = data\n",
    "            elif(stimuli == 'image'):\n",
    "                EEG_image[int(participant_id)] = data\n",
    "            else:\n",
    "                raise ValueError(f\"Stimuli:{stimuli} is unexpected.\")\n",
    "    return EEG_audio, EEG_image\n"
   ]
  },
  {
   "cell_type": "code",
   "execution_count": 38,
   "metadata": {
    "tags": []
   },
   "outputs": [
    {
     "output_type": "display_data",
     "data": {
      "text/plain": "  0%|          | 0/60 [00:00<?, ?it/s]",
      "application/vnd.jupyter.widget-view+json": {
       "version_major": 2,
       "version_minor": 0,
       "model_id": "5f396d80e1a04b80ab42e54f6826e3e8"
      }
     },
     "metadata": {}
    }
   ],
   "source": [
    "# clear_cache()\n",
    "try:\n",
    "    # Load from cache\n",
    "    EEG_audio = load('EEG_audio')\n",
    "    EEG_image = load('EEG_image')\n",
    "    print('Load data from cache')\n",
    "    if( set(EEG_audio.keys()) != set(EEG_image.keys()) ):\n",
    "        extra = None\n",
    "        if(len(EEG_audio.keys()) > len(EEG_image.keys())):\n",
    "            extra = set(EEG_audio.keys()).difference( set(EEG_image.keys()) )\n",
    "        else:\n",
    "            extra = set(EEG_image.keys()).difference( set(EEG_audio.keys()) )\n",
    "        raise ValueError(f\"In equal keys. audio has {len(EEG_audio.keys())} and image has {len(EEG_image.keys())}. The extra key is {extra}\")\n",
    "\n",
    "except FileNotFoundError as e:\n",
    "    EEG_audio, EEG_image = load_data()\n",
    "    # Save to cache\n",
    "    save(EEG_audio, 'EEG_audio')\n",
    "    save(EEG_image, 'EEG_image')"
   ]
  },
  {
   "source": [
    "# Preprocess data"
   ],
   "cell_type": "markdown",
   "metadata": {}
  },
  {
   "cell_type": "code",
   "execution_count": 40,
   "metadata": {},
   "outputs": [
    {
     "output_type": "display_data",
     "data": {
      "text/plain": "  0%|          | 0/3 [00:00<?, ?it/s]",
      "application/vnd.jupyter.widget-view+json": {
       "version_major": 2,
       "version_minor": 0,
       "model_id": "4bd23879846f40068d876f3f1f25158c"
      }
     },
     "metadata": {}
    }
   ],
   "source": [
    "ids = [33,2,10]\n",
    "with tqdm(ids) as t:\n",
    "    for id in t:\n",
    "        t.set_description(f\"{id}\")\n",
    "        raw = dataframe_to_raw(EEG_image[id], sfreq=250)\n",
    "        \n",
    "        # Preprocess\n",
    "        raw.notch_filter([50,100],filter_length='auto', phase='zero', verbose=False) # Line power\n",
    "        raw.filter(1., None, fir_design='firwin', verbose=False) # Slow drift\n",
    "        events = mne.find_events(raw, stim_channel='Marker', initial_event=True, verbose=False, uint_cast=False)\n",
    "        events = np.delete(events,np.argwhere(events[:,2] == 1), axis=0) # break\n",
    "        # Check data\n",
    "        if(events.shape[0] != 50):\n",
    "            raise ValueError(f\"Event missing: {events[:,2]}. len(events.shape[0])={events.shape[0]}\")\n",
    "        epochs = mne.Epochs(raw, events, tmin=0.3, tmax=5.8, baseline=(0.3,0.3), verbose=False)\n",
    "        if(epochs.get_data().shape[0] != 50):\n",
    "            raise ValueError(f\"There might be a bad data. epochs.get_data().shape = {epochs.get_data().shape}\")\n",
    "\n",
    "        # Should be fine\n",
    "        \n",
    "\n",
    "        # print(events)"
   ]
  },
  {
   "cell_type": "code",
   "execution_count": null,
   "metadata": {},
   "outputs": [],
   "source": [
    "def build_data(n_fft = None, eeg_type = 'image', bands = [0,1,2,3,4]):\n",
    "    X = []\n",
    "    y = []\n",
    "    # Gamma BETA ALPHA THETA DELTA\n",
    "    filter_list = [[30,None],[13,30],[8,12],[4,8],[None,4]]\n",
    "    # ids = [33,2,10,12,16]\n",
    "    ids = gt.index.tolist()\n",
    "    for id in ids:\n",
    "        # print('\\n',\"=\"*20,id)\n",
    "        if(eeg_type == 'image'):\n",
    "            raw = dataframe_to_raw(EEG_image[id], sfreq=250)\n",
    "        else:\n",
    "            raw = dataframe_to_raw(EEG_audio[id], sfreq=250)\n",
    "        raw.notch_filter([50,100],filter_length='auto', phase='zero', verbose=False) # Line power\n",
    "        raw.filter(1., None, fir_design='firwin', verbose=False) # Slow drift\n",
    "        events = mne.find_events(raw, stim_channel='Marker', initial_event=True, verbose=False)\n",
    "        events = np.delete(events,np.argwhere(events[:,2] == 1), axis=0)\n",
    "        if(events.shape[0] != 50):\n",
    "            raise ValueError(f\"Event missing: {events[:,2]}. len(events.shape[0])={events.shape[0]}\")\n",
    "        epochs = mne.Epochs(raw, events, tmin=0.3, tmax=5.8, baseline=(0.3,0.3), verbose=False)\n",
    "        if(epochs.get_data().shape[0] != 50):\n",
    "            raise ValueError(f\"There might be a bad data. epochs.get_data().shape = {epochs.get_data().shape}\")\n",
    "        \n",
    "        for epoch in epochs.iter_evoked():\n",
    "            features = []\n",
    "            for band in bands:\n",
    "                # print(epoch.data.shape)\n",
    "                psd,_,_,_ = get_psd(epoch, n_fft = n_fft, filter=filter_list[band], returnMean=True)\n",
    "                features.append(psd)\n",
    "                # print(psd,filter_list[band])\n",
    "            X.append(np.array(features).reshape(-1))\n",
    "            y.append(gt.loc[id]['label'])\n",
    "        # break\n",
    "    X = np.array(X)#.reshape(len(ids),-1)\n",
    "    y = np.array(y)\n",
    "    return X,y"
   ]
  }
 ]
}