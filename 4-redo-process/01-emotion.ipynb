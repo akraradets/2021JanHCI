{
 "metadata": {
  "language_info": {
   "codemirror_mode": {
    "name": "ipython",
    "version": 3
   },
   "file_extension": ".py",
   "mimetype": "text/x-python",
   "name": "python",
   "nbconvert_exporter": "python",
   "pygments_lexer": "ipython3",
   "version": "3.8.10"
  },
  "orig_nbformat": 2,
  "kernelspec": {
   "name": "python3",
   "display_name": "Python 3.8.10 64-bit ('hci': venv)"
  },
  "interpreter": {
   "hash": "815efcf0c7342b169540b615ea1bef3fe0d02f9423b58bdf03d9ef3fd8d24248"
  }
 },
 "nbformat": 4,
 "nbformat_minor": 2,
 "cells": [
  {
   "cell_type": "code",
   "execution_count": 43,
   "source": [
    "import pandas\n",
    "import numpy as np\n",
    "from utils import *\n",
    "import mne\n",
    "import matplotlib.pyplot as plt\n",
    "from os import walk\n",
    "from scipy import signal\n",
    "from sklearn.naive_bayes import GaussianNB, MultinomialNB\n",
    "from sklearn.preprocessing import normalize, StandardScaler\n",
    "from itertools import combinations\n",
    "from tqdm.notebook import tqdm\n",
    "from sklearn.utils import shuffle\n",
    "import pickle\n",
    "\n",
    "from multiprocessing import Pool\n",
    "plt.style.use('seaborn-whitegrid')"
   ],
   "outputs": [],
   "metadata": {}
  },
  {
   "cell_type": "markdown",
   "source": [
    "# EEG data"
   ],
   "metadata": {}
  },
  {
   "cell_type": "code",
   "execution_count": 44,
   "source": [
    "def load_data():\n",
    "    path, folders, filenames = next(walk('./data'))\n",
    "\n",
    "    filenames.remove('11-audio.csv')\n",
    "    filenames.remove('11-image.csv')\n",
    "\n",
    "    filenames.remove('36-audio.csv')\n",
    "    filenames.remove('36-image.csv')\n",
    "\n",
    "    path = './data'\n",
    "    columns = {'Unnamed: 1':'Fp1',\n",
    "            'Unnamed: 2':'Fp2',\n",
    "            'Unnamed: 3':'F3',\n",
    "            'Unnamed: 4':'F4',\n",
    "            'Unnamed: 5':'F7',\n",
    "            'Unnamed: 6':'F8',\n",
    "            'Unnamed: 7':'P7',\n",
    "            'Unnamed: 8':'P8'}\n",
    "\n",
    "    EEG_audio, EEG_image = dict(), dict()\n",
    "    from itertools import product\n",
    "    categories = [1,2,3,4,5]\n",
    "    blocks = [1,2]\n",
    "    with tqdm(filenames) as t:\n",
    "        for filename in t:\n",
    "            t.set_description(f\"{filename}\")\n",
    "            participant_id, stimuli = filename.split('-')\n",
    "            stimuli = stimuli.rstrip('.csv')\n",
    "            data = pandas.read_csv(f'{path}/{filename}', dtype={'Marker': str}).rename(columns=columns).drop(columns='timestamps')\n",
    "            # Aviod warning on stim has negative value\n",
    "            marker = np.array(data['Marker'])\n",
    "            marker[marker == '-1'] = '1'\n",
    "            data['Marker'] = marker\n",
    "\n",
    "            if(stimuli == 'audio'):\n",
    "                EEG_audio[int(participant_id)] = data\n",
    "            elif(stimuli == 'image'):\n",
    "                EEG_image[int(participant_id)] = data\n",
    "            else:\n",
    "                raise ValueError(f\"Stimuli:{stimuli} is unexpected.\")\n",
    "    return EEG_audio, EEG_image\n"
   ],
   "outputs": [],
   "metadata": {}
  },
  {
   "cell_type": "code",
   "execution_count": 45,
   "source": [
    "# clear_cache()\n",
    "try:\n",
    "    # Load from cache\n",
    "    EEG_audio = load('EEG_audio')\n",
    "    EEG_image = load('EEG_image')\n",
    "    print('Load data from cache')\n",
    "    if( set(EEG_audio.keys()) != set(EEG_image.keys()) ):\n",
    "        extra = None\n",
    "        if(len(EEG_audio.keys()) > len(EEG_image.keys())):\n",
    "            extra = set(EEG_audio.keys()).difference( set(EEG_image.keys()) )\n",
    "        else:\n",
    "            extra = set(EEG_image.keys()).difference( set(EEG_audio.keys()) )\n",
    "        raise ValueError(f\"In equal keys. audio has {len(EEG_audio.keys())} and image has {len(EEG_image.keys())}. The extra key is {extra}\")\n",
    "\n",
    "except FileNotFoundError as e:\n",
    "    EEG_audio, EEG_image = load_data()\n",
    "    # Save to cache\n",
    "    save(EEG_audio, 'EEG_audio')\n",
    "    save(EEG_image, 'EEG_image')"
   ],
   "outputs": [
    {
     "output_type": "stream",
     "name": "stdout",
     "text": [
      "Load data from cache\n"
     ]
    }
   ],
   "metadata": {
    "tags": []
   }
  },
  {
   "cell_type": "markdown",
   "source": [
    "# Preprocess data\n",
    "## STFT"
   ],
   "metadata": {}
  },
  {
   "cell_type": "code",
   "execution_count": 46,
   "source": [
    "# #### Test section ####\n",
    "# raw = dataframe_to_raw(EEG_image[33], sfreq=250)\n",
    "\n",
    "# # Preprocess\n",
    "# raw.notch_filter([50,100],filter_length='auto', phase='zero', verbose=False) # Line power\n",
    "# raw.filter(1., None, fir_design='firwin', verbose=False) # Slow drift\n",
    "# events = mne.find_events(raw, stim_channel='Marker', initial_event=True, verbose=False, uint_cast=False)\n",
    "# events = np.delete(events,np.argwhere(events[:,2] == 1), axis=0) # break\n",
    "# # Check data\n",
    "# if(events.shape[0] != 50):\n",
    "#     raise ValueError(f\"Event missing: {events[:,2]}. len(events.shape[0])={events.shape[0]}\")\n",
    "# epochs = mne.Epochs(raw, events, tmin=0.3, tmax=5.8, baseline=(0.3,0.3), verbose=False)\n",
    "# if(epochs.get_data().shape[0] != 50):\n",
    "#     raise ValueError(f\"There might be a bad data. epochs.get_data().shape = {epochs.get_data().shape}\")\n",
    "# for evoked in tqdm(epochs.iter_evoked(), leave=False):\n",
    "#     break"
   ],
   "outputs": [],
   "metadata": {}
  },
  {
   "cell_type": "code",
   "execution_count": 47,
   "source": [
    "# sft = abs(mne.time_frequency.stft(evoked.data[:8], wsize=256, verbose=False))"
   ],
   "outputs": [],
   "metadata": {}
  },
  {
   "cell_type": "code",
   "execution_count": 48,
   "source": [
    "# filter_list = [[0,4],[4,8],[8,13],[13,30],[30,125]]\n",
    "# sft = sft.mean(axis=2)\n",
    "# sft.shape"
   ],
   "outputs": [],
   "metadata": {}
  },
  {
   "cell_type": "code",
   "execution_count": 49,
   "source": [
    "# sft[:,0:4].mean(axis=1).shape\n",
    "# features = []\n",
    "# for f in filter_list:\n",
    "#     features.append(sft[:,f[0]:f[1]+1].mean(axis=1))"
   ],
   "outputs": [],
   "metadata": {}
  },
  {
   "cell_type": "code",
   "execution_count": 50,
   "source": [
    "# np.array(features).reshape(-1).shape"
   ],
   "outputs": [],
   "metadata": {}
  },
  {
   "cell_type": "code",
   "execution_count": 51,
   "source": [
    "# def build_data(p_num, EEG,ids):\n",
    "#     X = []\n",
    "#     y = []\n",
    "#     # Delta, Theta, Alpha, Beta, Gamma\n",
    "#     filter_list = [[0,4],[4,8],[8,13],[13,30],[30,125]]\n",
    "#     with tqdm(ids) as t:\n",
    "#         for index, id in enumerate(t):\n",
    "#             t.set_description(f\"{id}\")\n",
    "#             print(f\"p_no={p_num}|index={index}|id={id}\")\n",
    "#             raw = dataframe_to_raw(EEG[id], sfreq=250)\n",
    "            \n",
    "#             # Preprocess\n",
    "#             raw.notch_filter([50,100],filter_length='auto', phase='zero', verbose=False) # Line power\n",
    "#             raw.filter(1., None, fir_design='firwin', verbose=False) # Slow drift\n",
    "#             events = mne.find_events(raw, stim_channel='Marker', initial_event=True, verbose=False, uint_cast=False)\n",
    "#             events = np.delete(events,np.argwhere(events[:,2] == 1), axis=0) # break\n",
    "#             # Check data\n",
    "#             if(events.shape[0] != 50):\n",
    "#                 raise ValueError(f\"Event missing: {events[:,2]}. len(events.shape[0])={events.shape[0]}\")\n",
    "#             epochs = mne.Epochs(raw, events, tmin=0.3, tmax=5.8, baseline=(0.3,0.3), verbose=False)\n",
    "#             if(epochs.get_data().shape[0] != 50):\n",
    "#                 raise ValueError(f\"There might be a bad data. epochs.get_data().shape = {epochs.get_data().shape}\")\n",
    "\n",
    "#             # Extract features\n",
    "#             for evoked in tqdm(epochs.iter_evoked(), leave=False):\n",
    "#                 event = int(evoked.comment[0])\n",
    "#                 sft = abs(mne.time_frequency.stft(evoked.data[:8], wsize=256, verbose=False).mean(axis=2))\n",
    "#                 features = []\n",
    "#                 for f in filter_list:\n",
    "#                     features.append(sft[:,f[0]:f[1]+1].mean(axis=1))\n",
    "#                 X.append(np.array(features).reshape(-1))\n",
    "#                 y.append(event)\n",
    "#     print(f\"{p_num} done| {ids}\")\n",
    "#     return np.array(X),np.array(y)"
   ],
   "outputs": [],
   "metadata": {}
  },
  {
   "cell_type": "code",
   "execution_count": 52,
   "source": [
    "# try:\n",
    "#     # [33,2,10,12,16]\n",
    "#     t_out = 100\n",
    "#     pool = Pool()\n",
    "#     ids = np.array(list(EEG_image.keys()))\n",
    "#     p1 = pool.apply_async(build_data, [1,EEG_image,ids[0::6]])\n",
    "#     p2 = pool.apply_async(build_data, [2,EEG_image,ids[1::6]])\n",
    "#     p3 = pool.apply_async(build_data, [3,EEG_image,ids[2::6]])\n",
    "#     p4 = pool.apply_async(build_data, [4,EEG_image,ids[3::6]])\n",
    "#     p5 = pool.apply_async(build_data, [5,EEG_image,ids[4::6]])\n",
    "#     p6 = pool.apply_async(build_data, [6,EEG_image,ids[5::6]])\n",
    "#     ans1 = p1.get(timeout=t_out)\n",
    "#     ans2 = p2.get(timeout=t_out)\n",
    "#     ans3 = p3.get(timeout=t_out)\n",
    "#     ans4 = p4.get(timeout=t_out)\n",
    "#     ans5 = p5.get(timeout=t_out)\n",
    "#     ans6 = p6.get(timeout=t_out)\n",
    "#     X = np.concatenate([ans1[0] , ans2[0], ans3[0], ans4[0] ,ans5[0], ans6[0]])\n",
    "#     y = np.concatenate([ans1[1] , ans2[1], ans3[1], ans4[1] ,ans5[1], ans6[1]])\n",
    "#     print(X.shape, y.shape)\n",
    "# finally:\n",
    "#     print(\"========= close ========\")\n",
    "#     pool.close() \n",
    "#     pool.terminate()"
   ],
   "outputs": [],
   "metadata": {}
  },
  {
   "cell_type": "code",
   "execution_count": 53,
   "source": [
    "# def get_acc(X,y):\n",
    "#     X_norm = normalize(X, axis=0)\n",
    "#     gnb = GaussianNB()\n",
    "#     gnb.fit(X_norm, y)  \n",
    "#     pred = gnb.predict(X_norm)\n",
    "#     acc = sum(y == pred)/len(y)\n",
    "#     return acc\n",
    "# get_acc(X,y)"
   ],
   "outputs": [],
   "metadata": {}
  },
  {
   "cell_type": "markdown",
   "source": [
    "## PSD"
   ],
   "metadata": {}
  },
  {
   "cell_type": "code",
   "execution_count": 54,
   "source": [
    "band_names = np.array(['Delta', 'Theta', 'Alpha', 'Beta', 'Gamma'])\n",
    "filter_list = [[0,4],[4,8],[8,13],[13,30],[30,125]]\n",
    "def build_data(p_num, EEG,ids):\n",
    "    X = None\n",
    "    y = []\n",
    "    # Delta, Theta, Alpha, Beta, Gamma\n",
    "    filter_list = [[0,4],[4,8],[8,13],[13,30],[30,125]]\n",
    "    with tqdm(ids) as t:\n",
    "        for index, id in enumerate(t):\n",
    "            t.set_description(f\"{id}\")\n",
    "            print(f\"p_no={p_num}|index={index}|id={id}\")\n",
    "            raw = dataframe_to_raw(EEG[id], sfreq=250)\n",
    "            \n",
    "            # Preprocess\n",
    "            raw.notch_filter([50,100],filter_length='auto', phase='zero', verbose=False) # Line power\n",
    "            raw.filter(1., None, verbose=False) # Slow drift\n",
    "            # ica = mne.preprocessing.ICA(n_components=8, max_iter='auto')\n",
    "            # ica.fit(raw, verbose=False)\n",
    "            # raw = ica.apply(raw, verbose=False)\n",
    "\n",
    "            events = mne.find_events(raw, stim_channel='Marker', initial_event=True, verbose=False, uint_cast=False)\n",
    "            events = np.delete(events,np.argwhere(events[:,2] == 1), axis=0) # break\n",
    "            # Check data\n",
    "            if(events.shape[0] != 50):\n",
    "                raise ValueError(f\"Event missing: {events[:,2]}. len(events.shape[0])={events.shape[0]}\")\n",
    "            epochs = mne.Epochs(raw, events, tmin=2, tmax=4, baseline=(2,4), verbose=False)\n",
    "            if(epochs.get_data().shape[0] != 50):\n",
    "                raise ValueError(f\"There might be a bad data. epochs.get_data().shape = {epochs.get_data().shape}\")\n",
    "\n",
    "            # Extract features\n",
    "            # powers,freq = mne.time_frequency.psd_welch(epochs,n_fft = 64, verbose=False)\n",
    "            # # features = np.mean(powers, axis=1)\n",
    "            # features = powers\n",
    "            # # print(features.shape) #(50,8,65)\n",
    "            # for e in range(features.shape[0]):\n",
    "            #     row = np.expand_dims(features[e], axis=0)\n",
    "            #     row = 10 * np.log10(row)\n",
    "            #     if(type(X) == type(None)): X = row\n",
    "            #     else: X = np.concatenate( [X, row ], axis=0 )\n",
    "            #     # print(events[e]) [1894    0  521]\n",
    "            #     y.append(int(str(events[e][2])[0]))\n",
    "\n",
    "            import sys\n",
    "            sys.stdout = open(os.devnull, 'w')\n",
    "            events = np.array([int(event / 100) for event in epochs.events[:,2]])\n",
    "            csp = mne.decoding.CSP(n_components=15, transform_into='csp_space', norm_trace=True)\n",
    "            print(epochs.get_data().shape, epochs.get_data()[:,:8,:].shape)\n",
    "            data = csp.fit_transform(epochs.get_data()[:,:8,:], events)\n",
    "            # data = csp.fit_transform(epochs.get_data(), events)\n",
    "            sys.stdout = sys.__stdout__\n",
    "            for index_inner, evoked in enumerate(epochs.iter_evoked()):\n",
    "                power,freq = mne.time_frequency.psd_array_welch(data[index_inner],sfreq=250,n_fft=64, verbose=False)\n",
    "                row = power\n",
    "                row = 10 * np.log10(row)\n",
    "                row = np.expand_dims(row, axis=0)\n",
    "                # row = np.expand_dims(power.reshape(-1), axis=0)\n",
    "                if(type(X) == type(None)): X = row\n",
    "                else: X = np.concatenate( [X, row ], axis=0 )\n",
    "                event = int(evoked.comment[0])\n",
    "                y.append(event)\n",
    "                # label = gt.loc[id][['lh','le','lx','la','lc','lo']].to_numpy()\n",
    "                # label = np.expand_dims(label, axis=0)\n",
    "                # if(type(Y) == type(None)): Y = label\n",
    "                # else: Y = np.concatenate( [Y, label ], axis=0 )\n",
    "\n",
    "\n",
    "    print(f\"{p_num} done| {ids}\")\n",
    "    return np.array(X),np.array(y),freq\n",
    "\n",
    "def get_acc(X,y):\n",
    "    from sklearn.model_selection import cross_val_score\n",
    "    X_copy = X.copy()\n",
    "    X_copy = normalize(X_copy,axis=0)\n",
    "    mnb = GaussianNB()\n",
    "    mnb.fit(X_copy, y)  \n",
    "    acc = sum(mnb.predict(X_copy) == y) / len(y)\n",
    "    scores = cross_val_score(mnb, X_copy, y)\n",
    "    print(\"| Accuracy: %0.2f Scores: %0.2f (+/- %0.2f)\" % (acc,scores.mean(), scores.std() * 2))\n",
    "    result = (acc,scores.mean(),scores.std() * 2)\n",
    "    return result, mnb"
   ],
   "outputs": [],
   "metadata": {}
  },
  {
   "cell_type": "code",
   "execution_count": 55,
   "source": [
    "# X,y,freq = build_data(1, EEG_image, np.array(list(EEG_image.keys())))"
   ],
   "outputs": [],
   "metadata": {}
  },
  {
   "cell_type": "code",
   "execution_count": 56,
   "source": [
    "try:\n",
    "    # [33,2,10,12,16]\n",
    "    t_out = 100\n",
    "    pool = Pool()\n",
    "    ids = np.array(list(EEG_image.keys()))\n",
    "    p1 = pool.apply_async(build_data, [1,EEG_image,ids[0::6]])\n",
    "    p2 = pool.apply_async(build_data, [2,EEG_image,ids[1::6]])\n",
    "    p3 = pool.apply_async(build_data, [3,EEG_image,ids[2::6]])\n",
    "    p4 = pool.apply_async(build_data, [4,EEG_image,ids[3::6]])\n",
    "    p5 = pool.apply_async(build_data, [5,EEG_image,ids[4::6]])\n",
    "    p6 = pool.apply_async(build_data, [6,EEG_image,ids[5::6]])\n",
    "    ans1 = p1.get(timeout=t_out)\n",
    "    ans2 = p2.get(timeout=t_out)\n",
    "    ans3 = p3.get(timeout=t_out)\n",
    "    ans4 = p4.get(timeout=t_out)\n",
    "    ans5 = p5.get(timeout=t_out)\n",
    "    ans6 = p6.get(timeout=t_out)\n",
    "    X = np.concatenate([ans1[0] , ans2[0], ans3[0], ans4[0] ,ans5[0], ans6[0]])\n",
    "    y = np.concatenate([ans1[1] , ans2[1], ans3[1], ans4[1] ,ans5[1], ans6[1]])\n",
    "    freq = ans1[2]\n",
    "    print(X.shape, y.shape)\n",
    "finally:\n",
    "    print(\"========= close ========\")\n",
    "    pool.close() \n",
    "    pool.terminate()"
   ],
   "outputs": [
    {
     "output_type": "stream",
     "name": "stdout",
     "text": [
      "p_no=1|index=0|id=10\n",
      "p_no=2|index=0|id=13\n",
      "p_no=3|index=0|id=25\n",
      "p_no=4|index=0|id=5\n",
      "p_no=5|index=0|id=14\n",
      "p_no=6|index=0|id=22\n",
      "(1500, 8, 33) (1500,)\n",
      "========= close ========\n"
     ]
    }
   ],
   "metadata": {}
  },
  {
   "cell_type": "code",
   "execution_count": 57,
   "source": [
    "bin = dict({\n",
    "    1: 0,\n",
    "    2: 0,\n",
    "    3: 0,\n",
    "    4: 0,\n",
    "    5: 0\n",
    "    })\n",
    "\n",
    "for i in y:\n",
    "    bin[i] = bin[i] + 1\n",
    "\n",
    "print(bin)\n"
   ],
   "outputs": [
    {
     "output_type": "stream",
     "name": "stdout",
     "text": [
      "{1: 300, 2: 300, 3: 300, 4: 300, 5: 300}\n"
     ]
    }
   ],
   "metadata": {}
  },
  {
   "cell_type": "code",
   "execution_count": 58,
   "source": [
    "X,y = shuffle(X,y)\n",
    "bands = []\n",
    "for filt in filter_list:\n",
    "    pt = np.argwhere((freq >= filt[0]) & (freq <= filt[1])).reshape(-1)\n",
    "    bands.append(pt)\n",
    "bands = np.array(bands)\n",
    "\n",
    "result_image = []\n",
    "best_image_acc = 0\n",
    "best_image_score = 0\n",
    "best_image_idx = -1\n",
    "best_image_comb = None\n",
    "best_image_model = None\n",
    "image_X, image_y = None, None\n",
    "for r in [1,2,3,4,5]:\n",
    "    print(\"=\"*20,f\"Number {r}\",\"=\"*20)\n",
    "    for comb in combinations([0,1,2,3,4],r):\n",
    "        print(\" \",band_names[list(comb)])\n",
    "        selected_x = None\n",
    "        # print(bands[ list(comb) ])\n",
    "        for pt in bands[ list(comb) ]:\n",
    "            # print(pt)\n",
    "            if(type(selected_x) == type(None)): selected_x = X[:,:,pt].mean(axis=2)\n",
    "            else:\n",
    "                selected_x = np.concatenate([selected_x, X[:,:,pt].mean(axis=2)], axis=1)\n",
    "        # print(selected_x.shape)\n",
    "        # pts = np.concatenate( bands[ list(comb) ] )\n",
    "        result,model = get_acc(selected_x,y)\n",
    "        print(\" Averag accuracy:\", result[0], \"Average Score:\", result[1], \"Average Variance:\", result[2])\n",
    "        result_image.append(result)\n",
    "        if(result[1] > best_image_score):\n",
    "            best_image_acc = result[0]\n",
    "            best_image_score = result[1]\n",
    "            best_image_idx = len(result_image)-1\n",
    "            best_image_comb = band_names[ list(comb) ]\n",
    "            best_image_model = model\n",
    "            image_X = selected_x.copy()\n",
    "            image_y = y.copy()\n",
    "\n",
    "print(f\"Best Score is {best_image_acc} | {best_image_score} at index {best_image_idx} with combination {best_image_comb}\")"
   ],
   "outputs": [
    {
     "output_type": "stream",
     "name": "stdout",
     "text": [
      "==================== Number 1 ====================\n",
      "  ['Delta']\n"
     ]
    },
    {
     "output_type": "stream",
     "name": "stderr",
     "text": [
      "<ipython-input-58-0f1894f8d268>:6: VisibleDeprecationWarning: Creating an ndarray from ragged nested sequences (which is a list-or-tuple of lists-or-tuples-or ndarrays with different lengths or shapes) is deprecated. If you meant to do this, you must specify 'dtype=object' when creating the ndarray.\n",
      "  bands = np.array(bands)\n"
     ]
    },
    {
     "output_type": "stream",
     "name": "stdout",
     "text": [
      "| Accuracy: 0.22 Scores: 0.20 (+/- 0.02)\n",
      " Averag accuracy: 0.224 Average Score: 0.202 Average Variance: 0.019595917942265423\n",
      "  ['Theta']\n",
      "| Accuracy: 0.23 Scores: 0.18 (+/- 0.04)\n",
      " Averag accuracy: 0.23266666666666666 Average Score: 0.17933333333333332 Average Variance: 0.04096611065529923\n",
      "  ['Alpha']\n",
      "| Accuracy: 0.24 Scores: 0.18 (+/- 0.03)\n",
      " Averag accuracy: 0.23533333333333334 Average Score: 0.18266666666666667 Average Variance: 0.02872087897138401\n",
      "  ['Beta']\n",
      "| Accuracy: 0.24 Scores: 0.19 (+/- 0.03)\n",
      " Averag accuracy: 0.242 Average Score: 0.1933333333333333 Average Variance: 0.030695638488590242\n",
      "  ['Gamma']\n",
      "| Accuracy: 0.24 Scores: 0.21 (+/- 0.02)\n",
      " Averag accuracy: 0.23533333333333334 Average Score: 0.20666666666666664 Average Variance: 0.024585451886114378\n",
      "==================== Number 2 ====================\n",
      "  ['Delta' 'Theta']\n",
      "| Accuracy: 0.23 Scores: 0.20 (+/- 0.05)\n",
      " Averag accuracy: 0.232 Average Score: 0.2033333333333333 Average Variance: 0.04880801391392833\n",
      "  ['Delta' 'Alpha']\n",
      "| Accuracy: 0.25 Scores: 0.20 (+/- 0.03)\n",
      " Averag accuracy: 0.25266666666666665 Average Score: 0.2033333333333333 Average Variance: 0.03183289703016886\n",
      "  ['Delta' 'Beta']\n",
      "| Accuracy: 0.26 Scores: 0.20 (+/- 0.04)\n",
      " Averag accuracy: 0.264 Average Score: 0.2013333333333333 Average Variance: 0.04057366414587451\n",
      "  ['Delta' 'Gamma']\n",
      "| Accuracy: 0.25 Scores: 0.20 (+/- 0.03)\n",
      " Averag accuracy: 0.252 Average Score: 0.19733333333333333 Average Variance: 0.02646591098837227\n",
      "  ['Theta' 'Alpha']\n",
      "| Accuracy: 0.24 Scores: 0.19 (+/- 0.05)\n",
      " Averag accuracy: 0.24466666666666667 Average Score: 0.186 Average Variance: 0.05153639490690049\n",
      "  ['Theta' 'Beta']\n",
      "| Accuracy: 0.25 Scores: 0.19 (+/- 0.04)\n",
      " Averag accuracy: 0.25 Average Score: 0.19333333333333336 Average Variance: 0.03977715704047013\n",
      "  ['Theta' 'Gamma']\n",
      "| Accuracy: 0.25 Scores: 0.20 (+/- 0.02)\n",
      " Averag accuracy: 0.25266666666666665 Average Score: 0.202 Average Variance: 0.021746008573733454\n",
      "  ['Alpha' 'Beta']\n",
      "| Accuracy: 0.24 Scores: 0.19 (+/- 0.03)\n",
      " Averag accuracy: 0.23733333333333334 Average Score: 0.19333333333333333 Average Variance: 0.03183289703016887\n",
      "  ['Alpha' 'Gamma']\n",
      "| Accuracy: 0.26 Scores: 0.20 (+/- 0.01)\n",
      " Averag accuracy: 0.25666666666666665 Average Score: 0.19666666666666668 Average Variance: 0.007302967433402221\n",
      "  ['Beta' 'Gamma']\n",
      "| Accuracy: 0.24 Scores: 0.20 (+/- 0.03)\n",
      " Averag accuracy: 0.24266666666666667 Average Score: 0.19933333333333333 Average Variance: 0.026465910988372282\n",
      "==================== Number 3 ====================\n",
      "  ['Delta' 'Theta' 'Alpha']\n",
      "| Accuracy: 0.25 Scores: 0.20 (+/- 0.04)\n",
      " Averag accuracy: 0.24933333333333332 Average Score: 0.198 Average Variance: 0.04057366414587451\n",
      "  ['Delta' 'Theta' 'Beta']\n",
      "| Accuracy: 0.26 Scores: 0.20 (+/- 0.05)\n",
      " Averag accuracy: 0.25933333333333336 Average Score: 0.2 Average Variance: 0.05215361924162118\n",
      "  ['Delta' 'Theta' 'Gamma']\n",
      "| Accuracy: 0.27 Scores: 0.19 (+/- 0.03)\n",
      " Averag accuracy: 0.266 Average Score: 0.18733333333333332 Average Variance: 0.027129319932501075\n",
      "  ['Delta' 'Alpha' 'Beta']\n",
      "| Accuracy: 0.26 Scores: 0.20 (+/- 0.03)\n",
      " Averag accuracy: 0.26266666666666666 Average Score: 0.19866666666666669 Average Variance: 0.028158282775923825\n",
      "  ['Delta' 'Alpha' 'Gamma']\n",
      "| Accuracy: 0.26 Scores: 0.19 (+/- 0.02)\n",
      " Averag accuracy: 0.264 Average Score: 0.194 Average Variance: 0.015434449203720306\n",
      "  ['Delta' 'Beta' 'Gamma']\n",
      "| Accuracy: 0.26 Scores: 0.19 (+/- 0.04)\n",
      " Averag accuracy: 0.258 Average Score: 0.19466666666666668 Average Variance: 0.042079290234825345\n",
      "  ['Theta' 'Alpha' 'Beta']\n",
      "| Accuracy: 0.25 Scores: 0.19 (+/- 0.02)\n",
      " Averag accuracy: 0.24866666666666667 Average Score: 0.192 Average Variance: 0.020044395171163878\n",
      "  ['Theta' 'Alpha' 'Gamma']\n",
      "| Accuracy: 0.27 Scores: 0.19 (+/- 0.02)\n",
      " Averag accuracy: 0.26866666666666666 Average Score: 0.18533333333333332 Average Variance: 0.023701851779508232\n",
      "  ['Theta' 'Beta' 'Gamma']\n",
      "| Accuracy: 0.26 Scores: 0.20 (+/- 0.04)\n",
      " Averag accuracy: 0.26266666666666666 Average Score: 0.19733333333333333 Average Variance: 0.03804091364716561\n",
      "  ['Alpha' 'Beta' 'Gamma']\n",
      "| Accuracy: 0.26 Scores: 0.20 (+/- 0.01)\n",
      " Averag accuracy: 0.258 Average Score: 0.19866666666666669 Average Variance: 0.013727506854649331\n",
      "==================== Number 4 ====================\n",
      "  ['Delta' 'Theta' 'Alpha' 'Beta']\n",
      "| Accuracy: 0.26 Scores: 0.20 (+/- 0.06)\n",
      " Averag accuracy: 0.262 Average Score: 0.19933333333333333 Average Variance: 0.055361438645404513\n",
      "  ['Delta' 'Theta' 'Alpha' 'Gamma']\n",
      "| Accuracy: 0.27 Scores: 0.19 (+/- 0.02)\n",
      " Averag accuracy: 0.27466666666666667 Average Score: 0.18799999999999997 Average Variance: 0.024801433650317697\n",
      "  ['Delta' 'Theta' 'Beta' 'Gamma']\n",
      "| Accuracy: 0.28 Scores: 0.19 (+/- 0.04)\n",
      " Averag accuracy: 0.2806666666666667 Average Score: 0.18933333333333333 Average Variance: 0.03827386691841953\n",
      "  ['Delta' 'Alpha' 'Beta' 'Gamma']\n",
      "| Accuracy: 0.27 Scores: 0.19 (+/- 0.02)\n",
      " Averag accuracy: 0.2653333333333333 Average Score: 0.18733333333333335 Average Variance: 0.024729649321321885\n",
      "  ['Theta' 'Alpha' 'Beta' 'Gamma']\n",
      "| Accuracy: 0.26 Scores: 0.19 (+/- 0.01)\n",
      " Averag accuracy: 0.25733333333333336 Average Score: 0.188 Average Variance: 0.006798692684790383\n",
      "==================== Number 5 ====================\n",
      "  ['Delta' 'Theta' 'Alpha' 'Beta' 'Gamma']\n",
      "| Accuracy: 0.27 Scores: 0.19 (+/- 0.03)\n",
      " Averag accuracy: 0.2693333333333333 Average Score: 0.18533333333333335 Average Variance: 0.03227658249842721\n",
      "Best Score is 0.23533333333333334 | 0.20666666666666664 at index 4 with combination ['Gamma']\n"
     ]
    }
   ],
   "metadata": {}
  },
  {
   "cell_type": "code",
   "execution_count": 59,
   "source": [
    "try:\n",
    "    # [33,2,10,12,16]\n",
    "    t_out = 100\n",
    "    pool = Pool()\n",
    "    ids = np.array(list(EEG_image.keys()))\n",
    "    p1 = pool.apply_async(build_data, [1,EEG_audio,ids[0::6]])\n",
    "    p2 = pool.apply_async(build_data, [2,EEG_audio,ids[1::6]])\n",
    "    p3 = pool.apply_async(build_data, [3,EEG_audio,ids[2::6]])\n",
    "    p4 = pool.apply_async(build_data, [4,EEG_audio,ids[3::6]])\n",
    "    p5 = pool.apply_async(build_data, [5,EEG_audio,ids[4::6]])\n",
    "    p6 = pool.apply_async(build_data, [6,EEG_audio,ids[5::6]])\n",
    "    ans1 = p1.get(timeout=t_out)\n",
    "    ans2 = p2.get(timeout=t_out)\n",
    "    ans3 = p3.get(timeout=t_out)\n",
    "    ans4 = p4.get(timeout=t_out)\n",
    "    ans5 = p5.get(timeout=t_out)\n",
    "    ans6 = p6.get(timeout=t_out)\n",
    "    X = np.concatenate([ans1[0] , ans2[0], ans3[0], ans4[0] ,ans5[0], ans6[0]])\n",
    "    y = np.concatenate([ans1[1] , ans2[1], ans3[1], ans4[1] ,ans5[1], ans6[1]])\n",
    "    print(X.shape, y.shape)\n",
    "finally:\n",
    "    print(\"========= close ========\")\n",
    "    pool.close() \n",
    "    pool.terminate()"
   ],
   "outputs": [
    {
     "output_type": "stream",
     "name": "stdout",
     "text": [
      "p_no=1|index=0|id=10\n",
      "p_no=2|index=0|id=13\n",
      "p_no=3|index=0|id=25\n",
      "p_no=4|index=0|id=5\n",
      "p_no=5|index=0|id=14\n",
      "p_no=6|index=0|id=22\n",
      "(1500, 8, 33) (1500,)\n",
      "========= close ========\n"
     ]
    }
   ],
   "metadata": {}
  },
  {
   "cell_type": "code",
   "execution_count": 60,
   "source": [
    "X,y = shuffle(X,y)\n",
    "bands = []\n",
    "for filt in filter_list:\n",
    "    pt = np.argwhere((freq >= filt[0]) & (freq <= filt[1])).reshape(-1)\n",
    "    bands.append(pt)\n",
    "bands = np.array(bands)\n",
    "\n",
    "result_audio = []\n",
    "best_audio_acc = 0\n",
    "best_audio_score = 0\n",
    "best_audio_idx = -1\n",
    "best_audio_comb = None\n",
    "best_audio_model = None\n",
    "audio_X, audio_y = None, None\n",
    "for r in [1,2,3,4,5]:\n",
    "    print(\"=\"*20,f\"Number {r}\",\"=\"*20)\n",
    "    for comb in combinations([0,1,2,3,4],r):\n",
    "        print(\" \",band_names[list(comb)])\n",
    "        selected_x = None\n",
    "        # print(bands[ list(comb) ])\n",
    "        for pt in bands[ list(comb) ]:\n",
    "            # print(pt)\n",
    "            if(type(selected_x) == type(None)): selected_x = X[:,:,pt].mean(axis=2)\n",
    "            else:\n",
    "                selected_x = np.concatenate([selected_x, X[:,:,pt].mean(axis=2)], axis=1)\n",
    "        # print(selected_x.shape)\n",
    "        # pts = np.concatenate( bands[ list(comb) ] )\n",
    "        result,model = get_acc(selected_x,y)\n",
    "        print(\" Averag accuracy:\", result[0], \"Average Score:\", result[1], \"Average Variance:\", result[2])\n",
    "        result_audio.append(result)\n",
    "        if(result[1] > best_audio_score):\n",
    "            best_audio_acc = result[0]\n",
    "            best_audio_score = result[1]\n",
    "            best_audio_idx = len(result_audio)-1\n",
    "            best_audio_comb = band_names[ list(comb) ]\n",
    "            best_audio_model = model\n",
    "            audio_X = selected_x.copy()\n",
    "            audio_y = y.copy()\n",
    "\n",
    "print(f\"Best Score is {best_audio_acc} | {best_audio_score} at index {best_audio_idx} with combination {best_audio_comb}\")"
   ],
   "outputs": [
    {
     "output_type": "stream",
     "name": "stdout",
     "text": [
      "==================== Number 1 ====================\n",
      "  ['Delta']\n",
      "| Accuracy: 0.25 Scores: 0.21 (+/- 0.03)\n",
      " Averag accuracy: 0.25466666666666665 Average Score: 0.20666666666666664 Average Variance: 0.026997942308422125\n",
      "  ['Theta']\n",
      "| Accuracy: 0.24 Scores: 0.19 (+/- 0.03)\n",
      " Averag accuracy: 0.238 Average Score: 0.194 Average Variance: 0.031098410105841617\n",
      "  ['Alpha']\n"
     ]
    },
    {
     "output_type": "stream",
     "name": "stderr",
     "text": [
      "<ipython-input-60-58167e8e51cd>:6: VisibleDeprecationWarning: Creating an ndarray from ragged nested sequences (which is a list-or-tuple of lists-or-tuples-or ndarrays with different lengths or shapes) is deprecated. If you meant to do this, you must specify 'dtype=object' when creating the ndarray.\n",
      "  bands = np.array(bands)\n"
     ]
    },
    {
     "output_type": "stream",
     "name": "stdout",
     "text": [
      "| Accuracy: 0.23 Scores: 0.18 (+/- 0.04)\n",
      " Averag accuracy: 0.226 Average Score: 0.184 Average Variance: 0.04008879034232774\n",
      "  ['Beta']\n",
      "| Accuracy: 0.23 Scores: 0.19 (+/- 0.02)\n",
      " Averag accuracy: 0.234 Average Score: 0.18866666666666665 Average Variance: 0.023323807579381198\n",
      "  ['Gamma']\n",
      "| Accuracy: 0.24 Scores: 0.21 (+/- 0.03)\n",
      " Averag accuracy: 0.24066666666666667 Average Score: 0.20933333333333332 Average Variance: 0.034615346628659116\n",
      "==================== Number 2 ====================\n",
      "  ['Delta' 'Theta']\n",
      "| Accuracy: 0.25 Scores: 0.20 (+/- 0.02)\n",
      " Averag accuracy: 0.25 Average Score: 0.2 Average Variance: 0.021908902300206645\n",
      "  ['Delta' 'Alpha']\n",
      "| Accuracy: 0.25 Scores: 0.18 (+/- 0.04)\n",
      " Averag accuracy: 0.24733333333333332 Average Score: 0.17933333333333334 Average Variance: 0.036854066562894014\n",
      "  ['Delta' 'Beta']\n",
      "| Accuracy: 0.24 Scores: 0.19 (+/- 0.04)\n",
      " Averag accuracy: 0.23533333333333334 Average Score: 0.19466666666666665 Average Variance: 0.04186751591495356\n",
      "  ['Delta' 'Gamma']\n",
      "| Accuracy: 0.25 Scores: 0.21 (+/- 0.06)\n",
      " Averag accuracy: 0.25466666666666665 Average Score: 0.21333333333333332 Average Variance: 0.055936471902408066\n",
      "  ['Theta' 'Alpha']\n",
      "| Accuracy: 0.24 Scores: 0.19 (+/- 0.02)\n",
      " Averag accuracy: 0.244 Average Score: 0.188 Average Variance: 0.022548712700383684\n",
      "  ['Theta' 'Beta']\n",
      "| Accuracy: 0.24 Scores: 0.18 (+/- 0.01)\n",
      " Averag accuracy: 0.24333333333333335 Average Score: 0.18333333333333332 Average Variance: 0.00942809041582064\n",
      "  ['Theta' 'Gamma']\n",
      "| Accuracy: 0.26 Scores: 0.21 (+/- 0.03)\n",
      " Averag accuracy: 0.25533333333333336 Average Score: 0.21000000000000002 Average Variance: 0.033730961708462716\n",
      "  ['Alpha' 'Beta']\n",
      "| Accuracy: 0.25 Scores: 0.18 (+/- 0.02)\n",
      " Averag accuracy: 0.248 Average Score: 0.182 Average Variance: 0.016110727964792754\n",
      "  ['Alpha' 'Gamma']\n",
      "| Accuracy: 0.25 Scores: 0.20 (+/- 0.03)\n",
      " Averag accuracy: 0.25066666666666665 Average Score: 0.20199999999999996 Average Variance: 0.025508168626278662\n",
      "  ['Beta' 'Gamma']\n",
      "| Accuracy: 0.25 Scores: 0.20 (+/- 0.04)\n",
      " Averag accuracy: 0.24733333333333332 Average Score: 0.202 Average Variance: 0.03878143885933062\n",
      "==================== Number 3 ====================\n",
      "  ['Delta' 'Theta' 'Alpha']\n",
      "| Accuracy: 0.25 Scores: 0.19 (+/- 0.02)\n",
      " Averag accuracy: 0.25133333333333335 Average Score: 0.19133333333333336 Average Variance: 0.015549205052920805\n",
      "  ['Delta' 'Theta' 'Beta']\n",
      "| Accuracy: 0.25 Scores: 0.19 (+/- 0.03)\n",
      " Averag accuracy: 0.24933333333333332 Average Score: 0.18666666666666668 Average Variance: 0.02890597785157172\n",
      "  ['Delta' 'Theta' 'Gamma']\n",
      "| Accuracy: 0.26 Scores: 0.21 (+/- 0.04)\n",
      " Averag accuracy: 0.25666666666666665 Average Score: 0.2053333333333333 Average Variance: 0.03761796261244236\n",
      "  ['Delta' 'Alpha' 'Beta']\n",
      "| Accuracy: 0.25 Scores: 0.18 (+/- 0.03)\n",
      " Averag accuracy: 0.25466666666666665 Average Score: 0.18266666666666664 Average Variance: 0.034097898273451804\n",
      "  ['Delta' 'Alpha' 'Gamma']\n",
      "| Accuracy: 0.27 Scores: 0.20 (+/- 0.07)\n",
      " Averag accuracy: 0.2673333333333333 Average Score: 0.2046666666666667 Average Variance: 0.06553709721303737\n",
      "  ['Delta' 'Beta' 'Gamma']\n",
      "| Accuracy: 0.25 Scores: 0.19 (+/- 0.06)\n",
      " Averag accuracy: 0.24866666666666667 Average Score: 0.194 Average Variance: 0.05503937984146746\n",
      "  ['Theta' 'Alpha' 'Beta']\n",
      "| Accuracy: 0.25 Scores: 0.18 (+/- 0.02)\n",
      " Averag accuracy: 0.248 Average Score: 0.17733333333333332 Average Variance: 0.01758787461103056\n",
      "  ['Theta' 'Alpha' 'Gamma']\n",
      "| Accuracy: 0.27 Scores: 0.21 (+/- 0.04)\n",
      " Averag accuracy: 0.2733333333333333 Average Score: 0.2053333333333333 Average Variance: 0.04229000407240989\n",
      "  ['Theta' 'Beta' 'Gamma']\n",
      "| Accuracy: 0.25 Scores: 0.20 (+/- 0.03)\n",
      " Averag accuracy: 0.25133333333333335 Average Score: 0.20266666666666663 Average Variance: 0.02612789058968724\n",
      "  ['Alpha' 'Beta' 'Gamma']\n",
      "| Accuracy: 0.25 Scores: 0.19 (+/- 0.02)\n",
      " Averag accuracy: 0.25 Average Score: 0.19133333333333333 Average Variance: 0.021333333333333336\n",
      "==================== Number 4 ====================\n",
      "  ['Delta' 'Theta' 'Alpha' 'Beta']\n",
      "| Accuracy: 0.26 Scores: 0.18 (+/- 0.02)\n",
      " Averag accuracy: 0.25866666666666666 Average Score: 0.184 Average Variance: 0.020827332469084414\n",
      "  ['Delta' 'Theta' 'Alpha' 'Gamma']\n",
      "| Accuracy: 0.27 Scores: 0.19 (+/- 0.03)\n",
      " Averag accuracy: 0.2713333333333333 Average Score: 0.19133333333333333 Average Variance: 0.028158282775923846\n",
      "  ['Delta' 'Theta' 'Beta' 'Gamma']\n",
      "| Accuracy: 0.26 Scores: 0.21 (+/- 0.05)\n",
      " Averag accuracy: 0.25666666666666665 Average Score: 0.20666666666666664 Average Variance: 0.049888765156985884\n",
      "  ['Delta' 'Alpha' 'Beta' 'Gamma']\n",
      "| Accuracy: 0.27 Scores: 0.20 (+/- 0.06)\n",
      " Averag accuracy: 0.268 Average Score: 0.2033333333333333 Average Variance: 0.05857568703063681\n",
      "  ['Theta' 'Alpha' 'Beta' 'Gamma']\n",
      "| Accuracy: 0.26 Scores: 0.20 (+/- 0.03)\n",
      " Averag accuracy: 0.26466666666666666 Average Score: 0.19866666666666666 Average Variance: 0.033888706739036885\n",
      "==================== Number 5 ====================\n",
      "  ['Delta' 'Theta' 'Alpha' 'Beta' 'Gamma']\n",
      "| Accuracy: 0.26 Scores: 0.20 (+/- 0.04)\n",
      " Averag accuracy: 0.258 Average Score: 0.20400000000000001 Average Variance: 0.04118252056394801\n",
      "Best Score is 0.25466666666666665 | 0.21333333333333332 at index 8 with combination ['Delta' 'Gamma']\n"
     ]
    }
   ],
   "metadata": {}
  },
  {
   "cell_type": "code",
   "execution_count": 77,
   "source": [
    "from sklearn.metrics import confusion_matrix, ConfusionMatrixDisplay"
   ],
   "outputs": [],
   "metadata": {}
  },
  {
   "cell_type": "code",
   "execution_count": 83,
   "source": [
    "ans = best_image_model.predict(normalize(image_X,axis=0))\n",
    "label = image_y\n",
    "cm = confusion_matrix(label, ans, normalize='all')\n",
    "ConfusionMatrixDisplay(cm, display_labels=[1,2,3,4,5]).plot()\n",
    "# print(cm)\n",
    "bin = dict({1: 0, 2: 0, 3: 0, 4: 0, 5: 0 })\n",
    "for i in ans:\n",
    "    bin[i] = bin[i] + 1\n",
    "print(bin)"
   ],
   "outputs": [
    {
     "output_type": "stream",
     "name": "stdout",
     "text": [
      "{1: 697, 2: 108, 3: 152, 4: 326, 5: 217}\n"
     ]
    },
    {
     "output_type": "display_data",
     "data": {
      "text/plain": [
       "<Figure size 432x288 with 2 Axes>"
      ],
      "image/svg+xml": "<?xml version=\"1.0\" encoding=\"utf-8\" standalone=\"no\"?>\n<!DOCTYPE svg PUBLIC \"-//W3C//DTD SVG 1.1//EN\"\n  \"http://www.w3.org/Graphics/SVG/1.1/DTD/svg11.dtd\">\n<svg height=\"257.98375pt\" version=\"1.1\" viewBox=\"0 0 304.79575 257.98375\" width=\"304.79575pt\" xmlns=\"http://www.w3.org/2000/svg\" xmlns:xlink=\"http://www.w3.org/1999/xlink\">\n <metadata>\n  <rdf:RDF xmlns:cc=\"http://creativecommons.org/ns#\" xmlns:dc=\"http://purl.org/dc/elements/1.1/\" xmlns:rdf=\"http://www.w3.org/1999/02/22-rdf-syntax-ns#\">\n   <cc:Work>\n    <dc:type rdf:resource=\"http://purl.org/dc/dcmitype/StillImage\"/>\n    <dc:date>2021-08-17T11:32:27.127640</dc:date>\n    <dc:format>image/svg+xml</dc:format>\n    <dc:creator>\n     <cc:Agent>\n      <dc:title>Matplotlib v3.4.1, https://matplotlib.org/</dc:title>\n     </cc:Agent>\n    </dc:creator>\n   </cc:Work>\n  </rdf:RDF>\n </metadata>\n <defs>\n  <style type=\"text/css\">*{stroke-linecap:butt;stroke-linejoin:round;}</style>\n </defs>\n <g id=\"figure_1\">\n  <g id=\"patch_1\">\n   <path d=\"M 0 257.98375 \nL 304.79575 257.98375 \nL 304.79575 0 \nL 0 0 \nz\n\" style=\"fill:#ffffff;\"/>\n  </g>\n  <g id=\"axes_1\">\n   <g id=\"patch_2\">\n    <path d=\"M 29.582813 224.64 \nL 247.022812 224.64 \nL 247.022812 7.2 \nL 29.582813 7.2 \nz\n\" style=\"fill:#ffffff;\"/>\n   </g>\n   <g clip-path=\"url(#pb79196ab7c)\">\n    <image height=\"218\" id=\"image7e27d7d06f\" transform=\"scale(1 -1)translate(0 -218)\" width=\"218\" x=\"29.582813\" xlink:href=\"data:image/png;base64,\niVBORw0KGgoAAAANSUhEUgAAANoAAADaCAYAAADAHVzbAAADL0lEQVR4nO3VMYpUQRhGUbvtFgYER8GoEYQJNDAVZh3G7sM1OoGIYqaIsSKI6CDSrYEbeJXc4uE5K/iCuvVvXrx+9ufGSry6PJs9Ycj24YPZE4Z8ubw/e8Jim9W82n+2swfA/0BoEBAaBIQGAaFBQGgQEBoEhAYBoUFAaBAQGgSEBgGhQUBoEBAaBIQGAaFBQGgQEBoEhAYBoUFAaBAQGgSEBgGhQUBoEBAaBIQGAaFBQGgQEBoEhAYBoUFAaBAQGgSEBgGhQUBoEBAaBIQGAaFBQGgQEBoEdm++HWZvWO74efaCMTfX9Y/9OGxmT1jszofT7AlD1vUSYKWEBgGhQUBoEBAaBIQGAaFBQGgQEBoEhAYBoUFAaBAQGgSEBgGhQUBoEBAaBIQGAaFBQGgQEBoEhAYBoUFAaBAQGgSEBgGhQUBoEBAaBIQGAaFBQGgQEBoEhAYBoUFAaBAQGgSEBgGhQUBoEBAaBIQGgd3Tu59mb1js6nAxe8KY7z9nLxhyujV7wXLnb7/OnjDERYOA0CAgNAgIDQJCg4DQICA0CAgNAkKDgNAgIDQICA0CQoOA0CAgNAgIDQJCg4DQICA0CAgNAkKDgNAgIDQICA0CQoOA0CAgNAgIDQJCg4DQICA0CAgNAkKDgNAgIDQICA0CQoOA0CAgNAgIDQJCg4DQICA0COyen1/N3rDYy/2j2ROGbK5/zZ4w5N674+wJi53O9rMnDHHRICA0CAgNAkKDgNAgIDQICA0CQoOA0CAgNAgIDQJCg4DQICA0CAgNAkKDgNAgIDQICA0CQoOA0CAgNAgIDQJCg4DQICA0CAgNAkKDgNAgIDQICA0CQoOA0CAgNAgIDQJCg4DQICA0CAgNAkKDgNAgIDQI7C72t2dvWOz4/uPsCUO2Tx7PnjDktN/MnrDY9vr37AlDXDQICA0CQoOA0CAgNAgIDQJCg4DQICA0CAgNAkKDgNAgIDQICA0CQoOA0CAgNAgIDQJCg4DQICA0CAgNAkKDgNAgIDQICA0CQoOA0CAgNAgIDQJCg4DQICA0CAgNAkKDgNAgIDQICA0CQoOA0CAgNAgIDQJCg8Bfcqci1APR9BUAAAAASUVORK5CYII=\" y=\"-6.64\"/>\n   </g>\n   <g id=\"matplotlib.axis_1\">\n    <g id=\"xtick_1\">\n     <g id=\"line2d_1\">\n      <path clip-path=\"url(#pb79196ab7c)\" d=\"M 51.326813 224.64 \nL 51.326813 7.2 \n\" style=\"fill:none;stroke:#cccccc;stroke-linecap:round;stroke-width:0.8;\"/>\n     </g>\n     <g id=\"line2d_2\"/>\n     <g id=\"text_1\">\n      <!-- 1 -->\n      <g style=\"fill:#262626;\" transform=\"translate(48.546344 235.386875)scale(0.1 -0.1)\">\n       <defs>\n        <path d=\"M 488 0 \nL 488 478 \nL 1609 478 \nL 1609 3866 \nL 616 3156 \nL 616 3688 \nL 1656 4403 \nL 2175 4403 \nL 2175 478 \nL 3247 478 \nL 3247 0 \nL 488 0 \nz\n\" id=\"LiberationSans-31\" transform=\"scale(0.015625)\"/>\n       </defs>\n       <use xlink:href=\"#LiberationSans-31\"/>\n      </g>\n     </g>\n    </g>\n    <g id=\"xtick_2\">\n     <g id=\"line2d_3\">\n      <path clip-path=\"url(#pb79196ab7c)\" d=\"M 94.814813 224.64 \nL 94.814813 7.2 \n\" style=\"fill:none;stroke:#cccccc;stroke-linecap:round;stroke-width:0.8;\"/>\n     </g>\n     <g id=\"line2d_4\"/>\n     <g id=\"text_2\">\n      <!-- 2 -->\n      <g style=\"fill:#262626;\" transform=\"translate(92.034344 235.386875)scale(0.1 -0.1)\">\n       <defs>\n        <path d=\"M 322 0 \nL 322 397 \nQ 481 763 711 1042 \nQ 941 1322 1194 1548 \nQ 1447 1775 1695 1969 \nQ 1944 2163 2144 2356 \nQ 2344 2550 2467 2762 \nQ 2591 2975 2591 3244 \nQ 2591 3606 2378 3806 \nQ 2166 4006 1788 4006 \nQ 1428 4006 1195 3811 \nQ 963 3616 922 3263 \nL 347 3316 \nQ 409 3844 795 4156 \nQ 1181 4469 1788 4469 \nQ 2453 4469 2811 4155 \nQ 3169 3841 3169 3263 \nQ 3169 3006 3051 2753 \nQ 2934 2500 2703 2247 \nQ 2472 1994 1819 1463 \nQ 1459 1169 1246 933 \nQ 1034 697 941 478 \nL 3238 478 \nL 3238 0 \nL 322 0 \nz\n\" id=\"LiberationSans-32\" transform=\"scale(0.015625)\"/>\n       </defs>\n       <use xlink:href=\"#LiberationSans-32\"/>\n      </g>\n     </g>\n    </g>\n    <g id=\"xtick_3\">\n     <g id=\"line2d_5\">\n      <path clip-path=\"url(#pb79196ab7c)\" d=\"M 138.302813 224.64 \nL 138.302813 7.2 \n\" style=\"fill:none;stroke:#cccccc;stroke-linecap:round;stroke-width:0.8;\"/>\n     </g>\n     <g id=\"line2d_6\"/>\n     <g id=\"text_3\">\n      <!-- 3 -->\n      <g style=\"fill:#262626;\" transform=\"translate(135.522344 235.386875)scale(0.1 -0.1)\">\n       <defs>\n        <path d=\"M 3278 1216 \nQ 3278 606 2890 271 \nQ 2503 -63 1784 -63 \nQ 1116 -63 717 239 \nQ 319 541 244 1131 \nL 825 1184 \nQ 938 403 1784 403 \nQ 2209 403 2451 612 \nQ 2694 822 2694 1234 \nQ 2694 1594 2417 1795 \nQ 2141 1997 1619 1997 \nL 1300 1997 \nL 1300 2484 \nL 1606 2484 \nQ 2069 2484 2323 2686 \nQ 2578 2888 2578 3244 \nQ 2578 3597 2370 3801 \nQ 2163 4006 1753 4006 \nQ 1381 4006 1151 3815 \nQ 922 3625 884 3278 \nL 319 3322 \nQ 381 3863 767 4166 \nQ 1153 4469 1759 4469 \nQ 2422 4469 2789 4161 \nQ 3156 3853 3156 3303 \nQ 3156 2881 2920 2617 \nQ 2684 2353 2234 2259 \nL 2234 2247 \nQ 2728 2194 3003 1916 \nQ 3278 1638 3278 1216 \nz\n\" id=\"LiberationSans-33\" transform=\"scale(0.015625)\"/>\n       </defs>\n       <use xlink:href=\"#LiberationSans-33\"/>\n      </g>\n     </g>\n    </g>\n    <g id=\"xtick_4\">\n     <g id=\"line2d_7\">\n      <path clip-path=\"url(#pb79196ab7c)\" d=\"M 181.790813 224.64 \nL 181.790813 7.2 \n\" style=\"fill:none;stroke:#cccccc;stroke-linecap:round;stroke-width:0.8;\"/>\n     </g>\n     <g id=\"line2d_8\"/>\n     <g id=\"text_4\">\n      <!-- 4 -->\n      <g style=\"fill:#262626;\" transform=\"translate(179.010344 235.386875)scale(0.1 -0.1)\">\n       <defs>\n        <path d=\"M 2753 997 \nL 2753 0 \nL 2222 0 \nL 2222 997 \nL 147 997 \nL 147 1434 \nL 2163 4403 \nL 2753 4403 \nL 2753 1441 \nL 3372 1441 \nL 3372 997 \nL 2753 997 \nz\nM 2222 3769 \nQ 2216 3750 2134 3603 \nQ 2053 3456 2013 3397 \nL 884 1734 \nL 716 1503 \nL 666 1441 \nL 2222 1441 \nL 2222 3769 \nz\n\" id=\"LiberationSans-34\" transform=\"scale(0.015625)\"/>\n       </defs>\n       <use xlink:href=\"#LiberationSans-34\"/>\n      </g>\n     </g>\n    </g>\n    <g id=\"xtick_5\">\n     <g id=\"line2d_9\">\n      <path clip-path=\"url(#pb79196ab7c)\" d=\"M 225.278813 224.64 \nL 225.278813 7.2 \n\" style=\"fill:none;stroke:#cccccc;stroke-linecap:round;stroke-width:0.8;\"/>\n     </g>\n     <g id=\"line2d_10\"/>\n     <g id=\"text_5\">\n      <!-- 5 -->\n      <g style=\"fill:#262626;\" transform=\"translate(222.498344 235.386875)scale(0.1 -0.1)\">\n       <defs>\n        <path d=\"M 3291 1434 \nQ 3291 738 2877 337 \nQ 2463 -63 1728 -63 \nQ 1113 -63 734 206 \nQ 356 475 256 984 \nL 825 1050 \nQ 1003 397 1741 397 \nQ 2194 397 2450 670 \nQ 2706 944 2706 1422 \nQ 2706 1838 2448 2094 \nQ 2191 2350 1753 2350 \nQ 1525 2350 1328 2278 \nQ 1131 2206 934 2034 \nL 384 2034 \nL 531 4403 \nL 3034 4403 \nL 3034 3925 \nL 1044 3925 \nL 959 2528 \nQ 1325 2809 1869 2809 \nQ 2519 2809 2905 2428 \nQ 3291 2047 3291 1434 \nz\n\" id=\"LiberationSans-35\" transform=\"scale(0.015625)\"/>\n       </defs>\n       <use xlink:href=\"#LiberationSans-35\"/>\n      </g>\n     </g>\n    </g>\n    <g id=\"text_6\">\n     <!-- Predicted label -->\n     <g style=\"fill:#262626;\" transform=\"translate(105.228594 248.70875)scale(0.1 -0.1)\">\n      <defs>\n       <path d=\"M 3931 3078 \nQ 3931 2453 3523 2084 \nQ 3116 1716 2416 1716 \nL 1122 1716 \nL 1122 0 \nL 525 0 \nL 525 4403 \nL 2378 4403 \nQ 3119 4403 3525 4056 \nQ 3931 3709 3931 3078 \nz\nM 3331 3072 \nQ 3331 3925 2306 3925 \nL 1122 3925 \nL 1122 2188 \nL 2331 2188 \nQ 3331 2188 3331 3072 \nz\n\" id=\"LiberationSans-50\" transform=\"scale(0.015625)\"/>\n       <path d=\"M 444 0 \nL 444 2594 \nQ 444 2950 425 3381 \nL 956 3381 \nQ 981 2806 981 2691 \nL 994 2691 \nQ 1128 3125 1303 3284 \nQ 1478 3444 1797 3444 \nQ 1909 3444 2025 3413 \nL 2025 2897 \nQ 1913 2928 1725 2928 \nQ 1375 2928 1190 2626 \nQ 1006 2325 1006 1763 \nL 1006 0 \nL 444 0 \nz\n\" id=\"LiberationSans-72\" transform=\"scale(0.015625)\"/>\n       <path d=\"M 863 1572 \nQ 863 991 1103 675 \nQ 1344 359 1806 359 \nQ 2172 359 2392 506 \nQ 2613 653 2691 878 \nL 3184 738 \nQ 2881 -63 1806 -63 \nQ 1056 -63 664 384 \nQ 272 831 272 1713 \nQ 272 2550 664 2997 \nQ 1056 3444 1784 3444 \nQ 3275 3444 3275 1647 \nL 3275 1572 \nL 863 1572 \nz\nM 2694 2003 \nQ 2647 2538 2422 2783 \nQ 2197 3028 1775 3028 \nQ 1366 3028 1127 2754 \nQ 888 2481 869 2003 \nL 2694 2003 \nz\n\" id=\"LiberationSans-65\" transform=\"scale(0.015625)\"/>\n       <path d=\"M 2566 544 \nQ 2409 219 2151 78 \nQ 1894 -63 1513 -63 \nQ 872 -63 570 368 \nQ 269 800 269 1675 \nQ 269 3444 1513 3444 \nQ 1897 3444 2153 3303 \nQ 2409 3163 2566 2856 \nL 2572 2856 \nL 2566 3234 \nL 2566 4638 \nL 3128 4638 \nL 3128 697 \nQ 3128 169 3147 0 \nL 2609 0 \nQ 2600 50 2589 231 \nQ 2578 413 2578 544 \nL 2566 544 \nz\nM 859 1694 \nQ 859 984 1046 678 \nQ 1234 372 1656 372 \nQ 2134 372 2350 703 \nQ 2566 1034 2566 1731 \nQ 2566 2403 2350 2715 \nQ 2134 3028 1663 3028 \nQ 1238 3028 1048 2714 \nQ 859 2400 859 1694 \nz\n\" id=\"LiberationSans-64\" transform=\"scale(0.015625)\"/>\n       <path d=\"M 428 4100 \nL 428 4638 \nL 991 4638 \nL 991 4100 \nL 428 4100 \nz\nM 428 0 \nL 428 3381 \nL 991 3381 \nL 991 0 \nL 428 0 \nz\n\" id=\"LiberationSans-69\" transform=\"scale(0.015625)\"/>\n       <path d=\"M 859 1706 \nQ 859 1031 1071 706 \nQ 1284 381 1713 381 \nQ 2013 381 2214 543 \nQ 2416 706 2463 1044 \nL 3031 1006 \nQ 2966 519 2616 228 \nQ 2266 -63 1728 -63 \nQ 1019 -63 645 385 \nQ 272 834 272 1694 \nQ 272 2547 647 2995 \nQ 1022 3444 1722 3444 \nQ 2241 3444 2583 3175 \nQ 2925 2906 3013 2434 \nL 2434 2391 \nQ 2391 2672 2212 2837 \nQ 2034 3003 1706 3003 \nQ 1259 3003 1059 2706 \nQ 859 2409 859 1706 \nz\n\" id=\"LiberationSans-63\" transform=\"scale(0.015625)\"/>\n       <path d=\"M 1731 25 \nQ 1453 -50 1163 -50 \nQ 488 -50 488 716 \nL 488 2972 \nL 97 2972 \nL 97 3381 \nL 509 3381 \nL 675 4138 \nL 1050 4138 \nL 1050 3381 \nL 1675 3381 \nL 1675 2972 \nL 1050 2972 \nL 1050 838 \nQ 1050 594 1129 495 \nQ 1209 397 1406 397 \nQ 1519 397 1731 441 \nL 1731 25 \nz\n\" id=\"LiberationSans-74\" transform=\"scale(0.015625)\"/>\n       <path id=\"LiberationSans-20\" transform=\"scale(0.015625)\"/>\n       <path d=\"M 431 0 \nL 431 4638 \nL 994 4638 \nL 994 0 \nL 431 0 \nz\n\" id=\"LiberationSans-6c\" transform=\"scale(0.015625)\"/>\n       <path d=\"M 1294 -63 \nQ 784 -63 528 206 \nQ 272 475 272 944 \nQ 272 1469 617 1750 \nQ 963 2031 1731 2050 \nL 2491 2063 \nL 2491 2247 \nQ 2491 2659 2316 2837 \nQ 2141 3016 1766 3016 \nQ 1388 3016 1216 2887 \nQ 1044 2759 1009 2478 \nL 422 2531 \nQ 566 3444 1778 3444 \nQ 2416 3444 2737 3151 \nQ 3059 2859 3059 2306 \nL 3059 850 \nQ 3059 600 3125 473 \nQ 3191 347 3375 347 \nQ 3456 347 3559 369 \nL 3559 19 \nQ 3347 -31 3125 -31 \nQ 2813 -31 2670 133 \nQ 2528 297 2509 647 \nL 2491 647 \nQ 2275 259 1989 98 \nQ 1703 -63 1294 -63 \nz\nM 1422 359 \nQ 1731 359 1972 500 \nQ 2213 641 2352 886 \nQ 2491 1131 2491 1391 \nL 2491 1669 \nL 1875 1656 \nQ 1478 1650 1273 1575 \nQ 1069 1500 959 1344 \nQ 850 1188 850 934 \nQ 850 659 998 509 \nQ 1147 359 1422 359 \nz\n\" id=\"LiberationSans-61\" transform=\"scale(0.015625)\"/>\n       <path d=\"M 3291 1706 \nQ 3291 -63 2047 -63 \nQ 1663 -63 1408 76 \nQ 1153 216 994 525 \nL 988 525 \nQ 988 428 975 229 \nQ 963 31 956 0 \nL 413 0 \nQ 431 169 431 697 \nL 431 4638 \nL 994 4638 \nL 994 3316 \nQ 994 3113 981 2838 \nL 994 2838 \nQ 1150 3163 1408 3303 \nQ 1666 3444 2047 3444 \nQ 2688 3444 2989 3012 \nQ 3291 2581 3291 1706 \nz\nM 2700 1688 \nQ 2700 2397 2512 2703 \nQ 2325 3009 1903 3009 \nQ 1428 3009 1211 2684 \nQ 994 2359 994 1653 \nQ 994 988 1206 670 \nQ 1419 353 1897 353 \nQ 2322 353 2511 667 \nQ 2700 981 2700 1688 \nz\n\" id=\"LiberationSans-62\" transform=\"scale(0.015625)\"/>\n      </defs>\n      <use xlink:href=\"#LiberationSans-50\"/>\n      <use x=\"66.699219\" xlink:href=\"#LiberationSans-72\"/>\n      <use x=\"100\" xlink:href=\"#LiberationSans-65\"/>\n      <use x=\"155.615234\" xlink:href=\"#LiberationSans-64\"/>\n      <use x=\"211.230469\" xlink:href=\"#LiberationSans-69\"/>\n      <use x=\"233.447266\" xlink:href=\"#LiberationSans-63\"/>\n      <use x=\"283.447266\" xlink:href=\"#LiberationSans-74\"/>\n      <use x=\"311.230469\" xlink:href=\"#LiberationSans-65\"/>\n      <use x=\"366.845703\" xlink:href=\"#LiberationSans-64\"/>\n      <use x=\"422.460938\" xlink:href=\"#LiberationSans-20\"/>\n      <use x=\"450.244141\" xlink:href=\"#LiberationSans-6c\"/>\n      <use x=\"472.460938\" xlink:href=\"#LiberationSans-61\"/>\n      <use x=\"528.076172\" xlink:href=\"#LiberationSans-62\"/>\n      <use x=\"583.691406\" xlink:href=\"#LiberationSans-65\"/>\n      <use x=\"639.306641\" xlink:href=\"#LiberationSans-6c\"/>\n     </g>\n    </g>\n   </g>\n   <g id=\"matplotlib.axis_2\">\n    <g id=\"ytick_1\">\n     <g id=\"line2d_11\">\n      <path clip-path=\"url(#pb79196ab7c)\" d=\"M 29.582813 28.944 \nL 247.022812 28.944 \n\" style=\"fill:none;stroke:#cccccc;stroke-linecap:round;stroke-width:0.8;\"/>\n     </g>\n     <g id=\"line2d_12\"/>\n     <g id=\"text_7\">\n      <!-- 1 -->\n      <g style=\"fill:#262626;\" transform=\"translate(20.521875 32.567437)scale(0.1 -0.1)\">\n       <use xlink:href=\"#LiberationSans-31\"/>\n      </g>\n     </g>\n    </g>\n    <g id=\"ytick_2\">\n     <g id=\"line2d_13\">\n      <path clip-path=\"url(#pb79196ab7c)\" d=\"M 29.582813 72.432 \nL 247.022812 72.432 \n\" style=\"fill:none;stroke:#cccccc;stroke-linecap:round;stroke-width:0.8;\"/>\n     </g>\n     <g id=\"line2d_14\"/>\n     <g id=\"text_8\">\n      <!-- 2 -->\n      <g style=\"fill:#262626;\" transform=\"translate(20.521875 76.055437)scale(0.1 -0.1)\">\n       <use xlink:href=\"#LiberationSans-32\"/>\n      </g>\n     </g>\n    </g>\n    <g id=\"ytick_3\">\n     <g id=\"line2d_15\">\n      <path clip-path=\"url(#pb79196ab7c)\" d=\"M 29.582813 115.92 \nL 247.022812 115.92 \n\" style=\"fill:none;stroke:#cccccc;stroke-linecap:round;stroke-width:0.8;\"/>\n     </g>\n     <g id=\"line2d_16\"/>\n     <g id=\"text_9\">\n      <!-- 3 -->\n      <g style=\"fill:#262626;\" transform=\"translate(20.521875 119.543437)scale(0.1 -0.1)\">\n       <use xlink:href=\"#LiberationSans-33\"/>\n      </g>\n     </g>\n    </g>\n    <g id=\"ytick_4\">\n     <g id=\"line2d_17\">\n      <path clip-path=\"url(#pb79196ab7c)\" d=\"M 29.582813 159.408 \nL 247.022812 159.408 \n\" style=\"fill:none;stroke:#cccccc;stroke-linecap:round;stroke-width:0.8;\"/>\n     </g>\n     <g id=\"line2d_18\"/>\n     <g id=\"text_10\">\n      <!-- 4 -->\n      <g style=\"fill:#262626;\" transform=\"translate(20.521875 163.031437)scale(0.1 -0.1)\">\n       <use xlink:href=\"#LiberationSans-34\"/>\n      </g>\n     </g>\n    </g>\n    <g id=\"ytick_5\">\n     <g id=\"line2d_19\">\n      <path clip-path=\"url(#pb79196ab7c)\" d=\"M 29.582813 202.896 \nL 247.022812 202.896 \n\" style=\"fill:none;stroke:#cccccc;stroke-linecap:round;stroke-width:0.8;\"/>\n     </g>\n     <g id=\"line2d_20\"/>\n     <g id=\"text_11\">\n      <!-- 5 -->\n      <g style=\"fill:#262626;\" transform=\"translate(20.521875 206.519437)scale(0.1 -0.1)\">\n       <use xlink:href=\"#LiberationSans-35\"/>\n      </g>\n     </g>\n    </g>\n    <g id=\"text_12\">\n     <!-- True label -->\n     <g style=\"fill:#262626;\" transform=\"translate(14.446875 137.964531)rotate(-90)scale(0.1 -0.1)\">\n      <defs>\n       <path d=\"M 2250 3916 \nL 2250 0 \nL 1656 0 \nL 1656 3916 \nL 144 3916 \nL 144 4403 \nL 3763 4403 \nL 3763 3916 \nL 2250 3916 \nz\n\" id=\"LiberationSans-54\" transform=\"scale(0.015625)\"/>\n       <path d=\"M 981 3381 \nL 981 1238 \nQ 981 903 1047 718 \nQ 1113 534 1256 453 \nQ 1400 372 1678 372 \nQ 2084 372 2318 650 \nQ 2553 928 2553 1422 \nL 2553 3381 \nL 3116 3381 \nL 3116 722 \nQ 3116 131 3134 0 \nL 2603 0 \nQ 2600 16 2597 84 \nQ 2594 153 2589 242 \nQ 2584 331 2578 578 \nL 2569 578 \nQ 2375 228 2120 82 \nQ 1866 -63 1488 -63 \nQ 931 -63 673 214 \nQ 416 491 416 1128 \nL 416 3381 \nL 981 3381 \nz\n\" id=\"LiberationSans-75\" transform=\"scale(0.015625)\"/>\n      </defs>\n      <use xlink:href=\"#LiberationSans-54\"/>\n      <use x=\"57.333984\" xlink:href=\"#LiberationSans-72\"/>\n      <use x=\"90.634766\" xlink:href=\"#LiberationSans-75\"/>\n      <use x=\"146.25\" xlink:href=\"#LiberationSans-65\"/>\n      <use x=\"201.865234\" xlink:href=\"#LiberationSans-20\"/>\n      <use x=\"229.648438\" xlink:href=\"#LiberationSans-6c\"/>\n      <use x=\"251.865234\" xlink:href=\"#LiberationSans-61\"/>\n      <use x=\"307.480469\" xlink:href=\"#LiberationSans-62\"/>\n      <use x=\"363.095703\" xlink:href=\"#LiberationSans-65\"/>\n      <use x=\"418.710938\" xlink:href=\"#LiberationSans-6c\"/>\n     </g>\n    </g>\n   </g>\n   <g id=\"patch_3\">\n    <path d=\"M 29.582813 224.64 \nL 29.582813 7.2 \n\" style=\"fill:none;stroke:#cccccc;stroke-linecap:square;stroke-linejoin:miter;\"/>\n   </g>\n   <g id=\"patch_4\">\n    <path d=\"M 247.022812 224.64 \nL 247.022812 7.2 \n\" style=\"fill:none;stroke:#cccccc;stroke-linecap:square;stroke-linejoin:miter;\"/>\n   </g>\n   <g id=\"patch_5\">\n    <path d=\"M 29.582813 224.64 \nL 247.022813 224.64 \n\" style=\"fill:none;stroke:#cccccc;stroke-linecap:square;stroke-linejoin:miter;\"/>\n   </g>\n   <g id=\"patch_6\">\n    <path d=\"M 29.582813 7.2 \nL 247.022813 7.2 \n\" style=\"fill:none;stroke:#cccccc;stroke-linecap:square;stroke-linejoin:miter;\"/>\n   </g>\n   <g id=\"text_13\">\n    <!-- 0.11 -->\n    <g style=\"fill:#440154;\" transform=\"translate(41.965094 31.529937)scale(0.1 -0.1)\">\n     <defs>\n      <path d=\"M 3309 2203 \nQ 3309 1100 2920 518 \nQ 2531 -63 1772 -63 \nQ 1013 -63 631 515 \nQ 250 1094 250 2203 \nQ 250 3338 620 3903 \nQ 991 4469 1791 4469 \nQ 2569 4469 2939 3897 \nQ 3309 3325 3309 2203 \nz\nM 2738 2203 \nQ 2738 3156 2517 3584 \nQ 2297 4013 1791 4013 \nQ 1272 4013 1045 3591 \nQ 819 3169 819 2203 \nQ 819 1266 1048 831 \nQ 1278 397 1778 397 \nQ 2275 397 2506 840 \nQ 2738 1284 2738 2203 \nz\n\" id=\"LiberationSans-30\" transform=\"scale(0.015625)\"/>\n      <path d=\"M 584 0 \nL 584 684 \nL 1194 684 \nL 1194 0 \nL 584 0 \nz\n\" id=\"LiberationSans-2e\" transform=\"scale(0.015625)\"/>\n     </defs>\n     <use xlink:href=\"#LiberationSans-30\"/>\n     <use x=\"55.615234\" xlink:href=\"#LiberationSans-2e\"/>\n     <use x=\"83.398438\" xlink:href=\"#LiberationSans-31\"/>\n     <use x=\"131.638672\" xlink:href=\"#LiberationSans-31\"/>\n    </g>\n   </g>\n   <g id=\"text_14\">\n    <!-- 0.01 -->\n    <g style=\"fill:#fde725;\" transform=\"translate(85.084344 31.529937)scale(0.1 -0.1)\">\n     <use xlink:href=\"#LiberationSans-30\"/>\n     <use x=\"55.615234\" xlink:href=\"#LiberationSans-2e\"/>\n     <use x=\"83.398438\" xlink:href=\"#LiberationSans-30\"/>\n     <use x=\"139.013672\" xlink:href=\"#LiberationSans-31\"/>\n    </g>\n   </g>\n   <g id=\"text_15\">\n    <!-- 0.023 -->\n    <g style=\"fill:#fde725;\" transform=\"translate(125.791875 31.529937)scale(0.1 -0.1)\">\n     <use xlink:href=\"#LiberationSans-30\"/>\n     <use x=\"55.615234\" xlink:href=\"#LiberationSans-2e\"/>\n     <use x=\"83.398438\" xlink:href=\"#LiberationSans-30\"/>\n     <use x=\"139.013672\" xlink:href=\"#LiberationSans-32\"/>\n     <use x=\"194.628906\" xlink:href=\"#LiberationSans-33\"/>\n    </g>\n   </g>\n   <g id=\"text_16\">\n    <!-- 0.038 -->\n    <g style=\"fill:#fde725;\" transform=\"translate(169.279875 31.529937)scale(0.1 -0.1)\">\n     <defs>\n      <path d=\"M 3281 1228 \nQ 3281 619 2893 278 \nQ 2506 -63 1781 -63 \nQ 1075 -63 676 271 \nQ 278 606 278 1222 \nQ 278 1653 525 1947 \nQ 772 2241 1156 2303 \nL 1156 2316 \nQ 797 2400 589 2681 \nQ 381 2963 381 3341 \nQ 381 3844 757 4156 \nQ 1134 4469 1769 4469 \nQ 2419 4469 2795 4162 \nQ 3172 3856 3172 3334 \nQ 3172 2956 2962 2675 \nQ 2753 2394 2391 2322 \nL 2391 2309 \nQ 2813 2241 3047 1952 \nQ 3281 1663 3281 1228 \nz\nM 2588 3303 \nQ 2588 4050 1769 4050 \nQ 1372 4050 1164 3862 \nQ 956 3675 956 3303 \nQ 956 2925 1170 2726 \nQ 1384 2528 1775 2528 \nQ 2172 2528 2380 2711 \nQ 2588 2894 2588 3303 \nz\nM 2697 1281 \nQ 2697 1691 2453 1898 \nQ 2209 2106 1769 2106 \nQ 1341 2106 1100 1882 \nQ 859 1659 859 1269 \nQ 859 359 1788 359 \nQ 2247 359 2472 579 \nQ 2697 800 2697 1281 \nz\n\" id=\"LiberationSans-38\" transform=\"scale(0.015625)\"/>\n     </defs>\n     <use xlink:href=\"#LiberationSans-30\"/>\n     <use x=\"55.615234\" xlink:href=\"#LiberationSans-2e\"/>\n     <use x=\"83.398438\" xlink:href=\"#LiberationSans-30\"/>\n     <use x=\"139.013672\" xlink:href=\"#LiberationSans-33\"/>\n     <use x=\"194.628906\" xlink:href=\"#LiberationSans-38\"/>\n    </g>\n   </g>\n   <g id=\"text_17\">\n    <!-- 0.022 -->\n    <g style=\"fill:#fde725;\" transform=\"translate(212.767875 31.529937)scale(0.1 -0.1)\">\n     <use xlink:href=\"#LiberationSans-30\"/>\n     <use x=\"55.615234\" xlink:href=\"#LiberationSans-2e\"/>\n     <use x=\"83.398438\" xlink:href=\"#LiberationSans-30\"/>\n     <use x=\"139.013672\" xlink:href=\"#LiberationSans-32\"/>\n     <use x=\"194.628906\" xlink:href=\"#LiberationSans-32\"/>\n    </g>\n   </g>\n   <g id=\"text_18\">\n    <!-- 0.1 -->\n    <g style=\"fill:#440154;\" transform=\"translate(44.376813 75.017937)scale(0.1 -0.1)\">\n     <use xlink:href=\"#LiberationSans-30\"/>\n     <use x=\"55.615234\" xlink:href=\"#LiberationSans-2e\"/>\n     <use x=\"83.398438\" xlink:href=\"#LiberationSans-31\"/>\n    </g>\n   </g>\n   <g id=\"text_19\">\n    <!-- 0.02 -->\n    <g style=\"fill:#fde725;\" transform=\"translate(85.084344 75.017937)scale(0.1 -0.1)\">\n     <use xlink:href=\"#LiberationSans-30\"/>\n     <use x=\"55.615234\" xlink:href=\"#LiberationSans-2e\"/>\n     <use x=\"83.398438\" xlink:href=\"#LiberationSans-30\"/>\n     <use x=\"139.013672\" xlink:href=\"#LiberationSans-32\"/>\n    </g>\n   </g>\n   <g id=\"text_20\">\n    <!-- 0.017 -->\n    <g style=\"fill:#fde725;\" transform=\"translate(125.791875 75.017937)scale(0.1 -0.1)\">\n     <defs>\n      <path d=\"M 3238 3947 \nQ 2563 2916 2284 2331 \nQ 2006 1747 1867 1178 \nQ 1728 609 1728 0 \nL 1141 0 \nQ 1141 844 1498 1776 \nQ 1856 2709 2694 3925 \nL 328 3925 \nL 328 4403 \nL 3238 4403 \nL 3238 3947 \nz\n\" id=\"LiberationSans-37\" transform=\"scale(0.015625)\"/>\n     </defs>\n     <use xlink:href=\"#LiberationSans-30\"/>\n     <use x=\"55.615234\" xlink:href=\"#LiberationSans-2e\"/>\n     <use x=\"83.398438\" xlink:href=\"#LiberationSans-30\"/>\n     <use x=\"139.013672\" xlink:href=\"#LiberationSans-31\"/>\n     <use x=\"194.628906\" xlink:href=\"#LiberationSans-37\"/>\n    </g>\n   </g>\n   <g id=\"text_21\">\n    <!-- 0.036 -->\n    <g style=\"fill:#fde725;\" transform=\"translate(169.279875 75.017937)scale(0.1 -0.1)\">\n     <defs>\n      <path d=\"M 3278 1441 \nQ 3278 744 2900 340 \nQ 2522 -63 1856 -63 \nQ 1113 -63 719 490 \nQ 325 1044 325 2100 \nQ 325 3244 734 3856 \nQ 1144 4469 1900 4469 \nQ 2897 4469 3156 3572 \nL 2619 3475 \nQ 2453 4013 1894 4013 \nQ 1413 4013 1148 3564 \nQ 884 3116 884 2266 \nQ 1038 2550 1316 2698 \nQ 1594 2847 1953 2847 \nQ 2563 2847 2920 2465 \nQ 3278 2084 3278 1441 \nz\nM 2706 1416 \nQ 2706 1894 2472 2153 \nQ 2238 2413 1819 2413 \nQ 1425 2413 1183 2183 \nQ 941 1953 941 1550 \nQ 941 1041 1192 716 \nQ 1444 391 1838 391 \nQ 2244 391 2475 664 \nQ 2706 938 2706 1416 \nz\n\" id=\"LiberationSans-36\" transform=\"scale(0.015625)\"/>\n     </defs>\n     <use xlink:href=\"#LiberationSans-30\"/>\n     <use x=\"55.615234\" xlink:href=\"#LiberationSans-2e\"/>\n     <use x=\"83.398438\" xlink:href=\"#LiberationSans-30\"/>\n     <use x=\"139.013672\" xlink:href=\"#LiberationSans-33\"/>\n     <use x=\"194.628906\" xlink:href=\"#LiberationSans-36\"/>\n    </g>\n   </g>\n   <g id=\"text_22\">\n    <!-- 0.025 -->\n    <g style=\"fill:#fde725;\" transform=\"translate(212.767875 75.017937)scale(0.1 -0.1)\">\n     <use xlink:href=\"#LiberationSans-30\"/>\n     <use x=\"55.615234\" xlink:href=\"#LiberationSans-2e\"/>\n     <use x=\"83.398438\" xlink:href=\"#LiberationSans-30\"/>\n     <use x=\"139.013672\" xlink:href=\"#LiberationSans-32\"/>\n     <use x=\"194.628906\" xlink:href=\"#LiberationSans-35\"/>\n    </g>\n   </g>\n   <g id=\"text_23\">\n    <!-- 0.089 -->\n    <g style=\"fill:#440154;\" transform=\"translate(38.815875 118.505937)scale(0.1 -0.1)\">\n     <defs>\n      <path d=\"M 3256 2291 \nQ 3256 1156 2842 546 \nQ 2428 -63 1663 -63 \nQ 1147 -63 836 154 \nQ 525 372 391 856 \nL 928 941 \nQ 1097 391 1672 391 \nQ 2156 391 2422 841 \nQ 2688 1291 2700 2125 \nQ 2575 1844 2272 1673 \nQ 1969 1503 1606 1503 \nQ 1013 1503 656 1909 \nQ 300 2316 300 2988 \nQ 300 3678 687 4073 \nQ 1075 4469 1766 4469 \nQ 2500 4469 2878 3925 \nQ 3256 3381 3256 2291 \nz\nM 2644 2834 \nQ 2644 3366 2400 3689 \nQ 2156 4013 1747 4013 \nQ 1341 4013 1106 3736 \nQ 872 3459 872 2988 \nQ 872 2506 1106 2226 \nQ 1341 1947 1741 1947 \nQ 1984 1947 2193 2058 \nQ 2403 2169 2523 2372 \nQ 2644 2575 2644 2834 \nz\n\" id=\"LiberationSans-39\" transform=\"scale(0.015625)\"/>\n     </defs>\n     <use xlink:href=\"#LiberationSans-30\"/>\n     <use x=\"55.615234\" xlink:href=\"#LiberationSans-2e\"/>\n     <use x=\"83.398438\" xlink:href=\"#LiberationSans-30\"/>\n     <use x=\"139.013672\" xlink:href=\"#LiberationSans-38\"/>\n     <use x=\"194.628906\" xlink:href=\"#LiberationSans-39\"/>\n    </g>\n   </g>\n   <g id=\"text_24\">\n    <!-- 0.019 -->\n    <g style=\"fill:#fde725;\" transform=\"translate(82.303875 118.505937)scale(0.1 -0.1)\">\n     <use xlink:href=\"#LiberationSans-30\"/>\n     <use x=\"55.615234\" xlink:href=\"#LiberationSans-2e\"/>\n     <use x=\"83.398438\" xlink:href=\"#LiberationSans-30\"/>\n     <use x=\"139.013672\" xlink:href=\"#LiberationSans-31\"/>\n     <use x=\"194.628906\" xlink:href=\"#LiberationSans-39\"/>\n    </g>\n   </g>\n   <g id=\"text_25\">\n    <!-- 0.018 -->\n    <g style=\"fill:#fde725;\" transform=\"translate(125.791875 118.505937)scale(0.1 -0.1)\">\n     <use xlink:href=\"#LiberationSans-30\"/>\n     <use x=\"55.615234\" xlink:href=\"#LiberationSans-2e\"/>\n     <use x=\"83.398438\" xlink:href=\"#LiberationSans-30\"/>\n     <use x=\"139.013672\" xlink:href=\"#LiberationSans-31\"/>\n     <use x=\"194.628906\" xlink:href=\"#LiberationSans-38\"/>\n    </g>\n   </g>\n   <g id=\"text_26\">\n    <!-- 0.053 -->\n    <g style=\"fill:#fde725;\" transform=\"translate(169.279875 118.505937)scale(0.1 -0.1)\">\n     <use xlink:href=\"#LiberationSans-30\"/>\n     <use x=\"55.615234\" xlink:href=\"#LiberationSans-2e\"/>\n     <use x=\"83.398438\" xlink:href=\"#LiberationSans-30\"/>\n     <use x=\"139.013672\" xlink:href=\"#LiberationSans-35\"/>\n     <use x=\"194.628906\" xlink:href=\"#LiberationSans-33\"/>\n    </g>\n   </g>\n   <g id=\"text_27\">\n    <!-- 0.022 -->\n    <g style=\"fill:#fde725;\" transform=\"translate(212.767875 118.505937)scale(0.1 -0.1)\">\n     <use xlink:href=\"#LiberationSans-30\"/>\n     <use x=\"55.615234\" xlink:href=\"#LiberationSans-2e\"/>\n     <use x=\"83.398438\" xlink:href=\"#LiberationSans-30\"/>\n     <use x=\"139.013672\" xlink:href=\"#LiberationSans-32\"/>\n     <use x=\"194.628906\" xlink:href=\"#LiberationSans-32\"/>\n    </g>\n   </g>\n   <g id=\"text_28\">\n    <!-- 0.079 -->\n    <g style=\"fill:#440154;\" transform=\"translate(38.815875 161.993937)scale(0.1 -0.1)\">\n     <use xlink:href=\"#LiberationSans-30\"/>\n     <use x=\"55.615234\" xlink:href=\"#LiberationSans-2e\"/>\n     <use x=\"83.398438\" xlink:href=\"#LiberationSans-30\"/>\n     <use x=\"139.013672\" xlink:href=\"#LiberationSans-37\"/>\n     <use x=\"194.628906\" xlink:href=\"#LiberationSans-39\"/>\n    </g>\n   </g>\n   <g id=\"text_29\">\n    <!-- 0.011 -->\n    <g style=\"fill:#fde725;\" transform=\"translate(82.672625 161.993937)scale(0.1 -0.1)\">\n     <use xlink:href=\"#LiberationSans-30\"/>\n     <use x=\"55.615234\" xlink:href=\"#LiberationSans-2e\"/>\n     <use x=\"83.398438\" xlink:href=\"#LiberationSans-30\"/>\n     <use x=\"139.013672\" xlink:href=\"#LiberationSans-31\"/>\n     <use x=\"187.253906\" xlink:href=\"#LiberationSans-31\"/>\n    </g>\n   </g>\n   <g id=\"text_30\">\n    <!-- 0.022 -->\n    <g style=\"fill:#fde725;\" transform=\"translate(125.791875 161.993937)scale(0.1 -0.1)\">\n     <use xlink:href=\"#LiberationSans-30\"/>\n     <use x=\"55.615234\" xlink:href=\"#LiberationSans-2e\"/>\n     <use x=\"83.398438\" xlink:href=\"#LiberationSans-30\"/>\n     <use x=\"139.013672\" xlink:href=\"#LiberationSans-32\"/>\n     <use x=\"194.628906\" xlink:href=\"#LiberationSans-32\"/>\n    </g>\n   </g>\n   <g id=\"text_31\">\n    <!-- 0.051 -->\n    <g style=\"fill:#fde725;\" transform=\"translate(169.279875 161.993937)scale(0.1 -0.1)\">\n     <use xlink:href=\"#LiberationSans-30\"/>\n     <use x=\"55.615234\" xlink:href=\"#LiberationSans-2e\"/>\n     <use x=\"83.398438\" xlink:href=\"#LiberationSans-30\"/>\n     <use x=\"139.013672\" xlink:href=\"#LiberationSans-35\"/>\n     <use x=\"194.628906\" xlink:href=\"#LiberationSans-31\"/>\n    </g>\n   </g>\n   <g id=\"text_32\">\n    <!-- 0.037 -->\n    <g style=\"fill:#fde725;\" transform=\"translate(212.767875 161.993937)scale(0.1 -0.1)\">\n     <use xlink:href=\"#LiberationSans-30\"/>\n     <use x=\"55.615234\" xlink:href=\"#LiberationSans-2e\"/>\n     <use x=\"83.398438\" xlink:href=\"#LiberationSans-30\"/>\n     <use x=\"139.013672\" xlink:href=\"#LiberationSans-33\"/>\n     <use x=\"194.628906\" xlink:href=\"#LiberationSans-37\"/>\n    </g>\n   </g>\n   <g id=\"text_33\">\n    <!-- 0.087 -->\n    <g style=\"fill:#440154;\" transform=\"translate(38.815875 205.481937)scale(0.1 -0.1)\">\n     <use xlink:href=\"#LiberationSans-30\"/>\n     <use x=\"55.615234\" xlink:href=\"#LiberationSans-2e\"/>\n     <use x=\"83.398438\" xlink:href=\"#LiberationSans-30\"/>\n     <use x=\"139.013672\" xlink:href=\"#LiberationSans-38\"/>\n     <use x=\"194.628906\" xlink:href=\"#LiberationSans-37\"/>\n    </g>\n   </g>\n   <g id=\"text_34\">\n    <!-- 0.012 -->\n    <g style=\"fill:#fde725;\" transform=\"translate(82.303875 205.481937)scale(0.1 -0.1)\">\n     <use xlink:href=\"#LiberationSans-30\"/>\n     <use x=\"55.615234\" xlink:href=\"#LiberationSans-2e\"/>\n     <use x=\"83.398438\" xlink:href=\"#LiberationSans-30\"/>\n     <use x=\"139.013672\" xlink:href=\"#LiberationSans-31\"/>\n     <use x=\"194.628906\" xlink:href=\"#LiberationSans-32\"/>\n    </g>\n   </g>\n   <g id=\"text_35\">\n    <!-- 0.021 -->\n    <g style=\"fill:#fde725;\" transform=\"translate(125.791875 205.481937)scale(0.1 -0.1)\">\n     <use xlink:href=\"#LiberationSans-30\"/>\n     <use x=\"55.615234\" xlink:href=\"#LiberationSans-2e\"/>\n     <use x=\"83.398438\" xlink:href=\"#LiberationSans-30\"/>\n     <use x=\"139.013672\" xlink:href=\"#LiberationSans-32\"/>\n     <use x=\"194.628906\" xlink:href=\"#LiberationSans-31\"/>\n    </g>\n   </g>\n   <g id=\"text_36\">\n    <!-- 0.04 -->\n    <g style=\"fill:#fde725;\" transform=\"translate(172.060344 205.481937)scale(0.1 -0.1)\">\n     <use xlink:href=\"#LiberationSans-30\"/>\n     <use x=\"55.615234\" xlink:href=\"#LiberationSans-2e\"/>\n     <use x=\"83.398438\" xlink:href=\"#LiberationSans-30\"/>\n     <use x=\"139.013672\" xlink:href=\"#LiberationSans-34\"/>\n    </g>\n   </g>\n   <g id=\"text_37\">\n    <!-- 0.039 -->\n    <g style=\"fill:#fde725;\" transform=\"translate(212.767875 205.481937)scale(0.1 -0.1)\">\n     <use xlink:href=\"#LiberationSans-30\"/>\n     <use x=\"55.615234\" xlink:href=\"#LiberationSans-2e\"/>\n     <use x=\"83.398438\" xlink:href=\"#LiberationSans-30\"/>\n     <use x=\"139.013672\" xlink:href=\"#LiberationSans-33\"/>\n     <use x=\"194.628906\" xlink:href=\"#LiberationSans-39\"/>\n    </g>\n   </g>\n  </g>\n  <g id=\"axes_2\">\n   <g id=\"patch_7\">\n    <path d=\"M 263.762813 224.64 \nL 274.634813 224.64 \nL 274.634813 7.2 \nL 263.762813 7.2 \nz\n\" style=\"fill:#ffffff;\"/>\n   </g>\n   <g id=\"patch_8\">\n    <path clip-path=\"url(#p1386fc0998)\" d=\"M 263.762813 224.64 \nL 263.762813 223.790625 \nL 263.762813 8.049375 \nL 263.762813 7.2 \nL 274.634813 7.2 \nL 274.634813 8.049375 \nL 274.634813 223.790625 \nL 274.634813 224.64 \nL 274.634813 224.64 \nz\n\" style=\"fill:#ffffff;stroke:#ffffff;stroke-linejoin:miter;stroke-width:0.01;\"/>\n   </g>\n   <g id=\"matplotlib.axis_3\"/>\n   <g id=\"matplotlib.axis_4\">\n    <g id=\"ytick_6\">\n     <g id=\"line2d_21\"/>\n     <g id=\"text_38\">\n      <!-- 0.02 -->\n      <g style=\"fill:#262626;\" transform=\"translate(278.134813 205.923711)scale(0.1 -0.1)\">\n       <use xlink:href=\"#LiberationSans-30\"/>\n       <use x=\"55.615234\" xlink:href=\"#LiberationSans-2e\"/>\n       <use x=\"83.398438\" xlink:href=\"#LiberationSans-30\"/>\n       <use x=\"139.013672\" xlink:href=\"#LiberationSans-32\"/>\n      </g>\n     </g>\n    </g>\n    <g id=\"ytick_7\">\n     <g id=\"line2d_22\"/>\n     <g id=\"text_39\">\n      <!-- 0.04 -->\n      <g style=\"fill:#262626;\" transform=\"translate(278.134813 161.244259)scale(0.1 -0.1)\">\n       <use xlink:href=\"#LiberationSans-30\"/>\n       <use x=\"55.615234\" xlink:href=\"#LiberationSans-2e\"/>\n       <use x=\"83.398438\" xlink:href=\"#LiberationSans-30\"/>\n       <use x=\"139.013672\" xlink:href=\"#LiberationSans-34\"/>\n      </g>\n     </g>\n    </g>\n    <g id=\"ytick_8\">\n     <g id=\"line2d_23\"/>\n     <g id=\"text_40\">\n      <!-- 0.06 -->\n      <g style=\"fill:#262626;\" transform=\"translate(278.134813 116.564807)scale(0.1 -0.1)\">\n       <use xlink:href=\"#LiberationSans-30\"/>\n       <use x=\"55.615234\" xlink:href=\"#LiberationSans-2e\"/>\n       <use x=\"83.398438\" xlink:href=\"#LiberationSans-30\"/>\n       <use x=\"139.013672\" xlink:href=\"#LiberationSans-36\"/>\n      </g>\n     </g>\n    </g>\n    <g id=\"ytick_9\">\n     <g id=\"line2d_24\"/>\n     <g id=\"text_41\">\n      <!-- 0.08 -->\n      <g style=\"fill:#262626;\" transform=\"translate(278.134813 71.885355)scale(0.1 -0.1)\">\n       <use xlink:href=\"#LiberationSans-30\"/>\n       <use x=\"55.615234\" xlink:href=\"#LiberationSans-2e\"/>\n       <use x=\"83.398438\" xlink:href=\"#LiberationSans-30\"/>\n       <use x=\"139.013672\" xlink:href=\"#LiberationSans-38\"/>\n      </g>\n     </g>\n    </g>\n    <g id=\"ytick_10\">\n     <g id=\"line2d_25\"/>\n     <g id=\"text_42\">\n      <!-- 0.10 -->\n      <g style=\"fill:#262626;\" transform=\"translate(278.134813 27.205903)scale(0.1 -0.1)\">\n       <use xlink:href=\"#LiberationSans-30\"/>\n       <use x=\"55.615234\" xlink:href=\"#LiberationSans-2e\"/>\n       <use x=\"83.398438\" xlink:href=\"#LiberationSans-31\"/>\n       <use x=\"139.013672\" xlink:href=\"#LiberationSans-30\"/>\n      </g>\n     </g>\n    </g>\n   </g>\n   <image height=\"218\" id=\"image0e3ccf441b\" transform=\"scale(1 -1)translate(0 -218)\" width=\"11\" x=\"264\" xlink:href=\"data:image/png;base64,\niVBORw0KGgoAAAANSUhEUgAAAAsAAADaCAYAAABwzrisAAABUUlEQVR4nNWa2w3CQAwE/bhQGSXQfycQWvB8jOTwvVrtjn0HCsl3fu4Yfk5kTbVxsnIuFp27SQzgnAUyI+fQnBPRYBPUxIiGOBSPBiq4YpE8GjeLMdaaNMTMKAY7KVoMtvxajEaZrRiooLdINzmwHg3oDMRo3HAoQLyFhjhuFMNz3lFwh7PIWbzrgHjL1u0YN7v5vcxzLf6iJzF20NiySA9cfq0gkC4quGPckfPzvQbd82jAFWUFQWZvKCLnHTTATyR3KF7BFc7gORmkwWLsQFdiQYsGylz12xAD0aiw0DWhIRYUaQDx0Wh4BZGzWFDLXGllPswZiFtEZ9G48is5QxorCjbiTCbInNHWkRhw3CiGNUHkjDgzGiyGVRAN5SUW1HZDO1ZXWFcBOoPe8l9aZlhwrKXOc+M4L/J3A3Ju5gzETcTI+Urwug7LTN45KfCQ6g+8/YBquC41ugAAAABJRU5ErkJggg==\" y=\"-6\"/>\n   <g id=\"LineCollection_1\"/>\n   <g id=\"patch_9\">\n    <path d=\"M 263.762813 224.64 \nL 263.762813 223.790625 \nL 263.762813 8.049375 \nL 263.762813 7.2 \nL 274.634813 7.2 \nL 274.634813 8.049375 \nL 274.634813 223.790625 \nL 274.634813 224.64 \nz\n\" style=\"fill:none;stroke:#cccccc;stroke-linecap:square;stroke-linejoin:miter;\"/>\n   </g>\n  </g>\n </g>\n <defs>\n  <clipPath id=\"pb79196ab7c\">\n   <rect height=\"217.44\" width=\"217.44\" x=\"29.582813\" y=\"7.2\"/>\n  </clipPath>\n  <clipPath id=\"p1386fc0998\">\n   <rect height=\"217.44\" width=\"10.872\" x=\"263.762813\" y=\"7.2\"/>\n  </clipPath>\n </defs>\n</svg>\n",
      "image/png": "[encoded data removed]"
     },
     "metadata": {}
    }
   ],
   "metadata": {}
  },
  {
   "cell_type": "code",
   "execution_count": 84,
   "source": [
    "ans = best_audio_model.predict(normalize(audio_X,axis=0))\n",
    "label = audio_y\n",
    "cm = confusion_matrix(label, ans, normalize='all')\n",
    "ConfusionMatrixDisplay(cm, display_labels=[1,2,3,4,5]).plot()\n",
    "# print(cm)\n",
    "bin = dict({1: 0, 2: 0, 3: 0, 4: 0, 5: 0 })\n",
    "for i in ans:\n",
    "    bin[i] = bin[i] + 1\n",
    "print(bin)"
   ],
   "outputs": [
    {
     "output_type": "stream",
     "name": "stdout",
     "text": [
      "{1: 131, 2: 446, 3: 383, 4: 128, 5: 412}\n"
     ]
    },
    {
     "output_type": "display_data",
     "data": {
      "text/plain": [
       "<Figure size 432x288 with 2 Axes>"
      ],
      "image/svg+xml": "<?xml version=\"1.0\" encoding=\"utf-8\" standalone=\"no\"?>\n<!DOCTYPE svg PUBLIC \"-//W3C//DTD SVG 1.1//EN\"\n  \"http://www.w3.org/Graphics/SVG/1.1/DTD/svg11.dtd\">\n<svg height=\"257.98375pt\" version=\"1.1\" viewBox=\"0 0 304.79575 257.98375\" width=\"304.79575pt\" xmlns=\"http://www.w3.org/2000/svg\" xmlns:xlink=\"http://www.w3.org/1999/xlink\">\n <metadata>\n  <rdf:RDF xmlns:cc=\"http://creativecommons.org/ns#\" xmlns:dc=\"http://purl.org/dc/elements/1.1/\" xmlns:rdf=\"http://www.w3.org/1999/02/22-rdf-syntax-ns#\">\n   <cc:Work>\n    <dc:type rdf:resource=\"http://purl.org/dc/dcmitype/StillImage\"/>\n    <dc:date>2021-08-17T11:32:46.120102</dc:date>\n    <dc:format>image/svg+xml</dc:format>\n    <dc:creator>\n     <cc:Agent>\n      <dc:title>Matplotlib v3.4.1, https://matplotlib.org/</dc:title>\n     </cc:Agent>\n    </dc:creator>\n   </cc:Work>\n  </rdf:RDF>\n </metadata>\n <defs>\n  <style type=\"text/css\">*{stroke-linecap:butt;stroke-linejoin:round;}</style>\n </defs>\n <g id=\"figure_1\">\n  <g id=\"patch_1\">\n   <path d=\"M 0 257.98375 \nL 304.79575 257.98375 \nL 304.79575 0 \nL 0 0 \nz\n\" style=\"fill:#ffffff;\"/>\n  </g>\n  <g id=\"axes_1\">\n   <g id=\"patch_2\">\n    <path d=\"M 29.582813 224.64 \nL 247.022812 224.64 \nL 247.022812 7.2 \nL 29.582813 7.2 \nz\n\" style=\"fill:#ffffff;\"/>\n   </g>\n   <g clip-path=\"url(#p6da5bce408)\">\n    <image height=\"218\" id=\"image31bd1d21cf\" transform=\"scale(1 -1)translate(0 -218)\" width=\"218\" x=\"29.582813\" xlink:href=\"data:image/png;base64,\niVBORw0KGgoAAAANSUhEUgAAANoAAADaCAYAAADAHVzbAAADOklEQVR4nO3VQarNYQDG4XM4d8DAQHKleydIxMjEBiyBiTJUdmAfdmFuZgsGysBEokiUS5Goo2ML/2/y+7p5nhW8k1/v+s767m51TBw9uzp7wpBff/ZmTxhyeP/N7AmLPXz1evaEISdmD4D/gdAgIDQICA0CQoOA0CAgNAgIDQJCg4DQICA0CAgNAkKDgNAgIDQICA0CQoOA0CAgNAgIDQJCg4DQICA0CAgNAkKDgNAgIDQICA0CQoOA0CAgNAgIDQJCg4DQICA0CAgNAkKDgNAgIDQICA0CQoOA0CAgNAhsTu6fn71hscMz32ZPGPLu+9nZE8bcvDJ7wWKPX1yfPWGIR4OA0CAgNAgIDQJCg4DQICA0CAgNAkKDgNAgIDQICA0CQoOA0CAgNAgIDQJCg4DQICA0CAgNAkKDgNAgIDQICA0CQoOA0CAgNAgIDQJCg4DQICA0CAgNAkKDgNAgIDQICA0CQoOA0CAgNAgIDQJCg4DQILBZbbezNyx2cPrH7AlDLpw6Xnvffzk3e8Jiu88HsycM8WgQEBoEhAYBoUFAaBAQGgSEBgGhQUBoEBAaBIQGAaFBQGgQEBoEhAYBoUFAaBAQGgSEBgGhQUBoEBAaBIQGAaFBQGgQEBoEhAYBoUFAaBAQGgSEBgGhQUBoEBAaBIQGAaFBQGgQEBoEhAYBoUFAaBAQGgSEBoHN369Hszcs9uTiy9kThlx++mj2hCHXVh9mT1hsvf979oQhHg0CQoOA0CAgNAgIDQJCg4DQICA0CAgNAkKDgNAgIDQICA0CQoOA0CAgNAgIDQJCg4DQICA0CAgNAkKDgNAgIDQICA0CQoOA0CAgNAgIDQJCg4DQICA0CAgNAkKDgNAgIDQICA0CQoOA0CAgNAgIDQJCg8Dm573bszcsdun5rdkTxuztZi8Ysv34afaExR7ceDt7whCPBgGhQUBoEBAaBIQGAaFBQGgQEBoEhAYBoUFAaBAQGgSEBgGhQUBoEBAaBIQGAaFBQGgQEBoEhAYBoUFAaBAQGgSEBgGhQUBoEBAaBIQGAaFBQGgQEBoEhAYBoUFAaBAQGgSEBgGhQUBoEBAaBIQGAaFBQGgQ+AeUeSbHgtAKyAAAAABJRU5ErkJggg==\" y=\"-6.64\"/>\n   </g>\n   <g id=\"matplotlib.axis_1\">\n    <g id=\"xtick_1\">\n     <g id=\"line2d_1\">\n      <path clip-path=\"url(#p6da5bce408)\" d=\"M 51.326813 224.64 \nL 51.326813 7.2 \n\" style=\"fill:none;stroke:#cccccc;stroke-linecap:round;stroke-width:0.8;\"/>\n     </g>\n     <g id=\"line2d_2\"/>\n     <g id=\"text_1\">\n      <!-- 1 -->\n      <g style=\"fill:#262626;\" transform=\"translate(48.546344 235.386875)scale(0.1 -0.1)\">\n       <defs>\n        <path d=\"M 488 0 \nL 488 478 \nL 1609 478 \nL 1609 3866 \nL 616 3156 \nL 616 3688 \nL 1656 4403 \nL 2175 4403 \nL 2175 478 \nL 3247 478 \nL 3247 0 \nL 488 0 \nz\n\" id=\"LiberationSans-31\" transform=\"scale(0.015625)\"/>\n       </defs>\n       <use xlink:href=\"#LiberationSans-31\"/>\n      </g>\n     </g>\n    </g>\n    <g id=\"xtick_2\">\n     <g id=\"line2d_3\">\n      <path clip-path=\"url(#p6da5bce408)\" d=\"M 94.814813 224.64 \nL 94.814813 7.2 \n\" style=\"fill:none;stroke:#cccccc;stroke-linecap:round;stroke-width:0.8;\"/>\n     </g>\n     <g id=\"line2d_4\"/>\n     <g id=\"text_2\">\n      <!-- 2 -->\n      <g style=\"fill:#262626;\" transform=\"translate(92.034344 235.386875)scale(0.1 -0.1)\">\n       <defs>\n        <path d=\"M 322 0 \nL 322 397 \nQ 481 763 711 1042 \nQ 941 1322 1194 1548 \nQ 1447 1775 1695 1969 \nQ 1944 2163 2144 2356 \nQ 2344 2550 2467 2762 \nQ 2591 2975 2591 3244 \nQ 2591 3606 2378 3806 \nQ 2166 4006 1788 4006 \nQ 1428 4006 1195 3811 \nQ 963 3616 922 3263 \nL 347 3316 \nQ 409 3844 795 4156 \nQ 1181 4469 1788 4469 \nQ 2453 4469 2811 4155 \nQ 3169 3841 3169 3263 \nQ 3169 3006 3051 2753 \nQ 2934 2500 2703 2247 \nQ 2472 1994 1819 1463 \nQ 1459 1169 1246 933 \nQ 1034 697 941 478 \nL 3238 478 \nL 3238 0 \nL 322 0 \nz\n\" id=\"LiberationSans-32\" transform=\"scale(0.015625)\"/>\n       </defs>\n       <use xlink:href=\"#LiberationSans-32\"/>\n      </g>\n     </g>\n    </g>\n    <g id=\"xtick_3\">\n     <g id=\"line2d_5\">\n      <path clip-path=\"url(#p6da5bce408)\" d=\"M 138.302813 224.64 \nL 138.302813 7.2 \n\" style=\"fill:none;stroke:#cccccc;stroke-linecap:round;stroke-width:0.8;\"/>\n     </g>\n     <g id=\"line2d_6\"/>\n     <g id=\"text_3\">\n      <!-- 3 -->\n      <g style=\"fill:#262626;\" transform=\"translate(135.522344 235.386875)scale(0.1 -0.1)\">\n       <defs>\n        <path d=\"M 3278 1216 \nQ 3278 606 2890 271 \nQ 2503 -63 1784 -63 \nQ 1116 -63 717 239 \nQ 319 541 244 1131 \nL 825 1184 \nQ 938 403 1784 403 \nQ 2209 403 2451 612 \nQ 2694 822 2694 1234 \nQ 2694 1594 2417 1795 \nQ 2141 1997 1619 1997 \nL 1300 1997 \nL 1300 2484 \nL 1606 2484 \nQ 2069 2484 2323 2686 \nQ 2578 2888 2578 3244 \nQ 2578 3597 2370 3801 \nQ 2163 4006 1753 4006 \nQ 1381 4006 1151 3815 \nQ 922 3625 884 3278 \nL 319 3322 \nQ 381 3863 767 4166 \nQ 1153 4469 1759 4469 \nQ 2422 4469 2789 4161 \nQ 3156 3853 3156 3303 \nQ 3156 2881 2920 2617 \nQ 2684 2353 2234 2259 \nL 2234 2247 \nQ 2728 2194 3003 1916 \nQ 3278 1638 3278 1216 \nz\n\" id=\"LiberationSans-33\" transform=\"scale(0.015625)\"/>\n       </defs>\n       <use xlink:href=\"#LiberationSans-33\"/>\n      </g>\n     </g>\n    </g>\n    <g id=\"xtick_4\">\n     <g id=\"line2d_7\">\n      <path clip-path=\"url(#p6da5bce408)\" d=\"M 181.790813 224.64 \nL 181.790813 7.2 \n\" style=\"fill:none;stroke:#cccccc;stroke-linecap:round;stroke-width:0.8;\"/>\n     </g>\n     <g id=\"line2d_8\"/>\n     <g id=\"text_4\">\n      <!-- 4 -->\n      <g style=\"fill:#262626;\" transform=\"translate(179.010344 235.386875)scale(0.1 -0.1)\">\n       <defs>\n        <path d=\"M 2753 997 \nL 2753 0 \nL 2222 0 \nL 2222 997 \nL 147 997 \nL 147 1434 \nL 2163 4403 \nL 2753 4403 \nL 2753 1441 \nL 3372 1441 \nL 3372 997 \nL 2753 997 \nz\nM 2222 3769 \nQ 2216 3750 2134 3603 \nQ 2053 3456 2013 3397 \nL 884 1734 \nL 716 1503 \nL 666 1441 \nL 2222 1441 \nL 2222 3769 \nz\n\" id=\"LiberationSans-34\" transform=\"scale(0.015625)\"/>\n       </defs>\n       <use xlink:href=\"#LiberationSans-34\"/>\n      </g>\n     </g>\n    </g>\n    <g id=\"xtick_5\">\n     <g id=\"line2d_9\">\n      <path clip-path=\"url(#p6da5bce408)\" d=\"M 225.278813 224.64 \nL 225.278813 7.2 \n\" style=\"fill:none;stroke:#cccccc;stroke-linecap:round;stroke-width:0.8;\"/>\n     </g>\n     <g id=\"line2d_10\"/>\n     <g id=\"text_5\">\n      <!-- 5 -->\n      <g style=\"fill:#262626;\" transform=\"translate(222.498344 235.386875)scale(0.1 -0.1)\">\n       <defs>\n        <path d=\"M 3291 1434 \nQ 3291 738 2877 337 \nQ 2463 -63 1728 -63 \nQ 1113 -63 734 206 \nQ 356 475 256 984 \nL 825 1050 \nQ 1003 397 1741 397 \nQ 2194 397 2450 670 \nQ 2706 944 2706 1422 \nQ 2706 1838 2448 2094 \nQ 2191 2350 1753 2350 \nQ 1525 2350 1328 2278 \nQ 1131 2206 934 2034 \nL 384 2034 \nL 531 4403 \nL 3034 4403 \nL 3034 3925 \nL 1044 3925 \nL 959 2528 \nQ 1325 2809 1869 2809 \nQ 2519 2809 2905 2428 \nQ 3291 2047 3291 1434 \nz\n\" id=\"LiberationSans-35\" transform=\"scale(0.015625)\"/>\n       </defs>\n       <use xlink:href=\"#LiberationSans-35\"/>\n      </g>\n     </g>\n    </g>\n    <g id=\"text_6\">\n     <!-- Predicted label -->\n     <g style=\"fill:#262626;\" transform=\"translate(105.228594 248.70875)scale(0.1 -0.1)\">\n      <defs>\n       <path d=\"M 3931 3078 \nQ 3931 2453 3523 2084 \nQ 3116 1716 2416 1716 \nL 1122 1716 \nL 1122 0 \nL 525 0 \nL 525 4403 \nL 2378 4403 \nQ 3119 4403 3525 4056 \nQ 3931 3709 3931 3078 \nz\nM 3331 3072 \nQ 3331 3925 2306 3925 \nL 1122 3925 \nL 1122 2188 \nL 2331 2188 \nQ 3331 2188 3331 3072 \nz\n\" id=\"LiberationSans-50\" transform=\"scale(0.015625)\"/>\n       <path d=\"M 444 0 \nL 444 2594 \nQ 444 2950 425 3381 \nL 956 3381 \nQ 981 2806 981 2691 \nL 994 2691 \nQ 1128 3125 1303 3284 \nQ 1478 3444 1797 3444 \nQ 1909 3444 2025 3413 \nL 2025 2897 \nQ 1913 2928 1725 2928 \nQ 1375 2928 1190 2626 \nQ 1006 2325 1006 1763 \nL 1006 0 \nL 444 0 \nz\n\" id=\"LiberationSans-72\" transform=\"scale(0.015625)\"/>\n       <path d=\"M 863 1572 \nQ 863 991 1103 675 \nQ 1344 359 1806 359 \nQ 2172 359 2392 506 \nQ 2613 653 2691 878 \nL 3184 738 \nQ 2881 -63 1806 -63 \nQ 1056 -63 664 384 \nQ 272 831 272 1713 \nQ 272 2550 664 2997 \nQ 1056 3444 1784 3444 \nQ 3275 3444 3275 1647 \nL 3275 1572 \nL 863 1572 \nz\nM 2694 2003 \nQ 2647 2538 2422 2783 \nQ 2197 3028 1775 3028 \nQ 1366 3028 1127 2754 \nQ 888 2481 869 2003 \nL 2694 2003 \nz\n\" id=\"LiberationSans-65\" transform=\"scale(0.015625)\"/>\n       <path d=\"M 2566 544 \nQ 2409 219 2151 78 \nQ 1894 -63 1513 -63 \nQ 872 -63 570 368 \nQ 269 800 269 1675 \nQ 269 3444 1513 3444 \nQ 1897 3444 2153 3303 \nQ 2409 3163 2566 2856 \nL 2572 2856 \nL 2566 3234 \nL 2566 4638 \nL 3128 4638 \nL 3128 697 \nQ 3128 169 3147 0 \nL 2609 0 \nQ 2600 50 2589 231 \nQ 2578 413 2578 544 \nL 2566 544 \nz\nM 859 1694 \nQ 859 984 1046 678 \nQ 1234 372 1656 372 \nQ 2134 372 2350 703 \nQ 2566 1034 2566 1731 \nQ 2566 2403 2350 2715 \nQ 2134 3028 1663 3028 \nQ 1238 3028 1048 2714 \nQ 859 2400 859 1694 \nz\n\" id=\"LiberationSans-64\" transform=\"scale(0.015625)\"/>\n       <path d=\"M 428 4100 \nL 428 4638 \nL 991 4638 \nL 991 4100 \nL 428 4100 \nz\nM 428 0 \nL 428 3381 \nL 991 3381 \nL 991 0 \nL 428 0 \nz\n\" id=\"LiberationSans-69\" transform=\"scale(0.015625)\"/>\n       <path d=\"M 859 1706 \nQ 859 1031 1071 706 \nQ 1284 381 1713 381 \nQ 2013 381 2214 543 \nQ 2416 706 2463 1044 \nL 3031 1006 \nQ 2966 519 2616 228 \nQ 2266 -63 1728 -63 \nQ 1019 -63 645 385 \nQ 272 834 272 1694 \nQ 272 2547 647 2995 \nQ 1022 3444 1722 3444 \nQ 2241 3444 2583 3175 \nQ 2925 2906 3013 2434 \nL 2434 2391 \nQ 2391 2672 2212 2837 \nQ 2034 3003 1706 3003 \nQ 1259 3003 1059 2706 \nQ 859 2409 859 1706 \nz\n\" id=\"LiberationSans-63\" transform=\"scale(0.015625)\"/>\n       <path d=\"M 1731 25 \nQ 1453 -50 1163 -50 \nQ 488 -50 488 716 \nL 488 2972 \nL 97 2972 \nL 97 3381 \nL 509 3381 \nL 675 4138 \nL 1050 4138 \nL 1050 3381 \nL 1675 3381 \nL 1675 2972 \nL 1050 2972 \nL 1050 838 \nQ 1050 594 1129 495 \nQ 1209 397 1406 397 \nQ 1519 397 1731 441 \nL 1731 25 \nz\n\" id=\"LiberationSans-74\" transform=\"scale(0.015625)\"/>\n       <path id=\"LiberationSans-20\" transform=\"scale(0.015625)\"/>\n       <path d=\"M 431 0 \nL 431 4638 \nL 994 4638 \nL 994 0 \nL 431 0 \nz\n\" id=\"LiberationSans-6c\" transform=\"scale(0.015625)\"/>\n       <path d=\"M 1294 -63 \nQ 784 -63 528 206 \nQ 272 475 272 944 \nQ 272 1469 617 1750 \nQ 963 2031 1731 2050 \nL 2491 2063 \nL 2491 2247 \nQ 2491 2659 2316 2837 \nQ 2141 3016 1766 3016 \nQ 1388 3016 1216 2887 \nQ 1044 2759 1009 2478 \nL 422 2531 \nQ 566 3444 1778 3444 \nQ 2416 3444 2737 3151 \nQ 3059 2859 3059 2306 \nL 3059 850 \nQ 3059 600 3125 473 \nQ 3191 347 3375 347 \nQ 3456 347 3559 369 \nL 3559 19 \nQ 3347 -31 3125 -31 \nQ 2813 -31 2670 133 \nQ 2528 297 2509 647 \nL 2491 647 \nQ 2275 259 1989 98 \nQ 1703 -63 1294 -63 \nz\nM 1422 359 \nQ 1731 359 1972 500 \nQ 2213 641 2352 886 \nQ 2491 1131 2491 1391 \nL 2491 1669 \nL 1875 1656 \nQ 1478 1650 1273 1575 \nQ 1069 1500 959 1344 \nQ 850 1188 850 934 \nQ 850 659 998 509 \nQ 1147 359 1422 359 \nz\n\" id=\"LiberationSans-61\" transform=\"scale(0.015625)\"/>\n       <path d=\"M 3291 1706 \nQ 3291 -63 2047 -63 \nQ 1663 -63 1408 76 \nQ 1153 216 994 525 \nL 988 525 \nQ 988 428 975 229 \nQ 963 31 956 0 \nL 413 0 \nQ 431 169 431 697 \nL 431 4638 \nL 994 4638 \nL 994 3316 \nQ 994 3113 981 2838 \nL 994 2838 \nQ 1150 3163 1408 3303 \nQ 1666 3444 2047 3444 \nQ 2688 3444 2989 3012 \nQ 3291 2581 3291 1706 \nz\nM 2700 1688 \nQ 2700 2397 2512 2703 \nQ 2325 3009 1903 3009 \nQ 1428 3009 1211 2684 \nQ 994 2359 994 1653 \nQ 994 988 1206 670 \nQ 1419 353 1897 353 \nQ 2322 353 2511 667 \nQ 2700 981 2700 1688 \nz\n\" id=\"LiberationSans-62\" transform=\"scale(0.015625)\"/>\n      </defs>\n      <use xlink:href=\"#LiberationSans-50\"/>\n      <use x=\"66.699219\" xlink:href=\"#LiberationSans-72\"/>\n      <use x=\"100\" xlink:href=\"#LiberationSans-65\"/>\n      <use x=\"155.615234\" xlink:href=\"#LiberationSans-64\"/>\n      <use x=\"211.230469\" xlink:href=\"#LiberationSans-69\"/>\n      <use x=\"233.447266\" xlink:href=\"#LiberationSans-63\"/>\n      <use x=\"283.447266\" xlink:href=\"#LiberationSans-74\"/>\n      <use x=\"311.230469\" xlink:href=\"#LiberationSans-65\"/>\n      <use x=\"366.845703\" xlink:href=\"#LiberationSans-64\"/>\n      <use x=\"422.460938\" xlink:href=\"#LiberationSans-20\"/>\n      <use x=\"450.244141\" xlink:href=\"#LiberationSans-6c\"/>\n      <use x=\"472.460938\" xlink:href=\"#LiberationSans-61\"/>\n      <use x=\"528.076172\" xlink:href=\"#LiberationSans-62\"/>\n      <use x=\"583.691406\" xlink:href=\"#LiberationSans-65\"/>\n      <use x=\"639.306641\" xlink:href=\"#LiberationSans-6c\"/>\n     </g>\n    </g>\n   </g>\n   <g id=\"matplotlib.axis_2\">\n    <g id=\"ytick_1\">\n     <g id=\"line2d_11\">\n      <path clip-path=\"url(#p6da5bce408)\" d=\"M 29.582813 28.944 \nL 247.022812 28.944 \n\" style=\"fill:none;stroke:#cccccc;stroke-linecap:round;stroke-width:0.8;\"/>\n     </g>\n     <g id=\"line2d_12\"/>\n     <g id=\"text_7\">\n      <!-- 1 -->\n      <g style=\"fill:#262626;\" transform=\"translate(20.521875 32.567437)scale(0.1 -0.1)\">\n       <use xlink:href=\"#LiberationSans-31\"/>\n      </g>\n     </g>\n    </g>\n    <g id=\"ytick_2\">\n     <g id=\"line2d_13\">\n      <path clip-path=\"url(#p6da5bce408)\" d=\"M 29.582813 72.432 \nL 247.022812 72.432 \n\" style=\"fill:none;stroke:#cccccc;stroke-linecap:round;stroke-width:0.8;\"/>\n     </g>\n     <g id=\"line2d_14\"/>\n     <g id=\"text_8\">\n      <!-- 2 -->\n      <g style=\"fill:#262626;\" transform=\"translate(20.521875 76.055437)scale(0.1 -0.1)\">\n       <use xlink:href=\"#LiberationSans-32\"/>\n      </g>\n     </g>\n    </g>\n    <g id=\"ytick_3\">\n     <g id=\"line2d_15\">\n      <path clip-path=\"url(#p6da5bce408)\" d=\"M 29.582813 115.92 \nL 247.022812 115.92 \n\" style=\"fill:none;stroke:#cccccc;stroke-linecap:round;stroke-width:0.8;\"/>\n     </g>\n     <g id=\"line2d_16\"/>\n     <g id=\"text_9\">\n      <!-- 3 -->\n      <g style=\"fill:#262626;\" transform=\"translate(20.521875 119.543437)scale(0.1 -0.1)\">\n       <use xlink:href=\"#LiberationSans-33\"/>\n      </g>\n     </g>\n    </g>\n    <g id=\"ytick_4\">\n     <g id=\"line2d_17\">\n      <path clip-path=\"url(#p6da5bce408)\" d=\"M 29.582813 159.408 \nL 247.022812 159.408 \n\" style=\"fill:none;stroke:#cccccc;stroke-linecap:round;stroke-width:0.8;\"/>\n     </g>\n     <g id=\"line2d_18\"/>\n     <g id=\"text_10\">\n      <!-- 4 -->\n      <g style=\"fill:#262626;\" transform=\"translate(20.521875 163.031437)scale(0.1 -0.1)\">\n       <use xlink:href=\"#LiberationSans-34\"/>\n      </g>\n     </g>\n    </g>\n    <g id=\"ytick_5\">\n     <g id=\"line2d_19\">\n      <path clip-path=\"url(#p6da5bce408)\" d=\"M 29.582813 202.896 \nL 247.022812 202.896 \n\" style=\"fill:none;stroke:#cccccc;stroke-linecap:round;stroke-width:0.8;\"/>\n     </g>\n     <g id=\"line2d_20\"/>\n     <g id=\"text_11\">\n      <!-- 5 -->\n      <g style=\"fill:#262626;\" transform=\"translate(20.521875 206.519437)scale(0.1 -0.1)\">\n       <use xlink:href=\"#LiberationSans-35\"/>\n      </g>\n     </g>\n    </g>\n    <g id=\"text_12\">\n     <!-- True label -->\n     <g style=\"fill:#262626;\" transform=\"translate(14.446875 137.964531)rotate(-90)scale(0.1 -0.1)\">\n      <defs>\n       <path d=\"M 2250 3916 \nL 2250 0 \nL 1656 0 \nL 1656 3916 \nL 144 3916 \nL 144 4403 \nL 3763 4403 \nL 3763 3916 \nL 2250 3916 \nz\n\" id=\"LiberationSans-54\" transform=\"scale(0.015625)\"/>\n       <path d=\"M 981 3381 \nL 981 1238 \nQ 981 903 1047 718 \nQ 1113 534 1256 453 \nQ 1400 372 1678 372 \nQ 2084 372 2318 650 \nQ 2553 928 2553 1422 \nL 2553 3381 \nL 3116 3381 \nL 3116 722 \nQ 3116 131 3134 0 \nL 2603 0 \nQ 2600 16 2597 84 \nQ 2594 153 2589 242 \nQ 2584 331 2578 578 \nL 2569 578 \nQ 2375 228 2120 82 \nQ 1866 -63 1488 -63 \nQ 931 -63 673 214 \nQ 416 491 416 1128 \nL 416 3381 \nL 981 3381 \nz\n\" id=\"LiberationSans-75\" transform=\"scale(0.015625)\"/>\n      </defs>\n      <use xlink:href=\"#LiberationSans-54\"/>\n      <use x=\"57.333984\" xlink:href=\"#LiberationSans-72\"/>\n      <use x=\"90.634766\" xlink:href=\"#LiberationSans-75\"/>\n      <use x=\"146.25\" xlink:href=\"#LiberationSans-65\"/>\n      <use x=\"201.865234\" xlink:href=\"#LiberationSans-20\"/>\n      <use x=\"229.648438\" xlink:href=\"#LiberationSans-6c\"/>\n      <use x=\"251.865234\" xlink:href=\"#LiberationSans-61\"/>\n      <use x=\"307.480469\" xlink:href=\"#LiberationSans-62\"/>\n      <use x=\"363.095703\" xlink:href=\"#LiberationSans-65\"/>\n      <use x=\"418.710938\" xlink:href=\"#LiberationSans-6c\"/>\n     </g>\n    </g>\n   </g>\n   <g id=\"patch_3\">\n    <path d=\"M 29.582813 224.64 \nL 29.582813 7.2 \n\" style=\"fill:none;stroke:#cccccc;stroke-linecap:square;stroke-linejoin:miter;\"/>\n   </g>\n   <g id=\"patch_4\">\n    <path d=\"M 247.022812 224.64 \nL 247.022812 7.2 \n\" style=\"fill:none;stroke:#cccccc;stroke-linecap:square;stroke-linejoin:miter;\"/>\n   </g>\n   <g id=\"patch_5\">\n    <path d=\"M 29.582813 224.64 \nL 247.022813 224.64 \n\" style=\"fill:none;stroke:#cccccc;stroke-linecap:square;stroke-linejoin:miter;\"/>\n   </g>\n   <g id=\"patch_6\">\n    <path d=\"M 29.582813 7.2 \nL 247.022813 7.2 \n\" style=\"fill:none;stroke:#cccccc;stroke-linecap:square;stroke-linejoin:miter;\"/>\n   </g>\n   <g id=\"text_13\">\n    <!-- 0.029 -->\n    <g style=\"fill:#fde725;\" transform=\"translate(38.815875 31.529937)scale(0.1 -0.1)\">\n     <defs>\n      <path d=\"M 3309 2203 \nQ 3309 1100 2920 518 \nQ 2531 -63 1772 -63 \nQ 1013 -63 631 515 \nQ 250 1094 250 2203 \nQ 250 3338 620 3903 \nQ 991 4469 1791 4469 \nQ 2569 4469 2939 3897 \nQ 3309 3325 3309 2203 \nz\nM 2738 2203 \nQ 2738 3156 2517 3584 \nQ 2297 4013 1791 4013 \nQ 1272 4013 1045 3591 \nQ 819 3169 819 2203 \nQ 819 1266 1048 831 \nQ 1278 397 1778 397 \nQ 2275 397 2506 840 \nQ 2738 1284 2738 2203 \nz\n\" id=\"LiberationSans-30\" transform=\"scale(0.015625)\"/>\n      <path d=\"M 584 0 \nL 584 684 \nL 1194 684 \nL 1194 0 \nL 584 0 \nz\n\" id=\"LiberationSans-2e\" transform=\"scale(0.015625)\"/>\n      <path d=\"M 3256 2291 \nQ 3256 1156 2842 546 \nQ 2428 -63 1663 -63 \nQ 1147 -63 836 154 \nQ 525 372 391 856 \nL 928 941 \nQ 1097 391 1672 391 \nQ 2156 391 2422 841 \nQ 2688 1291 2700 2125 \nQ 2575 1844 2272 1673 \nQ 1969 1503 1606 1503 \nQ 1013 1503 656 1909 \nQ 300 2316 300 2988 \nQ 300 3678 687 4073 \nQ 1075 4469 1766 4469 \nQ 2500 4469 2878 3925 \nQ 3256 3381 3256 2291 \nz\nM 2644 2834 \nQ 2644 3366 2400 3689 \nQ 2156 4013 1747 4013 \nQ 1341 4013 1106 3736 \nQ 872 3459 872 2988 \nQ 872 2506 1106 2226 \nQ 1341 1947 1741 1947 \nQ 1984 1947 2193 2058 \nQ 2403 2169 2523 2372 \nQ 2644 2575 2644 2834 \nz\n\" id=\"LiberationSans-39\" transform=\"scale(0.015625)\"/>\n     </defs>\n     <use xlink:href=\"#LiberationSans-30\"/>\n     <use x=\"55.615234\" xlink:href=\"#LiberationSans-2e\"/>\n     <use x=\"83.398438\" xlink:href=\"#LiberationSans-30\"/>\n     <use x=\"139.013672\" xlink:href=\"#LiberationSans-32\"/>\n     <use x=\"194.628906\" xlink:href=\"#LiberationSans-39\"/>\n    </g>\n   </g>\n   <g id=\"text_14\">\n    <!-- 0.049 -->\n    <g style=\"fill:#440154;\" transform=\"translate(82.303875 31.529937)scale(0.1 -0.1)\">\n     <use xlink:href=\"#LiberationSans-30\"/>\n     <use x=\"55.615234\" xlink:href=\"#LiberationSans-2e\"/>\n     <use x=\"83.398438\" xlink:href=\"#LiberationSans-30\"/>\n     <use x=\"139.013672\" xlink:href=\"#LiberationSans-34\"/>\n     <use x=\"194.628906\" xlink:href=\"#LiberationSans-39\"/>\n    </g>\n   </g>\n   <g id=\"text_15\">\n    <!-- 0.045 -->\n    <g style=\"fill:#440154;\" transform=\"translate(125.791875 31.529937)scale(0.1 -0.1)\">\n     <use xlink:href=\"#LiberationSans-30\"/>\n     <use x=\"55.615234\" xlink:href=\"#LiberationSans-2e\"/>\n     <use x=\"83.398438\" xlink:href=\"#LiberationSans-30\"/>\n     <use x=\"139.013672\" xlink:href=\"#LiberationSans-34\"/>\n     <use x=\"194.628906\" xlink:href=\"#LiberationSans-35\"/>\n    </g>\n   </g>\n   <g id=\"text_16\">\n    <!-- 0.013 -->\n    <g style=\"fill:#fde725;\" transform=\"translate(169.279875 31.529937)scale(0.1 -0.1)\">\n     <use xlink:href=\"#LiberationSans-30\"/>\n     <use x=\"55.615234\" xlink:href=\"#LiberationSans-2e\"/>\n     <use x=\"83.398438\" xlink:href=\"#LiberationSans-30\"/>\n     <use x=\"139.013672\" xlink:href=\"#LiberationSans-31\"/>\n     <use x=\"194.628906\" xlink:href=\"#LiberationSans-33\"/>\n    </g>\n   </g>\n   <g id=\"text_17\">\n    <!-- 0.063 -->\n    <g style=\"fill:#440154;\" transform=\"translate(212.767875 31.529937)scale(0.1 -0.1)\">\n     <defs>\n      <path d=\"M 3278 1441 \nQ 3278 744 2900 340 \nQ 2522 -63 1856 -63 \nQ 1113 -63 719 490 \nQ 325 1044 325 2100 \nQ 325 3244 734 3856 \nQ 1144 4469 1900 4469 \nQ 2897 4469 3156 3572 \nL 2619 3475 \nQ 2453 4013 1894 4013 \nQ 1413 4013 1148 3564 \nQ 884 3116 884 2266 \nQ 1038 2550 1316 2698 \nQ 1594 2847 1953 2847 \nQ 2563 2847 2920 2465 \nQ 3278 2084 3278 1441 \nz\nM 2706 1416 \nQ 2706 1894 2472 2153 \nQ 2238 2413 1819 2413 \nQ 1425 2413 1183 2183 \nQ 941 1953 941 1550 \nQ 941 1041 1192 716 \nQ 1444 391 1838 391 \nQ 2244 391 2475 664 \nQ 2706 938 2706 1416 \nz\n\" id=\"LiberationSans-36\" transform=\"scale(0.015625)\"/>\n     </defs>\n     <use xlink:href=\"#LiberationSans-30\"/>\n     <use x=\"55.615234\" xlink:href=\"#LiberationSans-2e\"/>\n     <use x=\"83.398438\" xlink:href=\"#LiberationSans-30\"/>\n     <use x=\"139.013672\" xlink:href=\"#LiberationSans-36\"/>\n     <use x=\"194.628906\" xlink:href=\"#LiberationSans-33\"/>\n    </g>\n   </g>\n   <g id=\"text_18\">\n    <!-- 0.013 -->\n    <g style=\"fill:#fde725;\" transform=\"translate(38.815875 75.017937)scale(0.1 -0.1)\">\n     <use xlink:href=\"#LiberationSans-30\"/>\n     <use x=\"55.615234\" xlink:href=\"#LiberationSans-2e\"/>\n     <use x=\"83.398438\" xlink:href=\"#LiberationSans-30\"/>\n     <use x=\"139.013672\" xlink:href=\"#LiberationSans-31\"/>\n     <use x=\"194.628906\" xlink:href=\"#LiberationSans-33\"/>\n    </g>\n   </g>\n   <g id=\"text_19\">\n    <!-- 0.075 -->\n    <g style=\"fill:#440154;\" transform=\"translate(82.303875 75.017937)scale(0.1 -0.1)\">\n     <defs>\n      <path d=\"M 3238 3947 \nQ 2563 2916 2284 2331 \nQ 2006 1747 1867 1178 \nQ 1728 609 1728 0 \nL 1141 0 \nQ 1141 844 1498 1776 \nQ 1856 2709 2694 3925 \nL 328 3925 \nL 328 4403 \nL 3238 4403 \nL 3238 3947 \nz\n\" id=\"LiberationSans-37\" transform=\"scale(0.015625)\"/>\n     </defs>\n     <use xlink:href=\"#LiberationSans-30\"/>\n     <use x=\"55.615234\" xlink:href=\"#LiberationSans-2e\"/>\n     <use x=\"83.398438\" xlink:href=\"#LiberationSans-30\"/>\n     <use x=\"139.013672\" xlink:href=\"#LiberationSans-37\"/>\n     <use x=\"194.628906\" xlink:href=\"#LiberationSans-35\"/>\n    </g>\n   </g>\n   <g id=\"text_20\">\n    <!-- 0.044 -->\n    <g style=\"fill:#440154;\" transform=\"translate(125.791875 75.017937)scale(0.1 -0.1)\">\n     <use xlink:href=\"#LiberationSans-30\"/>\n     <use x=\"55.615234\" xlink:href=\"#LiberationSans-2e\"/>\n     <use x=\"83.398438\" xlink:href=\"#LiberationSans-30\"/>\n     <use x=\"139.013672\" xlink:href=\"#LiberationSans-34\"/>\n     <use x=\"194.628906\" xlink:href=\"#LiberationSans-34\"/>\n    </g>\n   </g>\n   <g id=\"text_21\">\n    <!-- 0.018 -->\n    <g style=\"fill:#fde725;\" transform=\"translate(169.279875 75.017937)scale(0.1 -0.1)\">\n     <defs>\n      <path d=\"M 3281 1228 \nQ 3281 619 2893 278 \nQ 2506 -63 1781 -63 \nQ 1075 -63 676 271 \nQ 278 606 278 1222 \nQ 278 1653 525 1947 \nQ 772 2241 1156 2303 \nL 1156 2316 \nQ 797 2400 589 2681 \nQ 381 2963 381 3341 \nQ 381 3844 757 4156 \nQ 1134 4469 1769 4469 \nQ 2419 4469 2795 4162 \nQ 3172 3856 3172 3334 \nQ 3172 2956 2962 2675 \nQ 2753 2394 2391 2322 \nL 2391 2309 \nQ 2813 2241 3047 1952 \nQ 3281 1663 3281 1228 \nz\nM 2588 3303 \nQ 2588 4050 1769 4050 \nQ 1372 4050 1164 3862 \nQ 956 3675 956 3303 \nQ 956 2925 1170 2726 \nQ 1384 2528 1775 2528 \nQ 2172 2528 2380 2711 \nQ 2588 2894 2588 3303 \nz\nM 2697 1281 \nQ 2697 1691 2453 1898 \nQ 2209 2106 1769 2106 \nQ 1341 2106 1100 1882 \nQ 859 1659 859 1269 \nQ 859 359 1788 359 \nQ 2247 359 2472 579 \nQ 2697 800 2697 1281 \nz\n\" id=\"LiberationSans-38\" transform=\"scale(0.015625)\"/>\n     </defs>\n     <use xlink:href=\"#LiberationSans-30\"/>\n     <use x=\"55.615234\" xlink:href=\"#LiberationSans-2e\"/>\n     <use x=\"83.398438\" xlink:href=\"#LiberationSans-30\"/>\n     <use x=\"139.013672\" xlink:href=\"#LiberationSans-31\"/>\n     <use x=\"194.628906\" xlink:href=\"#LiberationSans-38\"/>\n    </g>\n   </g>\n   <g id=\"text_22\">\n    <!-- 0.05 -->\n    <g style=\"fill:#440154;\" transform=\"translate(215.548344 75.017937)scale(0.1 -0.1)\">\n     <use xlink:href=\"#LiberationSans-30\"/>\n     <use x=\"55.615234\" xlink:href=\"#LiberationSans-2e\"/>\n     <use x=\"83.398438\" xlink:href=\"#LiberationSans-30\"/>\n     <use x=\"139.013672\" xlink:href=\"#LiberationSans-35\"/>\n    </g>\n   </g>\n   <g id=\"text_23\">\n    <!-- 0.016 -->\n    <g style=\"fill:#fde725;\" transform=\"translate(38.815875 118.505937)scale(0.1 -0.1)\">\n     <use xlink:href=\"#LiberationSans-30\"/>\n     <use x=\"55.615234\" xlink:href=\"#LiberationSans-2e\"/>\n     <use x=\"83.398438\" xlink:href=\"#LiberationSans-30\"/>\n     <use x=\"139.013672\" xlink:href=\"#LiberationSans-31\"/>\n     <use x=\"194.628906\" xlink:href=\"#LiberationSans-36\"/>\n    </g>\n   </g>\n   <g id=\"text_24\">\n    <!-- 0.061 -->\n    <g style=\"fill:#440154;\" transform=\"translate(82.303875 118.505937)scale(0.1 -0.1)\">\n     <use xlink:href=\"#LiberationSans-30\"/>\n     <use x=\"55.615234\" xlink:href=\"#LiberationSans-2e\"/>\n     <use x=\"83.398438\" xlink:href=\"#LiberationSans-30\"/>\n     <use x=\"139.013672\" xlink:href=\"#LiberationSans-36\"/>\n     <use x=\"194.628906\" xlink:href=\"#LiberationSans-31\"/>\n    </g>\n   </g>\n   <g id=\"text_25\">\n    <!-- 0.061 -->\n    <g style=\"fill:#440154;\" transform=\"translate(125.791875 118.505937)scale(0.1 -0.1)\">\n     <use xlink:href=\"#LiberationSans-30\"/>\n     <use x=\"55.615234\" xlink:href=\"#LiberationSans-2e\"/>\n     <use x=\"83.398438\" xlink:href=\"#LiberationSans-30\"/>\n     <use x=\"139.013672\" xlink:href=\"#LiberationSans-36\"/>\n     <use x=\"194.628906\" xlink:href=\"#LiberationSans-31\"/>\n    </g>\n   </g>\n   <g id=\"text_26\">\n    <!-- 0.018 -->\n    <g style=\"fill:#fde725;\" transform=\"translate(169.279875 118.505937)scale(0.1 -0.1)\">\n     <use xlink:href=\"#LiberationSans-30\"/>\n     <use x=\"55.615234\" xlink:href=\"#LiberationSans-2e\"/>\n     <use x=\"83.398438\" xlink:href=\"#LiberationSans-30\"/>\n     <use x=\"139.013672\" xlink:href=\"#LiberationSans-31\"/>\n     <use x=\"194.628906\" xlink:href=\"#LiberationSans-38\"/>\n    </g>\n   </g>\n   <g id=\"text_27\">\n    <!-- 0.044 -->\n    <g style=\"fill:#440154;\" transform=\"translate(212.767875 118.505937)scale(0.1 -0.1)\">\n     <use xlink:href=\"#LiberationSans-30\"/>\n     <use x=\"55.615234\" xlink:href=\"#LiberationSans-2e\"/>\n     <use x=\"83.398438\" xlink:href=\"#LiberationSans-30\"/>\n     <use x=\"139.013672\" xlink:href=\"#LiberationSans-34\"/>\n     <use x=\"194.628906\" xlink:href=\"#LiberationSans-34\"/>\n    </g>\n   </g>\n   <g id=\"text_28\">\n    <!-- 0.017 -->\n    <g style=\"fill:#fde725;\" transform=\"translate(38.815875 161.993937)scale(0.1 -0.1)\">\n     <use xlink:href=\"#LiberationSans-30\"/>\n     <use x=\"55.615234\" xlink:href=\"#LiberationSans-2e\"/>\n     <use x=\"83.398438\" xlink:href=\"#LiberationSans-30\"/>\n     <use x=\"139.013672\" xlink:href=\"#LiberationSans-31\"/>\n     <use x=\"194.628906\" xlink:href=\"#LiberationSans-37\"/>\n    </g>\n   </g>\n   <g id=\"text_29\">\n    <!-- 0.058 -->\n    <g style=\"fill:#440154;\" transform=\"translate(82.303875 161.993937)scale(0.1 -0.1)\">\n     <use xlink:href=\"#LiberationSans-30\"/>\n     <use x=\"55.615234\" xlink:href=\"#LiberationSans-2e\"/>\n     <use x=\"83.398438\" xlink:href=\"#LiberationSans-30\"/>\n     <use x=\"139.013672\" xlink:href=\"#LiberationSans-35\"/>\n     <use x=\"194.628906\" xlink:href=\"#LiberationSans-38\"/>\n    </g>\n   </g>\n   <g id=\"text_30\">\n    <!-- 0.053 -->\n    <g style=\"fill:#440154;\" transform=\"translate(125.791875 161.993937)scale(0.1 -0.1)\">\n     <use xlink:href=\"#LiberationSans-30\"/>\n     <use x=\"55.615234\" xlink:href=\"#LiberationSans-2e\"/>\n     <use x=\"83.398438\" xlink:href=\"#LiberationSans-30\"/>\n     <use x=\"139.013672\" xlink:href=\"#LiberationSans-35\"/>\n     <use x=\"194.628906\" xlink:href=\"#LiberationSans-33\"/>\n    </g>\n   </g>\n   <g id=\"text_31\">\n    <!-- 0.022 -->\n    <g style=\"fill:#fde725;\" transform=\"translate(169.279875 161.993937)scale(0.1 -0.1)\">\n     <use xlink:href=\"#LiberationSans-30\"/>\n     <use x=\"55.615234\" xlink:href=\"#LiberationSans-2e\"/>\n     <use x=\"83.398438\" xlink:href=\"#LiberationSans-30\"/>\n     <use x=\"139.013672\" xlink:href=\"#LiberationSans-32\"/>\n     <use x=\"194.628906\" xlink:href=\"#LiberationSans-32\"/>\n    </g>\n   </g>\n   <g id=\"text_32\">\n    <!-- 0.05 -->\n    <g style=\"fill:#440154;\" transform=\"translate(215.548344 161.993937)scale(0.1 -0.1)\">\n     <use xlink:href=\"#LiberationSans-30\"/>\n     <use x=\"55.615234\" xlink:href=\"#LiberationSans-2e\"/>\n     <use x=\"83.398438\" xlink:href=\"#LiberationSans-30\"/>\n     <use x=\"139.013672\" xlink:href=\"#LiberationSans-35\"/>\n    </g>\n   </g>\n   <g id=\"text_33\">\n    <!-- 0.013 -->\n    <g style=\"fill:#fde725;\" transform=\"translate(38.815875 205.481937)scale(0.1 -0.1)\">\n     <use xlink:href=\"#LiberationSans-30\"/>\n     <use x=\"55.615234\" xlink:href=\"#LiberationSans-2e\"/>\n     <use x=\"83.398438\" xlink:href=\"#LiberationSans-30\"/>\n     <use x=\"139.013672\" xlink:href=\"#LiberationSans-31\"/>\n     <use x=\"194.628906\" xlink:href=\"#LiberationSans-33\"/>\n    </g>\n   </g>\n   <g id=\"text_34\">\n    <!-- 0.054 -->\n    <g style=\"fill:#440154;\" transform=\"translate(82.303875 205.481937)scale(0.1 -0.1)\">\n     <use xlink:href=\"#LiberationSans-30\"/>\n     <use x=\"55.615234\" xlink:href=\"#LiberationSans-2e\"/>\n     <use x=\"83.398438\" xlink:href=\"#LiberationSans-30\"/>\n     <use x=\"139.013672\" xlink:href=\"#LiberationSans-35\"/>\n     <use x=\"194.628906\" xlink:href=\"#LiberationSans-34\"/>\n    </g>\n   </g>\n   <g id=\"text_35\">\n    <!-- 0.052 -->\n    <g style=\"fill:#440154;\" transform=\"translate(125.791875 205.481937)scale(0.1 -0.1)\">\n     <use xlink:href=\"#LiberationSans-30\"/>\n     <use x=\"55.615234\" xlink:href=\"#LiberationSans-2e\"/>\n     <use x=\"83.398438\" xlink:href=\"#LiberationSans-30\"/>\n     <use x=\"139.013672\" xlink:href=\"#LiberationSans-35\"/>\n     <use x=\"194.628906\" xlink:href=\"#LiberationSans-32\"/>\n    </g>\n   </g>\n   <g id=\"text_36\">\n    <!-- 0.014 -->\n    <g style=\"fill:#fde725;\" transform=\"translate(169.279875 205.481937)scale(0.1 -0.1)\">\n     <use xlink:href=\"#LiberationSans-30\"/>\n     <use x=\"55.615234\" xlink:href=\"#LiberationSans-2e\"/>\n     <use x=\"83.398438\" xlink:href=\"#LiberationSans-30\"/>\n     <use x=\"139.013672\" xlink:href=\"#LiberationSans-31\"/>\n     <use x=\"194.628906\" xlink:href=\"#LiberationSans-34\"/>\n    </g>\n   </g>\n   <g id=\"text_37\">\n    <!-- 0.067 -->\n    <g style=\"fill:#440154;\" transform=\"translate(212.767875 205.481937)scale(0.1 -0.1)\">\n     <use xlink:href=\"#LiberationSans-30\"/>\n     <use x=\"55.615234\" xlink:href=\"#LiberationSans-2e\"/>\n     <use x=\"83.398438\" xlink:href=\"#LiberationSans-30\"/>\n     <use x=\"139.013672\" xlink:href=\"#LiberationSans-36\"/>\n     <use x=\"194.628906\" xlink:href=\"#LiberationSans-37\"/>\n    </g>\n   </g>\n  </g>\n  <g id=\"axes_2\">\n   <g id=\"patch_7\">\n    <path d=\"M 263.762813 224.64 \nL 274.634813 224.64 \nL 274.634813 7.2 \nL 263.762813 7.2 \nz\n\" style=\"fill:#ffffff;\"/>\n   </g>\n   <g id=\"patch_8\">\n    <path clip-path=\"url(#pe2b2aacfb4)\" d=\"M 263.762813 224.64 \nL 263.762813 223.790625 \nL 263.762813 8.049375 \nL 263.762813 7.2 \nL 274.634813 7.2 \nL 274.634813 8.049375 \nL 274.634813 223.790625 \nL 274.634813 224.64 \nL 274.634813 224.64 \nz\n\" style=\"fill:#ffffff;stroke:#ffffff;stroke-linejoin:miter;stroke-width:0.01;\"/>\n   </g>\n   <g id=\"matplotlib.axis_3\"/>\n   <g id=\"matplotlib.axis_4\">\n    <g id=\"ytick_6\">\n     <g id=\"line2d_21\"/>\n     <g id=\"text_38\">\n      <!-- 0.02 -->\n      <g style=\"fill:#262626;\" transform=\"translate(278.134813 202.818331)scale(0.1 -0.1)\">\n       <use xlink:href=\"#LiberationSans-30\"/>\n       <use x=\"55.615234\" xlink:href=\"#LiberationSans-2e\"/>\n       <use x=\"83.398438\" xlink:href=\"#LiberationSans-30\"/>\n       <use x=\"139.013672\" xlink:href=\"#LiberationSans-32\"/>\n      </g>\n     </g>\n    </g>\n    <g id=\"ytick_7\">\n     <g id=\"line2d_22\"/>\n     <g id=\"text_39\">\n      <!-- 0.03 -->\n      <g style=\"fill:#262626;\" transform=\"translate(278.134813 168.120459)scale(0.1 -0.1)\">\n       <use xlink:href=\"#LiberationSans-30\"/>\n       <use x=\"55.615234\" xlink:href=\"#LiberationSans-2e\"/>\n       <use x=\"83.398438\" xlink:href=\"#LiberationSans-30\"/>\n       <use x=\"139.013672\" xlink:href=\"#LiberationSans-33\"/>\n      </g>\n     </g>\n    </g>\n    <g id=\"ytick_8\">\n     <g id=\"line2d_23\"/>\n     <g id=\"text_40\">\n      <!-- 0.04 -->\n      <g style=\"fill:#262626;\" transform=\"translate(278.134813 133.422586)scale(0.1 -0.1)\">\n       <use xlink:href=\"#LiberationSans-30\"/>\n       <use x=\"55.615234\" xlink:href=\"#LiberationSans-2e\"/>\n       <use x=\"83.398438\" xlink:href=\"#LiberationSans-30\"/>\n       <use x=\"139.013672\" xlink:href=\"#LiberationSans-34\"/>\n      </g>\n     </g>\n    </g>\n    <g id=\"ytick_9\">\n     <g id=\"line2d_24\"/>\n     <g id=\"text_41\">\n      <!-- 0.05 -->\n      <g style=\"fill:#262626;\" transform=\"translate(278.134813 98.724714)scale(0.1 -0.1)\">\n       <use xlink:href=\"#LiberationSans-30\"/>\n       <use x=\"55.615234\" xlink:href=\"#LiberationSans-2e\"/>\n       <use x=\"83.398438\" xlink:href=\"#LiberationSans-30\"/>\n       <use x=\"139.013672\" xlink:href=\"#LiberationSans-35\"/>\n      </g>\n     </g>\n    </g>\n    <g id=\"ytick_10\">\n     <g id=\"line2d_25\"/>\n     <g id=\"text_42\">\n      <!-- 0.06 -->\n      <g style=\"fill:#262626;\" transform=\"translate(278.134813 64.026842)scale(0.1 -0.1)\">\n       <use xlink:href=\"#LiberationSans-30\"/>\n       <use x=\"55.615234\" xlink:href=\"#LiberationSans-2e\"/>\n       <use x=\"83.398438\" xlink:href=\"#LiberationSans-30\"/>\n       <use x=\"139.013672\" xlink:href=\"#LiberationSans-36\"/>\n      </g>\n     </g>\n    </g>\n    <g id=\"ytick_11\">\n     <g id=\"line2d_26\"/>\n     <g id=\"text_43\">\n      <!-- 0.07 -->\n      <g style=\"fill:#262626;\" transform=\"translate(278.134813 29.328969)scale(0.1 -0.1)\">\n       <use xlink:href=\"#LiberationSans-30\"/>\n       <use x=\"55.615234\" xlink:href=\"#LiberationSans-2e\"/>\n       <use x=\"83.398438\" xlink:href=\"#LiberationSans-30\"/>\n       <use x=\"139.013672\" xlink:href=\"#LiberationSans-37\"/>\n      </g>\n     </g>\n    </g>\n   </g>\n   <image height=\"218\" id=\"image61e6803216\" transform=\"scale(1 -1)translate(0 -218)\" width=\"11\" x=\"264\" xlink:href=\"data:image/png;base64,\niVBORw0KGgoAAAANSUhEUgAAAAsAAADaCAYAAABwzrisAAABUUlEQVR4nNWa2w3CQAwE/bhQGSXQfycQWvB8jOTwvVrtjn0HCsl3fu4Yfk5kTbVxsnIuFp27SQzgnAUyI+fQnBPRYBPUxIiGOBSPBiq4YpE8GjeLMdaaNMTMKAY7KVoMtvxajEaZrRiooLdINzmwHg3oDMRo3HAoQLyFhjhuFMNz3lFwh7PIWbzrgHjL1u0YN7v5vcxzLf6iJzF20NiySA9cfq0gkC4quGPckfPzvQbd82jAFWUFQWZvKCLnHTTATyR3KF7BFc7gORmkwWLsQFdiQYsGylz12xAD0aiw0DWhIRYUaQDx0Wh4BZGzWFDLXGllPswZiFtEZ9G48is5QxorCjbiTCbInNHWkRhw3CiGNUHkjDgzGiyGVRAN5SUW1HZDO1ZXWFcBOoPe8l9aZlhwrKXOc+M4L/J3A3Ju5gzETcTI+Urwug7LTN45KfCQ6g+8/YBquC41ugAAAABJRU5ErkJggg==\" y=\"-6\"/>\n   <g id=\"LineCollection_1\"/>\n   <g id=\"patch_9\">\n    <path d=\"M 263.762813 224.64 \nL 263.762813 223.790625 \nL 263.762813 8.049375 \nL 263.762813 7.2 \nL 274.634813 7.2 \nL 274.634813 8.049375 \nL 274.634813 223.790625 \nL 274.634813 224.64 \nz\n\" style=\"fill:none;stroke:#cccccc;stroke-linecap:square;stroke-linejoin:miter;\"/>\n   </g>\n  </g>\n </g>\n <defs>\n  <clipPath id=\"p6da5bce408\">\n   <rect height=\"217.44\" width=\"217.44\" x=\"29.582813\" y=\"7.2\"/>\n  </clipPath>\n  <clipPath id=\"pe2b2aacfb4\">\n   <rect height=\"217.44\" width=\"10.872\" x=\"263.762813\" y=\"7.2\"/>\n  </clipPath>\n </defs>\n</svg>\n",
      "image/png": "[encoded data removed]"
     },
     "metadata": {}
    }
   ],
   "metadata": {}
  },
  {
   "cell_type": "code",
   "execution_count": null,
   "source": [],
   "outputs": [],
   "metadata": {}
  }
 ]
}