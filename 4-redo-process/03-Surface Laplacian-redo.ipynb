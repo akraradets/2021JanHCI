{
 "metadata": {
  "language_info": {
   "codemirror_mode": {
    "name": "ipython",
    "version": 3
   },
   "file_extension": ".py",
   "mimetype": "text/x-python",
   "name": "python",
   "nbconvert_exporter": "python",
   "pygments_lexer": "ipython3",
   "version": "3.8.5"
  },
  "orig_nbformat": 2,
  "kernelspec": {
   "name": "python3",
   "display_name": "Python 3",
   "language": "python"
  }
 },
 "nbformat": 4,
 "nbformat_minor": 2,
 "cells": [
  {
   "cell_type": "code",
   "execution_count": 1,
   "source": [
    "import pandas\n",
    "import numpy as np\n",
    "from utils import *\n",
    "import mne\n",
    "import matplotlib.pyplot as plt\n",
    "from os import walk\n",
    "from sklearn.decomposition import FastICA\n",
    "from sklearn.naive_bayes import GaussianNB, MultinomialNB\n",
    "from sklearn.model_selection import cross_val_score\n",
    "from itertools import combinations\n",
    "from sklearn.preprocessing import normalize\n",
    "from sklearn.utils import shuffle\n",
    "from tqdm.notebook import tqdm\n",
    "import pickle\n",
    "\n",
    "from multiprocessing import Pool\n",
    "plt.style.use('seaborn-whitegrid')"
   ],
   "outputs": [],
   "metadata": {}
  },
  {
   "cell_type": "markdown",
   "source": [
    "# Groud truth - Median"
   ],
   "metadata": {}
  },
  {
   "cell_type": "code",
   "execution_count": 2,
   "source": [
    "df = pandas.read_csv('./HEXACO.csv')\n",
    "# Honesty-Humility\tEmotionality\teXtraversion\tAgreeableness\tConscientiousness\tOpenness to Experience\n",
    "gt = df[['id','Honesty-Humility','Emotionality','eXtraversion','Agreeableness','Conscientiousness','Openness to Experience']].rename(columns={'Honesty-Humility':'h',\n",
    "                                  'Emotionality':'e',\n",
    "                                  'eXtraversion':'x',\n",
    "                                 'Agreeableness':'a',\n",
    "                             'Conscientiousness':'c',\n",
    "                        'Openness to Experience':'o'}).set_index('id')\n",
    "\n",
    "gt['lh'] = (gt[['h']] > np.median(gt['h'])) * 1\n",
    "gt['le'] = (gt[['e']] > np.median(gt['e'])) * 1\n",
    "gt['lx'] = (gt[['x']] > np.median(gt['x'])) * 1\n",
    "gt['la'] = (gt[['a']] > np.median(gt['a'])) * 1\n",
    "gt['lc'] = (gt[['c']] > np.median(gt['c'])) * 1\n",
    "gt['lo'] = (gt[['o']] > np.median(gt['o'])) * 1\n",
    "gt"
   ],
   "outputs": [
    {
     "output_type": "execute_result",
     "data": {
      "text/plain": [
       "       h     e     x     a     c     o  lh  le  lx  la  lc  lo\n",
       "id                                                            \n",
       "2   3.63  3.19  2.94  2.38  3.38  2.38   1   0   0   0   0   0\n",
       "3   3.38  3.44  3.50  3.50  4.50  3.81   0   0   1   1   1   1\n",
       "4   3.19  3.75  3.69  3.19  2.63  2.63   0   1   1   0   0   0\n",
       "5   3.25  3.63  2.13  3.56  3.63  2.31   0   1   0   1   1   0\n",
       "6   3.25  2.75  3.50  2.50  3.75  5.00   0   0   1   0   1   1\n",
       "7   4.06  3.06  3.38  2.88  2.50  4.19   1   0   1   0   0   1\n",
       "8   3.94  2.94  3.19  3.75  3.38  3.81   1   0   1   1   0   1\n",
       "9   4.44  4.00  3.38  3.75  3.69  3.31   1   1   1   1   1   0\n",
       "10  3.63  3.25  3.50  3.31  3.88  2.69   1   0   1   1   1   0\n",
       "11  3.31  4.00  2.25  3.19  2.81  3.19   0   1   0   0   0   0\n",
       "12  2.81  3.44  3.13  3.56  3.25  3.75   0   0   1   1   0   1\n",
       "13  3.06  3.06  3.00  2.69  3.31  3.44   0   0   0   0   0   0\n",
       "14  4.63  3.69  2.25  3.13  2.94  2.63   1   1   0   0   0   0\n",
       "15  3.75  2.94  2.94  3.50  4.19  3.19   1   0   0   1   1   0\n",
       "16  4.19  4.25  1.88  2.81  3.25  3.81   1   1   0   0   0   1\n",
       "17  4.25  3.00  4.00  2.50  3.25  3.25   1   0   1   0   0   0\n",
       "18  2.81  3.31  2.06  2.75  3.00  3.19   0   0   0   0   0   0\n",
       "20  3.25  3.31  4.31  3.44  2.00  4.25   0   0   1   1   0   1\n",
       "21  4.06  3.00  2.88  3.56  3.81  3.81   1   0   0   1   1   1\n",
       "22  3.50  3.88  1.88  2.63  3.94  3.69   0   1   0   0   1   1\n",
       "23  3.13  4.19  3.00  2.38  2.88  3.88   0   1   0   0   0   1\n",
       "25  3.25  3.44  3.75  3.50  3.88  3.44   0   0   1   1   1   0\n",
       "26  3.50  3.19  2.44  2.94  2.44  3.25   0   0   0   0   0   0\n",
       "27  2.63  3.88  3.81  3.88  3.31  3.88   0   1   1   1   0   1\n",
       "28  3.19  4.31  2.19  1.88  2.56  3.25   0   1   0   0   0   0\n",
       "29  3.56  4.38  2.06  2.94  3.44  4.56   1   1   0   0   1   1\n",
       "30  4.50  3.81  2.44  3.13  2.94  4.31   1   1   0   0   0   1\n",
       "31  4.06  3.56  2.63  3.31  3.75  4.06   1   1   0   1   1   1\n",
       "32  2.75  3.25  3.75  2.81  3.06  3.31   0   0   1   0   0   0\n",
       "33  4.00  3.56  2.38  3.63  3.63  3.19   1   1   0   1   1   0\n",
       "34  3.38  2.69  3.69  3.31  3.81  3.50   0   0   1   1   1   0\n",
       "35  3.69  3.44  3.56  4.00  3.38  4.38   1   0   1   1   0   1\n",
       "36  3.56  4.56  3.31  3.63  4.38  4.31   1   1   1   1   1   1"
      ],
      "text/html": [
       "<div>\n",
       "<style scoped>\n",
       "    .dataframe tbody tr th:only-of-type {\n",
       "        vertical-align: middle;\n",
       "    }\n",
       "\n",
       "    .dataframe tbody tr th {\n",
       "        vertical-align: top;\n",
       "    }\n",
       "\n",
       "    .dataframe thead th {\n",
       "        text-align: right;\n",
       "    }\n",
       "</style>\n",
       "<table border=\"1\" class=\"dataframe\">\n",
       "  <thead>\n",
       "    <tr style=\"text-align: right;\">\n",
       "      <th></th>\n",
       "      <th>h</th>\n",
       "      <th>e</th>\n",
       "      <th>x</th>\n",
       "      <th>a</th>\n",
       "      <th>c</th>\n",
       "      <th>o</th>\n",
       "      <th>lh</th>\n",
       "      <th>le</th>\n",
       "      <th>lx</th>\n",
       "      <th>la</th>\n",
       "      <th>lc</th>\n",
       "      <th>lo</th>\n",
       "    </tr>\n",
       "    <tr>\n",
       "      <th>id</th>\n",
       "      <th></th>\n",
       "      <th></th>\n",
       "      <th></th>\n",
       "      <th></th>\n",
       "      <th></th>\n",
       "      <th></th>\n",
       "      <th></th>\n",
       "      <th></th>\n",
       "      <th></th>\n",
       "      <th></th>\n",
       "      <th></th>\n",
       "      <th></th>\n",
       "    </tr>\n",
       "  </thead>\n",
       "  <tbody>\n",
       "    <tr>\n",
       "      <th>2</th>\n",
       "      <td>3.63</td>\n",
       "      <td>3.19</td>\n",
       "      <td>2.94</td>\n",
       "      <td>2.38</td>\n",
       "      <td>3.38</td>\n",
       "      <td>2.38</td>\n",
       "      <td>1</td>\n",
       "      <td>0</td>\n",
       "      <td>0</td>\n",
       "      <td>0</td>\n",
       "      <td>0</td>\n",
       "      <td>0</td>\n",
       "    </tr>\n",
       "    <tr>\n",
       "      <th>3</th>\n",
       "      <td>3.38</td>\n",
       "      <td>3.44</td>\n",
       "      <td>3.50</td>\n",
       "      <td>3.50</td>\n",
       "      <td>4.50</td>\n",
       "      <td>3.81</td>\n",
       "      <td>0</td>\n",
       "      <td>0</td>\n",
       "      <td>1</td>\n",
       "      <td>1</td>\n",
       "      <td>1</td>\n",
       "      <td>1</td>\n",
       "    </tr>\n",
       "    <tr>\n",
       "      <th>4</th>\n",
       "      <td>3.19</td>\n",
       "      <td>3.75</td>\n",
       "      <td>3.69</td>\n",
       "      <td>3.19</td>\n",
       "      <td>2.63</td>\n",
       "      <td>2.63</td>\n",
       "      <td>0</td>\n",
       "      <td>1</td>\n",
       "      <td>1</td>\n",
       "      <td>0</td>\n",
       "      <td>0</td>\n",
       "      <td>0</td>\n",
       "    </tr>\n",
       "    <tr>\n",
       "      <th>5</th>\n",
       "      <td>3.25</td>\n",
       "      <td>3.63</td>\n",
       "      <td>2.13</td>\n",
       "      <td>3.56</td>\n",
       "      <td>3.63</td>\n",
       "      <td>2.31</td>\n",
       "      <td>0</td>\n",
       "      <td>1</td>\n",
       "      <td>0</td>\n",
       "      <td>1</td>\n",
       "      <td>1</td>\n",
       "      <td>0</td>\n",
       "    </tr>\n",
       "    <tr>\n",
       "      <th>6</th>\n",
       "      <td>3.25</td>\n",
       "      <td>2.75</td>\n",
       "      <td>3.50</td>\n",
       "      <td>2.50</td>\n",
       "      <td>3.75</td>\n",
       "      <td>5.00</td>\n",
       "      <td>0</td>\n",
       "      <td>0</td>\n",
       "      <td>1</td>\n",
       "      <td>0</td>\n",
       "      <td>1</td>\n",
       "      <td>1</td>\n",
       "    </tr>\n",
       "    <tr>\n",
       "      <th>7</th>\n",
       "      <td>4.06</td>\n",
       "      <td>3.06</td>\n",
       "      <td>3.38</td>\n",
       "      <td>2.88</td>\n",
       "      <td>2.50</td>\n",
       "      <td>4.19</td>\n",
       "      <td>1</td>\n",
       "      <td>0</td>\n",
       "      <td>1</td>\n",
       "      <td>0</td>\n",
       "      <td>0</td>\n",
       "      <td>1</td>\n",
       "    </tr>\n",
       "    <tr>\n",
       "      <th>8</th>\n",
       "      <td>3.94</td>\n",
       "      <td>2.94</td>\n",
       "      <td>3.19</td>\n",
       "      <td>3.75</td>\n",
       "      <td>3.38</td>\n",
       "      <td>3.81</td>\n",
       "      <td>1</td>\n",
       "      <td>0</td>\n",
       "      <td>1</td>\n",
       "      <td>1</td>\n",
       "      <td>0</td>\n",
       "      <td>1</td>\n",
       "    </tr>\n",
       "    <tr>\n",
       "      <th>9</th>\n",
       "      <td>4.44</td>\n",
       "      <td>4.00</td>\n",
       "      <td>3.38</td>\n",
       "      <td>3.75</td>\n",
       "      <td>3.69</td>\n",
       "      <td>3.31</td>\n",
       "      <td>1</td>\n",
       "      <td>1</td>\n",
       "      <td>1</td>\n",
       "      <td>1</td>\n",
       "      <td>1</td>\n",
       "      <td>0</td>\n",
       "    </tr>\n",
       "    <tr>\n",
       "      <th>10</th>\n",
       "      <td>3.63</td>\n",
       "      <td>3.25</td>\n",
       "      <td>3.50</td>\n",
       "      <td>3.31</td>\n",
       "      <td>3.88</td>\n",
       "      <td>2.69</td>\n",
       "      <td>1</td>\n",
       "      <td>0</td>\n",
       "      <td>1</td>\n",
       "      <td>1</td>\n",
       "      <td>1</td>\n",
       "      <td>0</td>\n",
       "    </tr>\n",
       "    <tr>\n",
       "      <th>11</th>\n",
       "      <td>3.31</td>\n",
       "      <td>4.00</td>\n",
       "      <td>2.25</td>\n",
       "      <td>3.19</td>\n",
       "      <td>2.81</td>\n",
       "      <td>3.19</td>\n",
       "      <td>0</td>\n",
       "      <td>1</td>\n",
       "      <td>0</td>\n",
       "      <td>0</td>\n",
       "      <td>0</td>\n",
       "      <td>0</td>\n",
       "    </tr>\n",
       "    <tr>\n",
       "      <th>12</th>\n",
       "      <td>2.81</td>\n",
       "      <td>3.44</td>\n",
       "      <td>3.13</td>\n",
       "      <td>3.56</td>\n",
       "      <td>3.25</td>\n",
       "      <td>3.75</td>\n",
       "      <td>0</td>\n",
       "      <td>0</td>\n",
       "      <td>1</td>\n",
       "      <td>1</td>\n",
       "      <td>0</td>\n",
       "      <td>1</td>\n",
       "    </tr>\n",
       "    <tr>\n",
       "      <th>13</th>\n",
       "      <td>3.06</td>\n",
       "      <td>3.06</td>\n",
       "      <td>3.00</td>\n",
       "      <td>2.69</td>\n",
       "      <td>3.31</td>\n",
       "      <td>3.44</td>\n",
       "      <td>0</td>\n",
       "      <td>0</td>\n",
       "      <td>0</td>\n",
       "      <td>0</td>\n",
       "      <td>0</td>\n",
       "      <td>0</td>\n",
       "    </tr>\n",
       "    <tr>\n",
       "      <th>14</th>\n",
       "      <td>4.63</td>\n",
       "      <td>3.69</td>\n",
       "      <td>2.25</td>\n",
       "      <td>3.13</td>\n",
       "      <td>2.94</td>\n",
       "      <td>2.63</td>\n",
       "      <td>1</td>\n",
       "      <td>1</td>\n",
       "      <td>0</td>\n",
       "      <td>0</td>\n",
       "      <td>0</td>\n",
       "      <td>0</td>\n",
       "    </tr>\n",
       "    <tr>\n",
       "      <th>15</th>\n",
       "      <td>3.75</td>\n",
       "      <td>2.94</td>\n",
       "      <td>2.94</td>\n",
       "      <td>3.50</td>\n",
       "      <td>4.19</td>\n",
       "      <td>3.19</td>\n",
       "      <td>1</td>\n",
       "      <td>0</td>\n",
       "      <td>0</td>\n",
       "      <td>1</td>\n",
       "      <td>1</td>\n",
       "      <td>0</td>\n",
       "    </tr>\n",
       "    <tr>\n",
       "      <th>16</th>\n",
       "      <td>4.19</td>\n",
       "      <td>4.25</td>\n",
       "      <td>1.88</td>\n",
       "      <td>2.81</td>\n",
       "      <td>3.25</td>\n",
       "      <td>3.81</td>\n",
       "      <td>1</td>\n",
       "      <td>1</td>\n",
       "      <td>0</td>\n",
       "      <td>0</td>\n",
       "      <td>0</td>\n",
       "      <td>1</td>\n",
       "    </tr>\n",
       "    <tr>\n",
       "      <th>17</th>\n",
       "      <td>4.25</td>\n",
       "      <td>3.00</td>\n",
       "      <td>4.00</td>\n",
       "      <td>2.50</td>\n",
       "      <td>3.25</td>\n",
       "      <td>3.25</td>\n",
       "      <td>1</td>\n",
       "      <td>0</td>\n",
       "      <td>1</td>\n",
       "      <td>0</td>\n",
       "      <td>0</td>\n",
       "      <td>0</td>\n",
       "    </tr>\n",
       "    <tr>\n",
       "      <th>18</th>\n",
       "      <td>2.81</td>\n",
       "      <td>3.31</td>\n",
       "      <td>2.06</td>\n",
       "      <td>2.75</td>\n",
       "      <td>3.00</td>\n",
       "      <td>3.19</td>\n",
       "      <td>0</td>\n",
       "      <td>0</td>\n",
       "      <td>0</td>\n",
       "      <td>0</td>\n",
       "      <td>0</td>\n",
       "      <td>0</td>\n",
       "    </tr>\n",
       "    <tr>\n",
       "      <th>20</th>\n",
       "      <td>3.25</td>\n",
       "      <td>3.31</td>\n",
       "      <td>4.31</td>\n",
       "      <td>3.44</td>\n",
       "      <td>2.00</td>\n",
       "      <td>4.25</td>\n",
       "      <td>0</td>\n",
       "      <td>0</td>\n",
       "      <td>1</td>\n",
       "      <td>1</td>\n",
       "      <td>0</td>\n",
       "      <td>1</td>\n",
       "    </tr>\n",
       "    <tr>\n",
       "      <th>21</th>\n",
       "      <td>4.06</td>\n",
       "      <td>3.00</td>\n",
       "      <td>2.88</td>\n",
       "      <td>3.56</td>\n",
       "      <td>3.81</td>\n",
       "      <td>3.81</td>\n",
       "      <td>1</td>\n",
       "      <td>0</td>\n",
       "      <td>0</td>\n",
       "      <td>1</td>\n",
       "      <td>1</td>\n",
       "      <td>1</td>\n",
       "    </tr>\n",
       "    <tr>\n",
       "      <th>22</th>\n",
       "      <td>3.50</td>\n",
       "      <td>3.88</td>\n",
       "      <td>1.88</td>\n",
       "      <td>2.63</td>\n",
       "      <td>3.94</td>\n",
       "      <td>3.69</td>\n",
       "      <td>0</td>\n",
       "      <td>1</td>\n",
       "      <td>0</td>\n",
       "      <td>0</td>\n",
       "      <td>1</td>\n",
       "      <td>1</td>\n",
       "    </tr>\n",
       "    <tr>\n",
       "      <th>23</th>\n",
       "      <td>3.13</td>\n",
       "      <td>4.19</td>\n",
       "      <td>3.00</td>\n",
       "      <td>2.38</td>\n",
       "      <td>2.88</td>\n",
       "      <td>3.88</td>\n",
       "      <td>0</td>\n",
       "      <td>1</td>\n",
       "      <td>0</td>\n",
       "      <td>0</td>\n",
       "      <td>0</td>\n",
       "      <td>1</td>\n",
       "    </tr>\n",
       "    <tr>\n",
       "      <th>25</th>\n",
       "      <td>3.25</td>\n",
       "      <td>3.44</td>\n",
       "      <td>3.75</td>\n",
       "      <td>3.50</td>\n",
       "      <td>3.88</td>\n",
       "      <td>3.44</td>\n",
       "      <td>0</td>\n",
       "      <td>0</td>\n",
       "      <td>1</td>\n",
       "      <td>1</td>\n",
       "      <td>1</td>\n",
       "      <td>0</td>\n",
       "    </tr>\n",
       "    <tr>\n",
       "      <th>26</th>\n",
       "      <td>3.50</td>\n",
       "      <td>3.19</td>\n",
       "      <td>2.44</td>\n",
       "      <td>2.94</td>\n",
       "      <td>2.44</td>\n",
       "      <td>3.25</td>\n",
       "      <td>0</td>\n",
       "      <td>0</td>\n",
       "      <td>0</td>\n",
       "      <td>0</td>\n",
       "      <td>0</td>\n",
       "      <td>0</td>\n",
       "    </tr>\n",
       "    <tr>\n",
       "      <th>27</th>\n",
       "      <td>2.63</td>\n",
       "      <td>3.88</td>\n",
       "      <td>3.81</td>\n",
       "      <td>3.88</td>\n",
       "      <td>3.31</td>\n",
       "      <td>3.88</td>\n",
       "      <td>0</td>\n",
       "      <td>1</td>\n",
       "      <td>1</td>\n",
       "      <td>1</td>\n",
       "      <td>0</td>\n",
       "      <td>1</td>\n",
       "    </tr>\n",
       "    <tr>\n",
       "      <th>28</th>\n",
       "      <td>3.19</td>\n",
       "      <td>4.31</td>\n",
       "      <td>2.19</td>\n",
       "      <td>1.88</td>\n",
       "      <td>2.56</td>\n",
       "      <td>3.25</td>\n",
       "      <td>0</td>\n",
       "      <td>1</td>\n",
       "      <td>0</td>\n",
       "      <td>0</td>\n",
       "      <td>0</td>\n",
       "      <td>0</td>\n",
       "    </tr>\n",
       "    <tr>\n",
       "      <th>29</th>\n",
       "      <td>3.56</td>\n",
       "      <td>4.38</td>\n",
       "      <td>2.06</td>\n",
       "      <td>2.94</td>\n",
       "      <td>3.44</td>\n",
       "      <td>4.56</td>\n",
       "      <td>1</td>\n",
       "      <td>1</td>\n",
       "      <td>0</td>\n",
       "      <td>0</td>\n",
       "      <td>1</td>\n",
       "      <td>1</td>\n",
       "    </tr>\n",
       "    <tr>\n",
       "      <th>30</th>\n",
       "      <td>4.50</td>\n",
       "      <td>3.81</td>\n",
       "      <td>2.44</td>\n",
       "      <td>3.13</td>\n",
       "      <td>2.94</td>\n",
       "      <td>4.31</td>\n",
       "      <td>1</td>\n",
       "      <td>1</td>\n",
       "      <td>0</td>\n",
       "      <td>0</td>\n",
       "      <td>0</td>\n",
       "      <td>1</td>\n",
       "    </tr>\n",
       "    <tr>\n",
       "      <th>31</th>\n",
       "      <td>4.06</td>\n",
       "      <td>3.56</td>\n",
       "      <td>2.63</td>\n",
       "      <td>3.31</td>\n",
       "      <td>3.75</td>\n",
       "      <td>4.06</td>\n",
       "      <td>1</td>\n",
       "      <td>1</td>\n",
       "      <td>0</td>\n",
       "      <td>1</td>\n",
       "      <td>1</td>\n",
       "      <td>1</td>\n",
       "    </tr>\n",
       "    <tr>\n",
       "      <th>32</th>\n",
       "      <td>2.75</td>\n",
       "      <td>3.25</td>\n",
       "      <td>3.75</td>\n",
       "      <td>2.81</td>\n",
       "      <td>3.06</td>\n",
       "      <td>3.31</td>\n",
       "      <td>0</td>\n",
       "      <td>0</td>\n",
       "      <td>1</td>\n",
       "      <td>0</td>\n",
       "      <td>0</td>\n",
       "      <td>0</td>\n",
       "    </tr>\n",
       "    <tr>\n",
       "      <th>33</th>\n",
       "      <td>4.00</td>\n",
       "      <td>3.56</td>\n",
       "      <td>2.38</td>\n",
       "      <td>3.63</td>\n",
       "      <td>3.63</td>\n",
       "      <td>3.19</td>\n",
       "      <td>1</td>\n",
       "      <td>1</td>\n",
       "      <td>0</td>\n",
       "      <td>1</td>\n",
       "      <td>1</td>\n",
       "      <td>0</td>\n",
       "    </tr>\n",
       "    <tr>\n",
       "      <th>34</th>\n",
       "      <td>3.38</td>\n",
       "      <td>2.69</td>\n",
       "      <td>3.69</td>\n",
       "      <td>3.31</td>\n",
       "      <td>3.81</td>\n",
       "      <td>3.50</td>\n",
       "      <td>0</td>\n",
       "      <td>0</td>\n",
       "      <td>1</td>\n",
       "      <td>1</td>\n",
       "      <td>1</td>\n",
       "      <td>0</td>\n",
       "    </tr>\n",
       "    <tr>\n",
       "      <th>35</th>\n",
       "      <td>3.69</td>\n",
       "      <td>3.44</td>\n",
       "      <td>3.56</td>\n",
       "      <td>4.00</td>\n",
       "      <td>3.38</td>\n",
       "      <td>4.38</td>\n",
       "      <td>1</td>\n",
       "      <td>0</td>\n",
       "      <td>1</td>\n",
       "      <td>1</td>\n",
       "      <td>0</td>\n",
       "      <td>1</td>\n",
       "    </tr>\n",
       "    <tr>\n",
       "      <th>36</th>\n",
       "      <td>3.56</td>\n",
       "      <td>4.56</td>\n",
       "      <td>3.31</td>\n",
       "      <td>3.63</td>\n",
       "      <td>4.38</td>\n",
       "      <td>4.31</td>\n",
       "      <td>1</td>\n",
       "      <td>1</td>\n",
       "      <td>1</td>\n",
       "      <td>1</td>\n",
       "      <td>1</td>\n",
       "      <td>1</td>\n",
       "    </tr>\n",
       "  </tbody>\n",
       "</table>\n",
       "</div>"
      ]
     },
     "metadata": {},
     "execution_count": 2
    }
   ],
   "metadata": {}
  },
  {
   "cell_type": "code",
   "execution_count": 3,
   "source": [
    "fig, ax = plt.subplots(figsize=(16,9))\n",
    "ax.bar(['H','E','X','A','C','O'],[ sum(gt['lh']), sum(gt['le']), sum(gt['lx']), sum(gt['la']), sum(gt['lc']), sum(gt['lo'])  ])\n",
    "ax.set_title(\"Distribution of Labels\")\n",
    "ax.set_xlabel(\"Labels\")\n",
    "# ax.set_ylabel(\"Distribution of Labels\")\n",
    "plt.show()"
   ],
   "outputs": [
    {
     "output_type": "display_data",
     "data": {
      "text/plain": [
       "<Figure size 1152x648 with 1 Axes>"
      ],
      "image/png": "[encoded data removed]"
     },
     "metadata": {}
    }
   ],
   "metadata": {}
  },
  {
   "cell_type": "markdown",
   "source": [
    "# EEG data"
   ],
   "metadata": {}
  },
  {
   "cell_type": "code",
   "execution_count": 4,
   "source": [
    "def load_data():\n",
    "    path, folders, filenames = next(walk('./data'))\n",
    "\n",
    "    filenames.remove('11-audio.csv')\n",
    "    filenames.remove('11-image.csv')\n",
    "\n",
    "    filenames.remove('36-audio.csv')\n",
    "    filenames.remove('36-image.csv')\n",
    "\n",
    "    path = './data'\n",
    "    columns = {'Unnamed: 1':'Fp1',\n",
    "            'Unnamed: 2':'Fp2',\n",
    "            'Unnamed: 3':'F3',\n",
    "            'Unnamed: 4':'F4',\n",
    "            'Unnamed: 5':'F7',\n",
    "            'Unnamed: 6':'F8',\n",
    "            'Unnamed: 7':'P7',\n",
    "            'Unnamed: 8':'P8'}\n",
    "\n",
    "    EEG_audio, EEG_image = dict(), dict()\n",
    "    from itertools import product\n",
    "    categories = [1,2,3,4,5]\n",
    "    blocks = [1,2]\n",
    "    with tqdm(filenames) as t:\n",
    "        for filename in t:\n",
    "            t.set_description(f\"{filename}\")\n",
    "            participant_id, stimuli = filename.split('-')\n",
    "            stimuli = stimuli.rstrip('.csv')\n",
    "            data = pandas.read_csv(f'{path}/{filename}', dtype={'Marker': str}).rename(columns=columns).drop(columns='timestamps')\n",
    "            # Aviod warning on stim has negative value\n",
    "            marker = np.array(data['Marker'])\n",
    "            marker[marker == '-1'] = '1'\n",
    "            data['Marker'] = marker\n",
    "\n",
    "            if(stimuli == 'audio'):\n",
    "                EEG_audio[int(participant_id)] = data\n",
    "            elif(stimuli == 'image'):\n",
    "                EEG_image[int(participant_id)] = data\n",
    "            else:\n",
    "                raise ValueError(f\"Stimuli:{stimuli} is unexpected.\")\n",
    "    return EEG_audio, EEG_image\n"
   ],
   "outputs": [],
   "metadata": {}
  },
  {
   "cell_type": "code",
   "execution_count": 5,
   "source": [
    "# clear_cache()\n",
    "try:\n",
    "    # Load from cache\n",
    "    EEG_audio = load('EEG_audio')\n",
    "    EEG_image = load('EEG_image')\n",
    "    print('Load data from cache')\n",
    "    if( set(EEG_audio.keys()) != set(EEG_image.keys()) ):\n",
    "        extra = None\n",
    "        if(len(EEG_audio.keys()) > len(EEG_image.keys())):\n",
    "            extra = set(EEG_audio.keys()).difference( set(EEG_image.keys()) )\n",
    "        else:\n",
    "            extra = set(EEG_image.keys()).difference( set(EEG_audio.keys()) )\n",
    "        raise ValueError(f\"In equal keys. audio has {len(EEG_audio.keys())} and image has {len(EEG_image.keys())}. The extra key is {extra}\")\n",
    "\n",
    "except FileNotFoundError as e:\n",
    "    EEG_audio, EEG_image = load_data()\n",
    "    # Save to cache\n",
    "    save(EEG_audio, 'EEG_audio')\n",
    "    save(EEG_image, 'EEG_image')"
   ],
   "outputs": [
    {
     "output_type": "stream",
     "name": "stdout",
     "text": [
      "Load data from cache\n"
     ]
    }
   ],
   "metadata": {}
  },
  {
   "cell_type": "markdown",
   "source": [
    "# Pre process with PSD + log + mne ICA"
   ],
   "metadata": {}
  },
  {
   "cell_type": "code",
   "execution_count": 6,
   "source": [
    "raw = dataframe_to_raw(EEG_image[33], sfreq=250)\n",
    "\n",
    "# Preprocess\n",
    "raw.notch_filter([50,100],filter_length='auto', phase='zero', verbose=False) # Line power\n",
    "raw.filter(1., None, verbose=False) # Slow drift\n",
    "\n",
    "events = mne.find_events(raw, stim_channel='Marker', initial_event=True, verbose=False, uint_cast=False)\n",
    "events = np.delete(events,np.argwhere(events[:,2] == 1), axis=0) # break\n",
    "# Check data\n",
    "if(events.shape[0] != 50):\n",
    "    raise ValueError(f\"Event missing: {events[:,2]}. len(events.shape[0])={events.shape[0]}\")\n",
    "epochs = mne.Epochs(raw, events, tmin=2.0, tmax=4.0, baseline=(2.0,4.0), verbose=False)\n",
    "if(epochs.get_data().shape[0] != 50):\n",
    "    raise ValueError(f\"There might be a bad data. epochs.get_data().shape = {epochs.get_data().shape}\")\n",
    "\n",
    "# for evoked in epochs.iter_evoked():\n",
    "#     reduc = ica.apply(evoked, verbose=False)\n",
    "#     power,freq = mne.time_frequency.psd_array_welch(reduc.data[:6],sfreq=250,n_fft=128, verbose=False)\n",
    "#     break"
   ],
   "outputs": [],
   "metadata": {}
  },
  {
   "cell_type": "code",
   "execution_count": 7,
   "source": [
    "import warnings\n",
    "import sys, os\n",
    "warnings.filterwarnings(\"ignore\")\n",
    "times = np.arange(2.0, 4.0, .5)\n",
    "for evoked in epochs.iter_evoked():\n",
    "    sys.stdout = open(os.devnull, 'w')\n",
    "    csd_evoked = mne.preprocessing.compute_current_source_density(evoked)\n",
    "    sys.stdout = sys.__stdout__\n",
    "    # evoked.plot_topomap(times)\n",
    "    # csd_evoked.plot_topomap(times)\n",
    "    break\n",
    "\n",
    "# raw.plot_topomap(times, ch_type='eeg', time_unit='s')\n",
    "# # raw.plot_projs_topomap(0.5)\n",
    "# csd_raw.plot_psd_topo()"
   ],
   "outputs": [],
   "metadata": {}
  },
  {
   "cell_type": "code",
   "execution_count": 8,
   "source": [
    "mne.time_frequency.psd_array_welch(csd_evoked.data,sfreq=250,n_fft=128, verbose=False)"
   ],
   "outputs": [
    {
     "output_type": "execute_result",
     "data": {
      "text/plain": [
       "(array([[1.24309342e-07, 8.26078793e-07, 3.39110066e-07, 5.35063178e-08,\n",
       "         1.17952311e-07, 2.46217459e-07, 3.00177584e-07, 5.04849943e-07,\n",
       "         3.90926823e-07, 5.34668257e-07, 8.67768626e-07, 2.01021700e-06,\n",
       "         2.11110676e-06, 8.91081953e-07, 7.10363486e-07, 1.07566892e-06,\n",
       "         3.55143938e-07, 3.61076220e-07, 1.61156629e-06, 1.40996839e-06,\n",
       "         6.37870696e-07, 2.58778948e-07, 1.43733555e-07, 3.03685123e-07,\n",
       "         6.95751250e-07, 5.77883375e-07, 4.07471484e-07, 1.71110939e-07,\n",
       "         2.65331155e-07, 2.03428206e-07, 4.22579368e-08, 2.05655356e-07,\n",
       "         3.30099080e-07, 2.38476032e-07, 9.95563073e-08, 4.08693784e-07,\n",
       "         2.78008581e-07, 1.84972501e-07, 1.09893685e-07, 7.87986314e-08,\n",
       "         1.63169078e-07, 1.10414814e-07, 7.51406765e-08, 8.44445763e-08,\n",
       "         1.78613906e-07, 1.25492447e-07, 1.39228826e-07, 1.44067752e-07,\n",
       "         7.02319969e-08, 1.10004640e-07, 6.98142989e-08, 4.63530552e-08,\n",
       "         8.20529899e-08, 5.25639509e-08, 9.17240726e-08, 5.34558205e-08,\n",
       "         1.00942473e-08, 1.21601894e-08, 3.14639763e-08, 4.23286514e-08,\n",
       "         1.76835023e-08, 3.12600949e-08, 6.47529723e-08, 2.12781180e-08,\n",
       "         1.80458432e-08],\n",
       "        [3.51881818e-08, 7.23821770e-07, 2.15381729e-07, 3.16150353e-07,\n",
       "         2.92482053e-07, 5.93579618e-07, 5.32162446e-07, 2.80673311e-07,\n",
       "         2.16900752e-07, 2.77288477e-07, 1.12100287e-06, 4.30822487e-06,\n",
       "         4.35482743e-06, 2.01975430e-06, 7.22771879e-07, 3.90678715e-07,\n",
       "         4.11015151e-07, 1.06325889e-06, 4.16417056e-07, 4.74146345e-07,\n",
       "         5.16464288e-07, 2.78765360e-07, 2.86768982e-07, 6.65926894e-07,\n",
       "         8.53812633e-07, 6.85186607e-07, 1.97778972e-07, 3.47171439e-07,\n",
       "         3.02884041e-07, 4.02771137e-08, 2.55264229e-07, 3.06740007e-07,\n",
       "         1.03352008e-07, 1.42509300e-07, 2.03314622e-07, 5.33345165e-07,\n",
       "         1.95902053e-07, 1.27470784e-07, 1.79242478e-07, 7.48003238e-08,\n",
       "         2.79338985e-07, 3.19508700e-07, 1.60049931e-07, 1.71959643e-07,\n",
       "         1.77507942e-07, 1.68529293e-07, 1.67660658e-07, 1.80227370e-07,\n",
       "         6.68979138e-08, 5.20109367e-08, 6.89479091e-08, 1.64682402e-08,\n",
       "         5.06141399e-08, 4.03845475e-08, 2.05436926e-08, 2.35195691e-08,\n",
       "         9.49482063e-09, 2.14485491e-08, 3.48356228e-08, 4.23469862e-08,\n",
       "         7.79885155e-09, 8.00867297e-09, 1.85050970e-08, 9.25456505e-09,\n",
       "         5.08561624e-09],\n",
       "        [1.69162364e-07, 9.84403082e-07, 7.27850606e-07, 1.48466585e-07,\n",
       "         5.38869767e-08, 1.49083767e-07, 1.87497253e-07, 1.52325297e-07,\n",
       "         2.76530231e-07, 2.65546485e-07, 5.01506226e-07, 7.25863831e-07,\n",
       "         5.15904010e-07, 1.90657964e-07, 1.12169015e-07, 1.09007024e-07,\n",
       "         2.23995411e-07, 9.68435950e-08, 2.25352460e-07, 1.25571482e-07,\n",
       "         7.69951866e-08, 8.04553638e-08, 4.92472717e-08, 4.64513993e-08,\n",
       "         1.68171499e-07, 9.62256633e-08, 3.50929810e-08, 6.66399430e-09,\n",
       "         2.84049690e-08, 1.75262836e-08, 7.27599244e-08, 6.22817113e-08,\n",
       "         3.95824252e-08, 3.87737648e-08, 2.32799514e-08, 3.99345317e-08,\n",
       "         5.02310211e-08, 3.24537967e-08, 8.13547696e-09, 5.81436561e-09,\n",
       "         1.05701170e-08, 9.44669905e-09, 7.37852154e-09, 1.47227080e-08,\n",
       "         9.57252368e-09, 5.08656792e-09, 1.83215291e-09, 5.67675217e-09,\n",
       "         1.18556498e-08, 8.56019379e-09, 3.96773739e-09, 4.05777169e-09,\n",
       "         2.52905765e-09, 3.12237611e-09, 4.42242768e-09, 4.48683307e-09,\n",
       "         3.23227401e-09, 3.42220194e-09, 4.00991995e-09, 3.41722009e-09,\n",
       "         1.29205612e-09, 1.16594976e-09, 3.59343636e-09, 2.07509225e-09,\n",
       "         3.85122885e-10],\n",
       "        [5.78350203e-08, 2.17001614e-06, 7.51283726e-07, 2.84800708e-07,\n",
       "         2.65598586e-07, 1.29688817e-07, 9.85629513e-08, 6.75504812e-08,\n",
       "         1.85335044e-07, 2.17956087e-07, 4.57287089e-07, 1.91028718e-07,\n",
       "         4.18552896e-08, 1.64396811e-07, 8.07317216e-08, 1.73800151e-07,\n",
       "         2.53411239e-07, 1.28679365e-07, 6.47610051e-08, 1.14845179e-07,\n",
       "         1.48697058e-07, 1.04904533e-07, 1.36013826e-07, 8.38559472e-08,\n",
       "         2.17071216e-07, 2.86752288e-07, 2.45917265e-07, 1.39022345e-07,\n",
       "         6.13913001e-08, 4.02423349e-08, 4.46190480e-08, 5.77395571e-08,\n",
       "         5.09720662e-08, 3.62369527e-08, 8.19099385e-09, 3.27141490e-08,\n",
       "         1.04550886e-07, 1.03398096e-07, 2.56011874e-08, 1.63385775e-08,\n",
       "         4.69506128e-08, 5.58854601e-08, 2.75119618e-08, 4.65922272e-08,\n",
       "         6.09052400e-08, 3.25761581e-08, 1.13040141e-08, 6.12953600e-09,\n",
       "         8.12051117e-09, 3.99525795e-09, 1.08187583e-08, 6.58732555e-09,\n",
       "         1.25405000e-08, 2.95258923e-08, 2.22000625e-08, 1.61649365e-08,\n",
       "         8.42239792e-09, 1.15465204e-08, 1.20641095e-08, 4.79980063e-09,\n",
       "         4.11462296e-09, 6.77784321e-09, 1.19005949e-08, 6.32100030e-09,\n",
       "         1.27136726e-09],\n",
       "        [3.46438182e-08, 4.78631642e-07, 1.13078145e-07, 9.63959277e-08,\n",
       "         5.05447549e-08, 7.54760839e-08, 7.84387618e-08, 2.07320346e-07,\n",
       "         1.87998454e-07, 1.18393156e-07, 8.23675908e-08, 2.52499128e-07,\n",
       "         3.76554703e-07, 1.41478853e-07, 1.64863564e-07, 7.53490551e-08,\n",
       "         5.52825888e-08, 2.92147140e-08, 1.17293307e-07, 7.50696258e-08,\n",
       "         4.10313486e-08, 2.01165681e-08, 2.54842234e-08, 1.46449187e-07,\n",
       "         1.24888493e-07, 6.22457769e-08, 1.34956226e-08, 2.75547319e-08,\n",
       "         3.51833121e-08, 1.67814776e-08, 1.71514263e-08, 1.17199385e-08,\n",
       "         2.97726115e-08, 2.17570072e-08, 3.12266892e-08, 1.75173768e-08,\n",
       "         1.58295501e-08, 1.52671949e-08, 2.53240244e-08, 1.97452931e-08,\n",
       "         1.54760246e-08, 2.60551533e-08, 2.46023325e-08, 1.80832546e-08,\n",
       "         2.67516140e-08, 1.56989198e-08, 1.84935603e-08, 9.81219164e-09,\n",
       "         5.14122385e-09, 3.97114377e-09, 4.33954503e-09, 4.23709228e-09,\n",
       "         8.52663873e-09, 6.75240716e-09, 8.08361842e-09, 1.04889768e-08,\n",
       "         6.42958283e-09, 2.32608520e-09, 5.55677679e-09, 4.05506402e-09,\n",
       "         7.68432402e-10, 1.62843769e-09, 2.35684443e-09, 1.86612754e-09,\n",
       "         1.09941846e-09],\n",
       "        [3.38921651e-08, 3.73910818e-07, 1.60334984e-07, 1.08683782e-07,\n",
       "         6.30850993e-08, 5.63646492e-08, 1.96671338e-08, 3.78944702e-08,\n",
       "         3.94739520e-08, 8.01869426e-08, 8.22765032e-08, 3.69639513e-07,\n",
       "         3.46733911e-07, 3.51273870e-07, 1.84610944e-07, 1.31651237e-07,\n",
       "         1.08057739e-07, 7.48563618e-08, 1.27771520e-08, 3.84553355e-08,\n",
       "         4.02116174e-08, 1.12420699e-07, 5.07953500e-08, 8.43781154e-08,\n",
       "         4.48408071e-08, 2.08170530e-08, 4.56265453e-08, 6.82757064e-08,\n",
       "         6.11031867e-08, 1.61603217e-08, 2.13135242e-08, 4.14024663e-08,\n",
       "         6.38247507e-08, 6.48261852e-08, 4.02859513e-08, 2.92060085e-08,\n",
       "         1.68929996e-08, 2.60483620e-08, 1.00589433e-08, 2.36296843e-08,\n",
       "         1.19238056e-08, 8.75299935e-09, 7.38210387e-09, 5.17455332e-09,\n",
       "         1.57004081e-08, 7.47832372e-09, 4.59825994e-09, 9.30693356e-09,\n",
       "         9.78952154e-09, 1.09887563e-08, 1.28300741e-08, 8.50739169e-09,\n",
       "         1.05966096e-08, 1.88258574e-08, 9.19814083e-09, 3.39113507e-09,\n",
       "         3.14412871e-09, 7.64628769e-09, 7.51532329e-09, 2.00153876e-09,\n",
       "         1.55446471e-09, 5.45922454e-09, 1.89677873e-09, 1.78892090e-09,\n",
       "         2.32958013e-09],\n",
       "        [1.50267124e-07, 9.33967405e-07, 2.39702172e-07, 2.18326268e-07,\n",
       "         1.84820140e-07, 2.43710603e-08, 9.11914472e-08, 2.87570839e-07,\n",
       "         1.91018279e-07, 1.77656026e-07, 8.68565075e-08, 3.01632878e-07,\n",
       "         2.52493024e-07, 1.73950056e-07, 1.21682462e-07, 3.19271763e-08,\n",
       "         2.85611496e-08, 7.87949443e-08, 2.02050461e-07, 1.90251425e-07,\n",
       "         7.42883993e-08, 5.37824449e-08, 1.36586763e-08, 8.13113914e-08,\n",
       "         1.36156009e-07, 6.46913835e-08, 1.78690622e-08, 4.51472884e-08,\n",
       "         3.12166458e-08, 8.54251929e-09, 1.95274139e-08, 3.54484114e-08,\n",
       "         2.60768728e-08, 1.31493452e-08, 2.10555094e-08, 6.15414323e-08,\n",
       "         3.71529871e-08, 4.37656697e-08, 1.14867523e-08, 5.05930512e-09,\n",
       "         1.41574365e-08, 5.44494251e-09, 9.84874868e-09, 1.37690704e-08,\n",
       "         3.91875231e-09, 1.13898966e-08, 1.72445762e-09, 6.66086331e-09,\n",
       "         4.96124547e-09, 5.53121838e-09, 4.98493815e-09, 7.40432755e-10,\n",
       "         5.58068262e-09, 3.69138760e-09, 4.51264024e-09, 3.87578648e-09,\n",
       "         1.84954584e-09, 9.13137873e-10, 1.17121563e-09, 2.82019977e-09,\n",
       "         7.95656101e-10, 1.76445045e-09, 3.66306866e-09, 1.50433545e-09,\n",
       "         2.60822253e-10],\n",
       "        [3.98649396e-08, 4.55753386e-07, 2.11137191e-07, 1.54419626e-07,\n",
       "         9.84731031e-08, 1.40710595e-07, 9.52034848e-08, 7.15578078e-08,\n",
       "         1.68010315e-07, 1.36239746e-07, 1.29989194e-07, 8.77080285e-08,\n",
       "         1.08055003e-07, 5.13802160e-08, 3.10854022e-08, 1.66347347e-08,\n",
       "         6.52646046e-08, 3.46519511e-08, 1.19306922e-08, 5.70467176e-08,\n",
       "         1.14482644e-07, 8.07009308e-08, 9.11819806e-08, 1.17401962e-07,\n",
       "         1.55517046e-07, 9.16770659e-08, 4.76499306e-08, 6.96736124e-08,\n",
       "         5.72319148e-08, 2.30675541e-08, 7.69296101e-09, 9.78617629e-09,\n",
       "         1.02730550e-08, 1.28678546e-08, 2.11267676e-08, 4.23611431e-08,\n",
       "         2.92667473e-08, 3.64367857e-08, 3.88747820e-09, 7.79741410e-09,\n",
       "         3.98504533e-08, 3.13386276e-08, 7.48270877e-09, 1.31825996e-08,\n",
       "         1.16071921e-08, 1.37843443e-08, 9.57660986e-09, 3.19421672e-09,\n",
       "         3.66614054e-09, 3.09686885e-09, 4.76078341e-09, 1.05918952e-09,\n",
       "         2.01888010e-09, 7.19267997e-09, 7.02934065e-09, 6.64156337e-09,\n",
       "         3.64893414e-09, 3.05641006e-09, 3.10998986e-09, 8.18352169e-10,\n",
       "         1.22573842e-09, 3.47136942e-09, 4.24506405e-09, 2.36536036e-09,\n",
       "         9.03719877e-10],\n",
       "        [0.00000000e+00, 0.00000000e+00, 0.00000000e+00, 0.00000000e+00,\n",
       "         0.00000000e+00, 0.00000000e+00, 0.00000000e+00, 0.00000000e+00,\n",
       "         0.00000000e+00, 0.00000000e+00, 0.00000000e+00, 0.00000000e+00,\n",
       "         0.00000000e+00, 0.00000000e+00, 0.00000000e+00, 0.00000000e+00,\n",
       "         0.00000000e+00, 0.00000000e+00, 0.00000000e+00, 0.00000000e+00,\n",
       "         0.00000000e+00, 0.00000000e+00, 0.00000000e+00, 0.00000000e+00,\n",
       "         0.00000000e+00, 0.00000000e+00, 0.00000000e+00, 0.00000000e+00,\n",
       "         0.00000000e+00, 0.00000000e+00, 0.00000000e+00, 0.00000000e+00,\n",
       "         0.00000000e+00, 0.00000000e+00, 0.00000000e+00, 0.00000000e+00,\n",
       "         0.00000000e+00, 0.00000000e+00, 0.00000000e+00, 0.00000000e+00,\n",
       "         0.00000000e+00, 0.00000000e+00, 0.00000000e+00, 0.00000000e+00,\n",
       "         0.00000000e+00, 0.00000000e+00, 0.00000000e+00, 0.00000000e+00,\n",
       "         0.00000000e+00, 0.00000000e+00, 0.00000000e+00, 0.00000000e+00,\n",
       "         0.00000000e+00, 0.00000000e+00, 0.00000000e+00, 0.00000000e+00,\n",
       "         0.00000000e+00, 0.00000000e+00, 0.00000000e+00, 0.00000000e+00,\n",
       "         0.00000000e+00, 0.00000000e+00, 0.00000000e+00, 0.00000000e+00,\n",
       "         0.00000000e+00]]),\n",
       " array([  0.      ,   1.953125,   3.90625 ,   5.859375,   7.8125  ,\n",
       "          9.765625,  11.71875 ,  13.671875,  15.625   ,  17.578125,\n",
       "         19.53125 ,  21.484375,  23.4375  ,  25.390625,  27.34375 ,\n",
       "         29.296875,  31.25    ,  33.203125,  35.15625 ,  37.109375,\n",
       "         39.0625  ,  41.015625,  42.96875 ,  44.921875,  46.875   ,\n",
       "         48.828125,  50.78125 ,  52.734375,  54.6875  ,  56.640625,\n",
       "         58.59375 ,  60.546875,  62.5     ,  64.453125,  66.40625 ,\n",
       "         68.359375,  70.3125  ,  72.265625,  74.21875 ,  76.171875,\n",
       "         78.125   ,  80.078125,  82.03125 ,  83.984375,  85.9375  ,\n",
       "         87.890625,  89.84375 ,  91.796875,  93.75    ,  95.703125,\n",
       "         97.65625 ,  99.609375, 101.5625  , 103.515625, 105.46875 ,\n",
       "        107.421875, 109.375   , 111.328125, 113.28125 , 115.234375,\n",
       "        117.1875  , 119.140625, 121.09375 , 123.046875, 125.      ]))"
      ]
     },
     "metadata": {},
     "execution_count": 8
    }
   ],
   "metadata": {}
  },
  {
   "cell_type": "code",
   "execution_count": 9,
   "source": [
    "# # Extract features\n",
    "# events = np.array([int(event / 100) for event in epochs.events[:,2]])\n",
    "# Y = None\n",
    "# X = None\n",
    "# csp = mne.decoding.CSP(n_components=8, transform_into='csp_space', norm_trace=True)\n",
    "# data = csp.fit_transform(epochs.get_data()[:,:8,:], events)\n",
    "# print(data.shape)\n",
    "# for index, evoked in enumerate(epochs.iter_evoked()):\n",
    "#     # event = int(evoked.comment[0])\n",
    "#     # events.append(event)\n",
    "#     power,freq = mne.time_frequency.psd_array_welch(data[index],sfreq=250,n_fft=128, verbose=False)\n",
    "#     row = power\n",
    "#     row = np.expand_dims(row, axis=0)\n",
    "#     row = 10 * np.log10(row)\n",
    "#     if(type(X) == type(None)): X = row\n",
    "#     else: X = np.concatenate( [X, row ], axis=0 )\n",
    "\n",
    "#     label = gt.loc[33][['lh','le','lx','la','lc','lo']].to_numpy()\n",
    "#     label = np.expand_dims(label, axis=0)\n",
    "#     if(type(Y) == type(None)): Y = label\n",
    "#     else: Y = np.concatenate( [Y, label ], axis=0 )\n",
    "# print(events.shape, X.shape, Y.shape)"
   ],
   "outputs": [],
   "metadata": {}
  },
  {
   "cell_type": "code",
   "execution_count": 10,
   "source": [
    "# data = X.copy().reshape(50,-1)\n",
    "# # data\n",
    "# print(data.shape)\n",
    "# data_norm = normalize(data.copy(), axis=0)\n",
    "# mnb = GaussianNB()\n",
    "# mnb.fit(data_norm, events)\n",
    "# acc = sum(mnb.predict(data_norm) == events) / len(events)\n",
    "# scores = cross_val_score(mnb, data_norm, events)\n",
    "# print(acc, scores)"
   ],
   "outputs": [],
   "metadata": {}
  },
  {
   "cell_type": "code",
   "execution_count": 11,
   "source": [
    "# proj_data.shape"
   ],
   "outputs": [],
   "metadata": {}
  },
  {
   "cell_type": "code",
   "execution_count": null,
   "source": [],
   "outputs": [],
   "metadata": {}
  },
  {
   "cell_type": "code",
   "execution_count": null,
   "source": [],
   "outputs": [],
   "metadata": {}
  },
  {
   "cell_type": "code",
   "execution_count": 12,
   "source": [
    "band_names = np.array(['Delta', 'Theta', 'Alpha', 'Beta', 'Gamma'])\n",
    "filter_list = [[0,4],[4,8],[8,13],[13,30],[30,125]]\n",
    "def build_data(p_num, EEG,ids):\n",
    "    import warnings\n",
    "    import sys, os\n",
    "    warnings.filterwarnings(\"ignore\")\n",
    "    X = None\n",
    "    Y = None\n",
    "    t_start, t_stop = (2.0,4.0)\n",
    "    with tqdm(ids) as t:\n",
    "        for index, id in enumerate(t):\n",
    "            t.set_description(f\"{id}\")\n",
    "            print(f\"p_no={p_num}|index={index}|id={id}\")\n",
    "            raw = dataframe_to_raw(EEG[id], sfreq=250)\n",
    "            \n",
    "            # Preprocess\n",
    "            raw.notch_filter([50,100],filter_length='auto', phase='zero', verbose=False) # Line power\n",
    "            raw.filter(1., None, verbose=False) # Slow drift\n",
    "            # ica = mne.preprocessing.ICA(n_components=8, max_iter='auto')\n",
    "            # ica.fit(raw, verbose=False)\n",
    "            # raw = ica.apply(raw, verbose=False)\n",
    "\n",
    "            events = mne.find_events(raw, stim_channel='Marker', initial_event=True, verbose=False, uint_cast=False)\n",
    "            events = np.delete(events,np.argwhere(events[:,2] == 1), axis=0) # break\n",
    "            # Check data\n",
    "            if(events.shape[0] != 50):\n",
    "                raise ValueError(f\"Event missing: {events[:,2]}. len(events.shape[0])={events.shape[0]}\")\n",
    "            epochs = mne.Epochs(raw, events, tmin=t_start, tmax=t_stop, baseline=(t_start,t_stop), verbose=False)\n",
    "            if(epochs.get_data().shape[0] != 50):\n",
    "                raise ValueError(f\"There might be a bad data. epochs.get_data().shape = {epochs.get_data().shape}\")\n",
    "\n",
    "            # Extract features\n",
    "            # events = np.array([int(event / 100) for event in epochs.events[:,2]])\n",
    "            # csp = mne.decoding.CSP(n_components=3, transform_into='csp_space', norm_trace=True)\n",
    "            # data = csp.fit_transform(epochs.get_data()[:,:8,:], events)\n",
    "            for index_inner, evoked in enumerate(epochs.iter_evoked()):\n",
    "                sys.stdout = open(os.devnull, 'w')\n",
    "                evoked = mne.preprocessing.compute_current_source_density(evoked)\n",
    "                sys.stdout = sys.__stdout__\n",
    "                power,freq = mne.time_frequency.psd_array_welch(evoked.data,sfreq=250,n_fft=128, verbose=False)\n",
    "                row = power\n",
    "                row = np.expand_dims(row, axis=0)\n",
    "                # row = 10 * np.log10(row)\n",
    "                if(type(X) == type(None)): X = row\n",
    "                else: X = np.concatenate( [X, row ], axis=0 )\n",
    "\n",
    "                label = gt.loc[id][['lh','le','lx','la','lc','lo']].to_numpy()\n",
    "                label = np.expand_dims(label, axis=0)\n",
    "                if(type(Y) == type(None)): Y = label\n",
    "                else: Y = np.concatenate( [Y, label ], axis=0 )\n",
    "\n",
    "    print(f\"{p_num} done| {ids}\")\n",
    "    return np.array(X),np.array(Y),freq\n",
    "\n",
    "def get_accuracy(X,y):\n",
    "    result = []\n",
    "    traits = [\"h\",\"e\",\"x\",\"a\",\"c\",\"o\"]\n",
    "    for index,label in enumerate(traits):\n",
    "        y = Y[:,index]\n",
    "        X_copy = X.copy()\n",
    "        X_copy = normalize(X_copy,axis=0)\n",
    "        mnb = GaussianNB()\n",
    "        mnb.fit(X_copy, y)\n",
    "        acc = sum(mnb.predict(X_copy) == y) / len(y)\n",
    "        scores = cross_val_score(mnb, X_copy, y)\n",
    "        result.append([acc,scores.mean(),scores.std()])\n",
    "        print(label,\"| Accuracy: %0.2f Scores: %0.2f (+/- %0.2f)\" % (acc,scores.mean(), scores.std() * 2))\n",
    "    return result"
   ],
   "outputs": [],
   "metadata": {}
  },
  {
   "cell_type": "code",
   "execution_count": 13,
   "source": [
    "try:\n",
    "    # [33,2,10,12,16]\n",
    "    t_out = 300\n",
    "    pool = Pool()\n",
    "    ids = np.array(list(EEG_image.keys()))\n",
    "    p1 = pool.apply_async(build_data, [1,EEG_image,ids[0::6]])\n",
    "    p2 = pool.apply_async(build_data, [2,EEG_image,ids[1::6]])\n",
    "    p3 = pool.apply_async(build_data, [3,EEG_image,ids[2::6]])\n",
    "    p4 = pool.apply_async(build_data, [4,EEG_image,ids[3::6]])\n",
    "    p5 = pool.apply_async(build_data, [5,EEG_image,ids[4::6]])\n",
    "    p6 = pool.apply_async(build_data, [6,EEG_image,ids[5::6]])\n",
    "    ans1 = p1.get(timeout=t_out)\n",
    "    ans2 = p2.get(timeout=t_out)\n",
    "    ans3 = p3.get(timeout=t_out)\n",
    "    ans4 = p4.get(timeout=t_out)\n",
    "    ans5 = p5.get(timeout=t_out)\n",
    "    ans6 = p6.get(timeout=t_out)\n",
    "    X = np.concatenate([ans1[0] , ans2[0], ans3[0], ans4[0] ,ans5[0], ans6[0]])\n",
    "    Y = np.concatenate([ans1[1] , ans2[1], ans3[1], ans4[1] ,ans5[1], ans6[1]])\n",
    "    freq = ans1[2]\n",
    "    print(X.shape, Y.shape)\n",
    "finally:\n",
    "    print(\"========= close ========\")\n",
    "    pool.close() \n",
    "    pool.terminate()"
   ],
   "outputs": [
    {
     "output_type": "stream",
     "name": "stdout",
     "text": [
      "p_no=1|index=0|id=10\n"
     ]
    },
    {
     "output_type": "stream",
     "name": "stdout",
     "text": [
      "p_no=2|index=0|id=12\n"
     ]
    },
    {
     "output_type": "stream",
     "name": "stdout",
     "text": [
      "p_no=3|index=0|id=13\n"
     ]
    },
    {
     "output_type": "stream",
     "name": "stdout",
     "text": [
      "p_no=4|index=0|id=14\n"
     ]
    },
    {
     "output_type": "stream",
     "name": "stdout",
     "text": [
      "p_no=5|index=0|id=15\n"
     ]
    },
    {
     "output_type": "stream",
     "name": "stdout",
     "text": [
      "p_no=6|index=0|id=16\n"
     ]
    },
    {
     "output_type": "stream",
     "name": "stdout",
     "text": [
      "p_no=1|index=1|id=17\n"
     ]
    },
    {
     "output_type": "stream",
     "name": "stdout",
     "text": [
      "p_no=3|index=1|id=2\n"
     ]
    },
    {
     "output_type": "stream",
     "name": "stdout",
     "text": [
      "p_no=2|index=1|id=18\n"
     ]
    },
    {
     "output_type": "stream",
     "name": "stdout",
     "text": [
      "p_no=4|index=1|id=20\n"
     ]
    },
    {
     "output_type": "stream",
     "name": "stdout",
     "text": [
      "p_no=5|index=1|id=21\n"
     ]
    },
    {
     "output_type": "stream",
     "name": "stdout",
     "text": [
      "p_no=6|index=1|id=22\n"
     ]
    },
    {
     "output_type": "stream",
     "name": "stdout",
     "text": [
      "p_no=3|index=2|id=26\n"
     ]
    },
    {
     "output_type": "stream",
     "name": "stdout",
     "text": [
      "p_no=1|index=2|id=23\n"
     ]
    },
    {
     "output_type": "stream",
     "name": "stdout",
     "text": [
      "p_no=2|index=2|id=25\n"
     ]
    },
    {
     "output_type": "stream",
     "name": "stdout",
     "text": [
      "p_no=5|index=2|id=28\n"
     ]
    },
    {
     "output_type": "stream",
     "name": "stdout",
     "text": [
      "p_no=4|index=2|id=27\n"
     ]
    },
    {
     "output_type": "stream",
     "name": "stdout",
     "text": [
      "p_no=6|index=2|id=29\n"
     ]
    },
    {
     "output_type": "stream",
     "name": "stdout",
     "text": [
      "p_no=1|index=3|id=3\n"
     ]
    },
    {
     "output_type": "stream",
     "name": "stdout",
     "text": [
      "p_no=3|index=3|id=31\n"
     ]
    },
    {
     "output_type": "stream",
     "name": "stdout",
     "text": [
      "p_no=2|index=3|id=30\n"
     ]
    },
    {
     "output_type": "stream",
     "name": "stdout",
     "text": [
      "p_no=5|index=3|id=33\n",
      "p_no=4|index=3|id=32\n"
     ]
    },
    {
     "output_type": "stream",
     "name": "stdout",
     "text": [
      "p_no=6|index=3|id=34\n"
     ]
    },
    {
     "output_type": "stream",
     "name": "stdout",
     "text": [
      "p_no=1|index=4|id=35\n"
     ]
    },
    {
     "output_type": "stream",
     "name": "stdout",
     "text": [
      "p_no=3|index=4|id=6\n"
     ]
    },
    {
     "output_type": "stream",
     "name": "stdout",
     "text": [
      "p_no=2|index=4|id=5\n"
     ]
    },
    {
     "output_type": "stream",
     "name": "stdout",
     "text": [
      "p_no=4|index=4|id=7\n"
     ]
    },
    {
     "output_type": "stream",
     "name": "stdout",
     "text": [
      "p_no=6|index=4|id=9\n"
     ]
    },
    {
     "output_type": "stream",
     "name": "stdout",
     "text": [
      "p_no=5|index=4|id=8\n"
     ]
    },
    {
     "output_type": "stream",
     "name": "stdout",
     "text": [
      "1 done| [10 17 23  3 35]\n"
     ]
    },
    {
     "output_type": "stream",
     "name": "stdout",
     "text": [
      "3 done| [13  2 26 31  6]\n"
     ]
    },
    {
     "output_type": "stream",
     "name": "stdout",
     "text": [
      "2 done| [12 18 25 30  5]\n"
     ]
    },
    {
     "output_type": "stream",
     "name": "stdout",
     "text": [
      "4 done| [14 20 27 32  7]\n"
     ]
    },
    {
     "output_type": "stream",
     "name": "stdout",
     "text": [
      "5 done| [15 21 28 33  8]\n"
     ]
    }
   ],
   "metadata": {
    "tags": []
   }
  },
  {
   "cell_type": "code",
   "execution_count": 14,
   "source": [
    "X,Y = shuffle(X,Y)\n",
    "bands = []\n",
    "for filt in filter_list:\n",
    "    pt = np.argwhere((freq >= filt[0]) & (freq <= filt[1])).reshape(-1)\n",
    "    bands.append(pt)\n",
    "bands = np.array(bands)\n",
    "\n",
    "result_image = []\n",
    "best_image = 0\n",
    "best_image_idx = -1\n",
    "best_image_comb = None\n",
    "for r in [1,2,3,4,5]:\n",
    "    print(\"=\"*20,f\"Number {r}\",\"=\"*20)\n",
    "    for comb in combinations([0,1,2,3,4],r):\n",
    "        print(\" \",band_names[list(comb)])\n",
    "        selected_x = None\n",
    "        # print(bands[ list(comb) ])\n",
    "        for pt in bands[ list(comb) ]:\n",
    "            # print(pt)\n",
    "            if(type(selected_x) == type(None)): selected_x = X[:,:,pt].mean(axis=2)\n",
    "            else:\n",
    "                selected_x = np.concatenate([selected_x, X[:,:,pt].mean(axis=2)], axis=1)\n",
    "        # print(selected_x.shape)\n",
    "        # pts = np.concatenate( bands[ list(comb) ] )\n",
    "        result = np.array(get_accuracy(selected_x,Y))\n",
    "        print(\" Averag accuracy:\", result[:,0].mean(), \"Average Score:\", result[:,1].mean(), \"Average Variance:\", result[:,2].mean())\n",
    "        result_image.append(result)\n",
    "        if(result[:,1].mean() > best_image):\n",
    "            best_image = result[:,1].mean()\n",
    "            best_image_idx = len(result_image)-1\n",
    "            best_image_comb = band_names[ list(comb) ]\n",
    "\n",
    "print(f\"Best Score is {best_image} at index {best_image_idx} with combination {best_image_comb}\")"
   ],
   "outputs": [
    {
     "output_type": "stream",
     "name": "stdout",
     "text": [
      "6 done| [16 22 29 34  9]\n",
      "(1500, 9, 65) (1500, 6)\n",
      "========= close ========\n",
      "==================== Number 1 ====================\n",
      "  ['Delta']\n"
     ]
    },
    {
     "output_type": "stream",
     "name": "stdout",
     "text": [
      "h | Accuracy: 0.50 Scores: 0.50 (+/- 0.01)\n",
      "e | Accuracy: 0.61 Scores: 0.61 (+/- 0.02)\n",
      "x | Accuracy: 0.55 Scores: 0.55 (+/- 0.02)\n",
      "a | Accuracy: 0.52 Scores: 0.52 (+/- 0.01)\n",
      "c | Accuracy: 0.59 Scores: 0.59 (+/- 0.02)\n",
      "o | Accuracy: 0.51 Scores: 0.51 (+/- 0.02)\n",
      " Averag accuracy: 0.5458888888888889 Average Score: 0.5464444444444444 Average Variance: 0.008051767433066884\n",
      "  ['Theta']\n",
      "h | Accuracy: 0.51 Scores: 0.51 (+/- 0.02)\n",
      "e | Accuracy: 0.61 Scores: 0.60 (+/- 0.02)\n",
      "x | Accuracy: 0.55 Scores: 0.55 (+/- 0.01)\n",
      "a | Accuracy: 0.52 Scores: 0.52 (+/- 0.01)\n",
      "c | Accuracy: 0.60 Scores: 0.60 (+/- 0.01)\n",
      "o | Accuracy: 0.51 Scores: 0.51 (+/- 0.02)\n",
      " Averag accuracy: 0.5487777777777777 Average Score: 0.5485555555555556 Average Variance: 0.007554989940079912\n",
      "  ['Alpha']\n",
      "h | Accuracy: 0.52 Scores: 0.51 (+/- 0.02)\n",
      "e | Accuracy: 0.61 Scores: 0.61 (+/- 0.01)\n",
      "x | Accuracy: 0.57 Scores: 0.57 (+/- 0.01)\n",
      "a | Accuracy: 0.53 Scores: 0.53 (+/- 0.02)\n",
      "c | Accuracy: 0.60 Scores: 0.61 (+/- 0.03)\n"
     ]
    },
    {
     "output_type": "stream",
     "name": "stdout",
     "text": [
      "o | Accuracy: 0.50 Scores: 0.50 (+/- 0.02)\n",
      " Averag accuracy: 0.5543333333333333 Average Score: 0.5547777777777777 Average Variance: 0.009058569172302895\n",
      "  ['Beta']\n",
      "h | Accuracy: 0.54 Scores: 0.53 (+/- 0.02)\n",
      "e | Accuracy: 0.61 Scores: 0.60 (+/- 0.05)\n",
      "x | Accuracy: 0.54 Scores: 0.53 (+/- 0.03)\n",
      "a | Accuracy: 0.56 Scores: 0.57 (+/- 0.02)\n",
      "c | Accuracy: 0.65 Scores: 0.66 (+/- 0.06)\n",
      "o | Accuracy: 0.50 Scores: 0.49 (+/- 0.02)\n",
      " Averag accuracy: 0.5653333333333334 Average Score: 0.5634444444444445 Average Variance: 0.016148162706692504\n",
      "  ['Gamma']\n",
      "h | Accuracy: 0.51 Scores: 0.52 (+/- 0.02)\n",
      "e | Accuracy: 0.61 Scores: 0.60 (+/- 0.01)\n",
      "x | Accuracy: 0.54 Scores: 0.54 (+/- 0.01)\n",
      "a | Accuracy: 0.52 Scores: 0.52 (+/- 0.02)\n",
      "c | Accuracy: 0.60 Scores: 0.61 (+/- 0.05)\n",
      "o | Accuracy: 0.51 Scores: 0.51 (+/- 0.01)\n",
      " Averag accuracy: 0.5475555555555556 Average Score: 0.5486666666666666 Average Variance: 0.008950171802644612\n",
      "==================== Number 2 ====================\n",
      "  ['Delta' 'Theta']\n",
      "h | Accuracy: 0.50 Scores: 0.50 (+/- 0.02)\n",
      "e | Accuracy: 0.61 Scores: 0.61 (+/- 0.02)\n",
      "x | Accuracy: 0.55 Scores: 0.55 (+/- 0.02)\n"
     ]
    },
    {
     "output_type": "stream",
     "name": "stdout",
     "text": [
      "a | Accuracy: 0.52 Scores: 0.52 (+/- 0.01)\n",
      "c | Accuracy: 0.60 Scores: 0.60 (+/- 0.01)\n",
      "o | Accuracy: 0.51 Scores: 0.51 (+/- 0.02)\n",
      " Averag accuracy: 0.5491111111111111 Average Score: 0.5484444444444445 Average Variance: 0.008440025264776269\n",
      "  ['Delta' 'Alpha']\n",
      "h | Accuracy: 0.51 Scores: 0.51 (+/- 0.01)\n",
      "e | Accuracy: 0.61 Scores: 0.61 (+/- 0.02)\n",
      "x | Accuracy: 0.56 Scores: 0.56 (+/- 0.02)\n",
      "a | Accuracy: 0.53 Scores: 0.53 (+/- 0.01)\n",
      "c | Accuracy: 0.60 Scores: 0.60 (+/- 0.02)\n",
      "o | Accuracy: 0.51 Scores: 0.51 (+/- 0.02)\n",
      " Averag accuracy: 0.5521111111111111 Average Score: 0.5526666666666666 Average Variance: 0.008636315074300165\n",
      "  ['Delta' 'Beta']\n",
      "h | Accuracy: 0.53 Scores: 0.53 (+/- 0.01)\n",
      "e | Accuracy: 0.61 Scores: 0.61 (+/- 0.02)\n",
      "x | Accuracy: 0.55 Scores: 0.55 (+/- 0.01)\n",
      "a | Accuracy: 0.56 Scores: 0.56 (+/- 0.02)\n",
      "c | Accuracy: 0.63 Scores: 0.64 (+/- 0.04)\n",
      "o | Accuracy: 0.51 Scores: 0.51 (+/- 0.02)\n",
      " Averag accuracy: 0.5634444444444445 Average Score: 0.5642222222222223 Average Variance: 0.01041912992123598\n",
      "  ['Delta' 'Gamma']\n",
      "h | Accuracy: 0.51 Scores: 0.51 (+/- 0.02)\n",
      "e | Accuracy: 0.61 Scores: 0.61 (+/- 0.02)\n"
     ]
    },
    {
     "output_type": "stream",
     "name": "stdout",
     "text": [
      "x | Accuracy: 0.55 Scores: 0.55 (+/- 0.01)\n",
      "a | Accuracy: 0.53 Scores: 0.53 (+/- 0.02)\n",
      "c | Accuracy: 0.61 Scores: 0.61 (+/- 0.04)\n",
      "o | Accuracy: 0.51 Scores: 0.51 (+/- 0.02)\n",
      " Averag accuracy: 0.5529999999999999 Average Score: 0.5538888888888889 Average Variance: 0.011110359524750148\n",
      "  ['Theta' 'Alpha']\n",
      "h | Accuracy: 0.51 Scores: 0.51 (+/- 0.01)\n",
      "e | Accuracy: 0.61 Scores: 0.60 (+/- 0.02)\n",
      "x | Accuracy: 0.56 Scores: 0.57 (+/- 0.01)\n",
      "a | Accuracy: 0.52 Scores: 0.52 (+/- 0.01)\n",
      "c | Accuracy: 0.60 Scores: 0.60 (+/- 0.02)\n",
      "o | Accuracy: 0.51 Scores: 0.50 (+/- 0.02)\n",
      " Averag accuracy: 0.5517777777777777 Average Score: 0.5514444444444445 Average Variance: 0.007633064354793451\n",
      "  ['Theta' 'Beta']\n",
      "h | Accuracy: 0.53 Scores: 0.53 (+/- 0.03)\n",
      "e | Accuracy: 0.61 Scores: 0.61 (+/- 0.02)\n",
      "x | Accuracy: 0.56 Scores: 0.56 (+/- 0.02)\n",
      "a | Accuracy: 0.55 Scores: 0.55 (+/- 0.02)\n"
     ]
    },
    {
     "output_type": "stream",
     "name": "stdout",
     "text": [
      "c | Accuracy: 0.64 Scores: 0.65 (+/- 0.04)\n",
      "o | Accuracy: 0.50 Scores: 0.50 (+/- 0.02)\n",
      " Averag accuracy: 0.5653333333333334 Average Score: 0.5656666666666667 Average Variance: 0.011840563248524347\n",
      "  ['Theta' 'Gamma']\n",
      "h | Accuracy: 0.52 Scores: 0.51 (+/- 0.02)\n",
      "e | Accuracy: 0.61 Scores: 0.61 (+/- 0.02)\n",
      "x | Accuracy: 0.56 Scores: 0.56 (+/- 0.02)\n",
      "a | Accuracy: 0.52 Scores: 0.52 (+/- 0.02)\n",
      "c | Accuracy: 0.61 Scores: 0.62 (+/- 0.04)\n",
      "o | Accuracy: 0.51 Scores: 0.51 (+/- 0.02)\n",
      " Averag accuracy: 0.5553333333333333 Average Score: 0.5556666666666666 Average Variance: 0.010494717401534825\n",
      "  ['Alpha' 'Beta']\n",
      "h | Accuracy: 0.53 Scores: 0.53 (+/- 0.03)\n",
      "e | Accuracy: 0.61 Scores: 0.61 (+/- 0.01)\n",
      "x | Accuracy: 0.56 Scores: 0.57 (+/- 0.02)\n",
      "a | Accuracy: 0.55 Scores: 0.55 (+/- 0.03)\n",
      "c | Accuracy: 0.64 Scores: 0.65 (+/- 0.05)\n",
      "o | Accuracy: 0.50 Scores: 0.50 (+/- 0.02)\n",
      " Averag accuracy: 0.5666666666666668 Average Score: 0.5682222222222222 Average Variance: 0.012962780862933265\n",
      "  ['Alpha' 'Gamma']\n",
      "h | Accuracy: 0.52 Scores: 0.52 (+/- 0.01)\n"
     ]
    },
    {
     "output_type": "stream",
     "name": "stdout",
     "text": [
      "e | Accuracy: 0.61 Scores: 0.61 (+/- 0.01)\n",
      "x | Accuracy: 0.57 Scores: 0.57 (+/- 0.02)\n",
      "a | Accuracy: 0.53 Scores: 0.53 (+/- 0.02)\n",
      "c | Accuracy: 0.61 Scores: 0.62 (+/- 0.05)\n",
      "o | Accuracy: 0.51 Scores: 0.51 (+/- 0.02)\n",
      " Averag accuracy: 0.559 Average Score: 0.5601111111111111 Average Variance: 0.010980792780433152\n",
      "  ['Beta' 'Gamma']\n",
      "h | Accuracy: 0.54 Scores: 0.54 (+/- 0.03)\n",
      "e | Accuracy: 0.61 Scores: 0.61 (+/- 0.01)\n",
      "x | Accuracy: 0.54 Scores: 0.54 (+/- 0.01)\n",
      "a | Accuracy: 0.54 Scores: 0.54 (+/- 0.02)\n",
      "c | Accuracy: 0.63 Scores: 0.64 (+/- 0.04)\n",
      "o | Accuracy: 0.51 Scores: 0.51 (+/- 0.01)\n",
      " Averag accuracy: 0.5611111111111111 Average Score: 0.5624444444444444 Average Variance: 0.010727642664959493\n",
      "==================== Number 3 ====================\n",
      "  ['Delta' 'Theta' 'Alpha']\n",
      "h | Accuracy: 0.51 Scores: 0.51 (+/- 0.01)\n",
      "e | Accuracy: 0.61 Scores: 0.61 (+/- 0.02)\n",
      "x | Accuracy: 0.56 Scores: 0.56 (+/- 0.01)\n",
      "a | Accuracy: 0.52 Scores: 0.52 (+/- 0.01)\n",
      "c | Accuracy: 0.60 Scores: 0.60 (+/- 0.01)\n"
     ]
    },
    {
     "output_type": "stream",
     "name": "stdout",
     "text": [
      "o | Accuracy: 0.51 Scores: 0.51 (+/- 0.02)\n",
      " Averag accuracy: 0.5516666666666666 Average Score: 0.5511111111111111 Average Variance: 0.007248143954694461\n",
      "  ['Delta' 'Theta' 'Beta']\n",
      "h | Accuracy: 0.52 Scores: 0.52 (+/- 0.03)\n",
      "e | Accuracy: 0.61 Scores: 0.61 (+/- 0.02)\n",
      "x | Accuracy: 0.56 Scores: 0.56 (+/- 0.02)\n",
      "a | Accuracy: 0.55 Scores: 0.55 (+/- 0.03)\n",
      "c | Accuracy: 0.63 Scores: 0.63 (+/- 0.03)\n",
      "o | Accuracy: 0.51 Scores: 0.51 (+/- 0.02)\n",
      " Averag accuracy: 0.5619999999999999 Average Score: 0.5615555555555555 Average Variance: 0.011714451999253098\n",
      "  ['Delta' 'Theta' 'Gamma']\n",
      "h | Accuracy: 0.51 Scores: 0.51 (+/- 0.02)\n",
      "e | Accuracy: 0.61 Scores: 0.61 (+/- 0.02)\n",
      "x | Accuracy: 0.56 Scores: 0.56 (+/- 0.02)\n",
      "a | Accuracy: 0.52 Scores: 0.52 (+/- 0.01)\n",
      "c | Accuracy: 0.61 Scores: 0.62 (+/- 0.04)\n",
      "o | Accuracy: 0.51 Scores: 0.51 (+/- 0.02)\n",
      " Averag accuracy: 0.5535555555555556 Average Score: 0.5552222222222222 Average Variance: 0.010823998016008257\n",
      "  ['Delta' 'Alpha' 'Beta']\n",
      "h | Accuracy: 0.52 Scores: 0.52 (+/- 0.03)\n",
      "e | Accuracy: 0.61 Scores: 0.61 (+/- 0.02)\n",
      "x | Accuracy: 0.56 Scores: 0.56 (+/- 0.01)\n"
     ]
    },
    {
     "output_type": "stream",
     "name": "stdout",
     "text": [
      "a | Accuracy: 0.55 Scores: 0.55 (+/- 0.02)\n",
      "c | Accuracy: 0.63 Scores: 0.64 (+/- 0.04)\n",
      "o | Accuracy: 0.51 Scores: 0.51 (+/- 0.02)\n",
      " Averag accuracy: 0.5630000000000001 Average Score: 0.5644444444444444 Average Variance: 0.012091536656368128\n",
      "  ['Delta' 'Alpha' 'Gamma']\n",
      "h | Accuracy: 0.52 Scores: 0.52 (+/- 0.01)\n",
      "e | Accuracy: 0.61 Scores: 0.61 (+/- 0.02)\n",
      "x | Accuracy: 0.56 Scores: 0.56 (+/- 0.02)\n",
      "a | Accuracy: 0.53 Scores: 0.53 (+/- 0.01)\n",
      "c | Accuracy: 0.61 Scores: 0.62 (+/- 0.05)\n",
      "o | Accuracy: 0.52 Scores: 0.51 (+/- 0.01)\n",
      " Averag accuracy: 0.5576666666666666 Average Score: 0.5594444444444444 Average Variance: 0.010394060364597014\n",
      "  ['Delta' 'Beta' 'Gamma']\n",
      "h | Accuracy: 0.53 Scores: 0.53 (+/- 0.03)\n",
      "e | Accuracy: 0.61 Scores: 0.61 (+/- 0.02)\n",
      "x | Accuracy: 0.55 Scores: 0.55 (+/- 0.01)\n",
      "a | Accuracy: 0.55 Scores: 0.55 (+/- 0.02)\n",
      "c | Accuracy: 0.63 Scores: 0.63 (+/- 0.03)\n"
     ]
    },
    {
     "output_type": "stream",
     "name": "stdout",
     "text": [
      "o | Accuracy: 0.52 Scores: 0.52 (+/- 0.02)\n",
      " Averag accuracy: 0.5642222222222223 Average Score: 0.5653333333333334 Average Variance: 0.01081942916682596\n",
      "  ['Theta' 'Alpha' 'Beta']\n",
      "h | Accuracy: 0.53 Scores: 0.53 (+/- 0.03)\n",
      "e | Accuracy: 0.61 Scores: 0.61 (+/- 0.02)\n",
      "x | Accuracy: 0.56 Scores: 0.56 (+/- 0.01)\n",
      "a | Accuracy: 0.54 Scores: 0.54 (+/- 0.02)\n",
      "c | Accuracy: 0.63 Scores: 0.64 (+/- 0.04)\n",
      "o | Accuracy: 0.51 Scores: 0.51 (+/- 0.02)\n",
      " Averag accuracy: 0.5635555555555555 Average Score: 0.5637777777777777 Average Variance: 0.01236823856455442\n",
      "  ['Theta' 'Alpha' 'Gamma']\n",
      "h | Accuracy: 0.52 Scores: 0.52 (+/- 0.01)\n",
      "e | Accuracy: 0.61 Scores: 0.61 (+/- 0.02)\n",
      "x | Accuracy: 0.56 Scores: 0.56 (+/- 0.01)\n",
      "a | Accuracy: 0.53 Scores: 0.53 (+/- 0.01)\n",
      "c | Accuracy: 0.61 Scores: 0.62 (+/- 0.04)\n",
      "o | Accuracy: 0.51 Scores: 0.51 (+/- 0.02)\n",
      " Averag accuracy: 0.5569999999999999 Average Score: 0.5586666666666666 Average Variance: 0.009027314537115472\n",
      "  ['Theta' 'Beta' 'Gamma']\n",
      "h | Accuracy: 0.53 Scores: 0.53 (+/- 0.03)\n",
      "e | Accuracy: 0.61 Scores: 0.61 (+/- 0.02)\n",
      "x | Accuracy: 0.56 Scores: 0.56 (+/- 0.02)\n"
     ]
    },
    {
     "output_type": "stream",
     "name": "stdout",
     "text": [
      "a | Accuracy: 0.54 Scores: 0.54 (+/- 0.02)\n",
      "c | Accuracy: 0.64 Scores: 0.64 (+/- 0.03)\n",
      "o | Accuracy: 0.51 Scores: 0.51 (+/- 0.02)\n",
      " Averag accuracy: 0.5655555555555556 Average Score: 0.5664444444444445 Average Variance: 0.011161389263919358\n",
      "  ['Alpha' 'Beta' 'Gamma']\n",
      "h | Accuracy: 0.54 Scores: 0.54 (+/- 0.03)\n",
      "e | Accuracy: 0.61 Scores: 0.61 (+/- 0.01)\n",
      "x | Accuracy: 0.56 Scores: 0.56 (+/- 0.01)\n",
      "a | Accuracy: 0.54 Scores: 0.54 (+/- 0.02)\n",
      "c | Accuracy: 0.63 Scores: 0.63 (+/- 0.04)\n",
      "o | Accuracy: 0.51 Scores: 0.51 (+/- 0.02)\n",
      " Averag accuracy: 0.5653333333333334 Average Score: 0.5675555555555555 Average Variance: 0.011214521759258293\n",
      "==================== Number 4 ====================\n",
      "  ['Delta' 'Theta' 'Alpha' 'Beta']\n",
      "h | Accuracy: 0.52 Scores: 0.52 (+/- 0.03)\n",
      "e | Accuracy: 0.61 Scores: 0.61 (+/- 0.02)\n",
      "x | Accuracy: 0.56 Scores: 0.56 (+/- 0.02)\n",
      "a | Accuracy: 0.54 Scores: 0.54 (+/- 0.02)\n",
      "c | Accuracy: 0.63 Scores: 0.63 (+/- 0.04)\n",
      "o | Accuracy: 0.51 Scores: 0.51 (+/- 0.02)\n",
      " Averag accuracy: 0.5614444444444444 Average Score: 0.5615555555555556 Average Variance: 0.011333897446511072\n",
      "  ['Delta' 'Theta' 'Alpha' 'Gamma']\n"
     ]
    },
    {
     "output_type": "stream",
     "name": "stdout",
     "text": [
      "h | Accuracy: 0.52 Scores: 0.52 (+/- 0.01)\n",
      "e | Accuracy: 0.61 Scores: 0.61 (+/- 0.02)\n",
      "x | Accuracy: 0.56 Scores: 0.56 (+/- 0.02)\n",
      "a | Accuracy: 0.53 Scores: 0.53 (+/- 0.01)\n",
      "c | Accuracy: 0.61 Scores: 0.61 (+/- 0.03)\n",
      "o | Accuracy: 0.51 Scores: 0.51 (+/- 0.01)\n",
      " Averag accuracy: 0.5564444444444444 Average Score: 0.5561111111111111 Average Variance: 0.00899292271389409\n",
      "  ['Delta' 'Theta' 'Beta' 'Gamma']\n",
      "h | Accuracy: 0.53 Scores: 0.52 (+/- 0.03)\n",
      "e | Accuracy: 0.61 Scores: 0.61 (+/- 0.02)\n",
      "x | Accuracy: 0.56 Scores: 0.56 (+/- 0.02)\n",
      "a | Accuracy: 0.54 Scores: 0.54 (+/- 0.02)\n",
      "c | Accuracy: 0.63 Scores: 0.64 (+/- 0.03)\n",
      "o | Accuracy: 0.51 Scores: 0.51 (+/- 0.02)\n",
      " Averag accuracy: 0.564 Average Score: 0.5640000000000001 Average Variance: 0.011235108608788597\n",
      "  ['Delta' 'Alpha' 'Beta' 'Gamma']\n",
      "h | Accuracy: 0.53 Scores: 0.53 (+/- 0.02)\n",
      "e | Accuracy: 0.61 Scores: 0.61 (+/- 0.02)\n"
     ]
    },
    {
     "output_type": "stream",
     "name": "stdout",
     "text": [
      "x | Accuracy: 0.56 Scores: 0.56 (+/- 0.01)\n",
      "a | Accuracy: 0.54 Scores: 0.55 (+/- 0.02)\n",
      "c | Accuracy: 0.63 Scores: 0.63 (+/- 0.04)\n",
      "o | Accuracy: 0.51 Scores: 0.52 (+/- 0.01)\n",
      " Averag accuracy: 0.5652222222222222 Average Score: 0.5669999999999998 Average Variance: 0.010578662938562916\n",
      "  ['Theta' 'Alpha' 'Beta' 'Gamma']\n",
      "h | Accuracy: 0.53 Scores: 0.53 (+/- 0.02)\n",
      "e | Accuracy: 0.61 Scores: 0.61 (+/- 0.02)\n",
      "x | Accuracy: 0.56 Scores: 0.56 (+/- 0.02)\n",
      "a | Accuracy: 0.54 Scores: 0.55 (+/- 0.02)\n",
      "c | Accuracy: 0.63 Scores: 0.63 (+/- 0.03)\n",
      "o | Accuracy: 0.51 Scores: 0.51 (+/- 0.01)\n",
      " Averag accuracy: 0.5648888888888889 Average Score: 0.5660000000000001 Average Variance: 0.010354707813235444\n",
      "==================== Number 5 ====================\n",
      "  ['Delta' 'Theta' 'Alpha' 'Beta' 'Gamma']\n",
      "h | Accuracy: 0.52 Scores: 0.53 (+/- 0.02)\n",
      "e | Accuracy: 0.61 Scores: 0.61 (+/- 0.02)\n",
      "x | Accuracy: 0.56 Scores: 0.56 (+/- 0.02)\n",
      "a | Accuracy: 0.54 Scores: 0.54 (+/- 0.02)\n"
     ]
    }
   ],
   "metadata": {}
  },
  {
   "cell_type": "code",
   "execution_count": 15,
   "source": [
    "try:\n",
    "    # [33,2,10,12,16]\n",
    "    t_out = 300\n",
    "    pool = Pool()\n",
    "    ids = np.array(list(EEG_audio.keys()))\n",
    "    p1 = pool.apply_async(build_data, [1,EEG_audio,ids[0::6]])\n",
    "    p2 = pool.apply_async(build_data, [2,EEG_audio,ids[1::6]])\n",
    "    p3 = pool.apply_async(build_data, [3,EEG_audio,ids[2::6]])\n",
    "    p4 = pool.apply_async(build_data, [4,EEG_audio,ids[3::6]])\n",
    "    p5 = pool.apply_async(build_data, [5,EEG_audio,ids[4::6]])\n",
    "    p6 = pool.apply_async(build_data, [6,EEG_audio,ids[5::6]])\n",
    "    ans1 = p1.get(timeout=t_out)\n",
    "    ans2 = p2.get(timeout=t_out)\n",
    "    ans3 = p3.get(timeout=t_out)\n",
    "    ans4 = p4.get(timeout=t_out)\n",
    "    ans5 = p5.get(timeout=t_out)\n",
    "    ans6 = p6.get(timeout=t_out)\n",
    "    X = np.concatenate([ans1[0] , ans2[0], ans3[0], ans4[0] ,ans5[0], ans6[0]])\n",
    "    Y = np.concatenate([ans1[1] , ans2[1], ans3[1], ans4[1] ,ans5[1], ans6[1]])\n",
    "    freq = ans1[2]\n",
    "    print(X.shape, Y.shape)\n",
    "finally:\n",
    "    print(\"========= close ========\")\n",
    "    pool.close() \n",
    "    pool.terminate()"
   ],
   "outputs": [
    {
     "output_type": "stream",
     "name": "stdout",
     "text": [
      "c | Accuracy: 0.63 Scores: 0.63 (+/- 0.04)\n",
      "o | Accuracy: 0.51 Scores: 0.51 (+/- 0.01)\n",
      " Averag accuracy: 0.563111111111111 Average Score: 0.5635555555555556 Average Variance: 0.011140640852069473\n",
      "Best Score is 0.5682222222222222 at index 12 with combination ['Alpha' 'Beta']\n"
     ]
    },
    {
     "output_type": "stream",
     "name": "stdout",
     "text": [
      "p_no=1|index=0|id=10\n"
     ]
    },
    {
     "output_type": "stream",
     "name": "stdout",
     "text": [
      "p_no=2|index=0|id=12\n"
     ]
    },
    {
     "output_type": "stream",
     "name": "stdout",
     "text": [
      "p_no=3|index=0|id=13\n"
     ]
    },
    {
     "output_type": "stream",
     "name": "stdout",
     "text": [
      "p_no=4|index=0|id=14\n"
     ]
    },
    {
     "output_type": "stream",
     "name": "stdout",
     "text": [
      "p_no=5|index=0|id=15\n"
     ]
    },
    {
     "output_type": "stream",
     "name": "stdout",
     "text": [
      "p_no=6|index=0|id=16\n"
     ]
    },
    {
     "output_type": "stream",
     "name": "stdout",
     "text": [
      "p_no=1|index=1|id=17\n"
     ]
    },
    {
     "output_type": "stream",
     "name": "stdout",
     "text": [
      "p_no=3|index=1|id=2\n"
     ]
    },
    {
     "output_type": "stream",
     "name": "stdout",
     "text": [
      "p_no=2|index=1|id=18\n"
     ]
    },
    {
     "output_type": "stream",
     "name": "stdout",
     "text": [
      "p_no=4|index=1|id=20\n"
     ]
    },
    {
     "output_type": "stream",
     "name": "stdout",
     "text": [
      "p_no=6|index=1|id=22\n"
     ]
    },
    {
     "output_type": "stream",
     "name": "stdout",
     "text": [
      "p_no=5|index=1|id=21\n"
     ]
    },
    {
     "output_type": "stream",
     "name": "stdout",
     "text": [
      "p_no=1|index=2|id=23\n"
     ]
    },
    {
     "output_type": "stream",
     "name": "stdout",
     "text": [
      "p_no=6|index=2|id=29\n"
     ]
    },
    {
     "output_type": "stream",
     "name": "stdout",
     "text": [
      "p_no=2|index=2|id=25\n"
     ]
    },
    {
     "output_type": "stream",
     "name": "stdout",
     "text": [
      "p_no=3|index=2|id=26\n"
     ]
    },
    {
     "output_type": "stream",
     "name": "stdout",
     "text": [
      "p_no=4|index=2|id=27\n"
     ]
    },
    {
     "output_type": "stream",
     "name": "stdout",
     "text": [
      "p_no=5|index=2|id=28\n"
     ]
    },
    {
     "output_type": "stream",
     "name": "stdout",
     "text": [
      "p_no=1|index=3|id=3\n"
     ]
    },
    {
     "output_type": "stream",
     "name": "stdout",
     "text": [
      "p_no=3|index=3|id=31\n"
     ]
    },
    {
     "output_type": "stream",
     "name": "stdout",
     "text": [
      "p_no=6|index=3|id=34\n"
     ]
    },
    {
     "output_type": "stream",
     "name": "stdout",
     "text": [
      "p_no=2|index=3|id=30\n"
     ]
    },
    {
     "output_type": "stream",
     "name": "stdout",
     "text": [
      "p_no=5|index=3|id=33\n"
     ]
    },
    {
     "output_type": "stream",
     "name": "stdout",
     "text": [
      "p_no=4|index=3|id=32\n"
     ]
    },
    {
     "output_type": "stream",
     "name": "stdout",
     "text": [
      "p_no=1|index=4|id=35\n"
     ]
    },
    {
     "output_type": "stream",
     "name": "stdout",
     "text": [
      "p_no=6|index=4|id=9\n"
     ]
    },
    {
     "output_type": "stream",
     "name": "stdout",
     "text": [
      "p_no=3|index=4|id=6\n"
     ]
    },
    {
     "output_type": "stream",
     "name": "stdout",
     "text": [
      "p_no=2|index=4|id=5\n"
     ]
    },
    {
     "output_type": "stream",
     "name": "stdout",
     "text": [
      "p_no=4|index=4|id=7\n"
     ]
    },
    {
     "output_type": "stream",
     "name": "stdout",
     "text": [
      "p_no=5|index=4|id=8\n"
     ]
    },
    {
     "output_type": "stream",
     "name": "stdout",
     "text": [
      "1 done| [10 17 23  3 35]\n"
     ]
    },
    {
     "output_type": "stream",
     "name": "stdout",
     "text": [
      "6 done| [16 22 29 34  9]\n"
     ]
    },
    {
     "output_type": "stream",
     "name": "stdout",
     "text": [
      "3 done| [13  2 26 31  6]\n"
     ]
    },
    {
     "output_type": "stream",
     "name": "stdout",
     "text": [
      "5 done| [15 21 28 33  8]\n"
     ]
    },
    {
     "output_type": "stream",
     "name": "stdout",
     "text": [
      "4 done| [14 20 27 32  7]\n"
     ]
    }
   ],
   "metadata": {}
  },
  {
   "cell_type": "code",
   "execution_count": 16,
   "source": [
    "X,Y = shuffle(X,Y)\n",
    "bands = []\n",
    "for filt in filter_list:\n",
    "    pt = np.argwhere((freq >= filt[0]) & (freq <= filt[1])).reshape(-1)\n",
    "    bands.append(pt)\n",
    "bands = np.array(bands)\n",
    "\n",
    "result_audio = []\n",
    "best_audio = 0\n",
    "best_audio_idx = -1\n",
    "best_audio_comb = None\n",
    "for r in [1,2,3,4,5]:\n",
    "    print(\"=\"*20,f\"Number {r}\",\"=\"*20)\n",
    "    for comb in combinations([0,1,2,3,4],r):\n",
    "        print(\" \",band_names[list(comb)])\n",
    "        selected_x = None\n",
    "        # print(bands[ list(comb) ])\n",
    "        for pt in bands[ list(comb) ]:\n",
    "            # print(pt)\n",
    "            if(type(selected_x) == type(None)): selected_x = X[:,:,pt].mean(axis=2)\n",
    "            else:\n",
    "                selected_x = np.concatenate([selected_x, X[:,:,pt].mean(axis=2)], axis=1)\n",
    "        # print(selected_x.shape)\n",
    "        # pts = np.concatenate( bands[ list(comb) ] )\n",
    "        result = np.array(get_accuracy(selected_x,Y))\n",
    "        print(\" Averag accuracy:\", result[:,0].mean(), \"Average Score:\", result[:,1].mean(), \"Average Variance:\", result[:,2].mean())\n",
    "        result_audio.append(result)\n",
    "        if(result[:,1].mean() > best_audio):\n",
    "            best_audio = result[:,1].mean()\n",
    "            best_audio_idx = len(result_audio)-1\n",
    "            best_audio_comb = band_names[ list(comb) ]\n",
    "\n",
    "print(f\"Best Score is {best_audio} at index {best_audio_idx} with combination {best_audio_comb}\")"
   ],
   "outputs": [
    {
     "output_type": "stream",
     "name": "stdout",
     "text": [
      "2 done| [12 18 25 30  5]\n",
      "(1500, 9, 65) (1500, 6)\n",
      "========= close ========\n",
      "==================== Number 1 ====================\n",
      "  ['Delta']\n",
      "h | Accuracy: 0.50 Scores: 0.50 (+/- 0.01)\n"
     ]
    },
    {
     "output_type": "stream",
     "name": "stdout",
     "text": [
      "e | Accuracy: 0.60 Scores: 0.61 (+/- 0.02)\n",
      "x | Accuracy: 0.56 Scores: 0.56 (+/- 0.03)\n",
      "a | Accuracy: 0.51 Scores: 0.51 (+/- 0.02)\n",
      "c | Accuracy: 0.59 Scores: 0.59 (+/- 0.03)\n",
      "o | Accuracy: 0.51 Scores: 0.52 (+/- 0.01)\n",
      " Averag accuracy: 0.5465555555555556 Average Score: 0.5465555555555556 Average Variance: 0.00997693255132547\n",
      "  ['Theta']\n",
      "h | Accuracy: 0.50 Scores: 0.51 (+/- 0.01)\n",
      "e | Accuracy: 0.60 Scores: 0.60 (+/- 0.02)\n",
      "x | Accuracy: 0.57 Scores: 0.57 (+/- 0.04)\n",
      "a | Accuracy: 0.50 Scores: 0.50 (+/- 0.01)\n",
      "c | Accuracy: 0.59 Scores: 0.59 (+/- 0.03)\n",
      "o | Accuracy: 0.51 Scores: 0.52 (+/- 0.02)\n",
      " Averag accuracy: 0.544 Average Score: 0.5452222222222222 Average Variance: 0.012002610583359101\n",
      "  ['Alpha']\n",
      "h | Accuracy: 0.52 Scores: 0.52 (+/- 0.03)\n",
      "e | Accuracy: 0.59 Scores: 0.59 (+/- 0.02)\n",
      "x | Accuracy: 0.59 Scores: 0.60 (+/- 0.04)\n",
      "a | Accuracy: 0.52 Scores: 0.52 (+/- 0.04)\n",
      "c | Accuracy: 0.56 Scores: 0.55 (+/- 0.03)\n",
      "o | Accuracy: 0.50 Scores: 0.55 (+/- 0.14)\n",
      " Averag accuracy: 0.546 Average Score: 0.5535555555555556 Average Variance: 0.02486565142935578\n",
      "  ['Beta']\n"
     ]
    },
    {
     "output_type": "stream",
     "name": "stdout",
     "text": [
      "h | Accuracy: 0.56 Scores: 0.56 (+/- 0.03)\n",
      "e | Accuracy: 0.63 Scores: 0.64 (+/- 0.03)\n",
      "x | Accuracy: 0.53 Scores: 0.53 (+/- 0.03)\n",
      "a | Accuracy: 0.54 Scores: 0.54 (+/- 0.02)\n",
      "c | Accuracy: 0.69 Scores: 0.69 (+/- 0.01)\n",
      "o | Accuracy: 0.49 Scores: 0.48 (+/- 0.03)\n",
      " Averag accuracy: 0.572 Average Score: 0.573111111111111 Average Variance: 0.012890678459699814\n",
      "  ['Gamma']\n",
      "h | Accuracy: 0.56 Scores: 0.54 (+/- 0.06)\n",
      "e | Accuracy: 0.40 Scores: 0.41 (+/- 0.02)\n",
      "x | Accuracy: 0.53 Scores: 0.53 (+/- 0.01)\n",
      "a | Accuracy: 0.51 Scores: 0.51 (+/- 0.03)\n",
      "c | Accuracy: 0.67 Scores: 0.67 (+/- 0.04)\n",
      "o | Accuracy: 0.45 Scores: 0.48 (+/- 0.06)\n",
      " Averag accuracy: 0.521 Average Score: 0.5236666666666666 Average Variance: 0.018627804743709234\n",
      "==================== Number 2 ====================\n",
      "  ['Delta' 'Theta']\n",
      "h | Accuracy: 0.50 Scores: 0.50 (+/- 0.01)\n",
      "e | Accuracy: 0.60 Scores: 0.60 (+/- 0.03)\n",
      "x | Accuracy: 0.57 Scores: 0.57 (+/- 0.03)\n"
     ]
    },
    {
     "output_type": "stream",
     "name": "stdout",
     "text": [
      "a | Accuracy: 0.50 Scores: 0.50 (+/- 0.02)\n",
      "c | Accuracy: 0.59 Scores: 0.59 (+/- 0.04)\n",
      "o | Accuracy: 0.51 Scores: 0.51 (+/- 0.01)\n",
      " Averag accuracy: 0.5467777777777778 Average Score: 0.5461111111111112 Average Variance: 0.011702412047781462\n",
      "  ['Delta' 'Alpha']\n",
      "h | Accuracy: 0.52 Scores: 0.52 (+/- 0.02)\n",
      "e | Accuracy: 0.60 Scores: 0.60 (+/- 0.03)\n",
      "x | Accuracy: 0.58 Scores: 0.58 (+/- 0.03)\n",
      "a | Accuracy: 0.51 Scores: 0.51 (+/- 0.03)\n",
      "c | Accuracy: 0.59 Scores: 0.58 (+/- 0.02)\n",
      "o | Accuracy: 0.51 Scores: 0.52 (+/- 0.01)\n",
      " Averag accuracy: 0.5517777777777778 Average Score: 0.5526666666666668 Average Variance: 0.011904601783626801\n",
      "  ['Delta' 'Beta']\n",
      "h | Accuracy: 0.54 Scores: 0.55 (+/- 0.01)\n",
      "e | Accuracy: 0.60 Scores: 0.61 (+/- 0.02)\n",
      "x | Accuracy: 0.56 Scores: 0.56 (+/- 0.03)\n",
      "a | Accuracy: 0.54 Scores: 0.54 (+/- 0.03)\n",
      "c | Accuracy: 0.66 Scores: 0.66 (+/- 0.03)\n",
      "o | Accuracy: 0.51 Scores: 0.51 (+/- 0.02)\n",
      " Averag accuracy: 0.5698888888888889 Average Score: 0.571111111111111 Average Variance: 0.012145749370006965\n",
      "  ['Delta' 'Gamma']\n",
      "h | Accuracy: 0.51 Scores: 0.53 (+/- 0.05)\n",
      "e | Accuracy: 0.61 Scores: 0.58 (+/- 0.11)\n"
     ]
    },
    {
     "output_type": "stream",
     "name": "stdout",
     "text": [
      "x | Accuracy: 0.56 Scores: 0.56 (+/- 0.03)\n",
      "a | Accuracy: 0.52 Scores: 0.51 (+/- 0.03)\n",
      "c | Accuracy: 0.65 Scores: 0.65 (+/- 0.05)\n",
      "o | Accuracy: 0.51 Scores: 0.51 (+/- 0.02)\n",
      " Averag accuracy: 0.5594444444444444 Average Score: 0.5565555555555556 Average Variance: 0.023289892657266636\n",
      "  ['Theta' 'Alpha']\n",
      "h | Accuracy: 0.52 Scores: 0.52 (+/- 0.02)\n",
      "e | Accuracy: 0.59 Scores: 0.59 (+/- 0.03)\n",
      "x | Accuracy: 0.59 Scores: 0.59 (+/- 0.05)\n",
      "a | Accuracy: 0.51 Scores: 0.51 (+/- 0.02)\n",
      "c | Accuracy: 0.58 Scores: 0.58 (+/- 0.03)\n",
      "o | Accuracy: 0.51 Scores: 0.51 (+/- 0.03)\n",
      " Averag accuracy: 0.551 Average Score: 0.5507777777777777 Average Variance: 0.014852628405711854\n",
      "  ['Theta' 'Beta']\n",
      "h | Accuracy: 0.55 Scores: 0.55 (+/- 0.03)\n",
      "e | Accuracy: 0.60 Scores: 0.60 (+/- 0.02)\n",
      "x | Accuracy: 0.57 Scores: 0.57 (+/- 0.04)\n",
      "a | Accuracy: 0.54 Scores: 0.54 (+/- 0.03)\n",
      "c | Accuracy: 0.68 Scores: 0.68 (+/- 0.03)\n"
     ]
    },
    {
     "output_type": "stream",
     "name": "stdout",
     "text": [
      "o | Accuracy: 0.50 Scores: 0.50 (+/- 0.03)\n",
      " Averag accuracy: 0.5728888888888889 Average Score: 0.5725555555555556 Average Variance: 0.013752160619393819\n",
      "  ['Theta' 'Gamma']\n",
      "h | Accuracy: 0.52 Scores: 0.54 (+/- 0.05)\n",
      "e | Accuracy: 0.60 Scores: 0.54 (+/- 0.15)\n",
      "x | Accuracy: 0.57 Scores: 0.57 (+/- 0.03)\n",
      "a | Accuracy: 0.51 Scores: 0.51 (+/- 0.03)\n",
      "c | Accuracy: 0.66 Scores: 0.66 (+/- 0.04)\n",
      "o | Accuracy: 0.51 Scores: 0.51 (+/- 0.02)\n",
      " Averag accuracy: 0.5615555555555556 Average Score: 0.5533333333333333 Average Variance: 0.027237149349166264\n",
      "  ['Alpha' 'Beta']\n",
      "h | Accuracy: 0.58 Scores: 0.58 (+/- 0.03)\n",
      "e | Accuracy: 0.60 Scores: 0.60 (+/- 0.02)\n",
      "x | Accuracy: 0.59 Scores: 0.59 (+/- 0.05)\n",
      "a | Accuracy: 0.55 Scores: 0.55 (+/- 0.03)\n",
      "c | Accuracy: 0.68 Scores: 0.68 (+/- 0.03)\n",
      "o | Accuracy: 0.48 Scores: 0.49 (+/- 0.02)\n",
      " Averag accuracy: 0.5795555555555555 Average Score: 0.5805555555555555 Average Variance: 0.015107068224672908\n",
      "  ['Alpha' 'Gamma']\n",
      "h | Accuracy: 0.56 Scores: 0.56 (+/- 0.04)\n",
      "e | Accuracy: 0.57 Scores: 0.51 (+/- 0.16)\n",
      "x | Accuracy: 0.58 Scores: 0.58 (+/- 0.05)\n"
     ]
    },
    {
     "output_type": "stream",
     "name": "stdout",
     "text": [
      "a | Accuracy: 0.53 Scores: 0.53 (+/- 0.05)\n",
      "c | Accuracy: 0.65 Scores: 0.66 (+/- 0.02)\n",
      "o | Accuracy: 0.49 Scores: 0.49 (+/- 0.07)\n",
      " Averag accuracy: 0.5631111111111111 Average Score: 0.5551111111111111 Average Variance: 0.03248332457608639\n",
      "  ['Beta' 'Gamma']\n",
      "h | Accuracy: 0.56 Scores: 0.56 (+/- 0.03)\n",
      "e | Accuracy: 0.43 Scores: 0.52 (+/- 0.24)\n",
      "x | Accuracy: 0.53 Scores: 0.54 (+/- 0.03)\n",
      "a | Accuracy: 0.54 Scores: 0.54 (+/- 0.03)\n",
      "c | Accuracy: 0.69 Scores: 0.69 (+/- 0.03)\n",
      "o | Accuracy: 0.48 Scores: 0.48 (+/- 0.02)\n",
      " Averag accuracy: 0.5402222222222222 Average Score: 0.5533333333333333 Average Variance: 0.030979627073077526\n",
      "==================== Number 3 ====================\n",
      "  ['Delta' 'Theta' 'Alpha']\n",
      "h | Accuracy: 0.52 Scores: 0.52 (+/- 0.01)\n",
      "e | Accuracy: 0.60 Scores: 0.60 (+/- 0.03)\n",
      "x | Accuracy: 0.59 Scores: 0.59 (+/- 0.04)\n",
      "a | Accuracy: 0.51 Scores: 0.51 (+/- 0.02)\n",
      "c | Accuracy: 0.59 Scores: 0.59 (+/- 0.04)\n",
      "o | Accuracy: 0.52 Scores: 0.51 (+/- 0.01)\n",
      " Averag accuracy: 0.5518888888888889 Average Score: 0.5514444444444445 Average Variance: 0.012467324457256032\n",
      "  ['Delta' 'Theta' 'Beta']\n"
     ]
    },
    {
     "output_type": "stream",
     "name": "stdout",
     "text": [
      "h | Accuracy: 0.54 Scores: 0.54 (+/- 0.03)\n",
      "e | Accuracy: 0.60 Scores: 0.60 (+/- 0.03)\n",
      "x | Accuracy: 0.57 Scores: 0.57 (+/- 0.03)\n",
      "a | Accuracy: 0.52 Scores: 0.53 (+/- 0.03)\n",
      "c | Accuracy: 0.65 Scores: 0.65 (+/- 0.05)\n",
      "o | Accuracy: 0.51 Scores: 0.51 (+/- 0.01)\n",
      " Averag accuracy: 0.5653333333333334 Average Score: 0.5642222222222223 Average Variance: 0.015735413387325137\n",
      "  ['Delta' 'Theta' 'Gamma']\n",
      "h | Accuracy: 0.51 Scores: 0.52 (+/- 0.04)\n",
      "e | Accuracy: 0.60 Scores: 0.60 (+/- 0.03)\n",
      "x | Accuracy: 0.57 Scores: 0.57 (+/- 0.04)\n",
      "a | Accuracy: 0.51 Scores: 0.51 (+/- 0.03)\n",
      "c | Accuracy: 0.64 Scores: 0.65 (+/- 0.05)\n",
      "o | Accuracy: 0.51 Scores: 0.51 (+/- 0.01)\n",
      " Averag accuracy: 0.5567777777777777 Average Score: 0.5597777777777778 Average Variance: 0.0170858533568949\n",
      "  ['Delta' 'Alpha' 'Beta']\n",
      "h | Accuracy: 0.56 Scores: 0.56 (+/- 0.03)\n",
      "e | Accuracy: 0.60 Scores: 0.60 (+/- 0.03)\n",
      "x | Accuracy: 0.58 Scores: 0.58 (+/- 0.03)\n",
      "a | Accuracy: 0.53 Scores: 0.53 (+/- 0.04)\n"
     ]
    },
    {
     "output_type": "stream",
     "name": "stdout",
     "text": [
      "c | Accuracy: 0.65 Scores: 0.65 (+/- 0.04)\n",
      "o | Accuracy: 0.51 Scores: 0.51 (+/- 0.02)\n",
      " Averag accuracy: 0.5731111111111112 Average Score: 0.5738888888888889 Average Variance: 0.01597081727301388\n",
      "  ['Delta' 'Alpha' 'Gamma']\n",
      "h | Accuracy: 0.53 Scores: 0.54 (+/- 0.04)\n",
      "e | Accuracy: 0.60 Scores: 0.60 (+/- 0.04)\n",
      "x | Accuracy: 0.58 Scores: 0.58 (+/- 0.03)\n",
      "a | Accuracy: 0.51 Scores: 0.52 (+/- 0.03)\n",
      "c | Accuracy: 0.65 Scores: 0.65 (+/- 0.04)\n",
      "o | Accuracy: 0.51 Scores: 0.51 (+/- 0.01)\n",
      " Averag accuracy: 0.5634444444444444 Average Score: 0.5667777777777778 Average Variance: 0.016451285984157026\n",
      "  ['Delta' 'Beta' 'Gamma']\n",
      "h | Accuracy: 0.55 Scores: 0.56 (+/- 0.03)\n",
      "e | Accuracy: 0.60 Scores: 0.59 (+/- 0.08)\n",
      "x | Accuracy: 0.56 Scores: 0.56 (+/- 0.03)\n",
      "a | Accuracy: 0.54 Scores: 0.53 (+/- 0.03)\n",
      "c | Accuracy: 0.68 Scores: 0.68 (+/- 0.03)\n",
      "o | Accuracy: 0.51 Scores: 0.51 (+/- 0.02)\n",
      " Averag accuracy: 0.574 Average Score: 0.5704444444444444 Average Variance: 0.018280600429138132\n",
      "  ['Theta' 'Alpha' 'Beta']\n",
      "h | Accuracy: 0.56 Scores: 0.56 (+/- 0.03)\n"
     ]
    },
    {
     "output_type": "stream",
     "name": "stdout",
     "text": [
      "e | Accuracy: 0.59 Scores: 0.60 (+/- 0.03)\n",
      "x | Accuracy: 0.59 Scores: 0.59 (+/- 0.05)\n",
      "a | Accuracy: 0.53 Scores: 0.54 (+/- 0.04)\n",
      "c | Accuracy: 0.67 Scores: 0.67 (+/- 0.03)\n",
      "o | Accuracy: 0.51 Scores: 0.50 (+/- 0.01)\n",
      " Averag accuracy: 0.5757777777777778 Average Score: 0.5760000000000001 Average Variance: 0.015121096026726033\n",
      "  ['Theta' 'Alpha' 'Gamma']\n",
      "h | Accuracy: 0.53 Scores: 0.55 (+/- 0.05)\n",
      "e | Accuracy: 0.59 Scores: 0.59 (+/- 0.04)\n",
      "x | Accuracy: 0.59 Scores: 0.59 (+/- 0.04)\n",
      "a | Accuracy: 0.52 Scores: 0.52 (+/- 0.05)\n",
      "c | Accuracy: 0.65 Scores: 0.65 (+/- 0.04)\n",
      "o | Accuracy: 0.51 Scores: 0.51 (+/- 0.02)\n",
      " Averag accuracy: 0.5643333333333334 Average Score: 0.5673333333333334 Average Variance: 0.018851730784924366\n",
      "  ['Theta' 'Beta' 'Gamma']\n",
      "h | Accuracy: 0.56 Scores: 0.56 (+/- 0.04)\n",
      "e | Accuracy: 0.61 Scores: 0.55 (+/- 0.13)\n",
      "x | Accuracy: 0.57 Scores: 0.57 (+/- 0.04)\n",
      "a | Accuracy: 0.54 Scores: 0.53 (+/- 0.03)\n"
     ]
    },
    {
     "output_type": "stream",
     "name": "stdout",
     "text": [
      "c | Accuracy: 0.68 Scores: 0.68 (+/- 0.03)\n",
      "o | Accuracy: 0.50 Scores: 0.50 (+/- 0.04)\n",
      " Averag accuracy: 0.5753333333333334 Average Score: 0.5645555555555556 Average Variance: 0.02475888569761088\n",
      "  ['Alpha' 'Beta' 'Gamma']\n",
      "h | Accuracy: 0.58 Scores: 0.58 (+/- 0.03)\n",
      "e | Accuracy: 0.61 Scores: 0.54 (+/- 0.16)\n",
      "x | Accuracy: 0.58 Scores: 0.58 (+/- 0.04)\n",
      "a | Accuracy: 0.54 Scores: 0.54 (+/- 0.04)\n",
      "c | Accuracy: 0.68 Scores: 0.68 (+/- 0.02)\n",
      "o | Accuracy: 0.48 Scores: 0.49 (+/- 0.02)\n",
      " Averag accuracy: 0.5795555555555555 Average Score: 0.5707777777777777 Average Variance: 0.026558896296159377\n",
      "==================== Number 4 ====================\n",
      "  ['Delta' 'Theta' 'Alpha' 'Beta']\n",
      "h | Accuracy: 0.54 Scores: 0.54 (+/- 0.03)\n",
      "e | Accuracy: 0.60 Scores: 0.60 (+/- 0.03)\n",
      "x | Accuracy: 0.59 Scores: 0.59 (+/- 0.04)\n",
      "a | Accuracy: 0.53 Scores: 0.53 (+/- 0.03)\n",
      "c | Accuracy: 0.64 Scores: 0.64 (+/- 0.05)\n",
      "o | Accuracy: 0.52 Scores: 0.51 (+/- 0.01)\n",
      " Averag accuracy: 0.5693333333333334 Average Score: 0.5692222222222222 Average Variance: 0.015524777697788485\n",
      "  ['Delta' 'Theta' 'Alpha' 'Gamma']\n",
      "h | Accuracy: 0.52 Scores: 0.53 (+/- 0.04)\n"
     ]
    },
    {
     "output_type": "stream",
     "name": "stdout",
     "text": [
      "e | Accuracy: 0.60 Scores: 0.60 (+/- 0.04)\n",
      "x | Accuracy: 0.58 Scores: 0.59 (+/- 0.04)\n",
      "a | Accuracy: 0.52 Scores: 0.51 (+/- 0.03)\n",
      "c | Accuracy: 0.64 Scores: 0.64 (+/- 0.04)\n",
      "o | Accuracy: 0.51 Scores: 0.51 (+/- 0.01)\n",
      " Averag accuracy: 0.5623333333333334 Average Score: 0.5641111111111111 Average Variance: 0.016938394431495182\n",
      "  ['Delta' 'Theta' 'Beta' 'Gamma']\n",
      "h | Accuracy: 0.54 Scores: 0.55 (+/- 0.05)\n",
      "e | Accuracy: 0.60 Scores: 0.60 (+/- 0.04)\n",
      "x | Accuracy: 0.57 Scores: 0.57 (+/- 0.03)\n",
      "a | Accuracy: 0.52 Scores: 0.52 (+/- 0.04)\n",
      "c | Accuracy: 0.67 Scores: 0.67 (+/- 0.04)\n",
      "o | Accuracy: 0.51 Scores: 0.50 (+/- 0.01)\n",
      " Averag accuracy: 0.5681111111111111 Average Score: 0.5693333333333334 Average Variance: 0.017811439495268578\n",
      "  ['Delta' 'Alpha' 'Beta' 'Gamma']\n",
      "h | Accuracy: 0.56 Scores: 0.57 (+/- 0.04)\n",
      "e | Accuracy: 0.60 Scores: 0.60 (+/- 0.04)\n",
      "x | Accuracy: 0.58 Scores: 0.58 (+/- 0.03)\n"
     ]
    },
    {
     "output_type": "stream",
     "name": "stdout",
     "text": [
      "a | Accuracy: 0.53 Scores: 0.53 (+/- 0.04)\n",
      "c | Accuracy: 0.67 Scores: 0.67 (+/- 0.04)\n",
      "o | Accuracy: 0.51 Scores: 0.51 (+/- 0.01)\n",
      " Averag accuracy: 0.5752222222222222 Average Score: 0.5778888888888888 Average Variance: 0.01666963725575104\n",
      "  ['Theta' 'Alpha' 'Beta' 'Gamma']\n",
      "h | Accuracy: 0.57 Scores: 0.58 (+/- 0.03)\n",
      "e | Accuracy: 0.60 Scores: 0.60 (+/- 0.03)\n",
      "x | Accuracy: 0.59 Scores: 0.59 (+/- 0.04)\n",
      "a | Accuracy: 0.54 Scores: 0.53 (+/- 0.03)\n",
      "c | Accuracy: 0.67 Scores: 0.67 (+/- 0.02)\n",
      "o | Accuracy: 0.50 Scores: 0.50 (+/- 0.02)\n",
      " Averag accuracy: 0.5785555555555556 Average Score: 0.5783333333333333 Average Variance: 0.015590347530492344\n",
      "==================== Number 5 ====================\n",
      "  ['Delta' 'Theta' 'Alpha' 'Beta' 'Gamma']\n",
      "h | Accuracy: 0.55 Scores: 0.56 (+/- 0.05)\n",
      "e | Accuracy: 0.60 Scores: 0.60 (+/- 0.04)\n",
      "x | Accuracy: 0.58 Scores: 0.59 (+/- 0.03)\n",
      "a | Accuracy: 0.53 Scores: 0.53 (+/- 0.04)\n",
      "c | Accuracy: 0.67 Scores: 0.66 (+/- 0.04)\n"
     ]
    }
   ],
   "metadata": {}
  },
  {
   "cell_type": "code",
   "execution_count": 17,
   "source": [
    "result_image = np.array(result_image)\n",
    "result_audio = np.array(result_audio)\n"
   ],
   "outputs": [],
   "metadata": {}
  },
  {
   "cell_type": "code",
   "execution_count": 18,
   "source": [
    "traits = [\"h\",\"e\",\"x\",\"a\",\"c\",\"o\"]\n",
    "width =.35\n",
    "\n",
    "fig, ax = plt.subplots(figsize=(12,8))\n",
    "\n",
    "ax.bar(np.arange(6)      ,result_image[best_image_idx,:,0] * 100, width=width, label='image', ecolor='black', capsize=10)\n",
    "ax.bar(np.arange(6)+width,result_audio[best_audio_idx,:,0] * 100, width=width, label='audio', ecolor='black', capsize=10)\n",
    "\n",
    "ax.set_xlabel('Traits')\n",
    "ax.set_ylabel('Accuracy (%)')\n",
    "ax.set_title('Accuracy of each trait prediction')\n",
    "ax.set_xticks(np.arange(6) + width / 2)\n",
    "ax.set_xticklabels(traits)\n",
    "ax.legend()\n",
    "\n",
    "plt.show()"
   ],
   "outputs": [
    {
     "output_type": "stream",
     "name": "stdout",
     "text": [
      "o | Accuracy: 0.51 Scores: 0.51 (+/- 0.01)\n",
      " Averag accuracy: 0.5728888888888889 Average Score: 0.5743333333333333 Average Variance: 0.017276570973768227\n",
      "Best Score is 0.5805555555555555 at index 12 with combination ['Alpha' 'Beta']\n"
     ]
    },
    {
     "output_type": "display_data",
     "data": {
      "text/plain": [
       "<Figure size 864x576 with 1 Axes>"
      ],
      "image/png": "[encoded data removed]"
     },
     "metadata": {}
    }
   ],
   "metadata": {}
  },
  {
   "cell_type": "code",
   "execution_count": 19,
   "source": [
    "print(f\"On average, image accuracy is {round(result_image[best_image_idx,:,0].mean(),2)} and audio accuracy is {round(result_audio[best_audio_idx,:,0].mean(),2)}\")\n",
    "print(f\"On average, image    score is {round(result_image[best_image_idx,:,1].mean(),2)} and audio    score is {round(result_audio[best_audio_idx,:,1].mean(),2)}\")\n",
    "print(f\"On average, image      std is {round(result_image[best_image_idx,:,2].mean(),2)} and audio      std is {round(result_audio[best_audio_idx,:,2].mean(),2)}\")"
   ],
   "outputs": [],
   "metadata": {}
  },
  {
   "cell_type": "code",
   "execution_count": 20,
   "source": [
    "for index, trait in enumerate(traits):\n",
    "    print(f\"Image {trait}: Acc: {round(result_image[best_image_idx,index,0],2)} | score: {round(result_image[best_image_idx,index,1],2)} | std: score: {round(result_image[best_image_idx,index,2],2)}\" )\n",
    "    print(f\"Audio {trait}: Acc: {round(result_audio[best_audio_idx,index,0],2)} | score: {round(result_audio[best_audio_idx,index,1],2)} | std: score: {round(result_audio[best_audio_idx,index,2],2)}\" )\n",
    "    print()\n",
    "print(f\"Image: Best Score is {best_image} at index {best_image_idx} with combination {best_image_comb}\")\n",
    "print(f\"Audio: Best Score is {best_audio} at index {best_audio_idx} with combination {best_audio_comb}\")"
   ],
   "outputs": [
    {
     "output_type": "stream",
     "name": "stdout",
     "text": [
      "On average, image accuracy is 0.57 and audio accuracy is 0.58\n",
      "On average, image    score is 0.57 and audio    score is 0.58\n",
      "On average, image      std is 0.01 and audio      std is 0.02\n"
     ]
    }
   ],
   "metadata": {}
  },
  {
   "cell_type": "code",
   "execution_count": null,
   "source": [],
   "outputs": [
    {
     "output_type": "stream",
     "name": "stdout",
     "text": [
      "Image h: Acc: 0.53 | score: 0.53 | std: score: 0.01\n",
      "Audio h: Acc: 0.58 | score: 0.58 | std: score: 0.02\n",
      "\n",
      "Image e: Acc: 0.61 | score: 0.61 | std: score: 0.01\n",
      "Audio e: Acc: 0.6 | score: 0.6 | std: score: 0.01\n",
      "\n",
      "Image x: Acc: 0.56 | score: 0.57 | std: score: 0.01\n",
      "Audio x: Acc: 0.59 | score: 0.59 | std: score: 0.02\n",
      "\n",
      "Image a: Acc: 0.55 | score: 0.55 | std: score: 0.01\n",
      "Audio a: Acc: 0.55 | score: 0.55 | std: score: 0.02\n",
      "\n",
      "Image c: Acc: 0.64 | score: 0.65 | std: score: 0.03\n",
      "Audio c: Acc: 0.68 | score: 0.68 | std: score: 0.01\n",
      "\n",
      "Image o: Acc: 0.5 | score: 0.5 | std: score: 0.01\n",
      "Audio o: Acc: 0.48 | score: 0.49 | std: score: 0.01\n",
      "\n",
      "Image: Best Score is 0.5682222222222222 at index 12 with combination ['Alpha' 'Beta']\n",
      "Audio: Best Score is 0.5805555555555555 at index 12 with combination ['Alpha' 'Beta']\n"
     ]
    }
   ],
   "metadata": {}
  },
  {
   "cell_type": "code",
   "execution_count": null,
   "source": [],
   "outputs": [],
   "metadata": {}
  }
 ]
}